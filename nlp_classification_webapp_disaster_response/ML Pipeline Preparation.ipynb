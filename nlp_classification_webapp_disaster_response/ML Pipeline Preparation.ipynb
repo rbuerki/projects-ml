{
 "cells": [
  {
   "cell_type": "markdown",
   "metadata": {},
   "source": [
    "# ML Pipeline Preparation\n"
   ]
  },
  {
   "cell_type": "markdown",
   "metadata": {},
   "source": [
    "### Import libraries and load data\n"
   ]
  },
  {
   "cell_type": "code",
   "execution_count": 36,
   "metadata": {},
   "outputs": [
    {
     "name": "stdout",
     "output_type": "stream",
     "text": [
      "[nltk_data] Downloading package punkt to\n",
      "[nltk_data]     C:\\Users\\r2d4\\AppData\\Roaming\\nltk_data...\n",
      "[nltk_data]   Package punkt is already up-to-date!\n",
      "[nltk_data] Downloading package wordnet to\n",
      "[nltk_data]     C:\\Users\\r2d4\\AppData\\Roaming\\nltk_data...\n",
      "[nltk_data]   Package wordnet is already up-to-date!\n",
      "[nltk_data] Downloading package stopwords to\n",
      "[nltk_data]     C:\\Users\\r2d4\\AppData\\Roaming\\nltk_data...\n",
      "[nltk_data]   Package stopwords is already up-to-date!\n",
      "[nltk_data] Downloading package averaged_perceptron_tagger to\n",
      "[nltk_data]     C:\\Users\\r2d4\\AppData\\Roaming\\nltk_data...\n",
      "[nltk_data]   Package averaged_perceptron_tagger is already up-to-\n",
      "[nltk_data]       date!\n",
      "[nltk_data] Downloading package maxent_ne_chunker to\n",
      "[nltk_data]     C:\\Users\\r2d4\\AppData\\Roaming\\nltk_data...\n",
      "[nltk_data]   Package maxent_ne_chunker is already up-to-date!\n",
      "[nltk_data] Downloading package words to\n",
      "[nltk_data]     C:\\Users\\r2d4\\AppData\\Roaming\\nltk_data...\n",
      "[nltk_data]   Package words is already up-to-date!\n"
     ]
    }
   ],
   "source": [
    "import numpy as np\n",
    "import pandas as pd\n",
    "from sqlalchemy import create_engine\n",
    "\n",
    "from sklearn.model_selection import StratifiedShuffleSplit, GridSearchCV, train_test_split, StratifiedKFold, cross_validate\n",
    "from sklearn.feature_extraction.text import CountVectorizer, TfidfTransformer\n",
    "from sklearn.pipeline import Pipeline, FeatureUnion\n",
    "from sklearn.metrics import make_scorer, classification_report, f1_score\n",
    "from sklearn.externals import joblib\n",
    "# from sklearn.base import BaseEstimator, TransformerMixin\n",
    "\n",
    "from sklearn.multioutput import MultiOutputClassifier\n",
    "from sklearn.linear_model import LogisticRegression, SGDClassifier\n",
    "from sklearn.naive_bayes import MultinomialNB\n",
    "from sklearn.ensemble import RandomForestClassifier, GradientBoostingClassifier\n",
    "\n",
    "import re\n",
    "import nltk\n",
    "nltk.download(['punkt', 'wordnet', 'stopwords', 'averaged_perceptron_tagger', 'maxent_ne_chunker', 'words'])\n",
    "from nltk.corpus import stopwords\n",
    "from nltk import pos_tag, ne_chunk\n",
    "from nltk.tokenize import word_tokenize\n",
    "from nltk.stem.wordnet import WordNetLemmatizer\n",
    "\n",
    "# pipeline caching\n",
    "from tempfile import mkdtemp\n",
    "from shutil import rmtree\n",
    "from sklearn.utils import Memory\n",
    "\n",
    "# visualization\n",
    "import matplotlib.pyplot as plt\n",
    "import seaborn as sns\n",
    "sns.set(); color='rebeccapurple'\n",
    "%matplotlib inline  \n",
    "\n",
    "# display settings\n",
    "pd.set_option('max_colwidth', -1)\n",
    "pd.set_option('display.max_columns', None)  \n",
    "\n",
    "import time\n",
    "from tqdm import tqdm"
   ]
  },
  {
   "cell_type": "code",
   "execution_count": 2,
   "metadata": {},
   "outputs": [],
   "source": [
    "# load data from database with `read_sql_table`\n",
    "engine = create_engine('sqlite:///DisasterResponse.db')\n",
    "df = pd.read_sql_table('messages', engine)"
   ]
  },
  {
   "cell_type": "code",
   "execution_count": 3,
   "metadata": {},
   "outputs": [
    {
     "name": "stdout",
     "output_type": "stream",
     "text": [
      "<class 'pandas.core.frame.DataFrame'>\n",
      "RangeIndex: 25992 entries, 0 to 25991\n",
      "Data columns (total 39 columns):\n",
      "id                        25992 non-null int64\n",
      "message                   25992 non-null object\n",
      "original                  10021 non-null object\n",
      "genre                     25992 non-null object\n",
      "related                   25992 non-null int64\n",
      "request                   25992 non-null int64\n",
      "offer                     25992 non-null int64\n",
      "aid_related               25992 non-null int64\n",
      "medical_help              25992 non-null int64\n",
      "medical_products          25992 non-null int64\n",
      "search_and_rescue         25992 non-null int64\n",
      "security                  25992 non-null int64\n",
      "military                  25992 non-null int64\n",
      "water                     25992 non-null int64\n",
      "food                      25992 non-null int64\n",
      "shelter                   25992 non-null int64\n",
      "clothing                  25992 non-null int64\n",
      "money                     25992 non-null int64\n",
      "missing_people            25992 non-null int64\n",
      "refugees                  25992 non-null int64\n",
      "death                     25992 non-null int64\n",
      "other_aid                 25992 non-null int64\n",
      "infrastructure_related    25992 non-null int64\n",
      "transport                 25992 non-null int64\n",
      "buildings                 25992 non-null int64\n",
      "electricity               25992 non-null int64\n",
      "tools                     25992 non-null int64\n",
      "hospitals                 25992 non-null int64\n",
      "shops                     25992 non-null int64\n",
      "aid_centers               25992 non-null int64\n",
      "other_infrastructure      25992 non-null int64\n",
      "weather_related           25992 non-null int64\n",
      "floods                    25992 non-null int64\n",
      "storm                     25992 non-null int64\n",
      "fire                      25992 non-null int64\n",
      "earthquake                25992 non-null int64\n",
      "cold                      25992 non-null int64\n",
      "other_weather             25992 non-null int64\n",
      "direct_report             25992 non-null int64\n",
      "dtypes: int64(36), object(3)\n",
      "memory usage: 7.7+ MB\n"
     ]
    }
   ],
   "source": [
    "df.info()"
   ]
  },
  {
   "cell_type": "markdown",
   "metadata": {},
   "source": [
    "## Split data into training and test sets (with stratified sampling)\n",
    "Based on the results of the EDA (documented in separate `EDA.ipynb`) stratfied sampling is used for splitting into training and test set. The proportion of the different _numbers of active categories per message_ is to be preserved."
   ]
  },
  {
   "cell_type": "code",
   "execution_count": 4,
   "metadata": {},
   "outputs": [],
   "source": [
    "# create new column with total number of active categories per message\n",
    "df['total'] = df.iloc[:,4:40].sum(axis=1)\n",
    "# for StratifiedShuffleSlpit to work properly all values > 10 in ['total'] column will be set to 11. (Kind of oultier removal.)\n",
    "df['total'] = np.where((df['total'] >10), 11, df['total'])"
   ]
  },
  {
   "cell_type": "code",
   "execution_count": 5,
   "metadata": {},
   "outputs": [],
   "source": [
    "# create testset with stratified sampling according to the category count per message\n",
    "split = StratifiedShuffleSplit(n_splits = 1, test_size = 0.2, random_state = 111)\n",
    "for train_index, test_index in split.split(df, df['total']):\n",
    "    train = df.loc[train_index]\n",
    "    test = df.loc[test_index]\n",
    "    \n",
    "# safety-check\n",
    "assert np.abs(len(test) - (len(df) * 0.2)) <= 1, 'split got messed up'\n",
    "assert (round(df['related'].sum() / len(df),3)) == (round(train['related'].sum() / len(train),3)), 'not properly stratisfied'"
   ]
  },
  {
   "cell_type": "code",
   "execution_count": 6,
   "metadata": {},
   "outputs": [],
   "source": [
    "# remove 'total' column from train and test sets\n",
    "for set_ in (train, test):\n",
    "    set_.drop('total', axis=1, inplace=True)\n",
    "    \n",
    "# safety-check\n",
    "assert len(test.columns) == 39"
   ]
  },
  {
   "cell_type": "markdown",
   "metadata": {},
   "source": [
    "## Split into features an target variables"
   ]
  },
  {
   "cell_type": "code",
   "execution_count": 7,
   "metadata": {},
   "outputs": [],
   "source": [
    "X_train = train['message'].values\n",
    "Y_train = train.iloc[:, 4:39].values\n",
    "\n",
    "X_test = test['message'].values\n",
    "Y_test = test.iloc[:, 4:39].values"
   ]
  },
  {
   "cell_type": "code",
   "execution_count": 8,
   "metadata": {},
   "outputs": [
    {
     "data": {
      "text/plain": [
       "array(['Some 2,000 women protesting against the conduct of the elections were teargassed as they tried to converge on the local electoral commission offices in the southern oil city of Port Harcourt.',\n",
       "       'Good evening to all USA soldiers. we still suffer from this great event. We would love to handle your presence of authority. thank you'],\n",
       "      dtype=object)"
      ]
     },
     "execution_count": 8,
     "metadata": {},
     "output_type": "execute_result"
    }
   ],
   "source": [
    "#check\n",
    "X_train[:2]"
   ]
  },
  {
   "cell_type": "code",
   "execution_count": 9,
   "metadata": {},
   "outputs": [
    {
     "data": {
      "text/plain": [
       "array([[1, 0, 0, 1, 0, 0, 0, 0, 1, 0, 0, 0, 0, 0, 0, 0, 0, 0, 0, 0, 0, 0,\n",
       "        0, 0, 0, 0, 0, 0, 0, 0, 0, 0, 0, 0, 0],\n",
       "       [0, 0, 0, 0, 0, 0, 0, 0, 0, 0, 0, 0, 0, 0, 0, 0, 0, 0, 0, 0, 0, 0,\n",
       "        0, 0, 0, 0, 0, 0, 0, 0, 0, 0, 0, 0, 0]], dtype=int64)"
      ]
     },
     "execution_count": 9,
     "metadata": {},
     "output_type": "execute_result"
    }
   ],
   "source": [
    "#check\n",
    "Y_train[:2]"
   ]
  },
  {
   "cell_type": "markdown",
   "metadata": {},
   "source": [
    "## Preprocessing"
   ]
  },
  {
   "cell_type": "markdown",
   "metadata": {},
   "source": [
    "### Define tokenization function"
   ]
  },
  {
   "cell_type": "code",
   "execution_count": 13,
   "metadata": {},
   "outputs": [],
   "source": [
    "def tokenize_text(message):\n",
    "    \"\"\"Tokenization function to process text data. \"\"\"\n",
    "    \n",
    "    lemmatizer = WordNetLemmatizer()\n",
    "    stop_words = stopwords.words('english')\n",
    "    \n",
    "    # normalize case and remove punctuation\n",
    "    message = re.sub(r\"[^a-zA-Z0-9]\", \" \", message.lower())\n",
    "    # tokenize text\n",
    "    tokens = word_tokenize(message)\n",
    "    # lemmatize, stip and remove stop words\n",
    "    tokens = [lemmatizer.lemmatize(word.strip()) for word in tokens if word not in stop_words]\n",
    "    # add part-of-speech tags\n",
    "    tokens = pos_tag(tokens)\n",
    "    \n",
    "    return tokens"
   ]
  },
  {
   "cell_type": "code",
   "execution_count": 11,
   "metadata": {},
   "outputs": [
    {
     "name": "stdout",
     "output_type": "stream",
     "text": [
      "Some 2,000 women protesting against the conduct of the elections were teargassed as they tried to converge on the local electoral commission offices in the southern oil city of Port Harcourt.\n",
      "[('2', 'CD'), ('000', 'CD'), ('woman', 'NN'), ('protesting', 'VBG'), ('conduct', 'NN'), ('election', 'NN'), ('teargassed', 'VBD'), ('tried', 'JJ'), ('converge', 'NN'), ('local', 'JJ'), ('electoral', 'JJ'), ('commission', 'NN'), ('office', 'NN'), ('southern', 'JJ'), ('oil', 'NN'), ('city', 'NN'), ('port', 'NN'), ('harcourt', 'NN')] \n",
      "\n",
      "Good evening to all USA soldiers. we still suffer from this great event. We would love to handle your presence of authority. thank you\n",
      "[('good', 'JJ'), ('evening', 'NN'), ('usa', 'NN'), ('soldier', 'NN'), ('still', 'RB'), ('suffer', 'VBZ'), ('great', 'JJ'), ('event', 'NN'), ('would', 'MD'), ('love', 'VB'), ('handle', 'VB'), ('presence', 'NN'), ('authority', 'NN'), ('thank', 'NN')] \n",
      "\n"
     ]
    }
   ],
   "source": [
    "# check\n",
    "for message in X_train[:2]:\n",
    "    tokens = tokenize_text(message)\n",
    "    print(message)\n",
    "    print(tokens, '\\n')"
   ]
  },
  {
   "cell_type": "markdown",
   "metadata": {},
   "source": [
    "### Build preprocessing pipeline"
   ]
  },
  {
   "cell_type": "code",
   "execution_count": 12,
   "metadata": {},
   "outputs": [
    {
     "name": "stdout",
     "output_type": "stream",
     "text": [
      "Duration: 45.003615617752075 seconds\n"
     ]
    }
   ],
   "source": [
    "# define the classifier, wrapped in MultiOutputClassifier\n",
    "clf = RandomForestClassifier(n_estimators=100, random_state=1, n_jobs=-1)\n",
    "\n",
    "# build the pipeline\n",
    "pre_pipe = Pipeline([\n",
    "    ('vect', CountVectorizer(tokenizer=tokenize_text)),\n",
    "    ('tfidf', TfidfTransformer()),\n",
    "              ])\n",
    "\n",
    "start = time.time()\n",
    "\n",
    "\n",
    "X_train = pre_pipe.fit_transform(X_train)\n",
    "# train the pipeline\n",
    "# X_train = pipe.fit(X_train, Y_train)\n",
    "# # predict labels on test_set\n",
    "# Y_pred = model.predict(X_test)\n",
    "\n",
    "print('Duration: {} seconds'.format(time.time() - start))"
   ]
  },
  {
   "cell_type": "markdown",
   "metadata": {},
   "source": [
    "### Test different baseline models\n",
    "\n",
    "Evaluation of different possible classifiers, Validation with stratified k-fold CV. Models are:\n",
    "- LogisticRegression \n",
    "- RandomForestClassifier \n",
    "- XGBClassifier\n",
    "- SVC\n",
    "\n",
    "To handle the multi-labels they are wrapped into scikit-learn's [MultiOutputClassifier](http://scikit-learn.org/stable/modules/generated/sklearn.multioutput.MultiOutputClassifier.html) ([example here](https://scikit-learn.org/stable/modules/multiclass.html#multioutput-classification)).\n",
    "The scorer for the model comparision is f1-score with weighted average, taking the feature imbalance into account.\n"
   ]
  },
  {
   "cell_type": "code",
   "execution_count": 10,
   "metadata": {},
   "outputs": [],
   "source": [
    "classifiers = {'LogReg' :MultiOutputClassifier(LogisticRegression(solver='liblinear')),\n",
    "               'Random Forest' : MultiOutputClassifier(RandomForestClassifier(n_estimators=50)),\n",
    "               'Gradient Boosting' : MultiOutputClassifier(GradientBoostingClassifier(n_estimators=50)),\n",
    "                }\n",
    "\n",
    "scorer = make_scorer(f1_score, average='weighted')"
   ]
  },
  {
   "cell_type": "code",
   "execution_count": 14,
   "metadata": {},
   "outputs": [],
   "source": [
    "# for each model, fit to train set and validate with stratified 3-fold CV, store results in nested dict\n",
    "\n",
    "def compare_models(model_dict, X_train, y_train, scorer, cv=StratifiedKFold(3)):\n",
    "    \"\"\"Fit defined models to the train set and cross validate the results. \n",
    "       (This Funcion is built on top of sk-learn's cross_validate function.)\n",
    "              \n",
    "       ARGUMENTS:\n",
    "       model_dict: dict of names (k) and sk-learn model objects (v)\n",
    "       X_train: training features (df or array)\n",
    "       y_train: training labels (df or array)\n",
    "       scorer: evaluation metric for validation\n",
    "       cv: type of CV, default is StratifiedKFold(3)\n",
    "\n",
    "       \n",
    "       RETURNS:\n",
    "       results: dataframe with metrics.\n",
    "\"\"\"\n",
    "    # store results of cross_validate in nested dict\n",
    "    results = {}\n",
    "    \n",
    "    for name, model in tqdm(model_dict.items()):\n",
    "        try:  # standard type for data input is df\n",
    "            name = name\n",
    "            scores = cross_validate(\n",
    "                model, X_train, y_train, cv=cv, error_score='raise', \n",
    "                n_jobs=-1, scoring=scorer, return_train_score=False, \n",
    "                return_estimator=True\n",
    "            )\n",
    "        except:  # exception for classifiers that need data as array\n",
    "            name = name\n",
    "            scores = cross_validate(\n",
    "                model, X_train.toarray(), y_train, cv=cv, \n",
    "                error_score='raise', n_jobs=-1,\n",
    "                scoring=scorer, return_train_score=False, \n",
    "                return_estimator=True\n",
    "            )\n",
    "        \n",
    "        results[name] = scores\n",
    "    \n",
    "    # create dataframe with extra metrics (95_conf, total_time)\n",
    "    results = pd.DataFrame(results).T\n",
    "    results['estimator'] = results['estimator'].apply(lambda x: x[0])\n",
    "    results['95_conf'] = \\\n",
    "        results['test_score'].apply(lambda x: np.std(x) * 2)\n",
    "    for col in results.iloc[:,1:]:\n",
    "        results[col] = results[col].apply(lambda x: np.mean(x))\n",
    "    results['total_time'] = results['score_time'] + results['fit_time']\n",
    "    results = results[['estimator', 'test_score', '95_conf', \n",
    "                  'total_time', 'fit_time', 'score_time']]\n",
    "    \n",
    "    return results"
   ]
  },
  {
   "cell_type": "code",
   "execution_count": 15,
   "metadata": {},
   "outputs": [],
   "source": [
    "# define a function for plotting the main results of the model comparision\n",
    "def plot_comparision(results):\n",
    "    \"\"\"Plot copmarision of test scores and run times for cross validated\n",
    "       models.\n",
    "       \n",
    "       ARGUMENTS:\n",
    "       results: dataframe generated with 'compare_models' function.\n",
    "       \"\"\"\n",
    "    data = results.sort_values(by='test_score', ascending=False)\n",
    "    plt.figure(figsize=(18,6));\n",
    "    plt.subplot(1,2,1)\n",
    "    # plot the mean test scores\n",
    "    sns.barplot(x='test_score', y=data.index, data=data, color=\"rebeccapurple\")\n",
    "    plt.xlabel(scorer);\n",
    "    plt.subplot(1,2,2)\n",
    "    # Plot the mean total time\n",
    "    sns.set_color_codes(\"pastel\")\n",
    "    sns.barplot(x=\"total_time\", y=data.index, data=data,\n",
    "        label=\"Total\", color=\"rebeccapurple\")\n",
    "    # Plot the mean fit time\n",
    "    sns.set_color_codes(\"muted\")\n",
    "    sns.barplot(x='fit_time', y=data.index, data=data,\n",
    "        label=\"Fit\", color=\"yellow\")\n",
    "    plt.xlabel(\"Time for fitting (yellow) and scoring (purple)\");"
   ]
  },
  {
   "cell_type": "code",
   "execution_count": 16,
   "metadata": {},
   "outputs": [
    {
     "name": "stderr",
     "output_type": "stream",
     "text": [
      "100%|███████████████████████████████████████████████████████████████████████████████████| 3/3 [33:38<00:00, 511.05s/it]\n"
     ]
    }
   ],
   "source": [
    "eval_results = compare_models(classifiers, X_train, Y_train, scorer, cv=3)"
   ]
  },
  {
   "cell_type": "code",
   "execution_count": 20,
   "metadata": {},
   "outputs": [
    {
     "data": {
      "image/png": "[encoded data removed]",
      "text/plain": [
       "<Figure size 1296x432 with 2 Axes>"
      ]
     },
     "metadata": {
      "needs_background": "light"
     },
     "output_type": "display_data"
    }
   ],
   "source": [
    "plot_comparision(eval_results)"
   ]
  },
  {
   "cell_type": "code",
   "execution_count": 17,
   "metadata": {},
   "outputs": [
    {
     "data": {
      "text/html": [
       "<div>\n",
       "<style scoped>\n",
       "    .dataframe tbody tr th:only-of-type {\n",
       "        vertical-align: middle;\n",
       "    }\n",
       "\n",
       "    .dataframe tbody tr th {\n",
       "        vertical-align: top;\n",
       "    }\n",
       "\n",
       "    .dataframe thead th {\n",
       "        text-align: right;\n",
       "    }\n",
       "</style>\n",
       "<table border=\"1\" class=\"dataframe\">\n",
       "  <thead>\n",
       "    <tr style=\"text-align: right;\">\n",
       "      <th></th>\n",
       "      <th>estimator</th>\n",
       "      <th>test_score</th>\n",
       "      <th>95_conf</th>\n",
       "      <th>total_time</th>\n",
       "      <th>fit_time</th>\n",
       "      <th>score_time</th>\n",
       "    </tr>\n",
       "  </thead>\n",
       "  <tbody>\n",
       "    <tr>\n",
       "      <th>LogReg</th>\n",
       "      <td>MultiOutputClassifier(estimator=LogisticRegression(C=1.0, class_weight=None, dual=False, fit_intercept=True,\\n          intercept_scaling=1, max_iter=100, multi_class='warn',\\n          n_jobs=None, penalty='l2', random_state=None, solver='liblinear',\\n          tol=0.0001, verbose=0, warm_start=False),\\n           n_jobs=None)</td>\n",
       "      <td>0.533876</td>\n",
       "      <td>0.004504</td>\n",
       "      <td>4.652886</td>\n",
       "      <td>4.377956</td>\n",
       "      <td>0.274931</td>\n",
       "    </tr>\n",
       "    <tr>\n",
       "      <th>Random Forest</th>\n",
       "      <td>MultiOutputClassifier(estimator=RandomForestClassifier(bootstrap=True, class_weight=None, criterion='gini',\\n            max_depth=None, max_features='auto', max_leaf_nodes=None,\\n            min_impurity_decrease=0.0, min_impurity_split=None,\\n            min_samples_leaf=1, min_samples_split=2,\\n            min_weight_fraction_leaf=0.0, n_estimators=50, n_jobs=None,\\n            oob_score=False, random_state=None, verbose=0,\\n            warm_start=False),\\n           n_jobs=None)</td>\n",
       "      <td>0.534072</td>\n",
       "      <td>0.009138</td>\n",
       "      <td>1058.259256</td>\n",
       "      <td>1052.088836</td>\n",
       "      <td>6.170421</td>\n",
       "    </tr>\n",
       "    <tr>\n",
       "      <th>Gradient Boosting</th>\n",
       "      <td>MultiOutputClassifier(estimator=GradientBoostingClassifier(criterion='friedman_mse', init=None,\\n              learning_rate=0.1, loss='deviance', max_depth=3,\\n              max_features=None, max_leaf_nodes=None,\\n              min_impurity_decrease=0.0, min_impurity_split=None,\\n              min_samples_leaf=1, min_sampl...      subsample=1.0, tol=0.0001, validation_fraction=0.1,\\n              verbose=0, warm_start=False),\\n           n_jobs=None)</td>\n",
       "      <td>0.569825</td>\n",
       "      <td>0.008401</td>\n",
       "      <td>943.742876</td>\n",
       "      <td>943.293222</td>\n",
       "      <td>0.449654</td>\n",
       "    </tr>\n",
       "  </tbody>\n",
       "</table>\n",
       "</div>"
      ],
      "text/plain": [
       "                                                                                                                                                                                                                                                                                                                                                                                                                                                                                                                 estimator  \\\n",
       "LogReg             MultiOutputClassifier(estimator=LogisticRegression(C=1.0, class_weight=None, dual=False, fit_intercept=True,\\n          intercept_scaling=1, max_iter=100, multi_class='warn',\\n          n_jobs=None, penalty='l2', random_state=None, solver='liblinear',\\n          tol=0.0001, verbose=0, warm_start=False),\\n           n_jobs=None)                                                                                                                                                                 \n",
       "Random Forest      MultiOutputClassifier(estimator=RandomForestClassifier(bootstrap=True, class_weight=None, criterion='gini',\\n            max_depth=None, max_features='auto', max_leaf_nodes=None,\\n            min_impurity_decrease=0.0, min_impurity_split=None,\\n            min_samples_leaf=1, min_samples_split=2,\\n            min_weight_fraction_leaf=0.0, n_estimators=50, n_jobs=None,\\n            oob_score=False, random_state=None, verbose=0,\\n            warm_start=False),\\n           n_jobs=None)   \n",
       "Gradient Boosting  MultiOutputClassifier(estimator=GradientBoostingClassifier(criterion='friedman_mse', init=None,\\n              learning_rate=0.1, loss='deviance', max_depth=3,\\n              max_features=None, max_leaf_nodes=None,\\n              min_impurity_decrease=0.0, min_impurity_split=None,\\n              min_samples_leaf=1, min_sampl...      subsample=1.0, tol=0.0001, validation_fraction=0.1,\\n              verbose=0, warm_start=False),\\n           n_jobs=None)                                  \n",
       "\n",
       "                   test_score   95_conf   total_time     fit_time  score_time  \n",
       "LogReg             0.533876    0.004504  4.652886     4.377956     0.274931    \n",
       "Random Forest      0.534072    0.009138  1058.259256  1052.088836  6.170421    \n",
       "Gradient Boosting  0.569825    0.008401  943.742876   943.293222   0.449654    "
      ]
     },
     "execution_count": 17,
     "metadata": {},
     "output_type": "execute_result"
    }
   ],
   "source": [
    "eval_results"
   ]
  },
  {
   "cell_type": "code",
   "execution_count": 33,
   "metadata": {},
   "outputs": [
    {
     "name": "stderr",
     "output_type": "stream",
     "text": [
      "100%|████████████████████████████████████████████████████████████████████████████████████| 2/2 [00:04<00:00,  2.39s/it]\n"
     ]
    }
   ],
   "source": [
    "# testing two additional classifiers\n",
    "classifiers_2 = {'NB' : MultiOutputClassifier(MultinomialNB()),\n",
    "               'LinSVC' : MultiOutputClassifier(SGDClassifier(loss='hinge', class_weight='balanced')),\n",
    "                }\n",
    "\n",
    "eval_results_2 = compare_models(classifiers_2, X_train, Y_train, scorer, cv=3)"
   ]
  },
  {
   "cell_type": "code",
   "execution_count": 34,
   "metadata": {},
   "outputs": [
    {
     "data": {
      "image/png": "[encoded data removed]",
      "text/plain": [
       "<Figure size 1296x432 with 2 Axes>"
      ]
     },
     "metadata": {
      "needs_background": "light"
     },
     "output_type": "display_data"
    }
   ],
   "source": [
    "plot_comparision(eval_results_2)"
   ]
  },
  {
   "cell_type": "code",
   "execution_count": 35,
   "metadata": {},
   "outputs": [
    {
     "data": {
      "text/html": [
       "<div>\n",
       "<style scoped>\n",
       "    .dataframe tbody tr th:only-of-type {\n",
       "        vertical-align: middle;\n",
       "    }\n",
       "\n",
       "    .dataframe tbody tr th {\n",
       "        vertical-align: top;\n",
       "    }\n",
       "\n",
       "    .dataframe thead th {\n",
       "        text-align: right;\n",
       "    }\n",
       "</style>\n",
       "<table border=\"1\" class=\"dataframe\">\n",
       "  <thead>\n",
       "    <tr style=\"text-align: right;\">\n",
       "      <th></th>\n",
       "      <th>estimator</th>\n",
       "      <th>test_score</th>\n",
       "      <th>95_conf</th>\n",
       "      <th>total_time</th>\n",
       "      <th>fit_time</th>\n",
       "      <th>score_time</th>\n",
       "    </tr>\n",
       "  </thead>\n",
       "  <tbody>\n",
       "    <tr>\n",
       "      <th>NB</th>\n",
       "      <td>MultiOutputClassifier(estimator=MultinomialNB(alpha=1.0, class_prior=None, fit_prior=True),\\n           n_jobs=None)</td>\n",
       "      <td>0.358754</td>\n",
       "      <td>0.003940</td>\n",
       "      <td>0.499883</td>\n",
       "      <td>0.359297</td>\n",
       "      <td>0.140586</td>\n",
       "    </tr>\n",
       "    <tr>\n",
       "      <th>LinSVC</th>\n",
       "      <td>MultiOutputClassifier(estimator=SGDClassifier(alpha=0.0001, average=False, class_weight='balanced',\\n       early_stopping=False, epsilon=0.1, eta0=0.0, fit_intercept=True,\\n       l1_ratio=0.15, learning_rate='optimal', loss='hinge', max_iter=None,\\n       n_iter=None, n_iter_no_change=5, n_jobs=None, penalty='l2',\\n       power_t=0.5, random_state=None, shuffle=True, tol=None,\\n       validation_fraction=0.1, verbose=0, warm_start=False),\\n           n_jobs=None)</td>\n",
       "      <td>0.656381</td>\n",
       "      <td>0.007546</td>\n",
       "      <td>0.588407</td>\n",
       "      <td>0.458228</td>\n",
       "      <td>0.130179</td>\n",
       "    </tr>\n",
       "  </tbody>\n",
       "</table>\n",
       "</div>"
      ],
      "text/plain": [
       "                                                                                                                                                                                                                                                                                                                                                                                                                                                                                    estimator  \\\n",
       "NB      MultiOutputClassifier(estimator=MultinomialNB(alpha=1.0, class_prior=None, fit_prior=True),\\n           n_jobs=None)                                                                                                                                                                                                                                                                                                                                                                    \n",
       "LinSVC  MultiOutputClassifier(estimator=SGDClassifier(alpha=0.0001, average=False, class_weight='balanced',\\n       early_stopping=False, epsilon=0.1, eta0=0.0, fit_intercept=True,\\n       l1_ratio=0.15, learning_rate='optimal', loss='hinge', max_iter=None,\\n       n_iter=None, n_iter_no_change=5, n_jobs=None, penalty='l2',\\n       power_t=0.5, random_state=None, shuffle=True, tol=None,\\n       validation_fraction=0.1, verbose=0, warm_start=False),\\n           n_jobs=None)   \n",
       "\n",
       "        test_score   95_conf  total_time  fit_time  score_time  \n",
       "NB      0.358754    0.003940  0.499883    0.359297  0.140586    \n",
       "LinSVC  0.656381    0.007546  0.588407    0.458228  0.130179    "
      ]
     },
     "execution_count": 35,
     "metadata": {},
     "output_type": "execute_result"
    }
   ],
   "source": [
    "eval_results_2"
   ]
  },
  {
   "cell_type": "markdown",
   "metadata": {},
   "source": [
    "__Observation / Decision:__ Linear SVC (SGD with loss='hinge') scores best and will be further tuned for final modelling."
   ]
  },
  {
   "cell_type": "markdown",
   "metadata": {},
   "source": [
    "## Build full Pipeline and Improve Model with GridSearchCV"
   ]
  },
  {
   "cell_type": "code",
   "execution_count": 27,
   "metadata": {},
   "outputs": [],
   "source": [
    "# define the classifier\n",
    "clf = SGDClassifier(max_iter=5, tol=None, random_state=1, n_jobs=-1)\n",
    "\n",
    "def optimize_model(clf, X_train, y_train, scorer, cv=StratifiedKFold(3)):\n",
    "    \"\"\"Build a full nlp classification pipeline with GridSearchCV\n",
    "       for best parameters.\n",
    "    \n",
    "    ARGUMENTS:\n",
    "        clf: classifier (sk-learn model object)\n",
    "        X_train: training features (df or array)\n",
    "        y_train: training labels (df or array)\n",
    "        scorer: evaluation metric for validation\n",
    "        cv: type of CV, default is StratifiedKFold(3)\n",
    "        \n",
    "    RETURNS:\n",
    "        full_grid: grid search object\n",
    "        tuned_model: estimator with highest score\n",
    "    \"\"\"\n",
    "    \n",
    "    # create temporary folder to store pipeline transformers (cache)\n",
    "    cachedir = mkdtemp()\n",
    "    memory = Memory(location=cachedir, verbose=10)\n",
    "    \n",
    "    full_pipe = Pipeline([\n",
    "        ('vect', CountVectorizer(tokenizer=tokenize_text)),\n",
    "        ('tfidf', TfidfTransformer()),\n",
    "        ('clf', MultiOutputClassifier(clf))],\n",
    "        memory=memory)\n",
    "\n",
    "    parameters = {\n",
    "#         'vect__ngram_range': ((1, 1), (1, 2)),\n",
    "        'vect__min_df': [1, 5],\n",
    "        'tfidf__use_idf': (True, False),\n",
    "        'clf__estimator__alpha': [0.0001, 0.001, 0.01],\n",
    "        }\n",
    "    \n",
    "\n",
    "    start = time.time()\n",
    "\n",
    "    # create grid search object\n",
    "    cv = GridSearchCV(full_pipe, param_grid=parameters, \n",
    "            scoring=scorer, cv=cv, error_score='raise', \n",
    "            n_jobs=1, verbose=1)\n",
    "    full_grid = cv.fit(X_train, Y_train) \n",
    "\n",
    "    return full_grid\n",
    "\n",
    "    # delete the temporary cache before exiting\n",
    "    rmtree(cachedir)\n",
    "\n",
    "    print('Duration: {} seconds'.format(time.time() - start))"
   ]
  },
  {
   "cell_type": "code",
   "execution_count": 28,
   "metadata": {},
   "outputs": [
    {
     "name": "stdout",
     "output_type": "stream",
     "text": [
      "Fitting 3 folds for each of 12 candidates, totalling 36 fits\n"
     ]
    },
    {
     "name": "stderr",
     "output_type": "stream",
     "text": [
      "[Parallel(n_jobs=1)]: Using backend SequentialBackend with 1 concurrent workers.\n"
     ]
    },
    {
     "name": "stdout",
     "output_type": "stream",
     "text": [
      "________________________________________________________________________________\n",
      "[Memory] Calling sklearn.pipeline._fit_transform_one...\n",
      "_fit_transform_one(CountVectorizer(analyzer='word', binary=False, decode_error='strict',\n",
      "        dtype=<class 'numpy.int64'>, encoding='utf-8', input='content',\n",
      "        lowercase=True, max_df=1.0, max_features=None, min_df=1,\n",
      "        ngram_range=(1, 1), preprocessor=None, stop_words=None,\n",
      "        strip_accents=None, token_pattern='(?u)\\\\b\\\\w\\\\w+\\\\b',\n",
      "        tokenizer=<function tokenize_text at 0x00000234F8B668C8>,\n",
      "        vocabulary=None), \n",
      "array(['Khotang is a key eastern stronghold of the ultra-leftist guerrillas, whose power is concentrated in the west.',\n",
      "       ...,\n",
      "       'I favorited a YouTube video Dog Senses Arcata Earthquake at News Station http youtu.be NzBnyRDwQxE?a'],\n",
      "      dtype=object), \n",
      "array([[1, ..., 1],\n",
      "       ...,\n",
      "       [1, ..., 0]], dtype=int64), None)\n"
     ]
    },
    {
     "name": "stderr",
     "output_type": "stream",
     "text": [
      "C:\\Users\\r2d4\\Anaconda3\\lib\\site-packages\\sklearn\\pipeline.py:230: UserWarning: Persisting input arguments took 3.46s to run.\n",
      "If this happens often in your code, it can cause performance problems \n",
      "(results will be correct in all cases). \n",
      "The reason for this is probably some large input arguments for a wrapped\n",
      " function (e.g. large strings).\n",
      "THIS IS A JOBLIB ISSUE. If you can, kindly provide the joblib's team with an\n",
      " example so that they can fix the problem.\n",
      "  **fit_params_steps[name])\n"
     ]
    },
    {
     "name": "stdout",
     "output_type": "stream",
     "text": [
      "_______________________________________________fit_transform_one - 30.8s, 0.5min\n",
      "________________________________________________________________________________\n",
      "[Memory] Calling sklearn.pipeline._fit_transform_one...\n",
      "_fit_transform_one(TfidfTransformer(norm='l2', smooth_idf=True, sublinear_tf=False, use_idf=True), <13862x30936 sparse matrix of type '<class 'numpy.int64'>'\n",
      "\twith 195084 stored elements in Compressed Sparse Row format>, \n",
      "array([[1, ..., 1],\n",
      "       ...,\n",
      "       [1, ..., 0]], dtype=int64), None)\n",
      "________________________________________________fit_transform_one - 0.0s, 0.0min\n"
     ]
    },
    {
     "name": "stderr",
     "output_type": "stream",
     "text": [
      "C:\\Users\\r2d4\\Anaconda3\\lib\\site-packages\\sklearn\\metrics\\classification.py:1143: UndefinedMetricWarning: F-score is ill-defined and being set to 0.0 in labels with no predicted samples.\n",
      "  'precision', 'predicted', average, warn_for)\n"
     ]
    },
    {
     "name": "stdout",
     "output_type": "stream",
     "text": [
      "________________________________________________________________________________\n",
      "[Memory] Calling sklearn.pipeline._fit_transform_one...\n",
      "_fit_transform_one(CountVectorizer(analyzer='word', binary=False, decode_error='strict',\n",
      "        dtype=<class 'numpy.int64'>, encoding='utf-8', input='content',\n",
      "        lowercase=True, max_df=1.0, max_features=None, min_df=1,\n",
      "        ngram_range=(1, 1), preprocessor=None, stop_words=None,\n",
      "        strip_accents=None, token_pattern='(?u)\\\\b\\\\w\\\\w+\\\\b',\n",
      "        tokenizer=<function tokenize_text at 0x00000234F8B668C8>,\n",
      "        vocabulary=None), \n",
      "array(['Some 2,000 women protesting against the conduct of the elections were teargassed as they tried to converge on the local electoral commission offices in the southern oil city of Port Harcourt.',\n",
      "       ...,\n",
      "       'I favorited a YouTube video Dog Senses Arcata Earthquake at News Station http youtu.be NzBnyRDwQxE?a'],\n",
      "      dtype=object), \n",
      "array([[1, ..., 0],\n",
      "       ...,\n",
      "       [1, ..., 0]], dtype=int64), None)\n"
     ]
    },
    {
     "name": "stderr",
     "output_type": "stream",
     "text": [
      "C:\\Users\\r2d4\\Anaconda3\\lib\\site-packages\\sklearn\\pipeline.py:230: UserWarning: Persisting input arguments took 3.40s to run.\n",
      "If this happens often in your code, it can cause performance problems \n",
      "(results will be correct in all cases). \n",
      "The reason for this is probably some large input arguments for a wrapped\n",
      " function (e.g. large strings).\n",
      "THIS IS A JOBLIB ISSUE. If you can, kindly provide the joblib's team with an\n",
      " example so that they can fix the problem.\n",
      "  **fit_params_steps[name])\n"
     ]
    },
    {
     "name": "stdout",
     "output_type": "stream",
     "text": [
      "_______________________________________________fit_transform_one - 30.9s, 0.5min\n",
      "________________________________________________________________________________\n",
      "[Memory] Calling sklearn.pipeline._fit_transform_one...\n",
      "_fit_transform_one(TfidfTransformer(norm='l2', smooth_idf=True, sublinear_tf=False, use_idf=True), <13862x30868 sparse matrix of type '<class 'numpy.int64'>'\n",
      "\twith 192166 stored elements in Compressed Sparse Row format>, \n",
      "array([[1, ..., 0],\n",
      "       ...,\n",
      "       [1, ..., 0]], dtype=int64), None)\n",
      "________________________________________________fit_transform_one - 0.0s, 0.0min\n"
     ]
    },
    {
     "name": "stderr",
     "output_type": "stream",
     "text": [
      "C:\\Users\\r2d4\\Anaconda3\\lib\\site-packages\\sklearn\\metrics\\classification.py:1143: UndefinedMetricWarning: F-score is ill-defined and being set to 0.0 in labels with no predicted samples.\n",
      "  'precision', 'predicted', average, warn_for)\n"
     ]
    },
    {
     "name": "stdout",
     "output_type": "stream",
     "text": [
      "________________________________________________________________________________\n",
      "[Memory] Calling sklearn.pipeline._fit_transform_one...\n",
      "_fit_transform_one(CountVectorizer(analyzer='word', binary=False, decode_error='strict',\n",
      "        dtype=<class 'numpy.int64'>, encoding='utf-8', input='content',\n",
      "        lowercase=True, max_df=1.0, max_features=None, min_df=1,\n",
      "        ngram_range=(1, 1), preprocessor=None, stop_words=None,\n",
      "        strip_accents=None, token_pattern='(?u)\\\\b\\\\w\\\\w+\\\\b',\n",
      "        tokenizer=<function tokenize_text at 0x00000234F8B668C8>,\n",
      "        vocabulary=None), \n",
      "array(['Some 2,000 women protesting against the conduct of the elections were teargassed as they tried to converge on the local electoral commission offices in the southern oil city of Port Harcourt.',\n",
      "       ...,\n",
      "       'Subsidised fodder distributions have been carried out, fodder banks set up in some areas and seeds successfully distributed in anticipation of the monsoon rains.'],\n",
      "      dtype=object), \n",
      "array([[1, ..., 0],\n",
      "       ...,\n",
      "       [1, ..., 0]], dtype=int64), None)\n"
     ]
    },
    {
     "name": "stderr",
     "output_type": "stream",
     "text": [
      "C:\\Users\\r2d4\\Anaconda3\\lib\\site-packages\\sklearn\\pipeline.py:230: UserWarning: Persisting input arguments took 3.47s to run.\n",
      "If this happens often in your code, it can cause performance problems \n",
      "(results will be correct in all cases). \n",
      "The reason for this is probably some large input arguments for a wrapped\n",
      " function (e.g. large strings).\n",
      "THIS IS A JOBLIB ISSUE. If you can, kindly provide the joblib's team with an\n",
      " example so that they can fix the problem.\n",
      "  **fit_params_steps[name])\n"
     ]
    },
    {
     "name": "stdout",
     "output_type": "stream",
     "text": [
      "_______________________________________________fit_transform_one - 32.0s, 0.5min\n",
      "________________________________________________________________________________\n",
      "[Memory] Calling sklearn.pipeline._fit_transform_one...\n",
      "_fit_transform_one(TfidfTransformer(norm='l2', smooth_idf=True, sublinear_tf=False, use_idf=True), <13862x31023 sparse matrix of type '<class 'numpy.int64'>'\n",
      "\twith 192918 stored elements in Compressed Sparse Row format>, \n",
      "array([[1, ..., 0],\n",
      "       ...,\n",
      "       [1, ..., 0]], dtype=int64), None)\n",
      "________________________________________________fit_transform_one - 0.0s, 0.0min\n"
     ]
    },
    {
     "name": "stderr",
     "output_type": "stream",
     "text": [
      "C:\\Users\\r2d4\\Anaconda3\\lib\\site-packages\\sklearn\\metrics\\classification.py:1143: UndefinedMetricWarning: F-score is ill-defined and being set to 0.0 in labels with no predicted samples.\n",
      "  'precision', 'predicted', average, warn_for)\n"
     ]
    },
    {
     "name": "stdout",
     "output_type": "stream",
     "text": [
      "________________________________________________________________________________\n",
      "[Memory] Calling sklearn.pipeline._fit_transform_one...\n",
      "_fit_transform_one(CountVectorizer(analyzer='word', binary=False, decode_error='strict',\n",
      "        dtype=<class 'numpy.int64'>, encoding='utf-8', input='content',\n",
      "        lowercase=True, max_df=1.0, max_features=None, min_df=5,\n",
      "        ngram_range=(1, 1), preprocessor=None, stop_words=None,\n",
      "        strip_accents=None, token_pattern='(?u)\\\\b\\\\w\\\\w+\\\\b',\n",
      "        tokenizer=<function tokenize_text at 0x00000234F8B668C8>,\n",
      "        vocabulary=None), \n",
      "array(['Khotang is a key eastern stronghold of the ultra-leftist guerrillas, whose power is concentrated in the west.',\n",
      "       ...,\n",
      "       'I favorited a YouTube video Dog Senses Arcata Earthquake at News Station http youtu.be NzBnyRDwQxE?a'],\n",
      "      dtype=object), \n",
      "array([[1, ..., 1],\n",
      "       ...,\n",
      "       [1, ..., 0]], dtype=int64), None)\n"
     ]
    },
    {
     "name": "stderr",
     "output_type": "stream",
     "text": [
      "C:\\Users\\r2d4\\Anaconda3\\lib\\site-packages\\sklearn\\pipeline.py:230: UserWarning: Persisting input arguments took 0.92s to run.\n",
      "If this happens often in your code, it can cause performance problems \n",
      "(results will be correct in all cases). \n",
      "The reason for this is probably some large input arguments for a wrapped\n",
      " function (e.g. large strings).\n",
      "THIS IS A JOBLIB ISSUE. If you can, kindly provide the joblib's team with an\n",
      " example so that they can fix the problem.\n",
      "  **fit_params_steps[name])\n"
     ]
    },
    {
     "name": "stdout",
     "output_type": "stream",
     "text": [
      "_______________________________________________fit_transform_one - 29.4s, 0.5min\n",
      "________________________________________________________________________________\n",
      "[Memory] Calling sklearn.pipeline._fit_transform_one...\n",
      "_fit_transform_one(TfidfTransformer(norm='l2', smooth_idf=True, sublinear_tf=False, use_idf=True), <13862x5566 sparse matrix of type '<class 'numpy.int64'>'\n",
      "\twith 158461 stored elements in Compressed Sparse Row format>, \n",
      "array([[1, ..., 1],\n",
      "       ...,\n",
      "       [1, ..., 0]], dtype=int64), None)\n",
      "________________________________________________fit_transform_one - 0.0s, 0.0min\n"
     ]
    },
    {
     "name": "stderr",
     "output_type": "stream",
     "text": [
      "C:\\Users\\r2d4\\Anaconda3\\lib\\site-packages\\sklearn\\metrics\\classification.py:1143: UndefinedMetricWarning: F-score is ill-defined and being set to 0.0 in labels with no predicted samples.\n",
      "  'precision', 'predicted', average, warn_for)\n"
     ]
    },
    {
     "name": "stdout",
     "output_type": "stream",
     "text": [
      "________________________________________________________________________________\n",
      "[Memory] Calling sklearn.pipeline._fit_transform_one...\n",
      "_fit_transform_one(CountVectorizer(analyzer='word', binary=False, decode_error='strict',\n",
      "        dtype=<class 'numpy.int64'>, encoding='utf-8', input='content',\n",
      "        lowercase=True, max_df=1.0, max_features=None, min_df=5,\n",
      "        ngram_range=(1, 1), preprocessor=None, stop_words=None,\n",
      "        strip_accents=None, token_pattern='(?u)\\\\b\\\\w\\\\w+\\\\b',\n",
      "        tokenizer=<function tokenize_text at 0x00000234F8B668C8>,\n",
      "        vocabulary=None), \n",
      "array(['Some 2,000 women protesting against the conduct of the elections were teargassed as they tried to converge on the local electoral commission offices in the southern oil city of Port Harcourt.',\n",
      "       ...,\n",
      "       'I favorited a YouTube video Dog Senses Arcata Earthquake at News Station http youtu.be NzBnyRDwQxE?a'],\n",
      "      dtype=object), \n",
      "array([[1, ..., 0],\n",
      "       ...,\n",
      "       [1, ..., 0]], dtype=int64), None)\n"
     ]
    },
    {
     "name": "stderr",
     "output_type": "stream",
     "text": [
      "C:\\Users\\r2d4\\Anaconda3\\lib\\site-packages\\sklearn\\pipeline.py:230: UserWarning: Persisting input arguments took 0.91s to run.\n",
      "If this happens often in your code, it can cause performance problems \n",
      "(results will be correct in all cases). \n",
      "The reason for this is probably some large input arguments for a wrapped\n",
      " function (e.g. large strings).\n",
      "THIS IS A JOBLIB ISSUE. If you can, kindly provide the joblib's team with an\n",
      " example so that they can fix the problem.\n",
      "  **fit_params_steps[name])\n"
     ]
    },
    {
     "name": "stdout",
     "output_type": "stream",
     "text": [
      "_______________________________________________fit_transform_one - 28.9s, 0.5min\n",
      "________________________________________________________________________________\n",
      "[Memory] Calling sklearn.pipeline._fit_transform_one...\n",
      "_fit_transform_one(TfidfTransformer(norm='l2', smooth_idf=True, sublinear_tf=False, use_idf=True), <13862x5519 sparse matrix of type '<class 'numpy.int64'>'\n",
      "\twith 155780 stored elements in Compressed Sparse Row format>, \n",
      "array([[1, ..., 0],\n",
      "       ...,\n",
      "       [1, ..., 0]], dtype=int64), None)\n",
      "________________________________________________fit_transform_one - 0.0s, 0.0min\n"
     ]
    },
    {
     "name": "stderr",
     "output_type": "stream",
     "text": [
      "C:\\Users\\r2d4\\Anaconda3\\lib\\site-packages\\sklearn\\metrics\\classification.py:1143: UndefinedMetricWarning: F-score is ill-defined and being set to 0.0 in labels with no predicted samples.\n",
      "  'precision', 'predicted', average, warn_for)\n"
     ]
    },
    {
     "name": "stdout",
     "output_type": "stream",
     "text": [
      "________________________________________________________________________________\n",
      "[Memory] Calling sklearn.pipeline._fit_transform_one...\n",
      "_fit_transform_one(CountVectorizer(analyzer='word', binary=False, decode_error='strict',\n",
      "        dtype=<class 'numpy.int64'>, encoding='utf-8', input='content',\n",
      "        lowercase=True, max_df=1.0, max_features=None, min_df=5,\n",
      "        ngram_range=(1, 1), preprocessor=None, stop_words=None,\n",
      "        strip_accents=None, token_pattern='(?u)\\\\b\\\\w\\\\w+\\\\b',\n",
      "        tokenizer=<function tokenize_text at 0x00000234F8B668C8>,\n",
      "        vocabulary=None), \n",
      "array(['Some 2,000 women protesting against the conduct of the elections were teargassed as they tried to converge on the local electoral commission offices in the southern oil city of Port Harcourt.',\n",
      "       ...,\n",
      "       'Subsidised fodder distributions have been carried out, fodder banks set up in some areas and seeds successfully distributed in anticipation of the monsoon rains.'],\n",
      "      dtype=object), \n",
      "array([[1, ..., 0],\n",
      "       ...,\n",
      "       [1, ..., 0]], dtype=int64), None)\n"
     ]
    },
    {
     "name": "stderr",
     "output_type": "stream",
     "text": [
      "C:\\Users\\r2d4\\Anaconda3\\lib\\site-packages\\sklearn\\pipeline.py:230: UserWarning: Persisting input arguments took 1.03s to run.\n",
      "If this happens often in your code, it can cause performance problems \n",
      "(results will be correct in all cases). \n",
      "The reason for this is probably some large input arguments for a wrapped\n",
      " function (e.g. large strings).\n",
      "THIS IS A JOBLIB ISSUE. If you can, kindly provide the joblib's team with an\n",
      " example so that they can fix the problem.\n",
      "  **fit_params_steps[name])\n"
     ]
    },
    {
     "name": "stdout",
     "output_type": "stream",
     "text": [
      "_______________________________________________fit_transform_one - 29.1s, 0.5min\n",
      "________________________________________________________________________________\n",
      "[Memory] Calling sklearn.pipeline._fit_transform_one...\n",
      "_fit_transform_one(TfidfTransformer(norm='l2', smooth_idf=True, sublinear_tf=False, use_idf=True), <13862x5473 sparse matrix of type '<class 'numpy.int64'>'\n",
      "\twith 156030 stored elements in Compressed Sparse Row format>, \n",
      "array([[1, ..., 0],\n",
      "       ...,\n",
      "       [1, ..., 0]], dtype=int64), None)\n",
      "________________________________________________fit_transform_one - 0.0s, 0.0min\n"
     ]
    },
    {
     "name": "stderr",
     "output_type": "stream",
     "text": [
      "C:\\Users\\r2d4\\Anaconda3\\lib\\site-packages\\sklearn\\metrics\\classification.py:1143: UndefinedMetricWarning: F-score is ill-defined and being set to 0.0 in labels with no predicted samples.\n",
      "  'precision', 'predicted', average, warn_for)\n"
     ]
    },
    {
     "name": "stdout",
     "output_type": "stream",
     "text": [
      "[Memory]0.0s, 0.0min    : Loading _fit_transform_one from C:\\Users\\r2d4\\AppData\\Local\\Temp\\tmp0se19kea\\joblib\\sklearn\\pipeline\\_fit_transform_one\\66d2998447bf978657a8a4bc935bf828\n",
      "___________________________________fit_transform_one cache loaded - 0.3s, 0.0min\n",
      "________________________________________________________________________________\n",
      "[Memory] Calling sklearn.pipeline._fit_transform_one...\n",
      "_fit_transform_one(TfidfTransformer(norm='l2', smooth_idf=True, sublinear_tf=False,\n",
      "         use_idf=False), \n",
      "<13862x30936 sparse matrix of type '<class 'numpy.int64'>'\n",
      "\twith 195084 stored elements in Compressed Sparse Row format>, \n",
      "array([[1, ..., 1],\n",
      "       ...,\n",
      "       [1, ..., 0]], dtype=int64), None)\n",
      "________________________________________________fit_transform_one - 0.0s, 0.0min\n"
     ]
    },
    {
     "name": "stderr",
     "output_type": "stream",
     "text": [
      "C:\\Users\\r2d4\\Anaconda3\\lib\\site-packages\\sklearn\\metrics\\classification.py:1143: UndefinedMetricWarning: F-score is ill-defined and being set to 0.0 in labels with no predicted samples.\n",
      "  'precision', 'predicted', average, warn_for)\n"
     ]
    },
    {
     "name": "stdout",
     "output_type": "stream",
     "text": [
      "[Memory]0.0s, 0.0min    : Loading _fit_transform_one from C:\\Users\\r2d4\\AppData\\Local\\Temp\\tmp0se19kea\\joblib\\sklearn\\pipeline\\_fit_transform_one\\0968558274673b6922fa115f866d06e1\n",
      "___________________________________fit_transform_one cache loaded - 0.3s, 0.0min\n",
      "________________________________________________________________________________\n",
      "[Memory] Calling sklearn.pipeline._fit_transform_one...\n",
      "_fit_transform_one(TfidfTransformer(norm='l2', smooth_idf=True, sublinear_tf=False,\n",
      "         use_idf=False), \n",
      "<13862x30868 sparse matrix of type '<class 'numpy.int64'>'\n",
      "\twith 192166 stored elements in Compressed Sparse Row format>, \n",
      "array([[1, ..., 0],\n",
      "       ...,\n",
      "       [1, ..., 0]], dtype=int64), None)\n",
      "________________________________________________fit_transform_one - 0.0s, 0.0min\n"
     ]
    },
    {
     "name": "stderr",
     "output_type": "stream",
     "text": [
      "C:\\Users\\r2d4\\Anaconda3\\lib\\site-packages\\sklearn\\metrics\\classification.py:1143: UndefinedMetricWarning: F-score is ill-defined and being set to 0.0 in labels with no predicted samples.\n",
      "  'precision', 'predicted', average, warn_for)\n"
     ]
    },
    {
     "name": "stdout",
     "output_type": "stream",
     "text": [
      "[Memory]0.0s, 0.0min    : Loading _fit_transform_one from C:\\Users\\r2d4\\AppData\\Local\\Temp\\tmp0se19kea\\joblib\\sklearn\\pipeline\\_fit_transform_one\\6cfc63e6b63c313828dc9c8f41b38ec0\n",
      "___________________________________fit_transform_one cache loaded - 0.3s, 0.0min\n",
      "________________________________________________________________________________\n",
      "[Memory] Calling sklearn.pipeline._fit_transform_one...\n",
      "_fit_transform_one(TfidfTransformer(norm='l2', smooth_idf=True, sublinear_tf=False,\n",
      "         use_idf=False), \n",
      "<13862x31023 sparse matrix of type '<class 'numpy.int64'>'\n",
      "\twith 192918 stored elements in Compressed Sparse Row format>, \n",
      "array([[1, ..., 0],\n",
      "       ...,\n",
      "       [1, ..., 0]], dtype=int64), None)\n",
      "________________________________________________fit_transform_one - 0.0s, 0.0min\n"
     ]
    },
    {
     "name": "stderr",
     "output_type": "stream",
     "text": [
      "C:\\Users\\r2d4\\Anaconda3\\lib\\site-packages\\sklearn\\metrics\\classification.py:1143: UndefinedMetricWarning: F-score is ill-defined and being set to 0.0 in labels with no predicted samples.\n",
      "  'precision', 'predicted', average, warn_for)\n"
     ]
    },
    {
     "name": "stdout",
     "output_type": "stream",
     "text": [
      "[Memory]0.0s, 0.0min    : Loading _fit_transform_one from C:\\Users\\r2d4\\AppData\\Local\\Temp\\tmp0se19kea\\joblib\\sklearn\\pipeline\\_fit_transform_one\\3e69d528af16359e9e52a45f679ecb79\n",
      "___________________________________fit_transform_one cache loaded - 0.1s, 0.0min\n",
      "________________________________________________________________________________\n",
      "[Memory] Calling sklearn.pipeline._fit_transform_one...\n",
      "_fit_transform_one(TfidfTransformer(norm='l2', smooth_idf=True, sublinear_tf=False,\n",
      "         use_idf=False), \n",
      "<13862x5566 sparse matrix of type '<class 'numpy.int64'>'\n",
      "\twith 158461 stored elements in Compressed Sparse Row format>, \n",
      "array([[1, ..., 1],\n",
      "       ...,\n",
      "       [1, ..., 0]], dtype=int64), None)\n",
      "________________________________________________fit_transform_one - 0.0s, 0.0min\n"
     ]
    },
    {
     "name": "stderr",
     "output_type": "stream",
     "text": [
      "C:\\Users\\r2d4\\Anaconda3\\lib\\site-packages\\sklearn\\metrics\\classification.py:1143: UndefinedMetricWarning: F-score is ill-defined and being set to 0.0 in labels with no predicted samples.\n",
      "  'precision', 'predicted', average, warn_for)\n"
     ]
    },
    {
     "name": "stdout",
     "output_type": "stream",
     "text": [
      "[Memory]0.0s, 0.0min    : Loading _fit_transform_one from C:\\Users\\r2d4\\AppData\\Local\\Temp\\tmp0se19kea\\joblib\\sklearn\\pipeline\\_fit_transform_one\\9a00020b50d450ec48475d1ce28471d1\n",
      "___________________________________fit_transform_one cache loaded - 0.1s, 0.0min\n",
      "________________________________________________________________________________\n",
      "[Memory] Calling sklearn.pipeline._fit_transform_one...\n",
      "_fit_transform_one(TfidfTransformer(norm='l2', smooth_idf=True, sublinear_tf=False,\n",
      "         use_idf=False), \n",
      "<13862x5519 sparse matrix of type '<class 'numpy.int64'>'\n",
      "\twith 155780 stored elements in Compressed Sparse Row format>, \n",
      "array([[1, ..., 0],\n",
      "       ...,\n",
      "       [1, ..., 0]], dtype=int64), None)\n",
      "________________________________________________fit_transform_one - 0.0s, 0.0min\n"
     ]
    },
    {
     "name": "stderr",
     "output_type": "stream",
     "text": [
      "C:\\Users\\r2d4\\Anaconda3\\lib\\site-packages\\sklearn\\metrics\\classification.py:1143: UndefinedMetricWarning: F-score is ill-defined and being set to 0.0 in labels with no predicted samples.\n",
      "  'precision', 'predicted', average, warn_for)\n"
     ]
    },
    {
     "name": "stdout",
     "output_type": "stream",
     "text": [
      "[Memory]0.0s, 0.0min    : Loading _fit_transform_one from C:\\Users\\r2d4\\AppData\\Local\\Temp\\tmp0se19kea\\joblib\\sklearn\\pipeline\\_fit_transform_one\\3fb6e58e499c400a97700e9ca37a388d\n",
      "___________________________________fit_transform_one cache loaded - 0.1s, 0.0min\n",
      "________________________________________________________________________________\n",
      "[Memory] Calling sklearn.pipeline._fit_transform_one...\n",
      "_fit_transform_one(TfidfTransformer(norm='l2', smooth_idf=True, sublinear_tf=False,\n",
      "         use_idf=False), \n",
      "<13862x5473 sparse matrix of type '<class 'numpy.int64'>'\n",
      "\twith 156030 stored elements in Compressed Sparse Row format>, \n",
      "array([[1, ..., 0],\n",
      "       ...,\n",
      "       [1, ..., 0]], dtype=int64), None)\n",
      "________________________________________________fit_transform_one - 0.0s, 0.0min\n"
     ]
    },
    {
     "name": "stderr",
     "output_type": "stream",
     "text": [
      "C:\\Users\\r2d4\\Anaconda3\\lib\\site-packages\\sklearn\\metrics\\classification.py:1143: UndefinedMetricWarning: F-score is ill-defined and being set to 0.0 in labels with no predicted samples.\n",
      "  'precision', 'predicted', average, warn_for)\n"
     ]
    },
    {
     "name": "stdout",
     "output_type": "stream",
     "text": [
      "[Memory]0.0s, 0.0min    : Loading _fit_transform_one from C:\\Users\\r2d4\\AppData\\Local\\Temp\\tmp0se19kea\\joblib\\sklearn\\pipeline\\_fit_transform_one\\66d2998447bf978657a8a4bc935bf828\n",
      "___________________________________fit_transform_one cache loaded - 0.3s, 0.0min\n",
      "[Memory]0.4s, 0.0min    : Loading _fit_transform_one from C:\\Users\\r2d4\\AppData\\Local\\Temp\\tmp0se19kea\\joblib\\sklearn\\pipeline\\_fit_transform_one\\f6676e56a7df03704d786bf0a7611984\n",
      "___________________________________fit_transform_one cache loaded - 0.0s, 0.0min\n"
     ]
    },
    {
     "name": "stderr",
     "output_type": "stream",
     "text": [
      "C:\\Users\\r2d4\\Anaconda3\\lib\\site-packages\\sklearn\\metrics\\classification.py:1143: UndefinedMetricWarning: F-score is ill-defined and being set to 0.0 in labels with no predicted samples.\n",
      "  'precision', 'predicted', average, warn_for)\n"
     ]
    },
    {
     "name": "stdout",
     "output_type": "stream",
     "text": [
      "[Memory]0.0s, 0.0min    : Loading _fit_transform_one from C:\\Users\\r2d4\\AppData\\Local\\Temp\\tmp0se19kea\\joblib\\sklearn\\pipeline\\_fit_transform_one\\0968558274673b6922fa115f866d06e1\n",
      "___________________________________fit_transform_one cache loaded - 0.3s, 0.0min\n",
      "[Memory]0.4s, 0.0min    : Loading _fit_transform_one from C:\\Users\\r2d4\\AppData\\Local\\Temp\\tmp0se19kea\\joblib\\sklearn\\pipeline\\_fit_transform_one\\9277a6d934a357f4ffef909845e3e563\n",
      "___________________________________fit_transform_one cache loaded - 0.0s, 0.0min\n"
     ]
    },
    {
     "name": "stderr",
     "output_type": "stream",
     "text": [
      "C:\\Users\\r2d4\\Anaconda3\\lib\\site-packages\\sklearn\\metrics\\classification.py:1143: UndefinedMetricWarning: F-score is ill-defined and being set to 0.0 in labels with no predicted samples.\n",
      "  'precision', 'predicted', average, warn_for)\n"
     ]
    },
    {
     "name": "stdout",
     "output_type": "stream",
     "text": [
      "[Memory]0.0s, 0.0min    : Loading _fit_transform_one from C:\\Users\\r2d4\\AppData\\Local\\Temp\\tmp0se19kea\\joblib\\sklearn\\pipeline\\_fit_transform_one\\6cfc63e6b63c313828dc9c8f41b38ec0\n",
      "___________________________________fit_transform_one cache loaded - 0.5s, 0.0min\n",
      "[Memory]0.6s, 0.0min    : Loading _fit_transform_one from C:\\Users\\r2d4\\AppData\\Local\\Temp\\tmp0se19kea\\joblib\\sklearn\\pipeline\\_fit_transform_one\\207cbc977fddceb02b4b16fbce2b51de\n",
      "___________________________________fit_transform_one cache loaded - 0.0s, 0.0min\n"
     ]
    },
    {
     "name": "stderr",
     "output_type": "stream",
     "text": [
      "C:\\Users\\r2d4\\Anaconda3\\lib\\site-packages\\sklearn\\metrics\\classification.py:1143: UndefinedMetricWarning: F-score is ill-defined and being set to 0.0 in labels with no predicted samples.\n",
      "  'precision', 'predicted', average, warn_for)\n"
     ]
    },
    {
     "name": "stdout",
     "output_type": "stream",
     "text": [
      "[Memory]0.0s, 0.0min    : Loading _fit_transform_one from C:\\Users\\r2d4\\AppData\\Local\\Temp\\tmp0se19kea\\joblib\\sklearn\\pipeline\\_fit_transform_one\\3e69d528af16359e9e52a45f679ecb79\n",
      "___________________________________fit_transform_one cache loaded - 0.1s, 0.0min\n",
      "[Memory]0.2s, 0.0min    : Loading _fit_transform_one from C:\\Users\\r2d4\\AppData\\Local\\Temp\\tmp0se19kea\\joblib\\sklearn\\pipeline\\_fit_transform_one\\d82bcd9ca9c9c2fb44e7ff80bf0df441\n",
      "___________________________________fit_transform_one cache loaded - 0.0s, 0.0min\n"
     ]
    },
    {
     "name": "stderr",
     "output_type": "stream",
     "text": [
      "C:\\Users\\r2d4\\Anaconda3\\lib\\site-packages\\sklearn\\metrics\\classification.py:1143: UndefinedMetricWarning: F-score is ill-defined and being set to 0.0 in labels with no predicted samples.\n",
      "  'precision', 'predicted', average, warn_for)\n"
     ]
    },
    {
     "name": "stdout",
     "output_type": "stream",
     "text": [
      "[Memory]0.0s, 0.0min    : Loading _fit_transform_one from C:\\Users\\r2d4\\AppData\\Local\\Temp\\tmp0se19kea\\joblib\\sklearn\\pipeline\\_fit_transform_one\\9a00020b50d450ec48475d1ce28471d1\n",
      "___________________________________fit_transform_one cache loaded - 0.2s, 0.0min\n",
      "[Memory]0.2s, 0.0min    : Loading _fit_transform_one from C:\\Users\\r2d4\\AppData\\Local\\Temp\\tmp0se19kea\\joblib\\sklearn\\pipeline\\_fit_transform_one\\7df1d1588b3ba5222fd8863c93bb6d23\n",
      "___________________________________fit_transform_one cache loaded - 0.0s, 0.0min\n"
     ]
    },
    {
     "name": "stderr",
     "output_type": "stream",
     "text": [
      "C:\\Users\\r2d4\\Anaconda3\\lib\\site-packages\\sklearn\\metrics\\classification.py:1143: UndefinedMetricWarning: F-score is ill-defined and being set to 0.0 in labels with no predicted samples.\n",
      "  'precision', 'predicted', average, warn_for)\n"
     ]
    },
    {
     "name": "stdout",
     "output_type": "stream",
     "text": [
      "[Memory]0.0s, 0.0min    : Loading _fit_transform_one from C:\\Users\\r2d4\\AppData\\Local\\Temp\\tmp0se19kea\\joblib\\sklearn\\pipeline\\_fit_transform_one\\3fb6e58e499c400a97700e9ca37a388d\n",
      "___________________________________fit_transform_one cache loaded - 0.1s, 0.0min\n",
      "[Memory]0.2s, 0.0min    : Loading _fit_transform_one from C:\\Users\\r2d4\\AppData\\Local\\Temp\\tmp0se19kea\\joblib\\sklearn\\pipeline\\_fit_transform_one\\d130a769b65690a56dce2bd03ab00bdb\n",
      "___________________________________fit_transform_one cache loaded - 0.0s, 0.0min\n"
     ]
    },
    {
     "name": "stderr",
     "output_type": "stream",
     "text": [
      "C:\\Users\\r2d4\\Anaconda3\\lib\\site-packages\\sklearn\\metrics\\classification.py:1143: UndefinedMetricWarning: F-score is ill-defined and being set to 0.0 in labels with no predicted samples.\n",
      "  'precision', 'predicted', average, warn_for)\n"
     ]
    },
    {
     "name": "stdout",
     "output_type": "stream",
     "text": [
      "[Memory]0.0s, 0.0min    : Loading _fit_transform_one from C:\\Users\\r2d4\\AppData\\Local\\Temp\\tmp0se19kea\\joblib\\sklearn\\pipeline\\_fit_transform_one\\66d2998447bf978657a8a4bc935bf828\n",
      "___________________________________fit_transform_one cache loaded - 0.3s, 0.0min\n",
      "[Memory]0.4s, 0.0min    : Loading _fit_transform_one from C:\\Users\\r2d4\\AppData\\Local\\Temp\\tmp0se19kea\\joblib\\sklearn\\pipeline\\_fit_transform_one\\ad25c4f52f8df0b691f20bf1d21099de\n",
      "___________________________________fit_transform_one cache loaded - 0.0s, 0.0min\n"
     ]
    },
    {
     "name": "stderr",
     "output_type": "stream",
     "text": [
      "C:\\Users\\r2d4\\Anaconda3\\lib\\site-packages\\sklearn\\metrics\\classification.py:1143: UndefinedMetricWarning: F-score is ill-defined and being set to 0.0 in labels with no predicted samples.\n",
      "  'precision', 'predicted', average, warn_for)\n"
     ]
    },
    {
     "name": "stdout",
     "output_type": "stream",
     "text": [
      "[Memory]0.0s, 0.0min    : Loading _fit_transform_one from C:\\Users\\r2d4\\AppData\\Local\\Temp\\tmp0se19kea\\joblib\\sklearn\\pipeline\\_fit_transform_one\\0968558274673b6922fa115f866d06e1\n",
      "___________________________________fit_transform_one cache loaded - 0.5s, 0.0min\n",
      "[Memory]0.6s, 0.0min    : Loading _fit_transform_one from C:\\Users\\r2d4\\AppData\\Local\\Temp\\tmp0se19kea\\joblib\\sklearn\\pipeline\\_fit_transform_one\\71b44375d65bbf2c0fbc8aed467b281e\n",
      "___________________________________fit_transform_one cache loaded - 0.0s, 0.0min\n"
     ]
    },
    {
     "name": "stderr",
     "output_type": "stream",
     "text": [
      "C:\\Users\\r2d4\\Anaconda3\\lib\\site-packages\\sklearn\\metrics\\classification.py:1143: UndefinedMetricWarning: F-score is ill-defined and being set to 0.0 in labels with no predicted samples.\n",
      "  'precision', 'predicted', average, warn_for)\n"
     ]
    },
    {
     "name": "stdout",
     "output_type": "stream",
     "text": [
      "[Memory]0.0s, 0.0min    : Loading _fit_transform_one from C:\\Users\\r2d4\\AppData\\Local\\Temp\\tmp0se19kea\\joblib\\sklearn\\pipeline\\_fit_transform_one\\6cfc63e6b63c313828dc9c8f41b38ec0\n",
      "___________________________________fit_transform_one cache loaded - 0.3s, 0.0min\n",
      "[Memory]0.4s, 0.0min    : Loading _fit_transform_one from C:\\Users\\r2d4\\AppData\\Local\\Temp\\tmp0se19kea\\joblib\\sklearn\\pipeline\\_fit_transform_one\\8bba634a9fc14c18e79c33ea1863e9aa\n",
      "___________________________________fit_transform_one cache loaded - 0.0s, 0.0min\n"
     ]
    },
    {
     "name": "stderr",
     "output_type": "stream",
     "text": [
      "C:\\Users\\r2d4\\Anaconda3\\lib\\site-packages\\sklearn\\metrics\\classification.py:1143: UndefinedMetricWarning: F-score is ill-defined and being set to 0.0 in labels with no predicted samples.\n",
      "  'precision', 'predicted', average, warn_for)\n"
     ]
    },
    {
     "name": "stdout",
     "output_type": "stream",
     "text": [
      "[Memory]0.0s, 0.0min    : Loading _fit_transform_one from C:\\Users\\r2d4\\AppData\\Local\\Temp\\tmp0se19kea\\joblib\\sklearn\\pipeline\\_fit_transform_one\\3e69d528af16359e9e52a45f679ecb79\n",
      "___________________________________fit_transform_one cache loaded - 0.1s, 0.0min\n",
      "[Memory]0.2s, 0.0min    : Loading _fit_transform_one from C:\\Users\\r2d4\\AppData\\Local\\Temp\\tmp0se19kea\\joblib\\sklearn\\pipeline\\_fit_transform_one\\115661e8b13485247f7d7ff5e7d83d18\n",
      "___________________________________fit_transform_one cache loaded - 0.0s, 0.0min\n"
     ]
    },
    {
     "name": "stderr",
     "output_type": "stream",
     "text": [
      "C:\\Users\\r2d4\\Anaconda3\\lib\\site-packages\\sklearn\\metrics\\classification.py:1143: UndefinedMetricWarning: F-score is ill-defined and being set to 0.0 in labels with no predicted samples.\n",
      "  'precision', 'predicted', average, warn_for)\n"
     ]
    },
    {
     "name": "stdout",
     "output_type": "stream",
     "text": [
      "[Memory]0.0s, 0.0min    : Loading _fit_transform_one from C:\\Users\\r2d4\\AppData\\Local\\Temp\\tmp0se19kea\\joblib\\sklearn\\pipeline\\_fit_transform_one\\9a00020b50d450ec48475d1ce28471d1\n",
      "___________________________________fit_transform_one cache loaded - 0.2s, 0.0min\n",
      "[Memory]0.3s, 0.0min    : Loading _fit_transform_one from C:\\Users\\r2d4\\AppData\\Local\\Temp\\tmp0se19kea\\joblib\\sklearn\\pipeline\\_fit_transform_one\\0cf59db9405ae4d8f4e5a88f65819537\n",
      "___________________________________fit_transform_one cache loaded - 0.0s, 0.0min\n"
     ]
    },
    {
     "name": "stderr",
     "output_type": "stream",
     "text": [
      "C:\\Users\\r2d4\\Anaconda3\\lib\\site-packages\\sklearn\\metrics\\classification.py:1143: UndefinedMetricWarning: F-score is ill-defined and being set to 0.0 in labels with no predicted samples.\n",
      "  'precision', 'predicted', average, warn_for)\n"
     ]
    },
    {
     "name": "stdout",
     "output_type": "stream",
     "text": [
      "[Memory]0.0s, 0.0min    : Loading _fit_transform_one from C:\\Users\\r2d4\\AppData\\Local\\Temp\\tmp0se19kea\\joblib\\sklearn\\pipeline\\_fit_transform_one\\3fb6e58e499c400a97700e9ca37a388d\n",
      "___________________________________fit_transform_one cache loaded - 0.1s, 0.0min\n",
      "[Memory]0.2s, 0.0min    : Loading _fit_transform_one from C:\\Users\\r2d4\\AppData\\Local\\Temp\\tmp0se19kea\\joblib\\sklearn\\pipeline\\_fit_transform_one\\fb0155bdfcae264797f31b60e9a0bdb5\n",
      "___________________________________fit_transform_one cache loaded - 0.0s, 0.0min\n"
     ]
    },
    {
     "name": "stderr",
     "output_type": "stream",
     "text": [
      "C:\\Users\\r2d4\\Anaconda3\\lib\\site-packages\\sklearn\\metrics\\classification.py:1143: UndefinedMetricWarning: F-score is ill-defined and being set to 0.0 in labels with no predicted samples.\n",
      "  'precision', 'predicted', average, warn_for)\n"
     ]
    },
    {
     "name": "stdout",
     "output_type": "stream",
     "text": [
      "[Memory]0.0s, 0.0min    : Loading _fit_transform_one from C:\\Users\\r2d4\\AppData\\Local\\Temp\\tmp0se19kea\\joblib\\sklearn\\pipeline\\_fit_transform_one\\66d2998447bf978657a8a4bc935bf828\n",
      "___________________________________fit_transform_one cache loaded - 0.3s, 0.0min\n",
      "[Memory]0.4s, 0.0min    : Loading _fit_transform_one from C:\\Users\\r2d4\\AppData\\Local\\Temp\\tmp0se19kea\\joblib\\sklearn\\pipeline\\_fit_transform_one\\f6676e56a7df03704d786bf0a7611984\n",
      "___________________________________fit_transform_one cache loaded - 0.0s, 0.0min\n"
     ]
    },
    {
     "name": "stderr",
     "output_type": "stream",
     "text": [
      "C:\\Users\\r2d4\\Anaconda3\\lib\\site-packages\\sklearn\\metrics\\classification.py:1143: UndefinedMetricWarning: F-score is ill-defined and being set to 0.0 in labels with no predicted samples.\n",
      "  'precision', 'predicted', average, warn_for)\n"
     ]
    },
    {
     "name": "stdout",
     "output_type": "stream",
     "text": [
      "[Memory]0.0s, 0.0min    : Loading _fit_transform_one from C:\\Users\\r2d4\\AppData\\Local\\Temp\\tmp0se19kea\\joblib\\sklearn\\pipeline\\_fit_transform_one\\0968558274673b6922fa115f866d06e1\n",
      "___________________________________fit_transform_one cache loaded - 0.3s, 0.0min\n",
      "[Memory]0.4s, 0.0min    : Loading _fit_transform_one from C:\\Users\\r2d4\\AppData\\Local\\Temp\\tmp0se19kea\\joblib\\sklearn\\pipeline\\_fit_transform_one\\9277a6d934a357f4ffef909845e3e563\n",
      "___________________________________fit_transform_one cache loaded - 0.0s, 0.0min\n"
     ]
    },
    {
     "name": "stderr",
     "output_type": "stream",
     "text": [
      "C:\\Users\\r2d4\\Anaconda3\\lib\\site-packages\\sklearn\\metrics\\classification.py:1143: UndefinedMetricWarning: F-score is ill-defined and being set to 0.0 in labels with no predicted samples.\n",
      "  'precision', 'predicted', average, warn_for)\n"
     ]
    },
    {
     "name": "stdout",
     "output_type": "stream",
     "text": [
      "[Memory]0.0s, 0.0min    : Loading _fit_transform_one from C:\\Users\\r2d4\\AppData\\Local\\Temp\\tmp0se19kea\\joblib\\sklearn\\pipeline\\_fit_transform_one\\6cfc63e6b63c313828dc9c8f41b38ec0\n",
      "___________________________________fit_transform_one cache loaded - 0.3s, 0.0min\n",
      "[Memory]0.4s, 0.0min    : Loading _fit_transform_one from C:\\Users\\r2d4\\AppData\\Local\\Temp\\tmp0se19kea\\joblib\\sklearn\\pipeline\\_fit_transform_one\\207cbc977fddceb02b4b16fbce2b51de\n",
      "___________________________________fit_transform_one cache loaded - 0.0s, 0.0min\n"
     ]
    },
    {
     "name": "stderr",
     "output_type": "stream",
     "text": [
      "C:\\Users\\r2d4\\Anaconda3\\lib\\site-packages\\sklearn\\metrics\\classification.py:1143: UndefinedMetricWarning: F-score is ill-defined and being set to 0.0 in labels with no predicted samples.\n",
      "  'precision', 'predicted', average, warn_for)\n"
     ]
    },
    {
     "name": "stdout",
     "output_type": "stream",
     "text": [
      "[Memory]0.0s, 0.0min    : Loading _fit_transform_one from C:\\Users\\r2d4\\AppData\\Local\\Temp\\tmp0se19kea\\joblib\\sklearn\\pipeline\\_fit_transform_one\\3e69d528af16359e9e52a45f679ecb79\n",
      "___________________________________fit_transform_one cache loaded - 0.1s, 0.0min\n",
      "[Memory]0.2s, 0.0min    : Loading _fit_transform_one from C:\\Users\\r2d4\\AppData\\Local\\Temp\\tmp0se19kea\\joblib\\sklearn\\pipeline\\_fit_transform_one\\d82bcd9ca9c9c2fb44e7ff80bf0df441\n",
      "___________________________________fit_transform_one cache loaded - 0.0s, 0.0min\n"
     ]
    },
    {
     "name": "stderr",
     "output_type": "stream",
     "text": [
      "C:\\Users\\r2d4\\Anaconda3\\lib\\site-packages\\sklearn\\metrics\\classification.py:1143: UndefinedMetricWarning: F-score is ill-defined and being set to 0.0 in labels with no predicted samples.\n",
      "  'precision', 'predicted', average, warn_for)\n"
     ]
    },
    {
     "name": "stdout",
     "output_type": "stream",
     "text": [
      "[Memory]0.0s, 0.0min    : Loading _fit_transform_one from C:\\Users\\r2d4\\AppData\\Local\\Temp\\tmp0se19kea\\joblib\\sklearn\\pipeline\\_fit_transform_one\\9a00020b50d450ec48475d1ce28471d1\n",
      "___________________________________fit_transform_one cache loaded - 0.1s, 0.0min\n",
      "[Memory]0.2s, 0.0min    : Loading _fit_transform_one from C:\\Users\\r2d4\\AppData\\Local\\Temp\\tmp0se19kea\\joblib\\sklearn\\pipeline\\_fit_transform_one\\7df1d1588b3ba5222fd8863c93bb6d23\n",
      "___________________________________fit_transform_one cache loaded - 0.0s, 0.0min\n"
     ]
    },
    {
     "name": "stderr",
     "output_type": "stream",
     "text": [
      "C:\\Users\\r2d4\\Anaconda3\\lib\\site-packages\\sklearn\\metrics\\classification.py:1143: UndefinedMetricWarning: F-score is ill-defined and being set to 0.0 in labels with no predicted samples.\n",
      "  'precision', 'predicted', average, warn_for)\n"
     ]
    },
    {
     "name": "stdout",
     "output_type": "stream",
     "text": [
      "[Memory]0.0s, 0.0min    : Loading _fit_transform_one from C:\\Users\\r2d4\\AppData\\Local\\Temp\\tmp0se19kea\\joblib\\sklearn\\pipeline\\_fit_transform_one\\3fb6e58e499c400a97700e9ca37a388d\n",
      "___________________________________fit_transform_one cache loaded - 0.1s, 0.0min\n",
      "[Memory]0.2s, 0.0min    : Loading _fit_transform_one from C:\\Users\\r2d4\\AppData\\Local\\Temp\\tmp0se19kea\\joblib\\sklearn\\pipeline\\_fit_transform_one\\d130a769b65690a56dce2bd03ab00bdb\n",
      "___________________________________fit_transform_one cache loaded - 0.0s, 0.0min\n"
     ]
    },
    {
     "name": "stderr",
     "output_type": "stream",
     "text": [
      "C:\\Users\\r2d4\\Anaconda3\\lib\\site-packages\\sklearn\\metrics\\classification.py:1143: UndefinedMetricWarning: F-score is ill-defined and being set to 0.0 in labels with no predicted samples.\n",
      "  'precision', 'predicted', average, warn_for)\n"
     ]
    },
    {
     "name": "stdout",
     "output_type": "stream",
     "text": [
      "[Memory]0.0s, 0.0min    : Loading _fit_transform_one from C:\\Users\\r2d4\\AppData\\Local\\Temp\\tmp0se19kea\\joblib\\sklearn\\pipeline\\_fit_transform_one\\66d2998447bf978657a8a4bc935bf828\n",
      "___________________________________fit_transform_one cache loaded - 0.3s, 0.0min\n",
      "[Memory]0.4s, 0.0min    : Loading _fit_transform_one from C:\\Users\\r2d4\\AppData\\Local\\Temp\\tmp0se19kea\\joblib\\sklearn\\pipeline\\_fit_transform_one\\ad25c4f52f8df0b691f20bf1d21099de\n",
      "___________________________________fit_transform_one cache loaded - 0.0s, 0.0min\n"
     ]
    },
    {
     "name": "stderr",
     "output_type": "stream",
     "text": [
      "C:\\Users\\r2d4\\Anaconda3\\lib\\site-packages\\sklearn\\metrics\\classification.py:1143: UndefinedMetricWarning: F-score is ill-defined and being set to 0.0 in labels with no predicted samples.\n",
      "  'precision', 'predicted', average, warn_for)\n"
     ]
    },
    {
     "name": "stdout",
     "output_type": "stream",
     "text": [
      "[Memory]0.0s, 0.0min    : Loading _fit_transform_one from C:\\Users\\r2d4\\AppData\\Local\\Temp\\tmp0se19kea\\joblib\\sklearn\\pipeline\\_fit_transform_one\\0968558274673b6922fa115f866d06e1\n",
      "___________________________________fit_transform_one cache loaded - 0.4s, 0.0min\n",
      "[Memory]0.5s, 0.0min    : Loading _fit_transform_one from C:\\Users\\r2d4\\AppData\\Local\\Temp\\tmp0se19kea\\joblib\\sklearn\\pipeline\\_fit_transform_one\\71b44375d65bbf2c0fbc8aed467b281e\n",
      "___________________________________fit_transform_one cache loaded - 0.0s, 0.0min\n"
     ]
    },
    {
     "name": "stderr",
     "output_type": "stream",
     "text": [
      "C:\\Users\\r2d4\\Anaconda3\\lib\\site-packages\\sklearn\\metrics\\classification.py:1143: UndefinedMetricWarning: F-score is ill-defined and being set to 0.0 in labels with no predicted samples.\n",
      "  'precision', 'predicted', average, warn_for)\n"
     ]
    },
    {
     "name": "stdout",
     "output_type": "stream",
     "text": [
      "[Memory]0.0s, 0.0min    : Loading _fit_transform_one from C:\\Users\\r2d4\\AppData\\Local\\Temp\\tmp0se19kea\\joblib\\sklearn\\pipeline\\_fit_transform_one\\6cfc63e6b63c313828dc9c8f41b38ec0\n",
      "___________________________________fit_transform_one cache loaded - 0.4s, 0.0min\n",
      "[Memory]0.5s, 0.0min    : Loading _fit_transform_one from C:\\Users\\r2d4\\AppData\\Local\\Temp\\tmp0se19kea\\joblib\\sklearn\\pipeline\\_fit_transform_one\\8bba634a9fc14c18e79c33ea1863e9aa\n",
      "___________________________________fit_transform_one cache loaded - 0.0s, 0.0min\n"
     ]
    },
    {
     "name": "stderr",
     "output_type": "stream",
     "text": [
      "C:\\Users\\r2d4\\Anaconda3\\lib\\site-packages\\sklearn\\metrics\\classification.py:1143: UndefinedMetricWarning: F-score is ill-defined and being set to 0.0 in labels with no predicted samples.\n",
      "  'precision', 'predicted', average, warn_for)\n"
     ]
    },
    {
     "name": "stdout",
     "output_type": "stream",
     "text": [
      "[Memory]0.0s, 0.0min    : Loading _fit_transform_one from C:\\Users\\r2d4\\AppData\\Local\\Temp\\tmp0se19kea\\joblib\\sklearn\\pipeline\\_fit_transform_one\\3e69d528af16359e9e52a45f679ecb79\n",
      "___________________________________fit_transform_one cache loaded - 0.1s, 0.0min\n",
      "[Memory]0.2s, 0.0min    : Loading _fit_transform_one from C:\\Users\\r2d4\\AppData\\Local\\Temp\\tmp0se19kea\\joblib\\sklearn\\pipeline\\_fit_transform_one\\115661e8b13485247f7d7ff5e7d83d18\n",
      "___________________________________fit_transform_one cache loaded - 0.0s, 0.0min\n"
     ]
    },
    {
     "name": "stderr",
     "output_type": "stream",
     "text": [
      "C:\\Users\\r2d4\\Anaconda3\\lib\\site-packages\\sklearn\\metrics\\classification.py:1143: UndefinedMetricWarning: F-score is ill-defined and being set to 0.0 in labels with no predicted samples.\n",
      "  'precision', 'predicted', average, warn_for)\n"
     ]
    },
    {
     "name": "stdout",
     "output_type": "stream",
     "text": [
      "[Memory]0.0s, 0.0min    : Loading _fit_transform_one from C:\\Users\\r2d4\\AppData\\Local\\Temp\\tmp0se19kea\\joblib\\sklearn\\pipeline\\_fit_transform_one\\9a00020b50d450ec48475d1ce28471d1\n",
      "___________________________________fit_transform_one cache loaded - 0.1s, 0.0min\n",
      "[Memory]0.2s, 0.0min    : Loading _fit_transform_one from C:\\Users\\r2d4\\AppData\\Local\\Temp\\tmp0se19kea\\joblib\\sklearn\\pipeline\\_fit_transform_one\\0cf59db9405ae4d8f4e5a88f65819537\n",
      "___________________________________fit_transform_one cache loaded - 0.0s, 0.0min\n"
     ]
    },
    {
     "name": "stderr",
     "output_type": "stream",
     "text": [
      "C:\\Users\\r2d4\\Anaconda3\\lib\\site-packages\\sklearn\\metrics\\classification.py:1143: UndefinedMetricWarning: F-score is ill-defined and being set to 0.0 in labels with no predicted samples.\n",
      "  'precision', 'predicted', average, warn_for)\n"
     ]
    },
    {
     "name": "stdout",
     "output_type": "stream",
     "text": [
      "[Memory]0.0s, 0.0min    : Loading _fit_transform_one from C:\\Users\\r2d4\\AppData\\Local\\Temp\\tmp0se19kea\\joblib\\sklearn\\pipeline\\_fit_transform_one\\3fb6e58e499c400a97700e9ca37a388d\n",
      "___________________________________fit_transform_one cache loaded - 0.1s, 0.0min\n",
      "[Memory]0.2s, 0.0min    : Loading _fit_transform_one from C:\\Users\\r2d4\\AppData\\Local\\Temp\\tmp0se19kea\\joblib\\sklearn\\pipeline\\_fit_transform_one\\fb0155bdfcae264797f31b60e9a0bdb5\n",
      "___________________________________fit_transform_one cache loaded - 0.0s, 0.0min\n"
     ]
    },
    {
     "name": "stderr",
     "output_type": "stream",
     "text": [
      "C:\\Users\\r2d4\\Anaconda3\\lib\\site-packages\\sklearn\\metrics\\classification.py:1143: UndefinedMetricWarning: F-score is ill-defined and being set to 0.0 in labels with no predicted samples.\n",
      "  'precision', 'predicted', average, warn_for)\n",
      "[Parallel(n_jobs=1)]: Done  36 out of  36 | elapsed: 30.7min finished\n"
     ]
    },
    {
     "name": "stdout",
     "output_type": "stream",
     "text": [
      "________________________________________________________________________________\n",
      "[Memory] Calling sklearn.pipeline._fit_transform_one...\n",
      "_fit_transform_one(CountVectorizer(analyzer='word', binary=False, decode_error='strict',\n",
      "        dtype=<class 'numpy.int64'>, encoding='utf-8', input='content',\n",
      "        lowercase=True, max_df=1.0, max_features=None, min_df=1,\n",
      "        ngram_range=(1, 1), preprocessor=None, stop_words=None,\n",
      "        strip_accents=None, token_pattern='(?u)\\\\b\\\\w\\\\w+\\\\b',\n",
      "        tokenizer=<function tokenize_text at 0x00000234F8B668C8>,\n",
      "        vocabulary=None), \n",
      "array(['Some 2,000 women protesting against the conduct of the elections were teargassed as they tried to converge on the local electoral commission offices in the southern oil city of Port Harcourt.',\n",
      "       ...,\n",
      "       'I favorited a YouTube video Dog Senses Arcata Earthquake at News Station http youtu.be NzBnyRDwQxE?a'],\n",
      "      dtype=object), \n",
      "array([[1, ..., 0],\n",
      "       ...,\n",
      "       [1, ..., 0]], dtype=int64), None)\n"
     ]
    },
    {
     "name": "stderr",
     "output_type": "stream",
     "text": [
      "C:\\Users\\r2d4\\Anaconda3\\lib\\site-packages\\sklearn\\pipeline.py:230: UserWarning: Persisting input arguments took 4.90s to run.\n",
      "If this happens often in your code, it can cause performance problems \n",
      "(results will be correct in all cases). \n",
      "The reason for this is probably some large input arguments for a wrapped\n",
      " function (e.g. large strings).\n",
      "THIS IS A JOBLIB ISSUE. If you can, kindly provide the joblib's team with an\n",
      " example so that they can fix the problem.\n",
      "  **fit_params_steps[name])\n"
     ]
    },
    {
     "name": "stdout",
     "output_type": "stream",
     "text": [
      "_______________________________________________fit_transform_one - 44.3s, 0.7min\n",
      "________________________________________________________________________________\n",
      "[Memory] Calling sklearn.pipeline._fit_transform_one...\n",
      "_fit_transform_one(TfidfTransformer(norm='l2', smooth_idf=True, sublinear_tf=False,\n",
      "         use_idf=False), \n",
      "<20793x39226 sparse matrix of type '<class 'numpy.int64'>'\n",
      "\twith 290084 stored elements in Compressed Sparse Row format>, \n",
      "array([[1, ..., 0],\n",
      "       ...,\n",
      "       [1, ..., 0]], dtype=int64), None)\n",
      "________________________________________________fit_transform_one - 0.0s, 0.0min\n"
     ]
    }
   ],
   "source": [
    "full_grid = optimize_model(clf, X_train, Y_train, scorer, cv=3)"
   ]
  },
  {
   "cell_type": "code",
   "execution_count": 29,
   "metadata": {},
   "outputs": [
    {
     "data": {
      "text/plain": [
       "{'clf__estimator__alpha': 0.0001, 'tfidf__use_idf': False, 'vect__min_df': 1}"
      ]
     },
     "execution_count": 29,
     "metadata": {},
     "output_type": "execute_result"
    }
   ],
   "source": [
    "# return best params\n",
    "full_grid.best_params_"
   ]
  },
  {
   "cell_type": "code",
   "execution_count": 30,
   "metadata": {},
   "outputs": [
    {
     "data": {
      "text/plain": [
       "0.6015670098077412"
      ]
     },
     "execution_count": 30,
     "metadata": {},
     "output_type": "execute_result"
    }
   ],
   "source": [
    "# return best score\n",
    "full_grid.best_score_"
   ]
  },
  {
   "cell_type": "code",
   "execution_count": 34,
   "metadata": {},
   "outputs": [],
   "source": [
    "# return best model\n",
    "tuned_clf = full_grid.best_estimator_"
   ]
  },
  {
   "cell_type": "markdown",
   "metadata": {},
   "source": [
    "### Safe the tuned model\n"
   ]
  },
  {
   "cell_type": "code",
   "execution_count": 37,
   "metadata": {},
   "outputs": [
    {
     "name": "stdout",
     "output_type": "stream",
     "text": [
      "Model saved.\n"
     ]
    }
   ],
   "source": [
    "joblib.dump(tuned_clf, 'tuned_clf.pkl')\n",
    "print(\"Model saved.\")\n",
    "\n",
    "# tuned_clf = joblib.load('tuned_clf.pkl')\n",
    "# print(\"Model loaded.\")"
   ]
  },
  {
   "cell_type": "markdown",
   "metadata": {},
   "source": [
    "### 5. Test your model\n",
    "Report the f1 score, precision and recall for each output category of the dataset. You can do this by iterating through the columns and calling sklearn's `classification_report` on each."
   ]
  },
  {
   "cell_type": "code",
   "execution_count": 39,
   "metadata": {},
   "outputs": [],
   "source": [
    "def evaluate_multilabel(model, X_test, y_test):\n",
    "    \"\"\"Calculate evaluation metrics for ML model\n",
    "    \n",
    "    ARGUMENTS:\n",
    "    Y_real: Array containing actual labels.\n",
    "    Y_pred: Array containing predicted labels.\n",
    "       \n",
    "    RETURNS:\n",
    "    metrics_df: Dataframe containing the multilabel\n",
    "    classification report.\n",
    "    \"\"\"\n",
    "    \n",
    "    y_pred = model.predict(X_test)\n",
    "    \n",
    "    # create list of strings with target class names\n",
    "    target_names = train.iloc[:, (-1 * y_test.shape[1]):].columns\n",
    "    \n",
    "    # Calculate classification report\n",
    "    metrics = classification_report(\n",
    "                y_test, y_pred,\n",
    "                target_names=target_names,\n",
    "                output_dict=True,\n",
    "                )\n",
    "\n",
    "    # Create dataframe, tanspose it\n",
    "    metrics_df = pd.DataFrame(\n",
    "                    data = metrics, \n",
    "                    ).T\n",
    "      \n",
    "    return metrics_df"
   ]
  },
  {
   "cell_type": "code",
   "execution_count": 40,
   "metadata": {},
   "outputs": [
    {
     "name": "stderr",
     "output_type": "stream",
     "text": [
      "C:\\Users\\r2d4\\Anaconda3\\lib\\site-packages\\sklearn\\metrics\\classification.py:1143: UndefinedMetricWarning: Precision and F-score are ill-defined and being set to 0.0 in labels with no predicted samples.\n",
      "  'precision', 'predicted', average, warn_for)\n",
      "C:\\Users\\r2d4\\Anaconda3\\lib\\site-packages\\sklearn\\metrics\\classification.py:1143: UndefinedMetricWarning: Precision and F-score are ill-defined and being set to 0.0 in samples with no predicted labels.\n",
      "  'precision', 'predicted', average, warn_for)\n",
      "C:\\Users\\r2d4\\Anaconda3\\lib\\site-packages\\sklearn\\metrics\\classification.py:1145: UndefinedMetricWarning: Recall and F-score are ill-defined and being set to 0.0 in samples with no true labels.\n",
      "  'recall', 'true', average, warn_for)\n"
     ]
    },
    {
     "data": {
      "text/html": [
       "<div>\n",
       "<style scoped>\n",
       "    .dataframe tbody tr th:only-of-type {\n",
       "        vertical-align: middle;\n",
       "    }\n",
       "\n",
       "    .dataframe tbody tr th {\n",
       "        vertical-align: top;\n",
       "    }\n",
       "\n",
       "    .dataframe thead th {\n",
       "        text-align: right;\n",
       "    }\n",
       "</style>\n",
       "<table border=\"1\" class=\"dataframe\">\n",
       "  <thead>\n",
       "    <tr style=\"text-align: right;\">\n",
       "      <th></th>\n",
       "      <th>f1-score</th>\n",
       "      <th>precision</th>\n",
       "      <th>recall</th>\n",
       "      <th>support</th>\n",
       "    </tr>\n",
       "  </thead>\n",
       "  <tbody>\n",
       "    <tr>\n",
       "      <th>related</th>\n",
       "      <td>0.893236</td>\n",
       "      <td>0.840355</td>\n",
       "      <td>0.953219</td>\n",
       "      <td>3976.0</td>\n",
       "    </tr>\n",
       "    <tr>\n",
       "      <th>request</th>\n",
       "      <td>0.624741</td>\n",
       "      <td>0.801418</td>\n",
       "      <td>0.511891</td>\n",
       "      <td>883.0</td>\n",
       "    </tr>\n",
       "    <tr>\n",
       "      <th>offer</th>\n",
       "      <td>0.000000</td>\n",
       "      <td>0.000000</td>\n",
       "      <td>0.000000</td>\n",
       "      <td>32.0</td>\n",
       "    </tr>\n",
       "    <tr>\n",
       "      <th>aid_related</th>\n",
       "      <td>0.690560</td>\n",
       "      <td>0.767246</td>\n",
       "      <td>0.627811</td>\n",
       "      <td>2179.0</td>\n",
       "    </tr>\n",
       "    <tr>\n",
       "      <th>medical_help</th>\n",
       "      <td>0.223853</td>\n",
       "      <td>0.743902</td>\n",
       "      <td>0.131749</td>\n",
       "      <td>463.0</td>\n",
       "    </tr>\n",
       "    <tr>\n",
       "      <th>medical_products</th>\n",
       "      <td>0.234940</td>\n",
       "      <td>0.812500</td>\n",
       "      <td>0.137324</td>\n",
       "      <td>284.0</td>\n",
       "    </tr>\n",
       "    <tr>\n",
       "      <th>search_and_rescue</th>\n",
       "      <td>0.202247</td>\n",
       "      <td>0.782609</td>\n",
       "      <td>0.116129</td>\n",
       "      <td>155.0</td>\n",
       "    </tr>\n",
       "    <tr>\n",
       "      <th>security</th>\n",
       "      <td>0.000000</td>\n",
       "      <td>0.000000</td>\n",
       "      <td>0.000000</td>\n",
       "      <td>85.0</td>\n",
       "    </tr>\n",
       "    <tr>\n",
       "      <th>military</th>\n",
       "      <td>0.110553</td>\n",
       "      <td>0.611111</td>\n",
       "      <td>0.060773</td>\n",
       "      <td>181.0</td>\n",
       "    </tr>\n",
       "    <tr>\n",
       "      <th>water</th>\n",
       "      <td>0.679803</td>\n",
       "      <td>0.726316</td>\n",
       "      <td>0.638889</td>\n",
       "      <td>324.0</td>\n",
       "    </tr>\n",
       "    <tr>\n",
       "      <th>food</th>\n",
       "      <td>0.742424</td>\n",
       "      <td>0.762646</td>\n",
       "      <td>0.723247</td>\n",
       "      <td>542.0</td>\n",
       "    </tr>\n",
       "    <tr>\n",
       "      <th>shelter</th>\n",
       "      <td>0.596591</td>\n",
       "      <td>0.843373</td>\n",
       "      <td>0.461538</td>\n",
       "      <td>455.0</td>\n",
       "    </tr>\n",
       "    <tr>\n",
       "      <th>clothing</th>\n",
       "      <td>0.550000</td>\n",
       "      <td>0.702128</td>\n",
       "      <td>0.452055</td>\n",
       "      <td>73.0</td>\n",
       "    </tr>\n",
       "    <tr>\n",
       "      <th>money</th>\n",
       "      <td>0.033898</td>\n",
       "      <td>0.666667</td>\n",
       "      <td>0.017391</td>\n",
       "      <td>115.0</td>\n",
       "    </tr>\n",
       "    <tr>\n",
       "      <th>missing_people</th>\n",
       "      <td>0.029851</td>\n",
       "      <td>1.000000</td>\n",
       "      <td>0.015152</td>\n",
       "      <td>66.0</td>\n",
       "    </tr>\n",
       "    <tr>\n",
       "      <th>refugees</th>\n",
       "      <td>0.118919</td>\n",
       "      <td>0.647059</td>\n",
       "      <td>0.065476</td>\n",
       "      <td>168.0</td>\n",
       "    </tr>\n",
       "    <tr>\n",
       "      <th>death</th>\n",
       "      <td>0.497238</td>\n",
       "      <td>0.769231</td>\n",
       "      <td>0.367347</td>\n",
       "      <td>245.0</td>\n",
       "    </tr>\n",
       "    <tr>\n",
       "      <th>other_aid</th>\n",
       "      <td>0.002837</td>\n",
       "      <td>1.000000</td>\n",
       "      <td>0.001420</td>\n",
       "      <td>704.0</td>\n",
       "    </tr>\n",
       "    <tr>\n",
       "      <th>infrastructure_related</th>\n",
       "      <td>0.000000</td>\n",
       "      <td>0.000000</td>\n",
       "      <td>0.000000</td>\n",
       "      <td>320.0</td>\n",
       "    </tr>\n",
       "    <tr>\n",
       "      <th>transport</th>\n",
       "      <td>0.169118</td>\n",
       "      <td>0.696970</td>\n",
       "      <td>0.096234</td>\n",
       "      <td>239.0</td>\n",
       "    </tr>\n",
       "    <tr>\n",
       "      <th>buildings</th>\n",
       "      <td>0.331288</td>\n",
       "      <td>0.729730</td>\n",
       "      <td>0.214286</td>\n",
       "      <td>252.0</td>\n",
       "    </tr>\n",
       "    <tr>\n",
       "      <th>electricity</th>\n",
       "      <td>0.110236</td>\n",
       "      <td>0.777778</td>\n",
       "      <td>0.059322</td>\n",
       "      <td>118.0</td>\n",
       "    </tr>\n",
       "    <tr>\n",
       "      <th>tools</th>\n",
       "      <td>0.000000</td>\n",
       "      <td>0.000000</td>\n",
       "      <td>0.000000</td>\n",
       "      <td>29.0</td>\n",
       "    </tr>\n",
       "    <tr>\n",
       "      <th>hospitals</th>\n",
       "      <td>0.000000</td>\n",
       "      <td>0.000000</td>\n",
       "      <td>0.000000</td>\n",
       "      <td>67.0</td>\n",
       "    </tr>\n",
       "    <tr>\n",
       "      <th>shops</th>\n",
       "      <td>0.000000</td>\n",
       "      <td>0.000000</td>\n",
       "      <td>0.000000</td>\n",
       "      <td>28.0</td>\n",
       "    </tr>\n",
       "    <tr>\n",
       "      <th>aid_centers</th>\n",
       "      <td>0.000000</td>\n",
       "      <td>0.000000</td>\n",
       "      <td>0.000000</td>\n",
       "      <td>59.0</td>\n",
       "    </tr>\n",
       "    <tr>\n",
       "      <th>other_infrastructure</th>\n",
       "      <td>0.000000</td>\n",
       "      <td>0.000000</td>\n",
       "      <td>0.000000</td>\n",
       "      <td>204.0</td>\n",
       "    </tr>\n",
       "    <tr>\n",
       "      <th>weather_related</th>\n",
       "      <td>0.750668</td>\n",
       "      <td>0.860771</td>\n",
       "      <td>0.665538</td>\n",
       "      <td>1477.0</td>\n",
       "    </tr>\n",
       "    <tr>\n",
       "      <th>floods</th>\n",
       "      <td>0.633600</td>\n",
       "      <td>0.929577</td>\n",
       "      <td>0.480583</td>\n",
       "      <td>412.0</td>\n",
       "    </tr>\n",
       "    <tr>\n",
       "      <th>storm</th>\n",
       "      <td>0.655093</td>\n",
       "      <td>0.790503</td>\n",
       "      <td>0.559289</td>\n",
       "      <td>506.0</td>\n",
       "    </tr>\n",
       "    <tr>\n",
       "      <th>fire</th>\n",
       "      <td>0.166667</td>\n",
       "      <td>0.666667</td>\n",
       "      <td>0.095238</td>\n",
       "      <td>63.0</td>\n",
       "    </tr>\n",
       "    <tr>\n",
       "      <th>earthquake</th>\n",
       "      <td>0.833676</td>\n",
       "      <td>0.888403</td>\n",
       "      <td>0.785300</td>\n",
       "      <td>517.0</td>\n",
       "    </tr>\n",
       "    <tr>\n",
       "      <th>cold</th>\n",
       "      <td>0.086207</td>\n",
       "      <td>0.714286</td>\n",
       "      <td>0.045872</td>\n",
       "      <td>109.0</td>\n",
       "    </tr>\n",
       "    <tr>\n",
       "      <th>other_weather</th>\n",
       "      <td>0.066914</td>\n",
       "      <td>0.692308</td>\n",
       "      <td>0.035156</td>\n",
       "      <td>256.0</td>\n",
       "    </tr>\n",
       "    <tr>\n",
       "      <th>direct_report</th>\n",
       "      <td>0.523401</td>\n",
       "      <td>0.746241</td>\n",
       "      <td>0.403046</td>\n",
       "      <td>985.0</td>\n",
       "    </tr>\n",
       "    <tr>\n",
       "      <th>micro avg</th>\n",
       "      <td>0.654408</td>\n",
       "      <td>0.815285</td>\n",
       "      <td>0.546557</td>\n",
       "      <td>16571.0</td>\n",
       "    </tr>\n",
       "    <tr>\n",
       "      <th>macro avg</th>\n",
       "      <td>0.301673</td>\n",
       "      <td>0.599137</td>\n",
       "      <td>0.249179</td>\n",
       "      <td>16571.0</td>\n",
       "    </tr>\n",
       "    <tr>\n",
       "      <th>weighted avg</th>\n",
       "      <td>0.587489</td>\n",
       "      <td>0.769015</td>\n",
       "      <td>0.546557</td>\n",
       "      <td>16571.0</td>\n",
       "    </tr>\n",
       "    <tr>\n",
       "      <th>samples avg</th>\n",
       "      <td>0.515807</td>\n",
       "      <td>0.666716</td>\n",
       "      <td>0.490385</td>\n",
       "      <td>16571.0</td>\n",
       "    </tr>\n",
       "  </tbody>\n",
       "</table>\n",
       "</div>"
      ],
      "text/plain": [
       "                        f1-score  precision    recall  support\n",
       "related                 0.893236  0.840355   0.953219  3976.0 \n",
       "request                 0.624741  0.801418   0.511891  883.0  \n",
       "offer                   0.000000  0.000000   0.000000  32.0   \n",
       "aid_related             0.690560  0.767246   0.627811  2179.0 \n",
       "medical_help            0.223853  0.743902   0.131749  463.0  \n",
       "medical_products        0.234940  0.812500   0.137324  284.0  \n",
       "search_and_rescue       0.202247  0.782609   0.116129  155.0  \n",
       "security                0.000000  0.000000   0.000000  85.0   \n",
       "military                0.110553  0.611111   0.060773  181.0  \n",
       "water                   0.679803  0.726316   0.638889  324.0  \n",
       "food                    0.742424  0.762646   0.723247  542.0  \n",
       "shelter                 0.596591  0.843373   0.461538  455.0  \n",
       "clothing                0.550000  0.702128   0.452055  73.0   \n",
       "money                   0.033898  0.666667   0.017391  115.0  \n",
       "missing_people          0.029851  1.000000   0.015152  66.0   \n",
       "refugees                0.118919  0.647059   0.065476  168.0  \n",
       "death                   0.497238  0.769231   0.367347  245.0  \n",
       "other_aid               0.002837  1.000000   0.001420  704.0  \n",
       "infrastructure_related  0.000000  0.000000   0.000000  320.0  \n",
       "transport               0.169118  0.696970   0.096234  239.0  \n",
       "buildings               0.331288  0.729730   0.214286  252.0  \n",
       "electricity             0.110236  0.777778   0.059322  118.0  \n",
       "tools                   0.000000  0.000000   0.000000  29.0   \n",
       "hospitals               0.000000  0.000000   0.000000  67.0   \n",
       "shops                   0.000000  0.000000   0.000000  28.0   \n",
       "aid_centers             0.000000  0.000000   0.000000  59.0   \n",
       "other_infrastructure    0.000000  0.000000   0.000000  204.0  \n",
       "weather_related         0.750668  0.860771   0.665538  1477.0 \n",
       "floods                  0.633600  0.929577   0.480583  412.0  \n",
       "storm                   0.655093  0.790503   0.559289  506.0  \n",
       "fire                    0.166667  0.666667   0.095238  63.0   \n",
       "earthquake              0.833676  0.888403   0.785300  517.0  \n",
       "cold                    0.086207  0.714286   0.045872  109.0  \n",
       "other_weather           0.066914  0.692308   0.035156  256.0  \n",
       "direct_report           0.523401  0.746241   0.403046  985.0  \n",
       "micro avg               0.654408  0.815285   0.546557  16571.0\n",
       "macro avg               0.301673  0.599137   0.249179  16571.0\n",
       "weighted avg            0.587489  0.769015   0.546557  16571.0\n",
       "samples avg             0.515807  0.666716   0.490385  16571.0"
      ]
     },
     "execution_count": 40,
     "metadata": {},
     "output_type": "execute_result"
    }
   ],
   "source": [
    "evaluate_multilabel(tuned_clf, X_test, Y_test)"
   ]
  },
  {
   "cell_type": "markdown",
   "metadata": {},
   "source": [
    "### 8. Try improving your model further. Here are a few ideas:\n",
    "* try other machine learning algorithms\n",
    "* add other features besides the TF-IDF"
   ]
  },
  {
   "cell_type": "code",
   "execution_count": null,
   "metadata": {},
   "outputs": [],
   "source": []
  },
  {
   "cell_type": "markdown",
   "metadata": {},
   "source": [
    "### 9. Export your model as a pickle file"
   ]
  },
  {
   "cell_type": "code",
   "execution_count": null,
   "metadata": {},
   "outputs": [],
   "source": []
  },
  {
   "cell_type": "markdown",
   "metadata": {},
   "source": [
    "### 10. Use this notebook to complete `train.py`\n",
    "Use the template file attached in the Resources folder to write a script that runs the steps above to create a database and export a model based on a new dataset specified by the user."
   ]
  },
  {
   "cell_type": "markdown",
   "metadata": {},
   "source": [
    "- to do: concatenate one hot encoded genre with text\n",
    "- eventually length and total categories to (see blog article)"
   ]
  },
  {
   "cell_type": "code",
   "execution_count": null,
   "metadata": {},
   "outputs": [],
   "source": [
    "stop\n",
    "\n",
    "# define the classifier, wrapped in MultiOutputClassifier\n",
    "clf = RandomForestClassifier(n_estimators=100, random_state=1, n_jobs=-1)\n",
    "\n",
    "# build the pipeline\n",
    "pre_pipe = Pipeline([\n",
    "    ('vect', CountVectorizer(tokenizer=tokenize_text)),\n",
    "    ('tfidf', TfidfTransformer()),\n",
    "    ('clf', MultiOutputClassifier(clf, n_jobs=-1)),\n",
    "              ])\n",
    "\n",
    "start = time.time()\n",
    "\n",
    "# train the pipeline\n",
    "model = pipe.fit(X_train, Y_train)\n",
    "# predict labels on test_set\n",
    "Y_pred = model.predict(X_test)\n",
    "\n",
    "print('Duration: {} seconds'.format(time.time() - start))"
   ]
  }
 ],
 "metadata": {
  "kernelspec": {
   "display_name": "Python [default]",
   "language": "python",
   "name": "python3"
  },
  "language_info": {
   "codemirror_mode": {
    "name": "ipython",
    "version": 3
   },
   "file_extension": ".py",
   "mimetype": "text/x-python",
   "name": "python",
   "nbconvert_exporter": "python",
   "pygments_lexer": "ipython3",
   "version": "3.6.3"
  }
 },
 "nbformat": 4,
 "nbformat_minor": 2
}
