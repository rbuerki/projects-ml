{
 "cells": [
  {
   "cell_type": "markdown",
   "metadata": {},
   "source": [
    "# EDA\n"
   ]
  },
  {
   "cell_type": "markdown",
   "metadata": {},
   "source": [
    "### Import libraries and load data\n"
   ]
  },
  {
   "cell_type": "code",
   "execution_count": 1,
   "metadata": {},
   "outputs": [],
   "source": [
    "import numpy as np\n",
    "import pandas as pd\n",
    "from sqlalchemy import create_engine\n",
    "\n",
    "from sklearn.model_selection import StratifiedShuffleSplit, train_test_split\n",
    "# from sklearn.feature_extraction.text import CountVectorizer, TfidfTransformer\n",
    "# from sklearn.pipeline import Pipeline, FeatureUnion\n",
    "# from sklearn.metrics import classification_report, confusion_matrix\n",
    "# from sklearn.ensemble import RandomForestClassifier, GradientBoostingClassifier\n",
    "# from sklearn.multioutput import MultiOutputClassifier\n",
    "# # from sklearn.base import BaseEstimator, TransformerMixin\n",
    "\n",
    "# import re\n",
    "# import nltk\n",
    "# nltk.download(['punkt', 'wordnet', 'stopwords', 'averaged_perceptron_tagger', 'maxent_ne_chunker', 'words'])\n",
    "# from nltk.corpus import stopwords\n",
    "# from nltk import pos_tag, ne_chunk\n",
    "# from nltk.tokenize import word_tokenize\n",
    "# from nltk.stem.wordnet import WordNetLemmatizer\n",
    "\n",
    "# visualization\n",
    "import matplotlib.pyplot as plt\n",
    "import seaborn as sns\n",
    "sns.set(); color='rebeccapurple'\n",
    "%matplotlib inline  \n",
    "\n",
    "# display settings\n",
    "pd.set_option('max_colwidth', -1)\n",
    "pd.set_option('display.max_columns', None)  "
   ]
  },
  {
   "cell_type": "code",
   "execution_count": 2,
   "metadata": {},
   "outputs": [],
   "source": [
    "# load data from database with `read_sql_table`\n",
    "engine = create_engine('sqlite:///DisasterResponse.db')\n",
    "df = pd.read_sql_table('messages', engine)"
   ]
  },
  {
   "cell_type": "markdown",
   "metadata": {},
   "source": [
    "## Have a look at data structure"
   ]
  },
  {
   "cell_type": "code",
   "execution_count": 3,
   "metadata": {},
   "outputs": [
    {
     "name": "stdout",
     "output_type": "stream",
     "text": [
      "<class 'pandas.core.frame.DataFrame'>\n",
      "RangeIndex: 25992 entries, 0 to 25991\n",
      "Data columns (total 39 columns):\n",
      "id                        25992 non-null int64\n",
      "message                   25992 non-null object\n",
      "original                  10021 non-null object\n",
      "genre                     25992 non-null object\n",
      "related                   25992 non-null int64\n",
      "request                   25992 non-null int64\n",
      "offer                     25992 non-null int64\n",
      "aid_related               25992 non-null int64\n",
      "medical_help              25992 non-null int64\n",
      "medical_products          25992 non-null int64\n",
      "search_and_rescue         25992 non-null int64\n",
      "security                  25992 non-null int64\n",
      "military                  25992 non-null int64\n",
      "water                     25992 non-null int64\n",
      "food                      25992 non-null int64\n",
      "shelter                   25992 non-null int64\n",
      "clothing                  25992 non-null int64\n",
      "money                     25992 non-null int64\n",
      "missing_people            25992 non-null int64\n",
      "refugees                  25992 non-null int64\n",
      "death                     25992 non-null int64\n",
      "other_aid                 25992 non-null int64\n",
      "infrastructure_related    25992 non-null int64\n",
      "transport                 25992 non-null int64\n",
      "buildings                 25992 non-null int64\n",
      "electricity               25992 non-null int64\n",
      "tools                     25992 non-null int64\n",
      "hospitals                 25992 non-null int64\n",
      "shops                     25992 non-null int64\n",
      "aid_centers               25992 non-null int64\n",
      "other_infrastructure      25992 non-null int64\n",
      "weather_related           25992 non-null int64\n",
      "floods                    25992 non-null int64\n",
      "storm                     25992 non-null int64\n",
      "fire                      25992 non-null int64\n",
      "earthquake                25992 non-null int64\n",
      "cold                      25992 non-null int64\n",
      "other_weather             25992 non-null int64\n",
      "direct_report             25992 non-null int64\n",
      "dtypes: int64(36), object(3)\n",
      "memory usage: 7.7+ MB\n"
     ]
    }
   ],
   "source": [
    "df.info()"
   ]
  },
  {
   "cell_type": "code",
   "execution_count": 4,
   "metadata": {},
   "outputs": [
    {
     "data": {
      "text/html": [
       "<div>\n",
       "<style scoped>\n",
       "    .dataframe tbody tr th:only-of-type {\n",
       "        vertical-align: middle;\n",
       "    }\n",
       "\n",
       "    .dataframe tbody tr th {\n",
       "        vertical-align: top;\n",
       "    }\n",
       "\n",
       "    .dataframe thead th {\n",
       "        text-align: right;\n",
       "    }\n",
       "</style>\n",
       "<table border=\"1\" class=\"dataframe\">\n",
       "  <thead>\n",
       "    <tr style=\"text-align: right;\">\n",
       "      <th></th>\n",
       "      <th>id</th>\n",
       "      <th>message</th>\n",
       "      <th>original</th>\n",
       "      <th>genre</th>\n",
       "      <th>related</th>\n",
       "      <th>request</th>\n",
       "      <th>offer</th>\n",
       "      <th>aid_related</th>\n",
       "      <th>medical_help</th>\n",
       "      <th>medical_products</th>\n",
       "      <th>search_and_rescue</th>\n",
       "      <th>security</th>\n",
       "      <th>military</th>\n",
       "      <th>water</th>\n",
       "      <th>food</th>\n",
       "      <th>shelter</th>\n",
       "      <th>clothing</th>\n",
       "      <th>money</th>\n",
       "      <th>missing_people</th>\n",
       "      <th>refugees</th>\n",
       "      <th>death</th>\n",
       "      <th>other_aid</th>\n",
       "      <th>infrastructure_related</th>\n",
       "      <th>transport</th>\n",
       "      <th>buildings</th>\n",
       "      <th>electricity</th>\n",
       "      <th>tools</th>\n",
       "      <th>hospitals</th>\n",
       "      <th>shops</th>\n",
       "      <th>aid_centers</th>\n",
       "      <th>other_infrastructure</th>\n",
       "      <th>weather_related</th>\n",
       "      <th>floods</th>\n",
       "      <th>storm</th>\n",
       "      <th>fire</th>\n",
       "      <th>earthquake</th>\n",
       "      <th>cold</th>\n",
       "      <th>other_weather</th>\n",
       "      <th>direct_report</th>\n",
       "    </tr>\n",
       "  </thead>\n",
       "  <tbody>\n",
       "    <tr>\n",
       "      <th>0</th>\n",
       "      <td>2</td>\n",
       "      <td>Weather update - a cold front from Cuba that could pass over Haiti</td>\n",
       "      <td>Un front froid se retrouve sur Cuba ce matin. Il pourrait traverser Haiti demain. Des averses de pluie isolee sont encore prevues sur notre region ce soi</td>\n",
       "      <td>direct</td>\n",
       "      <td>1</td>\n",
       "      <td>0</td>\n",
       "      <td>0</td>\n",
       "      <td>0</td>\n",
       "      <td>0</td>\n",
       "      <td>0</td>\n",
       "      <td>0</td>\n",
       "      <td>0</td>\n",
       "      <td>0</td>\n",
       "      <td>0</td>\n",
       "      <td>0</td>\n",
       "      <td>0</td>\n",
       "      <td>0</td>\n",
       "      <td>0</td>\n",
       "      <td>0</td>\n",
       "      <td>0</td>\n",
       "      <td>0</td>\n",
       "      <td>0</td>\n",
       "      <td>0</td>\n",
       "      <td>0</td>\n",
       "      <td>0</td>\n",
       "      <td>0</td>\n",
       "      <td>0</td>\n",
       "      <td>0</td>\n",
       "      <td>0</td>\n",
       "      <td>0</td>\n",
       "      <td>0</td>\n",
       "      <td>0</td>\n",
       "      <td>0</td>\n",
       "      <td>0</td>\n",
       "      <td>0</td>\n",
       "      <td>0</td>\n",
       "      <td>0</td>\n",
       "      <td>0</td>\n",
       "      <td>0</td>\n",
       "    </tr>\n",
       "    <tr>\n",
       "      <th>1</th>\n",
       "      <td>7</td>\n",
       "      <td>Is the Hurricane over or is it not over</td>\n",
       "      <td>Cyclone nan fini osinon li pa fini</td>\n",
       "      <td>direct</td>\n",
       "      <td>1</td>\n",
       "      <td>0</td>\n",
       "      <td>0</td>\n",
       "      <td>1</td>\n",
       "      <td>0</td>\n",
       "      <td>0</td>\n",
       "      <td>0</td>\n",
       "      <td>0</td>\n",
       "      <td>0</td>\n",
       "      <td>0</td>\n",
       "      <td>0</td>\n",
       "      <td>0</td>\n",
       "      <td>0</td>\n",
       "      <td>0</td>\n",
       "      <td>0</td>\n",
       "      <td>0</td>\n",
       "      <td>0</td>\n",
       "      <td>1</td>\n",
       "      <td>0</td>\n",
       "      <td>0</td>\n",
       "      <td>0</td>\n",
       "      <td>0</td>\n",
       "      <td>0</td>\n",
       "      <td>0</td>\n",
       "      <td>0</td>\n",
       "      <td>0</td>\n",
       "      <td>0</td>\n",
       "      <td>1</td>\n",
       "      <td>0</td>\n",
       "      <td>1</td>\n",
       "      <td>0</td>\n",
       "      <td>0</td>\n",
       "      <td>0</td>\n",
       "      <td>0</td>\n",
       "      <td>0</td>\n",
       "    </tr>\n",
       "    <tr>\n",
       "      <th>2</th>\n",
       "      <td>8</td>\n",
       "      <td>Looking for someone but no name</td>\n",
       "      <td>Patnm, di Maryani relem pou li banm nouvel li ak timoun yo. Mesi se john jean depi Monben kwochi.</td>\n",
       "      <td>direct</td>\n",
       "      <td>1</td>\n",
       "      <td>0</td>\n",
       "      <td>0</td>\n",
       "      <td>0</td>\n",
       "      <td>0</td>\n",
       "      <td>0</td>\n",
       "      <td>0</td>\n",
       "      <td>0</td>\n",
       "      <td>0</td>\n",
       "      <td>0</td>\n",
       "      <td>0</td>\n",
       "      <td>0</td>\n",
       "      <td>0</td>\n",
       "      <td>0</td>\n",
       "      <td>0</td>\n",
       "      <td>0</td>\n",
       "      <td>0</td>\n",
       "      <td>0</td>\n",
       "      <td>0</td>\n",
       "      <td>0</td>\n",
       "      <td>0</td>\n",
       "      <td>0</td>\n",
       "      <td>0</td>\n",
       "      <td>0</td>\n",
       "      <td>0</td>\n",
       "      <td>0</td>\n",
       "      <td>0</td>\n",
       "      <td>0</td>\n",
       "      <td>0</td>\n",
       "      <td>0</td>\n",
       "      <td>0</td>\n",
       "      <td>0</td>\n",
       "      <td>0</td>\n",
       "      <td>0</td>\n",
       "      <td>0</td>\n",
       "    </tr>\n",
       "    <tr>\n",
       "      <th>3</th>\n",
       "      <td>9</td>\n",
       "      <td>UN reports Leogane 80-90 destroyed. Only Hospital St. Croix functioning. Needs supplies desperately.</td>\n",
       "      <td>UN reports Leogane 80-90 destroyed. Only Hospital St. Croix functioning. Needs supplies desperately.</td>\n",
       "      <td>direct</td>\n",
       "      <td>1</td>\n",
       "      <td>1</td>\n",
       "      <td>0</td>\n",
       "      <td>1</td>\n",
       "      <td>0</td>\n",
       "      <td>1</td>\n",
       "      <td>0</td>\n",
       "      <td>0</td>\n",
       "      <td>0</td>\n",
       "      <td>0</td>\n",
       "      <td>0</td>\n",
       "      <td>0</td>\n",
       "      <td>0</td>\n",
       "      <td>0</td>\n",
       "      <td>0</td>\n",
       "      <td>0</td>\n",
       "      <td>0</td>\n",
       "      <td>1</td>\n",
       "      <td>1</td>\n",
       "      <td>0</td>\n",
       "      <td>1</td>\n",
       "      <td>0</td>\n",
       "      <td>0</td>\n",
       "      <td>1</td>\n",
       "      <td>0</td>\n",
       "      <td>0</td>\n",
       "      <td>0</td>\n",
       "      <td>0</td>\n",
       "      <td>0</td>\n",
       "      <td>0</td>\n",
       "      <td>0</td>\n",
       "      <td>0</td>\n",
       "      <td>0</td>\n",
       "      <td>0</td>\n",
       "      <td>0</td>\n",
       "    </tr>\n",
       "    <tr>\n",
       "      <th>4</th>\n",
       "      <td>12</td>\n",
       "      <td>says: west side of Haiti, rest of the country today and tonight</td>\n",
       "      <td>facade ouest d Haiti et le reste du pays aujourd hui et ce soir</td>\n",
       "      <td>direct</td>\n",
       "      <td>1</td>\n",
       "      <td>0</td>\n",
       "      <td>0</td>\n",
       "      <td>0</td>\n",
       "      <td>0</td>\n",
       "      <td>0</td>\n",
       "      <td>0</td>\n",
       "      <td>0</td>\n",
       "      <td>0</td>\n",
       "      <td>0</td>\n",
       "      <td>0</td>\n",
       "      <td>0</td>\n",
       "      <td>0</td>\n",
       "      <td>0</td>\n",
       "      <td>0</td>\n",
       "      <td>0</td>\n",
       "      <td>0</td>\n",
       "      <td>0</td>\n",
       "      <td>0</td>\n",
       "      <td>0</td>\n",
       "      <td>0</td>\n",
       "      <td>0</td>\n",
       "      <td>0</td>\n",
       "      <td>0</td>\n",
       "      <td>0</td>\n",
       "      <td>0</td>\n",
       "      <td>0</td>\n",
       "      <td>0</td>\n",
       "      <td>0</td>\n",
       "      <td>0</td>\n",
       "      <td>0</td>\n",
       "      <td>0</td>\n",
       "      <td>0</td>\n",
       "      <td>0</td>\n",
       "      <td>0</td>\n",
       "    </tr>\n",
       "  </tbody>\n",
       "</table>\n",
       "</div>"
      ],
      "text/plain": [
       "   id  \\\n",
       "0  2    \n",
       "1  7    \n",
       "2  8    \n",
       "3  9    \n",
       "4  12   \n",
       "\n",
       "                                                                                                message  \\\n",
       "0  Weather update - a cold front from Cuba that could pass over Haiti                                     \n",
       "1  Is the Hurricane over or is it not over                                                                \n",
       "2  Looking for someone but no name                                                                        \n",
       "3  UN reports Leogane 80-90 destroyed. Only Hospital St. Croix functioning. Needs supplies desperately.   \n",
       "4  says: west side of Haiti, rest of the country today and tonight                                        \n",
       "\n",
       "                                                                                                                                                    original  \\\n",
       "0  Un front froid se retrouve sur Cuba ce matin. Il pourrait traverser Haiti demain. Des averses de pluie isolee sont encore prevues sur notre region ce soi   \n",
       "1  Cyclone nan fini osinon li pa fini                                                                                                                          \n",
       "2  Patnm, di Maryani relem pou li banm nouvel li ak timoun yo. Mesi se john jean depi Monben kwochi.                                                           \n",
       "3  UN reports Leogane 80-90 destroyed. Only Hospital St. Croix functioning. Needs supplies desperately.                                                        \n",
       "4  facade ouest d Haiti et le reste du pays aujourd hui et ce soir                                                                                             \n",
       "\n",
       "    genre  related  request  offer  aid_related  medical_help  \\\n",
       "0  direct  1        0        0      0            0              \n",
       "1  direct  1        0        0      1            0              \n",
       "2  direct  1        0        0      0            0              \n",
       "3  direct  1        1        0      1            0              \n",
       "4  direct  1        0        0      0            0              \n",
       "\n",
       "   medical_products  search_and_rescue  security  military  water  food  \\\n",
       "0  0                 0                  0         0         0      0      \n",
       "1  0                 0                  0         0         0      0      \n",
       "2  0                 0                  0         0         0      0      \n",
       "3  1                 0                  0         0         0      0      \n",
       "4  0                 0                  0         0         0      0      \n",
       "\n",
       "   shelter  clothing  money  missing_people  refugees  death  other_aid  \\\n",
       "0  0        0         0      0               0         0      0           \n",
       "1  0        0         0      0               0         0      1           \n",
       "2  0        0         0      0               0         0      0           \n",
       "3  0        0         0      0               0         0      1           \n",
       "4  0        0         0      0               0         0      0           \n",
       "\n",
       "   infrastructure_related  transport  buildings  electricity  tools  \\\n",
       "0  0                       0          0          0            0       \n",
       "1  0                       0          0          0            0       \n",
       "2  0                       0          0          0            0       \n",
       "3  1                       0          1          0            0       \n",
       "4  0                       0          0          0            0       \n",
       "\n",
       "   hospitals  shops  aid_centers  other_infrastructure  weather_related  \\\n",
       "0  0          0      0            0                     0                 \n",
       "1  0          0      0            0                     1                 \n",
       "2  0          0      0            0                     0                 \n",
       "3  1          0      0            0                     0                 \n",
       "4  0          0      0            0                     0                 \n",
       "\n",
       "   floods  storm  fire  earthquake  cold  other_weather  direct_report  \n",
       "0  0       0      0     0           0     0              0              \n",
       "1  0       1      0     0           0     0              0              \n",
       "2  0       0      0     0           0     0              0              \n",
       "3  0       0      0     0           0     0              0              \n",
       "4  0       0      0     0           0     0              0              "
      ]
     },
     "execution_count": 4,
     "metadata": {},
     "output_type": "execute_result"
    }
   ],
   "source": [
    "df.head()"
   ]
  },
  {
   "cell_type": "markdown",
   "metadata": {},
   "source": [
    "### Explore target class distribution\n",
    "\n",
    "For a stratified split into test and training sets, the target class distribution has to be known and understood"
   ]
  },
  {
   "cell_type": "code",
   "execution_count": 5,
   "metadata": {},
   "outputs": [
    {
     "data": {
      "image/png": "[encoded data removed]",
      "text/plain": [
       "<Figure size 1152x288 with 1 Axes>"
      ]
     },
     "metadata": {
      "needs_background": "light"
     },
     "output_type": "display_data"
    }
   ],
   "source": [
    "# check for general target class distribution\n",
    "plt.figure(figsize=(16,4))\n",
    "df.iloc[:,4:40].sum().plot.bar(color=color);"
   ]
  },
  {
   "cell_type": "code",
   "execution_count": 6,
   "metadata": {},
   "outputs": [
    {
     "data": {
      "image/png": "[encoded data removed]",
      "text/plain": [
       "<Figure size 864x288 with 1 Axes>"
      ]
     },
     "metadata": {
      "needs_background": "light"
     },
     "output_type": "display_data"
    }
   ],
   "source": [
    "# check for distribution of different numbers of target categories per message\n",
    "\n",
    "# create new column with total of active categories per message\n",
    "df['total'] = df.iloc[:,4:40].sum(axis=1)\n",
    "# plot the result\n",
    "plt.figure(figsize=(12,4))\n",
    "df['total'].value_counts().plot.bar(color=color);"
   ]
  },
  {
   "cell_type": "code",
   "execution_count": 7,
   "metadata": {},
   "outputs": [
    {
     "data": {
      "text/plain": [
       "0    6116\n",
       "1    5115\n",
       "3    3603\n",
       "5    2950\n",
       "4    2273\n",
       "Name: total, dtype: int64"
      ]
     },
     "execution_count": 7,
     "metadata": {},
     "output_type": "execute_result"
    }
   ],
   "source": [
    "# check for most frequent category counts per message\n",
    "df['total'].value_counts().head()"
   ]
  },
  {
   "cell_type": "code",
   "execution_count": 8,
   "metadata": {},
   "outputs": [
    {
     "data": {
      "text/html": [
       "<div>\n",
       "<style scoped>\n",
       "    .dataframe tbody tr th:only-of-type {\n",
       "        vertical-align: middle;\n",
       "    }\n",
       "\n",
       "    .dataframe tbody tr th {\n",
       "        vertical-align: top;\n",
       "    }\n",
       "\n",
       "    .dataframe thead th {\n",
       "        text-align: right;\n",
       "    }\n",
       "</style>\n",
       "<table border=\"1\" class=\"dataframe\">\n",
       "  <thead>\n",
       "    <tr style=\"text-align: right;\">\n",
       "      <th></th>\n",
       "      <th>message</th>\n",
       "    </tr>\n",
       "  </thead>\n",
       "  <tbody>\n",
       "    <tr>\n",
       "      <th>6333</th>\n",
       "      <td>NOTES: This message is not important</td>\n",
       "    </tr>\n",
       "    <tr>\n",
       "      <th>6474</th>\n",
       "      <td>any country wouldn't advance without education,at least close the school it's opene the door of prisons</td>\n",
       "    </tr>\n",
       "    <tr>\n",
       "      <th>8888</th>\n",
       "      <td>Why does it rain every night?</td>\n",
       "    </tr>\n",
       "    <tr>\n",
       "      <th>25915</th>\n",
       "      <td>Replying to a question by Congress of Democrats (CoD) leader Ben Ulenga, Simunja said legislation governing the NDF did not provide for conscientious objectors.</td>\n",
       "    </tr>\n",
       "    <tr>\n",
       "      <th>18563</th>\n",
       "      <td>In Syria, rebel militias brought a detainee, \"unshackled and in flip-flops,\" into a school that had been converted to a courtroom run by seven imams to face charges of belonging to President Bashar Assad's shabiha paramilitaries and informing on antigovernment activists, according to an August 2012 account in the Los Angeles Times.</td>\n",
       "    </tr>\n",
       "  </tbody>\n",
       "</table>\n",
       "</div>"
      ],
      "text/plain": [
       "                                                                                                                                                                                                                                                                                                                                             message\n",
       "6333   NOTES: This message is not important                                                                                                                                                                                                                                                                                                         \n",
       "6474   any country wouldn't advance without education,at least close the school it's opene the door of prisons                                                                                                                                                                                                                                      \n",
       "8888   Why does it rain every night?                                                                                                                                                                                                                                                                                                                \n",
       "25915  Replying to a question by Congress of Democrats (CoD) leader Ben Ulenga, Simunja said legislation governing the NDF did not provide for conscientious objectors.                                                                                                                                                                             \n",
       "18563  In Syria, rebel militias brought a detainee, \"unshackled and in flip-flops,\" into a school that had been converted to a courtroom run by seven imams to face charges of belonging to President Bashar Assad's shabiha paramilitaries and informing on antigovernment activists, according to an August 2012 account in the Los Angeles Times."
      ]
     },
     "execution_count": 8,
     "metadata": {},
     "output_type": "execute_result"
    }
   ],
   "source": [
    "# check a sample of messages with 0 active categories\n",
    "df.loc[(df['total'] == 0), ['message']].sample(5)"
   ]
  },
  {
   "cell_type": "code",
   "execution_count": 9,
   "metadata": {},
   "outputs": [
    {
     "data": {
      "text/html": [
       "<div>\n",
       "<style scoped>\n",
       "    .dataframe tbody tr th:only-of-type {\n",
       "        vertical-align: middle;\n",
       "    }\n",
       "\n",
       "    .dataframe tbody tr th {\n",
       "        vertical-align: top;\n",
       "    }\n",
       "\n",
       "    .dataframe thead th {\n",
       "        text-align: right;\n",
       "    }\n",
       "</style>\n",
       "<table border=\"1\" class=\"dataframe\">\n",
       "  <thead>\n",
       "    <tr style=\"text-align: right;\">\n",
       "      <th></th>\n",
       "      <th>message</th>\n",
       "    </tr>\n",
       "  </thead>\n",
       "  <tbody>\n",
       "    <tr>\n",
       "      <th>25507</th>\n",
       "      <td>(d) The resourcing situation remains unchanged.</td>\n",
       "    </tr>\n",
       "    <tr>\n",
       "      <th>2235</th>\n",
       "      <td>im without a mother nor father.</td>\n",
       "    </tr>\n",
       "    <tr>\n",
       "      <th>23804</th>\n",
       "      <td>Dirty water, sick animals used for food and other unhealthy eating conditions are causing health issues in other parts of Prey Veng too, so MCC's response includes cleaning wells, distributing hygiene kits and training teachers at Angkearhdei about hygiene and sanitation practices.</td>\n",
       "    </tr>\n",
       "    <tr>\n",
       "      <th>14948</th>\n",
       "      <td>Although agricultural losses have already occurred, current problems include degraded pasture conditions and low drinking water levels, which will not be improved until at least October when short season rains normally begin to intensify.</td>\n",
       "    </tr>\n",
       "    <tr>\n",
       "      <th>1979</th>\n",
       "      <td>I need information about how I can leave this country</td>\n",
       "    </tr>\n",
       "  </tbody>\n",
       "</table>\n",
       "</div>"
      ],
      "text/plain": [
       "                                                                                                                                                                                                                                                                                          message\n",
       "25507  (d) The resourcing situation remains unchanged.                                                                                                                                                                                                                                           \n",
       "2235   im without a mother nor father.                                                                                                                                                                                                                                                           \n",
       "23804  Dirty water, sick animals used for food and other unhealthy eating conditions are causing health issues in other parts of Prey Veng too, so MCC's response includes cleaning wells, distributing hygiene kits and training teachers at Angkearhdei about hygiene and sanitation practices.\n",
       "14948  Although agricultural losses have already occurred, current problems include degraded pasture conditions and low drinking water levels, which will not be improved until at least October when short season rains normally begin to intensify.                                            \n",
       "1979   I need information about how I can leave this country                                                                                                                                                                                                                                     "
      ]
     },
     "execution_count": 9,
     "metadata": {},
     "output_type": "execute_result"
    }
   ],
   "source": [
    "# check a sample of messages with 1 active categories\n",
    "df.loc[(df['total'] == 1), ['message']].sample(5)"
   ]
  },
  {
   "cell_type": "code",
   "execution_count": 10,
   "metadata": {},
   "outputs": [
    {
     "data": {
      "image/png": "[encoded data removed]",
      "text/plain": [
       "<Figure size 1152x288 with 1 Axes>"
      ]
     },
     "metadata": {
      "needs_background": "light"
     },
     "output_type": "display_data"
    }
   ],
   "source": [
    "# check which categories are active for plots with category count of 1\n",
    "df_temp1 = df.loc[(df['total'] == 1)]\n",
    "# plot the result\n",
    "plt.figure(figsize=(16,4))\n",
    "df_temp1.iloc[:,4:40].sum().plot.bar(color=color);"
   ]
  },
  {
   "cell_type": "markdown",
   "metadata": {},
   "source": [
    "__Observations__\n",
    "- 6'116 messages are not distaster related (and are logically not associated to a category)\n",
    "- 5'115 messages are disaster related but are not associated to a category\n",
    "- 14'949 remaining messages are related and associated to 2-26 different categories each\n",
    "- these seem to be grouped again into 3 main categories aid_related, infrastructure_related, weather_related\n",
    "- messages with more than approx. 10 categories each are quite rare and seem to be kind of 'outliers'\n",
    "\n",
    "__Decision__\n",
    "\n",
    "Data will be split into test and training set with stratified sampling to preserve the distribution of number of categories in both sets. This is important to make sure that especially the proportions of non-related messages (0 active categories) and related but non-categorized messages (1 active category = 'related') will be the same in both sets."
   ]
  },
  {
   "cell_type": "markdown",
   "metadata": {},
   "source": [
    "## Split data into training and test sets (with stratified sampling)"
   ]
  },
  {
   "cell_type": "code",
   "execution_count": 11,
   "metadata": {},
   "outputs": [],
   "source": [
    "# for StratifiedShuffleSlpit to work properly all values > 10 in ['total'] column will be set to 11.\n",
    "df['total'] = np.where((df['total'] >10), 11, df['total'])"
   ]
  },
  {
   "cell_type": "code",
   "execution_count": 12,
   "metadata": {},
   "outputs": [],
   "source": [
    "# create testset with stratified sampling according to the category count per message\n",
    "split = StratifiedShuffleSplit(n_splits = 1, test_size = 0.2, random_state = 111)\n",
    "for train_index, test_index in split.split(df, df['total']):\n",
    "    train = df.loc[train_index]\n",
    "    test = df.loc[test_index]\n",
    "    \n",
    "# safety-check\n",
    "assert np.abs(len(test) - (len(df) * 0.2)) <= 1, 'split got messed up'\n",
    "assert (round(df['related'].sum() / len(df),3)) == (round(train['related'].sum() / len(train),3)), 'not properly stratisfied'"
   ]
  },
  {
   "cell_type": "code",
   "execution_count": 13,
   "metadata": {},
   "outputs": [],
   "source": [
    "# make a copy of the train set for some further exlporation\n",
    "eda = train.copy()"
   ]
  },
  {
   "cell_type": "markdown",
   "metadata": {},
   "source": [
    "## Some further EDA on training set\n",
    "\n",
    "Further exploration is performed on training only set to prevent 'data snooping bias'."
   ]
  },
  {
   "cell_type": "code",
   "execution_count": 16,
   "metadata": {},
   "outputs": [
    {
     "data": {
      "image/png": "[encoded data removed]",
      "text/plain": [
       "<Figure size 1152x288 with 1 Axes>"
      ]
     },
     "metadata": {
      "needs_background": "light"
     },
     "output_type": "display_data"
    }
   ],
   "source": [
    "# distribution of the categories for related and categorized messages only (excluding category 'related')\n",
    "eda_categorized = eda.loc[(eda['total'] > 1)]\n",
    "# plot the result\n",
    "plt.figure(figsize=(16,4))\n",
    "eda.iloc[:,5:39].sum().plot.bar(color=color);"
   ]
  },
  {
   "cell_type": "markdown",
   "metadata": {},
   "source": [
    "__Observation:__  Categories are imbalanced, this will have to be taken into account for model training"
   ]
  },
  {
   "cell_type": "markdown",
   "metadata": {},
   "source": [
    "### Check 'outlier messages' > 10 active categories"
   ]
  },
  {
   "cell_type": "code",
   "execution_count": 17,
   "metadata": {
    "scrolled": true
   },
   "outputs": [
    {
     "data": {
      "image/png": "[encoded data removed]",
      "text/plain": [
       "<Figure size 1152x288 with 1 Axes>"
      ]
     },
     "metadata": {
      "needs_background": "light"
     },
     "output_type": "display_data"
    }
   ],
   "source": [
    "# check if 'outlier messages' with more than 10 categories have some special distribution\n",
    "eda_outliers = eda.loc[(eda['total'] > 10)]\n",
    "# plot the result\n",
    "plt.figure(figsize=(16,4))\n",
    "eda_outliers.iloc[:,5:39].sum().plot.bar(color=color);"
   ]
  },
  {
   "cell_type": "code",
   "execution_count": 18,
   "metadata": {},
   "outputs": [
    {
     "name": "stdout",
     "output_type": "stream",
     "text": [
      "Messages with > 10 active categories: 360 (1.73% of total)\n"
     ]
    }
   ],
   "source": [
    "## print number / proportion of those messages\n",
    "print(\"Messages with > 10 active categories: {} ({}% of total)\" \\\n",
    "      .format(len(eda_outliers), round(100*(len(eda_outliers)/len(eda)),2)))"
   ]
  },
  {
   "cell_type": "code",
   "execution_count": 19,
   "metadata": {},
   "outputs": [
    {
     "data": {
      "text/html": [
       "<div>\n",
       "<style scoped>\n",
       "    .dataframe tbody tr th:only-of-type {\n",
       "        vertical-align: middle;\n",
       "    }\n",
       "\n",
       "    .dataframe tbody tr th {\n",
       "        vertical-align: top;\n",
       "    }\n",
       "\n",
       "    .dataframe thead th {\n",
       "        text-align: right;\n",
       "    }\n",
       "</style>\n",
       "<table border=\"1\" class=\"dataframe\">\n",
       "  <thead>\n",
       "    <tr style=\"text-align: right;\">\n",
       "      <th></th>\n",
       "      <th>message</th>\n",
       "    </tr>\n",
       "  </thead>\n",
       "  <tbody>\n",
       "    <tr>\n",
       "      <th>17906</th>\n",
       "      <td>Each family was given a mat, a bed sheet, a towel, and feeding bottles if they had infants.President Mills, accompanied by ministers of state and officials from the National Disaster Management Organisation (NADMO), first stopped at the Akim Oda Zongo and Akim Jamaica, where a number of houses were partly submerged in the flood and people were taking refuge in school and church buildings.</td>\n",
       "    </tr>\n",
       "    <tr>\n",
       "      <th>14002</th>\n",
       "      <td>DEDAYE, Myanmar, May 31, 2008 (AFP) - Myanmar has deployed armed riot police in one of the regions hit hardest by the cyclone, stationing them along a few kilometres (miles) of road leading to the Irrawaddy Delta.</td>\n",
       "    </tr>\n",
       "    <tr>\n",
       "      <th>17769</th>\n",
       "      <td>The rain damaged some 2,000 homes, cut 15 roads and forced at least three big industrial plants to halt operations in the city.</td>\n",
       "    </tr>\n",
       "    <tr>\n",
       "      <th>23722</th>\n",
       "      <td>The last information bulletin estimated that two million people were affected, and reports now suggest this figure will increase.</td>\n",
       "    </tr>\n",
       "    <tr>\n",
       "      <th>5364</th>\n",
       "      <td>Good evening. We live in the St-Antoine, Mergere area. Commune of Gressier. We are refugees in our backyard. We would like to get some help but with dignity, like house by house. water and Food.. we.. (truncated)</td>\n",
       "    </tr>\n",
       "  </tbody>\n",
       "</table>\n",
       "</div>"
      ],
      "text/plain": [
       "                                                                                                                                                                                                                                                                                                                                                                                                       message\n",
       "17906  Each family was given a mat, a bed sheet, a towel, and feeding bottles if they had infants.President Mills, accompanied by ministers of state and officials from the National Disaster Management Organisation (NADMO), first stopped at the Akim Oda Zongo and Akim Jamaica, where a number of houses were partly submerged in the flood and people were taking refuge in school and church buildings.\n",
       "14002  DEDAYE, Myanmar, May 31, 2008 (AFP) - Myanmar has deployed armed riot police in one of the regions hit hardest by the cyclone, stationing them along a few kilometres (miles) of road leading to the Irrawaddy Delta.                                                                                                                                                                                  \n",
       "17769  The rain damaged some 2,000 homes, cut 15 roads and forced at least three big industrial plants to halt operations in the city.                                                                                                                                                                                                                                                                        \n",
       "23722  The last information bulletin estimated that two million people were affected, and reports now suggest this figure will increase.                                                                                                                                                                                                                                                                      \n",
       "5364   Good evening. We live in the St-Antoine, Mergere area. Commune of Gressier. We are refugees in our backyard. We would like to get some help but with dignity, like house by house. water and Food.. we.. (truncated)                                                                                                                                                                                   "
      ]
     },
     "execution_count": 19,
     "metadata": {},
     "output_type": "execute_result"
    }
   ],
   "source": [
    "# look at sample of messages with more than 20 active categories\n",
    "eda.loc[(eda['total'] > 10)][['message']].sample(5)"
   ]
  },
  {
   "cell_type": "code",
   "execution_count": 20,
   "metadata": {},
   "outputs": [
    {
     "data": {
      "text/plain": [
       "news      195\n",
       "direct    146\n",
       "social    19 \n",
       "Name: genre, dtype: int64"
      ]
     },
     "execution_count": 20,
     "metadata": {},
     "output_type": "execute_result"
    }
   ],
   "source": [
    "# check genre of these outliers\n",
    "eda_outliers['genre'].value_counts()"
   ]
  },
  {
   "cell_type": "code",
   "execution_count": 21,
   "metadata": {},
   "outputs": [
    {
     "name": "stderr",
     "output_type": "stream",
     "text": [
      "C:\\Users\\r2d4\\Anaconda3\\lib\\site-packages\\ipykernel\\__main__.py:4: SettingWithCopyWarning: \n",
      "A value is trying to be set on a copy of a slice from a DataFrame.\n",
      "Try using .loc[row_indexer,col_indexer] = value instead\n",
      "\n",
      "See the caveats in the documentation: http://pandas.pydata.org/pandas-docs/stable/indexing.html#indexing-view-versus-copy\n",
      "C:\\Users\\r2d4\\Anaconda3\\lib\\site-packages\\ipykernel\\__main__.py:5: SettingWithCopyWarning: \n",
      "A value is trying to be set on a copy of a slice from a DataFrame.\n",
      "Try using .loc[row_indexer,col_indexer] = value instead\n",
      "\n",
      "See the caveats in the documentation: http://pandas.pydata.org/pandas-docs/stable/indexing.html#indexing-view-versus-copy\n"
     ]
    },
    {
     "data": {
      "image/png": "[encoded data removed]",
      "text/plain": [
       "<Figure size 864x576 with 1 Axes>"
      ]
     },
     "metadata": {
      "needs_background": "light"
     },
     "output_type": "display_data"
    }
   ],
   "source": [
    "# check for correlation between message length (in words) and number of active categories\n",
    "\n",
    "# generate necessary columns\n",
    "eda_categorized['n_categories'] = eda_categorized['total'] -1 # remove 'related' from count\n",
    "eda_categorized['message_length'] = eda_categorized['message'].apply(lambda x : len(x.split())) # get message length\n",
    "\n",
    "# plot the results\n",
    "plt.figure(figsize=(12,8))\n",
    "plt.scatter(eda_categorized['message_length'], eda_categorized['n_categories'], color=color);"
   ]
  },
  {
   "cell_type": "code",
   "execution_count": 26,
   "metadata": {},
   "outputs": [
    {
     "data": {
      "text/plain": [
       "0.18245322080234158"
      ]
     },
     "execution_count": 26,
     "metadata": {},
     "output_type": "execute_result"
    }
   ],
   "source": [
    "# print pearson's r for the two columns\n",
    "np.corrcoef(eda_categorized['message_length'], eda_categorized['n_categories'])[0][1]"
   ]
  },
  {
   "cell_type": "code",
   "execution_count": 27,
   "metadata": {},
   "outputs": [
    {
     "name": "stdout",
     "output_type": "stream",
     "text": [
      "all messages   5.212398\n",
      "all related messages   4.128302\n",
      "all aid related messages   5.828446\n",
      "all infrastructure related messages   7.839711\n",
      "all weather related messages   5.903770\n"
     ]
    }
   ],
   "source": [
    "# check mean length of different groups of messages\n",
    "print('all messages   {:6f}'.format(eda_categorized['total'].mean()))\n",
    "print('all related messages   {:6f}'.format(eda.loc[eda['related'] == 1]['total'].mean()))\n",
    "print('all aid related messages   {:6f}'.format(eda.loc[eda['aid_related'] == 1]['total'].mean()))\n",
    "print('all infrastructure related messages   {:6f}'.format(eda.loc[eda['infrastructure_related'] == 1]['total'].mean()))\n",
    "print('all weather related messages   {:6f}'.format(eda.loc[eda['weather_related'] == 1]['total'].mean()))"
   ]
  },
  {
   "cell_type": "code",
   "execution_count": 34,
   "metadata": {},
   "outputs": [
    {
     "data": {
      "image/png": "[encoded data removed]",
      "text/plain": [
       "<Figure size 1152x288 with 2 Axes>"
      ]
     },
     "metadata": {
      "needs_background": "light"
     },
     "output_type": "display_data"
    }
   ],
   "source": [
    "# check distribution of message length's (all messages)\n",
    "eda['message_length'] = eda['message'].apply(lambda x : len(x.split())) # get message length\n",
    "plt.figure(figsize=(16,4))\n",
    "plt.subplot(1,2,1)\n",
    "eda['message_length'].plot.hist(bins=100)\n",
    "plt.subplot(1,2,2)\n",
    "eda['message_length'].loc[eda['message_length'] <250].plot.hist(bins=100);"
   ]
  },
  {
   "cell_type": "markdown",
   "metadata": {},
   "source": [
    "__Observations__: The Distribution of the 'oultier messages' is not very different from the total distribution and the correlation between message length and number of categories is positive but weak. It seems, that the long messages are mostly reports, probably by professional staff (NGOs, Journalists etc.) and not calls for help."
   ]
  },
  {
   "cell_type": "markdown",
   "metadata": {},
   "source": [
    "### Check influence of column 'genre'"
   ]
  },
  {
   "cell_type": "code",
   "execution_count": 24,
   "metadata": {},
   "outputs": [
    {
     "name": "stdout",
     "output_type": "stream",
     "text": [
      "overall   0.773825\n"
     ]
    },
    {
     "data": {
      "text/plain": [
       "genre\n",
       "direct    0.692370\n",
       "news      0.820057\n",
       "social    0.889126\n",
       "Name: related, dtype: float64"
      ]
     },
     "execution_count": 24,
     "metadata": {},
     "output_type": "execute_result"
    }
   ],
   "source": [
    "# check proportion of related messages per genre\n",
    "print('overall   {:6f}'.format(eda['related'].mean()))\n",
    "eda.groupby('genre') ['related'].mean()"
   ]
  },
  {
   "cell_type": "code",
   "execution_count": 25,
   "metadata": {},
   "outputs": [
    {
     "name": "stdout",
     "output_type": "stream",
     "text": [
      "overall   5.172004\n"
     ]
    },
    {
     "data": {
      "text/plain": [
       "genre\n",
       "direct    5.458752\n",
       "news      5.060497\n",
       "social    4.778875\n",
       "Name: total, dtype: float64"
      ]
     },
     "execution_count": 25,
     "metadata": {},
     "output_type": "execute_result"
    }
   ],
   "source": [
    "# check mean number of categories for related messages per genre\n",
    "print('overall   {:6f}'.format(eda_categorized['total'].mean()))\n",
    "eda_categorized.groupby('genre') ['total'].mean()"
   ]
  },
  {
   "cell_type": "code",
   "execution_count": 26,
   "metadata": {},
   "outputs": [
    {
     "data": {
      "image/png": "[encoded data removed]",
      "text/plain": [
       "<matplotlib.figure.Figure at 0x7f45b1847dd8>"
      ]
     },
     "metadata": {},
     "output_type": "display_data"
    }
   ],
   "source": [
    "# check influence of main categories on genre (or vice versa)\n",
    "\n",
    "# create dataframes for plotting\n",
    "eda_aid = eda.loc[eda['aid_related'] == 1]\n",
    "eda_infra = eda.loc[eda['infrastructure_related'] == 1]\n",
    "eda_weather = eda.loc[eda['weather_related'] == 1]\n",
    "# plot the results\n",
    "plt.figure(figsize=(16,4))\n",
    "i = 0\n",
    "for df, label in [(eda_aid, 'aid'), (eda_infra, 'infra'), (eda_weather, 'weather')]:\n",
    "    i += 1\n",
    "    plt.subplot(1,3, i)\n",
    "    plt.title(label)\n",
    "    df['genre'].value_counts().plot.pie(cmap='viridis');"
   ]
  },
  {
   "cell_type": "markdown",
   "metadata": {},
   "source": [
    "__Observations__\n",
    "- There are significantly less disaster related messages in genre direct than in genres news and especially social\n",
    "- the mean number of categories per message is around 5 for all genres, interesingly it is going down the more messages are related.\n",
    "- The proportions of the different genres differ within the main categories.\n",
    "\n",
    "__Conclusion / Decision:__ \n",
    "- The information in `genre` could most probably help to train a classifier, but for the purpose of this project (web app to classify plain text inputs) it won't help, so it will be dropped.\n",
    "- Further the `id` and `original`columns will be dropped too."
   ]
  }
 ],
 "metadata": {
  "kernelspec": {
   "display_name": "Python [default]",
   "language": "python",
   "name": "python3"
  },
  "language_info": {
   "codemirror_mode": {
    "name": "ipython",
    "version": 3
   },
   "file_extension": ".py",
   "mimetype": "text/x-python",
   "name": "python",
   "nbconvert_exporter": "python",
   "pygments_lexer": "ipython3",
   "version": "3.6.3"
  }
 },
 "nbformat": 4,
 "nbformat_minor": 2
}
