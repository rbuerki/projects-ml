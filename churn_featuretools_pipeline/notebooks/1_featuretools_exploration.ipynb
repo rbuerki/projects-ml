{
 "cells": [
  {
   "cell_type": "markdown",
   "id": "e5c614c7",
   "metadata": {},
   "source": [
    "<div class='alert alert-block alert-info'>\n",
    "<b>Note:</b> This nb was used for explorative DEV of the trx data load functions (sales and fees fact tables) and feature tools application (see section 4!)"
   ]
  },
  {
   "cell_type": "markdown",
   "id": "fb2de055",
   "metadata": {
    "toc": true
   },
   "source": [
    "<h1>Contents<span class=\"tocSkip\"></span></h1>\n",
    "<div class=\"toc\"><ul class=\"toc-item\"><li><span><a href=\"#Define-Periods-and-Load-Population\" data-toc-modified-id=\"Define-Periods-and-Load-Population-1\"><span class=\"toc-item-num\">1&nbsp;&nbsp;</span>Define Periods and Load Population</a></span><ul class=\"toc-item\"><li><span><a href=\"#Date-Considerations\" data-toc-modified-id=\"Date-Considerations-1.1\"><span class=\"toc-item-num\">1.1&nbsp;&nbsp;</span>Date Considerations</a></span></li></ul></li><li><span><a href=\"#Basic-Data-Load\" data-toc-modified-id=\"Basic-Data-Load-2\"><span class=\"toc-item-num\">2&nbsp;&nbsp;</span>Basic Data Load</a></span></li><li><span><a href=\"#DEV-load_facts\" data-toc-modified-id=\"DEV-load_facts-3\"><span class=\"toc-item-num\">3&nbsp;&nbsp;</span>DEV load_facts</a></span><ul class=\"toc-item\"><li><span><a href=\"#Sales-Fact\" data-toc-modified-id=\"Sales-Fact-3.1\"><span class=\"toc-item-num\">3.1&nbsp;&nbsp;</span>Sales Fact</a></span></li><li><span><a href=\"#Fees-Fact\" data-toc-modified-id=\"Fees-Fact-3.2\"><span class=\"toc-item-num\">3.2&nbsp;&nbsp;</span>Fees Fact</a></span></li></ul></li><li><span><a href=\"#DEV-featurestools\" data-toc-modified-id=\"DEV-featurestools-4\"><span class=\"toc-item-num\">4&nbsp;&nbsp;</span>DEV featurestools</a></span><ul class=\"toc-item\"><li><span><a href=\"#Sales_fact-only\" data-toc-modified-id=\"Sales_fact-only-4.1\"><span class=\"toc-item-num\">4.1&nbsp;&nbsp;</span>Sales_fact only</a></span></li><li><span><a href=\"#Add-Fees-Fact-to-Entity-Set\" data-toc-modified-id=\"Add-Fees-Fact-to-Entity-Set-4.2\"><span class=\"toc-item-num\">4.2&nbsp;&nbsp;</span>Add Fees Fact to Entity Set</a></span></li><li><span><a href=\"#Experiment-with-different-features\" data-toc-modified-id=\"Experiment-with-different-features-4.3\"><span class=\"toc-item-num\">4.3&nbsp;&nbsp;</span>Experiment with different features</a></span><ul class=\"toc-item\"><li><span><a href=\"#Try-OHE-Encoding-of-categorical-variables\" data-toc-modified-id=\"Try-OHE-Encoding-of-categorical-variables-4.3.1\"><span class=\"toc-item-num\">4.3.1&nbsp;&nbsp;</span>Try OHE Encoding of categorical variables</a></span></li><li><span><a href=\"#Adding-&quot;interesting-values&quot;-instead-of-OHE\" data-toc-modified-id=\"Adding-&quot;interesting-values&quot;-instead-of-OHE-4.3.2\"><span class=\"toc-item-num\">4.3.2&nbsp;&nbsp;</span>Adding \"interesting values\" instead of OHE</a></span></li></ul></li></ul></li><li><span><a href=\"#Appendix\" data-toc-modified-id=\"Appendix-5\"><span class=\"toc-item-num\">5&nbsp;&nbsp;</span>Appendix</a></span><ul class=\"toc-item\"><li><span><a href=\"#Sales-Fact:-Categorical-Values\" data-toc-modified-id=\"Sales-Fact:-Categorical-Values-5.1\"><span class=\"toc-item-num\">5.1&nbsp;&nbsp;</span>Sales Fact: Categorical Values</a></span></li><li><span><a href=\"#Fees-Fact:-Bewegungstypen-und-Bewegungsgründe-seit-2019\" data-toc-modified-id=\"Fees-Fact:-Bewegungstypen-und-Bewegungsgründe-seit-2019-5.2\"><span class=\"toc-item-num\">5.2&nbsp;&nbsp;</span>Fees Fact: Bewegungstypen und Bewegungsgründe seit 2019</a></span></li><li><span><a href=\"#Primitives-List-from-FeatureTools\" data-toc-modified-id=\"Primitives-List-from-FeatureTools-5.3\"><span class=\"toc-item-num\">5.3&nbsp;&nbsp;</span>Primitives List from FeatureTools</a></span></li></ul></li></ul></div>"
   ]
  },
  {
   "cell_type": "markdown",
   "id": "310a3f5b",
   "metadata": {},
   "source": [
    "**Results**\n",
    "\n",
    "**1) Different Feature Load**\n",
    "\n",
    "Sales_Fact & Fees_Fact have been tweaked to return different categorical features compared to the last run. While the changes to sales_fact features are more technical, for fees_fact the 'bewegungstyp' and 'bewegungsgrund' have been merged into more speaking categories:\n",
    "\n",
    "```sql\n",
    "       , CASE WHEN ff.bewegungstyp_id IN (41, 42, 43, 44) THEN 'mahnung' \n",
    "              WHEN ff.bewegungsgrund_id IN ('FRW', 'WSZ', 'ETA') THEN 'fremdw'\n",
    "              WHEN (ff.bewegungsgrund_id = 'ZIN' OR ff.bewegungstyp_id = 31) THEN 'zins'\n",
    "              ELSE 'divers' END AS 'bewegungstyp'\n",
    "```\n",
    "\n",
    "**2) New Use of \"interesting values\"**\n",
    "\n",
    "That the categorical features can fully be exploited, the most relevant of them should be declares as \"interesting features\" in the ft pipeline, so they are treated on their own. (In the past we only had them in form of MODE and NUM_UNIQUE features.)\n",
    "\n",
    "<br>**-> For the moment I calculate about 46 features from Sales_Fact and Fees_Fact using FT**\n",
    "\n",
    "\n",
    "<br>**Open Questions concerning the features:**\n",
    "- Should we also add transactiontype values to the \"interesting values\"? (I have not yet)\n",
    "- Is it ok, that I have removed most trans_primitives?"
   ]
  },
  {
   "cell_type": "code",
   "execution_count": 1,
   "id": "fedbb9ca",
   "metadata": {
    "ExecuteTime": {
     "end_time": "2021-05-20T06:59:57.298039Z",
     "start_time": "2021-05-20T06:59:54.515159Z"
    }
   },
   "outputs": [],
   "source": [
    "import sys\n",
    "from datetime import date, datetime, timedelta\n",
    "from pathlib import Path\n",
    "\n",
    "import bcag\n",
    "import numpy as np\n",
    "import pandas as pd\n",
    "from bcag.sql_utils import execute_sql_query\n",
    "from sqlalchemy.engine.base import Engine"
   ]
  },
  {
   "cell_type": "code",
   "execution_count": 2,
   "id": "ade674ed",
   "metadata": {
    "ExecuteTime": {
     "end_time": "2021-05-20T07:00:06.707560Z",
     "start_time": "2021-05-20T06:59:57.300036Z"
    }
   },
   "outputs": [],
   "source": [
    "sys.path.append(\"..\")\n",
    "from churn21.data import dates as utils_dt, load as utils_load"
   ]
  },
  {
   "cell_type": "code",
   "execution_count": 3,
   "id": "1d53e22b",
   "metadata": {
    "ExecuteTime": {
     "end_time": "2021-05-20T07:00:12.115043Z",
     "start_time": "2021-05-20T07:00:06.707560Z"
    }
   },
   "outputs": [],
   "source": [
    "%load_ext autoreload\n",
    "%autoreload 1\n",
    "%aimport churn21.data.dates, churn21.data.load\n",
    "\n",
    "from IPython.core.interactiveshell import InteractiveShell\n",
    "InteractiveShell.ast_node_interactivity = 'all'\n",
    "\n",
    "pd.options.display.float_format = '{:,.2f}'.format\n",
    "pd.set_option('display.max_columns', 30)\n",
    "pd.set_option('display.expand_frame_repr', False)\n",
    "pd.set_option('max_colwidth', 800)\n",
    "\n",
    "np.random.seed(666)"
   ]
  },
  {
   "cell_type": "code",
   "execution_count": 4,
   "id": "b713ff76",
   "metadata": {
    "ExecuteTime": {
     "end_time": "2021-05-20T07:00:12.135822Z",
     "start_time": "2021-05-20T07:00:12.115043Z"
    }
   },
   "outputs": [],
   "source": [
    "sys.path.append(str(Path.cwd().parent))\n",
    "from churn21.data import dates as utils_dt, load as utils_ld"
   ]
  },
  {
   "cell_type": "markdown",
   "id": "e2d4313f",
   "metadata": {},
   "source": [
    "## Define Periods and Load Population\n",
    "\n",
    "###  Date Considerations\n",
    "\n",
    "- required dates\n",
    "    - first considered date for observation period\n",
    "    - cut-off date\n",
    "    - last considered date for label period\n",
    "    \n",
    "- lookback period: 13 months; this allows us to\n",
    "    - compute trx-based features for 12 months up to cut off date\n",
    "    - separate comparison of month -13 to  month -1 to create a trend (last observed month vs the same month a year ago)"
   ]
  },
  {
   "cell_type": "code",
   "execution_count": 5,
   "id": "d5fadaaf",
   "metadata": {
    "ExecuteTime": {
     "end_time": "2021-05-20T07:00:12.157828Z",
     "start_time": "2021-05-20T07:00:12.138824Z"
    }
   },
   "outputs": [],
   "source": [
    "dt_params = dict({\n",
    "    \"last_cut_off_date_train\": date(2020, 10, 31),\n",
    "    \"first_cut_off_date_train\": date(2020, 7, 31),\n",
    "    \"lookback_period_months\": 13,\n",
    "    \"label_period_months\": 3,\n",
    "    \"n_months_considered_training\": 6\n",
    "})\n",
    "l_dates_train, l_dates_test = utils_dt.create_dateinfo(dt_params)"
   ]
  },
  {
   "cell_type": "code",
   "execution_count": 6,
   "id": "67217d7f",
   "metadata": {
    "ExecuteTime": {
     "end_time": "2021-05-20T07:00:12.179831Z",
     "start_time": "2021-05-20T07:00:12.159829Z"
    }
   },
   "outputs": [
    {
     "data": {
      "text/plain": [
       "[{'dt_cut_off': datetime.date(2020, 7, 31),\n",
       "  'dt_obs_first_considered': datetime.date(2019, 7, 1),\n",
       "  'dt_label_last_considered': datetime.date(2020, 10, 31)},\n",
       " {'dt_cut_off': datetime.date(2020, 8, 31),\n",
       "  'dt_obs_first_considered': datetime.date(2019, 8, 1),\n",
       "  'dt_label_last_considered': datetime.date(2020, 11, 30)},\n",
       " {'dt_cut_off': datetime.date(2020, 9, 30),\n",
       "  'dt_obs_first_considered': datetime.date(2019, 9, 1),\n",
       "  'dt_label_last_considered': datetime.date(2020, 12, 31)},\n",
       " {'dt_cut_off': datetime.date(2020, 10, 31),\n",
       "  'dt_obs_first_considered': datetime.date(2019, 10, 1),\n",
       "  'dt_label_last_considered': datetime.date(2021, 1, 31)}]"
      ]
     },
     "execution_count": 6,
     "metadata": {},
     "output_type": "execute_result"
    }
   ],
   "source": [
    "l_dates_train"
   ]
  },
  {
   "cell_type": "code",
   "execution_count": 7,
   "id": "70ee446c",
   "metadata": {
    "ExecuteTime": {
     "end_time": "2021-05-20T07:00:12.200827Z",
     "start_time": "2021-05-20T07:00:12.180825Z"
    }
   },
   "outputs": [
    {
     "data": {
      "text/plain": [
       "[{'dt_cut_off': datetime.date(2021, 1, 31),\n",
       "  'dt_obs_first_considered': datetime.date(2020, 1, 1),\n",
       "  'dt_label_last_considered': datetime.date(2021, 4, 30)}]"
      ]
     },
     "execution_count": 7,
     "metadata": {},
     "output_type": "execute_result"
    }
   ],
   "source": [
    "l_dates_test"
   ]
  },
  {
   "cell_type": "markdown",
   "id": "6e4f511b",
   "metadata": {},
   "source": [
    "## Basic Data Load"
   ]
  },
  {
   "cell_type": "code",
   "execution_count": 8,
   "id": "d07314cf",
   "metadata": {
    "ExecuteTime": {
     "end_time": "2021-05-20T07:00:12.499849Z",
     "start_time": "2021-05-20T07:00:12.203828Z"
    }
   },
   "outputs": [],
   "source": [
    "engine = bcag.connect(\"jemas\", \"prod\", \"jemas_temp\")"
   ]
  },
  {
   "cell_type": "code",
   "execution_count": 10,
   "id": "a8503a8b",
   "metadata": {
    "ExecuteTime": {
     "end_time": "2021-05-20T07:00:58.159008Z",
     "start_time": "2021-05-20T07:00:56.345257Z"
    }
   },
   "outputs": [
    {
     "data": {
      "text/plain": [
       "(129629, 1)"
      ]
     },
     "execution_count": 10,
     "metadata": {},
     "output_type": "execute_result"
    },
    {
     "data": {
      "text/html": [
       "<div>\n",
       "<style scoped>\n",
       "    .dataframe tbody tr th:only-of-type {\n",
       "        vertical-align: middle;\n",
       "    }\n",
       "\n",
       "    .dataframe tbody tr th {\n",
       "        vertical-align: top;\n",
       "    }\n",
       "\n",
       "    .dataframe thead th {\n",
       "        text-align: right;\n",
       "    }\n",
       "</style>\n",
       "<table border=\"1\" class=\"dataframe\">\n",
       "  <thead>\n",
       "    <tr style=\"text-align: right;\">\n",
       "      <th></th>\n",
       "      <th>konto_lauf_id</th>\n",
       "    </tr>\n",
       "  </thead>\n",
       "  <tbody>\n",
       "    <tr>\n",
       "      <th>0</th>\n",
       "      <td>51</td>\n",
       "    </tr>\n",
       "    <tr>\n",
       "      <th>1</th>\n",
       "      <td>129</td>\n",
       "    </tr>\n",
       "    <tr>\n",
       "      <th>2</th>\n",
       "      <td>157</td>\n",
       "    </tr>\n",
       "    <tr>\n",
       "      <th>3</th>\n",
       "      <td>235</td>\n",
       "    </tr>\n",
       "    <tr>\n",
       "      <th>4</th>\n",
       "      <td>503</td>\n",
       "    </tr>\n",
       "  </tbody>\n",
       "</table>\n",
       "</div>"
      ],
      "text/plain": [
       "   konto_lauf_id\n",
       "0             51\n",
       "1            129\n",
       "2            157\n",
       "3            235\n",
       "4            503"
      ]
     },
     "execution_count": 10,
     "metadata": {},
     "output_type": "execute_result"
    }
   ],
   "source": [
    "df_population = utils_ld.load_population(engine)\n",
    "df_population = utils_ld.filter_population(df_population, pd.to_datetime(\"2020-12-31\"))\n",
    "\n",
    "assert df_population.duplicated().sum() == 0\n",
    "\n",
    "df_population.shape\n",
    "df_population.head()"
   ]
  },
  {
   "cell_type": "markdown",
   "id": "ed05f840",
   "metadata": {
    "ExecuteTime": {
     "end_time": "2021-05-06T12:25:41.535575Z",
     "start_time": "2021-05-06T12:25:41.524589Z"
    }
   },
   "source": [
    "## DEV load_facts"
   ]
  },
  {
   "cell_type": "markdown",
   "id": "0e62461e",
   "metadata": {},
   "source": [
    "Ich lade hier einige random konto_lauf_id aus der churn21_population tabelle (siehe prep CTE in der Query)."
   ]
  },
  {
   "cell_type": "code",
   "execution_count": 11,
   "id": "c610665b",
   "metadata": {
    "ExecuteTime": {
     "end_time": "2021-05-20T07:01:03.327702Z",
     "start_time": "2021-05-20T07:01:03.317703Z"
    }
   },
   "outputs": [],
   "source": [
    "# Little helper to reduce memory impact when working with feature tools\n",
    "\n",
    "def downcast_dtypes(df: pd.DataFrame, verbose=True) -> pd.DataFrame:\n",
    "    \"\"\"Return a copy of a Pandas DataFrame with reduced\n",
    "    Memory Usage. ATTENTION: Only 'object' dtypes are considered \n",
    "    for conversion to 'category'.\n",
    "    \"\"\"\n",
    "    if verbose:\n",
    "        print(\n",
    "            f\" Original memory usage \"\n",
    "            f\"{df.memory_usage(deep=True).sum() / (1024**2):,.2f} MB\"\n",
    "        )\n",
    "    \n",
    "    df=df.copy()\n",
    "    \n",
    "    for col in df.columns:\n",
    "        col_type = str(df[col].dtype)\n",
    "        col_items = df[col].count()\n",
    "        col_unique_itmes = df[col].nunique()\n",
    "\n",
    "        if col_type == 'object' and col_unique_itmes < col_items:\n",
    "                df[col] = df[col].astype('category')\n",
    "        if col_type.startswith(\"int\"):\n",
    "                df[col] = pd.to_numeric(df[col], downcast='integer')\n",
    "        if col_type.startswith(\"float\"):\n",
    "                df[col] = pd.to_numeric(df[col], downcast='float')\n",
    "                \n",
    "    if verbose:\n",
    "        print(\n",
    "            f\" New memory usage \"\n",
    "            f\"{df.memory_usage(deep=True).sum() / (1024**2):,.2f} MB\"\n",
    "        )\n",
    "    \n",
    "    return df"
   ]
  },
  {
   "cell_type": "markdown",
   "id": "9a809643",
   "metadata": {
    "ExecuteTime": {
     "end_time": "2021-05-07T06:43:46.802325Z",
     "start_time": "2021-05-07T06:43:46.792336Z"
    }
   },
   "source": [
    "### Sales Fact"
   ]
  },
  {
   "cell_type": "code",
   "execution_count": 12,
   "id": "7134ef49",
   "metadata": {
    "ExecuteTime": {
     "end_time": "2021-05-20T07:01:04.944320Z",
     "start_time": "2021-05-20T07:01:04.937316Z"
    }
   },
   "outputs": [],
   "source": [
    "def load_sales_fact(\n",
    "    cut_off_date: date, from_date: date, engine: Engine\n",
    ") -> pd.DataFrame:\n",
    "    \"\"\"load relevant observations from the db table 'jemas_base.dbo.Sales_Fact'\n",
    "    given start and end date and the population\n",
    "\n",
    "    Parameters\n",
    "    ----------\n",
    "    cut_off_date : date\n",
    "        cut-off date separating observation period from label period\n",
    "    from_date :  date\n",
    "        first date of observation period\n",
    "    engine : Engine\n",
    "        jemas connection\n",
    "\n",
    "    Returns\n",
    "    -------\n",
    "    pd.DataFrame\n",
    "        [description]\n",
    "    \"\"\"\n",
    "    # TODO For testing I quite randomly select a few customers only in the query\n",
    "    query = (f\"\"\"\n",
    "        WITH prep AS (\n",
    "        SELECT TOP (100) konto_lauf_id\n",
    "          FROM jemas_temp.thm.churn21_population\n",
    "         WHERE jamo > 202008\n",
    ")\n",
    "\n",
    "        SELECT prep.*\n",
    "            , sf.betrag\n",
    "            , sf.kauf_datum\n",
    "            , sf.transaction_type_id           -- NEUES FEATURE, ersetzt 'eci_id', 'is_contactless', 'is_mobile_payment'\n",
    "            , mcc.mcg AS mcg_id                -- NEUES FEATURE, ersetzt mcc_id\n",
    "            , sf.transaktionsart_id_korr       -- NEUES FEATURE\n",
    "        FROM prep\n",
    "        LEFT JOIN jemas_base.dbo.Sales_Fact AS sf\n",
    "          ON sf.konto_lauf_id = prep.konto_lauf_id\n",
    "        JOIN jemas_base.dbo.v_mcc AS mcc\n",
    "          ON mcc.mcc_id = sf.mcc_id\n",
    "       WHERE sf.erfassung_datum <= '{cut_off_date}'\n",
    "         AND sf.erfassung_datum >= '{from_date}'\n",
    "         AND sf.ist_umsatz = 1\n",
    "         AND sf.ist_trx = 1\n",
    "         AND sf.betrag > 0\n",
    "         ORDER BY prep.konto_lauf_id;\n",
    "       \"\"\"\n",
    "    )\n",
    "    df_sales_fact = pd.read_sql(query, engine)\n",
    "    \n",
    "    # Add \"primary key\" for feature tools\n",
    "    df_sales_fact[\"rwn\"] = np.arange(len(df_sales_fact))\n",
    "    return df_sales_fact"
   ]
  },
  {
   "cell_type": "code",
   "execution_count": 13,
   "id": "c7035ea5",
   "metadata": {
    "ExecuteTime": {
     "end_time": "2021-05-20T07:01:06.014861Z",
     "start_time": "2021-05-20T07:01:05.912156Z"
    }
   },
   "outputs": [
    {
     "name": "stdout",
     "output_type": "stream",
     "text": [
      " Original memory usage 0.40 MB\n",
      " New memory usage 0.07 MB\n"
     ]
    }
   ],
   "source": [
    "df_sales_fact = load_sales_fact(date(2020, 12, 31), date(2020, 1, 1), engine)\n",
    "df_sales_fact = downcast_dtypes(df_sales_fact)"
   ]
  },
  {
   "cell_type": "code",
   "execution_count": 14,
   "id": "9a3441f3",
   "metadata": {
    "ExecuteTime": {
     "end_time": "2021-05-20T07:01:06.805883Z",
     "start_time": "2021-05-20T07:01:06.784882Z"
    }
   },
   "outputs": [
    {
     "data": {
      "text/plain": [
       "(3631, 7)"
      ]
     },
     "execution_count": 14,
     "metadata": {},
     "output_type": "execute_result"
    },
    {
     "data": {
      "text/plain": [
       "65"
      ]
     },
     "execution_count": 14,
     "metadata": {},
     "output_type": "execute_result"
    },
    {
     "data": {
      "text/html": [
       "<div>\n",
       "<style scoped>\n",
       "    .dataframe tbody tr th:only-of-type {\n",
       "        vertical-align: middle;\n",
       "    }\n",
       "\n",
       "    .dataframe tbody tr th {\n",
       "        vertical-align: top;\n",
       "    }\n",
       "\n",
       "    .dataframe thead th {\n",
       "        text-align: right;\n",
       "    }\n",
       "</style>\n",
       "<table border=\"1\" class=\"dataframe\">\n",
       "  <thead>\n",
       "    <tr style=\"text-align: right;\">\n",
       "      <th></th>\n",
       "      <th>konto_lauf_id</th>\n",
       "      <th>betrag</th>\n",
       "      <th>kauf_datum</th>\n",
       "      <th>transaction_type_id</th>\n",
       "      <th>mcg_id</th>\n",
       "      <th>transaktionsart_id_korr</th>\n",
       "      <th>rwn</th>\n",
       "    </tr>\n",
       "  </thead>\n",
       "  <tbody>\n",
       "    <tr>\n",
       "      <th>0</th>\n",
       "      <td>84634</td>\n",
       "      <td>12.00</td>\n",
       "      <td>2020-01-23 09:54:00</td>\n",
       "      <td>1</td>\n",
       "      <td>BC Diverse</td>\n",
       "      <td>0</td>\n",
       "      <td>0</td>\n",
       "    </tr>\n",
       "    <tr>\n",
       "      <th>1</th>\n",
       "      <td>84634</td>\n",
       "      <td>114.00</td>\n",
       "      <td>2020-02-06 17:03:00</td>\n",
       "      <td>1</td>\n",
       "      <td>BC Diverse</td>\n",
       "      <td>0</td>\n",
       "      <td>1</td>\n",
       "    </tr>\n",
       "  </tbody>\n",
       "</table>\n",
       "</div>"
      ],
      "text/plain": [
       "   konto_lauf_id  betrag          kauf_datum  transaction_type_id      mcg_id  transaktionsart_id_korr  rwn\n",
       "0          84634   12.00 2020-01-23 09:54:00                    1  BC Diverse                        0    0\n",
       "1          84634  114.00 2020-02-06 17:03:00                    1  BC Diverse                        0    1"
      ]
     },
     "execution_count": 14,
     "metadata": {},
     "output_type": "execute_result"
    }
   ],
   "source": [
    "df_sales_fact.shape\n",
    "df_sales_fact[\"konto_lauf_id\"].nunique()\n",
    "df_sales_fact.head(2)"
   ]
  },
  {
   "cell_type": "code",
   "execution_count": 15,
   "id": "64d0b2f6",
   "metadata": {
    "ExecuteTime": {
     "end_time": "2021-05-20T07:01:09.708990Z",
     "start_time": "2021-05-20T07:01:07.848716Z"
    }
   },
   "outputs": [
    {
     "data": {
      "text/plain": [
       "<AxesSubplot:>"
      ]
     },
     "execution_count": 15,
     "metadata": {},
     "output_type": "execute_result"
    },
    {
     "data": {
      "image/png": "[encoded data removed]",
      "text/plain": [
       "<Figure size 432x288 with 1 Axes>"
      ]
     },
     "metadata": {
      "needs_background": "light"
     },
     "output_type": "display_data"
    }
   ],
   "source": [
    "df_sales_fact.groupby(\"konto_lauf_id\")[\"betrag\"].count().hist(bins=50)"
   ]
  },
  {
   "cell_type": "markdown",
   "id": "c69b248c",
   "metadata": {},
   "source": [
    "### Fees Fact"
   ]
  },
  {
   "cell_type": "code",
   "execution_count": 16,
   "id": "c232f722",
   "metadata": {
    "ExecuteTime": {
     "end_time": "2021-05-20T07:01:10.686177Z",
     "start_time": "2021-05-20T07:01:10.679145Z"
    }
   },
   "outputs": [],
   "source": [
    "def load_fees_fact(\n",
    "    cut_off_date: date, from_date: date, engine: Engine\n",
    ") -> pd.DataFrame:\n",
    "    \"\"\"load relevant observations from the db table 'jemas_base.dbo.fees_Fact'\n",
    "    given start and end date and the population\n",
    "\n",
    "    Parameters\n",
    "    ----------\n",
    "    cut_off_date : date\n",
    "        cut-off date separating observation period from label period\n",
    "    from_date :  date\n",
    "        first date of observation period\n",
    "    engine : Engine\n",
    "        jemas connection\n",
    "\n",
    "    Returns\n",
    "    -------\n",
    "    pd.DataFrame\n",
    "        [description]\n",
    "    \"\"\"\n",
    "    # TODO For testing I quite randomly select a few customers only in the query\n",
    "    query = (f\"\"\"\n",
    "        WITH prep AS (\n",
    "        SELECT TOP (100) konto_lauf_id\n",
    "          FROM jemas_temp.thm.churn21_population\n",
    "         WHERE jamo > 202008\n",
    ")\n",
    "\n",
    "        SELECT prep.konto_lauf_id\n",
    "        , ff.betrag\n",
    "        , ff.kauf_datum\n",
    "       , CASE WHEN ff.bewegungstyp_id IN (41, 42, 43, 44) THEN 'mahnung' \n",
    "              WHEN ff.bewegungsgrund_id IN ('FRW', 'WSZ', 'ETA') THEN 'fremdw'\n",
    "              WHEN (ff.bewegungsgrund_id = 'ZIN' OR ff.bewegungstyp_id = 31) THEN 'zins'\n",
    "              ELSE 'divers' END AS 'bewegungstyp'\n",
    "        FROM prep\n",
    "        LEFT JOIN jemas_base.dbo.Fees_Fact as ff\n",
    "            on ff.konto_lauf_id = prep.konto_lauf_id\n",
    "        WHERE erfassung_datum < '{cut_off_date}'\n",
    "          AND erfassung_datum >= '{from_date}'\n",
    "          AND bewegungstyp_id != 11\n",
    "          AND NOT ff.bewegungsgrund_id IN ('JGT', 'JGE', 'JGR')\n",
    "          AND ff.betrag > 0\n",
    "        ORDER BY prep.konto_lauf_id;\n",
    "       \"\"\"\n",
    "    )\n",
    "    df_fees_fact = pd.read_sql(query, engine)\n",
    "    \n",
    "    # Add \"primary key\" for feature tools\n",
    "    df_fees_fact[\"rwn\"] = np.arange(len(df_fees_fact))\n",
    "    return df_fees_fact"
   ]
  },
  {
   "cell_type": "code",
   "execution_count": 17,
   "id": "03823fb1",
   "metadata": {
    "ExecuteTime": {
     "end_time": "2021-05-20T07:01:11.349110Z",
     "start_time": "2021-05-20T07:01:11.298112Z"
    }
   },
   "outputs": [
    {
     "name": "stdout",
     "output_type": "stream",
     "text": [
      " Original memory usage 0.29 MB\n",
      " New memory usage 0.06 MB\n"
     ]
    }
   ],
   "source": [
    "df_fees_fact = load_fees_fact(date(2020, 12, 31), date(2020, 1, 1), engine)\n",
    "df_fees_fact = downcast_dtypes(df_fees_fact)"
   ]
  },
  {
   "cell_type": "code",
   "execution_count": 18,
   "id": "9cf32e13",
   "metadata": {
    "ExecuteTime": {
     "end_time": "2021-05-20T07:01:12.204291Z",
     "start_time": "2021-05-20T07:01:12.186285Z"
    }
   },
   "outputs": [
    {
     "data": {
      "text/plain": [
       "(3350, 5)"
      ]
     },
     "execution_count": 18,
     "metadata": {},
     "output_type": "execute_result"
    },
    {
     "data": {
      "text/plain": [
       "88"
      ]
     },
     "execution_count": 18,
     "metadata": {},
     "output_type": "execute_result"
    },
    {
     "data": {
      "text/html": [
       "<div>\n",
       "<style scoped>\n",
       "    .dataframe tbody tr th:only-of-type {\n",
       "        vertical-align: middle;\n",
       "    }\n",
       "\n",
       "    .dataframe tbody tr th {\n",
       "        vertical-align: top;\n",
       "    }\n",
       "\n",
       "    .dataframe thead th {\n",
       "        text-align: right;\n",
       "    }\n",
       "</style>\n",
       "<table border=\"1\" class=\"dataframe\">\n",
       "  <thead>\n",
       "    <tr style=\"text-align: right;\">\n",
       "      <th></th>\n",
       "      <th>konto_lauf_id</th>\n",
       "      <th>betrag</th>\n",
       "      <th>kauf_datum</th>\n",
       "      <th>bewegungstyp</th>\n",
       "      <th>rwn</th>\n",
       "    </tr>\n",
       "  </thead>\n",
       "  <tbody>\n",
       "    <tr>\n",
       "      <th>0</th>\n",
       "      <td>117654</td>\n",
       "      <td>2.00</td>\n",
       "      <td>2020-01-18 23:59:00</td>\n",
       "      <td>divers</td>\n",
       "      <td>0</td>\n",
       "    </tr>\n",
       "    <tr>\n",
       "      <th>1</th>\n",
       "      <td>117654</td>\n",
       "      <td>2.00</td>\n",
       "      <td>2020-02-15 23:59:00</td>\n",
       "      <td>divers</td>\n",
       "      <td>1</td>\n",
       "    </tr>\n",
       "  </tbody>\n",
       "</table>\n",
       "</div>"
      ],
      "text/plain": [
       "   konto_lauf_id  betrag          kauf_datum bewegungstyp  rwn\n",
       "0         117654    2.00 2020-01-18 23:59:00       divers    0\n",
       "1         117654    2.00 2020-02-15 23:59:00       divers    1"
      ]
     },
     "execution_count": 18,
     "metadata": {},
     "output_type": "execute_result"
    }
   ],
   "source": [
    "df_fees_fact.shape\n",
    "df_fees_fact[\"konto_lauf_id\"].nunique()\n",
    "df_fees_fact.head(2)"
   ]
  },
  {
   "cell_type": "code",
   "execution_count": 19,
   "id": "e1ed1080",
   "metadata": {
    "ExecuteTime": {
     "end_time": "2021-05-20T07:01:13.356229Z",
     "start_time": "2021-05-20T07:01:13.345231Z"
    }
   },
   "outputs": [
    {
     "data": {
      "text/plain": [
       "62"
      ]
     },
     "execution_count": 19,
     "metadata": {},
     "output_type": "execute_result"
    }
   ],
   "source": [
    "df_fees_fact = df_fees_fact[df_fees_fact[\"konto_lauf_id\"].isin(df_sales_fact[\"konto_lauf_id\"].unique())]\n",
    "df_fees_fact[\"konto_lauf_id\"].nunique()"
   ]
  },
  {
   "cell_type": "code",
   "execution_count": 20,
   "id": "e2db8094",
   "metadata": {
    "ExecuteTime": {
     "end_time": "2021-05-20T07:01:19.894695Z",
     "start_time": "2021-05-20T07:01:19.498530Z"
    }
   },
   "outputs": [
    {
     "data": {
      "text/plain": [
       "<AxesSubplot:>"
      ]
     },
     "execution_count": 20,
     "metadata": {},
     "output_type": "execute_result"
    },
    {
     "data": {
      "image/png": "[encoded data removed]",
      "text/plain": [
       "<Figure size 432x288 with 1 Axes>"
      ]
     },
     "metadata": {
      "needs_background": "light"
     },
     "output_type": "display_data"
    }
   ],
   "source": [
    "df_fees_fact.groupby(\"konto_lauf_id\")[\"betrag\"].sum().hist(bins=50)"
   ]
  },
  {
   "cell_type": "markdown",
   "id": "610e286f",
   "metadata": {},
   "source": [
    "## DEV featurestools "
   ]
  },
  {
   "cell_type": "code",
   "execution_count": 21,
   "id": "36edfe71",
   "metadata": {
    "ExecuteTime": {
     "end_time": "2021-05-20T07:01:32.146654Z",
     "start_time": "2021-05-20T07:01:32.127647Z"
    }
   },
   "outputs": [],
   "source": [
    "import featuretools as ft"
   ]
  },
  {
   "cell_type": "code",
   "execution_count": 22,
   "id": "47c4677c",
   "metadata": {
    "ExecuteTime": {
     "end_time": "2021-05-20T07:01:42.916381Z",
     "start_time": "2021-05-20T07:01:42.899373Z"
    }
   },
   "outputs": [
    {
     "data": {
      "text/plain": [
       "(65, 1)"
      ]
     },
     "execution_count": 22,
     "metadata": {},
     "output_type": "execute_result"
    }
   ],
   "source": [
    "# For DEV only, create a pop df based on the id's in df_sales_fact (no variable columns)\n",
    "df_pop_short = pd.DataFrame(df_sales_fact[\"konto_lauf_id\"].unique(), columns=[\"konto_lauf_id\"])\n",
    "\n",
    "df_pop_short.shape"
   ]
  },
  {
   "cell_type": "code",
   "execution_count": 23,
   "id": "260788db",
   "metadata": {
    "ExecuteTime": {
     "end_time": "2021-05-20T07:01:58.344167Z",
     "start_time": "2021-05-20T07:01:58.327166Z"
    }
   },
   "outputs": [
    {
     "data": {
      "text/plain": [
       "(65, 2)"
      ]
     },
     "execution_count": 23,
     "metadata": {},
     "output_type": "execute_result"
    },
    {
     "data": {
      "text/html": [
       "<div>\n",
       "<style scoped>\n",
       "    .dataframe tbody tr th:only-of-type {\n",
       "        vertical-align: middle;\n",
       "    }\n",
       "\n",
       "    .dataframe tbody tr th {\n",
       "        vertical-align: top;\n",
       "    }\n",
       "\n",
       "    .dataframe thead th {\n",
       "        text-align: right;\n",
       "    }\n",
       "</style>\n",
       "<table border=\"1\" class=\"dataframe\">\n",
       "  <thead>\n",
       "    <tr style=\"text-align: right;\">\n",
       "      <th></th>\n",
       "      <th>konto_lauf_id</th>\n",
       "      <th>time</th>\n",
       "    </tr>\n",
       "  </thead>\n",
       "  <tbody>\n",
       "    <tr>\n",
       "      <th>0</th>\n",
       "      <td>84634</td>\n",
       "      <td>2021-01-01</td>\n",
       "    </tr>\n",
       "    <tr>\n",
       "      <th>1</th>\n",
       "      <td>117654</td>\n",
       "      <td>2021-01-01</td>\n",
       "    </tr>\n",
       "  </tbody>\n",
       "</table>\n",
       "</div>"
      ],
      "text/plain": [
       "   konto_lauf_id       time\n",
       "0          84634 2021-01-01\n",
       "1         117654 2021-01-01"
      ]
     },
     "execution_count": 23,
     "metadata": {},
     "output_type": "execute_result"
    }
   ],
   "source": [
    "# For DEV only, create a cut-off-times df based on the id's in df_pop_short\n",
    "df_cutoff = df_pop_short.copy()\n",
    "df_cutoff[\"time\"] = datetime(year=2021, month=1, day=1)\n",
    "\n",
    "df_cutoff.shape\n",
    "df_cutoff.head(2)"
   ]
  },
  {
   "cell_type": "markdown",
   "id": "80cbf316",
   "metadata": {
    "ExecuteTime": {
     "end_time": "2021-05-07T05:41:31.004653Z",
     "start_time": "2021-05-07T05:41:31.000651Z"
    }
   },
   "source": [
    "### Sales_fact only"
   ]
  },
  {
   "cell_type": "code",
   "execution_count": 25,
   "id": "94085597",
   "metadata": {
    "ExecuteTime": {
     "end_time": "2021-05-20T07:02:32.792216Z",
     "start_time": "2021-05-20T07:02:32.783217Z"
    }
   },
   "outputs": [
    {
     "data": {
      "text/plain": [
       "Entityset: churn21\n",
       "  Entities:\n",
       "    sales_fact [Rows: 3631, Columns: 7]\n",
       "    population [Rows: 65, Columns: 1]\n",
       "  Relationships:\n",
       "    sales_fact.konto_lauf_id -> population.konto_lauf_id"
      ]
     },
     "execution_count": 25,
     "metadata": {},
     "output_type": "execute_result"
    }
   ],
   "source": [
    "# Initialize entity_set\n",
    "es = ft.EntitySet(id=\"churn21\")\n",
    "\n",
    "# Add entities\n",
    "es = es.entity_from_dataframe(\n",
    "    entity_id=\"sales_fact\",\n",
    "    dataframe=df_sales_fact,\n",
    "    index=\"rwn\",\n",
    "    time_index=\"kauf_datum\",\n",
    "    variable_types={\n",
    "        \"transaction_type_id\": ft.variable_types.Categorical,\n",
    "        \"mcg_id\": ft.variable_types.Categorical,\n",
    "        \"transaktionsart_id_korr\": ft.variable_types.Categorical,\n",
    "    }\n",
    ")\n",
    "\n",
    "es = es.entity_from_dataframe(\n",
    "    entity_id=\"population\",\n",
    "    dataframe=df_pop_short,\n",
    "    index=\"konto_lauf_id\",\n",
    ")\n",
    "\n",
    "# Add relationships\n",
    "rs_population_sales_fact = ft.Relationship(\n",
    "    es[\"population\"][\"konto_lauf_id\"], es[\"sales_fact\"][\"konto_lauf_id\"]\n",
    ")\n",
    "es = es.add_relationship(rs_population_sales_fact)\n",
    "\n",
    "# Check results\n",
    "es"
   ]
  },
  {
   "cell_type": "code",
   "execution_count": 27,
   "id": "c2f610a2",
   "metadata": {
    "ExecuteTime": {
     "end_time": "2021-05-20T07:02:42.014619Z",
     "start_time": "2021-05-20T07:02:42.006622Z"
    },
    "scrolled": false
   },
   "outputs": [
    {
     "data": {
      "text/plain": [
       "21"
      ]
     },
     "execution_count": 27,
     "metadata": {},
     "output_type": "execute_result"
    },
    {
     "data": {
      "text/plain": [
       "[<Feature: COUNT(sales_fact)>,\n",
       " <Feature: MAX(sales_fact.betrag)>,\n",
       " <Feature: MEAN(sales_fact.betrag)>,\n",
       " <Feature: MIN(sales_fact.betrag)>,\n",
       " <Feature: MODE(sales_fact.mcg_id)>,\n",
       " <Feature: MODE(sales_fact.transaction_type_id)>,\n",
       " <Feature: MODE(sales_fact.transaktionsart_id_korr)>,\n",
       " <Feature: NUM_UNIQUE(sales_fact.mcg_id)>,\n",
       " <Feature: NUM_UNIQUE(sales_fact.transaction_type_id)>,\n",
       " <Feature: NUM_UNIQUE(sales_fact.transaktionsart_id_korr)>,\n",
       " <Feature: SKEW(sales_fact.betrag)>,\n",
       " <Feature: STD(sales_fact.betrag)>,\n",
       " <Feature: SUM(sales_fact.betrag)>,\n",
       " <Feature: MODE(sales_fact.DAY(kauf_datum))>,\n",
       " <Feature: MODE(sales_fact.MONTH(kauf_datum))>,\n",
       " <Feature: MODE(sales_fact.WEEKDAY(kauf_datum))>,\n",
       " <Feature: MODE(sales_fact.YEAR(kauf_datum))>,\n",
       " <Feature: NUM_UNIQUE(sales_fact.DAY(kauf_datum))>,\n",
       " <Feature: NUM_UNIQUE(sales_fact.MONTH(kauf_datum))>,\n",
       " <Feature: NUM_UNIQUE(sales_fact.WEEKDAY(kauf_datum))>,\n",
       " <Feature: NUM_UNIQUE(sales_fact.YEAR(kauf_datum))>]"
      ]
     },
     "execution_count": 27,
     "metadata": {},
     "output_type": "execute_result"
    }
   ],
   "source": [
    "# Create feature set with basic settings\n",
    "feature_matrix, feature_defs = ft.dfs(\n",
    "    entityset=es,\n",
    "    target_entity=\"population\",\n",
    ")\n",
    "\n",
    "# Check results\n",
    "len(feature_defs)\n",
    "feature_defs"
   ]
  },
  {
   "cell_type": "markdown",
   "id": "6e0a8ab9",
   "metadata": {
    "ExecuteTime": {
     "end_time": "2021-05-07T05:38:26.769045Z",
     "start_time": "2021-05-07T05:38:26.764040Z"
    }
   },
   "source": [
    "**Evaluation of Sales Fact Features**:\n",
    "\n",
    "My proposals:\n",
    "- Do away with MODE for datetime (4 features)\n",
    "- Do away with NUM_UNIQUE for YEAR, WEEKDAY, DAY, but keep MONTH (?)\n",
    "- MODE(mcg_id) might be uninteresting due to distribution:"
   ]
  },
  {
   "cell_type": "code",
   "execution_count": 28,
   "id": "43eecdcf",
   "metadata": {
    "ExecuteTime": {
     "end_time": "2021-05-20T07:03:25.377821Z",
     "start_time": "2021-05-20T07:03:25.368797Z"
    }
   },
   "outputs": [
    {
     "data": {
      "text/plain": [
       "OTHER PURCHASE                52\n",
       "BC Diverse                     4\n",
       "RESTAURANT                     4\n",
       "ATM CASH                       3\n",
       "RISKY PURCHASE                 1\n",
       "BC Jelmoli House of Brands     1\n",
       "Name: MODE(sales_fact.mcg_id), dtype: int64"
      ]
     },
     "execution_count": 28,
     "metadata": {},
     "output_type": "execute_result"
    }
   ],
   "source": [
    "# Most customers have \"other\"\n",
    "feature_matrix[\"MODE(sales_fact.mcg_id)\"].value_counts()"
   ]
  },
  {
   "cell_type": "code",
   "execution_count": 29,
   "id": "3ff80936",
   "metadata": {
    "ExecuteTime": {
     "end_time": "2021-05-20T07:03:26.168803Z",
     "start_time": "2021-05-20T07:03:26.160802Z"
    }
   },
   "outputs": [
    {
     "data": {
      "text/plain": [
       "2    13\n",
       "5    13\n",
       "4    11\n",
       "1     9\n",
       "3     8\n",
       "6     6\n",
       "8     3\n",
       "7     1\n",
       "9     1\n",
       "Name: NUM_UNIQUE(sales_fact.mcg_id), dtype: int64"
      ]
     },
     "execution_count": 29,
     "metadata": {},
     "output_type": "execute_result"
    }
   ],
   "source": [
    "# This seems more promising\n",
    "feature_matrix[\"NUM_UNIQUE(sales_fact.mcg_id)\"].value_counts()"
   ]
  },
  {
   "cell_type": "markdown",
   "id": "1e71c8d4",
   "metadata": {},
   "source": [
    "### Add Fees Fact to Entity Set"
   ]
  },
  {
   "cell_type": "code",
   "execution_count": 30,
   "id": "a6e0f0db",
   "metadata": {
    "ExecuteTime": {
     "end_time": "2021-05-20T07:03:54.979036Z",
     "start_time": "2021-05-20T07:03:54.958042Z"
    }
   },
   "outputs": [
    {
     "data": {
      "text/plain": [
       "Entityset: churn21\n",
       "  Entities:\n",
       "    sales_fact [Rows: 3631, Columns: 7]\n",
       "    population [Rows: 65, Columns: 1]\n",
       "    fees_fact [Rows: 3124, Columns: 5]\n",
       "  Relationships:\n",
       "    sales_fact.konto_lauf_id -> population.konto_lauf_id\n",
       "    fees_fact.konto_lauf_id -> population.konto_lauf_id"
      ]
     },
     "execution_count": 30,
     "metadata": {},
     "output_type": "execute_result"
    }
   ],
   "source": [
    "# Add entity\n",
    "es = es.entity_from_dataframe(\n",
    "    entity_id=\"fees_fact\",\n",
    "    dataframe=df_fees_fact,\n",
    "    index=\"rwn\",\n",
    "    time_index=\"kauf_datum\",\n",
    "    variable_types={\n",
    "        \"bewegungstyp\": ft.variable_types.Categorical,\n",
    "    }\n",
    ")\n",
    "\n",
    "# Add relationships\n",
    "rs_population_fees_fact = ft.Relationship(\n",
    "    es[\"population\"][\"konto_lauf_id\"], es[\"fees_fact\"][\"konto_lauf_id\"]\n",
    ")\n",
    "es = es.add_relationship(rs_population_fees_fact)\n",
    "\n",
    "# Check results\n",
    "es"
   ]
  },
  {
   "cell_type": "code",
   "execution_count": 31,
   "id": "340e78f9",
   "metadata": {
    "ExecuteTime": {
     "end_time": "2021-05-20T07:03:57.511518Z",
     "start_time": "2021-05-20T07:03:56.898017Z"
    }
   },
   "outputs": [
    {
     "data": {
      "text/plain": [
       "38"
      ]
     },
     "execution_count": 31,
     "metadata": {},
     "output_type": "execute_result"
    }
   ],
   "source": [
    "feature_matrix, feature_defs = ft.dfs(\n",
    "    entityset=es,\n",
    "    target_entity=\"population\",\n",
    ")\n",
    "\n",
    "# Check results\n",
    "len(feature_defs)\n",
    "feature_defs"
   ]
  },
  {
   "cell_type": "markdown",
   "id": "bf7b3347",
   "metadata": {
    "ExecuteTime": {
     "end_time": "2021-05-07T11:27:22.207775Z",
     "start_time": "2021-05-07T11:27:22.197773Z"
    }
   },
   "source": [
    "**Evaluation of Fees Fact Features**:\n",
    "\n",
    "My proposals:\n",
    "- Do away with MODE for datetime (2 features)\n"
   ]
  },
  {
   "cell_type": "markdown",
   "id": "15719a17",
   "metadata": {},
   "source": [
    "### Experiment with different features"
   ]
  },
  {
   "cell_type": "code",
   "execution_count": 32,
   "id": "ffd9c0e1",
   "metadata": {
    "ExecuteTime": {
     "end_time": "2021-05-20T07:05:37.666156Z",
     "start_time": "2021-05-20T07:05:37.660149Z"
    }
   },
   "outputs": [],
   "source": [
    "ft_to_drop = [\n",
    "    \"MODE(sales_fact.MONTH(kauf_datum))\",\n",
    "    \"MODE(fees_fact.MONTH(kauf_datum))\",\n",
    "#    \"MODE(sales_fact(mcg_id))\",\n",
    "]"
   ]
  },
  {
   "cell_type": "code",
   "execution_count": 33,
   "id": "efbd3267",
   "metadata": {
    "ExecuteTime": {
     "end_time": "2021-05-20T07:05:41.089871Z",
     "start_time": "2021-05-20T07:05:39.939770Z"
    }
   },
   "outputs": [
    {
     "name": "stdout",
     "output_type": "stream",
     "text": [
      "Built 30 features\n",
      "Elapsed: 00:01 | Progress: 100%|██████████\n"
     ]
    }
   ],
   "source": [
    "# Create feature set, based on the primitives from the old chrun model\n",
    "\n",
    "feature_matrix, feature_defs = ft.dfs(\n",
    "        entityset=es,\n",
    "        target_entity=\"population\",\n",
    "        verbose=True,\n",
    "        drop_exact=ft_to_drop,\n",
    "        agg_primitives=[\n",
    "            \"sum\",\n",
    "            \"std\",\n",
    "            \"max\",\n",
    "            \"skew\",\n",
    "            \"min\",\n",
    "            \"mean\",\n",
    "            \"count\",\n",
    "#             \"percent_true\",           # we have no booleans in the input features\n",
    "            \"num_unique\",\n",
    "            \"mode\",\n",
    "            \"avg_time_between\",\n",
    "            \"trend\",\n",
    "            \"time_since_last\",\n",
    "#             \"n_most_common\",          # not in old model, just for exploration, not necessary\n",
    "        ],\n",
    "        trans_primitives=[\n",
    "            \"month\",                    # ATTENTION: I have removed day, year and weekday\n",
    "#             \"subtract_numeric\",       # just for exploration  --> 306 features\n",
    "#             'percentile',             # just for exploration  --> 68 features\n",
    "#             'isin',                   # just for exploration  --> 69 features -- PERCENT TRUE IS IN (NONE)\n",
    "#             'cum_mean',               # not in old model, just for exploration\n",
    "#             'time_since_previous'     # not in old model, just for exploration, not necessary\n",
    "        ], \n",
    "        n_jobs=1,\n",
    "    )"
   ]
  },
  {
   "cell_type": "markdown",
   "id": "83631ba6",
   "metadata": {},
   "source": [
    "#### Try OHE Encoding of categorical variables"
   ]
  },
  {
   "cell_type": "code",
   "execution_count": 34,
   "id": "dd4f5c1a",
   "metadata": {
    "ExecuteTime": {
     "end_time": "2021-05-20T07:06:04.206577Z",
     "start_time": "2021-05-20T07:06:04.106535Z"
    }
   },
   "outputs": [],
   "source": [
    "feature_matrix_enc, features_enc = ft.encode_features(feature_matrix, feature_defs)"
   ]
  },
  {
   "cell_type": "code",
   "execution_count": 35,
   "id": "af009dbe",
   "metadata": {
    "ExecuteTime": {
     "end_time": "2021-05-20T07:06:04.821102Z",
     "start_time": "2021-05-20T07:06:04.813101Z"
    }
   },
   "outputs": [
    {
     "data": {
      "text/plain": [
       "46"
      ]
     },
     "execution_count": 35,
     "metadata": {},
     "output_type": "execute_result"
    },
    {
     "data": {
      "text/plain": [
       "[<Feature: AVG_TIME_BETWEEN(sales_fact.kauf_datum)>,\n",
       " <Feature: COUNT(sales_fact)>,\n",
       " <Feature: MAX(sales_fact.betrag)>,\n",
       " <Feature: MEAN(sales_fact.betrag)>,\n",
       " <Feature: MIN(sales_fact.betrag)>,\n",
       " <Feature: MODE(sales_fact.mcg_id) = OTHER PURCHASE>,\n",
       " <Feature: MODE(sales_fact.mcg_id) = RESTAURANT>,\n",
       " <Feature: MODE(sales_fact.mcg_id) = BC Diverse>,\n",
       " <Feature: MODE(sales_fact.mcg_id) = ATM CASH>,\n",
       " <Feature: MODE(sales_fact.mcg_id) = RISKY PURCHASE>,\n",
       " <Feature: MODE(sales_fact.mcg_id) = BC Jelmoli House of Brands>,\n",
       " <Feature: MODE(sales_fact.mcg_id) is unknown>,\n",
       " <Feature: MODE(sales_fact.transaction_type_id) = 1>,\n",
       " <Feature: MODE(sales_fact.transaction_type_id) = 2>,\n",
       " <Feature: MODE(sales_fact.transaction_type_id) = 3>,\n",
       " <Feature: MODE(sales_fact.transaction_type_id) = 6>,\n",
       " <Feature: MODE(sales_fact.transaction_type_id) = 4>,\n",
       " <Feature: MODE(sales_fact.transaction_type_id) is unknown>,\n",
       " <Feature: MODE(sales_fact.transaktionsart_id_korr) = 2>,\n",
       " <Feature: MODE(sales_fact.transaktionsart_id_korr) = 0>,\n",
       " <Feature: MODE(sales_fact.transaktionsart_id_korr) is unknown>,\n",
       " <Feature: NUM_UNIQUE(sales_fact.mcg_id)>,\n",
       " <Feature: NUM_UNIQUE(sales_fact.transaction_type_id)>,\n",
       " <Feature: NUM_UNIQUE(sales_fact.transaktionsart_id_korr)>,\n",
       " <Feature: SKEW(sales_fact.betrag)>,\n",
       " <Feature: STD(sales_fact.betrag)>,\n",
       " <Feature: SUM(sales_fact.betrag)>,\n",
       " <Feature: TIME_SINCE_LAST(sales_fact.kauf_datum)>,\n",
       " <Feature: TREND(sales_fact.betrag, kauf_datum)>,\n",
       " <Feature: AVG_TIME_BETWEEN(fees_fact.kauf_datum)>,\n",
       " <Feature: COUNT(fees_fact)>,\n",
       " <Feature: MAX(fees_fact.betrag)>,\n",
       " <Feature: MEAN(fees_fact.betrag)>,\n",
       " <Feature: MIN(fees_fact.betrag)>,\n",
       " <Feature: MODE(fees_fact.bewegungstyp) = zins>,\n",
       " <Feature: MODE(fees_fact.bewegungstyp) = fremdw>,\n",
       " <Feature: MODE(fees_fact.bewegungstyp) = divers>,\n",
       " <Feature: MODE(fees_fact.bewegungstyp) is unknown>,\n",
       " <Feature: NUM_UNIQUE(fees_fact.bewegungstyp)>,\n",
       " <Feature: SKEW(fees_fact.betrag)>,\n",
       " <Feature: STD(fees_fact.betrag)>,\n",
       " <Feature: SUM(fees_fact.betrag)>,\n",
       " <Feature: TIME_SINCE_LAST(fees_fact.kauf_datum)>,\n",
       " <Feature: TREND(fees_fact.betrag, kauf_datum)>,\n",
       " <Feature: NUM_UNIQUE(sales_fact.MONTH(kauf_datum))>,\n",
       " <Feature: NUM_UNIQUE(fees_fact.MONTH(kauf_datum))>]"
      ]
     },
     "execution_count": 35,
     "metadata": {},
     "output_type": "execute_result"
    }
   ],
   "source": [
    "len(features_enc)\n",
    "features_enc"
   ]
  },
  {
   "cell_type": "code",
   "execution_count": 36,
   "id": "0af7a8e4",
   "metadata": {
    "ExecuteTime": {
     "end_time": "2021-05-20T07:06:05.911073Z",
     "start_time": "2021-05-20T07:06:05.876076Z"
    }
   },
   "outputs": [
    {
     "data": {
      "text/html": [
       "<div>\n",
       "<style scoped>\n",
       "    .dataframe tbody tr th:only-of-type {\n",
       "        vertical-align: middle;\n",
       "    }\n",
       "\n",
       "    .dataframe tbody tr th {\n",
       "        vertical-align: top;\n",
       "    }\n",
       "\n",
       "    .dataframe thead th {\n",
       "        text-align: right;\n",
       "    }\n",
       "</style>\n",
       "<table border=\"1\" class=\"dataframe\">\n",
       "  <thead>\n",
       "    <tr style=\"text-align: right;\">\n",
       "      <th></th>\n",
       "      <th>AVG_TIME_BETWEEN(sales_fact.kauf_datum)</th>\n",
       "      <th>COUNT(sales_fact)</th>\n",
       "      <th>MAX(sales_fact.betrag)</th>\n",
       "      <th>MEAN(sales_fact.betrag)</th>\n",
       "      <th>MIN(sales_fact.betrag)</th>\n",
       "      <th>MODE(sales_fact.mcg_id) = OTHER PURCHASE</th>\n",
       "      <th>MODE(sales_fact.mcg_id) = RESTAURANT</th>\n",
       "      <th>MODE(sales_fact.mcg_id) = BC Diverse</th>\n",
       "      <th>MODE(sales_fact.mcg_id) = ATM CASH</th>\n",
       "      <th>MODE(sales_fact.mcg_id) = RISKY PURCHASE</th>\n",
       "      <th>MODE(sales_fact.mcg_id) = BC Jelmoli House of Brands</th>\n",
       "      <th>MODE(sales_fact.mcg_id) is unknown</th>\n",
       "      <th>MODE(sales_fact.transaction_type_id) = 1</th>\n",
       "      <th>MODE(sales_fact.transaction_type_id) = 2</th>\n",
       "      <th>MODE(sales_fact.transaction_type_id) = 3</th>\n",
       "      <th>...</th>\n",
       "      <th>MAX(fees_fact.betrag)</th>\n",
       "      <th>MEAN(fees_fact.betrag)</th>\n",
       "      <th>MIN(fees_fact.betrag)</th>\n",
       "      <th>MODE(fees_fact.bewegungstyp) = zins</th>\n",
       "      <th>MODE(fees_fact.bewegungstyp) = fremdw</th>\n",
       "      <th>MODE(fees_fact.bewegungstyp) = divers</th>\n",
       "      <th>MODE(fees_fact.bewegungstyp) is unknown</th>\n",
       "      <th>NUM_UNIQUE(fees_fact.bewegungstyp)</th>\n",
       "      <th>SKEW(fees_fact.betrag)</th>\n",
       "      <th>STD(fees_fact.betrag)</th>\n",
       "      <th>SUM(fees_fact.betrag)</th>\n",
       "      <th>TIME_SINCE_LAST(fees_fact.kauf_datum)</th>\n",
       "      <th>TREND(fees_fact.betrag, kauf_datum)</th>\n",
       "      <th>NUM_UNIQUE(sales_fact.MONTH(kauf_datum))</th>\n",
       "      <th>NUM_UNIQUE(fees_fact.MONTH(kauf_datum))</th>\n",
       "    </tr>\n",
       "    <tr>\n",
       "      <th>konto_lauf_id</th>\n",
       "      <th></th>\n",
       "      <th></th>\n",
       "      <th></th>\n",
       "      <th></th>\n",
       "      <th></th>\n",
       "      <th></th>\n",
       "      <th></th>\n",
       "      <th></th>\n",
       "      <th></th>\n",
       "      <th></th>\n",
       "      <th></th>\n",
       "      <th></th>\n",
       "      <th></th>\n",
       "      <th></th>\n",
       "      <th></th>\n",
       "      <th></th>\n",
       "      <th></th>\n",
       "      <th></th>\n",
       "      <th></th>\n",
       "      <th></th>\n",
       "      <th></th>\n",
       "      <th></th>\n",
       "      <th></th>\n",
       "      <th></th>\n",
       "      <th></th>\n",
       "      <th></th>\n",
       "      <th></th>\n",
       "      <th></th>\n",
       "      <th></th>\n",
       "      <th></th>\n",
       "      <th></th>\n",
       "    </tr>\n",
       "  </thead>\n",
       "  <tbody>\n",
       "    <tr>\n",
       "      <th>84634</th>\n",
       "      <td>688,560.00</td>\n",
       "      <td>4</td>\n",
       "      <td>114.00</td>\n",
       "      <td>84.50</td>\n",
       "      <td>12.00</td>\n",
       "      <td>False</td>\n",
       "      <td>False</td>\n",
       "      <td>True</td>\n",
       "      <td>False</td>\n",
       "      <td>False</td>\n",
       "      <td>False</td>\n",
       "      <td>False</td>\n",
       "      <td>True</td>\n",
       "      <td>False</td>\n",
       "      <td>False</td>\n",
       "      <td>...</td>\n",
       "      <td>NaN</td>\n",
       "      <td>NaN</td>\n",
       "      <td>NaN</td>\n",
       "      <td>False</td>\n",
       "      <td>False</td>\n",
       "      <td>False</td>\n",
       "      <td>True</td>\n",
       "      <td>NaN</td>\n",
       "      <td>NaN</td>\n",
       "      <td>NaN</td>\n",
       "      <td>0.00</td>\n",
       "      <td>NaN</td>\n",
       "      <td>NaN</td>\n",
       "      <td>2</td>\n",
       "      <td>NaN</td>\n",
       "    </tr>\n",
       "    <tr>\n",
       "      <th>117654</th>\n",
       "      <td>485,822.95</td>\n",
       "      <td>62</td>\n",
       "      <td>899.00</td>\n",
       "      <td>114.89</td>\n",
       "      <td>9.90</td>\n",
       "      <td>False</td>\n",
       "      <td>True</td>\n",
       "      <td>False</td>\n",
       "      <td>False</td>\n",
       "      <td>False</td>\n",
       "      <td>False</td>\n",
       "      <td>False</td>\n",
       "      <td>False</td>\n",
       "      <td>False</td>\n",
       "      <td>True</td>\n",
       "      <td>...</td>\n",
       "      <td>2.00</td>\n",
       "      <td>2.00</td>\n",
       "      <td>2.00</td>\n",
       "      <td>False</td>\n",
       "      <td>False</td>\n",
       "      <td>True</td>\n",
       "      <td>False</td>\n",
       "      <td>1.00</td>\n",
       "      <td>0.00</td>\n",
       "      <td>0.00</td>\n",
       "      <td>24.00</td>\n",
       "      <td>12,992,799.95</td>\n",
       "      <td>0.00</td>\n",
       "      <td>11</td>\n",
       "      <td>11.00</td>\n",
       "    </tr>\n",
       "    <tr>\n",
       "      <th>207389</th>\n",
       "      <td>86,400.00</td>\n",
       "      <td>16</td>\n",
       "      <td>77.05</td>\n",
       "      <td>34.27</td>\n",
       "      <td>6.85</td>\n",
       "      <td>True</td>\n",
       "      <td>False</td>\n",
       "      <td>False</td>\n",
       "      <td>False</td>\n",
       "      <td>False</td>\n",
       "      <td>False</td>\n",
       "      <td>False</td>\n",
       "      <td>False</td>\n",
       "      <td>False</td>\n",
       "      <td>True</td>\n",
       "      <td>...</td>\n",
       "      <td>NaN</td>\n",
       "      <td>NaN</td>\n",
       "      <td>NaN</td>\n",
       "      <td>False</td>\n",
       "      <td>False</td>\n",
       "      <td>False</td>\n",
       "      <td>True</td>\n",
       "      <td>NaN</td>\n",
       "      <td>NaN</td>\n",
       "      <td>NaN</td>\n",
       "      <td>0.00</td>\n",
       "      <td>NaN</td>\n",
       "      <td>NaN</td>\n",
       "      <td>1</td>\n",
       "      <td>NaN</td>\n",
       "    </tr>\n",
       "    <tr>\n",
       "      <th>298048</th>\n",
       "      <td>1,419,291.00</td>\n",
       "      <td>21</td>\n",
       "      <td>449.95</td>\n",
       "      <td>134.80</td>\n",
       "      <td>34.90</td>\n",
       "      <td>True</td>\n",
       "      <td>False</td>\n",
       "      <td>False</td>\n",
       "      <td>False</td>\n",
       "      <td>False</td>\n",
       "      <td>False</td>\n",
       "      <td>False</td>\n",
       "      <td>False</td>\n",
       "      <td>False</td>\n",
       "      <td>True</td>\n",
       "      <td>...</td>\n",
       "      <td>2.00</td>\n",
       "      <td>2.00</td>\n",
       "      <td>2.00</td>\n",
       "      <td>False</td>\n",
       "      <td>False</td>\n",
       "      <td>True</td>\n",
       "      <td>False</td>\n",
       "      <td>1.00</td>\n",
       "      <td>0.00</td>\n",
       "      <td>0.00</td>\n",
       "      <td>20.00</td>\n",
       "      <td>13,597,599.95</td>\n",
       "      <td>0.00</td>\n",
       "      <td>9</td>\n",
       "      <td>9.00</td>\n",
       "    </tr>\n",
       "    <tr>\n",
       "      <th>328419</th>\n",
       "      <td>502,325.58</td>\n",
       "      <td>44</td>\n",
       "      <td>176.00</td>\n",
       "      <td>49.19</td>\n",
       "      <td>4.50</td>\n",
       "      <td>True</td>\n",
       "      <td>False</td>\n",
       "      <td>False</td>\n",
       "      <td>False</td>\n",
       "      <td>False</td>\n",
       "      <td>False</td>\n",
       "      <td>False</td>\n",
       "      <td>False</td>\n",
       "      <td>False</td>\n",
       "      <td>True</td>\n",
       "      <td>...</td>\n",
       "      <td>1.19</td>\n",
       "      <td>0.68</td>\n",
       "      <td>0.02</td>\n",
       "      <td>False</td>\n",
       "      <td>True</td>\n",
       "      <td>False</td>\n",
       "      <td>False</td>\n",
       "      <td>2.00</td>\n",
       "      <td>-0.37</td>\n",
       "      <td>0.41</td>\n",
       "      <td>9.53</td>\n",
       "      <td>31,741,599.95</td>\n",
       "      <td>0.00</td>\n",
       "      <td>9</td>\n",
       "      <td>4.00</td>\n",
       "    </tr>\n",
       "  </tbody>\n",
       "</table>\n",
       "<p>5 rows × 46 columns</p>\n",
       "</div>"
      ],
      "text/plain": [
       "               AVG_TIME_BETWEEN(sales_fact.kauf_datum)  COUNT(sales_fact)  MAX(sales_fact.betrag)  MEAN(sales_fact.betrag)  MIN(sales_fact.betrag)  MODE(sales_fact.mcg_id) = OTHER PURCHASE  MODE(sales_fact.mcg_id) = RESTAURANT  MODE(sales_fact.mcg_id) = BC Diverse  MODE(sales_fact.mcg_id) = ATM CASH  MODE(sales_fact.mcg_id) = RISKY PURCHASE  MODE(sales_fact.mcg_id) = BC Jelmoli House of Brands  MODE(sales_fact.mcg_id) is unknown  MODE(sales_fact.transaction_type_id) = 1  MODE(sales_fact.transaction_type_id) = 2  MODE(sales_fact.transaction_type_id) = 3  ...  MAX(fees_fact.betrag)  MEAN(fees_fact.betrag)  MIN(fees_fact.betrag)  MODE(fees_fact.bewegungstyp) = zins  MODE(fees_fact.bewegungstyp) = fremdw  MODE(fees_fact.bewegungstyp) = divers  MODE(fees_fact.bewegungstyp) is unknown  NUM_UNIQUE(fees_fact.bewegungstyp)  SKEW(fees_fact.betrag)  STD(fees_fact.betrag)  SUM(fees_fact.betrag)  TIME_SINCE_LAST(fees_fact.kauf_datum)  TREND(fees_fact.betrag, kauf_datum)  NUM_UNIQUE(sales_fact.MONTH(kauf_datum))  NUM_UNIQUE(fees_fact.MONTH(kauf_datum))\n",
       "konto_lauf_id                                                                                                                                                                                                                                                                                                                                                                                                                                                                                                                                                                   ...                                                                                                                                                                                                                                                                                                                                                                                                                                                                                                           \n",
       "84634                                       688,560.00                  4                  114.00                    84.50                   12.00                                     False                                 False                                  True                               False                                     False                                                 False                               False                                      True                                     False                                     False  ...                    NaN                     NaN                    NaN                                False                                  False                                  False                                     True                                 NaN                     NaN                    NaN                   0.00                                    NaN                                  NaN                                         2                                      NaN\n",
       "117654                                      485,822.95                 62                  899.00                   114.89                    9.90                                     False                                  True                                 False                               False                                     False                                                 False                               False                                     False                                     False                                      True  ...                   2.00                    2.00                   2.00                                False                                  False                                   True                                    False                                1.00                    0.00                   0.00                  24.00                          12,992,799.95                                 0.00                                        11                                    11.00\n",
       "207389                                       86,400.00                 16                   77.05                    34.27                    6.85                                      True                                 False                                 False                               False                                     False                                                 False                               False                                     False                                     False                                      True  ...                    NaN                     NaN                    NaN                                False                                  False                                  False                                     True                                 NaN                     NaN                    NaN                   0.00                                    NaN                                  NaN                                         1                                      NaN\n",
       "298048                                    1,419,291.00                 21                  449.95                   134.80                   34.90                                      True                                 False                                 False                               False                                     False                                                 False                               False                                     False                                     False                                      True  ...                   2.00                    2.00                   2.00                                False                                  False                                   True                                    False                                1.00                    0.00                   0.00                  20.00                          13,597,599.95                                 0.00                                         9                                     9.00\n",
       "328419                                      502,325.58                 44                  176.00                    49.19                    4.50                                      True                                 False                                 False                               False                                     False                                                 False                               False                                     False                                     False                                      True  ...                   1.19                    0.68                   0.02                                False                                   True                                  False                                    False                                2.00                   -0.37                   0.41                   9.53                          31,741,599.95                                 0.00                                         9                                     4.00\n",
       "\n",
       "[5 rows x 46 columns]"
      ]
     },
     "execution_count": 36,
     "metadata": {},
     "output_type": "execute_result"
    }
   ],
   "source": [
    "feature_matrix_enc.head(5)"
   ]
  },
  {
   "cell_type": "markdown",
   "id": "5bbcc00a",
   "metadata": {
    "ExecuteTime": {
     "end_time": "2021-05-10T11:32:39.100118Z",
     "start_time": "2021-05-10T11:32:39.091132Z"
    }
   },
   "source": [
    "**Findings**: Does not help much."
   ]
  },
  {
   "cell_type": "markdown",
   "id": "fa57cc5d",
   "metadata": {},
   "source": [
    "#### Adding \"interesting values\" instead of OHE"
   ]
  },
  {
   "cell_type": "code",
   "execution_count": 38,
   "id": "22888a32",
   "metadata": {
    "ExecuteTime": {
     "end_time": "2021-05-20T07:08:02.843644Z",
     "start_time": "2021-05-20T07:08:01.315071Z"
    }
   },
   "outputs": [
    {
     "name": "stdout",
     "output_type": "stream",
     "text": [
      "Built 46 features\n",
      "Elapsed: 00:01 | Progress: 100%|██████████\n"
     ]
    }
   ],
   "source": [
    "# Adding interesting values (-> where_primitives)\n",
    "\n",
    "es[\"fees_fact\"][\"bewegungstyp\"].interesting_values = [\"mahnung\", \"fremdw\", \"zins\"]\n",
    "es[\"sales_fact\"][\"transaktionsart_id_korr\"].interesting_values = [0]  # BC closed loop\n",
    "\n",
    "feature_matrix, feature_defs = ft.dfs(\n",
    "        entityset=es,\n",
    "        target_entity=\"population\",\n",
    "        verbose=True,\n",
    "        drop_exact=ft_to_drop,\n",
    "        cutoff_time = df_cutoff,     # NEW - it would be easier to pass a dt value: datetime(2020, 12, 31)\n",
    "        agg_primitives=[\n",
    "            \"sum\",\n",
    "            \"std\",\n",
    "            \"max\",\n",
    "            \"skew\",\n",
    "            \"min\",\n",
    "            \"mean\",\n",
    "            \"count\",\n",
    "            \"num_unique\",\n",
    "            \"mode\",\n",
    "            \"avg_time_between\",\n",
    "            \"trend\",\n",
    "            \"time_since_last\",\n",
    "        ],\n",
    "        trans_primitives=[\n",
    "            \"month\",\n",
    "        ], \n",
    "        where_primitives=[\"sum\", \"count\", \"mean\", \"trend\"],\n",
    "        n_jobs=1,                 \n",
    "    )"
   ]
  },
  {
   "cell_type": "code",
   "execution_count": 39,
   "id": "430f5d6c",
   "metadata": {
    "ExecuteTime": {
     "end_time": "2021-05-20T07:08:05.679372Z",
     "start_time": "2021-05-20T07:08:05.661344Z"
    },
    "scrolled": false
   },
   "outputs": [
    {
     "data": {
      "text/plain": [
       "46"
      ]
     },
     "execution_count": 39,
     "metadata": {},
     "output_type": "execute_result"
    },
    {
     "data": {
      "text/plain": [
       "[<Feature: AVG_TIME_BETWEEN(sales_fact.kauf_datum)>,\n",
       " <Feature: COUNT(sales_fact)>,\n",
       " <Feature: MAX(sales_fact.betrag)>,\n",
       " <Feature: MEAN(sales_fact.betrag)>,\n",
       " <Feature: MIN(sales_fact.betrag)>,\n",
       " <Feature: MODE(sales_fact.mcg_id)>,\n",
       " <Feature: MODE(sales_fact.transaction_type_id)>,\n",
       " <Feature: MODE(sales_fact.transaktionsart_id_korr)>,\n",
       " <Feature: NUM_UNIQUE(sales_fact.mcg_id)>,\n",
       " <Feature: NUM_UNIQUE(sales_fact.transaction_type_id)>,\n",
       " <Feature: NUM_UNIQUE(sales_fact.transaktionsart_id_korr)>,\n",
       " <Feature: SKEW(sales_fact.betrag)>,\n",
       " <Feature: STD(sales_fact.betrag)>,\n",
       " <Feature: SUM(sales_fact.betrag)>,\n",
       " <Feature: TIME_SINCE_LAST(sales_fact.kauf_datum)>,\n",
       " <Feature: TREND(sales_fact.betrag, kauf_datum)>,\n",
       " <Feature: AVG_TIME_BETWEEN(fees_fact.kauf_datum)>,\n",
       " <Feature: COUNT(fees_fact)>,\n",
       " <Feature: MAX(fees_fact.betrag)>,\n",
       " <Feature: MEAN(fees_fact.betrag)>,\n",
       " <Feature: MIN(fees_fact.betrag)>,\n",
       " <Feature: MODE(fees_fact.bewegungstyp)>,\n",
       " <Feature: NUM_UNIQUE(fees_fact.bewegungstyp)>,\n",
       " <Feature: SKEW(fees_fact.betrag)>,\n",
       " <Feature: STD(fees_fact.betrag)>,\n",
       " <Feature: SUM(fees_fact.betrag)>,\n",
       " <Feature: TIME_SINCE_LAST(fees_fact.kauf_datum)>,\n",
       " <Feature: TREND(fees_fact.betrag, kauf_datum)>,\n",
       " <Feature: COUNT(sales_fact WHERE transaktionsart_id_korr = 0)>,\n",
       " <Feature: MEAN(sales_fact.betrag WHERE transaktionsart_id_korr = 0)>,\n",
       " <Feature: NUM_UNIQUE(sales_fact.MONTH(kauf_datum))>,\n",
       " <Feature: SUM(sales_fact.betrag WHERE transaktionsart_id_korr = 0)>,\n",
       " <Feature: TREND(sales_fact.betrag, kauf_datum WHERE transaktionsart_id_korr = 0)>,\n",
       " <Feature: COUNT(fees_fact WHERE bewegungstyp = zins)>,\n",
       " <Feature: COUNT(fees_fact WHERE bewegungstyp = fremdw)>,\n",
       " <Feature: COUNT(fees_fact WHERE bewegungstyp = mahnung)>,\n",
       " <Feature: MEAN(fees_fact.betrag WHERE bewegungstyp = zins)>,\n",
       " <Feature: MEAN(fees_fact.betrag WHERE bewegungstyp = fremdw)>,\n",
       " <Feature: MEAN(fees_fact.betrag WHERE bewegungstyp = mahnung)>,\n",
       " <Feature: NUM_UNIQUE(fees_fact.MONTH(kauf_datum))>,\n",
       " <Feature: SUM(fees_fact.betrag WHERE bewegungstyp = zins)>,\n",
       " <Feature: SUM(fees_fact.betrag WHERE bewegungstyp = fremdw)>,\n",
       " <Feature: SUM(fees_fact.betrag WHERE bewegungstyp = mahnung)>,\n",
       " <Feature: TREND(fees_fact.betrag, kauf_datum WHERE bewegungstyp = zins)>,\n",
       " <Feature: TREND(fees_fact.betrag, kauf_datum WHERE bewegungstyp = fremdw)>,\n",
       " <Feature: TREND(fees_fact.betrag, kauf_datum WHERE bewegungstyp = mahnung)>]"
      ]
     },
     "execution_count": 39,
     "metadata": {},
     "output_type": "execute_result"
    }
   ],
   "source": [
    "len(feature_defs)\n",
    "feature_defs"
   ]
  },
  {
   "cell_type": "code",
   "execution_count": 40,
   "id": "51e902b0",
   "metadata": {
    "ExecuteTime": {
     "end_time": "2021-05-20T07:08:06.847650Z",
     "start_time": "2021-05-20T07:08:06.800675Z"
    }
   },
   "outputs": [
    {
     "data": {
      "text/html": [
       "<div>\n",
       "<style scoped>\n",
       "    .dataframe tbody tr th:only-of-type {\n",
       "        vertical-align: middle;\n",
       "    }\n",
       "\n",
       "    .dataframe tbody tr th {\n",
       "        vertical-align: top;\n",
       "    }\n",
       "\n",
       "    .dataframe thead th {\n",
       "        text-align: right;\n",
       "    }\n",
       "</style>\n",
       "<table border=\"1\" class=\"dataframe\">\n",
       "  <thead>\n",
       "    <tr style=\"text-align: right;\">\n",
       "      <th></th>\n",
       "      <th>AVG_TIME_BETWEEN(sales_fact.kauf_datum)</th>\n",
       "      <th>COUNT(sales_fact)</th>\n",
       "      <th>MAX(sales_fact.betrag)</th>\n",
       "      <th>MEAN(sales_fact.betrag)</th>\n",
       "      <th>MIN(sales_fact.betrag)</th>\n",
       "      <th>MODE(sales_fact.mcg_id)</th>\n",
       "      <th>MODE(sales_fact.transaction_type_id)</th>\n",
       "      <th>MODE(sales_fact.transaktionsart_id_korr)</th>\n",
       "      <th>NUM_UNIQUE(sales_fact.mcg_id)</th>\n",
       "      <th>NUM_UNIQUE(sales_fact.transaction_type_id)</th>\n",
       "      <th>NUM_UNIQUE(sales_fact.transaktionsart_id_korr)</th>\n",
       "      <th>SKEW(sales_fact.betrag)</th>\n",
       "      <th>STD(sales_fact.betrag)</th>\n",
       "      <th>SUM(sales_fact.betrag)</th>\n",
       "      <th>TIME_SINCE_LAST(sales_fact.kauf_datum)</th>\n",
       "      <th>...</th>\n",
       "      <th>SUM(sales_fact.betrag WHERE transaktionsart_id_korr = 0)</th>\n",
       "      <th>TREND(sales_fact.betrag, kauf_datum WHERE transaktionsart_id_korr = 0)</th>\n",
       "      <th>COUNT(fees_fact WHERE bewegungstyp = zins)</th>\n",
       "      <th>COUNT(fees_fact WHERE bewegungstyp = fremdw)</th>\n",
       "      <th>COUNT(fees_fact WHERE bewegungstyp = mahnung)</th>\n",
       "      <th>MEAN(fees_fact.betrag WHERE bewegungstyp = zins)</th>\n",
       "      <th>MEAN(fees_fact.betrag WHERE bewegungstyp = fremdw)</th>\n",
       "      <th>MEAN(fees_fact.betrag WHERE bewegungstyp = mahnung)</th>\n",
       "      <th>NUM_UNIQUE(fees_fact.MONTH(kauf_datum))</th>\n",
       "      <th>SUM(fees_fact.betrag WHERE bewegungstyp = zins)</th>\n",
       "      <th>SUM(fees_fact.betrag WHERE bewegungstyp = fremdw)</th>\n",
       "      <th>SUM(fees_fact.betrag WHERE bewegungstyp = mahnung)</th>\n",
       "      <th>TREND(fees_fact.betrag, kauf_datum WHERE bewegungstyp = zins)</th>\n",
       "      <th>TREND(fees_fact.betrag, kauf_datum WHERE bewegungstyp = fremdw)</th>\n",
       "      <th>TREND(fees_fact.betrag, kauf_datum WHERE bewegungstyp = mahnung)</th>\n",
       "    </tr>\n",
       "    <tr>\n",
       "      <th>konto_lauf_id</th>\n",
       "      <th></th>\n",
       "      <th></th>\n",
       "      <th></th>\n",
       "      <th></th>\n",
       "      <th></th>\n",
       "      <th></th>\n",
       "      <th></th>\n",
       "      <th></th>\n",
       "      <th></th>\n",
       "      <th></th>\n",
       "      <th></th>\n",
       "      <th></th>\n",
       "      <th></th>\n",
       "      <th></th>\n",
       "      <th></th>\n",
       "      <th></th>\n",
       "      <th></th>\n",
       "      <th></th>\n",
       "      <th></th>\n",
       "      <th></th>\n",
       "      <th></th>\n",
       "      <th></th>\n",
       "      <th></th>\n",
       "      <th></th>\n",
       "      <th></th>\n",
       "      <th></th>\n",
       "      <th></th>\n",
       "      <th></th>\n",
       "      <th></th>\n",
       "      <th></th>\n",
       "      <th></th>\n",
       "    </tr>\n",
       "  </thead>\n",
       "  <tbody>\n",
       "    <tr>\n",
       "      <th>84634</th>\n",
       "      <td>688,560.00</td>\n",
       "      <td>4</td>\n",
       "      <td>114.00</td>\n",
       "      <td>84.50</td>\n",
       "      <td>12.00</td>\n",
       "      <td>BC Diverse</td>\n",
       "      <td>1</td>\n",
       "      <td>0</td>\n",
       "      <td>1</td>\n",
       "      <td>1</td>\n",
       "      <td>1</td>\n",
       "      <td>-1.96</td>\n",
       "      <td>48.48</td>\n",
       "      <td>338.00</td>\n",
       "      <td>27,620,280.00</td>\n",
       "      <td>...</td>\n",
       "      <td>338.00</td>\n",
       "      <td>0.00</td>\n",
       "      <td>0.00</td>\n",
       "      <td>0.00</td>\n",
       "      <td>0.00</td>\n",
       "      <td>NaN</td>\n",
       "      <td>NaN</td>\n",
       "      <td>NaN</td>\n",
       "      <td>NaN</td>\n",
       "      <td>0.00</td>\n",
       "      <td>0.00</td>\n",
       "      <td>0.00</td>\n",
       "      <td>NaN</td>\n",
       "      <td>NaN</td>\n",
       "      <td>NaN</td>\n",
       "    </tr>\n",
       "    <tr>\n",
       "      <th>117654</th>\n",
       "      <td>485,822.95</td>\n",
       "      <td>62</td>\n",
       "      <td>899.00</td>\n",
       "      <td>114.89</td>\n",
       "      <td>9.90</td>\n",
       "      <td>RESTAURANT</td>\n",
       "      <td>3</td>\n",
       "      <td>2</td>\n",
       "      <td>5</td>\n",
       "      <td>2</td>\n",
       "      <td>2</td>\n",
       "      <td>2.93</td>\n",
       "      <td>162.24</td>\n",
       "      <td>7,123.10</td>\n",
       "      <td>1,036,800.00</td>\n",
       "      <td>...</td>\n",
       "      <td>908.90</td>\n",
       "      <td>NaN</td>\n",
       "      <td>0.00</td>\n",
       "      <td>0.00</td>\n",
       "      <td>0.00</td>\n",
       "      <td>NaN</td>\n",
       "      <td>NaN</td>\n",
       "      <td>NaN</td>\n",
       "      <td>11.00</td>\n",
       "      <td>0.00</td>\n",
       "      <td>0.00</td>\n",
       "      <td>0.00</td>\n",
       "      <td>NaN</td>\n",
       "      <td>NaN</td>\n",
       "      <td>NaN</td>\n",
       "    </tr>\n",
       "  </tbody>\n",
       "</table>\n",
       "<p>2 rows × 46 columns</p>\n",
       "</div>"
      ],
      "text/plain": [
       "               AVG_TIME_BETWEEN(sales_fact.kauf_datum)  COUNT(sales_fact)  MAX(sales_fact.betrag)  MEAN(sales_fact.betrag)  MIN(sales_fact.betrag) MODE(sales_fact.mcg_id)  MODE(sales_fact.transaction_type_id)  MODE(sales_fact.transaktionsart_id_korr)  NUM_UNIQUE(sales_fact.mcg_id)  NUM_UNIQUE(sales_fact.transaction_type_id)  NUM_UNIQUE(sales_fact.transaktionsart_id_korr)  SKEW(sales_fact.betrag)  STD(sales_fact.betrag)  SUM(sales_fact.betrag)  TIME_SINCE_LAST(sales_fact.kauf_datum)  ...  SUM(sales_fact.betrag WHERE transaktionsart_id_korr = 0)  TREND(sales_fact.betrag, kauf_datum WHERE transaktionsart_id_korr = 0)  COUNT(fees_fact WHERE bewegungstyp = zins)  COUNT(fees_fact WHERE bewegungstyp = fremdw)  COUNT(fees_fact WHERE bewegungstyp = mahnung)  MEAN(fees_fact.betrag WHERE bewegungstyp = zins) MEAN(fees_fact.betrag WHERE bewegungstyp = fremdw)  MEAN(fees_fact.betrag WHERE bewegungstyp = mahnung)  NUM_UNIQUE(fees_fact.MONTH(kauf_datum))  SUM(fees_fact.betrag WHERE bewegungstyp = zins)  SUM(fees_fact.betrag WHERE bewegungstyp = fremdw)  SUM(fees_fact.betrag WHERE bewegungstyp = mahnung)  TREND(fees_fact.betrag, kauf_datum WHERE bewegungstyp = zins)  TREND(fees_fact.betrag, kauf_datum WHERE bewegungstyp = fremdw)  TREND(fees_fact.betrag, kauf_datum WHERE bewegungstyp = mahnung)\n",
       "konto_lauf_id                                                                                                                                                                                                                                                                                                                                                                                                                                                                                           ...                                                                                                                                                                                                                                                                                                                                                                                                                                                                                                                                                                                                                                                                                                                                                                                                                                        \n",
       "84634                                       688,560.00                  4                  114.00                    84.50                   12.00              BC Diverse                                     1                                         0                              1                                           1                                               1                    -1.96                   48.48                  338.00                           27,620,280.00  ...                                                    338.00                                                                    0.00                                        0.00                                          0.00                                           0.00                                               NaN                                                NaN                                                  NaN                                      NaN                                             0.00                                               0.00                                                0.00                                                            NaN                                                              NaN                                                               NaN\n",
       "117654                                      485,822.95                 62                  899.00                   114.89                    9.90              RESTAURANT                                     3                                         2                              5                                           2                                               2                     2.93                  162.24                7,123.10                            1,036,800.00  ...                                                    908.90                                                                     NaN                                        0.00                                          0.00                                           0.00                                               NaN                                                NaN                                                  NaN                                    11.00                                             0.00                                               0.00                                                0.00                                                            NaN                                                              NaN                                                               NaN\n",
       "\n",
       "[2 rows x 46 columns]"
      ]
     },
     "execution_count": 40,
     "metadata": {},
     "output_type": "execute_result"
    }
   ],
   "source": [
    "feature_matrix.head(2)"
   ]
  },
  {
   "cell_type": "code",
   "execution_count": 41,
   "id": "cec8a755",
   "metadata": {
    "ExecuteTime": {
     "end_time": "2021-05-20T07:08:13.004508Z",
     "start_time": "2021-05-20T07:08:12.989508Z"
    }
   },
   "outputs": [
    {
     "data": {
      "text/plain": [
       "konto_lauf_id\n",
       "84634    27,620,280.00\n",
       "117654    1,036,800.00\n",
       "207389    8,812,800.00\n",
       "298048    1,854,180.00\n",
       "328419    8,035,200.00\n",
       "Name: TIME_SINCE_LAST(sales_fact.kauf_datum), dtype: float64"
      ]
     },
     "execution_count": 41,
     "metadata": {},
     "output_type": "execute_result"
    }
   ],
   "source": [
    "feature_matrix[\"TIME_SINCE_LAST(sales_fact.kauf_datum)\"].head(5)"
   ]
  },
  {
   "cell_type": "markdown",
   "id": "980bf30f",
   "metadata": {
    "ExecuteTime": {
     "end_time": "2021-05-10T13:08:52.867503Z",
     "start_time": "2021-05-10T13:08:52.842986Z"
    }
   },
   "source": [
    "This are the results without passing a cutoff date .... (one year is about 30 Mio MS)\n",
    "\n",
    "```\n",
    "    konto_lauf_id\n",
    "    561659   37,719,230.97\n",
    "    563651   13,786,430.97\n",
    "    587382   24,845,630.97\n",
    "    618498   36,682,430.97\n",
    "    642932   26,746,430.97\n",
    "    Name: TIME_SINCE_LAST(sales_fact.kauf_datum), dtype: float64\n",
    "```"
   ]
  },
  {
   "cell_type": "markdown",
   "id": "90eba3a6",
   "metadata": {},
   "source": [
    "**Findings:** \n",
    "- Without using interesting values you probably underuse the categorical variables (at least the interesting ones)\n",
    "- Do not forget to pass a cut_off_date - if you don't the time_since_last returns a wrong value"
   ]
  },
  {
   "cell_type": "markdown",
   "id": "0428e812",
   "metadata": {},
   "source": [
    "## Appendix"
   ]
  },
  {
   "cell_type": "markdown",
   "id": "01b1cab6",
   "metadata": {},
   "source": [
    "### Sales Fact: EDA of Categorical Values"
   ]
  },
  {
   "cell_type": "code",
   "execution_count": null,
   "id": "da86ae29",
   "metadata": {
    "ExecuteTime": {
     "end_time": "2021-05-20T07:00:18.308596Z",
     "start_time": "2021-05-20T06:59:54.657Z"
    }
   },
   "outputs": [],
   "source": [
    "query = (f\"\"\"\n",
    "    SELECT \n",
    "        transaction_type_id,\n",
    "        transaction_type\n",
    "      FROM jemas_base.dbo.transaction_type_help\n",
    "    \"\"\"\n",
    ")\n",
    "\n",
    "pd.read_sql(query, engine)"
   ]
  },
  {
   "cell_type": "code",
   "execution_count": null,
   "id": "df78d58a",
   "metadata": {
    "ExecuteTime": {
     "end_time": "2021-05-20T07:00:18.309598Z",
     "start_time": "2021-05-20T06:59:54.660Z"
    }
   },
   "outputs": [],
   "source": [
    "query = (f\"\"\"\n",
    "    SELECT \n",
    "        transaktionsart_id_korr,\n",
    "        transaktionsart\n",
    "      FROM jemas_base.dbo.transaktionsart_id_korr_help\n",
    "    \"\"\"\n",
    ")\n",
    "\n",
    "pd.read_sql(query, engine)"
   ]
  },
  {
   "cell_type": "markdown",
   "id": "89eaf597",
   "metadata": {},
   "source": [
    "### Fees Fact: Bewegungstypen und Bewegungsgründe seit 2019"
   ]
  },
  {
   "cell_type": "code",
   "execution_count": null,
   "id": "90a13129",
   "metadata": {
    "ExecuteTime": {
     "end_time": "2021-05-20T07:00:18.310597Z",
     "start_time": "2021-05-20T06:59:54.662Z"
    }
   },
   "outputs": [],
   "source": [
    "query = (f\"\"\"\n",
    "    SELECT ff. bewegungstyp_id, bt.bewegungstyp\n",
    "        , COUNT(ff.betrag) AS count\n",
    "        , SUM(ff.betrag) AS sum\n",
    "      FROM jemas_base.dbo.Fees_Fact AS ff\n",
    "      JOIN jemas_base.dbo.Bewegungstyp AS bt\n",
    "        ON bt.bewegungstyp_id = ff.bewegungstyp_id\n",
    "     WHERE ff.erfassung_datum >= '2019-01-01'\n",
    "       AND NOT ff.bewegungsgrund_id IN ('JGT', 'JGE', 'JGR')\n",
    "       AND ff.betrag > 0\n",
    "    GROUP BY ff.bewegungstyp_id, bt.bewegungstyp\n",
    "    ORDER BY SUM(ff.betrag) DESC\n",
    "    \"\"\"\n",
    "         \n",
    ")\n",
    "\n",
    "df_bt = pd.read_sql(query, engine)"
   ]
  },
  {
   "cell_type": "code",
   "execution_count": null,
   "id": "f6ec9cb9",
   "metadata": {
    "ExecuteTime": {
     "end_time": "2021-05-20T07:00:18.311596Z",
     "start_time": "2021-05-20T06:59:54.666Z"
    }
   },
   "outputs": [],
   "source": [
    "df_bt"
   ]
  },
  {
   "cell_type": "markdown",
   "id": "5681f54d",
   "metadata": {
    "ExecuteTime": {
     "end_time": "2021-05-07T06:37:25.611119Z",
     "start_time": "2021-05-07T06:37:25.598121Z"
    }
   },
   "source": [
    "**Notes:** Mahngebühren (41, 42, 43, 44) könnten als eigene Gruppe zusammengefasst und hervorgehoben werden."
   ]
  },
  {
   "cell_type": "code",
   "execution_count": null,
   "id": "6c169a8b",
   "metadata": {
    "ExecuteTime": {
     "end_time": "2021-05-20T07:00:18.312599Z",
     "start_time": "2021-05-20T06:59:54.668Z"
    }
   },
   "outputs": [],
   "source": [
    "query = (f\"\"\"\n",
    "        SELECT ff.bewegungsgrund_id, bg.bewegungsgrund\n",
    "            , COUNT(ff.betrag) AS count\n",
    "            , SUM(ff.betrag) AS sum\n",
    "        FROM jemas_base.dbo.Fees_Fact AS ff\n",
    "          JOIN jemas_base.dbo.Bewegungsgrund AS bg\n",
    "            ON bg.bewegungsgrund_id = ff.bewegungsgrund_id\n",
    "        WHERE ff.erfassung_datum >= '2019-01-01'\n",
    "          AND ff.bewegungstyp_id = 61\n",
    "          AND NOT ff.bewegungsgrund_id IN ('JGT', 'JGE', 'JGR')\n",
    "          AND ff.betrag > 0\n",
    "        GROUP BY ff.bewegungsgrund_id, bg.bewegungsgrund\n",
    "        ORDER BY SUM(ff.betrag) DESC\n",
    "    \"\"\"\n",
    ")\n",
    "\n",
    "df_bg_61 = pd.read_sql(query, engine)"
   ]
  },
  {
   "cell_type": "code",
   "execution_count": null,
   "id": "c14e01b6",
   "metadata": {
    "ExecuteTime": {
     "end_time": "2021-05-20T07:00:18.313594Z",
     "start_time": "2021-05-20T06:59:54.673Z"
    }
   },
   "outputs": [],
   "source": [
    "df_bg_61"
   ]
  },
  {
   "cell_type": "markdown",
   "id": "5c2cf29b",
   "metadata": {
    "ExecuteTime": {
     "end_time": "2021-05-07T06:41:47.942501Z",
     "start_time": "2021-05-07T06:41:47.930496Z"
    }
   },
   "source": [
    "**Notes:** Fremdwährungs- / Auslandgebühren (FRW, WSZ, ETA)  könnten als eigene Gruppe zusammengefasst und hervorgehoben werden."
   ]
  },
  {
   "cell_type": "code",
   "execution_count": null,
   "id": "3e865ede",
   "metadata": {
    "ExecuteTime": {
     "end_time": "2021-05-20T07:00:18.314594Z",
     "start_time": "2021-05-20T06:59:54.675Z"
    }
   },
   "outputs": [],
   "source": [
    "query = (f\"\"\"\n",
    "        SELECT ff.bewegungsgrund_id, bg.bewegungsgrund\n",
    "            , COUNT(ff.betrag) AS count\n",
    "            , SUM(ff.betrag) AS sum\n",
    "        FROM jemas_base.dbo.Fees_Fact AS ff\n",
    "          JOIN jemas_base.dbo.Bewegungsgrund AS bg\n",
    "            ON bg.bewegungsgrund_id = ff.bewegungsgrund_id\n",
    "        WHERE ff.erfassung_datum >= '2019-01-01'\n",
    "          AND ff.bewegungstyp_id = 62\n",
    "        GROUP BY ff.bewegungsgrund_id, bg.bewegungsgrund\n",
    "        ORDER BY SUM(ff.betrag)\n",
    "    \"\"\"\n",
    ")\n",
    "\n",
    "df_bg_62 = pd.read_sql(query, engine)"
   ]
  },
  {
   "cell_type": "code",
   "execution_count": null,
   "id": "1ee49a16",
   "metadata": {
    "ExecuteTime": {
     "end_time": "2021-05-20T07:00:18.315605Z",
     "start_time": "2021-05-20T06:59:54.680Z"
    }
   },
   "outputs": [],
   "source": [
    "df_bg_62"
   ]
  },
  {
   "cell_type": "markdown",
   "id": "de8b05ef",
   "metadata": {
    "ExecuteTime": {
     "end_time": "2021-05-07T06:37:25.611119Z",
     "start_time": "2021-05-07T06:37:25.598121Z"
    }
   },
   "source": [
    "**Notes:** Keine substanziellen Posten ausser Umbuchungen (?), aber ETA, FRW, WSZ kommen hier ebenfalls vor."
   ]
  },
  {
   "cell_type": "markdown",
   "id": "2688220d",
   "metadata": {},
   "source": [
    "### Primitives List from FeatureTools"
   ]
  },
  {
   "cell_type": "code",
   "execution_count": 42,
   "id": "dc3374a8",
   "metadata": {
    "ExecuteTime": {
     "end_time": "2021-05-20T07:11:54.364553Z",
     "start_time": "2021-05-20T07:11:54.324546Z"
    },
    "scrolled": false
   },
   "outputs": [
    {
     "data": {
      "text/html": [
       "<div>\n",
       "<style scoped>\n",
       "    .dataframe tbody tr th:only-of-type {\n",
       "        vertical-align: middle;\n",
       "    }\n",
       "\n",
       "    .dataframe tbody tr th {\n",
       "        vertical-align: top;\n",
       "    }\n",
       "\n",
       "    .dataframe thead th {\n",
       "        text-align: right;\n",
       "    }\n",
       "</style>\n",
       "<table border=\"1\" class=\"dataframe\">\n",
       "  <thead>\n",
       "    <tr style=\"text-align: right;\">\n",
       "      <th></th>\n",
       "      <th>name</th>\n",
       "      <th>type</th>\n",
       "      <th>dask_compatible</th>\n",
       "      <th>koalas_compatible</th>\n",
       "      <th>description</th>\n",
       "      <th>valid_inputs</th>\n",
       "      <th>return_type</th>\n",
       "    </tr>\n",
       "  </thead>\n",
       "  <tbody>\n",
       "    <tr>\n",
       "      <th>22</th>\n",
       "      <td>diff</td>\n",
       "      <td>transform</td>\n",
       "      <td>False</td>\n",
       "      <td>False</td>\n",
       "      <td>Compute the difference between the value in a list and the</td>\n",
       "      <td>Numeric</td>\n",
       "      <td>Numeric</td>\n",
       "    </tr>\n",
       "    <tr>\n",
       "      <th>23</th>\n",
       "      <td>is_weekend</td>\n",
       "      <td>transform</td>\n",
       "      <td>True</td>\n",
       "      <td>True</td>\n",
       "      <td>Determines if a date falls on a weekend.</td>\n",
       "      <td>Datetime</td>\n",
       "      <td>Boolean</td>\n",
       "    </tr>\n",
       "    <tr>\n",
       "      <th>24</th>\n",
       "      <td>cum_mean</td>\n",
       "      <td>transform</td>\n",
       "      <td>False</td>\n",
       "      <td>False</td>\n",
       "      <td>Calculates the cumulative mean.</td>\n",
       "      <td>Numeric</td>\n",
       "      <td>Numeric</td>\n",
       "    </tr>\n",
       "    <tr>\n",
       "      <th>25</th>\n",
       "      <td>equal_scalar</td>\n",
       "      <td>transform</td>\n",
       "      <td>True</td>\n",
       "      <td>True</td>\n",
       "      <td>Determines if values in a list are equal to a given scalar.</td>\n",
       "      <td>Variable</td>\n",
       "      <td>Boolean</td>\n",
       "    </tr>\n",
       "    <tr>\n",
       "      <th>26</th>\n",
       "      <td>month</td>\n",
       "      <td>transform</td>\n",
       "      <td>True</td>\n",
       "      <td>True</td>\n",
       "      <td>Determines the month value of a datetime.</td>\n",
       "      <td>Datetime</td>\n",
       "      <td>Ordinal</td>\n",
       "    </tr>\n",
       "    <tr>\n",
       "      <th>27</th>\n",
       "      <td>cum_sum</td>\n",
       "      <td>transform</td>\n",
       "      <td>False</td>\n",
       "      <td>False</td>\n",
       "      <td>Calculates the cumulative sum.</td>\n",
       "      <td>Numeric</td>\n",
       "      <td>Numeric</td>\n",
       "    </tr>\n",
       "    <tr>\n",
       "      <th>28</th>\n",
       "      <td>greater_than</td>\n",
       "      <td>transform</td>\n",
       "      <td>True</td>\n",
       "      <td>False</td>\n",
       "      <td>Determines if values in one list are greater than another list.</td>\n",
       "      <td>Numeric, Ordinal, Datetime</td>\n",
       "      <td>Boolean</td>\n",
       "    </tr>\n",
       "    <tr>\n",
       "      <th>29</th>\n",
       "      <td>less_than_equal_to_scalar</td>\n",
       "      <td>transform</td>\n",
       "      <td>True</td>\n",
       "      <td>True</td>\n",
       "      <td>Determines if values are less than or equal to a given scalar.</td>\n",
       "      <td>Numeric, Ordinal, Datetime</td>\n",
       "      <td>Boolean</td>\n",
       "    </tr>\n",
       "    <tr>\n",
       "      <th>30</th>\n",
       "      <td>age</td>\n",
       "      <td>transform</td>\n",
       "      <td>True</td>\n",
       "      <td>False</td>\n",
       "      <td>Calculates the age in years as a floating point number given a</td>\n",
       "      <td>DateOfBirth</td>\n",
       "      <td>Numeric</td>\n",
       "    </tr>\n",
       "    <tr>\n",
       "      <th>31</th>\n",
       "      <td>haversine</td>\n",
       "      <td>transform</td>\n",
       "      <td>False</td>\n",
       "      <td>False</td>\n",
       "      <td>Calculates the approximate haversine distance between two LatLong</td>\n",
       "      <td>LatLong</td>\n",
       "      <td>Numeric</td>\n",
       "    </tr>\n",
       "    <tr>\n",
       "      <th>32</th>\n",
       "      <td>minute</td>\n",
       "      <td>transform</td>\n",
       "      <td>True</td>\n",
       "      <td>True</td>\n",
       "      <td>Determines the minutes value of a datetime.</td>\n",
       "      <td>Datetime</td>\n",
       "      <td>Numeric</td>\n",
       "    </tr>\n",
       "    <tr>\n",
       "      <th>33</th>\n",
       "      <td>modulo_numeric_scalar</td>\n",
       "      <td>transform</td>\n",
       "      <td>True</td>\n",
       "      <td>True</td>\n",
       "      <td>Return the modulo of each element in the list by a scalar.</td>\n",
       "      <td>Numeric</td>\n",
       "      <td>Numeric</td>\n",
       "    </tr>\n",
       "    <tr>\n",
       "      <th>34</th>\n",
       "      <td>negate</td>\n",
       "      <td>transform</td>\n",
       "      <td>True</td>\n",
       "      <td>True</td>\n",
       "      <td>Negates a numeric value.</td>\n",
       "      <td>Numeric</td>\n",
       "      <td>Numeric</td>\n",
       "    </tr>\n",
       "    <tr>\n",
       "      <th>35</th>\n",
       "      <td>second</td>\n",
       "      <td>transform</td>\n",
       "      <td>True</td>\n",
       "      <td>True</td>\n",
       "      <td>Determines the seconds value of a datetime.</td>\n",
       "      <td>Datetime</td>\n",
       "      <td>Numeric</td>\n",
       "    </tr>\n",
       "    <tr>\n",
       "      <th>36</th>\n",
       "      <td>modulo_numeric</td>\n",
       "      <td>transform</td>\n",
       "      <td>True</td>\n",
       "      <td>True</td>\n",
       "      <td>Element-wise modulo of two lists.</td>\n",
       "      <td>Numeric</td>\n",
       "      <td>Numeric</td>\n",
       "    </tr>\n",
       "    <tr>\n",
       "      <th>37</th>\n",
       "      <td>greater_than_equal_to_scalar</td>\n",
       "      <td>transform</td>\n",
       "      <td>True</td>\n",
       "      <td>True</td>\n",
       "      <td>Determines if values are greater than or equal to a given scalar.</td>\n",
       "      <td>Numeric, Ordinal, Datetime</td>\n",
       "      <td>Boolean</td>\n",
       "    </tr>\n",
       "    <tr>\n",
       "      <th>38</th>\n",
       "      <td>add_numeric_scalar</td>\n",
       "      <td>transform</td>\n",
       "      <td>True</td>\n",
       "      <td>True</td>\n",
       "      <td>Add a scalar to each value in the list.</td>\n",
       "      <td>Numeric</td>\n",
       "      <td>Numeric</td>\n",
       "    </tr>\n",
       "    <tr>\n",
       "      <th>39</th>\n",
       "      <td>num_characters</td>\n",
       "      <td>transform</td>\n",
       "      <td>True</td>\n",
       "      <td>True</td>\n",
       "      <td>Calculates the number of characters in a string.</td>\n",
       "      <td>NaturalLanguage</td>\n",
       "      <td>Numeric</td>\n",
       "    </tr>\n",
       "    <tr>\n",
       "      <th>40</th>\n",
       "      <td>time_since_previous</td>\n",
       "      <td>transform</td>\n",
       "      <td>False</td>\n",
       "      <td>False</td>\n",
       "      <td>Compute the time since the previous entry in a list.</td>\n",
       "      <td>DatetimeTimeIndex</td>\n",
       "      <td>Numeric</td>\n",
       "    </tr>\n",
       "    <tr>\n",
       "      <th>41</th>\n",
       "      <td>divide_numeric_scalar</td>\n",
       "      <td>transform</td>\n",
       "      <td>True</td>\n",
       "      <td>True</td>\n",
       "      <td>Divide each element in the list by a scalar.</td>\n",
       "      <td>Numeric</td>\n",
       "      <td>Numeric</td>\n",
       "    </tr>\n",
       "    <tr>\n",
       "      <th>42</th>\n",
       "      <td>scalar_subtract_numeric_feature</td>\n",
       "      <td>transform</td>\n",
       "      <td>True</td>\n",
       "      <td>True</td>\n",
       "      <td>Subtract each value in the list from a given scalar.</td>\n",
       "      <td>Numeric</td>\n",
       "      <td>Numeric</td>\n",
       "    </tr>\n",
       "    <tr>\n",
       "      <th>43</th>\n",
       "      <td>less_than</td>\n",
       "      <td>transform</td>\n",
       "      <td>True</td>\n",
       "      <td>True</td>\n",
       "      <td>Determines if values in one list are less than another list.</td>\n",
       "      <td>Numeric, Ordinal, Datetime</td>\n",
       "      <td>Boolean</td>\n",
       "    </tr>\n",
       "    <tr>\n",
       "      <th>44</th>\n",
       "      <td>weekday</td>\n",
       "      <td>transform</td>\n",
       "      <td>True</td>\n",
       "      <td>True</td>\n",
       "      <td>Determines the day of the week from a datetime.</td>\n",
       "      <td>Datetime</td>\n",
       "      <td>Ordinal</td>\n",
       "    </tr>\n",
       "    <tr>\n",
       "      <th>45</th>\n",
       "      <td>absolute</td>\n",
       "      <td>transform</td>\n",
       "      <td>True</td>\n",
       "      <td>True</td>\n",
       "      <td>Computes the absolute value of a number.</td>\n",
       "      <td>Numeric</td>\n",
       "      <td>Numeric</td>\n",
       "    </tr>\n",
       "    <tr>\n",
       "      <th>46</th>\n",
       "      <td>multiply_numeric_scalar</td>\n",
       "      <td>transform</td>\n",
       "      <td>True</td>\n",
       "      <td>True</td>\n",
       "      <td>Multiply each element in the list by a scalar.</td>\n",
       "      <td>Numeric</td>\n",
       "      <td>Numeric</td>\n",
       "    </tr>\n",
       "    <tr>\n",
       "      <th>47</th>\n",
       "      <td>and</td>\n",
       "      <td>transform</td>\n",
       "      <td>True</td>\n",
       "      <td>True</td>\n",
       "      <td>Element-wise logical AND of two lists.</td>\n",
       "      <td>Boolean</td>\n",
       "      <td>Boolean</td>\n",
       "    </tr>\n",
       "    <tr>\n",
       "      <th>48</th>\n",
       "      <td>is_null</td>\n",
       "      <td>transform</td>\n",
       "      <td>True</td>\n",
       "      <td>True</td>\n",
       "      <td>Determines if a value is null.</td>\n",
       "      <td>Variable</td>\n",
       "      <td>Boolean</td>\n",
       "    </tr>\n",
       "    <tr>\n",
       "      <th>49</th>\n",
       "      <td>not_equal_scalar</td>\n",
       "      <td>transform</td>\n",
       "      <td>True</td>\n",
       "      <td>True</td>\n",
       "      <td>Determines if values in a list are not equal to a given scalar.</td>\n",
       "      <td>Variable</td>\n",
       "      <td>Boolean</td>\n",
       "    </tr>\n",
       "    <tr>\n",
       "      <th>50</th>\n",
       "      <td>latitude</td>\n",
       "      <td>transform</td>\n",
       "      <td>False</td>\n",
       "      <td>False</td>\n",
       "      <td>Returns the first tuple value in a list of LatLong tuples.</td>\n",
       "      <td>LatLong</td>\n",
       "      <td>Numeric</td>\n",
       "    </tr>\n",
       "    <tr>\n",
       "      <th>51</th>\n",
       "      <td>isin</td>\n",
       "      <td>transform</td>\n",
       "      <td>True</td>\n",
       "      <td>True</td>\n",
       "      <td>Determines whether a value is present in a provided list.</td>\n",
       "      <td>Variable</td>\n",
       "      <td>Boolean</td>\n",
       "    </tr>\n",
       "    <tr>\n",
       "      <th>52</th>\n",
       "      <td>year</td>\n",
       "      <td>transform</td>\n",
       "      <td>True</td>\n",
       "      <td>True</td>\n",
       "      <td>Determines the year value of a datetime.</td>\n",
       "      <td>Datetime</td>\n",
       "      <td>Ordinal</td>\n",
       "    </tr>\n",
       "    <tr>\n",
       "      <th>53</th>\n",
       "      <td>cum_count</td>\n",
       "      <td>transform</td>\n",
       "      <td>False</td>\n",
       "      <td>False</td>\n",
       "      <td>Calculates the cumulative count.</td>\n",
       "      <td>Discrete, Id</td>\n",
       "      <td>Numeric</td>\n",
       "    </tr>\n",
       "    <tr>\n",
       "      <th>54</th>\n",
       "      <td>add_numeric</td>\n",
       "      <td>transform</td>\n",
       "      <td>True</td>\n",
       "      <td>True</td>\n",
       "      <td>Element-wise addition of two lists.</td>\n",
       "      <td>Numeric</td>\n",
       "      <td>Numeric</td>\n",
       "    </tr>\n",
       "    <tr>\n",
       "      <th>55</th>\n",
       "      <td>greater_than_scalar</td>\n",
       "      <td>transform</td>\n",
       "      <td>True</td>\n",
       "      <td>True</td>\n",
       "      <td>Determines if values are greater than a given scalar.</td>\n",
       "      <td>Numeric, Ordinal, Datetime</td>\n",
       "      <td>Boolean</td>\n",
       "    </tr>\n",
       "    <tr>\n",
       "      <th>56</th>\n",
       "      <td>num_words</td>\n",
       "      <td>transform</td>\n",
       "      <td>True</td>\n",
       "      <td>True</td>\n",
       "      <td>Determines the number of words in a string by counting the spaces.</td>\n",
       "      <td>NaturalLanguage</td>\n",
       "      <td>Numeric</td>\n",
       "    </tr>\n",
       "    <tr>\n",
       "      <th>57</th>\n",
       "      <td>week</td>\n",
       "      <td>transform</td>\n",
       "      <td>True</td>\n",
       "      <td>True</td>\n",
       "      <td>Determines the week of the year from a datetime.</td>\n",
       "      <td>Datetime</td>\n",
       "      <td>Ordinal</td>\n",
       "    </tr>\n",
       "    <tr>\n",
       "      <th>58</th>\n",
       "      <td>modulo_by_feature</td>\n",
       "      <td>transform</td>\n",
       "      <td>True</td>\n",
       "      <td>True</td>\n",
       "      <td>Return the modulo of a scalar by each element in the list.</td>\n",
       "      <td>Numeric</td>\n",
       "      <td>Numeric</td>\n",
       "    </tr>\n",
       "    <tr>\n",
       "      <th>59</th>\n",
       "      <td>multiply_numeric</td>\n",
       "      <td>transform</td>\n",
       "      <td>True</td>\n",
       "      <td>True</td>\n",
       "      <td>Element-wise multiplication of two lists.</td>\n",
       "      <td>Numeric, Boolean</td>\n",
       "      <td>Numeric</td>\n",
       "    </tr>\n",
       "    <tr>\n",
       "      <th>60</th>\n",
       "      <td>less_than_equal_to</td>\n",
       "      <td>transform</td>\n",
       "      <td>True</td>\n",
       "      <td>True</td>\n",
       "      <td>Determines if values in one list are less than or equal to another list.</td>\n",
       "      <td>Numeric, Ordinal, Datetime</td>\n",
       "      <td>Boolean</td>\n",
       "    </tr>\n",
       "    <tr>\n",
       "      <th>61</th>\n",
       "      <td>longitude</td>\n",
       "      <td>transform</td>\n",
       "      <td>False</td>\n",
       "      <td>False</td>\n",
       "      <td>Returns the second tuple value in a list of LatLong tuples.</td>\n",
       "      <td>LatLong</td>\n",
       "      <td>Numeric</td>\n",
       "    </tr>\n",
       "    <tr>\n",
       "      <th>62</th>\n",
       "      <td>cum_max</td>\n",
       "      <td>transform</td>\n",
       "      <td>False</td>\n",
       "      <td>False</td>\n",
       "      <td>Calculates the cumulative maximum.</td>\n",
       "      <td>Numeric</td>\n",
       "      <td>Numeric</td>\n",
       "    </tr>\n",
       "    <tr>\n",
       "      <th>63</th>\n",
       "      <td>divide_numeric</td>\n",
       "      <td>transform</td>\n",
       "      <td>True</td>\n",
       "      <td>True</td>\n",
       "      <td>Element-wise division of two lists.</td>\n",
       "      <td>Numeric</td>\n",
       "      <td>Numeric</td>\n",
       "    </tr>\n",
       "    <tr>\n",
       "      <th>64</th>\n",
       "      <td>subtract_numeric</td>\n",
       "      <td>transform</td>\n",
       "      <td>True</td>\n",
       "      <td>False</td>\n",
       "      <td>Element-wise subtraction of two lists.</td>\n",
       "      <td>Numeric</td>\n",
       "      <td>Numeric</td>\n",
       "    </tr>\n",
       "    <tr>\n",
       "      <th>65</th>\n",
       "      <td>time_since</td>\n",
       "      <td>transform</td>\n",
       "      <td>True</td>\n",
       "      <td>False</td>\n",
       "      <td>Calculates time from a value to a specified cutoff datetime.</td>\n",
       "      <td>Datetime</td>\n",
       "      <td>Numeric</td>\n",
       "    </tr>\n",
       "    <tr>\n",
       "      <th>66</th>\n",
       "      <td>hour</td>\n",
       "      <td>transform</td>\n",
       "      <td>True</td>\n",
       "      <td>True</td>\n",
       "      <td>Determines the hour value of a datetime.</td>\n",
       "      <td>Datetime</td>\n",
       "      <td>Ordinal</td>\n",
       "    </tr>\n",
       "    <tr>\n",
       "      <th>67</th>\n",
       "      <td>divide_by_feature</td>\n",
       "      <td>transform</td>\n",
       "      <td>True</td>\n",
       "      <td>True</td>\n",
       "      <td>Divide a scalar by each value in the list.</td>\n",
       "      <td>Numeric</td>\n",
       "      <td>Numeric</td>\n",
       "    </tr>\n",
       "    <tr>\n",
       "      <th>68</th>\n",
       "      <td>cum_min</td>\n",
       "      <td>transform</td>\n",
       "      <td>False</td>\n",
       "      <td>False</td>\n",
       "      <td>Calculates the cumulative minimum.</td>\n",
       "      <td>Numeric</td>\n",
       "      <td>Numeric</td>\n",
       "    </tr>\n",
       "    <tr>\n",
       "      <th>69</th>\n",
       "      <td>greater_than_equal_to</td>\n",
       "      <td>transform</td>\n",
       "      <td>True</td>\n",
       "      <td>True</td>\n",
       "      <td>Determines if values in one list are greater than or equal to another list.</td>\n",
       "      <td>Numeric, Ordinal, Datetime</td>\n",
       "      <td>Boolean</td>\n",
       "    </tr>\n",
       "    <tr>\n",
       "      <th>70</th>\n",
       "      <td>not</td>\n",
       "      <td>transform</td>\n",
       "      <td>True</td>\n",
       "      <td>True</td>\n",
       "      <td>Negates a boolean value.</td>\n",
       "      <td>Boolean</td>\n",
       "      <td>Boolean</td>\n",
       "    </tr>\n",
       "    <tr>\n",
       "      <th>71</th>\n",
       "      <td>day</td>\n",
       "      <td>transform</td>\n",
       "      <td>True</td>\n",
       "      <td>True</td>\n",
       "      <td>Determines the day of the month from a datetime.</td>\n",
       "      <td>Datetime</td>\n",
       "      <td>Ordinal</td>\n",
       "    </tr>\n",
       "    <tr>\n",
       "      <th>72</th>\n",
       "      <td>multiply_boolean</td>\n",
       "      <td>transform</td>\n",
       "      <td>True</td>\n",
       "      <td>False</td>\n",
       "      <td>Element-wise multiplication of two lists of boolean values.</td>\n",
       "      <td>Boolean</td>\n",
       "      <td>Boolean</td>\n",
       "    </tr>\n",
       "    <tr>\n",
       "      <th>73</th>\n",
       "      <td>not_equal</td>\n",
       "      <td>transform</td>\n",
       "      <td>True</td>\n",
       "      <td>False</td>\n",
       "      <td>Determines if values in one list are not equal to another list.</td>\n",
       "      <td>Variable</td>\n",
       "      <td>Boolean</td>\n",
       "    </tr>\n",
       "    <tr>\n",
       "      <th>74</th>\n",
       "      <td>or</td>\n",
       "      <td>transform</td>\n",
       "      <td>True</td>\n",
       "      <td>True</td>\n",
       "      <td>Element-wise logical OR of two lists.</td>\n",
       "      <td>Boolean</td>\n",
       "      <td>Boolean</td>\n",
       "    </tr>\n",
       "    <tr>\n",
       "      <th>75</th>\n",
       "      <td>percentile</td>\n",
       "      <td>transform</td>\n",
       "      <td>False</td>\n",
       "      <td>False</td>\n",
       "      <td>Determines the percentile rank for each value in a list.</td>\n",
       "      <td>Numeric</td>\n",
       "      <td>Numeric</td>\n",
       "    </tr>\n",
       "    <tr>\n",
       "      <th>76</th>\n",
       "      <td>subtract_numeric_scalar</td>\n",
       "      <td>transform</td>\n",
       "      <td>True</td>\n",
       "      <td>True</td>\n",
       "      <td>Subtract a scalar from each element in the list.</td>\n",
       "      <td>Numeric</td>\n",
       "      <td>Numeric</td>\n",
       "    </tr>\n",
       "    <tr>\n",
       "      <th>77</th>\n",
       "      <td>less_than_scalar</td>\n",
       "      <td>transform</td>\n",
       "      <td>True</td>\n",
       "      <td>True</td>\n",
       "      <td>Determines if values are less than a given scalar.</td>\n",
       "      <td>Numeric, Ordinal, Datetime</td>\n",
       "      <td>Boolean</td>\n",
       "    </tr>\n",
       "    <tr>\n",
       "      <th>78</th>\n",
       "      <td>equal</td>\n",
       "      <td>transform</td>\n",
       "      <td>True</td>\n",
       "      <td>True</td>\n",
       "      <td>Determines if values in one list are equal to another list.</td>\n",
       "      <td>Variable</td>\n",
       "      <td>Boolean</td>\n",
       "    </tr>\n",
       "  </tbody>\n",
       "</table>\n",
       "</div>"
      ],
      "text/plain": [
       "                               name       type  dask_compatible  koalas_compatible                                                                  description                valid_inputs return_type\n",
       "22                             diff  transform            False              False                   Compute the difference between the value in a list and the                     Numeric     Numeric\n",
       "23                       is_weekend  transform             True               True                                     Determines if a date falls on a weekend.                    Datetime     Boolean\n",
       "24                         cum_mean  transform            False              False                                              Calculates the cumulative mean.                     Numeric     Numeric\n",
       "25                     equal_scalar  transform             True               True                  Determines if values in a list are equal to a given scalar.                    Variable     Boolean\n",
       "26                            month  transform             True               True                                    Determines the month value of a datetime.                    Datetime     Ordinal\n",
       "27                          cum_sum  transform            False              False                                               Calculates the cumulative sum.                     Numeric     Numeric\n",
       "28                     greater_than  transform             True              False              Determines if values in one list are greater than another list.  Numeric, Ordinal, Datetime     Boolean\n",
       "29        less_than_equal_to_scalar  transform             True               True               Determines if values are less than or equal to a given scalar.  Numeric, Ordinal, Datetime     Boolean\n",
       "30                              age  transform             True              False               Calculates the age in years as a floating point number given a                 DateOfBirth     Numeric\n",
       "31                        haversine  transform            False              False            Calculates the approximate haversine distance between two LatLong                     LatLong     Numeric\n",
       "32                           minute  transform             True               True                                  Determines the minutes value of a datetime.                    Datetime     Numeric\n",
       "33            modulo_numeric_scalar  transform             True               True                   Return the modulo of each element in the list by a scalar.                     Numeric     Numeric\n",
       "34                           negate  transform             True               True                                                     Negates a numeric value.                     Numeric     Numeric\n",
       "35                           second  transform             True               True                                  Determines the seconds value of a datetime.                    Datetime     Numeric\n",
       "36                   modulo_numeric  transform             True               True                                            Element-wise modulo of two lists.                     Numeric     Numeric\n",
       "37     greater_than_equal_to_scalar  transform             True               True            Determines if values are greater than or equal to a given scalar.  Numeric, Ordinal, Datetime     Boolean\n",
       "38               add_numeric_scalar  transform             True               True                                      Add a scalar to each value in the list.                     Numeric     Numeric\n",
       "39                   num_characters  transform             True               True                             Calculates the number of characters in a string.             NaturalLanguage     Numeric\n",
       "40              time_since_previous  transform            False              False                         Compute the time since the previous entry in a list.           DatetimeTimeIndex     Numeric\n",
       "41            divide_numeric_scalar  transform             True               True                                 Divide each element in the list by a scalar.                     Numeric     Numeric\n",
       "42  scalar_subtract_numeric_feature  transform             True               True                         Subtract each value in the list from a given scalar.                     Numeric     Numeric\n",
       "43                        less_than  transform             True               True                 Determines if values in one list are less than another list.  Numeric, Ordinal, Datetime     Boolean\n",
       "44                          weekday  transform             True               True                              Determines the day of the week from a datetime.                    Datetime     Ordinal\n",
       "45                         absolute  transform             True               True                                     Computes the absolute value of a number.                     Numeric     Numeric\n",
       "46          multiply_numeric_scalar  transform             True               True                               Multiply each element in the list by a scalar.                     Numeric     Numeric\n",
       "47                              and  transform             True               True                                       Element-wise logical AND of two lists.                     Boolean     Boolean\n",
       "48                          is_null  transform             True               True                                               Determines if a value is null.                    Variable     Boolean\n",
       "49                 not_equal_scalar  transform             True               True              Determines if values in a list are not equal to a given scalar.                    Variable     Boolean\n",
       "50                         latitude  transform            False              False                   Returns the first tuple value in a list of LatLong tuples.                     LatLong     Numeric\n",
       "51                             isin  transform             True               True                    Determines whether a value is present in a provided list.                    Variable     Boolean\n",
       "52                             year  transform             True               True                                     Determines the year value of a datetime.                    Datetime     Ordinal\n",
       "53                        cum_count  transform            False              False                                             Calculates the cumulative count.                Discrete, Id     Numeric\n",
       "54                      add_numeric  transform             True               True                                          Element-wise addition of two lists.                     Numeric     Numeric\n",
       "55              greater_than_scalar  transform             True               True                        Determines if values are greater than a given scalar.  Numeric, Ordinal, Datetime     Boolean\n",
       "56                        num_words  transform             True               True           Determines the number of words in a string by counting the spaces.             NaturalLanguage     Numeric\n",
       "57                             week  transform             True               True                             Determines the week of the year from a datetime.                    Datetime     Ordinal\n",
       "58                modulo_by_feature  transform             True               True                   Return the modulo of a scalar by each element in the list.                     Numeric     Numeric\n",
       "59                 multiply_numeric  transform             True               True                                    Element-wise multiplication of two lists.            Numeric, Boolean     Numeric\n",
       "60               less_than_equal_to  transform             True               True     Determines if values in one list are less than or equal to another list.  Numeric, Ordinal, Datetime     Boolean\n",
       "61                        longitude  transform            False              False                  Returns the second tuple value in a list of LatLong tuples.                     LatLong     Numeric\n",
       "62                          cum_max  transform            False              False                                           Calculates the cumulative maximum.                     Numeric     Numeric\n",
       "63                   divide_numeric  transform             True               True                                          Element-wise division of two lists.                     Numeric     Numeric\n",
       "64                 subtract_numeric  transform             True              False                                       Element-wise subtraction of two lists.                     Numeric     Numeric\n",
       "65                       time_since  transform             True              False                 Calculates time from a value to a specified cutoff datetime.                    Datetime     Numeric\n",
       "66                             hour  transform             True               True                                     Determines the hour value of a datetime.                    Datetime     Ordinal\n",
       "67                divide_by_feature  transform             True               True                                   Divide a scalar by each value in the list.                     Numeric     Numeric\n",
       "68                          cum_min  transform            False              False                                           Calculates the cumulative minimum.                     Numeric     Numeric\n",
       "69            greater_than_equal_to  transform             True               True  Determines if values in one list are greater than or equal to another list.  Numeric, Ordinal, Datetime     Boolean\n",
       "70                              not  transform             True               True                                                     Negates a boolean value.                     Boolean     Boolean\n",
       "71                              day  transform             True               True                             Determines the day of the month from a datetime.                    Datetime     Ordinal\n",
       "72                 multiply_boolean  transform             True              False                  Element-wise multiplication of two lists of boolean values.                     Boolean     Boolean\n",
       "73                        not_equal  transform             True              False              Determines if values in one list are not equal to another list.                    Variable     Boolean\n",
       "74                               or  transform             True               True                                        Element-wise logical OR of two lists.                     Boolean     Boolean\n",
       "75                       percentile  transform            False              False                     Determines the percentile rank for each value in a list.                     Numeric     Numeric\n",
       "76          subtract_numeric_scalar  transform             True               True                             Subtract a scalar from each element in the list.                     Numeric     Numeric\n",
       "77                 less_than_scalar  transform             True               True                           Determines if values are less than a given scalar.  Numeric, Ordinal, Datetime     Boolean\n",
       "78                            equal  transform             True               True                  Determines if values in one list are equal to another list.                    Variable     Boolean"
      ]
     },
     "execution_count": 42,
     "metadata": {},
     "output_type": "execute_result"
    }
   ],
   "source": [
    "prim_df = ft.list_primitives()\n",
    "\n",
    "# Transform primitives\n",
    "prim_df[prim_df[\"type\"] == \"transform\"]"
   ]
  },
  {
   "cell_type": "markdown",
   "id": "a8a5b8ae",
   "metadata": {},
   "source": [
    "---"
   ]
  }
 ],
 "metadata": {
  "kernelspec": {
   "display_name": "Python 3",
   "language": "python",
   "name": "python3"
  },
  "language_info": {
   "codemirror_mode": {
    "name": "ipython",
    "version": 3
   },
   "file_extension": ".py",
   "mimetype": "text/x-python",
   "name": "python",
   "nbconvert_exporter": "python",
   "pygments_lexer": "ipython3",
   "version": "3.9.4"
  },
  "toc": {
   "base_numbering": 1,
   "nav_menu": {},
   "number_sections": true,
   "sideBar": true,
   "skip_h1_title": true,
   "title_cell": "Contents",
   "title_sidebar": "Contents",
   "toc_cell": true,
   "toc_position": {},
   "toc_section_display": true,
   "toc_window_display": false
  }
 },
 "nbformat": 4,
 "nbformat_minor": 5
}
