{
 "cells": [
  {
   "cell_type": "markdown",
   "metadata": {},
   "source": [
    "# Association Rules Mining For Item Pairs\n",
    "\n",
    "Association analysis using the apriori algorithm to derive rules of the form {A} -> {B}. \n",
    "\n",
    "Content largely copied from this excellent [blogpost](https://www.datatheque.com/posts/association-analysis/) by Grace Tenorio.\n",
    "\n",
    "\n",
    "**Data Sources:**\n",
    "\n",
    "- `xxx.csv`: blablabla\n",
    "\n",
    "**Data Output:**\n",
    "\n",
    "- `xxx.csv`: blablabla\n",
    "\n",
    "**Changes**\n",
    "\n",
    "- 2019-07-04: Start project\n",
    "\n"
   ]
  },
  {
   "cell_type": "markdown",
   "metadata": {
    "toc": true
   },
   "source": [
    "<h1>Table of Contents<span class=\"tocSkip\"></span></h1>\n",
    "<div class=\"toc\"><ul class=\"toc-item\"><li><span><a href=\"#Import-libraries,-load-data\" data-toc-modified-id=\"Import-libraries,-load-data-1\"><span class=\"toc-item-num\">1&nbsp;&nbsp;</span>Import libraries, load data</a></span></li><li><span><a href=\"#Check-basic-data-structure\" data-toc-modified-id=\"Check-basic-data-structure-2\"><span class=\"toc-item-num\">2&nbsp;&nbsp;</span>Check basic data structure</a></span></li><li><span><a href=\"#Perpare-data\" data-toc-modified-id=\"Perpare-data-3\"><span class=\"toc-item-num\">3&nbsp;&nbsp;</span>Perpare data</a></span></li><li><span><a href=\"#Define-Association-Rules-Function\" data-toc-modified-id=\"Define-Association-Rules-Function-4\"><span class=\"toc-item-num\">4&nbsp;&nbsp;</span>Define Association Rules Function</a></span><ul class=\"toc-item\"><li><span><a href=\"#Helper-functions-to-the-main-association-rules-function\" data-toc-modified-id=\"Helper-functions-to-the-main-association-rules-function-4.1\"><span class=\"toc-item-num\">4.1&nbsp;&nbsp;</span>Helper functions to the main association rules function</a></span></li><li><span><a href=\"#Association-rules-function\" data-toc-modified-id=\"Association-rules-function-4.2\"><span class=\"toc-item-num\">4.2&nbsp;&nbsp;</span>Association rules function</a></span></li></ul></li></ul></div>"
   ]
  },
  {
   "cell_type": "markdown",
   "metadata": {},
   "source": [
    "---"
   ]
  },
  {
   "cell_type": "markdown",
   "metadata": {},
   "source": [
    "## Import libraries, load data"
   ]
  },
  {
   "cell_type": "code",
   "execution_count": 1,
   "metadata": {
    "ExecuteTime": {
     "end_time": "2019-07-04T14:56:42.958880Z",
     "start_time": "2019-07-04T14:56:26.547281Z"
    }
   },
   "outputs": [],
   "source": [
    "# Import libraries\n",
    "import numpy as np\n",
    "import pandas as pd\n",
    "from tqdm import tqdm\n",
    "\n",
    "# Specials\n",
    "from itertools import combinations, groupby\n",
    "from collections import Counter\n",
    "\n",
    "# My functions\n",
    "import EDA_functions as EDA\n",
    "import cleaning_functions as cleaning\n",
    "\n",
    "# Visualization\n",
    "import matplotlib.pyplot as plt\n",
    "import seaborn as sns \n",
    "# sns.set_style('whitegrid')\n",
    "color = 'rebeccapurple'\n",
    "%matplotlib inline\n",
    "\n",
    "# Display settings\n",
    "from IPython.display import display\n",
    "pd.options.display.max_columns = 100"
   ]
  },
  {
   "cell_type": "code",
   "execution_count": 37,
   "metadata": {
    "ExecuteTime": {
     "end_time": "2019-07-04T15:30:42.972366Z",
     "start_time": "2019-07-04T15:30:27.413274Z"
    }
   },
   "outputs": [],
   "source": [
    "# Load data\n",
    "orders_df = pd.read_csv('data/instacart/order_products__prior.csv')"
   ]
  },
  {
   "cell_type": "markdown",
   "metadata": {},
   "source": [
    "## Check basic data structure"
   ]
  },
  {
   "cell_type": "code",
   "execution_count": 3,
   "metadata": {
    "ExecuteTime": {
     "end_time": "2019-07-04T14:58:16.678899Z",
     "start_time": "2019-07-04T14:58:16.623010Z"
    }
   },
   "outputs": [
    {
     "name": "stdout",
     "output_type": "stream",
     "text": [
      "<class 'pandas.core.frame.DataFrame'>\n",
      "RangeIndex: 32434489 entries, 0 to 32434488\n",
      "Data columns (total 4 columns):\n",
      "order_id             int64\n",
      "product_id           int64\n",
      "add_to_cart_order    int64\n",
      "reordered            int64\n",
      "dtypes: int64(4)\n",
      "memory usage: 989.8 MB\n"
     ]
    }
   ],
   "source": [
    "orders_df.info()"
   ]
  },
  {
   "cell_type": "code",
   "execution_count": 4,
   "metadata": {
    "ExecuteTime": {
     "end_time": "2019-07-04T14:58:45.122170Z",
     "start_time": "2019-07-04T14:58:42.156722Z"
    }
   },
   "outputs": [
    {
     "data": {
      "text/html": [
       "<div>\n",
       "<style scoped>\n",
       "    .dataframe tbody tr th:only-of-type {\n",
       "        vertical-align: middle;\n",
       "    }\n",
       "\n",
       "    .dataframe tbody tr th {\n",
       "        vertical-align: top;\n",
       "    }\n",
       "\n",
       "    .dataframe thead th {\n",
       "        text-align: right;\n",
       "    }\n",
       "</style>\n",
       "<table border=\"1\" class=\"dataframe\">\n",
       "  <thead>\n",
       "    <tr style=\"text-align: right;\">\n",
       "      <th></th>\n",
       "      <th>order_id</th>\n",
       "      <th>product_id</th>\n",
       "      <th>add_to_cart_order</th>\n",
       "      <th>reordered</th>\n",
       "    </tr>\n",
       "  </thead>\n",
       "  <tbody>\n",
       "    <tr>\n",
       "      <th>14355081</th>\n",
       "      <td>1514797</td>\n",
       "      <td>21137</td>\n",
       "      <td>3</td>\n",
       "      <td>1</td>\n",
       "    </tr>\n",
       "    <tr>\n",
       "      <th>18005763</th>\n",
       "      <td>1899273</td>\n",
       "      <td>3142</td>\n",
       "      <td>2</td>\n",
       "      <td>1</td>\n",
       "    </tr>\n",
       "    <tr>\n",
       "      <th>21149371</th>\n",
       "      <td>2230718</td>\n",
       "      <td>24964</td>\n",
       "      <td>12</td>\n",
       "      <td>1</td>\n",
       "    </tr>\n",
       "    <tr>\n",
       "      <th>19944524</th>\n",
       "      <td>2103556</td>\n",
       "      <td>18778</td>\n",
       "      <td>19</td>\n",
       "      <td>0</td>\n",
       "    </tr>\n",
       "    <tr>\n",
       "      <th>5518615</th>\n",
       "      <td>582489</td>\n",
       "      <td>45747</td>\n",
       "      <td>17</td>\n",
       "      <td>1</td>\n",
       "    </tr>\n",
       "    <tr>\n",
       "      <th>9781965</th>\n",
       "      <td>1032860</td>\n",
       "      <td>45504</td>\n",
       "      <td>4</td>\n",
       "      <td>1</td>\n",
       "    </tr>\n",
       "    <tr>\n",
       "      <th>8542229</th>\n",
       "      <td>901771</td>\n",
       "      <td>48119</td>\n",
       "      <td>15</td>\n",
       "      <td>1</td>\n",
       "    </tr>\n",
       "    <tr>\n",
       "      <th>4758826</th>\n",
       "      <td>502275</td>\n",
       "      <td>14309</td>\n",
       "      <td>25</td>\n",
       "      <td>0</td>\n",
       "    </tr>\n",
       "    <tr>\n",
       "      <th>27596571</th>\n",
       "      <td>2910173</td>\n",
       "      <td>27156</td>\n",
       "      <td>9</td>\n",
       "      <td>1</td>\n",
       "    </tr>\n",
       "    <tr>\n",
       "      <th>22483246</th>\n",
       "      <td>2371420</td>\n",
       "      <td>37192</td>\n",
       "      <td>7</td>\n",
       "      <td>0</td>\n",
       "    </tr>\n",
       "  </tbody>\n",
       "</table>\n",
       "</div>"
      ],
      "text/plain": [
       "          order_id  product_id  add_to_cart_order  reordered\n",
       "14355081   1514797       21137                  3          1\n",
       "18005763   1899273        3142                  2          1\n",
       "21149371   2230718       24964                 12          1\n",
       "19944524   2103556       18778                 19          0\n",
       "5518615     582489       45747                 17          1\n",
       "9781965    1032860       45504                  4          1\n",
       "8542229     901771       48119                 15          1\n",
       "4758826     502275       14309                 25          0\n",
       "27596571   2910173       27156                  9          1\n",
       "22483246   2371420       37192                  7          0"
      ]
     },
     "execution_count": 4,
     "metadata": {},
     "output_type": "execute_result"
    }
   ],
   "source": [
    "orders_df.sample(10)"
   ]
  },
  {
   "cell_type": "code",
   "execution_count": 38,
   "metadata": {
    "ExecuteTime": {
     "end_time": "2019-07-04T15:30:45.298007Z",
     "start_time": "2019-07-04T15:30:42.976670Z"
    }
   },
   "outputs": [
    {
     "name": "stdout",
     "output_type": "stream",
     "text": [
      "Number of unique orders:  3214874\n",
      "Number of unique products:  49677\n",
      "Mean number of products per order:  10.0\n"
     ]
    }
   ],
   "source": [
    "print(\"Number of unique orders: \", orders_df['order_id'].nunique())\n",
    "print(\"Number of unique products: \", orders_df['product_id'].nunique())\n",
    "print(\"Mean number of products per order: \", round(len(orders_df) / orders_df['order_id'].nunique(),0))"
   ]
  },
  {
   "cell_type": "code",
   "execution_count": 34,
   "metadata": {
    "ExecuteTime": {
     "end_time": "2019-07-04T15:21:40.268109Z",
     "start_time": "2019-07-04T15:21:36.009261Z"
    }
   },
   "outputs": [
    {
     "data": {
      "text/plain": [
       "<matplotlib.axes._subplots.AxesSubplot at 0x1d30d9a6828>"
      ]
     },
     "execution_count": 34,
     "metadata": {},
     "output_type": "execute_result"
    },
    {
     "data": {
      "image/png": "[encoded data removed]",
      "text/plain": [
       "<Figure size 1152x288 with 1 Axes>"
      ]
     },
     "metadata": {
      "needs_background": "light"
     },
     "output_type": "display_data"
    }
   ],
   "source": [
    "\"\"\"Visualize distribution of number of products per order\"\"\"\n",
    "order_sizes = orders_df.groupby('order_id')['product_id'].count()\n",
    "plt.figure(figsize=(16,4))\n",
    "sns.boxplot(order_sizes, color=color, orient='h');"
   ]
  },
  {
   "cell_type": "markdown",
   "metadata": {},
   "source": [
    "## Perpare data\n",
    "\n",
    "Convert order data into format expected by the association rules function"
   ]
  },
  {
   "cell_type": "code",
   "execution_count": 47,
   "metadata": {
    "ExecuteTime": {
     "end_time": "2019-07-04T15:38:46.933082Z",
     "start_time": "2019-07-04T15:38:41.803828Z"
    }
   },
   "outputs": [
    {
     "data": {
      "text/plain": [
       "order_id\n",
       "2    33120\n",
       "2    28985\n",
       "2     9327\n",
       "2    45918\n",
       "2    30035\n",
       "2    17794\n",
       "2    40141\n",
       "2     1819\n",
       "2    43668\n",
       "3    33754\n",
       "Name: item_id, dtype: int64"
      ]
     },
     "metadata": {},
     "output_type": "display_data"
    },
    {
     "data": {
      "text/plain": [
       "pandas.core.series.Series"
      ]
     },
     "execution_count": 47,
     "metadata": {},
     "output_type": "execute_result"
    }
   ],
   "source": [
    "# Convert from DataFrame to a Series, with order_id as index and item_id as value\n",
    "orders = orders_df.set_index('order_id')['product_id'].rename('item_id')\n",
    "\n",
    "assert orders.index.nunique() == orders_df['order_id'].nunique()\n",
    "assert orders.nunique() == orders_df['product_id'].nunique()\n",
    "\n",
    "# Check results\n",
    "display(orders.head(10))\n",
    "type(orders)"
   ]
  },
  {
   "cell_type": "markdown",
   "metadata": {},
   "source": [
    "## Define Association Rules Function\n",
    "\n",
    "### Helper functions to the main association rules function"
   ]
  },
  {
   "cell_type": "code",
   "execution_count": null,
   "metadata": {},
   "outputs": [],
   "source": [
    "def freq(iterable):\n",
    "    \"\"\"Return frequency counts for items and item pairs\"\"\"\n",
    "    \n",
    "    if type(iterable) == pd.core.series.Series:\n",
    "        return iterable.value_counts().rename(\"freq\")\n",
    "    else: \n",
    "        return pd.Series(Counter(iterable)).rename(\"freq\")\n",
    "\n",
    "    \n",
    "    \n",
    "def order_count(order_item):\n",
    "    \"\"\"Return number of unique orders\"\"\"\n",
    "    \n",
    "    return len(set(order_item.index))\n",
    "\n",
    "\n",
    "\n",
    "def get_item_pairs(order_item):\n",
    "    \"\"\"Return generator that yields item pairs, one at a time\"\"\"\n",
    "    \n",
    "    order_item = order_item.reset_index().as_matrix()\n",
    "    for order_id, order_object in groupby(order_item, lambda x: x[0]):\n",
    "        item_list = [item[1] for item in order_object]\n",
    "              \n",
    "        for item_pair in combinations(item_list, 2):\n",
    "            yield item_pair\n",
    "            \n",
    "\n",
    "\n",
    "def merge_item_stats(item_pairs, item_stats):\n",
    "    \"\"\"Returns frequency and support associated with item\"\"\"\n",
    "    \n",
    "    return (item_pairs\n",
    "                .merge(item_stats.rename(\n",
    "                    columns={'freq': 'freqA', \n",
    "                             'support': 'supportA'}), left_on='item_A', right_index=True)\n",
    "                .merge(item_stats.rename(\n",
    "                    columns={'freq': 'freqB', \n",
    "                             'support': 'supportB'}), left_on='item_B', right_index=True))\n",
    "\n",
    "\n",
    "\n",
    "def merge_item_name(rules, item_name):\n",
    "    \"\"\"Return name associated with item\"\"\"\n",
    "    \n",
    "    columns = ['itemA','itemB','freqAB','supportAB','freqA','supportA','freqB','supportB', \n",
    "               'confidenceAtoB','confidenceBtoA','lift']\n",
    "    rules = (rules\n",
    "                .merge(item_name.rename(columns={'item_name': 'itemA'}), \n",
    "                       left_on='item_A', right_on='item_id')\n",
    "                .merge(item_name.rename(columns={'item_name': 'itemB'}), \n",
    "                       left_on='item_B', right_on='item_id'))\n",
    "    return rules[columns]               "
   ]
  },
  {
   "cell_type": "markdown",
   "metadata": {},
   "source": [
    "### Association rules function"
   ]
  },
  {
   "cell_type": "code",
   "execution_count": null,
   "metadata": {},
   "outputs": [],
   "source": []
  }
 ],
 "metadata": {
  "hide_input": false,
  "kernelspec": {
   "display_name": "Python 3",
   "language": "python",
   "name": "python3"
  },
  "language_info": {
   "codemirror_mode": {
    "name": "ipython",
    "version": 3
   },
   "file_extension": ".py",
   "mimetype": "text/x-python",
   "name": "python",
   "nbconvert_exporter": "python",
   "pygments_lexer": "ipython3",
   "version": "3.7.3"
  },
  "toc": {
   "base_numbering": 1,
   "nav_menu": {},
   "number_sections": true,
   "sideBar": false,
   "skip_h1_title": true,
   "title_cell": "Table of Contents",
   "title_sidebar": "Contents",
   "toc_cell": true,
   "toc_position": {},
   "toc_section_display": true,
   "toc_window_display": false
  }
 },
 "nbformat": 4,
 "nbformat_minor": 2
}
