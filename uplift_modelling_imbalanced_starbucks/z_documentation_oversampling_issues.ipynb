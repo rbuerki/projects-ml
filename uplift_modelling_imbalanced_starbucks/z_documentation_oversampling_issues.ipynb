{
 "cells": [
  {
   "cell_type": "markdown",
   "metadata": {},
   "source": [
    "# Demo of some oversampling issues\n",
    "The purpose of this notebook is to document some learnings I made during the starbucks project in this repository. \n",
    "\n",
    "1. I ran into the problem that oversampling transforms your data into an np.array so you lose all your column labels\n",
    "2. Fixed that with a function that restores the dataframe properties\n",
    "3. Then I run into an issue that the categorical values got messed up by oversampling with ADASYN\n",
    "4. Fixed that with chaning for SMOTENC\n",
    "\n",
    "__Key learnings:__\n",
    "- for use with categorical data use SMOTENC, the other classes do not work\n",
    "- you cannot use sampling classes within sklearn pipelines, use imblearns own pipeline object (this problem is actually not documented / demonstrated in this notebook, but [here](https://stackoverflow.com/questions/50245684/using-smote-with-gridsearchcv-in-scikit-learn))"
   ]
  },
  {
   "cell_type": "code",
   "execution_count": 2,
   "metadata": {},
   "outputs": [],
   "source": [
    "# load in packages\n",
    "\n",
    "import numpy as np\n",
    "import pandas as pd\n",
    "import cleaning_functions as cleaning\n",
    "\n",
    "from imblearn.over_sampling import ADASYN, SMOTENC\n",
    "\n",
    "import matplotlib.pyplot as plt\n",
    "import seaborn as sns\n",
    "%matplotlib inline\n"
   ]
  },
  {
   "cell_type": "code",
   "execution_count": 3,
   "metadata": {},
   "outputs": [],
   "source": [
    "# load the data\n",
    "data = pd.read_csv('data/training.csv')"
   ]
  },
  {
   "cell_type": "markdown",
   "metadata": {},
   "source": [
    "### EDA"
   ]
  },
  {
   "cell_type": "code",
   "execution_count": 4,
   "metadata": {},
   "outputs": [
    {
     "data": {
      "text/html": [
       "<div>\n",
       "<style scoped>\n",
       "    .dataframe tbody tr th:only-of-type {\n",
       "        vertical-align: middle;\n",
       "    }\n",
       "\n",
       "    .dataframe tbody tr th {\n",
       "        vertical-align: top;\n",
       "    }\n",
       "\n",
       "    .dataframe thead th {\n",
       "        text-align: right;\n",
       "    }\n",
       "</style>\n",
       "<table border=\"1\" class=\"dataframe\">\n",
       "  <thead>\n",
       "    <tr style=\"text-align: right;\">\n",
       "      <th></th>\n",
       "      <th>ID</th>\n",
       "      <th>Promotion</th>\n",
       "      <th>purchase</th>\n",
       "      <th>V1</th>\n",
       "      <th>V2</th>\n",
       "      <th>V3</th>\n",
       "      <th>V4</th>\n",
       "      <th>V5</th>\n",
       "      <th>V6</th>\n",
       "      <th>V7</th>\n",
       "    </tr>\n",
       "  </thead>\n",
       "  <tbody>\n",
       "    <tr>\n",
       "      <th>25718</th>\n",
       "      <td>38218</td>\n",
       "      <td>No</td>\n",
       "      <td>0</td>\n",
       "      <td>2</td>\n",
       "      <td>34.128535</td>\n",
       "      <td>-0.126150</td>\n",
       "      <td>2</td>\n",
       "      <td>2</td>\n",
       "      <td>1</td>\n",
       "      <td>1</td>\n",
       "    </tr>\n",
       "    <tr>\n",
       "      <th>43129</th>\n",
       "      <td>64128</td>\n",
       "      <td>Yes</td>\n",
       "      <td>0</td>\n",
       "      <td>0</td>\n",
       "      <td>34.678430</td>\n",
       "      <td>0.220161</td>\n",
       "      <td>1</td>\n",
       "      <td>3</td>\n",
       "      <td>4</td>\n",
       "      <td>2</td>\n",
       "    </tr>\n",
       "    <tr>\n",
       "      <th>76657</th>\n",
       "      <td>114418</td>\n",
       "      <td>Yes</td>\n",
       "      <td>0</td>\n",
       "      <td>2</td>\n",
       "      <td>25.226853</td>\n",
       "      <td>0.393317</td>\n",
       "      <td>2</td>\n",
       "      <td>2</td>\n",
       "      <td>1</td>\n",
       "      <td>2</td>\n",
       "    </tr>\n",
       "    <tr>\n",
       "      <th>83349</th>\n",
       "      <td>124369</td>\n",
       "      <td>No</td>\n",
       "      <td>1</td>\n",
       "      <td>1</td>\n",
       "      <td>25.218409</td>\n",
       "      <td>-0.559039</td>\n",
       "      <td>2</td>\n",
       "      <td>3</td>\n",
       "      <td>1</td>\n",
       "      <td>1</td>\n",
       "    </tr>\n",
       "    <tr>\n",
       "      <th>27470</th>\n",
       "      <td>40808</td>\n",
       "      <td>No</td>\n",
       "      <td>0</td>\n",
       "      <td>0</td>\n",
       "      <td>28.664591</td>\n",
       "      <td>0.999361</td>\n",
       "      <td>2</td>\n",
       "      <td>1</td>\n",
       "      <td>1</td>\n",
       "      <td>2</td>\n",
       "    </tr>\n",
       "  </tbody>\n",
       "</table>\n",
       "</div>"
      ],
      "text/plain": [
       "           ID Promotion  purchase  V1         V2        V3  V4  V5  V6  V7\n",
       "25718   38218        No         0   2  34.128535 -0.126150   2   2   1   1\n",
       "43129   64128       Yes         0   0  34.678430  0.220161   1   3   4   2\n",
       "76657  114418       Yes         0   2  25.226853  0.393317   2   2   1   2\n",
       "83349  124369        No         1   1  25.218409 -0.559039   2   3   1   1\n",
       "27470   40808        No         0   0  28.664591  0.999361   2   1   1   2"
      ]
     },
     "execution_count": 4,
     "metadata": {},
     "output_type": "execute_result"
    }
   ],
   "source": [
    "data.sample(5)"
   ]
  },
  {
   "cell_type": "code",
   "execution_count": 5,
   "metadata": {},
   "outputs": [
    {
     "name": "stdout",
     "output_type": "stream",
     "text": [
      "<class 'pandas.core.frame.DataFrame'>\n",
      "RangeIndex: 84534 entries, 0 to 84533\n",
      "Data columns (total 10 columns):\n",
      "ID           84534 non-null int64\n",
      "Promotion    84534 non-null object\n",
      "purchase     84534 non-null int64\n",
      "V1           84534 non-null int64\n",
      "V2           84534 non-null float64\n",
      "V3           84534 non-null float64\n",
      "V4           84534 non-null int64\n",
      "V5           84534 non-null int64\n",
      "V6           84534 non-null int64\n",
      "V7           84534 non-null int64\n",
      "dtypes: float64(2), int64(7), object(1)\n",
      "memory usage: 6.4+ MB\n"
     ]
    }
   ],
   "source": [
    "data.info()"
   ]
  },
  {
   "cell_type": "code",
   "execution_count": 6,
   "metadata": {},
   "outputs": [],
   "source": [
    "# change datatypes, drop ID column\n",
    "\n",
    "def wrangle_1_columns(df):\n",
    "    df['Promotion'] = df['Promotion'].map({'Yes':1, 'No':0})\n",
    "    colsToCat = [\"Promotion\", \"V1\", \"V4\", \"V5\", \"V6\", \"V7\"]\n",
    "    df = cleaning.change_dtypes(df, cols_to_category=colsToCat)\n",
    "    df.drop('ID', axis=1, inplace=True)\n"
   ]
  },
  {
   "cell_type": "code",
   "execution_count": 8,
   "metadata": {},
   "outputs": [
    {
     "name": "stdout",
     "output_type": "stream",
     "text": [
      "<class 'pandas.core.frame.DataFrame'>\n",
      "RangeIndex: 84534 entries, 0 to 84533\n",
      "Data columns (total 9 columns):\n",
      "Promotion    84534 non-null category\n",
      "purchase     84534 non-null int64\n",
      "V1           84534 non-null category\n",
      "V2           84534 non-null float64\n",
      "V3           84534 non-null float64\n",
      "V4           84534 non-null category\n",
      "V5           84534 non-null category\n",
      "V6           84534 non-null category\n",
      "V7           84534 non-null category\n",
      "dtypes: category(6), float64(2), int64(1)\n",
      "memory usage: 2.4 MB\n"
     ]
    }
   ],
   "source": [
    "# call function and check results\n",
    "\n",
    "wrangle_1_columns(data)\n",
    "data.info()"
   ]
  },
  {
   "cell_type": "code",
   "execution_count": 9,
   "metadata": {},
   "outputs": [
    {
     "data": {
      "text/plain": [
       "0    83494\n",
       "1     1040\n",
       "Name: purchase, dtype: int64"
      ]
     },
     "metadata": {},
     "output_type": "display_data"
    },
    {
     "name": "stdout",
     "output_type": "stream",
     "text": [
      "proportion of purchases (%) 1.23\n"
     ]
    }
   ],
   "source": [
    "# check distribution of target variable 'purchase'\n",
    "\n",
    "display(eda['purchase'].value_counts())\n",
    "print(\"proportion of purchases (%)\", round(eda['purchase'].value_counts()[1] / len(eda) *100, 2))"
   ]
  },
  {
   "cell_type": "markdown",
   "metadata": {},
   "source": [
    "### Oversample with ADASYN"
   ]
  },
  {
   "cell_type": "code",
   "execution_count": 10,
   "metadata": {},
   "outputs": [],
   "source": [
    "# separate target variable from features\n",
    "\n",
    "def create_Xy(df):\n",
    "    \"\"\"Seprate target variable from features.\"\"\"\n",
    "\n",
    "    X = df.copy()\n",
    "    y = X['purchase']\n",
    "    X = X.drop(['purchase', 'Promotion'], axis=1)  # Promotion is no valid input feature\n",
    "    \n",
    "    return X, y"
   ]
  },
  {
   "cell_type": "code",
   "execution_count": 11,
   "metadata": {},
   "outputs": [],
   "source": [
    "# call function\n",
    "X, y = create_Xy(data)"
   ]
  },
  {
   "cell_type": "markdown",
   "metadata": {},
   "source": [
    "#### Difficulties with oversampling\n",
    "\n",
    "Problem 1: Calling a samling function like ADASYN transforms your X dataframe into an np.array. The initial column labels and datatypes get lost in the process:"
   ]
  },
  {
   "cell_type": "code",
   "execution_count": 12,
   "metadata": {},
   "outputs": [],
   "source": [
    "sm = ADASYN()\n",
    "X, y = sm.fit_sample(X, y)"
   ]
  },
  {
   "cell_type": "code",
   "execution_count": 45,
   "metadata": {},
   "outputs": [
    {
     "name": "stdout",
     "output_type": "stream",
     "text": [
      "(166646,)\n",
      "[[    0 83494]\n",
      " [    1 83152]]\n"
     ]
    }
   ],
   "source": [
    "# check results for y - ok\n",
    "\n",
    "print(y.shape)\n",
    "unique, counts = np.unique(y, return_counts=True)\n",
    "print(np.asarray((unique, counts)).T)"
   ]
  },
  {
   "cell_type": "code",
   "execution_count": 16,
   "metadata": {},
   "outputs": [
    {
     "data": {
      "text/html": [
       "<div>\n",
       "<style scoped>\n",
       "    .dataframe tbody tr th:only-of-type {\n",
       "        vertical-align: middle;\n",
       "    }\n",
       "\n",
       "    .dataframe tbody tr th {\n",
       "        vertical-align: top;\n",
       "    }\n",
       "\n",
       "    .dataframe thead th {\n",
       "        text-align: right;\n",
       "    }\n",
       "</style>\n",
       "<table border=\"1\" class=\"dataframe\">\n",
       "  <thead>\n",
       "    <tr style=\"text-align: right;\">\n",
       "      <th></th>\n",
       "      <th>0</th>\n",
       "      <th>1</th>\n",
       "      <th>2</th>\n",
       "      <th>3</th>\n",
       "      <th>4</th>\n",
       "      <th>5</th>\n",
       "      <th>6</th>\n",
       "    </tr>\n",
       "  </thead>\n",
       "  <tbody>\n",
       "    <tr>\n",
       "      <th>58314</th>\n",
       "      <td>1.000000</td>\n",
       "      <td>22.491507</td>\n",
       "      <td>-0.732194</td>\n",
       "      <td>2.0</td>\n",
       "      <td>3.0</td>\n",
       "      <td>1.0</td>\n",
       "      <td>2.0</td>\n",
       "    </tr>\n",
       "    <tr>\n",
       "      <th>119157</th>\n",
       "      <td>0.993736</td>\n",
       "      <td>21.129226</td>\n",
       "      <td>0.307281</td>\n",
       "      <td>2.0</td>\n",
       "      <td>3.0</td>\n",
       "      <td>3.0</td>\n",
       "      <td>2.0</td>\n",
       "    </tr>\n",
       "    <tr>\n",
       "      <th>141532</th>\n",
       "      <td>1.000000</td>\n",
       "      <td>30.311283</td>\n",
       "      <td>-1.477767</td>\n",
       "      <td>2.0</td>\n",
       "      <td>2.0</td>\n",
       "      <td>4.0</td>\n",
       "      <td>2.0</td>\n",
       "    </tr>\n",
       "    <tr>\n",
       "      <th>80</th>\n",
       "      <td>1.000000</td>\n",
       "      <td>29.264723</td>\n",
       "      <td>1.432250</td>\n",
       "      <td>2.0</td>\n",
       "      <td>1.0</td>\n",
       "      <td>4.0</td>\n",
       "      <td>2.0</td>\n",
       "    </tr>\n",
       "    <tr>\n",
       "      <th>718</th>\n",
       "      <td>1.000000</td>\n",
       "      <td>36.519262</td>\n",
       "      <td>-1.165083</td>\n",
       "      <td>2.0</td>\n",
       "      <td>2.0</td>\n",
       "      <td>3.0</td>\n",
       "      <td>2.0</td>\n",
       "    </tr>\n",
       "  </tbody>\n",
       "</table>\n",
       "</div>"
      ],
      "text/plain": [
       "               0          1         2    3    4    5    6\n",
       "58314   1.000000  22.491507 -0.732194  2.0  3.0  1.0  2.0\n",
       "119157  0.993736  21.129226  0.307281  2.0  3.0  3.0  2.0\n",
       "141532  1.000000  30.311283 -1.477767  2.0  2.0  4.0  2.0\n",
       "80      1.000000  29.264723  1.432250  2.0  1.0  4.0  2.0\n",
       "718     1.000000  36.519262 -1.165083  2.0  2.0  3.0  2.0"
      ]
     },
     "metadata": {},
     "output_type": "display_data"
    },
    {
     "name": "stdout",
     "output_type": "stream",
     "text": [
      "<class 'pandas.core.frame.DataFrame'>\n",
      "RangeIndex: 166646 entries, 0 to 166645\n",
      "Data columns (total 7 columns):\n",
      "0    166646 non-null float64\n",
      "1    166646 non-null float64\n",
      "2    166646 non-null float64\n",
      "3    166646 non-null float64\n",
      "4    166646 non-null float64\n",
      "5    166646 non-null float64\n",
      "6    166646 non-null float64\n",
      "dtypes: float64(7)\n",
      "memory usage: 8.9 MB\n"
     ]
    },
    {
     "data": {
      "text/plain": [
       "None"
      ]
     },
     "metadata": {},
     "output_type": "display_data"
    }
   ],
   "source": [
    "# check results for X \n",
    "\n",
    "X = pd.DataFrame(X)\n",
    "display(X.sample(5))\n",
    "display(X.info())"
   ]
  },
  {
   "cell_type": "markdown",
   "metadata": {},
   "source": [
    "#### Solution to problem 1: Define function to get DataFrame of X with initial properties"
   ]
  },
  {
   "cell_type": "code",
   "execution_count": 23,
   "metadata": {},
   "outputs": [],
   "source": [
    "X, y = create_Xy(data)  # reset data\n",
    "\n",
    "\n",
    "# define oversampling function\n",
    "\n",
    "def oversample_ADASYN(X, y):\n",
    "    \"\"\"Oversampling of underrepresented class with imbalanced learn package.\"\"\"\n",
    "    \n",
    "    sm = ADASYN()\n",
    "    X, y = sm.fit_sample(X, y)\n",
    "    \n",
    "    # restore df-format, column names and dtypes of X\n",
    "    X = pd.DataFrame(X)\n",
    "    X.columns = data.columns[2:]\n",
    "    colsToCat = [\"V1\", \"V4\", \"V5\", \"V6\", \"V7\"]\n",
    "    X = cleaning.change_dtypes(X, cols_to_category=colsToCat)\n",
    "    \n",
    "    return X, y"
   ]
  },
  {
   "cell_type": "code",
   "execution_count": 24,
   "metadata": {},
   "outputs": [],
   "source": [
    "X, y = oversample_ADASYN(X, y)"
   ]
  },
  {
   "cell_type": "code",
   "execution_count": 25,
   "metadata": {},
   "outputs": [
    {
     "data": {
      "text/html": [
       "<div>\n",
       "<style scoped>\n",
       "    .dataframe tbody tr th:only-of-type {\n",
       "        vertical-align: middle;\n",
       "    }\n",
       "\n",
       "    .dataframe tbody tr th {\n",
       "        vertical-align: top;\n",
       "    }\n",
       "\n",
       "    .dataframe thead th {\n",
       "        text-align: right;\n",
       "    }\n",
       "</style>\n",
       "<table border=\"1\" class=\"dataframe\">\n",
       "  <thead>\n",
       "    <tr style=\"text-align: right;\">\n",
       "      <th></th>\n",
       "      <th>V1</th>\n",
       "      <th>V2</th>\n",
       "      <th>V3</th>\n",
       "      <th>V4</th>\n",
       "      <th>V5</th>\n",
       "      <th>V6</th>\n",
       "      <th>V7</th>\n",
       "    </tr>\n",
       "  </thead>\n",
       "  <tbody>\n",
       "    <tr>\n",
       "      <th>125612</th>\n",
       "      <td>0.418366</td>\n",
       "      <td>40.514869</td>\n",
       "      <td>-0.996347</td>\n",
       "      <td>1.418366</td>\n",
       "      <td>3.000000</td>\n",
       "      <td>4.000000</td>\n",
       "      <td>1.0</td>\n",
       "    </tr>\n",
       "    <tr>\n",
       "      <th>106479</th>\n",
       "      <td>1.000000</td>\n",
       "      <td>24.865598</td>\n",
       "      <td>-1.176181</td>\n",
       "      <td>2.000000</td>\n",
       "      <td>3.000000</td>\n",
       "      <td>1.709394</td>\n",
       "      <td>2.0</td>\n",
       "    </tr>\n",
       "    <tr>\n",
       "      <th>86282</th>\n",
       "      <td>2.676402</td>\n",
       "      <td>36.457274</td>\n",
       "      <td>-0.765268</td>\n",
       "      <td>2.000000</td>\n",
       "      <td>3.676402</td>\n",
       "      <td>4.000000</td>\n",
       "      <td>2.0</td>\n",
       "    </tr>\n",
       "    <tr>\n",
       "      <th>103028</th>\n",
       "      <td>2.000000</td>\n",
       "      <td>28.066158</td>\n",
       "      <td>1.418252</td>\n",
       "      <td>2.000000</td>\n",
       "      <td>2.161689</td>\n",
       "      <td>4.000000</td>\n",
       "      <td>2.0</td>\n",
       "    </tr>\n",
       "    <tr>\n",
       "      <th>30044</th>\n",
       "      <td>2.000000</td>\n",
       "      <td>41.166364</td>\n",
       "      <td>1.259095</td>\n",
       "      <td>1.000000</td>\n",
       "      <td>2.000000</td>\n",
       "      <td>1.000000</td>\n",
       "      <td>2.0</td>\n",
       "    </tr>\n",
       "  </tbody>\n",
       "</table>\n",
       "</div>"
      ],
      "text/plain": [
       "              V1         V2        V3        V4        V5        V6   V7\n",
       "125612  0.418366  40.514869 -0.996347  1.418366  3.000000  4.000000  1.0\n",
       "106479  1.000000  24.865598 -1.176181  2.000000  3.000000  1.709394  2.0\n",
       "86282   2.676402  36.457274 -0.765268  2.000000  3.676402  4.000000  2.0\n",
       "103028  2.000000  28.066158  1.418252  2.000000  2.161689  4.000000  2.0\n",
       "30044   2.000000  41.166364  1.259095  1.000000  2.000000  1.000000  2.0"
      ]
     },
     "metadata": {},
     "output_type": "display_data"
    },
    {
     "name": "stdout",
     "output_type": "stream",
     "text": [
      "<class 'pandas.core.frame.DataFrame'>\n",
      "RangeIndex: 166646 entries, 0 to 166645\n",
      "Data columns (total 7 columns):\n",
      "V1    166646 non-null category\n",
      "V2    166646 non-null float64\n",
      "V3    166646 non-null float64\n",
      "V4    166646 non-null category\n",
      "V5    166646 non-null category\n",
      "V6    166646 non-null category\n",
      "V7    166646 non-null category\n",
      "dtypes: category(5), float64(2)\n",
      "memory usage: 8.3 MB\n"
     ]
    },
    {
     "data": {
      "text/plain": [
       "None"
      ]
     },
     "metadata": {},
     "output_type": "display_data"
    }
   ],
   "source": [
    "# check results for X \n",
    "\n",
    "X = pd.DataFrame(X)\n",
    "display(X.sample(5))\n",
    "display(X.info())"
   ]
  },
  {
   "cell_type": "markdown",
   "metadata": {},
   "source": [
    "**Remaining problem:** the values of the categorical data are not really categorical anymore ..."
   ]
  },
  {
   "cell_type": "markdown",
   "metadata": {},
   "source": [
    "### Oversample with SMOTENC\n",
    "[doku here](https://imbalanced-learn.readthedocs.io/en/stable/generated/imblearn.over_sampling.SMOTENC.html)"
   ]
  },
  {
   "cell_type": "code",
   "execution_count": 27,
   "metadata": {},
   "outputs": [],
   "source": [
    "X, y = create_Xy(data)  # reset data\n",
    "\n",
    "\n",
    "# define oversampling function\n",
    "\n",
    "def oversample_SMOTENC(X, y):\n",
    "    \"\"\"Oversampling of underrepresented class with imbalanced learn package.\"\"\"\n",
    "    \n",
    "    sm = SMOTENC(categorical_features=[0,3,4,5,6])  # indices of categorical variables\n",
    "    X, y = sm.fit_sample(X, y)\n",
    "    \n",
    "    # restore df-format, column names and dtypes of X\n",
    "    X = pd.DataFrame(X)\n",
    "    X.columns = data.columns[2:]\n",
    "    colsToCat = [\"V1\", \"V4\", \"V5\", \"V6\", \"V7\"]\n",
    "    X = cleaning.change_dtypes(X, cols_to_category=colsToCat)\n",
    "    \n",
    "    return X, y"
   ]
  },
  {
   "cell_type": "code",
   "execution_count": 28,
   "metadata": {},
   "outputs": [
    {
     "data": {
      "text/html": [
       "<div>\n",
       "<style scoped>\n",
       "    .dataframe tbody tr th:only-of-type {\n",
       "        vertical-align: middle;\n",
       "    }\n",
       "\n",
       "    .dataframe tbody tr th {\n",
       "        vertical-align: top;\n",
       "    }\n",
       "\n",
       "    .dataframe thead th {\n",
       "        text-align: right;\n",
       "    }\n",
       "</style>\n",
       "<table border=\"1\" class=\"dataframe\">\n",
       "  <thead>\n",
       "    <tr style=\"text-align: right;\">\n",
       "      <th></th>\n",
       "      <th>V1</th>\n",
       "      <th>V2</th>\n",
       "      <th>V3</th>\n",
       "      <th>V4</th>\n",
       "      <th>V5</th>\n",
       "      <th>V6</th>\n",
       "      <th>V7</th>\n",
       "    </tr>\n",
       "  </thead>\n",
       "  <tbody>\n",
       "    <tr>\n",
       "      <th>31343</th>\n",
       "      <td>2</td>\n",
       "      <td>31.957064</td>\n",
       "      <td>0.220161</td>\n",
       "      <td>2</td>\n",
       "      <td>1</td>\n",
       "      <td>2</td>\n",
       "      <td>2</td>\n",
       "    </tr>\n",
       "    <tr>\n",
       "      <th>4169</th>\n",
       "      <td>1</td>\n",
       "      <td>29.277509</td>\n",
       "      <td>-0.039572</td>\n",
       "      <td>2</td>\n",
       "      <td>1</td>\n",
       "      <td>3</td>\n",
       "      <td>2</td>\n",
       "    </tr>\n",
       "    <tr>\n",
       "      <th>80577</th>\n",
       "      <td>1</td>\n",
       "      <td>36.455552</td>\n",
       "      <td>-1.165083</td>\n",
       "      <td>1</td>\n",
       "      <td>3</td>\n",
       "      <td>2</td>\n",
       "      <td>2</td>\n",
       "    </tr>\n",
       "    <tr>\n",
       "      <th>64144</th>\n",
       "      <td>2</td>\n",
       "      <td>18.798151</td>\n",
       "      <td>0.306739</td>\n",
       "      <td>2</td>\n",
       "      <td>3</td>\n",
       "      <td>1</td>\n",
       "      <td>2</td>\n",
       "    </tr>\n",
       "    <tr>\n",
       "      <th>27433</th>\n",
       "      <td>1</td>\n",
       "      <td>35.359499</td>\n",
       "      <td>-0.559039</td>\n",
       "      <td>2</td>\n",
       "      <td>3</td>\n",
       "      <td>1</td>\n",
       "      <td>2</td>\n",
       "    </tr>\n",
       "  </tbody>\n",
       "</table>\n",
       "</div>"
      ],
      "text/plain": [
       "      V1         V2        V3 V4 V5 V6 V7\n",
       "31343  2  31.957064  0.220161  2  1  2  2\n",
       "4169   1  29.277509 -0.039572  2  1  3  2\n",
       "80577  1  36.455552 -1.165083  1  3  2  2\n",
       "64144  2  18.798151  0.306739  2  3  1  2\n",
       "27433  1  35.359499 -0.559039  2  3  1  2"
      ]
     },
     "metadata": {},
     "output_type": "display_data"
    },
    {
     "name": "stdout",
     "output_type": "stream",
     "text": [
      "<class 'pandas.core.frame.DataFrame'>\n",
      "RangeIndex: 84534 entries, 0 to 84533\n",
      "Data columns (total 7 columns):\n",
      "V1    84534 non-null category\n",
      "V2    84534 non-null float64\n",
      "V3    84534 non-null float64\n",
      "V4    84534 non-null category\n",
      "V5    84534 non-null category\n",
      "V6    84534 non-null category\n",
      "V7    84534 non-null category\n",
      "dtypes: category(5), float64(2)\n",
      "memory usage: 1.7 MB\n"
     ]
    },
    {
     "data": {
      "text/plain": [
       "None"
      ]
     },
     "metadata": {},
     "output_type": "display_data"
    }
   ],
   "source": [
    "# check results for X \n",
    "\n",
    "X = pd.DataFrame(X)\n",
    "display(X.head(5))\n",
    "display(X.info())"
   ]
  },
  {
   "cell_type": "markdown",
   "metadata": {},
   "source": [
    "---"
   ]
  }
 ],
 "metadata": {
  "kernelspec": {
   "display_name": "Python [default]",
   "language": "python",
   "name": "python3"
  },
  "language_info": {
   "codemirror_mode": {
    "name": "ipython",
    "version": 3
   },
   "file_extension": ".py",
   "mimetype": "text/x-python",
   "name": "python",
   "nbconvert_exporter": "python",
   "pygments_lexer": "ipython3",
   "version": "3.6.3"
  }
 },
 "nbformat": 4,
 "nbformat_minor": 2
}
