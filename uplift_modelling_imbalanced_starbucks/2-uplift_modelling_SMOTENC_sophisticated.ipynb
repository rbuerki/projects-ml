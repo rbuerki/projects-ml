{
 "cells": [
  {
   "cell_type": "markdown",
   "metadata": {
    "toc": true
   },
   "source": [
    "<h1>Table of Contents<span class=\"tocSkip\"></span></h1>\n",
    "<div class=\"toc\"><ul class=\"toc-item\"><li><span><a href=\"#Prepare-Data\" data-toc-modified-id=\"Prepare-Data-1\"><span class=\"toc-item-num\">1&nbsp;&nbsp;</span>Prepare Data</a></span></li><li><span><a href=\"#Step-1:-Try-to-identify-regular-buyers-with-help-of-control-group\" data-toc-modified-id=\"Step-1:-Try-to-identify-regular-buyers-with-help-of-control-group-2\"><span class=\"toc-item-num\">2&nbsp;&nbsp;</span>Step 1: Try to identify regular buyers with help of control group</a></span></li><li><span><a href=\"#Preprocess-data-for-modelling\" data-toc-modified-id=\"Preprocess-data-for-modelling-3\"><span class=\"toc-item-num\">3&nbsp;&nbsp;</span>Preprocess data for modelling</a></span></li><li><span><a href=\"#Model-evaluation\" data-toc-modified-id=\"Model-evaluation-4\"><span class=\"toc-item-num\">4&nbsp;&nbsp;</span>Model evaluation</a></span><ul class=\"toc-item\"><li><span><a href=\"#Tuning-with-Precision-Recall-Curve\" data-toc-modified-id=\"Tuning-with-Precision-Recall-Curve-4.1\"><span class=\"toc-item-num\">4.1&nbsp;&nbsp;</span>Tuning with Precision-Recall-Curve</a></span></li></ul></li><li><span><a href=\"#Apply-Strategy,-Evaluate-IRR-and-NIR\" data-toc-modified-id=\"Apply-Strategy,-Evaluate-IRR-and-NIR-5\"><span class=\"toc-item-num\">5&nbsp;&nbsp;</span>Apply Strategy, Evaluate IRR and NIR</a></span></li></ul></div>"
   ]
  },
  {
   "cell_type": "markdown",
   "metadata": {},
   "source": [
    "# Uplift Modelling Exercise: Starbucks\n",
    "\n",
    "\n",
    "\n",
    "(Note: A good blogpost giving an oversight over general uplift strategies using the same data can be found [here](https://medium.com/datadriveninvestor/simple-machine-learning-techniques-to-improve-your-marketing-strategy-demystifying-uplift-models-dc4fb3f927a2)).\n",
    "\n",
    "**Main learnings from this notebook**\n",
    "\n",
    "- oversampling with categorical features only works with SMOTENC\n",
    "- sampling does not work within sklearn pipelines, you must use imblearns own Pipline class\n",
    "- you can pass feature labels into the pipeline, but the SMOTENC sampler needs the indices of the cat features\n",
    "\n",
    " \n",
    "**Background Information**\n",
    "\n",
    "The dataset in this exercise was originally used as a take-home assignment provided by Starbucks for their job candidates. The data for this exercise consists of about 120,000 data points split in a 2:1 ratio among training and test files. In the experiment simulated by the data, an advertising promotion was tested to see if it would bring more customers to purchase a specific product priced at $10. Since it costs the company 0.15 to send out each promotion, it would be best to limit that promotion only to those that are most receptive to the promotion. Each data point includes one column indicating whether or not an individual was sent a promotion for the product, and one column indicating whether or not that individual eventually purchased that product. Each individual also has seven additional features associated with them, which are provided abstractly as V1-V7.\n",
    "\n",
    "The main point of this implementation was to create a pipeline that oversamples the minority target class with SMOTENC (see [here](https://imbalanced-learn.readthedocs.io/en/stable/generated/imblearn.over_sampling.SMOTENC.html)) and selects an appropriate classifier. Without much further tuning the benchmark metrics could be matched / beaten.\n",
    "\n",
    "**Optimization Strategy**\n",
    "\n",
    "The task is to use the training data to understand what patterns in V1-V7 indicate that a promotion should be provided to a user. Specifically, the goal is to maximize the following metrics:\n",
    "\n",
    "- **Incremental Response Rate (IRR)** \n",
    "\n",
    "IRR depicts how many more customers purchased the product with the promotion, as compared to if they didn't receive the promotion. Mathematically, it's the ratio of the number of purchasers in the promotion group to the total number of customers in the promotion group (_treatment_) minus the ratio of the number of purchasers in the non-promotional group to the total number of customers in the non-promotional group (_control_).\n",
    "\n",
    "$$ IRR = \\frac{purch_{treat}}{cust_{treat}} - \\frac{purch_{ctrl}}{cust_{ctrl}} $$\n",
    "\n",
    "\n",
    "- **Net Incremental Revenue (NIR)**\n",
    "\n",
    "NIR depicts how much is made (or lost) by sending out the promotion. Mathematically, this is 10 times the total number of purchasers that received the promotion minus 0.15 times the number of promotions sent out, minus 10 times the number of purchasers who were not given the promotion.\n",
    "\n",
    "$$ NIR = (10\\cdot purch_{treat} - 0.15 \\cdot cust_{treat}) - 10 \\cdot purch_{ctrl}$$\n",
    "\n",
    "For a full description of what Starbucks provides to candidates see the [instructions available here](https://drive.google.com/open?id=18klca9Sef1Rs6q8DW4l7o349r8B70qXM).\n",
    "\n",
    "\n",
    "**Strategy Evaluation**\n",
    "\n",
    "The strategy can be evaluated with the `test_results` function.  There are four possible outomes:\n",
    "\n",
    "Table of actual promotion vs. predicted promotion customers:  \n",
    "\n",
    "<table>\n",
    "<tr><th></th><th colspan = '2'>Actual</th></tr>\n",
    "<tr><th>Predicted</th><th>Yes</th><th>No</th></tr>\n",
    "<tr><th>Yes</th><td>I</td><td>II</td></tr>\n",
    "<tr><th>No</th><td>III</td><td>IV</td></tr>\n",
    "</table>\n",
    "\n",
    "The metrics are only being compared for the individuals we predict should obtain the promotion – that is, quadrants I and II.  Since the first set of individuals that receive the promotion (in the training set) receive it randomly, we can expect that quadrants I and II will have approximately equivalent participants.  Comparing quadrant I to II then gives an idea of how well the promotion strategy will work in the future. "
   ]
  },
  {
   "cell_type": "code",
   "execution_count": 41,
   "metadata": {
    "ExecuteTime": {
     "end_time": "2019-09-12T14:25:05.483666Z",
     "start_time": "2019-09-12T14:25:05.452421Z"
    }
   },
   "outputs": [],
   "source": [
    "# Import libraries\n",
    "import numpy as np\n",
    "import pandas as pd\n",
    "from tqdm import tqdm\n",
    "import time\n",
    "\n",
    "from sklearn.model_selection import GridSearchCV, cross_validate, \\\n",
    "        StratifiedKFold, train_test_split\n",
    "from sklearn.pipeline import FeatureUnion  # the actual pipe is imported from imblearn, see below\n",
    "from sklearn.metrics import make_scorer, classification_report, \\\n",
    "        confusion_matrix, fbeta_score, precision_recall_curve\n",
    "from sklearn.base import BaseEstimator, TransformerMixin\n",
    "from sklearn.preprocessing import StandardScaler, OneHotEncoder, LabelEncoder \n",
    "from sklearn.linear_model import LogisticRegression, SGDClassifier\n",
    "from sklearn.naive_bayes import MultinomialNB\n",
    "from sklearn.ensemble import RandomForestClassifier, GradientBoostingClassifier\n",
    "\n",
    "# pipeline caching\n",
    "from tempfile import mkdtemp\n",
    "from shutil import rmtree\n",
    "from sklearn.utils import Memory\n",
    "\n",
    "# my custom functions\n",
    "import EDA_functions as EDA\n",
    "import cleaning_functions as cleaning\n",
    "import custom_transformers as transform\n",
    "\n",
    "from imblearn.over_sampling import SMOTENC # can handle cat variables\n",
    "from imblearn.pipeline import Pipeline  \n",
    "\n",
    "import matplotlib.pyplot as plt\n",
    "import seaborn as sns\n",
    "%matplotlib inline\n",
    "color='rebeccapurple'"
   ]
  },
  {
   "cell_type": "markdown",
   "metadata": {},
   "source": [
    "more infos on why `imblearn.pipeline` [here](https://stackoverflow.com/questions/49770851/customized-transformermixin-with-data-labels-in-sklearn/49771602#49771602)"
   ]
  },
  {
   "cell_type": "code",
   "execution_count": 7,
   "metadata": {
    "ExecuteTime": {
     "end_time": "2019-09-12T13:52:29.026888Z",
     "start_time": "2019-09-12T13:52:28.907251Z"
    }
   },
   "outputs": [],
   "source": [
    "# Load the data\n",
    "train = pd.read_csv('data/training.csv')"
   ]
  },
  {
   "cell_type": "code",
   "execution_count": 3,
   "metadata": {
    "ExecuteTime": {
     "end_time": "2019-09-12T13:43:52.051710Z",
     "start_time": "2019-09-12T13:43:52.006350Z"
    }
   },
   "outputs": [
    {
     "data": {
      "text/html": [
       "<div>\n",
       "<style scoped>\n",
       "    .dataframe tbody tr th:only-of-type {\n",
       "        vertical-align: middle;\n",
       "    }\n",
       "\n",
       "    .dataframe tbody tr th {\n",
       "        vertical-align: top;\n",
       "    }\n",
       "\n",
       "    .dataframe thead th {\n",
       "        text-align: right;\n",
       "    }\n",
       "</style>\n",
       "<table border=\"1\" class=\"dataframe\">\n",
       "  <thead>\n",
       "    <tr style=\"text-align: right;\">\n",
       "      <th></th>\n",
       "      <th>ID</th>\n",
       "      <th>Promotion</th>\n",
       "      <th>purchase</th>\n",
       "      <th>V1</th>\n",
       "      <th>V2</th>\n",
       "      <th>V3</th>\n",
       "      <th>V4</th>\n",
       "      <th>V5</th>\n",
       "      <th>V6</th>\n",
       "      <th>V7</th>\n",
       "    </tr>\n",
       "  </thead>\n",
       "  <tbody>\n",
       "    <tr>\n",
       "      <td>79764</td>\n",
       "      <td>119039</td>\n",
       "      <td>No</td>\n",
       "      <td>0</td>\n",
       "      <td>1</td>\n",
       "      <td>18.354225</td>\n",
       "      <td>1.432250</td>\n",
       "      <td>2</td>\n",
       "      <td>2</td>\n",
       "      <td>2</td>\n",
       "      <td>2</td>\n",
       "    </tr>\n",
       "    <tr>\n",
       "      <td>59555</td>\n",
       "      <td>88733</td>\n",
       "      <td>Yes</td>\n",
       "      <td>0</td>\n",
       "      <td>1</td>\n",
       "      <td>32.692856</td>\n",
       "      <td>0.393317</td>\n",
       "      <td>2</td>\n",
       "      <td>3</td>\n",
       "      <td>4</td>\n",
       "      <td>1</td>\n",
       "    </tr>\n",
       "    <tr>\n",
       "      <td>45378</td>\n",
       "      <td>67494</td>\n",
       "      <td>No</td>\n",
       "      <td>0</td>\n",
       "      <td>1</td>\n",
       "      <td>33.107859</td>\n",
       "      <td>0.826206</td>\n",
       "      <td>2</td>\n",
       "      <td>2</td>\n",
       "      <td>2</td>\n",
       "      <td>2</td>\n",
       "    </tr>\n",
       "    <tr>\n",
       "      <td>38262</td>\n",
       "      <td>56881</td>\n",
       "      <td>No</td>\n",
       "      <td>0</td>\n",
       "      <td>2</td>\n",
       "      <td>34.413043</td>\n",
       "      <td>1.172517</td>\n",
       "      <td>1</td>\n",
       "      <td>1</td>\n",
       "      <td>3</td>\n",
       "      <td>2</td>\n",
       "    </tr>\n",
       "    <tr>\n",
       "      <td>1018</td>\n",
       "      <td>1509</td>\n",
       "      <td>Yes</td>\n",
       "      <td>0</td>\n",
       "      <td>1</td>\n",
       "      <td>26.581578</td>\n",
       "      <td>-0.126150</td>\n",
       "      <td>1</td>\n",
       "      <td>1</td>\n",
       "      <td>2</td>\n",
       "      <td>2</td>\n",
       "    </tr>\n",
       "  </tbody>\n",
       "</table>\n",
       "</div>"
      ],
      "text/plain": [
       "           ID Promotion  purchase  V1         V2        V3  V4  V5  V6  V7\n",
       "79764  119039        No         0   1  18.354225  1.432250   2   2   2   2\n",
       "59555   88733       Yes         0   1  32.692856  0.393317   2   3   4   1\n",
       "45378   67494        No         0   1  33.107859  0.826206   2   2   2   2\n",
       "38262   56881        No         0   2  34.413043  1.172517   1   1   3   2\n",
       "1018     1509       Yes         0   1  26.581578 -0.126150   1   1   2   2"
      ]
     },
     "execution_count": 3,
     "metadata": {},
     "output_type": "execute_result"
    }
   ],
   "source": [
    "train.sample(5)"
   ]
  },
  {
   "cell_type": "code",
   "execution_count": 4,
   "metadata": {
    "ExecuteTime": {
     "end_time": "2019-09-12T12:19:59.885118Z",
     "start_time": "2019-09-12T12:19:59.847038Z"
    }
   },
   "outputs": [
    {
     "name": "stdout",
     "output_type": "stream",
     "text": [
      "<class 'pandas.core.frame.DataFrame'>\n",
      "RangeIndex: 84534 entries, 0 to 84533\n",
      "Data columns (total 10 columns):\n",
      "ID           84534 non-null int64\n",
      "Promotion    84534 non-null object\n",
      "purchase     84534 non-null int64\n",
      "V1           84534 non-null int64\n",
      "V2           84534 non-null float64\n",
      "V3           84534 non-null float64\n",
      "V4           84534 non-null int64\n",
      "V5           84534 non-null int64\n",
      "V6           84534 non-null int64\n",
      "V7           84534 non-null int64\n",
      "dtypes: float64(2), int64(7), object(1)\n",
      "memory usage: 6.4+ MB\n"
     ]
    }
   ],
   "source": [
    "train.info()"
   ]
  },
  {
   "cell_type": "markdown",
   "metadata": {},
   "source": [
    "## Prepare Data\n",
    "\n",
    "General EDA is documented in notebook 1. The approach here is more specific."
   ]
  },
  {
   "cell_type": "code",
   "execution_count": 4,
   "metadata": {
    "ExecuteTime": {
     "end_time": "2019-09-12T13:45:42.176846Z",
     "start_time": "2019-09-12T13:45:42.052852Z"
    }
   },
   "outputs": [],
   "source": [
    "# Make a copy of training set for EDA purpose\n",
    "eda = train.copy()"
   ]
  },
  {
   "cell_type": "code",
   "execution_count": 15,
   "metadata": {
    "ExecuteTime": {
     "end_time": "2019-09-12T13:56:08.735524Z",
     "start_time": "2019-09-12T13:56:08.689481Z"
    }
   },
   "outputs": [
    {
     "name": "stdout",
     "output_type": "stream",
     "text": [
      "Proportion of customers not treated with promo: 49.89%, (n=42170)\n"
     ]
    }
   ],
   "source": [
    "# Separate treated group from control group\n",
    "eda_no = eda.loc[eda['Promotion'] == 'No']\n",
    "eda_yes = eda.loc[eda['Promotion'] == 'Yes']\n",
    "\n",
    "print(\"Proportion of customers not treated with promo: {:.2f}%, (n={})\".format(\n",
    "        (len(eda_no) / len(eda) * 100), len(eda_no)))"
   ]
  },
  {
   "cell_type": "code",
   "execution_count": 29,
   "metadata": {
    "ExecuteTime": {
     "end_time": "2019-09-12T14:03:33.567783Z",
     "start_time": "2019-09-12T14:03:33.529208Z"
    }
   },
   "outputs": [
    {
     "name": "stdout",
     "output_type": "stream",
     "text": [
      "Proportion of purchases in control group: 0.76%, (n=319)\n",
      "Proportion of purchases in control group: 1.70%, (n=721)\n"
     ]
    }
   ],
   "source": [
    "print(\"Proportion of purchases in control group: {:.2f}%, (n={})\".format(\n",
    "        round((eda_no['purchase'].value_counts()[1] / len(eda_no)*100), 4), \n",
    "        eda_no['purchase'].value_counts()[1]))\n",
    "print(\"Proportion of purchases in control group: {:.2f}%, (n={})\".format(\n",
    "        round((eda_yes['purchase'].value_counts()[1] / len(eda_yes)*100), 4), \n",
    "        eda_yes['purchase'].value_counts()[1]))\n"
   ]
  },
  {
   "cell_type": "markdown",
   "metadata": {},
   "source": [
    "## Step 1: Try to identify regular buyers with help of control group"
   ]
  },
  {
   "cell_type": "code",
   "execution_count": 33,
   "metadata": {
    "ExecuteTime": {
     "end_time": "2019-09-12T14:12:11.833976Z",
     "start_time": "2019-09-12T14:12:11.773177Z"
    }
   },
   "outputs": [],
   "source": [
    "# Define function to clean dataframes according to notebook 1\n",
    "\n",
    "def clean_dataframe(df, treatment=None):\n",
    "    if treatment is 'yes':\n",
    "        df_clean = df.loc[df['Promotion'] == 'Yes']\n",
    "    if treatment is 'no':\n",
    "        df_clean = df.loc[df['Promotion'] == 'No']\n",
    "    else:\n",
    "        df_clean = df\n",
    "    \n",
    "    colsToCat = [\"Promotion\", \"V1\", \"V4\", \"V5\", \"V6\", \"V7\"]\n",
    "    df_clean = cleaning.change_dtypes(df_clean, cols_to_category=colsToCat)\n",
    "    df_clean.drop(['ID', 'Promotion'], axis=1, inplace=True)\n",
    "    \n",
    "    return df_clean"
   ]
  },
  {
   "cell_type": "code",
   "execution_count": 36,
   "metadata": {
    "ExecuteTime": {
     "end_time": "2019-09-12T14:17:15.052432Z",
     "start_time": "2019-09-12T14:17:14.990675Z"
    }
   },
   "outputs": [
    {
     "data": {
      "text/plain": [
       "(42170, 8)"
      ]
     },
     "execution_count": 36,
     "metadata": {},
     "output_type": "execute_result"
    }
   ],
   "source": [
    "train_no = clean_dataframe(train, treatment='no')\n",
    "\n",
    "# Check result\n",
    "train_no.shape"
   ]
  },
  {
   "cell_type": "code",
   "execution_count": 37,
   "metadata": {
    "ExecuteTime": {
     "end_time": "2019-09-12T14:17:43.559063Z",
     "start_time": "2019-09-12T14:17:43.543290Z"
    }
   },
   "outputs": [],
   "source": [
    "# Define function to separate target variable from features\n",
    "\n",
    "def create_Xy(df, target_col):\n",
    "    \"\"\"Seprate target variable from features.\"\"\"\n",
    "\n",
    "    y = df[target_col].copy()\n",
    "    X = df.drop(target_col, axis=1)\n",
    "    \n",
    "    return X, y"
   ]
  },
  {
   "cell_type": "code",
   "execution_count": 38,
   "metadata": {
    "ExecuteTime": {
     "end_time": "2019-09-12T14:18:10.603249Z",
     "start_time": "2019-09-12T14:18:10.575211Z"
    }
   },
   "outputs": [
    {
     "name": "stdout",
     "output_type": "stream",
     "text": [
      "(42170, 7)\n",
      "(42170,)\n"
     ]
    }
   ],
   "source": [
    "# Call function an check results\n",
    "X, y = create_Xy(train_no, 'purchase')\n",
    "print(X.shape)\n",
    "print(y.shape)"
   ]
  },
  {
   "cell_type": "code",
   "execution_count": 42,
   "metadata": {
    "ExecuteTime": {
     "end_time": "2019-09-12T14:25:20.656889Z",
     "start_time": "2019-09-12T14:25:20.611784Z"
    }
   },
   "outputs": [],
   "source": [
    "# Split train and test sets with stratified sampling\n",
    "X_train, X_test, y_train, y_test = train_test_split(X, y, test_size=0.25, \n",
    "                                                    random_state=666, stratify=y)"
   ]
  },
  {
   "cell_type": "code",
   "execution_count": 44,
   "metadata": {
    "ExecuteTime": {
     "end_time": "2019-09-12T14:26:03.250985Z",
     "start_time": "2019-09-12T14:26:03.217176Z"
    }
   },
   "outputs": [
    {
     "name": "stdout",
     "output_type": "stream",
     "text": [
      "PURCHASE in % of total: 0.0076\n"
     ]
    }
   ],
   "source": [
    "# Safety check distribution of target labels in y_train\n",
    "print(\"PURCHASE in % of total: {:4.4f}\".format(np.sum(y_train) / len(y_train)))"
   ]
  },
  {
   "cell_type": "code",
   "execution_count": 45,
   "metadata": {
    "ExecuteTime": {
     "end_time": "2019-09-12T14:26:47.962499Z",
     "start_time": "2019-09-12T14:26:47.932320Z"
    }
   },
   "outputs": [],
   "source": [
    "def build_pipe(X_train, y_train, clf, sampler):\n",
    "    \"\"\"Build a pipeline for preprocessing (including oversampling)\n",
    "    and classification.\n",
    "    \n",
    "    Arguments:\n",
    "    ----------\n",
    "    - X_train: training features (df or array\n",
    "    - y_train: training labels (df or array)\n",
    "    - clf: classifier (sk-learn model object)\n",
    "    - sampler: sampler (imblearn sampling class)\n",
    "        \n",
    "    Returns:\n",
    "    --------\n",
    "    - full_pipe: pipeline object\n",
    "    \"\"\"\n",
    "    \n",
    "    # Create temporary folder to store pipeline transformers (cache)\n",
    "    cachedir = mkdtemp()\n",
    "    memory = Memory(location=cachedir, verbose=1)\n",
    "    \n",
    "    full_pipe = Pipeline([\n",
    "    ('features', FeatureUnion([\n",
    "\n",
    "        ('cat', Pipeline([\n",
    "            ('cat_select', transform.TypeSelector('category')),\n",
    "            ('ohe', OneHotEncoder(categories='auto')),\n",
    "        ])),\n",
    "\n",
    "#         ('num', Pipeline([\n",
    "#             ('num_select', transform.TypeSelector(np.number)),\n",
    "#             ('scaling', StandardScaler()),\n",
    "#         ])),\n",
    "    ])),\n",
    "        ('sample', sampler),\n",
    "        ('clf', clf)],\n",
    "        \n",
    "    memory=memory)\n",
    "    \n",
    "    return full_pipe\n"
   ]
  },
  {
   "cell_type": "code",
   "execution_count": 46,
   "metadata": {
    "ExecuteTime": {
     "end_time": "2019-09-12T14:26:48.702777Z",
     "start_time": "2019-09-12T14:26:48.660663Z"
    }
   },
   "outputs": [
    {
     "name": "stderr",
     "output_type": "stream",
     "text": [
      "C:\\Users\\r2d4\\Anaconda3\\lib\\site-packages\\sklearn\\utils\\deprecation.py:66: DeprecationWarning: Class Memory is deprecated; deprecated in version 0.20.1 to be removed in version 0.23. Please import this functionality directly from joblib, which can be installed with: pip install joblib.\n",
      "  warnings.warn(msg, category=DeprecationWarning)\n"
     ]
    }
   ],
   "source": [
    "# Call the function and build the pipeline\n",
    "\n",
    "clf = LogisticRegression()\n",
    "sampler = SMOTENC(categorical_features=[0,3,4,5,6], n_jobs=-1)\n",
    "\n",
    "full_pipe = build_pipe(X, y, clf, sampler)"
   ]
  },
  {
   "cell_type": "code",
   "execution_count": 28,
   "metadata": {
    "ExecuteTime": {
     "end_time": "2019-09-12T12:20:12.630950Z",
     "start_time": "2019-09-12T12:20:12.614972Z"
    }
   },
   "outputs": [],
   "source": [
    "def fit_pipe(X_train, y_train, pipe, scorer, cv=StratifiedKFold(3)):\n",
    "    \"\"\"Fit training data to a pipeline with GridSearchCV\n",
    "    for best parameter tuning.\n",
    "    \n",
    "    Arguments:\n",
    "    ----------\n",
    "    - X_train: training features (df or array)\n",
    "    - y_train: training labels (df or array)\n",
    "    - pipe: pipeline (sk-learn pipeline object)\n",
    "    - scorer: evaluation metric for validation\n",
    "    - cv: type of CV, default is StratifiedKFold(3)\n",
    "        \n",
    "    RETURNS:\n",
    "    - grid: grid search object\n",
    "    - grid_results: dict with grid search results\n",
    "    \"\"\"\n",
    "    parameters = {'clf' : (GradientBoostingClassifier(n_estimators=200))),\n",
    "                          (GradientBoostingClassifier(n_estimators=200)),\n",
    "                          (SGDClassifier(loss='hinge', class_weight='balanced')),\n",
    "                          )}\n",
    "    \n",
    "    start = time.time()\n",
    "\n",
    "    cv = GridSearchCV(pipe, param_grid=parameters, scoring=scorer, n_jobs= -1, \n",
    "                      cv=cv, error_score='raise', return_train_score=False, verbose=1)\n",
    "\n",
    "    grid = cv.fit(X_train, y_train) \n",
    "    grid_results = grid.cv_results_\n",
    "\n",
    "    return grid, grid_results\n",
    "\n",
    "    # delete the temporary cache before exiting\n",
    "    rmtree(cachedir)\n",
    "\n",
    "    print('Duration: {} seconds'.format(time.time() - start))"
   ]
  },
  {
   "cell_type": "code",
   "execution_count": 29,
   "metadata": {
    "ExecuteTime": {
     "end_time": "2019-09-12T12:25:47.883227Z",
     "start_time": "2019-09-12T12:20:12.630950Z"
    }
   },
   "outputs": [
    {
     "name": "stdout",
     "output_type": "stream",
     "text": [
      "Fitting 3 folds for each of 3 candidates, totalling 9 fits\n"
     ]
    },
    {
     "name": "stderr",
     "output_type": "stream",
     "text": [
      "[Parallel(n_jobs=-1)]: Using backend LokyBackend with 4 concurrent workers.\n",
      "[Parallel(n_jobs=-1)]: Done   9 out of   9 | elapsed:  3.6min finished\n"
     ]
    },
    {
     "name": "stdout",
     "output_type": "stream",
     "text": [
      "________________________________________________________________________________\n",
      "[Memory] Calling imblearn.pipeline._fit_transform_one...\n",
      "_fit_transform_one(FeatureUnion(n_jobs=None,\n",
      "             transformer_list=[('cat',\n",
      "                                Pipeline(memory=None,\n",
      "                                         steps=[('cat_select',\n",
      "                                                 TypeSelector(dtype='category')),\n",
      "                                                ('ohe',\n",
      "                                                 OneHotEncoder(categorical_features=None,\n",
      "                                                               categories='auto',\n",
      "                                                               drop=None,\n",
      "                                                               dtype=<class 'numpy.float64'>,\n",
      "                                                               handle_unknown='error',\n",
      "                                                               n_values=None,\n",
      "                                                               sparse=True))],\n",
      "                                         verbose=False))],\n",
      "             transformer_weights=None, verbose=False), \n",
      "None,       V1         V2        V3 V4 V5 V6 V7\n",
      "0      2  30.443518 -1.165083  1  1  3  2\n",
      "1      3  32.159350 -0.645617  2  3  2  2\n",
      "2      2  30.431659  0.133583  1  1  4  2\n",
      "3      0  26.588914 -0.212728  2  1  4  2\n",
      "4      3  28.044332 -0.385883  1  1  2  2\n",
      "...   ..        ...       ... .. .. .. ..\n",
      "84529  1  30.084876  1.345672  1  1  3  1\n",
      "84530  3  33.501485 -0.299306  1  1  4  1\n",
      "84531  1  31.492019  1.085939  2  3  2  2\n",
      "84532  1  37.766106  0.999361  2  2  1  2\n",
      "84533  1  21.720835  1.085939  2  2  1  2\n",
      "\n",
      "[84534 rows x 7 columns], \n",
      "0        0\n",
      "1        0\n",
      "2        0\n",
      "3        0\n",
      "4        0\n",
      "        ..\n",
      "84529    0\n",
      "84530    0\n",
      "84531    0\n",
      "84532    0\n",
      "84533    0\n",
      "Name: purchase, Length: 84534, dtype: int64)\n",
      "________________________________________________fit_transform_one - 0.0s, 0.0min\n",
      "________________________________________________________________________________\n",
      "[Memory] Calling imblearn.pipeline._fit_resample_one...\n",
      "_fit_resample_one(SMOTENC(categorical_features=[0, 3, 4, 5, 6], k_neighbors=5, n_jobs=1,\n",
      "        random_state=None, sampling_strategy='auto'), \n",
      "<84534x16 sparse matrix of type '<class 'numpy.float64'>'\n",
      "\twith 422670 stored elements in Compressed Sparse Row format>, \n",
      "0        0\n",
      "1        0\n",
      "2        0\n",
      "3        0\n",
      "4        0\n",
      "        ..\n",
      "84529    0\n",
      "84530    0\n",
      "84531    0\n",
      "84532    0\n",
      "84533    0\n",
      "Name: purchase, Length: 84534, dtype: int64)\n",
      "________________________________________________fit_resample_one - 95.1s, 1.6min\n"
     ]
    }
   ],
   "source": [
    "# call the function\n",
    "\n",
    "scorer = make_scorer(fbeta_score, beta=4)\n",
    "cv = 3\n",
    "\n",
    "grid, grid_results = fit_pipe(X, y, full_pipe, scorer, cv=cv)"
   ]
  },
  {
   "cell_type": "code",
   "execution_count": 30,
   "metadata": {
    "ExecuteTime": {
     "end_time": "2019-09-12T12:25:47.898686Z",
     "start_time": "2019-09-12T12:25:47.883227Z"
    }
   },
   "outputs": [],
   "source": [
    "# Define function to create simplified dataframe with results\n",
    "\n",
    "def print_grid_results(grid_results, estimator_names):\n",
    "    \"\"\"Create simplified DataFrame with grid search results. Best suited\n",
    "    for comparision of different (baseline) models.\n",
    "    \n",
    "    Arguments:\n",
    "    ----------\n",
    "    - grid_results: dict with results of grid search\n",
    "    - estimator_names: list of strings with estimator short names\n",
    "            \n",
    "    Returns:\n",
    "    --------\n",
    "    - results: DataFrame with key metrics (test scores, time) for grid search    \n",
    "    \"\"\"\n",
    "    \n",
    "    results = pd.DataFrame(grid_results)# .sort_values('mean_test_score', ascending=False)\n",
    "    results['total_time'] = results['mean_score_time'] + results['mean_fit_time']\n",
    "    results = results[['param_clf', 'mean_test_score', 'std_test_score', \n",
    "                       'total_time', 'mean_fit_time', 'mean_score_time']]\n",
    "    results.index = estimator_names\n",
    "    \n",
    "    return results"
   ]
  },
  {
   "cell_type": "code",
   "execution_count": 31,
   "metadata": {
    "ExecuteTime": {
     "end_time": "2019-09-12T12:25:48.028382Z",
     "start_time": "2019-09-12T12:25:47.899190Z"
    }
   },
   "outputs": [
    {
     "data": {
      "text/html": [
       "<div>\n",
       "<style scoped>\n",
       "    .dataframe tbody tr th:only-of-type {\n",
       "        vertical-align: middle;\n",
       "    }\n",
       "\n",
       "    .dataframe tbody tr th {\n",
       "        vertical-align: top;\n",
       "    }\n",
       "\n",
       "    .dataframe thead th {\n",
       "        text-align: right;\n",
       "    }\n",
       "</style>\n",
       "<table border=\"1\" class=\"dataframe\">\n",
       "  <thead>\n",
       "    <tr style=\"text-align: right;\">\n",
       "      <th></th>\n",
       "      <th>param_clf</th>\n",
       "      <th>mean_test_score</th>\n",
       "      <th>std_test_score</th>\n",
       "      <th>total_time</th>\n",
       "      <th>mean_fit_time</th>\n",
       "      <th>mean_score_time</th>\n",
       "    </tr>\n",
       "  </thead>\n",
       "  <tbody>\n",
       "    <tr>\n",
       "      <td>LogReg</td>\n",
       "      <td>LogisticRegression(C=1.0, class_weight='balanc...</td>\n",
       "      <td>0.188854</td>\n",
       "      <td>0.002312</td>\n",
       "      <td>120.760333</td>\n",
       "      <td>120.720716</td>\n",
       "      <td>0.039617</td>\n",
       "    </tr>\n",
       "    <tr>\n",
       "      <td>GBC</td>\n",
       "      <td>([DecisionTreeRegressor(criterion='friedman_ms...</td>\n",
       "      <td>0.194483</td>\n",
       "      <td>0.003937</td>\n",
       "      <td>85.495153</td>\n",
       "      <td>85.301824</td>\n",
       "      <td>0.193329</td>\n",
       "    </tr>\n",
       "    <tr>\n",
       "      <td>SGD</td>\n",
       "      <td>SGDClassifier(alpha=0.0001, average=False, cla...</td>\n",
       "      <td>0.192120</td>\n",
       "      <td>0.003403</td>\n",
       "      <td>0.827629</td>\n",
       "      <td>0.784585</td>\n",
       "      <td>0.043044</td>\n",
       "    </tr>\n",
       "  </tbody>\n",
       "</table>\n",
       "</div>"
      ],
      "text/plain": [
       "                                                param_clf  mean_test_score  \\\n",
       "LogReg  LogisticRegression(C=1.0, class_weight='balanc...         0.188854   \n",
       "GBC     ([DecisionTreeRegressor(criterion='friedman_ms...         0.194483   \n",
       "SGD     SGDClassifier(alpha=0.0001, average=False, cla...         0.192120   \n",
       "\n",
       "        std_test_score  total_time  mean_fit_time  mean_score_time  \n",
       "LogReg        0.002312  120.760333     120.720716         0.039617  \n",
       "GBC           0.003937   85.495153      85.301824         0.193329  \n",
       "SGD           0.003403    0.827629       0.784585         0.043044  "
      ]
     },
     "execution_count": 31,
     "metadata": {},
     "output_type": "execute_result"
    }
   ],
   "source": [
    "# Call the function and display the results\n",
    "results = print_grid_results(grid_results, estimator_names=['LogReg', 'GBC', 'SGD'])\n",
    "results"
   ]
  },
  {
   "cell_type": "code",
   "execution_count": 32,
   "metadata": {
    "ExecuteTime": {
     "end_time": "2019-09-12T12:25:48.048355Z",
     "start_time": "2019-09-12T12:25:48.032377Z"
    }
   },
   "outputs": [],
   "source": [
    "# Define a function for plotting the main results of the model comparision\n",
    "\n",
    "def plot_grid_results(results):\n",
    "    \"\"\"Plot copmarision of test scores and run times for cross validated\n",
    "    models.\n",
    "       \n",
    "    Arguments:\n",
    "    ----------\n",
    "    - results: dataframe generated with 'compare_models' function.\n",
    "    \n",
    "    Returns:\n",
    "    --------\n",
    "    - none, plot with visual comparision of the results for grid search\n",
    "    \"\"\"\n",
    "    \n",
    "    data = results.sort_values(by='mean_test_score', ascending=False)\n",
    "    plt.figure(figsize=(18,6));\n",
    "    plt.subplot(1,2,1)\n",
    "    # plot the mean test scores\n",
    "    sns.barplot(x='mean_test_score', y=data.index, data=data, color=\"rebeccapurple\")\n",
    "    plt.xlabel(scorer);\n",
    "    plt.subplot(1,2,2)\n",
    "    # Plot the mean total time\n",
    "    sns.set_color_codes(\"pastel\")\n",
    "    sns.barplot(x=\"total_time\", y=data.index, data=data,\n",
    "        label=\"Total\", color=\"rebeccapurple\")\n",
    "    # Plot the mean fit time\n",
    "    sns.set_color_codes(\"muted\")\n",
    "    sns.barplot(x='mean_fit_time', y=data.index, data=data,\n",
    "        label=\"Fit\", color=\"yellow\")\n",
    "    plt.xlabel(\"Time for fitting (yellow) and scoring (purple)\");"
   ]
  },
  {
   "cell_type": "code",
   "execution_count": 33,
   "metadata": {
    "ExecuteTime": {
     "end_time": "2019-09-12T12:25:48.817186Z",
     "start_time": "2019-09-12T12:25:48.048355Z"
    }
   },
   "outputs": [
    {
     "data": {
      "image/png": "[encoded data removed]",
      "text/plain": [
       "<Figure size 1296x432 with 2 Axes>"
      ]
     },
     "metadata": {
      "needs_background": "light"
     },
     "output_type": "display_data"
    }
   ],
   "source": [
    "# Call the function and display the results\n",
    "plot_grid_results(results)"
   ]
  },
  {
   "cell_type": "code",
   "execution_count": 34,
   "metadata": {
    "ExecuteTime": {
     "end_time": "2019-09-12T12:25:48.837162Z",
     "start_time": "2019-09-12T12:25:48.817186Z"
    }
   },
   "outputs": [
    {
     "name": "stdout",
     "output_type": "stream",
     "text": [
      "Pipeline(memory=Memory(location=C:\\Users\\r2d4\\AppData\\Local\\Temp\\tmpmojlt9bn\\joblib),\n",
      "         steps=[('features',\n",
      "                 FeatureUnion(n_jobs=None,\n",
      "                              transformer_list=[('cat',\n",
      "                                                 Pipeline(memory=None,\n",
      "                                                          steps=[('cat_select',\n",
      "                                                                  TypeSelector(dtype='category')),\n",
      "                                                                 ('ohe',\n",
      "                                                                  OneHotEncoder(categorical_features=None,\n",
      "                                                                                categories='auto',\n",
      "                                                                                drop=None,\n",
      "                                                                                dtype=<class 'numpy.float64'>,\n",
      "                                                                                handle_unknown='er...\n",
      "                                            learning_rate=0.1, loss='deviance',\n",
      "                                            max_depth=3, max_features=None,\n",
      "                                            max_leaf_nodes=None,\n",
      "                                            min_impurity_decrease=0.0,\n",
      "                                            min_impurity_split=None,\n",
      "                                            min_samples_leaf=1,\n",
      "                                            min_samples_split=2,\n",
      "                                            min_weight_fraction_leaf=0.0,\n",
      "                                            n_estimators=200,\n",
      "                                            n_iter_no_change=None,\n",
      "                                            presort='auto', random_state=None,\n",
      "                                            subsample=1.0, tol=0.0001,\n",
      "                                            validation_fraction=0.1, verbose=0,\n",
      "                                            warm_start=False))],\n",
      "         verbose=False)\n"
     ]
    }
   ],
   "source": [
    "# Get the best estimator\n",
    "model = grid.best_estimator_\n",
    "print(model)"
   ]
  },
  {
   "cell_type": "markdown",
   "metadata": {},
   "source": [
    "## Model evaluation"
   ]
  },
  {
   "cell_type": "code",
   "execution_count": 35,
   "metadata": {
    "ExecuteTime": {
     "end_time": "2019-09-12T12:25:49.473018Z",
     "start_time": "2019-09-12T12:25:48.837162Z"
    }
   },
   "outputs": [
    {
     "name": "stdout",
     "output_type": "stream",
     "text": [
      "              precision    recall  f1-score   support\n",
      "\n",
      "           0       0.99      0.57      0.72     83494\n",
      "           1       0.02      0.65      0.04      1040\n",
      "\n",
      "    accuracy                           0.57     84534\n",
      "   macro avg       0.51      0.61      0.38     84534\n",
      "weighted avg       0.98      0.57      0.71     84534\n",
      "\n"
     ]
    }
   ],
   "source": [
    "y_pred = model.predict(X)\n",
    "print(classification_report(y, y_pred))"
   ]
  },
  {
   "cell_type": "code",
   "execution_count": 36,
   "metadata": {
    "ExecuteTime": {
     "end_time": "2019-09-12T12:25:49.488531Z",
     "start_time": "2019-09-12T12:25:49.473018Z"
    }
   },
   "outputs": [],
   "source": [
    "# Define a function to plot the confusion matric and some metrics\n",
    "\n",
    "def plot_confusion_matrix(y_test, test_preds):\n",
    "    \"\"\"Plot confusion matrix and print detailed metrics for evaluated\n",
    "    model.\"\"\"\n",
    "\n",
    "    conf_matrix = confusion_matrix(y_test, test_preds)\n",
    "    tn, fp, fn, tp = conf_matrix.ravel()\n",
    "\n",
    "    label_names = np.sort(y.unique())\n",
    "    sns.heatmap(conf_matrix.T, square=True, annot=True, fmt='d',\n",
    "                cbar=False, xticklabels=label_names,\n",
    "                yticklabels=label_names)\n",
    "    plt.xlabel('true label')\n",
    "    plt.ylabel('predicted label')\n",
    "\n",
    "    for value, name in {tp: \"True positives\",\n",
    "                        fp: \"False positives\",\n",
    "                        tn: \"True negatives\",\n",
    "                        fn: \"False negatives\",\n",
    "                        }.items():\n",
    "        print(\"{}: {} ({:.2f}%)\".format(name, value,\n",
    "                                        value / conf_matrix.sum() * 100))\n",
    "    print(\"\\nProportion of misclassified instances in total:\",\n",
    "          round((fp+fn) / (tp+fp+tn+fn), 2))\n",
    "    print(\"Typ I error (Number of items wrongly identified as \" +\n",
    "          \"positive out of total true negatives):\", round(fp/(tn+fp), 2))\n",
    "    print(\"Type II error (Number of items wrongly identified as \" +\n",
    "          \"negative out of total true positives):\", round(fn/(tp+fn), 2))"
   ]
  },
  {
   "cell_type": "code",
   "execution_count": 37,
   "metadata": {
    "ExecuteTime": {
     "end_time": "2019-09-12T12:25:49.908629Z",
     "start_time": "2019-09-12T12:25:49.490651Z"
    }
   },
   "outputs": [
    {
     "name": "stdout",
     "output_type": "stream",
     "text": [
      "True positives: 680 (0.80%)\n",
      "False positives: 36245 (42.88%)\n",
      "True negatives: 47249 (55.89%)\n",
      "False negatives: 360 (0.43%)\n",
      "\n",
      "Proportion of misclassified instances in total: 0.43\n",
      "Typ I error (Number of items wrongly identified as positive out of total true negatives): 0.43\n",
      "Type II error (Number of items wrongly identified as negative out of total true positives): 0.35\n"
     ]
    },
    {
     "data": {
      "image/png": "[encoded data removed]",
      "text/plain": [
       "<Figure size 432x288 with 1 Axes>"
      ]
     },
     "metadata": {
      "needs_background": "light"
     },
     "output_type": "display_data"
    }
   ],
   "source": [
    "plot_confusion_matrix(y, y_pred)"
   ]
  },
  {
   "cell_type": "code",
   "execution_count": 38,
   "metadata": {
    "ExecuteTime": {
     "end_time": "2019-09-12T12:25:50.037863Z",
     "start_time": "2019-09-12T12:25:49.908629Z"
    }
   },
   "outputs": [
    {
     "name": "stdout",
     "output_type": "stream",
     "text": [
      "[[47249 36245]\n",
      " [  360   680]]\n"
     ]
    }
   ],
   "source": [
    "print(confusion_matrix(y, y_pred))"
   ]
  },
  {
   "cell_type": "markdown",
   "metadata": {},
   "source": [
    "### Tuning with Precision-Recall-Curve\n",
    "\n",
    "One of the best methods for tuning a model for a _business need_ is through the precision recall curve. This shows the precision-recall tradeoff for different thresholds. Depending on the business requirement, we can change the threshold for classifying a positive example to alter the balance of true positives, false positives, false negatives, and true negatives. There will always be a tradeoff between precision and recall, but we can try to find the right balance by visually and quantitatively assessing the model. ([Source](https://github.com/Featuretools/predict-customer-churn/blob/master/churn/5.%20Modeling.ipynb))\n",
    "\n",
    "- **precision**: true positives / (true positives + false positives) - how many of my model's identified positives are correct\n",
    "- **recall (sensivity)**: true positives / (true positives + false negatives) - how many of the positives are correctly identified as positive\n",
    "\n",
    "Examples:\n",
    "- for a model where false positives acceptable, false negatives not acceptable (medical model): high recall\n",
    "- for a model where false positives not acceptable, false negatives acceptable (spam filter): high precision\n",
    "\n",
    "\n",
    "As in our case we should should not send to FALSE NEGATIVES have false positives (buyer  false positives are quite costly we should aim for a high precision but this will be very tricky given the data an problem we have."
   ]
  },
  {
   "cell_type": "code",
   "execution_count": 73,
   "metadata": {
    "ExecuteTime": {
     "end_time": "2019-09-12T13:09:27.013073Z",
     "start_time": "2019-09-12T13:09:26.955673Z"
    }
   },
   "outputs": [],
   "source": [
    "# Define a function for returning precision and recall\n",
    "\n",
    "def return_precision_recall(y_test, probs, threshold_recall=None, figsize=(12,6)):\n",
    "    \"\"\"Plot a precision recall curve for predictions. \n",
    "        \n",
    "    Arguments:\n",
    "    ----------\n",
    "    - y_test: 1D-array, actual labels of test set\n",
    "    - probs: 2D-array, probabilities for negative and positive outcome\n",
    "        for predicted labels\n",
    "    - threshold_recall: float, proportion of actual positive class to\n",
    "        be identified by the model (default=None)\n",
    "    - figsize: tuple, size of the plot (default=(12,6))\n",
    "\n",
    "    Returns:\n",
    "    --------\n",
    "    - prec_recall_df: dataframe, with precicion and recall for different \n",
    "        thresholds\n",
    "    - [None, plot of precision-recall curve with fancy annotation for\n",
    "        recall threshold if selected]\n",
    "    \n",
    "    \n",
    "    Heavily inspired by: \n",
    "    https://github.com/Featuretools/predict-customer-churn/blob/master/churn/5.%20Modeling.ipynb\n",
    "    \"\"\"\n",
    "\n",
    "    precision, recall, threshold = precision_recall_curve(y_test, \n",
    "                                                          probs[:,1])\n",
    "    \n",
    "    # Plot precision-recall curve\n",
    "    plt.figure(figsize=figsize)\n",
    "    plt.plot(recall, precision, color=color)\n",
    "    plt.fill_between(recall, precision, alpha=0.2, color=color)\n",
    "    plt.title(\"Precision-Recall Curve\", size=20)\n",
    "    plt.xlabel('Recall', size=14)\n",
    "    plt.ylabel('Precision', size=14)\n",
    "    plt.ylim([0.0, 1.05])\n",
    "    plt.xlim([0.0, 1.0])\n",
    "    plt.xticks(size=12)\n",
    "    plt.yticks(size=12)\n",
    "\n",
    "    # Add annotation for recall-threshold\n",
    "    if threshold_recall:\n",
    "        p = precision[np.where(threshold == threshold_recall)[0]]\n",
    "        r = recall[np.where(threshold == threshold_recall)[0]]\n",
    "        plt.scatter(r, p, marker='*', s=600, c='r')\n",
    "        plt.vlines(r, ymin=0, ymax=p, linestyles='--')\n",
    "        plt.hlines(p, xmin=0, xmax=r, linestyles='--')\n",
    "        plt.text(r - 0.1, p + 0.15,\n",
    "                 s=f'Threshold: {round(threshold_recall, 2)}', \n",
    "                 size=20, \n",
    "                 fontdict={'weight': 1000})\n",
    "        plt.text(r - 0.2, p + 0.075,\n",
    "                 s=f'Precision: {round(100 * p[0], 2)}% Recall: \\\n",
    "                                {round(100 * r[0], 2)}%',\n",
    "                 size=20,\n",
    "                 fontdict={'weight': 1000})\n",
    "\n",
    "    prec_recall_df = pd.DataFrame({'precision': precision[:-1], \n",
    "                                   'recall': recall[:-1],\n",
    "                                   'threshold': threshold})\n",
    "    return prec_recall_df"
   ]
  },
  {
   "cell_type": "code",
   "execution_count": 75,
   "metadata": {
    "ExecuteTime": {
     "end_time": "2019-09-12T13:09:41.072696Z",
     "start_time": "2019-09-12T13:09:40.421445Z"
    }
   },
   "outputs": [
    {
     "data": {
      "image/png": "[encoded data removed]",
      "text/plain": [
       "<Figure size 864x432 with 1 Axes>"
      ]
     },
     "metadata": {
      "needs_background": "light"
     },
     "output_type": "display_data"
    }
   ],
   "source": [
    "probs = model.predict_proba(X)\n",
    "prec_recall_df = return_precision_recall(y, probs, threshold_recall=None)"
   ]
  },
  {
   "cell_type": "markdown",
   "metadata": {},
   "source": [
    "We can query the precision-recall-dataframe to find the threshold required for a given precision or recall. For example, to find the threshold for a precision of 25%, we use the following code:"
   ]
  },
  {
   "cell_type": "markdown",
   "metadata": {},
   "source": [
    "## Apply Strategy, Evaluate IRR and NIR"
   ]
  },
  {
   "cell_type": "code",
   "execution_count": 39,
   "metadata": {
    "ExecuteTime": {
     "end_time": "2019-09-12T12:25:50.049845Z",
     "start_time": "2019-09-12T12:25:50.037863Z"
    }
   },
   "outputs": [],
   "source": [
    "# Define a function for returning the predictions\n",
    "\n",
    "def apply_strategy(X):\n",
    "    '''\n",
    "    Arguments:\n",
    "    ----------\n",
    "    - X: Training data (Dataframe) with columns V1 - V7 only\n",
    "\n",
    "    Returns:\n",
    "    --------\n",
    "    - promotion: np.array with the values 'Yes' or 'No' related \n",
    "        to whether or not an individual should recieve a promotion\n",
    "    '''\n",
    "    \n",
    "    y_pred = list(model.predict(X))\n",
    "    promotion = ['Yes' if x == 1 else 'No' for x in y_pred]\n",
    "    promotion = np.array(promotion)\n",
    "    \n",
    "    return promotion"
   ]
  },
  {
   "cell_type": "code",
   "execution_count": 40,
   "metadata": {
    "ExecuteTime": {
     "end_time": "2019-09-12T12:25:50.632954Z",
     "start_time": "2019-09-12T12:25:50.053842Z"
    }
   },
   "outputs": [
    {
     "name": "stdout",
     "output_type": "stream",
     "text": [
      "['No' 'Yes' 'No' ... 'Yes' 'Yes' 'Yes']\n"
     ]
    }
   ],
   "source": [
    "# Call function and check results\n",
    "promotion_strategy = apply_strategy(X)\n",
    "print(promotion_strategy)"
   ]
  },
  {
   "cell_type": "code",
   "execution_count": 41,
   "metadata": {
    "ExecuteTime": {
     "end_time": "2019-09-12T12:25:50.648336Z",
     "start_time": "2019-09-12T12:25:50.632954Z"
    }
   },
   "outputs": [],
   "source": [
    "# Define evaluation functions to predict on test set and display performance in comparision to benchmark\n",
    "\n",
    "def calc_score(df, promo_pred_col = 'Promotion'):\n",
    "    n_treat       = df.loc[df[promo_pred_col] == 'Yes',:].shape[0]\n",
    "    n_control     = df.loc[df[promo_pred_col] == 'No',:].shape[0]\n",
    "    n_treat_purch = df.loc[df[promo_pred_col] == 'Yes', 'purchase'].sum()\n",
    "    n_ctrl_purch  = df.loc[df[promo_pred_col] == 'No', 'purchase'].sum()\n",
    "    irr = n_treat_purch / n_treat - n_ctrl_purch / n_control\n",
    "    nir = 10 * n_treat_purch - 0.15 * n_treat - 10 * n_ctrl_purch\n",
    "    \n",
    "    return (irr, nir)\n",
    "\n",
    "def test_results(promotion_strategy):\n",
    "    test_data = pd.read_csv('data/Test.csv')\n",
    "    df = test_data[['V1', 'V2', 'V3', 'V4', 'V5', 'V6', 'V7']]\n",
    "    df = cleaning.change_dtypes(df, cols_to_category=['V1', 'V4', 'V5', 'V6', 'V7'])\n",
    "    promos = apply_strategy(df)\n",
    "    score_df = test_data.iloc[np.where(promos == 'Yes')]    \n",
    "    irr, nir = calc_score(score_df)\n",
    "    \n",
    "    print(\"Nice job!  See how well your strategy worked on our test data below!\")\n",
    "    print('\\nYour irr with this strategy is {:0.4f}.'.format(irr))\n",
    "    print('\\nYour nir with this strategy is {:0.2f}.'.format(nir))\n",
    "    print(\"\\nWe came up with a model with an irr of {} and an nir of {} \" \\\n",
    "    \"on the test set.\\n\\n How did you do?\".format(0.0188, 189.45))\n",
    "    \n",
    "    return irr, nir"
   ]
  },
  {
   "cell_type": "code",
   "execution_count": 42,
   "metadata": {
    "ExecuteTime": {
     "end_time": "2019-09-12T12:25:51.031774Z",
     "start_time": "2019-09-12T12:25:50.651629Z"
    }
   },
   "outputs": [
    {
     "name": "stdout",
     "output_type": "stream",
     "text": [
      "Nice job!  See how well your strategy worked on our test data below!\n",
      "\n",
      "Your irr with this strategy is 0.0181.\n",
      "\n",
      "Your nir with this strategy is 260.60.\n",
      "\n",
      "We came up with a model with an irr of 0.0188 and an nir of 189.45 on the test set.\n",
      "\n",
      " How did you do?\n"
     ]
    },
    {
     "data": {
      "text/plain": [
       "(0.01805796415425048, 260.60000000000014)"
      ]
     },
     "execution_count": 42,
     "metadata": {},
     "output_type": "execute_result"
    }
   ],
   "source": [
    "# Call function and evaluate performance\n",
    "test_results(promotion_strategy)"
   ]
  },
  {
   "cell_type": "markdown",
   "metadata": {},
   "source": [
    "---"
   ]
  }
 ],
 "metadata": {
  "hide_input": false,
  "kernelspec": {
   "display_name": "Python 3",
   "language": "python",
   "name": "python3"
  },
  "language_info": {
   "codemirror_mode": {
    "name": "ipython",
    "version": 3
   },
   "file_extension": ".py",
   "mimetype": "text/x-python",
   "name": "python",
   "nbconvert_exporter": "python",
   "pygments_lexer": "ipython3",
   "version": "3.7.4"
  },
  "toc": {
   "base_numbering": 1,
   "nav_menu": {},
   "number_sections": true,
   "sideBar": false,
   "skip_h1_title": true,
   "title_cell": "Table of Contents",
   "title_sidebar": "Contents",
   "toc_cell": true,
   "toc_position": {},
   "toc_section_display": true,
   "toc_window_display": false
  }
 },
 "nbformat": 4,
 "nbformat_minor": 2
}
