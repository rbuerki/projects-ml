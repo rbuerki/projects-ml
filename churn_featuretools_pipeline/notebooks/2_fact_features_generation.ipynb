{
 "cells": [
  {
   "cell_type": "markdown",
   "metadata": {
    "toc": true
   },
   "source": [
    "<h1>Table of Contents<span class=\"tocSkip\"></span></h1>\n",
    "<div class=\"toc\"><ul class=\"toc-item\"><li><span><a href=\"#Load-sample-dates-and-population\" data-toc-modified-id=\"Load-sample-dates-and-population-1\"><span class=\"toc-item-num\">1&nbsp;&nbsp;</span>Load sample dates and population</a></span></li><li><span><a href=\"#Load-Fact-Data\" data-toc-modified-id=\"Load-Fact-Data-2\"><span class=\"toc-item-num\">2&nbsp;&nbsp;</span>Load Fact Data</a></span></li><li><span><a href=\"#Create-Feature-Sets\" data-toc-modified-id=\"Create-Feature-Sets-3\"><span class=\"toc-item-num\">3&nbsp;&nbsp;</span>Create Feature Sets</a></span></li><li><span><a href=\"#Test-FeatureTool-Related-Functions\" data-toc-modified-id=\"Test-FeatureTool-Related-Functions-4\"><span class=\"toc-item-num\">4&nbsp;&nbsp;</span>Test FeatureTool Related Functions</a></span><ul class=\"toc-item\"><li><span><a href=\"#Create-Entity-and-Feature-Set\" data-toc-modified-id=\"Create-Entity-and-Feature-Set-4.1\"><span class=\"toc-item-num\">4.1&nbsp;&nbsp;</span>Create Entity and Feature Set</a></span></li></ul></li><li><span><a href=\"#Put-everything-together:-main()\" data-toc-modified-id=\"Put-everything-together:-main()-5\"><span class=\"toc-item-num\">5&nbsp;&nbsp;</span>Put everything together: main()</a></span></li><li><span><a href=\"#Appendix\" data-toc-modified-id=\"Appendix-6\"><span class=\"toc-item-num\">6&nbsp;&nbsp;</span>Appendix</a></span><ul class=\"toc-item\"><li><span><a href=\"#Documentation-Reduced-Feature-Set\" data-toc-modified-id=\"Documentation-Reduced-Feature-Set-6.1\"><span class=\"toc-item-num\">6.1&nbsp;&nbsp;</span>Documentation Reduced Feature Set</a></span></li><li><span><a href=\"#Documentation-NaN-Handling\" data-toc-modified-id=\"Documentation-NaN-Handling-6.2\"><span class=\"toc-item-num\">6.2&nbsp;&nbsp;</span>Documentation NaN Handling</a></span></li></ul></li></ul></div>"
   ]
  },
  {
   "cell_type": "markdown",
   "metadata": {},
   "source": [
    "<div class='alert alert-block alert-info'>\n",
    "<b>Note:</b> This nb is for testing of the final pipeline for generating a full \"fact feature\" set using feature tools (based on insights from nb 1)\n",
    "</div>\n"
   ]
  },
  {
   "cell_type": "code",
   "execution_count": 1,
   "metadata": {
    "ExecuteTime": {
     "end_time": "2021-05-20T07:48:55.518029Z",
     "start_time": "2021-05-20T07:48:41.785553Z"
    }
   },
   "outputs": [],
   "source": [
    "import sys\n",
    "from datetime import date, datetime, timedelta\n",
    "from pathlib import Path\n",
    "\n",
    "import bcag\n",
    "import featuretools as ft\n",
    "import numpy as np\n",
    "import pandas as pd\n",
    "import matplotlib.pyplot as plt\n",
    "import seaborn as sns\n",
    "from bcag.sql_utils import execute_sql_query\n",
    "from sqlalchemy.engine.base import Engine"
   ]
  },
  {
   "cell_type": "code",
   "execution_count": 3,
   "metadata": {
    "ExecuteTime": {
     "end_time": "2021-05-20T07:48:58.578384Z",
     "start_time": "2021-05-20T07:48:58.480907Z"
    }
   },
   "outputs": [],
   "source": [
    "sys.path.append(str(Path.cwd().parent))\n",
    "from churn21.data import dates as utils_dt, load as utils_ld, fact_features as utils_ff"
   ]
  },
  {
   "cell_type": "code",
   "execution_count": 4,
   "metadata": {
    "ExecuteTime": {
     "end_time": "2021-05-20T07:49:10.935178Z",
     "start_time": "2021-05-20T07:49:10.919181Z"
    }
   },
   "outputs": [
    {
     "name": "stdout",
     "output_type": "stream",
     "text": [
      "The autoreload extension is already loaded. To reload it, use:\n",
      "  %reload_ext autoreload\n"
     ]
    }
   ],
   "source": [
    "%load_ext autoreload\n",
    "%autoreload 1\n",
    "\n",
    "%matplotlib inline\n",
    "\n",
    "from IPython.core.interactiveshell import InteractiveShell\n",
    "InteractiveShell.ast_node_interactivity = 'all'\n",
    "\n",
    "pd.options.display.float_format = '{:,.2f}'.format\n",
    "pd.set_option('display.max_columns', 30)\n",
    "pd.set_option('display.expand_frame_repr', False)\n",
    "pd.set_option('max_colwidth', 800)\n",
    "\n",
    "np.random.seed(666)"
   ]
  },
  {
   "cell_type": "code",
   "execution_count": 5,
   "metadata": {
    "ExecuteTime": {
     "end_time": "2021-05-20T07:49:16.590831Z",
     "start_time": "2021-05-20T07:49:16.584833Z"
    }
   },
   "outputs": [
    {
     "name": "stdout",
     "output_type": "stream",
     "text": [
      "W:\\conda-environments\\churn21\\python.exe\n",
      "3.9.4 (default, Apr  9 2021, 11:43:21) [MSC v.1916 64 bit (AMD64)]\n",
      "Pandas 1.2.4\n"
     ]
    }
   ],
   "source": [
    "print(sys.executable)\n",
    "print(sys.version)\n",
    "print(f'Pandas {pd.__version__}')"
   ]
  },
  {
   "cell_type": "code",
   "execution_count": 6,
   "metadata": {
    "ExecuteTime": {
     "end_time": "2021-05-20T07:49:18.745566Z",
     "start_time": "2021-05-20T07:49:18.516849Z"
    }
   },
   "outputs": [],
   "source": [
    "engine = bcag.connect(\"jemas\", \"prod\", \"jemas_temp\")"
   ]
  },
  {
   "cell_type": "markdown",
   "metadata": {},
   "source": [
    "## Load sample dates and population"
   ]
  },
  {
   "cell_type": "code",
   "execution_count": 7,
   "metadata": {
    "ExecuteTime": {
     "end_time": "2021-05-20T07:49:21.028424Z",
     "start_time": "2021-05-20T07:49:21.013424Z"
    }
   },
   "outputs": [
    {
     "data": {
      "text/plain": [
       "[{'dt_cut_off': datetime.date(2020, 7, 31),\n",
       "  'dt_obs_first_considered': datetime.date(2019, 7, 1),\n",
       "  'dt_label_last_considered': datetime.date(2020, 10, 31)},\n",
       " {'dt_cut_off': datetime.date(2020, 8, 31),\n",
       "  'dt_obs_first_considered': datetime.date(2019, 8, 1),\n",
       "  'dt_label_last_considered': datetime.date(2020, 11, 30)},\n",
       " {'dt_cut_off': datetime.date(2020, 9, 30),\n",
       "  'dt_obs_first_considered': datetime.date(2019, 9, 1),\n",
       "  'dt_label_last_considered': datetime.date(2020, 12, 31)},\n",
       " {'dt_cut_off': datetime.date(2020, 10, 31),\n",
       "  'dt_obs_first_considered': datetime.date(2019, 10, 1),\n",
       "  'dt_label_last_considered': datetime.date(2021, 1, 31)}]"
      ]
     },
     "execution_count": 7,
     "metadata": {},
     "output_type": "execute_result"
    }
   ],
   "source": [
    "dt_params = dict({\n",
    "    \"last_cut_off_date_train\": date(2020, 10, 31),\n",
    "    \"first_cut_off_date_train\": date(2020, 7, 31),\n",
    "    \"lookback_period_months\": 13,\n",
    "    \"label_period_months\": 3,\n",
    "    \"n_months_considered_training\": 6\n",
    "})\n",
    "\n",
    "l_dates_train, l_dates_test = utils_dt.create_dateinfo(dt_params)\n",
    "\n",
    "# Check dates for first training cohort\n",
    "l_dates_train"
   ]
  },
  {
   "cell_type": "code",
   "execution_count": 8,
   "metadata": {
    "ExecuteTime": {
     "end_time": "2021-05-20T07:49:21.840908Z",
     "start_time": "2021-05-20T07:49:21.836908Z"
    }
   },
   "outputs": [],
   "source": [
    "first_date = l_dates_train[0][\"dt_obs_first_considered\"]\n",
    "cut_off_date = l_dates_train[0][\"dt_cut_off\"]"
   ]
  },
  {
   "cell_type": "code",
   "execution_count": 9,
   "metadata": {
    "ExecuteTime": {
     "end_time": "2021-05-20T07:49:29.837263Z",
     "start_time": "2021-05-20T07:49:27.778799Z"
    }
   },
   "outputs": [
    {
     "data": {
      "text/plain": [
       "(134017, 1)"
      ]
     },
     "execution_count": 9,
     "metadata": {},
     "output_type": "execute_result"
    },
    {
     "data": {
      "text/html": [
       "<div>\n",
       "<style scoped>\n",
       "    .dataframe tbody tr th:only-of-type {\n",
       "        vertical-align: middle;\n",
       "    }\n",
       "\n",
       "    .dataframe tbody tr th {\n",
       "        vertical-align: top;\n",
       "    }\n",
       "\n",
       "    .dataframe thead th {\n",
       "        text-align: right;\n",
       "    }\n",
       "</style>\n",
       "<table border=\"1\" class=\"dataframe\">\n",
       "  <thead>\n",
       "    <tr style=\"text-align: right;\">\n",
       "      <th></th>\n",
       "      <th>konto_lauf_id</th>\n",
       "    </tr>\n",
       "  </thead>\n",
       "  <tbody>\n",
       "    <tr>\n",
       "      <th>0</th>\n",
       "      <td>51</td>\n",
       "    </tr>\n",
       "    <tr>\n",
       "      <th>1</th>\n",
       "      <td>129</td>\n",
       "    </tr>\n",
       "    <tr>\n",
       "      <th>2</th>\n",
       "      <td>157</td>\n",
       "    </tr>\n",
       "    <tr>\n",
       "      <th>3</th>\n",
       "      <td>235</td>\n",
       "    </tr>\n",
       "    <tr>\n",
       "      <th>4</th>\n",
       "      <td>503</td>\n",
       "    </tr>\n",
       "  </tbody>\n",
       "</table>\n",
       "</div>"
      ],
      "text/plain": [
       "   konto_lauf_id\n",
       "0             51\n",
       "1            129\n",
       "2            157\n",
       "3            235\n",
       "4            503"
      ]
     },
     "execution_count": 9,
     "metadata": {},
     "output_type": "execute_result"
    }
   ],
   "source": [
    "df_population = utils_ld.load_population(engine)\n",
    "df_population = utils_ld.filter_population(df_population, cut_off_date)\n",
    "\n",
    "assert df_population.duplicated().sum() == 0\n",
    "\n",
    "df_population.shape\n",
    "df_population.head()"
   ]
  },
  {
   "cell_type": "markdown",
   "metadata": {},
   "source": [
    "## Load Fact Data"
   ]
  },
  {
   "cell_type": "code",
   "execution_count": 14,
   "metadata": {
    "ExecuteTime": {
     "end_time": "2021-05-20T07:53:16.215832Z",
     "start_time": "2021-05-20T07:50:37.907917Z"
    }
   },
   "outputs": [],
   "source": [
    "df_sales_fact = utils_ff.load_sales_fact(cut_off_date, first_date, engine)"
   ]
  },
  {
   "cell_type": "code",
   "execution_count": 15,
   "metadata": {
    "ExecuteTime": {
     "end_time": "2021-05-20T07:55:23.190067Z",
     "start_time": "2021-05-20T07:53:16.215832Z"
    }
   },
   "outputs": [],
   "source": [
    "df_fees_fact = utils_ff.load_fees_fact(cut_off_date, first_date, engine)"
   ]
  },
  {
   "cell_type": "code",
   "execution_count": 17,
   "metadata": {
    "ExecuteTime": {
     "end_time": "2021-05-20T07:55:33.011837Z",
     "start_time": "2021-05-20T07:55:32.885108Z"
    }
   },
   "outputs": [],
   "source": [
    "# Safety check - should be roughly one week later than cut_off_date\n",
    "\n",
    "assert df_sales_fact[\"kauf_datum\"].max() > cut_off_date\n",
    "assert df_fees_fact[\"kauf_datum\"].max() > cut_off_date"
   ]
  },
  {
   "cell_type": "code",
   "execution_count": 29,
   "metadata": {
    "ExecuteTime": {
     "end_time": "2021-05-20T08:04:28.901513Z",
     "start_time": "2021-05-20T08:04:28.897520Z"
    }
   },
   "outputs": [],
   "source": [
    "# # Save to parquet file for faster testing\n",
    "\n",
    "# rel_path = 'test_data_raph'\n",
    "# if not Path(rel_path).exists():\n",
    "#     Path(rel_path).mkdir()\n",
    "    \n",
    "# df_sales_fact.to_parquet(Path(rel_path) / \"df_sales_fact\", index=False)\n",
    "# df_fees_fact.to_parquet(Path(rel_path) / \"df_fees_fact\", index=False)"
   ]
  },
  {
   "cell_type": "markdown",
   "metadata": {
    "ExecuteTime": {
     "end_time": "2021-05-20T07:57:43.564865Z",
     "start_time": "2021-05-20T07:57:43.550855Z"
    }
   },
   "source": [
    "## Create Feature Sets"
   ]
  },
  {
   "cell_type": "code",
   "execution_count": 21,
   "metadata": {
    "ExecuteTime": {
     "end_time": "2021-05-20T08:02:41.311977Z",
     "start_time": "2021-05-20T08:02:37.972770Z"
    }
   },
   "outputs": [],
   "source": [
    "df_sales_fact_red = utils_ff.fit_fact_df_to_population(df_sales_fact, df_population)\n",
    "sales_first, sales_12m, sales_last = utils_ff.split_fact_df_into_3_periods(df_sales_fact_red, cut_off_date, first_date)"
   ]
  },
  {
   "cell_type": "code",
   "execution_count": 24,
   "metadata": {
    "ExecuteTime": {
     "end_time": "2021-05-20T08:03:17.359509Z",
     "start_time": "2021-05-20T08:03:17.215802Z"
    }
   },
   "outputs": [
    {
     "name": "stdout",
     "output_type": "stream",
     "text": [
      "(965194, 7) 2019-07-01 2019-07-31\n",
      "(10372554, 7) 2019-08-01 2020-07-31\n",
      "(1014821, 7) 2020-07-01 2020-07-31\n"
     ]
    }
   ],
   "source": [
    "# Check results \n",
    "for df in [sales_first, sales_12m, sales_last]:\n",
    "    print(df.shape, df[\"kauf_datum\"].min().date(), df[\"kauf_datum\"].max().date())"
   ]
  },
  {
   "cell_type": "code",
   "execution_count": 26,
   "metadata": {
    "ExecuteTime": {
     "end_time": "2021-05-20T08:03:54.044348Z",
     "start_time": "2021-05-20T08:03:51.514566Z"
    }
   },
   "outputs": [],
   "source": [
    "df_fees_fact_red = utils_ff.fit_fact_df_to_population(df_fees_fact, df_population)\n",
    "fees_first, fees_12m, fees_last = utils_ff.split_fact_df_into_3_periods(df_fees_fact_red, cut_off_date, first_date)"
   ]
  },
  {
   "cell_type": "code",
   "execution_count": 30,
   "metadata": {
    "ExecuteTime": {
     "end_time": "2021-05-20T08:04:54.379244Z",
     "start_time": "2021-05-20T08:04:54.251019Z"
    },
    "scrolled": true
   },
   "outputs": [
    {
     "name": "stdout",
     "output_type": "stream",
     "text": [
      "(1018401, 5) 2019-07-01 2019-07-31\n",
      "(9281148, 5) 2019-08-01 2020-07-31\n",
      "(831163, 5) 2020-07-01 2020-07-31\n"
     ]
    }
   ],
   "source": [
    "# Check results \n",
    "for df in [fees_first, fees_12m, fees_last]:\n",
    "    print(df.shape, df[\"kauf_datum\"].min().date(), df[\"kauf_datum\"].max().date())"
   ]
  },
  {
   "cell_type": "markdown",
   "metadata": {
    "ExecuteTime": {
     "end_time": "2021-05-18T08:19:40.174434Z",
     "start_time": "2021-05-18T08:19:40.168437Z"
    }
   },
   "source": [
    "## Test FeatureTool Related Functions\n",
    "\n",
    "### Create Entity and Feature Set"
   ]
  },
  {
   "cell_type": "code",
   "execution_count": 77,
   "metadata": {
    "ExecuteTime": {
     "end_time": "2021-05-20T09:56:24.708532Z",
     "start_time": "2021-05-20T09:56:24.669537Z"
    }
   },
   "outputs": [],
   "source": [
    "%aimport churn21.data.fact_features"
   ]
  },
  {
   "cell_type": "code",
   "execution_count": 40,
   "metadata": {
    "ExecuteTime": {
     "end_time": "2021-05-20T08:25:20.204152Z",
     "start_time": "2021-05-20T08:24:48.502166Z"
    }
   },
   "outputs": [],
   "source": [
    "es_first = utils_ff.create_entity_set_ft(df_population, sales_first, fees_first)\n",
    "es_12m = utils_ff.create_entity_set_ft(df_population, sales_12m, fees_12m )\n",
    "es_last = utils_ff.create_entity_set_ft(df_population, sales_last, fees_last)"
   ]
  },
  {
   "cell_type": "code",
   "execution_count": 41,
   "metadata": {
    "ExecuteTime": {
     "end_time": "2021-05-20T08:27:13.602594Z",
     "start_time": "2021-05-20T08:26:00.228780Z"
    }
   },
   "outputs": [
    {
     "name": "stdout",
     "output_type": "stream",
     "text": [
      "Built 12 features\n",
      "EntitySet scattered to 8 workers in 33 seconds\n",
      "Elapsed: 00:29 | Progress: 100%|██████████\n"
     ]
    }
   ],
   "source": [
    "feature_matrix_first, _ = utils_ff.create_ft_matrix_and_defs_reduced(es_first, cut_off_date, n_jobs=-1)"
   ]
  },
  {
   "cell_type": "code",
   "execution_count": 43,
   "metadata": {
    "ExecuteTime": {
     "end_time": "2021-05-20T08:39:57.563568Z",
     "start_time": "2021-05-20T08:38:21.597501Z"
    }
   },
   "outputs": [
    {
     "name": "stdout",
     "output_type": "stream",
     "text": [
      "Built 12 features\n",
      "EntitySet scattered to 8 workers in 57 seconds\n",
      "Elapsed: 00:28 | Progress: 100%|██████████\n"
     ]
    }
   ],
   "source": [
    "feature_matrix_last, _ = utils_ff.create_ft_matrix_and_defs_reduced(es_last, cut_off_date, n_jobs=-1)"
   ]
  },
  {
   "cell_type": "code",
   "execution_count": 44,
   "metadata": {
    "ExecuteTime": {
     "end_time": "2021-05-20T08:40:01.459507Z",
     "start_time": "2021-05-20T08:40:01.451508Z"
    }
   },
   "outputs": [],
   "source": [
    "# Safety check\n",
    "assert feature_matrix_first.shape == feature_matrix_last.shape"
   ]
  },
  {
   "cell_type": "code",
   "execution_count": 98,
   "metadata": {
    "ExecuteTime": {
     "end_time": "2021-05-20T14:50:41.701553Z",
     "start_time": "2021-05-20T14:10:08.088135Z"
    }
   },
   "outputs": [
    {
     "name": "stdout",
     "output_type": "stream",
     "text": [
      "Built 46 features\n",
      "Elapsed: 40:33 | Progress: 100%|██████████\n"
     ]
    }
   ],
   "source": [
    "feature_matrix_12m, _ = utils_ff.create_ft_matrix_and_defs_full(es_12m, cut_off_date, n_jobs=1)"
   ]
  },
  {
   "cell_type": "code",
   "execution_count": 99,
   "metadata": {
    "ExecuteTime": {
     "end_time": "2021-05-20T14:52:11.847715Z",
     "start_time": "2021-05-20T14:52:11.829719Z"
    }
   },
   "outputs": [
    {
     "data": {
      "text/plain": [
       "(134017, 46)"
      ]
     },
     "execution_count": 99,
     "metadata": {},
     "output_type": "execute_result"
    }
   ],
   "source": [
    "# Safety Copy\n",
    "feature_matrix_12m.to_csv(\"fm_12m.csv\", index=True)\n",
    "\n",
    "# Check result\n",
    "feature_matrix_12m.shape"
   ]
  },
  {
   "cell_type": "code",
   "execution_count": 109,
   "metadata": {
    "ExecuteTime": {
     "end_time": "2021-05-20T15:44:45.216291Z",
     "start_time": "2021-05-20T15:44:45.046701Z"
    }
   },
   "outputs": [],
   "source": [
    "# Handle Missing Values\n",
    "\n",
    "fm_12m = utils_ff.impute_missing_values_full(feature_matrix_12m)\n",
    "fm_first = utils_ff.impute_missing_values_reduced(feature_matrix_first)\n",
    "fm_last = utils_ff.impute_missing_values_reduced(feature_matrix_last)"
   ]
  },
  {
   "cell_type": "code",
   "execution_count": 111,
   "metadata": {
    "ExecuteTime": {
     "end_time": "2021-05-20T15:46:36.434859Z",
     "start_time": "2021-05-20T15:46:36.383860Z"
    }
   },
   "outputs": [
    {
     "data": {
      "text/plain": [
       "['MODE(sales_fact.mcg_id)',\n",
       " 'MODE(sales_fact.transaction_type_id)',\n",
       " 'MODE(sales_fact.transaktionsart_id_korr)',\n",
       " 'SKEW(sales_fact.betrag)',\n",
       " 'TREND(sales_fact.betrag, kauf_datum)',\n",
       " 'MODE(fees_fact.bewegungstyp)',\n",
       " 'SKEW(fees_fact.betrag)',\n",
       " 'TREND(fees_fact.betrag, kauf_datum)',\n",
       " 'TREND(sales_fact.betrag, kauf_datum WHERE transaktionsart_id_korr = 0)',\n",
       " 'TREND(fees_fact.betrag, kauf_datum WHERE bewegungstyp = fremdw)',\n",
       " 'TREND(fees_fact.betrag, kauf_datum WHERE bewegungstyp = mahnung)',\n",
       " 'TREND(fees_fact.betrag, kauf_datum WHERE bewegungstyp = zins)']"
      ]
     },
     "execution_count": 111,
     "metadata": {},
     "output_type": "execute_result"
    }
   ],
   "source": [
    "# Check all cols with NaN are either MODE, SKEW or TREND\n",
    "[col for col in fm_12m.columns if fm_12m[col].isna().sum() > 0]"
   ]
  },
  {
   "cell_type": "code",
   "execution_count": 113,
   "metadata": {
    "ExecuteTime": {
     "end_time": "2021-05-20T15:48:49.413653Z",
     "start_time": "2021-05-20T15:48:49.324653Z"
    }
   },
   "outputs": [
    {
     "data": {
      "text/html": [
       "<div>\n",
       "<style scoped>\n",
       "    .dataframe tbody tr th:only-of-type {\n",
       "        vertical-align: middle;\n",
       "    }\n",
       "\n",
       "    .dataframe tbody tr th {\n",
       "        vertical-align: top;\n",
       "    }\n",
       "\n",
       "    .dataframe thead th {\n",
       "        text-align: right;\n",
       "    }\n",
       "</style>\n",
       "<table border=\"1\" class=\"dataframe\">\n",
       "  <thead>\n",
       "    <tr style=\"text-align: right;\">\n",
       "      <th></th>\n",
       "      <th>trend_AVG_TIME_BETWEEN(sales_fact.kauf_datum)</th>\n",
       "      <th>trend_COUNT(sales_fact)</th>\n",
       "      <th>trend_NUM_UNIQUE(sales_fact.mcg_id)</th>\n",
       "      <th>trend_NUM_UNIQUE(sales_fact.transaction_type_id)</th>\n",
       "      <th>trend_SUM(sales_fact.betrag)</th>\n",
       "      <th>trend_COUNT(fees_fact)</th>\n",
       "      <th>trend_NUM_UNIQUE(fees_fact.bewegungstyp)</th>\n",
       "      <th>trend_SUM(fees_fact.betrag)</th>\n",
       "      <th>trend_COUNT(sales_fact WHERE transaktionsart_id_korr = 0)</th>\n",
       "      <th>trend_SUM(fees_fact.betrag WHERE bewegungstyp = fremdw)</th>\n",
       "      <th>trend_SUM(fees_fact.betrag WHERE bewegungstyp = mahnung)</th>\n",
       "      <th>trend_SUM(fees_fact.betrag WHERE bewegungstyp = zins)</th>\n",
       "    </tr>\n",
       "    <tr>\n",
       "      <th>konto_lauf_id</th>\n",
       "      <th></th>\n",
       "      <th></th>\n",
       "      <th></th>\n",
       "      <th></th>\n",
       "      <th></th>\n",
       "      <th></th>\n",
       "      <th></th>\n",
       "      <th></th>\n",
       "      <th></th>\n",
       "      <th></th>\n",
       "      <th></th>\n",
       "      <th></th>\n",
       "    </tr>\n",
       "  </thead>\n",
       "  <tbody>\n",
       "    <tr>\n",
       "      <th>51</th>\n",
       "      <td>0.00</td>\n",
       "      <td>1.00</td>\n",
       "      <td>1.00</td>\n",
       "      <td>1.00</td>\n",
       "      <td>189.60</td>\n",
       "      <td>0.00</td>\n",
       "      <td>0.00</td>\n",
       "      <td>0.00</td>\n",
       "      <td>1.00</td>\n",
       "      <td>0.00</td>\n",
       "      <td>0.00</td>\n",
       "      <td>0.00</td>\n",
       "    </tr>\n",
       "    <tr>\n",
       "      <th>129</th>\n",
       "      <td>0.00</td>\n",
       "      <td>1.00</td>\n",
       "      <td>-1.00</td>\n",
       "      <td>0.00</td>\n",
       "      <td>-182.10</td>\n",
       "      <td>-18.00</td>\n",
       "      <td>-2.00</td>\n",
       "      <td>-62.44</td>\n",
       "      <td>0.00</td>\n",
       "      <td>-60.43</td>\n",
       "      <td>0.00</td>\n",
       "      <td>0.00</td>\n",
       "    </tr>\n",
       "    <tr>\n",
       "      <th>157</th>\n",
       "      <td>41,792.48</td>\n",
       "      <td>-2.00</td>\n",
       "      <td>0.00</td>\n",
       "      <td>0.00</td>\n",
       "      <td>760.02</td>\n",
       "      <td>-10.00</td>\n",
       "      <td>-1.00</td>\n",
       "      <td>-26.80</td>\n",
       "      <td>0.00</td>\n",
       "      <td>-24.79</td>\n",
       "      <td>0.00</td>\n",
       "      <td>0.00</td>\n",
       "    </tr>\n",
       "    <tr>\n",
       "      <th>235</th>\n",
       "      <td>2,678,040.00</td>\n",
       "      <td>-2.00</td>\n",
       "      <td>-1.00</td>\n",
       "      <td>-1.00</td>\n",
       "      <td>-134.90</td>\n",
       "      <td>0.00</td>\n",
       "      <td>0.00</td>\n",
       "      <td>-3.90</td>\n",
       "      <td>-2.00</td>\n",
       "      <td>0.00</td>\n",
       "      <td>0.00</td>\n",
       "      <td>-3.91</td>\n",
       "    </tr>\n",
       "    <tr>\n",
       "      <th>503</th>\n",
       "      <td>-282,240.00</td>\n",
       "      <td>9.00</td>\n",
       "      <td>1.00</td>\n",
       "      <td>1.00</td>\n",
       "      <td>2,408.40</td>\n",
       "      <td>15.00</td>\n",
       "      <td>1.00</td>\n",
       "      <td>59.49</td>\n",
       "      <td>0.00</td>\n",
       "      <td>59.47</td>\n",
       "      <td>0.00</td>\n",
       "      <td>0.00</td>\n",
       "    </tr>\n",
       "  </tbody>\n",
       "</table>\n",
       "</div>"
      ],
      "text/plain": [
       "               trend_AVG_TIME_BETWEEN(sales_fact.kauf_datum)  trend_COUNT(sales_fact)  trend_NUM_UNIQUE(sales_fact.mcg_id)  trend_NUM_UNIQUE(sales_fact.transaction_type_id)  trend_SUM(sales_fact.betrag)  trend_COUNT(fees_fact)  trend_NUM_UNIQUE(fees_fact.bewegungstyp)  trend_SUM(fees_fact.betrag)  trend_COUNT(sales_fact WHERE transaktionsart_id_korr = 0)  trend_SUM(fees_fact.betrag WHERE bewegungstyp = fremdw)  trend_SUM(fees_fact.betrag WHERE bewegungstyp = mahnung)  trend_SUM(fees_fact.betrag WHERE bewegungstyp = zins)\n",
       "konto_lauf_id                                                                                                                                                                                                                                                                                                                                                                                                                                                                                                                                 \n",
       "51                                                      0.00                     1.00                                 1.00                                              1.00                        189.60                    0.00                                      0.00                         0.00                                                       1.00                                                     0.00                                                      0.00                                                   0.00\n",
       "129                                                     0.00                     1.00                                -1.00                                              0.00                       -182.10                  -18.00                                     -2.00                       -62.44                                                       0.00                                                   -60.43                                                      0.00                                                   0.00\n",
       "157                                                41,792.48                    -2.00                                 0.00                                              0.00                        760.02                  -10.00                                     -1.00                       -26.80                                                       0.00                                                   -24.79                                                      0.00                                                   0.00\n",
       "235                                             2,678,040.00                    -2.00                                -1.00                                             -1.00                       -134.90                    0.00                                      0.00                        -3.90                                                      -2.00                                                     0.00                                                      0.00                                                  -3.91\n",
       "503                                              -282,240.00                     9.00                                 1.00                                              1.00                      2,408.40                   15.00                                      1.00                        59.49                                                       0.00                                                    59.47                                                      0.00                                                   0.00"
      ]
     },
     "execution_count": 113,
     "metadata": {},
     "output_type": "execute_result"
    }
   ],
   "source": [
    "trend_features = utils_ff.calculate_trend_last_minus_first(fm_first, fm_last)\n",
    "\n",
    "# Safety Checks\n",
    "assert fm_first.shape == fm_last.shape == trend_features.shape\n",
    "assert fm_first.index.all() == fm_last.index.all() == trend_features.index.all()\n",
    "assert pd.concat([fm_first, fm_last, trend_features], axis=1).isna().sum().sum() == 0\n",
    "\n",
    "# Check results\n",
    "trend_features.head()"
   ]
  },
  {
   "cell_type": "code",
   "execution_count": 117,
   "metadata": {
    "ExecuteTime": {
     "end_time": "2021-05-20T15:50:08.297298Z",
     "start_time": "2021-05-20T15:50:08.232297Z"
    }
   },
   "outputs": [],
   "source": [
    "# Concat to final fact feature set\n",
    "full_fact_feature_set_first = utils_ff.concat_fm_12m_and_trend_features(fm_12m, trend_features)\n",
    "\n",
    "# Pass tests\n",
    "assert full_fact_feature_set_first.shape[1] == (\n",
    "    feature_matrix_12m.shape[1] \n",
    "    + trend_features.shape[1]\n",
    ") \n",
    "assert (\n",
    "    full_fact_feature_set_first.shape[0] \n",
    "    == feature_matrix_first.shape[0] \n",
    "    == trend_features.shape[0]\n",
    ") \n",
    "assert (full_fact_feature_set_first.index == feature_matrix_first.index).all()"
   ]
  },
  {
   "cell_type": "markdown",
   "metadata": {},
   "source": [
    "## Put everything together: main()\n",
    "\n",
    "**Args for main function:** pop, cut_off_date, first_date, engine, n_jobs"
   ]
  },
  {
   "cell_type": "code",
   "execution_count": 82,
   "metadata": {
    "ExecuteTime": {
     "end_time": "2021-05-20T09:59:01.100541Z",
     "start_time": "2021-05-20T09:59:01.092545Z"
    }
   },
   "outputs": [],
   "source": [
    "def main(pop, cut_off_date, first_date, engine, n_jobs):\n",
    "    # Load, fit and split fact data\n",
    "    sales = utils_ff.load_sales_fact(cut_off_date, first_date, engine)\n",
    "    sales_red = utils_ff.fit_fact_df_to_population(sales, df_population)\n",
    "    sales_first, sales_12m, sales_last = utils_ff.split_fact_df_into_3_periods(sales_red, cut_off_date, first_date)\n",
    "    \n",
    "    fees = utils_ff.load_fees_fact(cut_off_date, first_date, engine)\n",
    "    fees_red = utils_ff.fit_fact_df_to_population(fees, df_population)\n",
    "    fees_first, fees_12m, fees_last = utils_ff.split_fact_df_into_3_periods(fees_red, cut_off_date, first_date)\n",
    "    \n",
    "    # Create entity sets and featuretools matrices\n",
    "    es_first = utils_ff.create_entity_set_ft(df_population, sales_first, fees_first)\n",
    "    es_last = utils_ff.create_entity_set_ft(df_population, sales_last, fees_last)\n",
    "    es_12m = utils_ff.create_entity_set_ft(df_population, sales_12m, fees_12m )\n",
    "    \n",
    "    fm_first, _ = utils_ff.create_ft_matrix_and_defs_reduced(es_first, cut_off_date, n_jobs)\n",
    "    fm_last, _ = utils_ff.create_ft_matrix_and_defs_reduced(es_last, cut_off_date, n_jobs)\n",
    "#     fm_12m, _ = utils_ff.create_ft_matrix_and_defs_full(es_12m, cut_off_date, n_jobs)\n",
    "    \n",
    "    fm_first = utils_ff.impute_missing_values_reduced(fm_first)\n",
    "    fm_last = utils_ff.impute_missing_values_reduced(fm_last)\n",
    "    \n",
    "    # Calculate trend_features and append to full set\n",
    "    trend_features = utils_ff.calculate_trend_last_minus_first(fm_first, fm_last)\n",
    "    df_ft = utils_ff.concat_fm_12m_and_trend_features(fm_12m, trend_features)\n",
    "    \n",
    "#     return df_ft\n",
    "\n",
    "    return fm_first, fm_last, trend_features"
   ]
  },
  {
   "cell_type": "code",
   "execution_count": 83,
   "metadata": {
    "ExecuteTime": {
     "end_time": "2021-05-20T10:06:59.986987Z",
     "start_time": "2021-05-20T09:59:02.840606Z"
    }
   },
   "outputs": [
    {
     "name": "stdout",
     "output_type": "stream",
     "text": [
      "Built 12 features\n",
      "EntitySet scattered to 8 workers in 33 seconds\n",
      "Elapsed: 00:33 | Progress: 100%|██████████\n",
      "Built 12 features\n",
      "EntitySet scattered to 8 workers in 30 seconds\n",
      "Elapsed: 00:28 | Progress: 100%|██████████\n"
     ]
    }
   ],
   "source": [
    "fm_first, fm_last, trend_features = main(df_population, cut_off_date, first_date, engine, n_jobs=-1)"
   ]
  },
  {
   "cell_type": "code",
   "execution_count": 90,
   "metadata": {
    "ExecuteTime": {
     "end_time": "2021-05-20T10:10:24.797409Z",
     "start_time": "2021-05-20T10:10:24.739408Z"
    }
   },
   "outputs": [],
   "source": [
    "assert fm_first.shape == fm_last.shape == trend_features.shape\n",
    "assert fm_first.index.all() == fm_last.index.all() == trend_features.index.all()\n",
    "assert pd.concat([fm_first, fm_last, trend_features], axis=1).isna().sum().sum() == 0"
   ]
  },
  {
   "cell_type": "code",
   "execution_count": 94,
   "metadata": {
    "ExecuteTime": {
     "end_time": "2021-05-20T10:12:29.933130Z",
     "start_time": "2021-05-20T10:12:29.549867Z"
    }
   },
   "outputs": [
    {
     "data": {
      "text/html": [
       "<div>\n",
       "<style scoped>\n",
       "    .dataframe tbody tr th:only-of-type {\n",
       "        vertical-align: middle;\n",
       "    }\n",
       "\n",
       "    .dataframe tbody tr th {\n",
       "        vertical-align: top;\n",
       "    }\n",
       "\n",
       "    .dataframe thead th {\n",
       "        text-align: right;\n",
       "    }\n",
       "</style>\n",
       "<table border=\"1\" class=\"dataframe\">\n",
       "  <thead>\n",
       "    <tr style=\"text-align: right;\">\n",
       "      <th></th>\n",
       "      <th>AVG_TIME_BETWEEN(sales_fact.kauf_datum)</th>\n",
       "      <th>COUNT(sales_fact)</th>\n",
       "      <th>NUM_UNIQUE(sales_fact.mcg_id)</th>\n",
       "      <th>NUM_UNIQUE(sales_fact.transaction_type_id)</th>\n",
       "      <th>SUM(sales_fact.betrag)</th>\n",
       "      <th>COUNT(fees_fact)</th>\n",
       "      <th>NUM_UNIQUE(fees_fact.bewegungstyp)</th>\n",
       "      <th>SUM(fees_fact.betrag)</th>\n",
       "      <th>COUNT(sales_fact WHERE transaktionsart_id_korr = 0)</th>\n",
       "      <th>SUM(fees_fact.betrag WHERE bewegungstyp = fremdw)</th>\n",
       "      <th>SUM(fees_fact.betrag WHERE bewegungstyp = mahnung)</th>\n",
       "      <th>SUM(fees_fact.betrag WHERE bewegungstyp = zins)</th>\n",
       "    </tr>\n",
       "  </thead>\n",
       "  <tbody>\n",
       "    <tr>\n",
       "      <th>count</th>\n",
       "      <td>134,017.00</td>\n",
       "      <td>134,017.00</td>\n",
       "      <td>134,017.00</td>\n",
       "      <td>134,017.00</td>\n",
       "      <td>134,017.00</td>\n",
       "      <td>134,017.00</td>\n",
       "      <td>134,017.00</td>\n",
       "      <td>134,017.00</td>\n",
       "      <td>134,017.00</td>\n",
       "      <td>134,017.00</td>\n",
       "      <td>134,017.00</td>\n",
       "      <td>134,017.00</td>\n",
       "    </tr>\n",
       "    <tr>\n",
       "      <th>mean</th>\n",
       "      <td>1,287,151.08</td>\n",
       "      <td>7.20</td>\n",
       "      <td>1.60</td>\n",
       "      <td>1.26</td>\n",
       "      <td>565.38</td>\n",
       "      <td>7.60</td>\n",
       "      <td>1.33</td>\n",
       "      <td>20.25</td>\n",
       "      <td>0.12</td>\n",
       "      <td>8.39</td>\n",
       "      <td>0.64</td>\n",
       "      <td>8.29</td>\n",
       "    </tr>\n",
       "    <tr>\n",
       "      <th>std</th>\n",
       "      <td>1,180,882.83</td>\n",
       "      <td>12.36</td>\n",
       "      <td>1.55</td>\n",
       "      <td>1.12</td>\n",
       "      <td>1,073.28</td>\n",
       "      <td>14.17</td>\n",
       "      <td>1.06</td>\n",
       "      <td>67.78</td>\n",
       "      <td>0.64</td>\n",
       "      <td>23.80</td>\n",
       "      <td>3.52</td>\n",
       "      <td>17.92</td>\n",
       "    </tr>\n",
       "    <tr>\n",
       "      <th>min</th>\n",
       "      <td>0.00</td>\n",
       "      <td>0.00</td>\n",
       "      <td>0.00</td>\n",
       "      <td>0.00</td>\n",
       "      <td>0.00</td>\n",
       "      <td>0.00</td>\n",
       "      <td>0.00</td>\n",
       "      <td>0.00</td>\n",
       "      <td>0.00</td>\n",
       "      <td>0.00</td>\n",
       "      <td>0.00</td>\n",
       "      <td>0.00</td>\n",
       "    </tr>\n",
       "    <tr>\n",
       "      <th>25%</th>\n",
       "      <td>186,092.31</td>\n",
       "      <td>0.00</td>\n",
       "      <td>0.00</td>\n",
       "      <td>0.00</td>\n",
       "      <td>0.00</td>\n",
       "      <td>0.00</td>\n",
       "      <td>0.00</td>\n",
       "      <td>0.00</td>\n",
       "      <td>0.00</td>\n",
       "      <td>0.00</td>\n",
       "      <td>0.00</td>\n",
       "      <td>0.00</td>\n",
       "    </tr>\n",
       "    <tr>\n",
       "      <th>50%</th>\n",
       "      <td>561,600.00</td>\n",
       "      <td>3.00</td>\n",
       "      <td>1.00</td>\n",
       "      <td>1.00</td>\n",
       "      <td>161.94</td>\n",
       "      <td>3.00</td>\n",
       "      <td>1.00</td>\n",
       "      <td>4.83</td>\n",
       "      <td>0.00</td>\n",
       "      <td>0.00</td>\n",
       "      <td>0.00</td>\n",
       "      <td>0.00</td>\n",
       "    </tr>\n",
       "    <tr>\n",
       "      <th>75%</th>\n",
       "      <td>2,678,400.00</td>\n",
       "      <td>9.00</td>\n",
       "      <td>2.00</td>\n",
       "      <td>2.00</td>\n",
       "      <td>668.85</td>\n",
       "      <td>9.00</td>\n",
       "      <td>2.00</td>\n",
       "      <td>27.66</td>\n",
       "      <td>0.00</td>\n",
       "      <td>5.59</td>\n",
       "      <td>0.00</td>\n",
       "      <td>7.46</td>\n",
       "    </tr>\n",
       "    <tr>\n",
       "      <th>max</th>\n",
       "      <td>2,678,400.00</td>\n",
       "      <td>233.00</td>\n",
       "      <td>12.00</td>\n",
       "      <td>6.00</td>\n",
       "      <td>61,003.63</td>\n",
       "      <td>384.00</td>\n",
       "      <td>4.00</td>\n",
       "      <td>11,034.50</td>\n",
       "      <td>33.00</td>\n",
       "      <td>1,338.11</td>\n",
       "      <td>20.00</td>\n",
       "      <td>1,630.45</td>\n",
       "    </tr>\n",
       "  </tbody>\n",
       "</table>\n",
       "</div>"
      ],
      "text/plain": [
       "       AVG_TIME_BETWEEN(sales_fact.kauf_datum)  COUNT(sales_fact)  NUM_UNIQUE(sales_fact.mcg_id)  NUM_UNIQUE(sales_fact.transaction_type_id)  SUM(sales_fact.betrag)  COUNT(fees_fact)  NUM_UNIQUE(fees_fact.bewegungstyp)  SUM(fees_fact.betrag)  COUNT(sales_fact WHERE transaktionsart_id_korr = 0)  SUM(fees_fact.betrag WHERE bewegungstyp = fremdw)  SUM(fees_fact.betrag WHERE bewegungstyp = mahnung)  SUM(fees_fact.betrag WHERE bewegungstyp = zins)\n",
       "count                               134,017.00         134,017.00                     134,017.00                                  134,017.00              134,017.00        134,017.00                          134,017.00             134,017.00                                           134,017.00                                         134,017.00                                          134,017.00                                       134,017.00\n",
       "mean                              1,287,151.08               7.20                           1.60                                        1.26                  565.38              7.60                                1.33                  20.25                                                 0.12                                               8.39                                                0.64                                             8.29\n",
       "std                               1,180,882.83              12.36                           1.55                                        1.12                1,073.28             14.17                                1.06                  67.78                                                 0.64                                              23.80                                                3.52                                            17.92\n",
       "min                                       0.00               0.00                           0.00                                        0.00                    0.00              0.00                                0.00                   0.00                                                 0.00                                               0.00                                                0.00                                             0.00\n",
       "25%                                 186,092.31               0.00                           0.00                                        0.00                    0.00              0.00                                0.00                   0.00                                                 0.00                                               0.00                                                0.00                                             0.00\n",
       "50%                                 561,600.00               3.00                           1.00                                        1.00                  161.94              3.00                                1.00                   4.83                                                 0.00                                               0.00                                                0.00                                             0.00\n",
       "75%                               2,678,400.00               9.00                           2.00                                        2.00                  668.85              9.00                                2.00                  27.66                                                 0.00                                               5.59                                                0.00                                             7.46\n",
       "max                               2,678,400.00             233.00                          12.00                                        6.00               61,003.63            384.00                                4.00              11,034.50                                                33.00                                           1,338.11                                               20.00                                         1,630.45"
      ]
     },
     "execution_count": 94,
     "metadata": {},
     "output_type": "execute_result"
    },
    {
     "data": {
      "text/html": [
       "<div>\n",
       "<style scoped>\n",
       "    .dataframe tbody tr th:only-of-type {\n",
       "        vertical-align: middle;\n",
       "    }\n",
       "\n",
       "    .dataframe tbody tr th {\n",
       "        vertical-align: top;\n",
       "    }\n",
       "\n",
       "    .dataframe thead th {\n",
       "        text-align: right;\n",
       "    }\n",
       "</style>\n",
       "<table border=\"1\" class=\"dataframe\">\n",
       "  <thead>\n",
       "    <tr style=\"text-align: right;\">\n",
       "      <th></th>\n",
       "      <th>AVG_TIME_BETWEEN(sales_fact.kauf_datum)</th>\n",
       "      <th>COUNT(sales_fact)</th>\n",
       "      <th>NUM_UNIQUE(sales_fact.mcg_id)</th>\n",
       "      <th>NUM_UNIQUE(sales_fact.transaction_type_id)</th>\n",
       "      <th>SUM(sales_fact.betrag)</th>\n",
       "      <th>COUNT(fees_fact)</th>\n",
       "      <th>NUM_UNIQUE(fees_fact.bewegungstyp)</th>\n",
       "      <th>SUM(fees_fact.betrag)</th>\n",
       "      <th>COUNT(sales_fact WHERE transaktionsart_id_korr = 0)</th>\n",
       "      <th>SUM(fees_fact.betrag WHERE bewegungstyp = fremdw)</th>\n",
       "      <th>SUM(fees_fact.betrag WHERE bewegungstyp = mahnung)</th>\n",
       "      <th>SUM(fees_fact.betrag WHERE bewegungstyp = zins)</th>\n",
       "    </tr>\n",
       "  </thead>\n",
       "  <tbody>\n",
       "    <tr>\n",
       "      <th>count</th>\n",
       "      <td>134,017.00</td>\n",
       "      <td>134,017.00</td>\n",
       "      <td>134,017.00</td>\n",
       "      <td>134,017.00</td>\n",
       "      <td>134,017.00</td>\n",
       "      <td>134,017.00</td>\n",
       "      <td>134,017.00</td>\n",
       "      <td>134,017.00</td>\n",
       "      <td>134,017.00</td>\n",
       "      <td>134,017.00</td>\n",
       "      <td>134,017.00</td>\n",
       "      <td>134,017.00</td>\n",
       "    </tr>\n",
       "    <tr>\n",
       "      <th>mean</th>\n",
       "      <td>1,284,517.59</td>\n",
       "      <td>7.57</td>\n",
       "      <td>1.54</td>\n",
       "      <td>1.27</td>\n",
       "      <td>548.46</td>\n",
       "      <td>6.20</td>\n",
       "      <td>1.26</td>\n",
       "      <td>17.13</td>\n",
       "      <td>0.09</td>\n",
       "      <td>5.55</td>\n",
       "      <td>0.77</td>\n",
       "      <td>7.25</td>\n",
       "    </tr>\n",
       "    <tr>\n",
       "      <th>std</th>\n",
       "      <td>1,177,657.24</td>\n",
       "      <td>13.06</td>\n",
       "      <td>1.47</td>\n",
       "      <td>1.12</td>\n",
       "      <td>1,065.29</td>\n",
       "      <td>11.78</td>\n",
       "      <td>1.05</td>\n",
       "      <td>102.75</td>\n",
       "      <td>0.59</td>\n",
       "      <td>19.04</td>\n",
       "      <td>3.85</td>\n",
       "      <td>15.87</td>\n",
       "    </tr>\n",
       "    <tr>\n",
       "      <th>min</th>\n",
       "      <td>0.00</td>\n",
       "      <td>0.00</td>\n",
       "      <td>0.00</td>\n",
       "      <td>0.00</td>\n",
       "      <td>0.00</td>\n",
       "      <td>0.00</td>\n",
       "      <td>0.00</td>\n",
       "      <td>0.00</td>\n",
       "      <td>0.00</td>\n",
       "      <td>0.00</td>\n",
       "      <td>0.00</td>\n",
       "      <td>0.00</td>\n",
       "    </tr>\n",
       "    <tr>\n",
       "      <th>25%</th>\n",
       "      <td>190,080.00</td>\n",
       "      <td>0.00</td>\n",
       "      <td>0.00</td>\n",
       "      <td>0.00</td>\n",
       "      <td>0.00</td>\n",
       "      <td>0.00</td>\n",
       "      <td>0.00</td>\n",
       "      <td>0.00</td>\n",
       "      <td>0.00</td>\n",
       "      <td>0.00</td>\n",
       "      <td>0.00</td>\n",
       "      <td>0.00</td>\n",
       "    </tr>\n",
       "    <tr>\n",
       "      <th>50%</th>\n",
       "      <td>576,000.00</td>\n",
       "      <td>3.00</td>\n",
       "      <td>1.00</td>\n",
       "      <td>1.00</td>\n",
       "      <td>149.90</td>\n",
       "      <td>2.00</td>\n",
       "      <td>1.00</td>\n",
       "      <td>3.00</td>\n",
       "      <td>0.00</td>\n",
       "      <td>0.00</td>\n",
       "      <td>0.00</td>\n",
       "      <td>0.00</td>\n",
       "    </tr>\n",
       "    <tr>\n",
       "      <th>75%</th>\n",
       "      <td>2,678,400.00</td>\n",
       "      <td>9.00</td>\n",
       "      <td>2.00</td>\n",
       "      <td>2.00</td>\n",
       "      <td>635.54</td>\n",
       "      <td>7.00</td>\n",
       "      <td>2.00</td>\n",
       "      <td>21.81</td>\n",
       "      <td>0.00</td>\n",
       "      <td>2.90</td>\n",
       "      <td>0.00</td>\n",
       "      <td>5.12</td>\n",
       "    </tr>\n",
       "    <tr>\n",
       "      <th>max</th>\n",
       "      <td>2,678,400.00</td>\n",
       "      <td>310.00</td>\n",
       "      <td>12.00</td>\n",
       "      <td>6.00</td>\n",
       "      <td>56,631.72</td>\n",
       "      <td>616.00</td>\n",
       "      <td>4.00</td>\n",
       "      <td>17,500.00</td>\n",
       "      <td>35.00</td>\n",
       "      <td>1,422.97</td>\n",
       "      <td>20.00</td>\n",
       "      <td>457.68</td>\n",
       "    </tr>\n",
       "  </tbody>\n",
       "</table>\n",
       "</div>"
      ],
      "text/plain": [
       "       AVG_TIME_BETWEEN(sales_fact.kauf_datum)  COUNT(sales_fact)  NUM_UNIQUE(sales_fact.mcg_id)  NUM_UNIQUE(sales_fact.transaction_type_id)  SUM(sales_fact.betrag)  COUNT(fees_fact)  NUM_UNIQUE(fees_fact.bewegungstyp)  SUM(fees_fact.betrag)  COUNT(sales_fact WHERE transaktionsart_id_korr = 0)  SUM(fees_fact.betrag WHERE bewegungstyp = fremdw)  SUM(fees_fact.betrag WHERE bewegungstyp = mahnung)  SUM(fees_fact.betrag WHERE bewegungstyp = zins)\n",
       "count                               134,017.00         134,017.00                     134,017.00                                  134,017.00              134,017.00        134,017.00                          134,017.00             134,017.00                                           134,017.00                                         134,017.00                                          134,017.00                                       134,017.00\n",
       "mean                              1,284,517.59               7.57                           1.54                                        1.27                  548.46              6.20                                1.26                  17.13                                                 0.09                                               5.55                                                0.77                                             7.25\n",
       "std                               1,177,657.24              13.06                           1.47                                        1.12                1,065.29             11.78                                1.05                 102.75                                                 0.59                                              19.04                                                3.85                                            15.87\n",
       "min                                       0.00               0.00                           0.00                                        0.00                    0.00              0.00                                0.00                   0.00                                                 0.00                                               0.00                                                0.00                                             0.00\n",
       "25%                                 190,080.00               0.00                           0.00                                        0.00                    0.00              0.00                                0.00                   0.00                                                 0.00                                               0.00                                                0.00                                             0.00\n",
       "50%                                 576,000.00               3.00                           1.00                                        1.00                  149.90              2.00                                1.00                   3.00                                                 0.00                                               0.00                                                0.00                                             0.00\n",
       "75%                               2,678,400.00               9.00                           2.00                                        2.00                  635.54              7.00                                2.00                  21.81                                                 0.00                                               2.90                                                0.00                                             5.12\n",
       "max                               2,678,400.00             310.00                          12.00                                        6.00               56,631.72            616.00                                4.00              17,500.00                                                35.00                                           1,422.97                                               20.00                                           457.68"
      ]
     },
     "execution_count": 94,
     "metadata": {},
     "output_type": "execute_result"
    },
    {
     "data": {
      "text/html": [
       "<div>\n",
       "<style scoped>\n",
       "    .dataframe tbody tr th:only-of-type {\n",
       "        vertical-align: middle;\n",
       "    }\n",
       "\n",
       "    .dataframe tbody tr th {\n",
       "        vertical-align: top;\n",
       "    }\n",
       "\n",
       "    .dataframe thead th {\n",
       "        text-align: right;\n",
       "    }\n",
       "</style>\n",
       "<table border=\"1\" class=\"dataframe\">\n",
       "  <thead>\n",
       "    <tr style=\"text-align: right;\">\n",
       "      <th></th>\n",
       "      <th>trend_AVG_TIME_BETWEEN(sales_fact.kauf_datum)</th>\n",
       "      <th>trend_COUNT(sales_fact)</th>\n",
       "      <th>trend_NUM_UNIQUE(sales_fact.mcg_id)</th>\n",
       "      <th>trend_NUM_UNIQUE(sales_fact.transaction_type_id)</th>\n",
       "      <th>trend_SUM(sales_fact.betrag)</th>\n",
       "      <th>trend_COUNT(fees_fact)</th>\n",
       "      <th>trend_NUM_UNIQUE(fees_fact.bewegungstyp)</th>\n",
       "      <th>trend_SUM(fees_fact.betrag)</th>\n",
       "      <th>trend_COUNT(sales_fact WHERE transaktionsart_id_korr = 0)</th>\n",
       "      <th>trend_SUM(fees_fact.betrag WHERE bewegungstyp = fremdw)</th>\n",
       "      <th>trend_SUM(fees_fact.betrag WHERE bewegungstyp = mahnung)</th>\n",
       "      <th>trend_SUM(fees_fact.betrag WHERE bewegungstyp = zins)</th>\n",
       "    </tr>\n",
       "  </thead>\n",
       "  <tbody>\n",
       "    <tr>\n",
       "      <th>count</th>\n",
       "      <td>134,017.00</td>\n",
       "      <td>134,017.00</td>\n",
       "      <td>134,017.00</td>\n",
       "      <td>134,017.00</td>\n",
       "      <td>134,017.00</td>\n",
       "      <td>134,017.00</td>\n",
       "      <td>134,017.00</td>\n",
       "      <td>134,017.00</td>\n",
       "      <td>134,017.00</td>\n",
       "      <td>134,017.00</td>\n",
       "      <td>134,017.00</td>\n",
       "      <td>134,017.00</td>\n",
       "    </tr>\n",
       "    <tr>\n",
       "      <th>mean</th>\n",
       "      <td>-2,633.49</td>\n",
       "      <td>0.37</td>\n",
       "      <td>-0.06</td>\n",
       "      <td>0.01</td>\n",
       "      <td>-16.92</td>\n",
       "      <td>-1.40</td>\n",
       "      <td>-0.07</td>\n",
       "      <td>-3.12</td>\n",
       "      <td>-0.02</td>\n",
       "      <td>-2.84</td>\n",
       "      <td>0.13</td>\n",
       "      <td>-1.03</td>\n",
       "    </tr>\n",
       "    <tr>\n",
       "      <th>std</th>\n",
       "      <td>1,119,961.14</td>\n",
       "      <td>10.53</td>\n",
       "      <td>1.37</td>\n",
       "      <td>1.02</td>\n",
       "      <td>1,029.29</td>\n",
       "      <td>14.19</td>\n",
       "      <td>1.01</td>\n",
       "      <td>118.91</td>\n",
       "      <td>0.62</td>\n",
       "      <td>25.54</td>\n",
       "      <td>4.87</td>\n",
       "      <td>11.57</td>\n",
       "    </tr>\n",
       "    <tr>\n",
       "      <th>min</th>\n",
       "      <td>-2,678,400.00</td>\n",
       "      <td>-176.00</td>\n",
       "      <td>-8.00</td>\n",
       "      <td>-6.00</td>\n",
       "      <td>-48,081.44</td>\n",
       "      <td>-349.00</td>\n",
       "      <td>-4.00</td>\n",
       "      <td>-10,933.63</td>\n",
       "      <td>-31.00</td>\n",
       "      <td>-899.37</td>\n",
       "      <td>-20.00</td>\n",
       "      <td>-1,630.45</td>\n",
       "    </tr>\n",
       "    <tr>\n",
       "      <th>25%</th>\n",
       "      <td>-93,960.00</td>\n",
       "      <td>-2.00</td>\n",
       "      <td>-1.00</td>\n",
       "      <td>0.00</td>\n",
       "      <td>-185.88</td>\n",
       "      <td>-3.00</td>\n",
       "      <td>-1.00</td>\n",
       "      <td>-7.71</td>\n",
       "      <td>0.00</td>\n",
       "      <td>-1.96</td>\n",
       "      <td>0.00</td>\n",
       "      <td>0.00</td>\n",
       "    </tr>\n",
       "    <tr>\n",
       "      <th>50%</th>\n",
       "      <td>0.00</td>\n",
       "      <td>0.00</td>\n",
       "      <td>0.00</td>\n",
       "      <td>0.00</td>\n",
       "      <td>0.00</td>\n",
       "      <td>0.00</td>\n",
       "      <td>0.00</td>\n",
       "      <td>0.00</td>\n",
       "      <td>0.00</td>\n",
       "      <td>0.00</td>\n",
       "      <td>0.00</td>\n",
       "      <td>0.00</td>\n",
       "    </tr>\n",
       "    <tr>\n",
       "      <th>75%</th>\n",
       "      <td>95,040.00</td>\n",
       "      <td>2.00</td>\n",
       "      <td>1.00</td>\n",
       "      <td>0.00</td>\n",
       "      <td>166.20</td>\n",
       "      <td>1.00</td>\n",
       "      <td>0.00</td>\n",
       "      <td>2.00</td>\n",
       "      <td>0.00</td>\n",
       "      <td>0.00</td>\n",
       "      <td>0.00</td>\n",
       "      <td>0.00</td>\n",
       "    </tr>\n",
       "    <tr>\n",
       "      <th>max</th>\n",
       "      <td>2,678,400.00</td>\n",
       "      <td>310.00</td>\n",
       "      <td>8.00</td>\n",
       "      <td>5.00</td>\n",
       "      <td>28,554.00</td>\n",
       "      <td>616.00</td>\n",
       "      <td>4.00</td>\n",
       "      <td>17,499.17</td>\n",
       "      <td>21.00</td>\n",
       "      <td>1,157.66</td>\n",
       "      <td>20.00</td>\n",
       "      <td>309.52</td>\n",
       "    </tr>\n",
       "  </tbody>\n",
       "</table>\n",
       "</div>"
      ],
      "text/plain": [
       "       trend_AVG_TIME_BETWEEN(sales_fact.kauf_datum)  trend_COUNT(sales_fact)  trend_NUM_UNIQUE(sales_fact.mcg_id)  trend_NUM_UNIQUE(sales_fact.transaction_type_id)  trend_SUM(sales_fact.betrag)  trend_COUNT(fees_fact)  trend_NUM_UNIQUE(fees_fact.bewegungstyp)  trend_SUM(fees_fact.betrag)  trend_COUNT(sales_fact WHERE transaktionsart_id_korr = 0)  trend_SUM(fees_fact.betrag WHERE bewegungstyp = fremdw)  trend_SUM(fees_fact.betrag WHERE bewegungstyp = mahnung)  trend_SUM(fees_fact.betrag WHERE bewegungstyp = zins)\n",
       "count                                     134,017.00               134,017.00                           134,017.00                                        134,017.00                    134,017.00              134,017.00                                134,017.00                   134,017.00                                                 134,017.00                                               134,017.00                                                134,017.00                                             134,017.00\n",
       "mean                                       -2,633.49                     0.37                                -0.06                                              0.01                        -16.92                   -1.40                                     -0.07                        -3.12                                                      -0.02                                                    -2.84                                                      0.13                                                  -1.03\n",
       "std                                     1,119,961.14                    10.53                                 1.37                                              1.02                      1,029.29                   14.19                                      1.01                       118.91                                                       0.62                                                    25.54                                                      4.87                                                  11.57\n",
       "min                                    -2,678,400.00                  -176.00                                -8.00                                             -6.00                    -48,081.44                 -349.00                                     -4.00                   -10,933.63                                                     -31.00                                                  -899.37                                                    -20.00                                              -1,630.45\n",
       "25%                                       -93,960.00                    -2.00                                -1.00                                              0.00                       -185.88                   -3.00                                     -1.00                        -7.71                                                       0.00                                                    -1.96                                                      0.00                                                   0.00\n",
       "50%                                             0.00                     0.00                                 0.00                                              0.00                          0.00                    0.00                                      0.00                         0.00                                                       0.00                                                     0.00                                                      0.00                                                   0.00\n",
       "75%                                        95,040.00                     2.00                                 1.00                                              0.00                        166.20                    1.00                                      0.00                         2.00                                                       0.00                                                     0.00                                                      0.00                                                   0.00\n",
       "max                                     2,678,400.00                   310.00                                 8.00                                              5.00                     28,554.00                  616.00                                      4.00                    17,499.17                                                      21.00                                                 1,157.66                                                     20.00                                                 309.52"
      ]
     },
     "execution_count": 94,
     "metadata": {},
     "output_type": "execute_result"
    }
   ],
   "source": [
    "fm_first.describe()\n",
    "fm_last.describe()\n",
    "trend_features.describe()"
   ]
  },
  {
   "cell_type": "markdown",
   "metadata": {},
   "source": [
    "---"
   ]
  },
  {
   "cell_type": "markdown",
   "metadata": {},
   "source": [
    "## Appendix \n",
    "\n",
    "### Documentation Reduced Feature Set\n",
    "\n",
    "12 features (out of 46 in total) used for trend calculation month_last - month_first"
   ]
  },
  {
   "cell_type": "code",
   "execution_count": null,
   "metadata": {},
   "outputs": [],
   "source": [
    "# Dokumentation of selection of the trend features\n",
    "\n",
    "AVG_TIME_BETWEEN(sales_fact.kauf_datum),\n",
    "COUNT(sales_fact),\n",
    "# MAX(sales_fact.betrag),\n",
    "# MEAN(sales_fact.betrag),\n",
    "# MIN(sales_fact.betrag),\n",
    "# MODE(sales_fact.mcg_id),\n",
    "# MODE(sales_fact.transaction_type_id),\n",
    "# MODE(sales_fact.transaktionsart_id_korr),\n",
    "NUM_UNIQUE(sales_fact.mcg_id),\n",
    "NUM_UNIQUE(sales_fact.transaction_type_id),\n",
    "# NUM_UNIQUE(sales_fact.transaktionsart_id_korr),\n",
    "# SKEW(sales_fact.betrag),\n",
    "# STD(sales_fact.betrag),\n",
    "SUM(sales_fact.betrag),\n",
    "# TIME_SINCE_LAST(sales_fact.kauf_datum),\n",
    "# TREND(sales_fact.betrag, kauf_datum),\n",
    "# AVG_TIME_BETWEEN(fees_fact.kauf_datum),\n",
    "COUNT(fees_fact),\n",
    "# MAX(fees_fact.betrag),\n",
    "# MEAN(fees_fact.betrag),\n",
    "# MIN(fees_fact.betrag),\n",
    "# MODE(fees_fact.bewegungstyp),\n",
    "NUM_UNIQUE(fees_fact.bewegungstyp),\n",
    "# SKEW(fees_fact.betrag),\n",
    "# STD(fees_fact.betrag),\n",
    "SUM(fees_fact.betrag),\n",
    "# TIME_SINCE_LAST(fees_fact.kauf_datum),\n",
    "# TREND(fees_fact.betrag, kauf_datum),\n",
    "COUNT(sales_fact WHERE transaktionsart_id_korr = 0),\n",
    "# MEAN(sales_fact.betrag WHERE transaktionsart_id_korr = 0),\n",
    "# NUM_UNIQUE(sales_fact.MONTH(kauf_datum)),\n",
    "# SUM(sales_fact.betrag WHERE transaktionsart_id_korr = 0),\n",
    "# TREND(sales_fact.betrag, kauf_datum WHERE transaktionsart_id_korr = 0),\n",
    "# COUNT(fees_fact WHERE bewegungstyp = fremdw),\n",
    "# COUNT(fees_fact WHERE bewegungstyp = mahnung),\n",
    "# COUNT(fees_fact WHERE bewegungstyp = zins),\n",
    "# MEAN(fees_fact.betrag WHERE bewegungstyp = fremdw),\n",
    "# MEAN(fees_fact.betrag WHERE bewegungstyp = mahnung),\n",
    "# MEAN(fees_fact.betrag WHERE bewegungstyp = zins),\n",
    "# NUM_UNIQUE(fees_fact.MONTH(kauf_datum)),\n",
    "SUM(fees_fact.betrag WHERE bewegungstyp = fremdw),\n",
    "SUM(fees_fact.betrag WHERE bewegungstyp = mahnung),\n",
    "SUM(fees_fact.betrag WHERE bewegungstyp = zins),\n",
    "# TREND(fees_fact.betrag, kauf_datum WHERE bewegungstyp = fremdw),\n",
    "# TREND(fees_fact.betrag, kauf_datum WHERE bewegungstyp = mahnung),\n",
    "# TREND(fees_fact.betrag, kauf_datum WHERE bewegungstyp = zins)"
   ]
  },
  {
   "cell_type": "markdown",
   "metadata": {},
   "source": [
    "### Documentation NaN Handling\n",
    "\n",
    "**Strategy:**\n",
    "\n",
    "- \"sum\" -> [no NaN] \n",
    "- \"count\" -> [no NaN]\n",
    "\n",
    "\n",
    "- \"max\" -> 0\n",
    "- \"min\" -> 0\n",
    "- \"mean\" -> 0\n",
    "- \"num_unique\" -> 0\n",
    "\n",
    "\n",
    "- \"avg_time_between\", -> max possible value in secs\n",
    "- \"time_since_last\", -> max possible value in secs\n",
    "\n",
    "\n",
    "- \"std\" ---- sklearn pipeline\n",
    "- \"mode\" ---- sklearn pipeline\n",
    "- \"skew\" ---- ? sklearn pipeline\n",
    "- \"trend\" ---- ? sklearn pipeline\n",
    "\n",
    "\"avg_time_between\" and \"time_since_last\" are returned in seconds by default\n"
   ]
  },
  {
   "cell_type": "code",
   "execution_count": 124,
   "metadata": {
    "ExecuteTime": {
     "end_time": "2021-05-20T15:55:07.174019Z",
     "start_time": "2021-05-20T15:55:07.131018Z"
    }
   },
   "outputs": [
    {
     "name": "stdout",
     "output_type": "stream",
     "text": [
      "COUNT(sales_fact)\n",
      "SUM(sales_fact.betrag)\n",
      "COUNT(fees_fact)\n",
      "SUM(fees_fact.betrag)\n",
      "COUNT(sales_fact WHERE transaktionsart_id_korr = 0)\n",
      "SUM(sales_fact.betrag WHERE transaktionsart_id_korr = 0)\n",
      "COUNT(fees_fact WHERE bewegungstyp = fremdw)\n",
      "COUNT(fees_fact WHERE bewegungstyp = mahnung)\n",
      "COUNT(fees_fact WHERE bewegungstyp = zins)\n",
      "SUM(fees_fact.betrag WHERE bewegungstyp = fremdw)\n",
      "SUM(fees_fact.betrag WHERE bewegungstyp = mahnung)\n",
      "SUM(fees_fact.betrag WHERE bewegungstyp = zins)\n"
     ]
    }
   ],
   "source": [
    "# Check which primitives do not generate NaN\n",
    "for index, col in feature_matrix_12m.isna().sum().iteritems():\n",
    "    if col == 0:\n",
    "        print(index)"
   ]
  }
 ],
 "metadata": {
  "kernelspec": {
   "display_name": "Python 3",
   "language": "python",
   "name": "python3"
  },
  "language_info": {
   "codemirror_mode": {
    "name": "ipython",
    "version": 3
   },
   "file_extension": ".py",
   "mimetype": "text/x-python",
   "name": "python",
   "nbconvert_exporter": "python",
   "pygments_lexer": "ipython3",
   "version": "3.9.4"
  },
  "toc": {
   "base_numbering": 1,
   "nav_menu": {},
   "number_sections": true,
   "sideBar": false,
   "skip_h1_title": true,
   "title_cell": "Table of Contents",
   "title_sidebar": "Contents",
   "toc_cell": true,
   "toc_position": {},
   "toc_section_display": true,
   "toc_window_display": false
  }
 },
 "nbformat": 4,
 "nbformat_minor": 4
}
