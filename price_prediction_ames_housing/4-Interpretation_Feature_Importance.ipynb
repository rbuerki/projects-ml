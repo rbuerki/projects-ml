{
 "cells": [
  {
   "cell_type": "markdown",
   "metadata": {},
   "source": [
    "# Inspect & Compare Feature Importance\n",
    "\n",
    "In notebooks 2 and 3 I have created two models (Elastic Net and XGBoost) that perform quite similarly. In this notebook I have tested different ways to inspect their respective feature importances. A comparision of the 15 most important features for each model shows that these have only about half of them in common.\n",
    "\n",
    "**Important learning 1:** Feature importance is not equal to feature importance. Especially for XGBoost there are different metrics and the default ('weights') seems not to be the best, but 'gains'. I compared both. The details can be found in this [blogpost](https://towardsdatascience.com/be-careful-when-interpreting-your-features-importance-in-xgboost-6e16132588e7)\n",
    "\n",
    "**Important learning 2:** In the appendix I have showed that feature importance can be used to reduce the original feature set before fitting a model - a procedure that results in a higher model performance.\n",
    "\n",
    "**Data Sources**\n",
    "\n",
    "- `feature_names`: List of column labels for preprocessed data.\n",
    "- `models/full_pipe_final.pkl`: Best pipeline / model.\n",
    "- `data/interim/train_opti_EN` / `data/interim/y_train_EN`: Preprocessed training data for Elastic Net.\n",
    "- `data/interim/features_XGB` / `data/interim/features_XGB`: Preprocessed full data (best suited for XGB).\n",
    "\n",
    "\n",
    "**Changes**\n",
    "\n",
    "- 2019-04-04: Start notebook and complete section for ElasticNet model\n",
    "- 2019-04-13: Add section for XGB and finish notebook\n",
    "- 2019-04-30: Re-open and spilt XGB section in analysis of 'weights' and 'gains'\n"
   ]
  },
  {
   "cell_type": "markdown",
   "metadata": {
    "toc": true
   },
   "source": [
    "<h1>Table of Contents<span class=\"tocSkip\"></span></h1>\n",
    "<div class=\"toc\"><ul class=\"toc-item\"><li><span><a href=\"#Import-libraries,-load-data\" data-toc-modified-id=\"Import-libraries,-load-data-1\"><span class=\"toc-item-num\">1&nbsp;&nbsp;</span>Import libraries, load data</a></span></li><li><span><a href=\"#Inspect-Feature-Importance-for-ElasticNet-Model\" data-toc-modified-id=\"Inspect-Feature-Importance-for-ElasticNet-Model-2\"><span class=\"toc-item-num\">2&nbsp;&nbsp;</span>Inspect Feature Importance for ElasticNet Model</a></span><ul class=\"toc-item\"><li><span><a href=\"#Calculate-Coefficent-Weights\" data-toc-modified-id=\"Calculate-Coefficent-Weights-2.1\"><span class=\"toc-item-num\">2.1&nbsp;&nbsp;</span>Calculate Coefficent Weights</a></span></li><li><span><a href=\"#Apply-Recursive-Feature-Elimination-With-Cross-Validation-(RFECV)\" data-toc-modified-id=\"Apply-Recursive-Feature-Elimination-With-Cross-Validation-(RFECV)-2.2\"><span class=\"toc-item-num\">2.2&nbsp;&nbsp;</span>Apply Recursive Feature Elimination With Cross Validation (RFECV)</a></span></li><li><span><a href=\"#Apply-Permuation-Importance\" data-toc-modified-id=\"Apply-Permuation-Importance-2.3\"><span class=\"toc-item-num\">2.3&nbsp;&nbsp;</span>Apply Permuation Importance</a></span></li></ul></li><li><span><a href=\"#Inspect-Feature-Importance-for-XGB-Model\" data-toc-modified-id=\"Inspect-Feature-Importance-for-XGB-Model-3\"><span class=\"toc-item-num\">3&nbsp;&nbsp;</span>Inspect Feature Importance for XGB Model</a></span><ul class=\"toc-item\"><li><span><a href=\"#Using-Built-in-XGBoost-Feature-Importance-Plot\" data-toc-modified-id=\"Using-Built-in-XGBoost-Feature-Importance-Plot-3.1\"><span class=\"toc-item-num\">3.1&nbsp;&nbsp;</span>Using Built-in XGBoost Feature Importance Plot</a></span></li><li><span><a href=\"#Inspect-Feature-Importance---Weights\" data-toc-modified-id=\"Inspect-Feature-Importance---Weights-3.2\"><span class=\"toc-item-num\">3.2&nbsp;&nbsp;</span>Inspect Feature Importance - Weights</a></span><ul class=\"toc-item\"><li><span><a href=\"#Manually\" data-toc-modified-id=\"Manually-3.2.1\"><span class=\"toc-item-num\">3.2.1&nbsp;&nbsp;</span>Manually</a></span></li><li><span><a href=\"#With-eli5\" data-toc-modified-id=\"With-eli5-3.2.2\"><span class=\"toc-item-num\">3.2.2&nbsp;&nbsp;</span>With eli5</a></span></li></ul></li><li><span><a href=\"#Inspect-Feature-Importance---Gains\" data-toc-modified-id=\"Inspect-Feature-Importance---Gains-3.3\"><span class=\"toc-item-num\">3.3&nbsp;&nbsp;</span>Inspect Feature Importance - Gains</a></span><ul class=\"toc-item\"><li><span><a href=\"#Manually\" data-toc-modified-id=\"Manually-3.3.1\"><span class=\"toc-item-num\">3.3.1&nbsp;&nbsp;</span>Manually</a></span></li><li><span><a href=\"#With-eli5\" data-toc-modified-id=\"With-eli5-3.3.2\"><span class=\"toc-item-num\">3.3.2&nbsp;&nbsp;</span>With eli5</a></span></li></ul></li></ul></li><li><span><a href=\"#Compare-Top-15-features-for-the-2-models,-and-XGB-gains-vs.-weights\" data-toc-modified-id=\"Compare-Top-15-features-for-the-2-models,-and-XGB-gains-vs.-weights-4\"><span class=\"toc-item-num\">4&nbsp;&nbsp;</span>Compare Top-15 features for the 2 models, and XGB gains vs. weights</a></span></li><li><span><a href=\"#Appendix:-Re-fit-and-Re-evaluate-XGB-with-Reduced-Feature-Set\" data-toc-modified-id=\"Appendix:-Re-fit-and-Re-evaluate-XGB-with-Reduced-Feature-Set-5\"><span class=\"toc-item-num\">5&nbsp;&nbsp;</span>Appendix: Re-fit and Re-evaluate XGB with Reduced Feature Set</a></span><ul class=\"toc-item\"><li><span><a href=\"#Hands-on-Approach\" data-toc-modified-id=\"Hands-on-Approach-5.1\"><span class=\"toc-item-num\">5.1&nbsp;&nbsp;</span>Hands-on Approach</a></span></li><li><span><a href=\"#Feature-Selection-Using-XGBoost-Feature-Importance-(Weights)\" data-toc-modified-id=\"Feature-Selection-Using-XGBoost-Feature-Importance-(Weights)-5.2\"><span class=\"toc-item-num\">5.2&nbsp;&nbsp;</span>Feature Selection Using XGBoost Feature Importance (Weights)</a></span></li><li><span><a href=\"#Feature-Selection-Using-XGBoost-Feature-Gains-(NOT-YET-WORKING)\" data-toc-modified-id=\"Feature-Selection-Using-XGBoost-Feature-Gains-(NOT-YET-WORKING)-5.3\"><span class=\"toc-item-num\">5.3&nbsp;&nbsp;</span>Feature Selection Using XGBoost Feature Gains (NOT YET WORKING)</a></span></li></ul></li></ul></div>"
   ]
  },
  {
   "cell_type": "markdown",
   "metadata": {},
   "source": [
    "---"
   ]
  },
  {
   "cell_type": "markdown",
   "metadata": {},
   "source": [
    "## Import libraries, load data"
   ]
  },
  {
   "cell_type": "code",
   "execution_count": 1,
   "metadata": {
    "ExecuteTime": {
     "end_time": "2019-04-29T21:21:43.970974Z",
     "start_time": "2019-04-29T21:21:41.840770Z"
    }
   },
   "outputs": [],
   "source": [
    "# Import libraries\n",
    "import numpy as np\n",
    "import pandas as pd\n",
    "from tqdm import tqdm\n",
    "\n",
    "from xgboost import XGBRegressor\n",
    "from xgboost import plot_importance\n",
    "\n",
    "from sklearn.linear_model import ElasticNet\n",
    "from sklearn.externals import joblib\n",
    "from sklearn.metrics import r2_score, mean_squared_error\n",
    "from sklearn.model_selection import StratifiedKFold, train_test_split\n",
    "from sklearn.feature_selection import RFECV, SelectFromModel\n",
    "\n",
    "import eli5\n",
    "from eli5.sklearn import PermutationImportance\n",
    "from eli5 import explain_weights_xgboost, explain_prediction_xgboost\n",
    "\n",
    "# My functions\n",
    "import EDA_functions as EDA\n",
    "import cleaning_functions as cleaning\n",
    "from linRegModel_class import LinRegModel\n",
    "import custom_transformers as transform\n",
    "\n",
    "# Visualization\n",
    "import matplotlib.pyplot as plt\n",
    "import seaborn as sns #, sns.set_style('whitegrid')\n",
    "color = 'rebeccapurple'\n",
    "%matplotlib inline\n",
    "\n",
    "# Display settings\n",
    "from IPython.display import display\n",
    "pd.options.display.max_columns = 100\n",
    "\n",
    "import warnings\n",
    "warnings.simplefilter(action='ignore', category=FutureWarning)"
   ]
  },
  {
   "cell_type": "code",
   "execution_count": 2,
   "metadata": {
    "ExecuteTime": {
     "end_time": "2019-04-29T21:21:44.161074Z",
     "start_time": "2019-04-29T21:21:43.970974Z"
    }
   },
   "outputs": [
    {
     "name": "stderr",
     "output_type": "stream",
     "text": [
      "C:\\Users\\r2d4\\Anaconda3\\lib\\site-packages\\sklearn\\base.py:253: UserWarning: Trying to unpickle estimator ElasticNet from version 0.20.2 when using version 0.20.3. This might lead to breaking code or invalid results. Use at your own risk.\n",
      "  UserWarning)\n"
     ]
    }
   ],
   "source": [
    "# Load labels, data and model\n",
    "%store -r feature_names\n",
    "%store -r feature_names_XGB\n",
    "\n",
    "elastic_net_final = joblib.load('models/elastic_net_final.pkl')\n",
    "XGB_final = joblib.load('models/XGB_final.pkl')\n",
    "\n",
    "EN_train = pd.read_csv('data/interim/train_opti_EN')\n",
    "EN_labels = pd.read_csv('data/interim/y_train_EN')\n",
    "\n",
    "XGB_features = pd.read_csv('data/interim/features_XGB')\n",
    "XGB_labels = pd.read_csv('data/interim/labels_XGB')"
   ]
  },
  {
   "cell_type": "markdown",
   "metadata": {},
   "source": [
    "## Inspect Feature Importance for ElasticNet Model\n",
    "### Calculate Coefficent Weights"
   ]
  },
  {
   "cell_type": "code",
   "execution_count": 3,
   "metadata": {
    "ExecuteTime": {
     "end_time": "2019-04-29T21:21:46.241010Z",
     "start_time": "2019-04-29T21:21:46.229443Z"
    }
   },
   "outputs": [],
   "source": [
    "def get_coef_weights(model, feature_names, drop_zero=False):\n",
    "    ''' Returns DataFrame with coefficient weights for the features. If \n",
    "    drop_zero ist True, then only features with weights != 0 are returned.\n",
    "    \n",
    "    ARGUMENTS:\n",
    "    model: fitted model instance\n",
    "    feature_names: list or index of column_labels\n",
    "    drop_zero: bool, drop coefs with 0 weight (default=False)\n",
    "\n",
    "    RETURNS:\n",
    "    coefs_df: dataframe holding coeff weights and error\n",
    "    '''\n",
    "    \n",
    "    coefs_df = pd.DataFrame(model.coef_, \n",
    "                            index=feature_names, \n",
    "                            columns=['weight']\n",
    "                           )\n",
    "    \n",
    "    # Sort by absolute weights\n",
    "    coefs_df['abs_weight'] = np.abs(coefs_df['weight'])\n",
    "    coefs_df = coefs_df.sort_values('abs_weight', ascending=False)\n",
    "    coefs_df.drop('abs_weight', axis=1, inplace=True)\n",
    "    \n",
    "    if drop_zero == True:\n",
    "        coefs_df = coefs_df.loc[coefs_df['weight'] != 0]\n",
    "    \n",
    "    return coefs_df"
   ]
  },
  {
   "cell_type": "code",
   "execution_count": 4,
   "metadata": {
    "ExecuteTime": {
     "end_time": "2019-04-29T21:21:48.100897Z",
     "start_time": "2019-04-29T21:21:48.070983Z"
    }
   },
   "outputs": [],
   "source": [
    "EN_weights = get_coef_weights(elastic_net_final, feature_names, drop_zero=True)"
   ]
  },
  {
   "cell_type": "code",
   "execution_count": 5,
   "metadata": {
    "ExecuteTime": {
     "end_time": "2019-04-29T21:21:48.891218Z",
     "start_time": "2019-04-29T21:21:48.874629Z"
    }
   },
   "outputs": [],
   "source": [
    "def plot_coef_weights(coefs_df, feature_names, n_plot=30):\n",
    "    \"\"\"(Note: feature_names is only used for percentage calculation.)\"\"\"\n",
    "    \n",
    "    plt.figure(figsize=(12, 8))\n",
    "    plt.title(\"Top-{0:d} features\".format(n_plot), size=14)\n",
    "    coefs_df.iloc[:n_plot, 0].apply(np.abs).plot(kind='bar', color=color)\n",
    "    \n",
    "    n_features = len(feature_names)\n",
    "    n_weights = len(coefs_df.loc[coefs_df['weight'] != 0])\n",
    "    print('\\n{0:d} features remaining with weight > 0, \\\n",
    "    \\nthis equals a reduction of {1:2.2f}%'.format(\n",
    "            n_weights, (1 - (n_weights / n_features)) * 100))\n",
    " "
   ]
  },
  {
   "cell_type": "code",
   "execution_count": 6,
   "metadata": {
    "ExecuteTime": {
     "end_time": "2019-04-29T21:21:50.209704Z",
     "start_time": "2019-04-29T21:21:49.701107Z"
    }
   },
   "outputs": [
    {
     "name": "stdout",
     "output_type": "stream",
     "text": [
      "\n",
      "102 features remaining with weight > 0,     \n",
      "this equals a reduction of 66.88%\n"
     ]
    },
    {
     "data": {
      "image/png": "[encoded data removed]",
      "text/plain": [
       "<Figure size 864x576 with 1 Axes>"
      ]
     },
     "metadata": {
      "needs_background": "light"
     },
     "output_type": "display_data"
    }
   ],
   "source": [
    "plot_coef_weights(EN_weights, feature_names)"
   ]
  },
  {
   "cell_type": "code",
   "execution_count": 7,
   "metadata": {
    "ExecuteTime": {
     "end_time": "2019-04-29T21:21:52.530847Z",
     "start_time": "2019-04-29T21:21:52.504657Z"
    }
   },
   "outputs": [],
   "source": [
    "# Note contrary to weights in e.g. a Random Forest Model the coef weights here do not add up to 1\n",
    "# That's why I divide by the cum_total in the plot statements\n",
    "\n",
    "def plot_coef_weights_advanced(coefs_df, n_plot=15):\n",
    "    \n",
    "    cum_total = np.cumsum(coefs_df.iloc[:,0])[-1]\n",
    "    coefs_df = pd.DataFrame(coefs_df.iloc[:n_plot, 0].apply(np.abs))\n",
    "    \n",
    "    fig, ax = plt.subplots(figsize=(16, 6))\n",
    "    plt.bar(np.arange(len(coefs_df)), coefs_df.iloc[:, 0] / cum_total, width = 0.5, align=\"center\", \n",
    "            color = 'yellow', label = \"Feature Weight\")\n",
    "    plt.bar(np.arange(len(coefs_df)) - 0.3, np.cumsum(coefs_df.iloc[:, 0]) / cum_total, width = 0.4, \n",
    "            align = \"center\", color = 'rebeccapurple', label = \"Cumulative Feature Weights\")\n",
    "    \n",
    "    # styling\n",
    "    plt.title(\"Top-{0:d} features, with cumulative weights\".format(n_plot), size=14)\n",
    "    plt.ylabel(\"Prop of total coef weights\")\n",
    "    plt.xlabel(\"Features / Attributes\")\n",
    "    plt.xticks(np.arange(len(coefs_df)), coefs_df.index, rotation=90)\n",
    "    plt.legend(loc = 'upper left');\n",
    "    \n",
    "    cum_prop = np.cumsum(coefs_df.iloc[:,0])[-1] / cum_total\n",
    "    print(\"\\nTop-{0:d} features explain {1:2.2f}% of the total coef weights\".format(\n",
    "            n_plot, cum_prop*100))"
   ]
  },
  {
   "cell_type": "code",
   "execution_count": 8,
   "metadata": {
    "ExecuteTime": {
     "end_time": "2019-04-29T21:21:55.367320Z",
     "start_time": "2019-04-29T21:21:54.891039Z"
    }
   },
   "outputs": [
    {
     "name": "stdout",
     "output_type": "stream",
     "text": [
      "\n",
      "Top-20 features explain 129.98% of the total coef weights\n"
     ]
    },
    {
     "data": {
      "image/png": "[encoded data removed]",
      "text/plain": [
       "<Figure size 1152x432 with 1 Axes>"
      ]
     },
     "metadata": {
      "needs_background": "light"
     },
     "output_type": "display_data"
    }
   ],
   "source": [
    "plot_coef_weights_advanced(EN_weights, n_plot=20)"
   ]
  },
  {
   "cell_type": "markdown",
   "metadata": {},
   "source": [
    "\n",
    "\n",
    "**Re-examine feature importance with cumulative weights for categorical features:**"
   ]
  },
  {
   "cell_type": "code",
   "execution_count": 9,
   "metadata": {
    "ExecuteTime": {
     "end_time": "2019-04-29T21:22:00.171073Z",
     "start_time": "2019-04-29T21:22:00.104593Z"
    }
   },
   "outputs": [],
   "source": [
    "# Split feature names into category and sub-category\n",
    "EN_weights['category'] = EN_weights.index.str.split('_').str.get(0)\n",
    "EN_weights['sub_category'] = EN_weights.index.str.split('_').str.get(-1)\n",
    "# Group by category and sum the weights\n",
    "EN_weights['weight'] = EN_weights['weight'].apply(np.abs)\n",
    "EN_weights_cum = EN_weights.groupby('category').sum()\n",
    "EN_weights_cum.sort_values('weight', ascending=False, inplace=True)"
   ]
  },
  {
   "cell_type": "code",
   "execution_count": 10,
   "metadata": {
    "ExecuteTime": {
     "end_time": "2019-04-29T21:22:01.009782Z",
     "start_time": "2019-04-29T21:22:00.661052Z"
    }
   },
   "outputs": [
    {
     "name": "stdout",
     "output_type": "stream",
     "text": [
      "\n",
      "Top-15 features explain 66.82% of the total coef weights\n"
     ]
    },
    {
     "data": {
      "image/png": "[encoded data removed]",
      "text/plain": [
       "<Figure size 1152x432 with 1 Axes>"
      ]
     },
     "metadata": {
      "needs_background": "light"
     },
     "output_type": "display_data"
    }
   ],
   "source": [
    "plot_coef_weights_advanced(EN_weights_cum)"
   ]
  },
  {
   "cell_type": "code",
   "execution_count": 11,
   "metadata": {
    "ExecuteTime": {
     "end_time": "2019-04-29T21:22:15.680708Z",
     "start_time": "2019-04-29T21:22:15.650652Z"
    }
   },
   "outputs": [
    {
     "data": {
      "text/plain": [
       "308"
      ]
     },
     "execution_count": 11,
     "metadata": {},
     "output_type": "execute_result"
    }
   ],
   "source": [
    "test_weights = get_coef_weights(elastic_net_final, feature_names)\n",
    "len(test_weights)"
   ]
  },
  {
   "cell_type": "markdown",
   "metadata": {
    "ExecuteTime": {
     "end_time": "2019-04-06T17:27:40.744262Z",
     "start_time": "2019-04-06T17:27:40.696780Z"
    }
   },
   "source": [
    "### Apply Recursive Feature Elimination With Cross Validation (RFECV)\n",
    "\n",
    "[RFECV](https://scikit-learn.org/stable/modules/generated/sklearn.feature_selection.RFECV.html#sklearn.feature_selection.RFECV) performs RFE in a cross-validation loop to find the optimal number of features."
   ]
  },
  {
   "cell_type": "code",
   "execution_count": 12,
   "metadata": {
    "ExecuteTime": {
     "end_time": "2019-04-29T21:22:38.180561Z",
     "start_time": "2019-04-29T21:22:17.060801Z"
    }
   },
   "outputs": [
    {
     "name": "stdout",
     "output_type": "stream",
     "text": [
      "Optimal number of features : 80\n"
     ]
    },
    {
     "data": {
      "image/png": "[encoded data removed]",
      "text/plain": [
       "<Figure size 432x288 with 1 Axes>"
      ]
     },
     "metadata": {
      "needs_background": "light"
     },
     "output_type": "display_data"
    }
   ],
   "source": [
    "# # Create the RFE object and compute a cross-validated score\n",
    "rfecv = RFECV(estimator=elastic_net_final, step=1, cv=3)\n",
    "rfecv.fit(EN_train, pd.Series(EN_labels['SalePrice']))\n",
    "\n",
    "print(\"Optimal number of features : %d\" % rfecv.n_features_)\n",
    "\n",
    "# # Plot number of features VS. cross-validation scores\n",
    "plt.figure()\n",
    "plt.xlabel(\"Number of features selected\")\n",
    "plt.ylabel(\"Cross validation score\")\n",
    "plt.plot(range(1, len(rfecv.grid_scores_) + 1), rfecv.grid_scores_, color=color);"
   ]
  },
  {
   "cell_type": "code",
   "execution_count": 13,
   "metadata": {
    "ExecuteTime": {
     "end_time": "2019-04-29T21:22:38.220811Z",
     "start_time": "2019-04-29T21:22:38.180561Z"
    }
   },
   "outputs": [
    {
     "data": {
      "text/html": [
       "<div>\n",
       "<style scoped>\n",
       "    .dataframe tbody tr th:only-of-type {\n",
       "        vertical-align: middle;\n",
       "    }\n",
       "\n",
       "    .dataframe tbody tr th {\n",
       "        vertical-align: top;\n",
       "    }\n",
       "\n",
       "    .dataframe thead th {\n",
       "        text-align: right;\n",
       "    }\n",
       "</style>\n",
       "<table border=\"1\" class=\"dataframe\">\n",
       "  <thead>\n",
       "    <tr style=\"text-align: right;\">\n",
       "      <th></th>\n",
       "      <th>0</th>\n",
       "    </tr>\n",
       "  </thead>\n",
       "  <tbody>\n",
       "    <tr>\n",
       "      <th>1</th>\n",
       "      <td>Exterior1st_HdBoard</td>\n",
       "    </tr>\n",
       "    <tr>\n",
       "      <th>1</th>\n",
       "      <td>LandSlope_Mod</td>\n",
       "    </tr>\n",
       "    <tr>\n",
       "      <th>1</th>\n",
       "      <td>Exterior1st_nan</td>\n",
       "    </tr>\n",
       "    <tr>\n",
       "      <th>1</th>\n",
       "      <td>LotConfig_nan</td>\n",
       "    </tr>\n",
       "    <tr>\n",
       "      <th>1</th>\n",
       "      <td>Exterior2nd_HdBoard</td>\n",
       "    </tr>\n",
       "  </tbody>\n",
       "</table>\n",
       "</div>"
      ],
      "text/plain": [
       "                     0\n",
       "1  Exterior1st_HdBoard\n",
       "1        LandSlope_Mod\n",
       "1      Exterior1st_nan\n",
       "1        LotConfig_nan\n",
       "1  Exterior2nd_HdBoard"
      ]
     },
     "execution_count": 13,
     "metadata": {},
     "output_type": "execute_result"
    }
   ],
   "source": [
    "# Create DataFrame of feature names with rfecv-rank as index\n",
    "rfecv_ranking = pd.DataFrame(feature_names, index=rfecv.ranking_).sort_index()\n",
    "rfecv_ranking.head()"
   ]
  },
  {
   "cell_type": "code",
   "execution_count": 14,
   "metadata": {
    "ExecuteTime": {
     "end_time": "2019-04-29T21:22:38.241008Z",
     "start_time": "2019-04-29T21:22:38.223333Z"
    }
   },
   "outputs": [
    {
     "data": {
      "text/plain": [
       "1     80\n",
       "85     1\n",
       "83     1\n",
       "82     1\n",
       "81     1\n",
       "dtype: int64"
      ]
     },
     "execution_count": 14,
     "metadata": {},
     "output_type": "execute_result"
    }
   ],
   "source": [
    "rfecv_ranking.index.value_counts().head()"
   ]
  },
  {
   "cell_type": "markdown",
   "metadata": {},
   "source": [
    "**Observation:** All the 80 features that lead to the optimal scoring have rank 1."
   ]
  },
  {
   "cell_type": "code",
   "execution_count": 15,
   "metadata": {
    "ExecuteTime": {
     "end_time": "2019-04-29T21:22:38.260735Z",
     "start_time": "2019-04-29T21:22:38.243017Z"
    }
   },
   "outputs": [
    {
     "data": {
      "text/plain": [
       "set()"
      ]
     },
     "execution_count": 15,
     "metadata": {},
     "output_type": "execute_result"
    }
   ],
   "source": [
    "# Check if the top-ranked 102 features are the same ones as \n",
    "# those above with abs weight > 0\n",
    "top_ranked_rfecv = list(rfecv_ranking.iloc[:102, 0])\n",
    "set(top_ranked_rfecv).difference(set(EN_weights.index))"
   ]
  },
  {
   "cell_type": "markdown",
   "metadata": {
    "ExecuteTime": {
     "end_time": "2019-04-08T19:49:38.483944Z",
     "start_time": "2019-04-08T19:49:38.471960Z"
    }
   },
   "source": [
    "**Conclusion:** RFECV is not ideal to inspect feature importance because all features that are within the range of an optimal prediction have the same rank. But in another project I should apply it in a preprocessing pipeline to select the best features."
   ]
  },
  {
   "cell_type": "markdown",
   "metadata": {
    "ExecuteTime": {
     "end_time": "2019-04-08T20:46:38.171825Z",
     "start_time": "2019-04-08T20:46:38.163836Z"
    }
   },
   "source": [
    "### Apply Permuation Importance\n",
    "\n",
    "See [here](https://www.kaggle.com/dansbecker/permutation-importance) for an explanation."
   ]
  },
  {
   "cell_type": "code",
   "execution_count": 16,
   "metadata": {
    "ExecuteTime": {
     "end_time": "2019-04-29T21:22:42.490686Z",
     "start_time": "2019-04-29T21:22:38.263742Z"
    }
   },
   "outputs": [
    {
     "data": {
      "text/html": [
       "\n",
       "    <style>\n",
       "    table.eli5-weights tr:hover {\n",
       "        filter: brightness(85%);\n",
       "    }\n",
       "</style>\n",
       "\n",
       "\n",
       "\n",
       "    \n",
       "\n",
       "    \n",
       "\n",
       "    \n",
       "\n",
       "    \n",
       "\n",
       "    \n",
       "\n",
       "    \n",
       "\n",
       "\n",
       "    \n",
       "\n",
       "    \n",
       "\n",
       "    \n",
       "\n",
       "    \n",
       "\n",
       "    \n",
       "\n",
       "    \n",
       "\n",
       "\n",
       "    \n",
       "\n",
       "    \n",
       "\n",
       "    \n",
       "\n",
       "    \n",
       "\n",
       "    \n",
       "        <table class=\"eli5-weights eli5-feature-importances\" style=\"border-collapse: collapse; border: none; margin-top: 0em; table-layout: auto;\">\n",
       "    <thead>\n",
       "    <tr style=\"border: none;\">\n",
       "        <th style=\"padding: 0 1em 0 0.5em; text-align: right; border: none;\">Weight</th>\n",
       "        <th style=\"padding: 0 0.5em 0 0.5em; text-align: left; border: none;\">Feature</th>\n",
       "    </tr>\n",
       "    </thead>\n",
       "    <tbody>\n",
       "    \n",
       "        <tr style=\"background-color: hsl(120, 100.00%, 80.00%); border: none;\">\n",
       "            <td style=\"padding: 0 1em 0 0.5em; text-align: right; border: none;\">\n",
       "                0.2155\n",
       "                \n",
       "                    &plusmn; 0.0080\n",
       "                \n",
       "            </td>\n",
       "            <td style=\"padding: 0 0.5em 0 0.5em; text-align: left; border: none;\">\n",
       "                GrLivArea\n",
       "            </td>\n",
       "        </tr>\n",
       "    \n",
       "        <tr style=\"background-color: hsl(120, 100.00%, 92.26%); border: none;\">\n",
       "            <td style=\"padding: 0 1em 0 0.5em; text-align: right; border: none;\">\n",
       "                0.0556\n",
       "                \n",
       "                    &plusmn; 0.0052\n",
       "                \n",
       "            </td>\n",
       "            <td style=\"padding: 0 0.5em 0 0.5em; text-align: left; border: none;\">\n",
       "                OverallQual\n",
       "            </td>\n",
       "        </tr>\n",
       "    \n",
       "        <tr style=\"background-color: hsl(120, 100.00%, 92.96%); border: none;\">\n",
       "            <td style=\"padding: 0 1em 0 0.5em; text-align: right; border: none;\">\n",
       "                0.0485\n",
       "                \n",
       "                    &plusmn; 0.0070\n",
       "                \n",
       "            </td>\n",
       "            <td style=\"padding: 0 0.5em 0 0.5em; text-align: left; border: none;\">\n",
       "                YearBuilt\n",
       "            </td>\n",
       "        </tr>\n",
       "    \n",
       "        <tr style=\"background-color: hsl(120, 100.00%, 94.40%); border: none;\">\n",
       "            <td style=\"padding: 0 1em 0 0.5em; text-align: right; border: none;\">\n",
       "                0.0350\n",
       "                \n",
       "                    &plusmn; 0.0067\n",
       "                \n",
       "            </td>\n",
       "            <td style=\"padding: 0 0.5em 0 0.5em; text-align: left; border: none;\">\n",
       "                OverallCond\n",
       "            </td>\n",
       "        </tr>\n",
       "    \n",
       "        <tr style=\"background-color: hsl(120, 100.00%, 95.06%); border: none;\">\n",
       "            <td style=\"padding: 0 1em 0 0.5em; text-align: right; border: none;\">\n",
       "                0.0292\n",
       "                \n",
       "                    &plusmn; 0.0047\n",
       "                \n",
       "            </td>\n",
       "            <td style=\"padding: 0 0.5em 0 0.5em; text-align: left; border: none;\">\n",
       "                LotArea\n",
       "            </td>\n",
       "        </tr>\n",
       "    \n",
       "        <tr style=\"background-color: hsl(120, 100.00%, 95.82%); border: none;\">\n",
       "            <td style=\"padding: 0 1em 0 0.5em; text-align: right; border: none;\">\n",
       "                0.0230\n",
       "                \n",
       "                    &plusmn; 0.0020\n",
       "                \n",
       "            </td>\n",
       "            <td style=\"padding: 0 0.5em 0 0.5em; text-align: left; border: none;\">\n",
       "                TotalBsmtSF\n",
       "            </td>\n",
       "        </tr>\n",
       "    \n",
       "        <tr style=\"background-color: hsl(120, 100.00%, 97.87%); border: none;\">\n",
       "            <td style=\"padding: 0 1em 0 0.5em; text-align: right; border: none;\">\n",
       "                0.0088\n",
       "                \n",
       "                    &plusmn; 0.0023\n",
       "                \n",
       "            </td>\n",
       "            <td style=\"padding: 0 0.5em 0 0.5em; text-align: left; border: none;\">\n",
       "                BsmtFinSF1\n",
       "            </td>\n",
       "        </tr>\n",
       "    \n",
       "        <tr style=\"background-color: hsl(120, 100.00%, 97.89%); border: none;\">\n",
       "            <td style=\"padding: 0 1em 0 0.5em; text-align: right; border: none;\">\n",
       "                0.0087\n",
       "                \n",
       "                    &plusmn; 0.0017\n",
       "                \n",
       "            </td>\n",
       "            <td style=\"padding: 0 0.5em 0 0.5em; text-align: left; border: none;\">\n",
       "                Heating_GasW\n",
       "            </td>\n",
       "        </tr>\n",
       "    \n",
       "        <tr style=\"background-color: hsl(120, 100.00%, 98.07%); border: none;\">\n",
       "            <td style=\"padding: 0 1em 0 0.5em; text-align: right; border: none;\">\n",
       "                0.0076\n",
       "                \n",
       "                    &plusmn; 0.0003\n",
       "                \n",
       "            </td>\n",
       "            <td style=\"padding: 0 0.5em 0 0.5em; text-align: left; border: none;\">\n",
       "                GarageArea\n",
       "            </td>\n",
       "        </tr>\n",
       "    \n",
       "        <tr style=\"background-color: hsl(120, 100.00%, 98.44%); border: none;\">\n",
       "            <td style=\"padding: 0 1em 0 0.5em; text-align: right; border: none;\">\n",
       "                0.0056\n",
       "                \n",
       "                    &plusmn; 0.0015\n",
       "                \n",
       "            </td>\n",
       "            <td style=\"padding: 0 0.5em 0 0.5em; text-align: left; border: none;\">\n",
       "                Fireplaces\n",
       "            </td>\n",
       "        </tr>\n",
       "    \n",
       "        <tr style=\"background-color: hsl(120, 100.00%, 98.46%); border: none;\">\n",
       "            <td style=\"padding: 0 1em 0 0.5em; text-align: right; border: none;\">\n",
       "                0.0055\n",
       "                \n",
       "                    &plusmn; 0.0016\n",
       "                \n",
       "            </td>\n",
       "            <td style=\"padding: 0 0.5em 0 0.5em; text-align: left; border: none;\">\n",
       "                Neighborhood_Veenker\n",
       "            </td>\n",
       "        </tr>\n",
       "    \n",
       "        <tr style=\"background-color: hsl(120, 100.00%, 98.47%); border: none;\">\n",
       "            <td style=\"padding: 0 1em 0 0.5em; text-align: right; border: none;\">\n",
       "                0.0055\n",
       "                \n",
       "                    &plusmn; 0.0011\n",
       "                \n",
       "            </td>\n",
       "            <td style=\"padding: 0 0.5em 0 0.5em; text-align: left; border: none;\">\n",
       "                RoofMatl_Membran\n",
       "            </td>\n",
       "        </tr>\n",
       "    \n",
       "        <tr style=\"background-color: hsl(120, 100.00%, 98.77%); border: none;\">\n",
       "            <td style=\"padding: 0 1em 0 0.5em; text-align: right; border: none;\">\n",
       "                0.0040\n",
       "                \n",
       "                    &plusmn; 0.0010\n",
       "                \n",
       "            </td>\n",
       "            <td style=\"padding: 0 0.5em 0 0.5em; text-align: left; border: none;\">\n",
       "                YearRemodAdd\n",
       "            </td>\n",
       "        </tr>\n",
       "    \n",
       "        <tr style=\"background-color: hsl(120, 100.00%, 98.92%); border: none;\">\n",
       "            <td style=\"padding: 0 1em 0 0.5em; text-align: right; border: none;\">\n",
       "                0.0033\n",
       "                \n",
       "                    &plusmn; 0.0008\n",
       "                \n",
       "            </td>\n",
       "            <td style=\"padding: 0 0.5em 0 0.5em; text-align: left; border: none;\">\n",
       "                BsmtFullBath\n",
       "            </td>\n",
       "        </tr>\n",
       "    \n",
       "        <tr style=\"background-color: hsl(120, 100.00%, 98.97%); border: none;\">\n",
       "            <td style=\"padding: 0 1em 0 0.5em; text-align: right; border: none;\">\n",
       "                0.0031\n",
       "                \n",
       "                    &plusmn; 0.0009\n",
       "                \n",
       "            </td>\n",
       "            <td style=\"padding: 0 0.5em 0 0.5em; text-align: left; border: none;\">\n",
       "                Neighborhood_SWISU\n",
       "            </td>\n",
       "        </tr>\n",
       "    \n",
       "        <tr style=\"background-color: hsl(120, 100.00%, 99.04%); border: none;\">\n",
       "            <td style=\"padding: 0 1em 0 0.5em; text-align: right; border: none;\">\n",
       "                0.0028\n",
       "                \n",
       "                    &plusmn; 0.0013\n",
       "                \n",
       "            </td>\n",
       "            <td style=\"padding: 0 0.5em 0 0.5em; text-align: left; border: none;\">\n",
       "                RoofMatl_Roll\n",
       "            </td>\n",
       "        </tr>\n",
       "    \n",
       "        <tr style=\"background-color: hsl(120, 100.00%, 99.09%); border: none;\">\n",
       "            <td style=\"padding: 0 1em 0 0.5em; text-align: right; border: none;\">\n",
       "                0.0026\n",
       "                \n",
       "                    &plusmn; 0.0015\n",
       "                \n",
       "            </td>\n",
       "            <td style=\"padding: 0 0.5em 0 0.5em; text-align: left; border: none;\">\n",
       "                Neighborhood_Somerst\n",
       "            </td>\n",
       "        </tr>\n",
       "    \n",
       "        <tr style=\"background-color: hsl(120, 100.00%, 99.15%); border: none;\">\n",
       "            <td style=\"padding: 0 1em 0 0.5em; text-align: right; border: none;\">\n",
       "                0.0024\n",
       "                \n",
       "                    &plusmn; 0.0005\n",
       "                \n",
       "            </td>\n",
       "            <td style=\"padding: 0 0.5em 0 0.5em; text-align: left; border: none;\">\n",
       "                CentralAir_nan\n",
       "            </td>\n",
       "        </tr>\n",
       "    \n",
       "        <tr style=\"background-color: hsl(120, 100.00%, 99.17%); border: none;\">\n",
       "            <td style=\"padding: 0 1em 0 0.5em; text-align: right; border: none;\">\n",
       "                0.0023\n",
       "                \n",
       "                    &plusmn; 0.0011\n",
       "                \n",
       "            </td>\n",
       "            <td style=\"padding: 0 0.5em 0 0.5em; text-align: left; border: none;\">\n",
       "                Exterior1st_VinylSd\n",
       "            </td>\n",
       "        </tr>\n",
       "    \n",
       "        <tr style=\"background-color: hsl(120, 100.00%, 99.19%); border: none;\">\n",
       "            <td style=\"padding: 0 1em 0 0.5em; text-align: right; border: none;\">\n",
       "                0.0022\n",
       "                \n",
       "                    &plusmn; 0.0013\n",
       "                \n",
       "            </td>\n",
       "            <td style=\"padding: 0 0.5em 0 0.5em; text-align: left; border: none;\">\n",
       "                Exterior2nd_MetalSd\n",
       "            </td>\n",
       "        </tr>\n",
       "    \n",
       "    \n",
       "        \n",
       "            <tr style=\"background-color: hsl(120, 100.00%, 99.19%); border: none;\">\n",
       "                <td colspan=\"2\" style=\"padding: 0 0.5em 0 0.5em; text-align: center; border: none; white-space: nowrap;\">\n",
       "                    <i>&hellip; 288 more &hellip;</i>\n",
       "                </td>\n",
       "            </tr>\n",
       "        \n",
       "    \n",
       "    </tbody>\n",
       "</table>\n",
       "    \n",
       "\n",
       "    \n",
       "\n",
       "\n",
       "    \n",
       "\n",
       "    \n",
       "\n",
       "    \n",
       "\n",
       "    \n",
       "\n",
       "    \n",
       "\n",
       "    \n",
       "\n",
       "\n",
       "\n"
      ],
      "text/plain": [
       "<IPython.core.display.HTML object>"
      ]
     },
     "execution_count": 16,
     "metadata": {},
     "output_type": "execute_result"
    }
   ],
   "source": [
    "perm = PermutationImportance(elastic_net_final, random_state=1).fit(EN_train, EN_labels)\n",
    "eli5.show_weights(perm, feature_names = list(feature_names))"
   ]
  },
  {
   "cell_type": "markdown",
   "metadata": {},
   "source": [
    "**Interpreting Permutation Importances:**\n",
    "The values towards the top are the most important features, and those towards the bottom matter least.\n",
    "The first number in each row shows how much model performance decreased with a random shuffling (in this case, using \"accuracy\" as the performance metric).\n",
    "\n",
    "Like most things in data science, there is some randomness to the exact performance change from a shuffling a column. We measure the amount of randomness in our permutation importance calculation by repeating the process with multiple shuffles. The number after the ± measures how performance varied from one-reshuffling to the next.\n",
    "\n",
    "You'll occasionally see negative values for permutation importances. In those cases, the predictions on the shuffled (or noisy) data happened to be more accurate than the real data. This happens when the feature didn't matter (should have had an importance close to 0), but random chance caused the predictions on shuffled data to be more accurate. This is more common with small datasets, like the one in this example, because there is more room for luck/chance."
   ]
  },
  {
   "cell_type": "markdown",
   "metadata": {},
   "source": [
    "**Observation:** There is some overlap with the features that have biggest coef weights, but there are also some 'new' features here like 'GarageArea' or 'Fireplaces'.\n"
   ]
  },
  {
   "cell_type": "markdown",
   "metadata": {},
   "source": [
    "## Inspect Feature Importance for XGB Model\n",
    "\n",
    "### Using Built-in XGBoost Feature Importance Plot"
   ]
  },
  {
   "cell_type": "code",
   "execution_count": 17,
   "metadata": {
    "ExecuteTime": {
     "end_time": "2019-04-29T21:23:03.770551Z",
     "start_time": "2019-04-29T21:23:01.023107Z"
    }
   },
   "outputs": [
    {
     "data": {
      "image/png": "[encoded data removed]",
      "text/plain": [
       "<Figure size 432x288 with 1 Axes>"
      ]
     },
     "metadata": {
      "needs_background": "light"
     },
     "output_type": "display_data"
    }
   ],
   "source": [
    "plot_importance(XGB_final);"
   ]
  },
  {
   "cell_type": "markdown",
   "metadata": {},
   "source": [
    "This is not supposed to look this way ... maybe to many features?"
   ]
  },
  {
   "cell_type": "markdown",
   "metadata": {
    "ExecuteTime": {
     "end_time": "2019-04-13T14:29:47.328569Z",
     "start_time": "2019-04-13T14:29:47.297003Z"
    }
   },
   "source": [
    "### Inspect Feature Importance - Weights\n",
    "\n",
    "#### Manually\n",
    "\n",
    "**Note:** I re-use the plot functions from above."
   ]
  },
  {
   "cell_type": "code",
   "execution_count": 18,
   "metadata": {
    "ExecuteTime": {
     "end_time": "2019-04-29T21:23:07.310783Z",
     "start_time": "2019-04-29T21:23:07.270567Z"
    }
   },
   "outputs": [
    {
     "data": {
      "text/plain": [
       "array([0.02139685, 0.06580541, 0.04965684, 0.05651999, 0.03754542],\n",
       "      dtype=float32)"
      ]
     },
     "execution_count": 18,
     "metadata": {},
     "output_type": "execute_result"
    }
   ],
   "source": [
    "# Look at feature importances of fitted model\n",
    "XGB_final.feature_importances_[:5]"
   ]
  },
  {
   "cell_type": "code",
   "execution_count": 66,
   "metadata": {
    "ExecuteTime": {
     "end_time": "2019-04-29T21:49:56.241614Z",
     "start_time": "2019-04-29T21:49:56.225992Z"
    }
   },
   "outputs": [],
   "source": [
    "def get_feature_importances(model, feature_names, drop_zero=False):\n",
    "    ''' Returns DataFrame with 'weight' metric for the different features. If \n",
    "    drop_zero ist True, then only features with value != 0 are returned.\n",
    "    (This model has a little different syntax as the one above.)\n",
    "    \n",
    "    ARGUMENTS:\n",
    "    model: fitted XGBoost model instance\n",
    "    feature_names: list or index of column_labels\n",
    "    drop_zero: bool, drop coefs with 0 weight (default=False)\n",
    "\n",
    "    RETURNS:\n",
    "    coefs_df: dataframe holding 'weight' metrics\n",
    "    '''\n",
    "    \n",
    "    coefs_df = pd.DataFrame(model.feature_importances_,  # syntax change\n",
    "                            index=feature_names, \n",
    "                            columns=['weight']\n",
    "                           )\n",
    "    \n",
    "    # Sort by absolute weights\n",
    "    coefs_df['abs_weight'] = np.abs(coefs_df['weight'])\n",
    "    coefs_df = coefs_df.sort_values('abs_weight', ascending=False)\n",
    "    coefs_df.drop('abs_weight', axis=1, inplace=True)\n",
    "    \n",
    "    if drop_zero == True:\n",
    "        coefs_df = coefs_df.loc[coefs_df['weight'] != 0]\n",
    "    \n",
    "    return coefs_df"
   ]
  },
  {
   "cell_type": "code",
   "execution_count": 67,
   "metadata": {
    "ExecuteTime": {
     "end_time": "2019-04-29T21:49:56.880870Z",
     "start_time": "2019-04-29T21:49:56.843077Z"
    }
   },
   "outputs": [],
   "source": [
    "XGB_importances = get_feature_importances(XGB_final, feature_names_XGB, drop_zero=True)"
   ]
  },
  {
   "cell_type": "code",
   "execution_count": 68,
   "metadata": {
    "ExecuteTime": {
     "end_time": "2019-04-29T21:49:58.237470Z",
     "start_time": "2019-04-29T21:49:57.827514Z"
    },
    "scrolled": false
   },
   "outputs": [
    {
     "name": "stdout",
     "output_type": "stream",
     "text": [
      "\n",
      "147 features remaining with weight > 0,     \n",
      "this equals a reduction of 52.27%\n"
     ]
    },
    {
     "data": {
      "image/png": "[encoded data removed]",
      "text/plain": [
       "<Figure size 864x576 with 1 Axes>"
      ]
     },
     "metadata": {
      "needs_background": "light"
     },
     "output_type": "display_data"
    }
   ],
   "source": [
    "plot_coef_weights(XGB_importances, feature_names_XGB)"
   ]
  },
  {
   "cell_type": "code",
   "execution_count": 69,
   "metadata": {
    "ExecuteTime": {
     "end_time": "2019-04-29T21:49:59.478806Z",
     "start_time": "2019-04-29T21:49:59.115605Z"
    }
   },
   "outputs": [
    {
     "name": "stdout",
     "output_type": "stream",
     "text": [
      "\n",
      "Top-15 features explain 56.24% of the total coef weights\n"
     ]
    },
    {
     "data": {
      "image/png": "[encoded data removed]",
      "text/plain": [
       "<Figure size 1152x432 with 1 Axes>"
      ]
     },
     "metadata": {
      "needs_background": "light"
     },
     "output_type": "display_data"
    }
   ],
   "source": [
    "plot_coef_weights_advanced(XGB_importances)"
   ]
  },
  {
   "cell_type": "code",
   "execution_count": 70,
   "metadata": {
    "ExecuteTime": {
     "end_time": "2019-04-29T21:50:00.003418Z",
     "start_time": "2019-04-29T21:49:59.934416Z"
    }
   },
   "outputs": [],
   "source": [
    "# Split feature names into category and sub-category\n",
    "XGB_importances['category'] = XGB_importances.index.str.split('_').str.get(0)\n",
    "XGB_importances['sub_category'] = XGB_importances.index.str.split('_').str.get(-1)\n",
    "# Group by category and sum the weights\n",
    "XGB_importances['weight'] = XGB_importances['weight'].apply(np.abs)\n",
    "XGB_importances_cum = XGB_importances.groupby('category').sum()\n",
    "XGB_importances_cum.sort_values('weight', ascending=False, inplace=True)"
   ]
  },
  {
   "cell_type": "code",
   "execution_count": 71,
   "metadata": {
    "ExecuteTime": {
     "end_time": "2019-04-29T21:50:01.317142Z",
     "start_time": "2019-04-29T21:50:00.973347Z"
    },
    "scrolled": true
   },
   "outputs": [
    {
     "name": "stdout",
     "output_type": "stream",
     "text": [
      "\n",
      "Top-15 features explain 61.08% of the total coef weights\n"
     ]
    },
    {
     "data": {
      "image/png": "[encoded data removed]",
      "text/plain": [
       "<Figure size 1152x432 with 1 Axes>"
      ]
     },
     "metadata": {
      "needs_background": "light"
     },
     "output_type": "display_data"
    }
   ],
   "source": [
    "plot_coef_weights_advanced(XGB_importances_cum)"
   ]
  },
  {
   "cell_type": "markdown",
   "metadata": {},
   "source": [
    "#### With eli5"
   ]
  },
  {
   "cell_type": "code",
   "execution_count": 27,
   "metadata": {
    "ExecuteTime": {
     "end_time": "2019-04-29T21:26:01.278999Z",
     "start_time": "2019-04-29T21:26:01.253699Z"
    }
   },
   "outputs": [
    {
     "data": {
      "text/html": [
       "\n",
       "    <style>\n",
       "    table.eli5-weights tr:hover {\n",
       "        filter: brightness(85%);\n",
       "    }\n",
       "</style>\n",
       "\n",
       "\n",
       "\n",
       "    \n",
       "\n",
       "    \n",
       "\n",
       "    \n",
       "\n",
       "    \n",
       "\n",
       "    \n",
       "\n",
       "    \n",
       "\n",
       "\n",
       "    \n",
       "\n",
       "    \n",
       "\n",
       "    \n",
       "\n",
       "    \n",
       "\n",
       "    \n",
       "\n",
       "    \n",
       "\n",
       "\n",
       "    \n",
       "\n",
       "    \n",
       "\n",
       "    \n",
       "\n",
       "    \n",
       "\n",
       "    \n",
       "        <table class=\"eli5-weights eli5-feature-importances\" style=\"border-collapse: collapse; border: none; margin-top: 0em; table-layout: auto;\">\n",
       "    <thead>\n",
       "    <tr style=\"border: none;\">\n",
       "        <th style=\"padding: 0 1em 0 0.5em; text-align: right; border: none;\">Weight</th>\n",
       "        <th style=\"padding: 0 0.5em 0 0.5em; text-align: left; border: none;\">Feature</th>\n",
       "    </tr>\n",
       "    </thead>\n",
       "    <tbody>\n",
       "    \n",
       "        <tr style=\"background-color: hsl(120, 100.00%, 80.00%); border: none;\">\n",
       "            <td style=\"padding: 0 1em 0 0.5em; text-align: right; border: none;\">\n",
       "                0.0658\n",
       "                \n",
       "            </td>\n",
       "            <td style=\"padding: 0 0.5em 0 0.5em; text-align: left; border: none;\">\n",
       "                LotFrontage\n",
       "            </td>\n",
       "        </tr>\n",
       "    \n",
       "        <tr style=\"background-color: hsl(120, 100.00%, 80.17%); border: none;\">\n",
       "            <td style=\"padding: 0 1em 0 0.5em; text-align: right; border: none;\">\n",
       "                0.0650\n",
       "                \n",
       "            </td>\n",
       "            <td style=\"padding: 0 0.5em 0 0.5em; text-align: left; border: none;\">\n",
       "                GrLivArea\n",
       "            </td>\n",
       "        </tr>\n",
       "    \n",
       "        <tr style=\"background-color: hsl(120, 100.00%, 82.02%); border: none;\">\n",
       "            <td style=\"padding: 0 1em 0 0.5em; text-align: right; border: none;\">\n",
       "                0.0565\n",
       "                \n",
       "            </td>\n",
       "            <td style=\"padding: 0 0.5em 0 0.5em; text-align: left; border: none;\">\n",
       "                OverallQual\n",
       "            </td>\n",
       "        </tr>\n",
       "    \n",
       "        <tr style=\"background-color: hsl(120, 100.00%, 83.58%); border: none;\">\n",
       "            <td style=\"padding: 0 1em 0 0.5em; text-align: right; border: none;\">\n",
       "                0.0497\n",
       "                \n",
       "            </td>\n",
       "            <td style=\"padding: 0 0.5em 0 0.5em; text-align: left; border: none;\">\n",
       "                LotArea\n",
       "            </td>\n",
       "        </tr>\n",
       "    \n",
       "        <tr style=\"background-color: hsl(120, 100.00%, 85.89%); border: none;\">\n",
       "            <td style=\"padding: 0 1em 0 0.5em; text-align: right; border: none;\">\n",
       "                0.0400\n",
       "                \n",
       "            </td>\n",
       "            <td style=\"padding: 0 0.5em 0 0.5em; text-align: left; border: none;\">\n",
       "                BsmtUnfSF\n",
       "            </td>\n",
       "        </tr>\n",
       "    \n",
       "        <tr style=\"background-color: hsl(120, 100.00%, 86.19%); border: none;\">\n",
       "            <td style=\"padding: 0 1em 0 0.5em; text-align: right; border: none;\">\n",
       "                0.0388\n",
       "                \n",
       "            </td>\n",
       "            <td style=\"padding: 0 0.5em 0 0.5em; text-align: left; border: none;\">\n",
       "                GarageArea\n",
       "            </td>\n",
       "        </tr>\n",
       "    \n",
       "        <tr style=\"background-color: hsl(120, 100.00%, 86.50%); border: none;\">\n",
       "            <td style=\"padding: 0 1em 0 0.5em; text-align: right; border: none;\">\n",
       "                0.0375\n",
       "                \n",
       "            </td>\n",
       "            <td style=\"padding: 0 0.5em 0 0.5em; text-align: left; border: none;\">\n",
       "                GarageYrBlt\n",
       "            </td>\n",
       "        </tr>\n",
       "    \n",
       "        <tr style=\"background-color: hsl(120, 100.00%, 86.50%); border: none;\">\n",
       "            <td style=\"padding: 0 1em 0 0.5em; text-align: right; border: none;\">\n",
       "                0.0375\n",
       "                \n",
       "            </td>\n",
       "            <td style=\"padding: 0 0.5em 0 0.5em; text-align: left; border: none;\">\n",
       "                OverallCond\n",
       "            </td>\n",
       "        </tr>\n",
       "    \n",
       "        <tr style=\"background-color: hsl(120, 100.00%, 86.80%); border: none;\">\n",
       "            <td style=\"padding: 0 1em 0 0.5em; text-align: right; border: none;\">\n",
       "                0.0363\n",
       "                \n",
       "            </td>\n",
       "            <td style=\"padding: 0 0.5em 0 0.5em; text-align: left; border: none;\">\n",
       "                BsmtFinSF1\n",
       "            </td>\n",
       "        </tr>\n",
       "    \n",
       "        <tr style=\"background-color: hsl(120, 100.00%, 89.04%); border: none;\">\n",
       "            <td style=\"padding: 0 1em 0 0.5em; text-align: right; border: none;\">\n",
       "                0.0279\n",
       "                \n",
       "            </td>\n",
       "            <td style=\"padding: 0 0.5em 0 0.5em; text-align: left; border: none;\">\n",
       "                TotalBsmtSF\n",
       "            </td>\n",
       "        </tr>\n",
       "    \n",
       "        <tr style=\"background-color: hsl(120, 100.00%, 89.60%); border: none;\">\n",
       "            <td style=\"padding: 0 1em 0 0.5em; text-align: right; border: none;\">\n",
       "                0.0258\n",
       "                \n",
       "            </td>\n",
       "            <td style=\"padding: 0 0.5em 0 0.5em; text-align: left; border: none;\">\n",
       "                1stFlrSF\n",
       "            </td>\n",
       "        </tr>\n",
       "    \n",
       "        <tr style=\"background-color: hsl(120, 100.00%, 89.95%); border: none;\">\n",
       "            <td style=\"padding: 0 1em 0 0.5em; text-align: right; border: none;\">\n",
       "                0.0246\n",
       "                \n",
       "            </td>\n",
       "            <td style=\"padding: 0 0.5em 0 0.5em; text-align: left; border: none;\">\n",
       "                YearBuilt\n",
       "            </td>\n",
       "        </tr>\n",
       "    \n",
       "        <tr style=\"background-color: hsl(120, 100.00%, 90.89%); border: none;\">\n",
       "            <td style=\"padding: 0 1em 0 0.5em; text-align: right; border: none;\">\n",
       "                0.0214\n",
       "                \n",
       "            </td>\n",
       "            <td style=\"padding: 0 0.5em 0 0.5em; text-align: left; border: none;\">\n",
       "                MSSubClass\n",
       "            </td>\n",
       "        </tr>\n",
       "    \n",
       "        <tr style=\"background-color: hsl(120, 100.00%, 91.88%); border: none;\">\n",
       "            <td style=\"padding: 0 1em 0 0.5em; text-align: right; border: none;\">\n",
       "                0.0182\n",
       "                \n",
       "            </td>\n",
       "            <td style=\"padding: 0 0.5em 0 0.5em; text-align: left; border: none;\">\n",
       "                2ndFlrSF\n",
       "            </td>\n",
       "        </tr>\n",
       "    \n",
       "        <tr style=\"background-color: hsl(120, 100.00%, 92.13%); border: none;\">\n",
       "            <td style=\"padding: 0 1em 0 0.5em; text-align: right; border: none;\">\n",
       "                0.0174\n",
       "                \n",
       "            </td>\n",
       "            <td style=\"padding: 0 0.5em 0 0.5em; text-align: left; border: none;\">\n",
       "                MoSold\n",
       "            </td>\n",
       "        </tr>\n",
       "    \n",
       "        <tr style=\"background-color: hsl(120, 100.00%, 92.13%); border: none;\">\n",
       "            <td style=\"padding: 0 1em 0 0.5em; text-align: right; border: none;\">\n",
       "                0.0174\n",
       "                \n",
       "            </td>\n",
       "            <td style=\"padding: 0 0.5em 0 0.5em; text-align: left; border: none;\">\n",
       "                WoodDeckSF\n",
       "            </td>\n",
       "        </tr>\n",
       "    \n",
       "        <tr style=\"background-color: hsl(120, 100.00%, 92.39%); border: none;\">\n",
       "            <td style=\"padding: 0 1em 0 0.5em; text-align: right; border: none;\">\n",
       "                0.0166\n",
       "                \n",
       "            </td>\n",
       "            <td style=\"padding: 0 0.5em 0 0.5em; text-align: left; border: none;\">\n",
       "                OpenPorchSF\n",
       "            </td>\n",
       "        </tr>\n",
       "    \n",
       "        <tr style=\"background-color: hsl(120, 100.00%, 93.60%); border: none;\">\n",
       "            <td style=\"padding: 0 1em 0 0.5em; text-align: right; border: none;\">\n",
       "                0.0129\n",
       "                \n",
       "            </td>\n",
       "            <td style=\"padding: 0 0.5em 0 0.5em; text-align: left; border: none;\">\n",
       "                BsmtFinSF2\n",
       "            </td>\n",
       "        </tr>\n",
       "    \n",
       "        <tr style=\"background-color: hsl(120, 100.00%, 93.88%); border: none;\">\n",
       "            <td style=\"padding: 0 1em 0 0.5em; text-align: right; border: none;\">\n",
       "                0.0121\n",
       "                \n",
       "            </td>\n",
       "            <td style=\"padding: 0 0.5em 0 0.5em; text-align: left; border: none;\">\n",
       "                YearRemodAdd\n",
       "            </td>\n",
       "        </tr>\n",
       "    \n",
       "        <tr style=\"background-color: hsl(120, 100.00%, 93.88%); border: none;\">\n",
       "            <td style=\"padding: 0 1em 0 0.5em; text-align: right; border: none;\">\n",
       "                0.0121\n",
       "                \n",
       "            </td>\n",
       "            <td style=\"padding: 0 0.5em 0 0.5em; text-align: left; border: none;\">\n",
       "                Neighborhood_StoneBr\n",
       "            </td>\n",
       "        </tr>\n",
       "    \n",
       "    \n",
       "        \n",
       "            <tr style=\"background-color: hsl(120, 100.00%, 93.88%); border: none;\">\n",
       "                <td colspan=\"2\" style=\"padding: 0 0.5em 0 0.5em; text-align: center; border: none; white-space: nowrap;\">\n",
       "                    <i>&hellip; 288 more &hellip;</i>\n",
       "                </td>\n",
       "            </tr>\n",
       "        \n",
       "    \n",
       "    </tbody>\n",
       "</table>\n",
       "    \n",
       "\n",
       "    \n",
       "\n",
       "\n",
       "    \n",
       "\n",
       "    \n",
       "\n",
       "    \n",
       "\n",
       "    \n",
       "\n",
       "    \n",
       "\n",
       "    \n",
       "\n",
       "\n",
       "\n"
      ],
      "text/plain": [
       "Explanation(estimator=\"XGBRegressor(base_score=0.5, booster='gbtree', colsample_bylevel=1,\\n       colsample_bytree=1, gamma=0, learning_rate=0.08, max_delta_step=0,\\n       max_depth=3, min_child_weight=1, missing=nan, n_estimators=500,\\n       n_jobs=1, nthread=None, objective='reg:linear', random_state=0,\\n       reg_alpha=0, reg_lambda=1, scale_pos_weight=1, seed=None,\\n       silent=True, subsample=1)\", description='\\nXGBoost feature importances; values are numbers 0 <= x <= 1;\\nall values sum to 1.\\n', error=None, method='feature importances', is_regression=True, targets=None, feature_importances=FeatureImportances(importances=[FeatureWeight(feature='LotFrontage', weight=0.06580541, std=None, value=None), FeatureWeight(feature='GrLivArea', weight=0.06499798, std=None, value=None), FeatureWeight(feature='OverallQual', weight=0.056519985, std=None, value=None), FeatureWeight(feature='LotArea', weight=0.049656842, std=None, value=None), FeatureWeight(feature='BsmtUnfSF', weight=0.039967705, std=None, value=None), FeatureWeight(feature='GarageArea', weight=0.03875656, std=None, value=None), FeatureWeight(feature='GarageYrBlt', weight=0.037545417, std=None, value=None), FeatureWeight(feature='OverallCond', weight=0.037545417, std=None, value=None), FeatureWeight(feature='BsmtFinSF1', weight=0.036334276, std=None, value=None), FeatureWeight(feature='TotalBsmtSF', weight=0.027856277, std=None, value=None), FeatureWeight(feature='1stFlrSF', weight=0.025837706, std=None, value=None), FeatureWeight(feature='YearBuilt', weight=0.024626564, std=None, value=None), FeatureWeight(feature='MSSubClass', weight=0.021396851, std=None, value=None), FeatureWeight(feature='2ndFlrSF', weight=0.018167138, std=None, value=None), FeatureWeight(feature='MoSold', weight=0.01735971, std=None, value=None), FeatureWeight(feature='WoodDeckSF', weight=0.01735971, std=None, value=None), FeatureWeight(feature='OpenPorchSF', weight=0.01655228, std=None, value=None), FeatureWeight(feature='BsmtFinSF2', weight=0.012918853, std=None, value=None), FeatureWeight(feature='YearRemodAdd', weight=0.012111425, std=None, value=None), FeatureWeight(feature='Neighborhood_StoneBr', weight=0.012111425, std=None, value=None)], remaining=288), decision_tree=None, highlight_spaces=None, transition_features=None)"
      ]
     },
     "execution_count": 27,
     "metadata": {},
     "output_type": "execute_result"
    }
   ],
   "source": [
    "# One can also have this  with eli5 - note param 'importance_type'\n",
    "explain_weights_xgboost(XGB_final, vec=None, top=20, target_names=None, \n",
    "                        targets=None, feature_names=None, feature_re=None, \n",
    "                        feature_filter=None, importance_type='weight')"
   ]
  },
  {
   "cell_type": "code",
   "execution_count": 64,
   "metadata": {
    "ExecuteTime": {
     "end_time": "2019-04-29T21:48:44.097035Z",
     "start_time": "2019-04-29T21:48:43.959002Z"
    }
   },
   "outputs": [
    {
     "data": {
      "text/html": [
       "\n",
       "    <style>\n",
       "    table.eli5-weights tr:hover {\n",
       "        filter: brightness(85%);\n",
       "    }\n",
       "</style>\n",
       "\n",
       "\n",
       "\n",
       "    \n",
       "\n",
       "    \n",
       "\n",
       "    \n",
       "\n",
       "    \n",
       "\n",
       "    \n",
       "\n",
       "    \n",
       "\n",
       "\n",
       "    \n",
       "\n",
       "    \n",
       "\n",
       "    \n",
       "\n",
       "    \n",
       "        \n",
       "\n",
       "    \n",
       "\n",
       "        \n",
       "            \n",
       "                \n",
       "                \n",
       "    \n",
       "        <p style=\"margin-bottom: 0.5em; margin-top: 0em\">\n",
       "            <b>\n",
       "    \n",
       "        y\n",
       "    \n",
       "</b>\n",
       "\n",
       "    \n",
       "    (score <b>208431.264</b>)\n",
       "\n",
       "top features\n",
       "        </p>\n",
       "    \n",
       "    <table class=\"eli5-weights\"\n",
       "           style=\"border-collapse: collapse; border: none; margin-top: 0em; table-layout: auto; margin-bottom: 2em;\">\n",
       "        <thead>\n",
       "        <tr style=\"border: none;\">\n",
       "            \n",
       "                <th style=\"padding: 0 1em 0 0.5em; text-align: right; border: none;\" title=\"Feature contribution already accounts for the feature value (for linear models, contribution = weight * feature value), and the sum of feature contributions is equal to the score or, for some classifiers, to the probability. Feature values are shown if &quot;show_feature_values&quot; is True.\">\n",
       "                    Contribution<sup>?</sup>\n",
       "                </th>\n",
       "            \n",
       "            <th style=\"padding: 0 0.5em 0 0.5em; text-align: left; border: none;\">Feature</th>\n",
       "            \n",
       "        </tr>\n",
       "        </thead>\n",
       "        <tbody>\n",
       "        \n",
       "            <tr style=\"background-color: hsl(120, 100.00%, 80.00%); border: none;\">\n",
       "    <td style=\"padding: 0 1em 0 0.5em; text-align: right; border: none;\">\n",
       "        +180411.974\n",
       "    </td>\n",
       "    <td style=\"padding: 0 0.5em 0 0.5em; text-align: left; border: none;\">\n",
       "        &lt;BIAS&gt;\n",
       "    </td>\n",
       "    \n",
       "</tr>\n",
       "        \n",
       "            <tr style=\"background-color: hsl(120, 100.00%, 97.03%); border: none;\">\n",
       "    <td style=\"padding: 0 1em 0 0.5em; text-align: right; border: none;\">\n",
       "        +11802.969\n",
       "    </td>\n",
       "    <td style=\"padding: 0 0.5em 0 0.5em; text-align: left; border: none;\">\n",
       "        OverallQual\n",
       "    </td>\n",
       "    \n",
       "</tr>\n",
       "        \n",
       "            <tr style=\"background-color: hsl(120, 100.00%, 98.43%); border: none;\">\n",
       "    <td style=\"padding: 0 1em 0 0.5em; text-align: right; border: none;\">\n",
       "        +4752.075\n",
       "    </td>\n",
       "    <td style=\"padding: 0 0.5em 0 0.5em; text-align: left; border: none;\">\n",
       "        2ndFlrSF\n",
       "    </td>\n",
       "    \n",
       "</tr>\n",
       "        \n",
       "            <tr style=\"background-color: hsl(120, 100.00%, 98.74%); border: none;\">\n",
       "    <td style=\"padding: 0 1em 0 0.5em; text-align: right; border: none;\">\n",
       "        +3479.781\n",
       "    </td>\n",
       "    <td style=\"padding: 0 0.5em 0 0.5em; text-align: left; border: none;\">\n",
       "        ExterQual_TA\n",
       "    </td>\n",
       "    \n",
       "</tr>\n",
       "        \n",
       "            <tr style=\"background-color: hsl(120, 100.00%, 98.76%); border: none;\">\n",
       "    <td style=\"padding: 0 1em 0 0.5em; text-align: right; border: none;\">\n",
       "        +3409.628\n",
       "    </td>\n",
       "    <td style=\"padding: 0 0.5em 0 0.5em; text-align: left; border: none;\">\n",
       "        BsmtFullBath\n",
       "    </td>\n",
       "    \n",
       "</tr>\n",
       "        \n",
       "            <tr style=\"background-color: hsl(120, 100.00%, 98.80%); border: none;\">\n",
       "    <td style=\"padding: 0 1em 0 0.5em; text-align: right; border: none;\">\n",
       "        +3237.037\n",
       "    </td>\n",
       "    <td style=\"padding: 0 0.5em 0 0.5em; text-align: left; border: none;\">\n",
       "        YearRemodAdd\n",
       "    </td>\n",
       "    \n",
       "</tr>\n",
       "        \n",
       "            <tr style=\"background-color: hsl(120, 100.00%, 98.81%); border: none;\">\n",
       "    <td style=\"padding: 0 1em 0 0.5em; text-align: right; border: none;\">\n",
       "        +3199.223\n",
       "    </td>\n",
       "    <td style=\"padding: 0 0.5em 0 0.5em; text-align: left; border: none;\">\n",
       "        FullBath\n",
       "    </td>\n",
       "    \n",
       "</tr>\n",
       "        \n",
       "            <tr style=\"background-color: hsl(120, 100.00%, 98.94%); border: none;\">\n",
       "    <td style=\"padding: 0 1em 0 0.5em; text-align: right; border: none;\">\n",
       "        +2706.791\n",
       "    </td>\n",
       "    <td style=\"padding: 0 0.5em 0 0.5em; text-align: left; border: none;\">\n",
       "        YearBuilt\n",
       "    </td>\n",
       "    \n",
       "</tr>\n",
       "        \n",
       "            <tr style=\"background-color: hsl(120, 100.00%, 99.33%); border: none;\">\n",
       "    <td style=\"padding: 0 1em 0 0.5em; text-align: right; border: none;\">\n",
       "        +1395.370\n",
       "    </td>\n",
       "    <td style=\"padding: 0 0.5em 0 0.5em; text-align: left; border: none;\">\n",
       "        HalfBath\n",
       "    </td>\n",
       "    \n",
       "</tr>\n",
       "        \n",
       "            <tr style=\"background-color: hsl(120, 100.00%, 99.35%); border: none;\">\n",
       "    <td style=\"padding: 0 1em 0 0.5em; text-align: right; border: none;\">\n",
       "        +1354.238\n",
       "    </td>\n",
       "    <td style=\"padding: 0 0.5em 0 0.5em; text-align: left; border: none;\">\n",
       "        KitchenQual_TA\n",
       "    </td>\n",
       "    \n",
       "</tr>\n",
       "        \n",
       "            <tr style=\"background-color: hsl(120, 100.00%, 99.35%); border: none;\">\n",
       "    <td style=\"padding: 0 1em 0 0.5em; text-align: right; border: none;\">\n",
       "        +1351.548\n",
       "    </td>\n",
       "    <td style=\"padding: 0 0.5em 0 0.5em; text-align: left; border: none;\">\n",
       "        GarageType_Attchd\n",
       "    </td>\n",
       "    \n",
       "</tr>\n",
       "        \n",
       "            <tr style=\"background-color: hsl(120, 100.00%, 99.39%); border: none;\">\n",
       "    <td style=\"padding: 0 1em 0 0.5em; text-align: right; border: none;\">\n",
       "        +1226.512\n",
       "    </td>\n",
       "    <td style=\"padding: 0 0.5em 0 0.5em; text-align: left; border: none;\">\n",
       "        BsmtFinType1_GLQ\n",
       "    </td>\n",
       "    \n",
       "</tr>\n",
       "        \n",
       "            <tr style=\"background-color: hsl(120, 100.00%, 99.41%); border: none;\">\n",
       "    <td style=\"padding: 0 1em 0 0.5em; text-align: right; border: none;\">\n",
       "        +1165.311\n",
       "    </td>\n",
       "    <td style=\"padding: 0 0.5em 0 0.5em; text-align: left; border: none;\">\n",
       "        KitchenQual_Gd\n",
       "    </td>\n",
       "    \n",
       "</tr>\n",
       "        \n",
       "            <tr style=\"background-color: hsl(120, 100.00%, 99.52%); border: none;\">\n",
       "    <td style=\"padding: 0 1em 0 0.5em; text-align: right; border: none;\">\n",
       "        +887.577\n",
       "    </td>\n",
       "    <td style=\"padding: 0 0.5em 0 0.5em; text-align: left; border: none;\">\n",
       "        HeatingQC_Ex\n",
       "    </td>\n",
       "    \n",
       "</tr>\n",
       "        \n",
       "            <tr style=\"background-color: hsl(120, 100.00%, 99.56%); border: none;\">\n",
       "    <td style=\"padding: 0 1em 0 0.5em; text-align: right; border: none;\">\n",
       "        +761.462\n",
       "    </td>\n",
       "    <td style=\"padding: 0 0.5em 0 0.5em; text-align: left; border: none;\">\n",
       "        BsmtQual_Gd\n",
       "    </td>\n",
       "    \n",
       "</tr>\n",
       "        \n",
       "            <tr style=\"background-color: hsl(120, 100.00%, 99.67%); border: none;\">\n",
       "    <td style=\"padding: 0 1em 0 0.5em; text-align: right; border: none;\">\n",
       "        +521.067\n",
       "    </td>\n",
       "    <td style=\"padding: 0 0.5em 0 0.5em; text-align: left; border: none;\">\n",
       "        SaleCondition_Abnorml\n",
       "    </td>\n",
       "    \n",
       "</tr>\n",
       "        \n",
       "            <tr style=\"background-color: hsl(120, 100.00%, 99.67%); border: none;\">\n",
       "    <td style=\"padding: 0 1em 0 0.5em; text-align: right; border: none;\">\n",
       "        +507.195\n",
       "    </td>\n",
       "    <td style=\"padding: 0 0.5em 0 0.5em; text-align: left; border: none;\">\n",
       "        HouseStyle_1Story\n",
       "    </td>\n",
       "    \n",
       "</tr>\n",
       "        \n",
       "            <tr style=\"background-color: hsl(120, 100.00%, 99.68%); border: none;\">\n",
       "    <td style=\"padding: 0 1em 0 0.5em; text-align: right; border: none;\">\n",
       "        +496.703\n",
       "    </td>\n",
       "    <td style=\"padding: 0 0.5em 0 0.5em; text-align: left; border: none;\">\n",
       "        HouseStyle_2Story\n",
       "    </td>\n",
       "    \n",
       "</tr>\n",
       "        \n",
       "            <tr style=\"background-color: hsl(120, 100.00%, 99.71%); border: none;\">\n",
       "    <td style=\"padding: 0 1em 0 0.5em; text-align: right; border: none;\">\n",
       "        +431.537\n",
       "    </td>\n",
       "    <td style=\"padding: 0 0.5em 0 0.5em; text-align: left; border: none;\">\n",
       "        GarageYrBlt\n",
       "    </td>\n",
       "    \n",
       "</tr>\n",
       "        \n",
       "            <tr style=\"background-color: hsl(120, 100.00%, 99.71%); border: none;\">\n",
       "    <td style=\"padding: 0 1em 0 0.5em; text-align: right; border: none;\">\n",
       "        +422.711\n",
       "    </td>\n",
       "    <td style=\"padding: 0 0.5em 0 0.5em; text-align: left; border: none;\">\n",
       "        MSZoning_RM\n",
       "    </td>\n",
       "    \n",
       "</tr>\n",
       "        \n",
       "            <tr style=\"background-color: hsl(120, 100.00%, 99.72%); border: none;\">\n",
       "    <td style=\"padding: 0 1em 0 0.5em; text-align: right; border: none;\">\n",
       "        +401.727\n",
       "    </td>\n",
       "    <td style=\"padding: 0 0.5em 0 0.5em; text-align: left; border: none;\">\n",
       "        MSSubClass\n",
       "    </td>\n",
       "    \n",
       "</tr>\n",
       "        \n",
       "            <tr style=\"background-color: hsl(120, 100.00%, 99.72%); border: none;\">\n",
       "    <td style=\"padding: 0 1em 0 0.5em; text-align: right; border: none;\">\n",
       "        +400.932\n",
       "    </td>\n",
       "    <td style=\"padding: 0 0.5em 0 0.5em; text-align: left; border: none;\">\n",
       "        GarageType_Detchd\n",
       "    </td>\n",
       "    \n",
       "</tr>\n",
       "        \n",
       "            <tr style=\"background-color: hsl(120, 100.00%, 99.74%); border: none;\">\n",
       "    <td style=\"padding: 0 1em 0 0.5em; text-align: right; border: none;\">\n",
       "        +362.358\n",
       "    </td>\n",
       "    <td style=\"padding: 0 0.5em 0 0.5em; text-align: left; border: none;\">\n",
       "        Condition1_Norm\n",
       "    </td>\n",
       "    \n",
       "</tr>\n",
       "        \n",
       "            <tr style=\"background-color: hsl(120, 100.00%, 99.76%); border: none;\">\n",
       "    <td style=\"padding: 0 1em 0 0.5em; text-align: right; border: none;\">\n",
       "        +317.856\n",
       "    </td>\n",
       "    <td style=\"padding: 0 0.5em 0 0.5em; text-align: left; border: none;\">\n",
       "        OpenPorchSF\n",
       "    </td>\n",
       "    \n",
       "</tr>\n",
       "        \n",
       "            <tr style=\"background-color: hsl(120, 100.00%, 99.77%); border: none;\">\n",
       "    <td style=\"padding: 0 1em 0 0.5em; text-align: right; border: none;\">\n",
       "        +307.336\n",
       "    </td>\n",
       "    <td style=\"padding: 0 0.5em 0 0.5em; text-align: left; border: none;\">\n",
       "        BsmtUnfSF\n",
       "    </td>\n",
       "    \n",
       "</tr>\n",
       "        \n",
       "            <tr style=\"background-color: hsl(120, 100.00%, 99.77%); border: none;\">\n",
       "    <td style=\"padding: 0 1em 0 0.5em; text-align: right; border: none;\">\n",
       "        +299.950\n",
       "    </td>\n",
       "    <td style=\"padding: 0 0.5em 0 0.5em; text-align: left; border: none;\">\n",
       "        Neighborhood_OldTown\n",
       "    </td>\n",
       "    \n",
       "</tr>\n",
       "        \n",
       "            <tr style=\"background-color: hsl(120, 100.00%, 99.80%); border: none;\">\n",
       "    <td style=\"padding: 0 1em 0 0.5em; text-align: right; border: none;\">\n",
       "        +249.379\n",
       "    </td>\n",
       "    <td style=\"padding: 0 0.5em 0 0.5em; text-align: left; border: none;\">\n",
       "        LotArea\n",
       "    </td>\n",
       "    \n",
       "</tr>\n",
       "        \n",
       "            <tr style=\"background-color: hsl(120, 100.00%, 99.82%); border: none;\">\n",
       "    <td style=\"padding: 0 1em 0 0.5em; text-align: right; border: none;\">\n",
       "        +212.791\n",
       "    </td>\n",
       "    <td style=\"padding: 0 0.5em 0 0.5em; text-align: left; border: none;\">\n",
       "        Functional_Typ\n",
       "    </td>\n",
       "    \n",
       "</tr>\n",
       "        \n",
       "            <tr style=\"background-color: hsl(120, 100.00%, 99.82%); border: none;\">\n",
       "    <td style=\"padding: 0 1em 0 0.5em; text-align: right; border: none;\">\n",
       "        +210.721\n",
       "    </td>\n",
       "    <td style=\"padding: 0 0.5em 0 0.5em; text-align: left; border: none;\">\n",
       "        BldgType_1Fam\n",
       "    </td>\n",
       "    \n",
       "</tr>\n",
       "        \n",
       "            <tr style=\"background-color: hsl(120, 100.00%, 99.84%); border: none;\">\n",
       "    <td style=\"padding: 0 1em 0 0.5em; text-align: right; border: none;\">\n",
       "        +175.195\n",
       "    </td>\n",
       "    <td style=\"padding: 0 0.5em 0 0.5em; text-align: left; border: none;\">\n",
       "        GarageArea\n",
       "    </td>\n",
       "    \n",
       "</tr>\n",
       "        \n",
       "            <tr style=\"background-color: hsl(120, 100.00%, 99.86%); border: none;\">\n",
       "    <td style=\"padding: 0 1em 0 0.5em; text-align: right; border: none;\">\n",
       "        +156.265\n",
       "    </td>\n",
       "    <td style=\"padding: 0 0.5em 0 0.5em; text-align: left; border: none;\">\n",
       "        KitchenAbvGr\n",
       "    </td>\n",
       "    \n",
       "</tr>\n",
       "        \n",
       "            <tr style=\"background-color: hsl(120, 100.00%, 99.88%); border: none;\">\n",
       "    <td style=\"padding: 0 1em 0 0.5em; text-align: right; border: none;\">\n",
       "        +120.380\n",
       "    </td>\n",
       "    <td style=\"padding: 0 0.5em 0 0.5em; text-align: left; border: none;\">\n",
       "        MSZoning_C (all)\n",
       "    </td>\n",
       "    \n",
       "</tr>\n",
       "        \n",
       "            <tr style=\"background-color: hsl(120, 100.00%, 99.89%); border: none;\">\n",
       "    <td style=\"padding: 0 1em 0 0.5em; text-align: right; border: none;\">\n",
       "        +101.175\n",
       "    </td>\n",
       "    <td style=\"padding: 0 0.5em 0 0.5em; text-align: left; border: none;\">\n",
       "        ExterCond_Gd\n",
       "    </td>\n",
       "    \n",
       "</tr>\n",
       "        \n",
       "            <tr style=\"background-color: hsl(120, 100.00%, 99.91%); border: none;\">\n",
       "    <td style=\"padding: 0 1em 0 0.5em; text-align: right; border: none;\">\n",
       "        +80.206\n",
       "    </td>\n",
       "    <td style=\"padding: 0 0.5em 0 0.5em; text-align: left; border: none;\">\n",
       "        Condition1_Artery\n",
       "    </td>\n",
       "    \n",
       "</tr>\n",
       "        \n",
       "            <tr style=\"background-color: hsl(120, 100.00%, 99.91%); border: none;\">\n",
       "    <td style=\"padding: 0 1em 0 0.5em; text-align: right; border: none;\">\n",
       "        +80.068\n",
       "    </td>\n",
       "    <td style=\"padding: 0 0.5em 0 0.5em; text-align: left; border: none;\">\n",
       "        BsmtFinType1_ALQ\n",
       "    </td>\n",
       "    \n",
       "</tr>\n",
       "        \n",
       "            <tr style=\"background-color: hsl(120, 100.00%, 99.91%); border: none;\">\n",
       "    <td style=\"padding: 0 1em 0 0.5em; text-align: right; border: none;\">\n",
       "        +78.569\n",
       "    </td>\n",
       "    <td style=\"padding: 0 0.5em 0 0.5em; text-align: left; border: none;\">\n",
       "        Neighborhood_NAmes\n",
       "    </td>\n",
       "    \n",
       "</tr>\n",
       "        \n",
       "            <tr style=\"background-color: hsl(120, 100.00%, 99.91%); border: none;\">\n",
       "    <td style=\"padding: 0 1em 0 0.5em; text-align: right; border: none;\">\n",
       "        +77.452\n",
       "    </td>\n",
       "    <td style=\"padding: 0 0.5em 0 0.5em; text-align: left; border: none;\">\n",
       "        Foundation_BrkTil\n",
       "    </td>\n",
       "    \n",
       "</tr>\n",
       "        \n",
       "            <tr style=\"background-color: hsl(120, 100.00%, 99.91%); border: none;\">\n",
       "    <td style=\"padding: 0 1em 0 0.5em; text-align: right; border: none;\">\n",
       "        +76.145\n",
       "    </td>\n",
       "    <td style=\"padding: 0 0.5em 0 0.5em; text-align: left; border: none;\">\n",
       "        Neighborhood_Edwards\n",
       "    </td>\n",
       "    \n",
       "</tr>\n",
       "        \n",
       "            <tr style=\"background-color: hsl(120, 100.00%, 99.91%); border: none;\">\n",
       "    <td style=\"padding: 0 1em 0 0.5em; text-align: right; border: none;\">\n",
       "        +74.834\n",
       "    </td>\n",
       "    <td style=\"padding: 0 0.5em 0 0.5em; text-align: left; border: none;\">\n",
       "        BedroomAbvGr\n",
       "    </td>\n",
       "    \n",
       "</tr>\n",
       "        \n",
       "            <tr style=\"background-color: hsl(120, 100.00%, 99.92%); border: none;\">\n",
       "    <td style=\"padding: 0 1em 0 0.5em; text-align: right; border: none;\">\n",
       "        +67.744\n",
       "    </td>\n",
       "    <td style=\"padding: 0 0.5em 0 0.5em; text-align: left; border: none;\">\n",
       "        LotConfig_FR2\n",
       "    </td>\n",
       "    \n",
       "</tr>\n",
       "        \n",
       "            <tr style=\"background-color: hsl(120, 100.00%, 99.92%); border: none;\">\n",
       "    <td style=\"padding: 0 1em 0 0.5em; text-align: right; border: none;\">\n",
       "        +62.967\n",
       "    </td>\n",
       "    <td style=\"padding: 0 0.5em 0 0.5em; text-align: left; border: none;\">\n",
       "        GarageFinish_RFn\n",
       "    </td>\n",
       "    \n",
       "</tr>\n",
       "        \n",
       "            <tr style=\"background-color: hsl(120, 100.00%, 99.92%); border: none;\">\n",
       "    <td style=\"padding: 0 1em 0 0.5em; text-align: right; border: none;\">\n",
       "        +62.830\n",
       "    </td>\n",
       "    <td style=\"padding: 0 0.5em 0 0.5em; text-align: left; border: none;\">\n",
       "        BsmtCond_Fa\n",
       "    </td>\n",
       "    \n",
       "</tr>\n",
       "        \n",
       "            <tr style=\"background-color: hsl(120, 100.00%, 99.94%); border: none;\">\n",
       "    <td style=\"padding: 0 1em 0 0.5em; text-align: right; border: none;\">\n",
       "        +45.719\n",
       "    </td>\n",
       "    <td style=\"padding: 0 0.5em 0 0.5em; text-align: left; border: none;\">\n",
       "        LowQualFinSF\n",
       "    </td>\n",
       "    \n",
       "</tr>\n",
       "        \n",
       "            <tr style=\"background-color: hsl(120, 100.00%, 99.95%); border: none;\">\n",
       "    <td style=\"padding: 0 1em 0 0.5em; text-align: right; border: none;\">\n",
       "        +37.131\n",
       "    </td>\n",
       "    <td style=\"padding: 0 0.5em 0 0.5em; text-align: left; border: none;\">\n",
       "        LandContour_Bnk\n",
       "    </td>\n",
       "    \n",
       "</tr>\n",
       "        \n",
       "            <tr style=\"background-color: hsl(120, 100.00%, 99.95%); border: none;\">\n",
       "    <td style=\"padding: 0 1em 0 0.5em; text-align: right; border: none;\">\n",
       "        +37.111\n",
       "    </td>\n",
       "    <td style=\"padding: 0 0.5em 0 0.5em; text-align: left; border: none;\">\n",
       "        SaleCondition_Family\n",
       "    </td>\n",
       "    \n",
       "</tr>\n",
       "        \n",
       "            <tr style=\"background-color: hsl(120, 100.00%, 99.95%); border: none;\">\n",
       "    <td style=\"padding: 0 1em 0 0.5em; text-align: right; border: none;\">\n",
       "        +30.746\n",
       "    </td>\n",
       "    <td style=\"padding: 0 0.5em 0 0.5em; text-align: left; border: none;\">\n",
       "        BsmtFinType1_LwQ\n",
       "    </td>\n",
       "    \n",
       "</tr>\n",
       "        \n",
       "            <tr style=\"background-color: hsl(120, 100.00%, 99.95%); border: none;\">\n",
       "    <td style=\"padding: 0 1em 0 0.5em; text-align: right; border: none;\">\n",
       "        +30.338\n",
       "    </td>\n",
       "    <td style=\"padding: 0 0.5em 0 0.5em; text-align: left; border: none;\">\n",
       "        Condition1_RRAe\n",
       "    </td>\n",
       "    \n",
       "</tr>\n",
       "        \n",
       "            <tr style=\"background-color: hsl(120, 100.00%, 99.96%); border: none;\">\n",
       "    <td style=\"padding: 0 1em 0 0.5em; text-align: right; border: none;\">\n",
       "        +28.493\n",
       "    </td>\n",
       "    <td style=\"padding: 0 0.5em 0 0.5em; text-align: left; border: none;\">\n",
       "        BsmtCond_Gd\n",
       "    </td>\n",
       "    \n",
       "</tr>\n",
       "        \n",
       "            <tr style=\"background-color: hsl(120, 100.00%, 99.96%); border: none;\">\n",
       "    <td style=\"padding: 0 1em 0 0.5em; text-align: right; border: none;\">\n",
       "        +26.897\n",
       "    </td>\n",
       "    <td style=\"padding: 0 0.5em 0 0.5em; text-align: left; border: none;\">\n",
       "        BsmtFinSF1\n",
       "    </td>\n",
       "    \n",
       "</tr>\n",
       "        \n",
       "            <tr style=\"background-color: hsl(120, 100.00%, 99.96%); border: none;\">\n",
       "    <td style=\"padding: 0 1em 0 0.5em; text-align: right; border: none;\">\n",
       "        +26.185\n",
       "    </td>\n",
       "    <td style=\"padding: 0 0.5em 0 0.5em; text-align: left; border: none;\">\n",
       "        GarageType_CarPort\n",
       "    </td>\n",
       "    \n",
       "</tr>\n",
       "        \n",
       "            <tr style=\"background-color: hsl(120, 100.00%, 99.96%); border: none;\">\n",
       "    <td style=\"padding: 0 1em 0 0.5em; text-align: right; border: none;\">\n",
       "        +23.136\n",
       "    </td>\n",
       "    <td style=\"padding: 0 0.5em 0 0.5em; text-align: left; border: none;\">\n",
       "        Neighborhood_Mitchel\n",
       "    </td>\n",
       "    \n",
       "</tr>\n",
       "        \n",
       "            <tr style=\"background-color: hsl(120, 100.00%, 99.97%); border: none;\">\n",
       "    <td style=\"padding: 0 1em 0 0.5em; text-align: right; border: none;\">\n",
       "        +20.577\n",
       "    </td>\n",
       "    <td style=\"padding: 0 0.5em 0 0.5em; text-align: left; border: none;\">\n",
       "        HouseStyle_2.5Unf\n",
       "    </td>\n",
       "    \n",
       "</tr>\n",
       "        \n",
       "            <tr style=\"background-color: hsl(120, 100.00%, 99.97%); border: none;\">\n",
       "    <td style=\"padding: 0 1em 0 0.5em; text-align: right; border: none;\">\n",
       "        +18.203\n",
       "    </td>\n",
       "    <td style=\"padding: 0 0.5em 0 0.5em; text-align: left; border: none;\">\n",
       "        Neighborhood_MeadowV\n",
       "    </td>\n",
       "    \n",
       "</tr>\n",
       "        \n",
       "            <tr style=\"background-color: hsl(120, 100.00%, 99.97%); border: none;\">\n",
       "    <td style=\"padding: 0 1em 0 0.5em; text-align: right; border: none;\">\n",
       "        +17.198\n",
       "    </td>\n",
       "    <td style=\"padding: 0 0.5em 0 0.5em; text-align: left; border: none;\">\n",
       "        HouseStyle_1.5Fin\n",
       "    </td>\n",
       "    \n",
       "</tr>\n",
       "        \n",
       "            <tr style=\"background-color: hsl(120, 100.00%, 99.97%); border: none;\">\n",
       "    <td style=\"padding: 0 1em 0 0.5em; text-align: right; border: none;\">\n",
       "        +15.981\n",
       "    </td>\n",
       "    <td style=\"padding: 0 0.5em 0 0.5em; text-align: left; border: none;\">\n",
       "        Functional_Maj2\n",
       "    </td>\n",
       "    \n",
       "</tr>\n",
       "        \n",
       "            <tr style=\"background-color: hsl(120, 100.00%, 99.97%); border: none;\">\n",
       "    <td style=\"padding: 0 1em 0 0.5em; text-align: right; border: none;\">\n",
       "        +13.437\n",
       "    </td>\n",
       "    <td style=\"padding: 0 0.5em 0 0.5em; text-align: left; border: none;\">\n",
       "        GarageType_2Types\n",
       "    </td>\n",
       "    \n",
       "</tr>\n",
       "        \n",
       "            <tr style=\"background-color: hsl(120, 100.00%, 99.98%); border: none;\">\n",
       "    <td style=\"padding: 0 1em 0 0.5em; text-align: right; border: none;\">\n",
       "        +10.781\n",
       "    </td>\n",
       "    <td style=\"padding: 0 0.5em 0 0.5em; text-align: left; border: none;\">\n",
       "        GarageQual_Fa\n",
       "    </td>\n",
       "    \n",
       "</tr>\n",
       "        \n",
       "            <tr style=\"background-color: hsl(120, 100.00%, 99.98%); border: none;\">\n",
       "    <td style=\"padding: 0 1em 0 0.5em; text-align: right; border: none;\">\n",
       "        +8.016\n",
       "    </td>\n",
       "    <td style=\"padding: 0 0.5em 0 0.5em; text-align: left; border: none;\">\n",
       "        BsmtFinType1_BLQ\n",
       "    </td>\n",
       "    \n",
       "</tr>\n",
       "        \n",
       "            <tr style=\"background-color: hsl(120, 100.00%, 99.98%); border: none;\">\n",
       "    <td style=\"padding: 0 1em 0 0.5em; text-align: right; border: none;\">\n",
       "        +6.920\n",
       "    </td>\n",
       "    <td style=\"padding: 0 0.5em 0 0.5em; text-align: left; border: none;\">\n",
       "        MasVnrType_BrkCmn\n",
       "    </td>\n",
       "    \n",
       "</tr>\n",
       "        \n",
       "            <tr style=\"background-color: hsl(120, 100.00%, 99.99%); border: none;\">\n",
       "    <td style=\"padding: 0 1em 0 0.5em; text-align: right; border: none;\">\n",
       "        +5.706\n",
       "    </td>\n",
       "    <td style=\"padding: 0 0.5em 0 0.5em; text-align: left; border: none;\">\n",
       "        Neighborhood_Blmngtn\n",
       "    </td>\n",
       "    \n",
       "</tr>\n",
       "        \n",
       "            <tr style=\"background-color: hsl(120, 100.00%, 99.99%); border: none;\">\n",
       "    <td style=\"padding: 0 1em 0 0.5em; text-align: right; border: none;\">\n",
       "        +5.446\n",
       "    </td>\n",
       "    <td style=\"padding: 0 0.5em 0 0.5em; text-align: left; border: none;\">\n",
       "        Functional_Maj1\n",
       "    </td>\n",
       "    \n",
       "</tr>\n",
       "        \n",
       "            <tr style=\"background-color: hsl(120, 100.00%, 99.99%); border: none;\">\n",
       "    <td style=\"padding: 0 1em 0 0.5em; text-align: right; border: none;\">\n",
       "        +4.792\n",
       "    </td>\n",
       "    <td style=\"padding: 0 0.5em 0 0.5em; text-align: left; border: none;\">\n",
       "        Heating_OthW\n",
       "    </td>\n",
       "    \n",
       "</tr>\n",
       "        \n",
       "            <tr style=\"background-color: hsl(120, 100.00%, 99.99%); border: none;\">\n",
       "    <td style=\"padding: 0 1em 0 0.5em; text-align: right; border: none;\">\n",
       "        +4.681\n",
       "    </td>\n",
       "    <td style=\"padding: 0 0.5em 0 0.5em; text-align: left; border: none;\">\n",
       "        Neighborhood_NPkVill\n",
       "    </td>\n",
       "    \n",
       "</tr>\n",
       "        \n",
       "            <tr style=\"background-color: hsl(120, 100.00%, 99.99%); border: none;\">\n",
       "    <td style=\"padding: 0 1em 0 0.5em; text-align: right; border: none;\">\n",
       "        +2.283\n",
       "    </td>\n",
       "    <td style=\"padding: 0 0.5em 0 0.5em; text-align: left; border: none;\">\n",
       "        Functional_Mod\n",
       "    </td>\n",
       "    \n",
       "</tr>\n",
       "        \n",
       "            <tr style=\"background-color: hsl(120, 100.00%, 99.99%); border: none;\">\n",
       "    <td style=\"padding: 0 1em 0 0.5em; text-align: right; border: none;\">\n",
       "        +1.394\n",
       "    </td>\n",
       "    <td style=\"padding: 0 0.5em 0 0.5em; text-align: left; border: none;\">\n",
       "        SaleType_ConLI\n",
       "    </td>\n",
       "    \n",
       "</tr>\n",
       "        \n",
       "            <tr style=\"background-color: hsl(120, 100.00%, 100.00%); border: none;\">\n",
       "    <td style=\"padding: 0 1em 0 0.5em; text-align: right; border: none;\">\n",
       "        +0.916\n",
       "    </td>\n",
       "    <td style=\"padding: 0 0.5em 0 0.5em; text-align: left; border: none;\">\n",
       "        Exterior1st_BrkComm\n",
       "    </td>\n",
       "    \n",
       "</tr>\n",
       "        \n",
       "        \n",
       "\n",
       "        \n",
       "        \n",
       "            <tr style=\"background-color: hsl(0, 100.00%, 99.99%); border: none;\">\n",
       "    <td style=\"padding: 0 1em 0 0.5em; text-align: right; border: none;\">\n",
       "        -1.909\n",
       "    </td>\n",
       "    <td style=\"padding: 0 0.5em 0 0.5em; text-align: left; border: none;\">\n",
       "        Condition1_PosA\n",
       "    </td>\n",
       "    \n",
       "</tr>\n",
       "        \n",
       "            <tr style=\"background-color: hsl(0, 100.00%, 99.99%); border: none;\">\n",
       "    <td style=\"padding: 0 1em 0 0.5em; text-align: right; border: none;\">\n",
       "        -2.658\n",
       "    </td>\n",
       "    <td style=\"padding: 0 0.5em 0 0.5em; text-align: left; border: none;\">\n",
       "        SaleCondition_Alloca\n",
       "    </td>\n",
       "    \n",
       "</tr>\n",
       "        \n",
       "            <tr style=\"background-color: hsl(0, 100.00%, 99.99%); border: none;\">\n",
       "    <td style=\"padding: 0 1em 0 0.5em; text-align: right; border: none;\">\n",
       "        -3.844\n",
       "    </td>\n",
       "    <td style=\"padding: 0 0.5em 0 0.5em; text-align: left; border: none;\">\n",
       "        GarageCond_Fa\n",
       "    </td>\n",
       "    \n",
       "</tr>\n",
       "        \n",
       "            <tr style=\"background-color: hsl(0, 100.00%, 99.99%); border: none;\">\n",
       "    <td style=\"padding: 0 1em 0 0.5em; text-align: right; border: none;\">\n",
       "        -5.409\n",
       "    </td>\n",
       "    <td style=\"padding: 0 0.5em 0 0.5em; text-align: left; border: none;\">\n",
       "        EnclosedPorch\n",
       "    </td>\n",
       "    \n",
       "</tr>\n",
       "        \n",
       "            <tr style=\"background-color: hsl(0, 100.00%, 99.98%); border: none;\">\n",
       "    <td style=\"padding: 0 1em 0 0.5em; text-align: right; border: none;\">\n",
       "        -7.187\n",
       "    </td>\n",
       "    <td style=\"padding: 0 0.5em 0 0.5em; text-align: left; border: none;\">\n",
       "        Neighborhood_IDOTRR\n",
       "    </td>\n",
       "    \n",
       "</tr>\n",
       "        \n",
       "            <tr style=\"background-color: hsl(0, 100.00%, 99.98%); border: none;\">\n",
       "    <td style=\"padding: 0 1em 0 0.5em; text-align: right; border: none;\">\n",
       "        -7.630\n",
       "    </td>\n",
       "    <td style=\"padding: 0 0.5em 0 0.5em; text-align: left; border: none;\">\n",
       "        MSZoning_RH\n",
       "    </td>\n",
       "    \n",
       "</tr>\n",
       "        \n",
       "            <tr style=\"background-color: hsl(0, 100.00%, 99.98%); border: none;\">\n",
       "    <td style=\"padding: 0 1em 0 0.5em; text-align: right; border: none;\">\n",
       "        -9.928\n",
       "    </td>\n",
       "    <td style=\"padding: 0 0.5em 0 0.5em; text-align: left; border: none;\">\n",
       "        HouseStyle_SLvl\n",
       "    </td>\n",
       "    \n",
       "</tr>\n",
       "        \n",
       "            <tr style=\"background-color: hsl(0, 100.00%, 99.98%); border: none;\">\n",
       "    <td style=\"padding: 0 1em 0 0.5em; text-align: right; border: none;\">\n",
       "        -10.749\n",
       "    </td>\n",
       "    <td style=\"padding: 0 0.5em 0 0.5em; text-align: left; border: none;\">\n",
       "        YrSold\n",
       "    </td>\n",
       "    \n",
       "</tr>\n",
       "        \n",
       "            <tr style=\"background-color: hsl(0, 100.00%, 99.98%); border: none;\">\n",
       "    <td style=\"padding: 0 1em 0 0.5em; text-align: right; border: none;\">\n",
       "        -10.979\n",
       "    </td>\n",
       "    <td style=\"padding: 0 0.5em 0 0.5em; text-align: left; border: none;\">\n",
       "        Neighborhood_Veenker\n",
       "    </td>\n",
       "    \n",
       "</tr>\n",
       "        \n",
       "            <tr style=\"background-color: hsl(0, 100.00%, 99.98%); border: none;\">\n",
       "    <td style=\"padding: 0 1em 0 0.5em; text-align: right; border: none;\">\n",
       "        -11.020\n",
       "    </td>\n",
       "    <td style=\"padding: 0 0.5em 0 0.5em; text-align: left; border: none;\">\n",
       "        BsmtFinType2_LwQ\n",
       "    </td>\n",
       "    \n",
       "</tr>\n",
       "        \n",
       "            <tr style=\"background-color: hsl(0, 100.00%, 99.97%); border: none;\">\n",
       "    <td style=\"padding: 0 1em 0 0.5em; text-align: right; border: none;\">\n",
       "        -18.745\n",
       "    </td>\n",
       "    <td style=\"padding: 0 0.5em 0 0.5em; text-align: left; border: none;\">\n",
       "        Neighborhood_ClearCr\n",
       "    </td>\n",
       "    \n",
       "</tr>\n",
       "        \n",
       "            <tr style=\"background-color: hsl(0, 100.00%, 99.97%); border: none;\">\n",
       "    <td style=\"padding: 0 1em 0 0.5em; text-align: right; border: none;\">\n",
       "        -20.676\n",
       "    </td>\n",
       "    <td style=\"padding: 0 0.5em 0 0.5em; text-align: left; border: none;\">\n",
       "        SaleCondition_Partial\n",
       "    </td>\n",
       "    \n",
       "</tr>\n",
       "        \n",
       "            <tr style=\"background-color: hsl(0, 100.00%, 99.96%); border: none;\">\n",
       "    <td style=\"padding: 0 1em 0 0.5em; text-align: right; border: none;\">\n",
       "        -23.144\n",
       "    </td>\n",
       "    <td style=\"padding: 0 0.5em 0 0.5em; text-align: left; border: none;\">\n",
       "        LotFrontage\n",
       "    </td>\n",
       "    \n",
       "</tr>\n",
       "        \n",
       "            <tr style=\"background-color: hsl(0, 100.00%, 99.96%); border: none;\">\n",
       "    <td style=\"padding: 0 1em 0 0.5em; text-align: right; border: none;\">\n",
       "        -26.452\n",
       "    </td>\n",
       "    <td style=\"padding: 0 0.5em 0 0.5em; text-align: left; border: none;\">\n",
       "        Exterior1st_Stucco\n",
       "    </td>\n",
       "    \n",
       "</tr>\n",
       "        \n",
       "            <tr style=\"background-color: hsl(0, 100.00%, 99.94%); border: none;\">\n",
       "    <td style=\"padding: 0 1em 0 0.5em; text-align: right; border: none;\">\n",
       "        -41.961\n",
       "    </td>\n",
       "    <td style=\"padding: 0 0.5em 0 0.5em; text-align: left; border: none;\">\n",
       "        RoofMatl_WdShngl\n",
       "    </td>\n",
       "    \n",
       "</tr>\n",
       "        \n",
       "            <tr style=\"background-color: hsl(0, 100.00%, 99.94%); border: none;\">\n",
       "    <td style=\"padding: 0 1em 0 0.5em; text-align: right; border: none;\">\n",
       "        -46.688\n",
       "    </td>\n",
       "    <td style=\"padding: 0 0.5em 0 0.5em; text-align: left; border: none;\">\n",
       "        3SsnPorch\n",
       "    </td>\n",
       "    \n",
       "</tr>\n",
       "        \n",
       "            <tr style=\"background-color: hsl(0, 100.00%, 99.93%); border: none;\">\n",
       "    <td style=\"padding: 0 1em 0 0.5em; text-align: right; border: none;\">\n",
       "        -51.800\n",
       "    </td>\n",
       "    <td style=\"padding: 0 0.5em 0 0.5em; text-align: left; border: none;\">\n",
       "        PoolArea\n",
       "    </td>\n",
       "    \n",
       "</tr>\n",
       "        \n",
       "            <tr style=\"background-color: hsl(0, 100.00%, 99.93%); border: none;\">\n",
       "    <td style=\"padding: 0 1em 0 0.5em; text-align: right; border: none;\">\n",
       "        -53.204\n",
       "    </td>\n",
       "    <td style=\"padding: 0 0.5em 0 0.5em; text-align: left; border: none;\">\n",
       "        Neighborhood_NoRidge\n",
       "    </td>\n",
       "    \n",
       "</tr>\n",
       "        \n",
       "            <tr style=\"background-color: hsl(0, 100.00%, 99.92%); border: none;\">\n",
       "    <td style=\"padding: 0 1em 0 0.5em; text-align: right; border: none;\">\n",
       "        -61.981\n",
       "    </td>\n",
       "    <td style=\"padding: 0 0.5em 0 0.5em; text-align: left; border: none;\">\n",
       "        Exterior1st_MetalSd\n",
       "    </td>\n",
       "    \n",
       "</tr>\n",
       "        \n",
       "            <tr style=\"background-color: hsl(0, 100.00%, 99.90%); border: none;\">\n",
       "    <td style=\"padding: 0 1em 0 0.5em; text-align: right; border: none;\">\n",
       "        -90.182\n",
       "    </td>\n",
       "    <td style=\"padding: 0 0.5em 0 0.5em; text-align: left; border: none;\">\n",
       "        LandSlope_Gtl\n",
       "    </td>\n",
       "    \n",
       "</tr>\n",
       "        \n",
       "            <tr style=\"background-color: hsl(0, 100.00%, 99.89%); border: none;\">\n",
       "    <td style=\"padding: 0 1em 0 0.5em; text-align: right; border: none;\">\n",
       "        -108.603\n",
       "    </td>\n",
       "    <td style=\"padding: 0 0.5em 0 0.5em; text-align: left; border: none;\">\n",
       "        Neighborhood_NridgHt\n",
       "    </td>\n",
       "    \n",
       "</tr>\n",
       "        \n",
       "            <tr style=\"background-color: hsl(0, 100.00%, 99.87%); border: none;\">\n",
       "    <td style=\"padding: 0 1em 0 0.5em; text-align: right; border: none;\">\n",
       "        -129.034\n",
       "    </td>\n",
       "    <td style=\"padding: 0 0.5em 0 0.5em; text-align: left; border: none;\">\n",
       "        Neighborhood_BrkSide\n",
       "    </td>\n",
       "    \n",
       "</tr>\n",
       "        \n",
       "            <tr style=\"background-color: hsl(0, 100.00%, 99.87%); border: none;\">\n",
       "    <td style=\"padding: 0 1em 0 0.5em; text-align: right; border: none;\">\n",
       "        -130.412\n",
       "    </td>\n",
       "    <td style=\"padding: 0 0.5em 0 0.5em; text-align: left; border: none;\">\n",
       "        ExterQual_Ex\n",
       "    </td>\n",
       "    \n",
       "</tr>\n",
       "        \n",
       "            <tr style=\"background-color: hsl(0, 100.00%, 99.86%); border: none;\">\n",
       "    <td style=\"padding: 0 1em 0 0.5em; text-align: right; border: none;\">\n",
       "        -146.901\n",
       "    </td>\n",
       "    <td style=\"padding: 0 0.5em 0 0.5em; text-align: left; border: none;\">\n",
       "        BsmtFinSF2\n",
       "    </td>\n",
       "    \n",
       "</tr>\n",
       "        \n",
       "            <tr style=\"background-color: hsl(0, 100.00%, 99.83%); border: none;\">\n",
       "    <td style=\"padding: 0 1em 0 0.5em; text-align: right; border: none;\">\n",
       "        -193.348\n",
       "    </td>\n",
       "    <td style=\"padding: 0 0.5em 0 0.5em; text-align: left; border: none;\">\n",
       "        BsmtExposure_No\n",
       "    </td>\n",
       "    \n",
       "</tr>\n",
       "        \n",
       "            <tr style=\"background-color: hsl(0, 100.00%, 99.82%); border: none;\">\n",
       "    <td style=\"padding: 0 1em 0 0.5em; text-align: right; border: none;\">\n",
       "        -214.991\n",
       "    </td>\n",
       "    <td style=\"padding: 0 0.5em 0 0.5em; text-align: left; border: none;\">\n",
       "        MoSold\n",
       "    </td>\n",
       "    \n",
       "</tr>\n",
       "        \n",
       "            <tr style=\"background-color: hsl(0, 100.00%, 99.80%); border: none;\">\n",
       "    <td style=\"padding: 0 1em 0 0.5em; text-align: right; border: none;\">\n",
       "        -247.100\n",
       "    </td>\n",
       "    <td style=\"padding: 0 0.5em 0 0.5em; text-align: left; border: none;\">\n",
       "        Neighborhood_StoneBr\n",
       "    </td>\n",
       "    \n",
       "</tr>\n",
       "        \n",
       "            <tr style=\"background-color: hsl(0, 100.00%, 99.80%); border: none;\">\n",
       "    <td style=\"padding: 0 1em 0 0.5em; text-align: right; border: none;\">\n",
       "        -251.517\n",
       "    </td>\n",
       "    <td style=\"padding: 0 0.5em 0 0.5em; text-align: left; border: none;\">\n",
       "        LotConfig_CulDSac\n",
       "    </td>\n",
       "    \n",
       "</tr>\n",
       "        \n",
       "            <tr style=\"background-color: hsl(0, 100.00%, 99.78%); border: none;\">\n",
       "    <td style=\"padding: 0 1em 0 0.5em; text-align: right; border: none;\">\n",
       "        -295.460\n",
       "    </td>\n",
       "    <td style=\"padding: 0 0.5em 0 0.5em; text-align: left; border: none;\">\n",
       "        ScreenPorch\n",
       "    </td>\n",
       "    \n",
       "</tr>\n",
       "        \n",
       "            <tr style=\"background-color: hsl(0, 100.00%, 99.77%); border: none;\">\n",
       "    <td style=\"padding: 0 1em 0 0.5em; text-align: right; border: none;\">\n",
       "        -303.735\n",
       "    </td>\n",
       "    <td style=\"padding: 0 0.5em 0 0.5em; text-align: left; border: none;\">\n",
       "        Exterior1st_BrkFace\n",
       "    </td>\n",
       "    \n",
       "</tr>\n",
       "        \n",
       "            <tr style=\"background-color: hsl(0, 100.00%, 99.76%); border: none;\">\n",
       "    <td style=\"padding: 0 1em 0 0.5em; text-align: right; border: none;\">\n",
       "        -329.393\n",
       "    </td>\n",
       "    <td style=\"padding: 0 0.5em 0 0.5em; text-align: left; border: none;\">\n",
       "        Neighborhood_Somerst\n",
       "    </td>\n",
       "    \n",
       "</tr>\n",
       "        \n",
       "            <tr style=\"background-color: hsl(0, 100.00%, 99.74%); border: none;\">\n",
       "    <td style=\"padding: 0 1em 0 0.5em; text-align: right; border: none;\">\n",
       "        -355.144\n",
       "    </td>\n",
       "    <td style=\"padding: 0 0.5em 0 0.5em; text-align: left; border: none;\">\n",
       "        WoodDeckSF\n",
       "    </td>\n",
       "    \n",
       "</tr>\n",
       "        \n",
       "            <tr style=\"background-color: hsl(0, 100.00%, 99.73%); border: none;\">\n",
       "    <td style=\"padding: 0 1em 0 0.5em; text-align: right; border: none;\">\n",
       "        -379.177\n",
       "    </td>\n",
       "    <td style=\"padding: 0 0.5em 0 0.5em; text-align: left; border: none;\">\n",
       "        MasVnrArea\n",
       "    </td>\n",
       "    \n",
       "</tr>\n",
       "        \n",
       "            <tr style=\"background-color: hsl(0, 100.00%, 99.71%); border: none;\">\n",
       "    <td style=\"padding: 0 1em 0 0.5em; text-align: right; border: none;\">\n",
       "        -434.576\n",
       "    </td>\n",
       "    <td style=\"padding: 0 0.5em 0 0.5em; text-align: left; border: none;\">\n",
       "        GrLivArea\n",
       "    </td>\n",
       "    \n",
       "</tr>\n",
       "        \n",
       "            <tr style=\"background-color: hsl(0, 100.00%, 99.70%); border: none;\">\n",
       "    <td style=\"padding: 0 1em 0 0.5em; text-align: right; border: none;\">\n",
       "        -439.520\n",
       "    </td>\n",
       "    <td style=\"padding: 0 0.5em 0 0.5em; text-align: left; border: none;\">\n",
       "        Neighborhood_Crawfor\n",
       "    </td>\n",
       "    \n",
       "</tr>\n",
       "        \n",
       "            <tr style=\"background-color: hsl(0, 100.00%, 99.67%); border: none;\">\n",
       "    <td style=\"padding: 0 1em 0 0.5em; text-align: right; border: none;\">\n",
       "        -518.198\n",
       "    </td>\n",
       "    <td style=\"padding: 0 0.5em 0 0.5em; text-align: left; border: none;\">\n",
       "        BsmtExposure_Gd\n",
       "    </td>\n",
       "    \n",
       "</tr>\n",
       "        \n",
       "            <tr style=\"background-color: hsl(0, 100.00%, 99.66%); border: none;\">\n",
       "    <td style=\"padding: 0 1em 0 0.5em; text-align: right; border: none;\">\n",
       "        -528.198\n",
       "    </td>\n",
       "    <td style=\"padding: 0 0.5em 0 0.5em; text-align: left; border: none;\">\n",
       "        OverallCond\n",
       "    </td>\n",
       "    \n",
       "</tr>\n",
       "        \n",
       "            <tr style=\"background-color: hsl(0, 100.00%, 99.66%); border: none;\">\n",
       "    <td style=\"padding: 0 1em 0 0.5em; text-align: right; border: none;\">\n",
       "        -537.479\n",
       "    </td>\n",
       "    <td style=\"padding: 0 0.5em 0 0.5em; text-align: left; border: none;\">\n",
       "        KitchenQual_Ex\n",
       "    </td>\n",
       "    \n",
       "</tr>\n",
       "        \n",
       "            <tr style=\"background-color: hsl(0, 100.00%, 99.64%); border: none;\">\n",
       "    <td style=\"padding: 0 1em 0 0.5em; text-align: right; border: none;\">\n",
       "        -575.929\n",
       "    </td>\n",
       "    <td style=\"padding: 0 0.5em 0 0.5em; text-align: left; border: none;\">\n",
       "        SaleType_New\n",
       "    </td>\n",
       "    \n",
       "</tr>\n",
       "        \n",
       "            <tr style=\"background-color: hsl(0, 100.00%, 99.31%); border: none;\">\n",
       "    <td style=\"padding: 0 1em 0 0.5em; text-align: right; border: none;\">\n",
       "        -1470.254\n",
       "    </td>\n",
       "    <td style=\"padding: 0 0.5em 0 0.5em; text-align: left; border: none;\">\n",
       "        BsmtQual_Ex\n",
       "    </td>\n",
       "    \n",
       "</tr>\n",
       "        \n",
       "            <tr style=\"background-color: hsl(0, 100.00%, 99.26%); border: none;\">\n",
       "    <td style=\"padding: 0 1em 0 0.5em; text-align: right; border: none;\">\n",
       "        -1618.578\n",
       "    </td>\n",
       "    <td style=\"padding: 0 0.5em 0 0.5em; text-align: left; border: none;\">\n",
       "        Fireplaces\n",
       "    </td>\n",
       "    \n",
       "</tr>\n",
       "        \n",
       "            <tr style=\"background-color: hsl(0, 100.00%, 99.10%); border: none;\">\n",
       "    <td style=\"padding: 0 1em 0 0.5em; text-align: right; border: none;\">\n",
       "        -2165.072\n",
       "    </td>\n",
       "    <td style=\"padding: 0 0.5em 0 0.5em; text-align: left; border: none;\">\n",
       "        1stFlrSF\n",
       "    </td>\n",
       "    \n",
       "</tr>\n",
       "        \n",
       "            <tr style=\"background-color: hsl(0, 100.00%, 98.88%); border: none;\">\n",
       "    <td style=\"padding: 0 1em 0 0.5em; text-align: right; border: none;\">\n",
       "        -2920.405\n",
       "    </td>\n",
       "    <td style=\"padding: 0 0.5em 0 0.5em; text-align: left; border: none;\">\n",
       "        GarageCars\n",
       "    </td>\n",
       "    \n",
       "</tr>\n",
       "        \n",
       "            <tr style=\"background-color: hsl(0, 100.00%, 98.45%); border: none;\">\n",
       "    <td style=\"padding: 0 1em 0 0.5em; text-align: right; border: none;\">\n",
       "        -4689.240\n",
       "    </td>\n",
       "    <td style=\"padding: 0 0.5em 0 0.5em; text-align: left; border: none;\">\n",
       "        TotalBsmtSF\n",
       "    </td>\n",
       "    \n",
       "</tr>\n",
       "        \n",
       "\n",
       "        </tbody>\n",
       "    </table>\n",
       "\n",
       "            \n",
       "        \n",
       "\n",
       "        \n",
       "\n",
       "\n",
       "\n",
       "    \n",
       "\n",
       "    \n",
       "\n",
       "    \n",
       "\n",
       "    \n",
       "\n",
       "\n",
       "    \n",
       "\n",
       "    \n",
       "\n",
       "    \n",
       "\n",
       "    \n",
       "\n",
       "    \n",
       "\n",
       "    \n",
       "\n",
       "\n",
       "    \n",
       "\n",
       "    \n",
       "\n",
       "    \n",
       "\n",
       "    \n",
       "\n",
       "    \n",
       "\n",
       "    \n",
       "\n",
       "\n",
       "\n"
      ],
      "text/plain": [
       "Explanation(estimator=\"XGBRegressor(base_score=0.5, booster='gbtree', colsample_bylevel=1,\\n       colsample_bytree=1, gamma=0, learning_rate=0.08, max_delta_step=0,\\n       max_depth=3, min_child_weight=1, missing=nan, n_estimators=500,\\n       n_jobs=1, nthread=None, objective='reg:linear', random_state=0,\\n       reg_alpha=0, reg_lambda=1, scale_pos_weight=1, seed=None,\\n       silent=True, subsample=1)\", description='\\nFeatures with largest coefficients.\\n\\nFeature weights are calculated by following decision paths in trees\\nof an ensemble. Each leaf has an output score, and expected scores can also be\\nassigned to parent nodes. Contribution of one feature on the decision path\\nis how much expected score changes from parent to child. Weights of all \\nfeatures sum to the output score of the estimator.\\n\\nCaveats:\\n1. Feature weights just show if the feature contributed positively or\\n   negatively to the final score, and does not show how increasing or\\n   decreasing the feature value will change the prediction.\\n2. In some cases, feature weight can be close to zero for an important feature.\\n   For example, in a single tree that computes XOR function, the feature at the\\n   top of the tree will have zero weight because expected scores for both\\n   branches are equal, so decision at the top feature does not change the\\n   expected score. For an ensemble predicting XOR functions it might not be\\n   a problem, but it is not reliable if most trees happen to choose the same\\n   feature at the top.\\n', error=None, method='decision paths', is_regression=True, targets=[TargetExplanation(target='y', feature_weights=FeatureWeights(pos=[FeatureWeight(feature='<BIAS>', weight=180411.97409247153, std=None, value=1.0), FeatureWeight(feature='OverallQual', weight=11802.969372439438, std=None, value=7.0), FeatureWeight(feature='2ndFlrSF', weight=4752.0754930985595, std=None, value=854.0), FeatureWeight(feature='ExterQual_TA', weight=3479.7806944093545, std=None, value=0.0), FeatureWeight(feature='BsmtFullBath', weight=3409.627807767085, std=None, value=1.0), FeatureWeight(feature='YearRemodAdd', weight=3237.036669405688, std=None, value=2003.0), FeatureWeight(feature='FullBath', weight=3199.2231935893524, std=None, value=2.0), FeatureWeight(feature='YearBuilt', weight=2706.791377717138, std=None, value=2003.0), FeatureWeight(feature='HalfBath', weight=1395.370353591852, std=None, value=1.0), FeatureWeight(feature='KitchenQual_TA', weight=1354.2381507692298, std=None, value=0.0), FeatureWeight(feature='GarageType_Attchd', weight=1351.5477707815235, std=None, value=1.0), FeatureWeight(feature='BsmtFinType1_GLQ', weight=1226.511993868099, std=None, value=1.0), FeatureWeight(feature='KitchenQual_Gd', weight=1165.3106270535964, std=None, value=1.0), FeatureWeight(feature='HeatingQC_Ex', weight=887.5768086999695, std=None, value=1.0), FeatureWeight(feature='BsmtQual_Gd', weight=761.4617962316393, std=None, value=1.0), FeatureWeight(feature='SaleCondition_Abnorml', weight=521.0666686136163, std=None, value=0.0), FeatureWeight(feature='HouseStyle_1Story', weight=507.19535442706643, std=None, value=0.0), FeatureWeight(feature='HouseStyle_2Story', weight=496.70257367171746, std=None, value=1.0), FeatureWeight(feature='GarageYrBlt', weight=431.5374307046402, std=None, value=2003.0), FeatureWeight(feature='MSZoning_RM', weight=422.71092785714245, std=None, value=0.0), FeatureWeight(feature='MSSubClass', weight=401.7268763636366, std=None, value=60.0), FeatureWeight(feature='GarageType_Detchd', weight=400.93202905546786, std=None, value=0.0), FeatureWeight(feature='Condition1_Norm', weight=362.35774520866164, std=None, value=1.0), FeatureWeight(feature='OpenPorchSF', weight=317.85565650350014, std=None, value=61.0), FeatureWeight(feature='BsmtUnfSF', weight=307.3358302389458, std=None, value=150.0), FeatureWeight(feature='Neighborhood_OldTown', weight=299.9495601059212, std=None, value=0.0), FeatureWeight(feature='LotArea', weight=249.37933514672545, std=None, value=8450.0), FeatureWeight(feature='Functional_Typ', weight=212.79115304293427, std=None, value=1.0), FeatureWeight(feature='BldgType_1Fam', weight=210.72124764928907, std=None, value=1.0), FeatureWeight(feature='GarageArea', weight=175.1949560566765, std=None, value=548.0), FeatureWeight(feature='KitchenAbvGr', weight=156.26454344507468, std=None, value=1.0), FeatureWeight(feature='MSZoning_C (all)', weight=120.37996331769132, std=None, value=0.0), FeatureWeight(feature='ExterCond_Gd', weight=101.17494290133523, std=None, value=0.0), FeatureWeight(feature='Condition1_Artery', weight=80.2055745395628, std=None, value=0.0), FeatureWeight(feature='BsmtFinType1_ALQ', weight=80.06820295130727, std=None, value=0.0), FeatureWeight(feature='Neighborhood_NAmes', weight=78.56942563636365, std=None, value=0.0), FeatureWeight(feature='Foundation_BrkTil', weight=77.45244152288265, std=None, value=0.0), FeatureWeight(feature='Neighborhood_Edwards', weight=76.14514320885642, std=None, value=0.0), FeatureWeight(feature='BedroomAbvGr', weight=74.83421688577556, std=None, value=3.0), FeatureWeight(feature='LotConfig_FR2', weight=67.74424719325522, std=None, value=0.0), FeatureWeight(feature='GarageFinish_RFn', weight=62.96722796511841, std=None, value=1.0), FeatureWeight(feature='BsmtCond_Fa', weight=62.830488599785355, std=None, value=0.0), FeatureWeight(feature='LowQualFinSF', weight=45.71941932617136, std=None, value=0.0), FeatureWeight(feature='LandContour_Bnk', weight=37.13105556089015, std=None, value=0.0), FeatureWeight(feature='SaleCondition_Family', weight=37.11124937450782, std=None, value=0.0), FeatureWeight(feature='BsmtFinType1_LwQ', weight=30.74643836159732, std=None, value=0.0), FeatureWeight(feature='Condition1_RRAe', weight=30.338472238221758, std=None, value=0.0), FeatureWeight(feature='BsmtCond_Gd', weight=28.492597765909096, std=None, value=0.0), FeatureWeight(feature='BsmtFinSF1', weight=26.897227639008563, std=None, value=706.0), FeatureWeight(feature='GarageType_CarPort', weight=26.185436284832182, std=None, value=0.0), FeatureWeight(feature='Neighborhood_Mitchel', weight=23.135944729360737, std=None, value=0.0), FeatureWeight(feature='HouseStyle_2.5Unf', weight=20.57704614529526, std=None, value=0.0), FeatureWeight(feature='Neighborhood_MeadowV', weight=18.202887622274513, std=None, value=0.0), FeatureWeight(feature='HouseStyle_1.5Fin', weight=17.197533103559863, std=None, value=0.0), FeatureWeight(feature='Functional_Maj2', weight=15.980944329728304, std=None, value=0.0), FeatureWeight(feature='GarageType_2Types', weight=13.436680636814447, std=None, value=0.0), FeatureWeight(feature='GarageQual_Fa', weight=10.780714340831356, std=None, value=0.0), FeatureWeight(feature='BsmtFinType1_BLQ', weight=8.01612649260522, std=None, value=0.0), FeatureWeight(feature='MasVnrType_BrkCmn', weight=6.919674350599317, std=None, value=0.0), FeatureWeight(feature='Neighborhood_Blmngtn', weight=5.706120228866727, std=None, value=0.0), FeatureWeight(feature='Functional_Maj1', weight=5.445982599643894, std=None, value=0.0), FeatureWeight(feature='Heating_OthW', weight=4.791511887846167, std=None, value=0.0), FeatureWeight(feature='Neighborhood_NPkVill', weight=4.68082283729354, std=None, value=0.0), FeatureWeight(feature='Functional_Mod', weight=2.2827372506340624, std=None, value=0.0), FeatureWeight(feature='SaleType_ConLI', weight=1.3939653065286486, std=None, value=0.0), FeatureWeight(feature='Exterior1st_BrkComm', weight=0.9160544805818152, std=None, value=0.0)], neg=[FeatureWeight(feature='TotalBsmtSF', weight=-4689.240074832515, std=None, value=856.0), FeatureWeight(feature='GarageCars', weight=-2920.4049509930264, std=None, value=2.0), FeatureWeight(feature='1stFlrSF', weight=-2165.0722370028475, std=None, value=856.0), FeatureWeight(feature='Fireplaces', weight=-1618.5779006211887, std=None, value=0.0), FeatureWeight(feature='BsmtQual_Ex', weight=-1470.2537356867724, std=None, value=0.0), FeatureWeight(feature='SaleType_New', weight=-575.9292407163236, std=None, value=0.0), FeatureWeight(feature='KitchenQual_Ex', weight=-537.4789514526409, std=None, value=0.0), FeatureWeight(feature='OverallCond', weight=-528.1979382022412, std=None, value=5.0), FeatureWeight(feature='BsmtExposure_Gd', weight=-518.1981683958714, std=None, value=0.0), FeatureWeight(feature='Neighborhood_Crawfor', weight=-439.5204481601836, std=None, value=0.0), FeatureWeight(feature='GrLivArea', weight=-434.5757061953706, std=None, value=1710.0), FeatureWeight(feature='MasVnrArea', weight=-379.1773882958726, std=None, value=196.0), FeatureWeight(feature='WoodDeckSF', weight=-355.1441020610215, std=None, value=0.0), FeatureWeight(feature='Neighborhood_Somerst', weight=-329.39318320597687, std=None, value=0.0), FeatureWeight(feature='Exterior1st_BrkFace', weight=-303.73471900457236, std=None, value=0.0), FeatureWeight(feature='ScreenPorch', weight=-295.459869211767, std=None, value=0.0), FeatureWeight(feature='LotConfig_CulDSac', weight=-251.51668480957068, std=None, value=0.0), FeatureWeight(feature='Neighborhood_StoneBr', weight=-247.10002088188236, std=None, value=0.0), FeatureWeight(feature='MoSold', weight=-214.9907186828388, std=None, value=2.0), FeatureWeight(feature='BsmtExposure_No', weight=-193.3477812589571, std=None, value=1.0), FeatureWeight(feature='BsmtFinSF2', weight=-146.90119747038835, std=None, value=0.0), FeatureWeight(feature='ExterQual_Ex', weight=-130.41211588508492, std=None, value=0.0), FeatureWeight(feature='Neighborhood_BrkSide', weight=-129.03427061464896, std=None, value=0.0), FeatureWeight(feature='Neighborhood_NridgHt', weight=-108.6034954418438, std=None, value=0.0), FeatureWeight(feature='LandSlope_Gtl', weight=-90.18211654053383, std=None, value=1.0), FeatureWeight(feature='Exterior1st_MetalSd', weight=-61.98134284879665, std=None, value=0.0), FeatureWeight(feature='Neighborhood_NoRidge', weight=-53.204169979726515, std=None, value=0.0), FeatureWeight(feature='PoolArea', weight=-51.8004636112917, std=None, value=0.0), FeatureWeight(feature='3SsnPorch', weight=-46.68802436665433, std=None, value=0.0), FeatureWeight(feature='RoofMatl_WdShngl', weight=-41.960791094825325, std=None, value=0.0), FeatureWeight(feature='Exterior1st_Stucco', weight=-26.45195029427538, std=None, value=0.0), FeatureWeight(feature='LotFrontage', weight=-23.14423484347984, std=None, value=65.0), FeatureWeight(feature='SaleCondition_Partial', weight=-20.675753194905234, std=None, value=0.0), FeatureWeight(feature='Neighborhood_ClearCr', weight=-18.744968546759132, std=None, value=0.0), FeatureWeight(feature='BsmtFinType2_LwQ', weight=-11.020312106957295, std=None, value=0.0), FeatureWeight(feature='Neighborhood_Veenker', weight=-10.979144610459722, std=None, value=0.0), FeatureWeight(feature='YrSold', weight=-10.748900920927262, std=None, value=2008.0), FeatureWeight(feature='HouseStyle_SLvl', weight=-9.928463361373279, std=None, value=0.0), FeatureWeight(feature='MSZoning_RH', weight=-7.629947637299905, std=None, value=0.0), FeatureWeight(feature='Neighborhood_IDOTRR', weight=-7.186939966993938, std=None, value=0.0), FeatureWeight(feature='EnclosedPorch', weight=-5.408717585674109, std=None, value=0.0), FeatureWeight(feature='GarageCond_Fa', weight=-3.8437063393917326, std=None, value=0.0), FeatureWeight(feature='SaleCondition_Alloca', weight=-2.658348641446537, std=None, value=0.0), FeatureWeight(feature='Condition1_PosA', weight=-1.909401261673825, std=None, value=0.0)], pos_remaining=0, neg_remaining=0), proba=None, score=208431.26401076376, weighted_spans=None)], feature_importances=None, decision_tree=None, highlight_spaces=None, transition_features=None)"
      ]
     },
     "execution_count": 64,
     "metadata": {},
     "output_type": "execute_result"
    }
   ],
   "source": [
    "# The nice thing is that eli5 can also explain single predictions (as feature weights)\n",
    "explain_prediction_xgboost(XGB_final, XGB_features.iloc[0])"
   ]
  },
  {
   "cell_type": "markdown",
   "metadata": {
    "ExecuteTime": {
     "end_time": "2019-04-29T21:35:49.369690Z",
     "start_time": "2019-04-29T21:35:49.338443Z"
    }
   },
   "source": [
    "### Inspect Feature Importance - Gains\n",
    "\n",
    "#### Manually\n",
    "\n",
    "**Note:** I re-use the plot functions from above, knowing that some labels / titles are wrong because they refere to weights."
   ]
  },
  {
   "cell_type": "code",
   "execution_count": 52,
   "metadata": {
    "ExecuteTime": {
     "end_time": "2019-04-29T21:45:46.796932Z",
     "start_time": "2019-04-29T21:45:46.781311Z"
    }
   },
   "outputs": [],
   "source": [
    "def get_feature_importances_gain(model, feature_names, drop_zero=False):\n",
    "    ''' Returns DataFrame with 'gain' metric for the different features. If \n",
    "    drop_zero ist True, then only features with value != 0 are returned.\n",
    "    (This model has a little different syntax as the one above.)\n",
    "    \n",
    "    ARGUMENTS:\n",
    "    model: fitted XGBoost model instance\n",
    "    feature_names: list or index of column_labels\n",
    "    drop_zero: bool, drop coefs with 0 weight (default=False)\n",
    "\n",
    "    RETURNS:\n",
    "    gains_df: dataframe holding 'gain' metrics\n",
    "    '''\n",
    "    \n",
    "    gains = model.get_booster().get_score(importance_type='gain')\n",
    "    gains_df = pd.DataFrame(gains.values(), index=gains.keys(), columns=['weight'])\n",
    "    \n",
    "    \n",
    "    # Sort by absolute weights\n",
    "    gains_df['abs_weight'] = np.abs(gains_df['weight'])\n",
    "    gains_df = gains_df.sort_values('abs_weight', ascending=False)\n",
    "    gains_df.drop('abs_weight', axis=1, inplace=True)\n",
    "    \n",
    "    if drop_zero == True:\n",
    "        gains_df = gains_df.loc[gains_df['weight'] != 0]\n",
    "    \n",
    "    return gains_df"
   ]
  },
  {
   "cell_type": "code",
   "execution_count": 53,
   "metadata": {
    "ExecuteTime": {
     "end_time": "2019-04-29T21:45:47.497551Z",
     "start_time": "2019-04-29T21:45:47.456293Z"
    }
   },
   "outputs": [],
   "source": [
    "XGB_gains = get_feature_importances_gain(XGB_final, feature_names_XGB, drop_zero=True)"
   ]
  },
  {
   "cell_type": "code",
   "execution_count": 55,
   "metadata": {
    "ExecuteTime": {
     "end_time": "2019-04-29T21:46:05.989602Z",
     "start_time": "2019-04-29T21:46:05.604921Z"
    },
    "scrolled": false
   },
   "outputs": [
    {
     "name": "stdout",
     "output_type": "stream",
     "text": [
      "\n",
      "147 features remaining with weight > 0,     \n",
      "this equals a reduction of 52.27%\n"
     ]
    },
    {
     "data": {
      "image/png": "[encoded data removed]",
      "text/plain": [
       "<Figure size 864x576 with 1 Axes>"
      ]
     },
     "metadata": {
      "needs_background": "light"
     },
     "output_type": "display_data"
    }
   ],
   "source": [
    "plot_coef_weights(XGB_gains, feature_names_XGB)"
   ]
  },
  {
   "cell_type": "code",
   "execution_count": 56,
   "metadata": {
    "ExecuteTime": {
     "end_time": "2019-04-29T21:46:16.475578Z",
     "start_time": "2019-04-29T21:46:16.132947Z"
    }
   },
   "outputs": [
    {
     "name": "stdout",
     "output_type": "stream",
     "text": [
      "\n",
      "Top-15 features explain 77.76% of the total coef weights\n"
     ]
    },
    {
     "data": {
      "image/png": "[encoded data removed]",
      "text/plain": [
       "<Figure size 1152x432 with 1 Axes>"
      ]
     },
     "metadata": {
      "needs_background": "light"
     },
     "output_type": "display_data"
    }
   ],
   "source": [
    "plot_coef_weights_advanced(XGB_gains)"
   ]
  },
  {
   "cell_type": "code",
   "execution_count": 59,
   "metadata": {
    "ExecuteTime": {
     "end_time": "2019-04-29T21:46:59.168832Z",
     "start_time": "2019-04-29T21:46:59.131050Z"
    }
   },
   "outputs": [],
   "source": [
    "# Split feature names into category and sub-category\n",
    "XGB_gains['category'] = XGB_gains.index.str.split('_').str.get(0)\n",
    "XGB_gains['sub_category'] = XGB_gains.index.str.split('_').str.get(-1)\n",
    "# Group by category and sum the weights\n",
    "XGB_gains['weight'] = XGB_gains['weight'].apply(np.abs)\n",
    "XGB_gains_cum = XGB_gains.groupby('category').sum()\n",
    "XGB_gains_cum.sort_values('weight', ascending=False, inplace=True)"
   ]
  },
  {
   "cell_type": "code",
   "execution_count": 60,
   "metadata": {
    "ExecuteTime": {
     "end_time": "2019-04-29T21:47:00.131641Z",
     "start_time": "2019-04-29T21:46:59.786586Z"
    },
    "scrolled": true
   },
   "outputs": [
    {
     "name": "stdout",
     "output_type": "stream",
     "text": [
      "\n",
      "Top-15 features explain 85.21% of the total coef weights\n"
     ]
    },
    {
     "data": {
      "image/png": "[encoded data removed]",
      "text/plain": [
       "<Figure size 1152x432 with 1 Axes>"
      ]
     },
     "metadata": {
      "needs_background": "light"
     },
     "output_type": "display_data"
    }
   ],
   "source": [
    "plot_coef_weights_advanced(XGB_gains_cum)"
   ]
  },
  {
   "cell_type": "markdown",
   "metadata": {
    "ExecuteTime": {
     "end_time": "2019-04-29T21:47:21.347717Z",
     "start_time": "2019-04-29T21:47:21.332098Z"
    }
   },
   "source": [
    "#### With eli5"
   ]
  },
  {
   "cell_type": "code",
   "execution_count": 61,
   "metadata": {
    "ExecuteTime": {
     "end_time": "2019-04-29T21:47:07.168081Z",
     "start_time": "2019-04-29T21:47:07.136832Z"
    }
   },
   "outputs": [
    {
     "data": {
      "text/html": [
       "\n",
       "    <style>\n",
       "    table.eli5-weights tr:hover {\n",
       "        filter: brightness(85%);\n",
       "    }\n",
       "</style>\n",
       "\n",
       "\n",
       "\n",
       "    \n",
       "\n",
       "    \n",
       "\n",
       "    \n",
       "\n",
       "    \n",
       "\n",
       "    \n",
       "\n",
       "    \n",
       "\n",
       "\n",
       "    \n",
       "\n",
       "    \n",
       "\n",
       "    \n",
       "\n",
       "    \n",
       "\n",
       "    \n",
       "\n",
       "    \n",
       "\n",
       "\n",
       "    \n",
       "\n",
       "    \n",
       "\n",
       "    \n",
       "\n",
       "    \n",
       "\n",
       "    \n",
       "        <table class=\"eli5-weights eli5-feature-importances\" style=\"border-collapse: collapse; border: none; margin-top: 0em; table-layout: auto;\">\n",
       "    <thead>\n",
       "    <tr style=\"border: none;\">\n",
       "        <th style=\"padding: 0 1em 0 0.5em; text-align: right; border: none;\">Weight</th>\n",
       "        <th style=\"padding: 0 0.5em 0 0.5em; text-align: left; border: none;\">Feature</th>\n",
       "    </tr>\n",
       "    </thead>\n",
       "    <tbody>\n",
       "    \n",
       "        <tr style=\"background-color: hsl(120, 100.00%, 80.00%); border: none;\">\n",
       "            <td style=\"padding: 0 1em 0 0.5em; text-align: right; border: none;\">\n",
       "                0.2453\n",
       "                \n",
       "            </td>\n",
       "            <td style=\"padding: 0 0.5em 0 0.5em; text-align: left; border: none;\">\n",
       "                ExterQual_TA\n",
       "            </td>\n",
       "        </tr>\n",
       "    \n",
       "        <tr style=\"background-color: hsl(120, 100.00%, 88.11%); border: none;\">\n",
       "            <td style=\"padding: 0 1em 0 0.5em; text-align: right; border: none;\">\n",
       "                0.1167\n",
       "                \n",
       "            </td>\n",
       "            <td style=\"padding: 0 0.5em 0 0.5em; text-align: left; border: none;\">\n",
       "                OverallQual\n",
       "            </td>\n",
       "        </tr>\n",
       "    \n",
       "        <tr style=\"background-color: hsl(120, 100.00%, 89.81%); border: none;\">\n",
       "            <td style=\"padding: 0 1em 0 0.5em; text-align: right; border: none;\">\n",
       "                0.0936\n",
       "                \n",
       "            </td>\n",
       "            <td style=\"padding: 0 0.5em 0 0.5em; text-align: left; border: none;\">\n",
       "                BsmtQual_Ex\n",
       "            </td>\n",
       "        </tr>\n",
       "    \n",
       "        <tr style=\"background-color: hsl(120, 100.00%, 91.06%); border: none;\">\n",
       "            <td style=\"padding: 0 1em 0 0.5em; text-align: right; border: none;\">\n",
       "                0.0776\n",
       "                \n",
       "            </td>\n",
       "            <td style=\"padding: 0 0.5em 0 0.5em; text-align: left; border: none;\">\n",
       "                GarageCars\n",
       "            </td>\n",
       "        </tr>\n",
       "    \n",
       "        <tr style=\"background-color: hsl(120, 100.00%, 93.29%); border: none;\">\n",
       "            <td style=\"padding: 0 1em 0 0.5em; text-align: right; border: none;\">\n",
       "                0.0515\n",
       "                \n",
       "            </td>\n",
       "            <td style=\"padding: 0 0.5em 0 0.5em; text-align: left; border: none;\">\n",
       "                FullBath\n",
       "            </td>\n",
       "        </tr>\n",
       "    \n",
       "        <tr style=\"background-color: hsl(120, 100.00%, 95.45%); border: none;\">\n",
       "            <td style=\"padding: 0 1em 0 0.5em; text-align: right; border: none;\">\n",
       "                0.0296\n",
       "                \n",
       "            </td>\n",
       "            <td style=\"padding: 0 0.5em 0 0.5em; text-align: left; border: none;\">\n",
       "                MSZoning_RM\n",
       "            </td>\n",
       "        </tr>\n",
       "    \n",
       "        <tr style=\"background-color: hsl(120, 100.00%, 95.75%); border: none;\">\n",
       "            <td style=\"padding: 0 1em 0 0.5em; text-align: right; border: none;\">\n",
       "                0.0268\n",
       "                \n",
       "            </td>\n",
       "            <td style=\"padding: 0 0.5em 0 0.5em; text-align: left; border: none;\">\n",
       "                GrLivArea\n",
       "            </td>\n",
       "        </tr>\n",
       "    \n",
       "        <tr style=\"background-color: hsl(120, 100.00%, 96.35%); border: none;\">\n",
       "            <td style=\"padding: 0 1em 0 0.5em; text-align: right; border: none;\">\n",
       "                0.0216\n",
       "                \n",
       "            </td>\n",
       "            <td style=\"padding: 0 0.5em 0 0.5em; text-align: left; border: none;\">\n",
       "                KitchenQual_TA\n",
       "            </td>\n",
       "        </tr>\n",
       "    \n",
       "        <tr style=\"background-color: hsl(120, 100.00%, 96.68%); border: none;\">\n",
       "            <td style=\"padding: 0 1em 0 0.5em; text-align: right; border: none;\">\n",
       "                0.0189\n",
       "                \n",
       "            </td>\n",
       "            <td style=\"padding: 0 0.5em 0 0.5em; text-align: left; border: none;\">\n",
       "                GarageType_Attchd\n",
       "            </td>\n",
       "        </tr>\n",
       "    \n",
       "        <tr style=\"background-color: hsl(120, 100.00%, 96.69%); border: none;\">\n",
       "            <td style=\"padding: 0 1em 0 0.5em; text-align: right; border: none;\">\n",
       "                0.0188\n",
       "                \n",
       "            </td>\n",
       "            <td style=\"padding: 0 0.5em 0 0.5em; text-align: left; border: none;\">\n",
       "                TotalBsmtSF\n",
       "            </td>\n",
       "        </tr>\n",
       "    \n",
       "        <tr style=\"background-color: hsl(120, 100.00%, 96.72%); border: none;\">\n",
       "            <td style=\"padding: 0 1em 0 0.5em; text-align: right; border: none;\">\n",
       "                0.0186\n",
       "                \n",
       "            </td>\n",
       "            <td style=\"padding: 0 0.5em 0 0.5em; text-align: left; border: none;\">\n",
       "                CentralAir_N\n",
       "            </td>\n",
       "        </tr>\n",
       "    \n",
       "        <tr style=\"background-color: hsl(120, 100.00%, 97.07%); border: none;\">\n",
       "            <td style=\"padding: 0 1em 0 0.5em; text-align: right; border: none;\">\n",
       "                0.0158\n",
       "                \n",
       "            </td>\n",
       "            <td style=\"padding: 0 0.5em 0 0.5em; text-align: left; border: none;\">\n",
       "                Fireplaces\n",
       "            </td>\n",
       "        </tr>\n",
       "    \n",
       "        <tr style=\"background-color: hsl(120, 100.00%, 97.16%); border: none;\">\n",
       "            <td style=\"padding: 0 1em 0 0.5em; text-align: right; border: none;\">\n",
       "                0.0151\n",
       "                \n",
       "            </td>\n",
       "            <td style=\"padding: 0 0.5em 0 0.5em; text-align: left; border: none;\">\n",
       "                HouseStyle_2Story\n",
       "            </td>\n",
       "        </tr>\n",
       "    \n",
       "        <tr style=\"background-color: hsl(120, 100.00%, 97.23%); border: none;\">\n",
       "            <td style=\"padding: 0 1em 0 0.5em; text-align: right; border: none;\">\n",
       "                0.0146\n",
       "                \n",
       "            </td>\n",
       "            <td style=\"padding: 0 0.5em 0 0.5em; text-align: left; border: none;\">\n",
       "                KitchenQual_Gd\n",
       "            </td>\n",
       "        </tr>\n",
       "    \n",
       "        <tr style=\"background-color: hsl(120, 100.00%, 97.42%); border: none;\">\n",
       "            <td style=\"padding: 0 1em 0 0.5em; text-align: right; border: none;\">\n",
       "                0.0131\n",
       "                \n",
       "            </td>\n",
       "            <td style=\"padding: 0 0.5em 0 0.5em; text-align: left; border: none;\">\n",
       "                KitchenQual_Ex\n",
       "            </td>\n",
       "        </tr>\n",
       "    \n",
       "        <tr style=\"background-color: hsl(120, 100.00%, 97.59%); border: none;\">\n",
       "            <td style=\"padding: 0 1em 0 0.5em; text-align: right; border: none;\">\n",
       "                0.0120\n",
       "                \n",
       "            </td>\n",
       "            <td style=\"padding: 0 0.5em 0 0.5em; text-align: left; border: none;\">\n",
       "                ExterQual_Ex\n",
       "            </td>\n",
       "        </tr>\n",
       "    \n",
       "        <tr style=\"background-color: hsl(120, 100.00%, 97.75%); border: none;\">\n",
       "            <td style=\"padding: 0 1em 0 0.5em; text-align: right; border: none;\">\n",
       "                0.0108\n",
       "                \n",
       "            </td>\n",
       "            <td style=\"padding: 0 0.5em 0 0.5em; text-align: left; border: none;\">\n",
       "                BsmtFinSF1\n",
       "            </td>\n",
       "        </tr>\n",
       "    \n",
       "        <tr style=\"background-color: hsl(120, 100.00%, 97.78%); border: none;\">\n",
       "            <td style=\"padding: 0 1em 0 0.5em; text-align: right; border: none;\">\n",
       "                0.0106\n",
       "                \n",
       "            </td>\n",
       "            <td style=\"padding: 0 0.5em 0 0.5em; text-align: left; border: none;\">\n",
       "                1stFlrSF\n",
       "            </td>\n",
       "        </tr>\n",
       "    \n",
       "        <tr style=\"background-color: hsl(120, 100.00%, 97.81%); border: none;\">\n",
       "            <td style=\"padding: 0 1em 0 0.5em; text-align: right; border: none;\">\n",
       "                0.0104\n",
       "                \n",
       "            </td>\n",
       "            <td style=\"padding: 0 0.5em 0 0.5em; text-align: left; border: none;\">\n",
       "                BsmtExposure_Gd\n",
       "            </td>\n",
       "        </tr>\n",
       "    \n",
       "        <tr style=\"background-color: hsl(120, 100.00%, 97.82%); border: none;\">\n",
       "            <td style=\"padding: 0 1em 0 0.5em; text-align: right; border: none;\">\n",
       "                0.0103\n",
       "                \n",
       "            </td>\n",
       "            <td style=\"padding: 0 0.5em 0 0.5em; text-align: left; border: none;\">\n",
       "                YearRemodAdd\n",
       "            </td>\n",
       "        </tr>\n",
       "    \n",
       "    \n",
       "        \n",
       "            <tr style=\"background-color: hsl(120, 100.00%, 97.82%); border: none;\">\n",
       "                <td colspan=\"2\" style=\"padding: 0 0.5em 0 0.5em; text-align: center; border: none; white-space: nowrap;\">\n",
       "                    <i>&hellip; 288 more &hellip;</i>\n",
       "                </td>\n",
       "            </tr>\n",
       "        \n",
       "    \n",
       "    </tbody>\n",
       "</table>\n",
       "    \n",
       "\n",
       "    \n",
       "\n",
       "\n",
       "    \n",
       "\n",
       "    \n",
       "\n",
       "    \n",
       "\n",
       "    \n",
       "\n",
       "    \n",
       "\n",
       "    \n",
       "\n",
       "\n",
       "\n"
      ],
      "text/plain": [
       "Explanation(estimator=\"XGBRegressor(base_score=0.5, booster='gbtree', colsample_bylevel=1,\\n       colsample_bytree=1, gamma=0, learning_rate=0.08, max_delta_step=0,\\n       max_depth=3, min_child_weight=1, missing=nan, n_estimators=500,\\n       n_jobs=1, nthread=None, objective='reg:linear', random_state=0,\\n       reg_alpha=0, reg_lambda=1, scale_pos_weight=1, seed=None,\\n       silent=True, subsample=1)\", description='\\nXGBoost feature importances; values are numbers 0 <= x <= 1;\\nall values sum to 1.\\n', error=None, method='feature importances', is_regression=True, targets=None, feature_importances=FeatureImportances(importances=[FeatureWeight(feature='ExterQual_TA', weight=0.24528623, std=None, value=None), FeatureWeight(feature='OverallQual', weight=0.11672346, std=None, value=None), FeatureWeight(feature='BsmtQual_Ex', weight=0.0936234, std=None, value=None), FeatureWeight(feature='GarageCars', weight=0.07762447, std=None, value=None), FeatureWeight(feature='FullBath', weight=0.051530376, std=None, value=None), FeatureWeight(feature='MSZoning_RM', weight=0.029571073, std=None, value=None), FeatureWeight(feature='GrLivArea', weight=0.026827183, std=None, value=None), FeatureWeight(feature='KitchenQual_TA', weight=0.02158479, std=None, value=None), FeatureWeight(feature='GarageType_Attchd', weight=0.01889766, std=None, value=None), FeatureWeight(feature='TotalBsmtSF', weight=0.018785685, std=None, value=None), FeatureWeight(feature='CentralAir_N', weight=0.018565062, std=None, value=None), FeatureWeight(feature='Fireplaces', weight=0.01580314, std=None, value=None), FeatureWeight(feature='HouseStyle_2Story', weight=0.015053925, std=None, value=None), FeatureWeight(feature='KitchenQual_Gd', weight=0.014583085, std=None, value=None), FeatureWeight(feature='KitchenQual_Ex', weight=0.013139873, std=None, value=None), FeatureWeight(feature='ExterQual_Ex', weight=0.011961653, std=None, value=None), FeatureWeight(feature='BsmtFinSF1', weight=0.010811907, std=None, value=None), FeatureWeight(feature='1stFlrSF', weight=0.0105888555, std=None, value=None), FeatureWeight(feature='BsmtExposure_Gd', weight=0.010394123, std=None, value=None), FeatureWeight(feature='YearRemodAdd', weight=0.010314251, std=None, value=None)], remaining=288), decision_tree=None, highlight_spaces=None, transition_features=None)"
      ]
     },
     "execution_count": 61,
     "metadata": {},
     "output_type": "execute_result"
    }
   ],
   "source": [
    "# One can also have this  with eli5\n",
    "explain_weights_xgboost(XGB_final, vec=None, top=20, target_names=None, \n",
    "                        targets=None, feature_names=None, feature_re=None, \n",
    "                        feature_filter=None, importance_type='gain')"
   ]
  },
  {
   "cell_type": "code",
   "execution_count": 54,
   "metadata": {
    "ExecuteTime": {
     "end_time": "2019-04-29T21:19:37.801271Z",
     "start_time": "2019-04-29T21:19:37.773471Z"
    }
   },
   "outputs": [],
   "source": [
    "# I have not yet figured out how to use Permutation Importance with XGBoost as it is not an sklearn object"
   ]
  },
  {
   "cell_type": "markdown",
   "metadata": {
    "ExecuteTime": {
     "end_time": "2019-04-13T14:39:26.429397Z",
     "start_time": "2019-04-13T14:39:26.414983Z"
    }
   },
   "source": [
    "## Compare Top-15 features for the 2 models, and XGB gains vs. weights"
   ]
  },
  {
   "cell_type": "code",
   "execution_count": 73,
   "metadata": {
    "ExecuteTime": {
     "end_time": "2019-04-29T21:50:47.383239Z",
     "start_time": "2019-04-29T21:50:47.351962Z"
    }
   },
   "outputs": [
    {
     "name": "stdout",
     "output_type": "stream",
     "text": [
      "                weight\n",
      "category              \n",
      "Neighborhood  0.297708\n",
      "RoofMatl      0.160431\n",
      "Exterior1st   0.120389\n",
      "GrLivArea     0.113611\n",
      "Heating       0.105567\n",
      "GarageType    0.096360\n",
      "Exterior2nd   0.084736\n",
      "CentralAir    0.074352\n",
      "OverallQual   0.058242\n",
      "YearBuilt     0.053525\n",
      "HouseStyle    0.051802\n",
      "Condition2    0.050410\n",
      "ExterQual     0.045337\n",
      "OverallCond   0.044705\n",
      "PavedDrive    0.042973\n",
      "\n",
      "\n",
      "                weight\n",
      "category              \n",
      "Neighborhood  0.065805\n",
      "LotFrontage   0.065805\n",
      "GrLivArea     0.064998\n",
      "OverallQual   0.056520\n",
      "LotArea       0.049657\n",
      "BsmtUnfSF     0.039968\n",
      "GarageArea    0.038757\n",
      "OverallCond   0.037545\n",
      "GarageYrBlt   0.037545\n",
      "BsmtFinSF1    0.036334\n",
      "TotalBsmtSF   0.027856\n",
      "1stFlrSF      0.025838\n",
      "YearBuilt     0.024627\n",
      "MSSubClass    0.021397\n",
      "2ndFlrSF      0.018167\n",
      "\n",
      "\n",
      "                    weight\n",
      "category                  \n",
      "ExterQual     3.596891e+11\n",
      "OverallQual   1.632051e+11\n",
      "BsmtQual      1.405587e+11\n",
      "GarageCars    1.085361e+11\n",
      "FullBath      7.205079e+10\n",
      "KitchenQual   6.894307e+10\n",
      "MSZoning      5.628760e+10\n",
      "GarageType    3.964895e+10\n",
      "GrLivArea     3.751030e+10\n",
      "TotalBsmtSF   2.626652e+10\n",
      "CentralAir    2.595804e+10\n",
      "SaleType      2.528313e+10\n",
      "HouseStyle    2.481396e+10\n",
      "Fireplaces    2.209626e+10\n",
      "Neighborhood  2.054997e+10\n"
     ]
    }
   ],
   "source": [
    "print(EN_weights_cum[:15])\n",
    "print(\"\\n\")\n",
    "print(XGB_importances_cum[:15])\n",
    "print(\"\\n\")\n",
    "print(XGB_gains_cum[:15])"
   ]
  },
  {
   "cell_type": "code",
   "execution_count": 74,
   "metadata": {
    "ExecuteTime": {
     "end_time": "2019-04-29T21:54:25.808437Z",
     "start_time": "2019-04-29T21:54:25.786300Z"
    }
   },
   "outputs": [
    {
     "name": "stdout",
     "output_type": "stream",
     "text": [
      "{'GrLivArea', 'OverallCond', 'OverallQual', 'Neighborhood', 'YearBuilt'}\n"
     ]
    }
   ],
   "source": [
    "# Print intersection of top-15 features for XGB weights vs EN weights\n",
    "print(set(EN_weights_cum.index[:15]).intersection(set(XGB_importances_cum.index[:15])))"
   ]
  },
  {
   "cell_type": "code",
   "execution_count": 75,
   "metadata": {
    "ExecuteTime": {
     "end_time": "2019-04-29T21:55:52.080055Z",
     "start_time": "2019-04-29T21:55:52.042290Z"
    }
   },
   "outputs": [
    {
     "name": "stdout",
     "output_type": "stream",
     "text": [
      "{'GrLivArea', 'HouseStyle', 'OverallQual', 'Neighborhood', 'GarageType', 'CentralAir', 'ExterQual'}\n"
     ]
    }
   ],
   "source": [
    "# Print intersection of top-15 features for XGB gains vs EN weights\n",
    "print(set(EN_weights_cum.index[:15]).intersection(set(XGB_gains_cum.index[:15])))"
   ]
  },
  {
   "cell_type": "markdown",
   "metadata": {},
   "source": [
    "**Observation:** The two models share roughly half (7 out of 15) of their most important features when we take the more relevant 'gains' metric for XGB."
   ]
  },
  {
   "cell_type": "code",
   "execution_count": 77,
   "metadata": {
    "ExecuteTime": {
     "end_time": "2019-04-29T21:56:59.386635Z",
     "start_time": "2019-04-29T21:56:59.355386Z"
    }
   },
   "outputs": [
    {
     "name": "stdout",
     "output_type": "stream",
     "text": [
      "{'OverallQual', 'GrLivArea', 'Neighborhood', 'TotalBsmtSF'}\n"
     ]
    }
   ],
   "source": [
    "# Print intersection of top-15 features for XGB weights vs gains\n",
    "print(set(XGB_importances_cum.index[:15]).intersection(set(XGB_gains_cum.index[:15])))"
   ]
  },
  {
   "cell_type": "markdown",
   "metadata": {},
   "source": [
    "## Appendix: Re-fit and Re-evaluate XGB with Reduced Feature Set\n",
    "\n",
    "### Hands-on Approach"
   ]
  },
  {
   "cell_type": "code",
   "execution_count": 78,
   "metadata": {
    "ExecuteTime": {
     "end_time": "2019-04-29T21:58:30.286744Z",
     "start_time": "2019-04-29T21:58:30.255529Z"
    }
   },
   "outputs": [],
   "source": [
    "# Use the top 147 features\n",
    "X_reduced = XGB_features[XGB_importances.index[:147]]\n",
    "y = XGB_labels\n",
    "\n",
    "# Train-test split\n",
    "X_train, X_test, y_train, y_test  = train_test_split(X_reduced, y, test_size = 0.2, random_state = 666)"
   ]
  },
  {
   "cell_type": "code",
   "execution_count": 79,
   "metadata": {
    "ExecuteTime": {
     "end_time": "2019-04-29T21:58:32.025759Z",
     "start_time": "2019-04-29T21:58:30.910952Z"
    }
   },
   "outputs": [
    {
     "name": "stdout",
     "output_type": "stream",
     "text": [
      "Train r2 score:  0.985568550988798\n",
      "Test r2 score:  0.8843892619247776\n",
      "Train RMSE: 9230.6878\n",
      "Test RMSE: 28477.9353\n"
     ]
    }
   ],
   "source": [
    "# Initialize reduced model (same params as final model)\n",
    "XGB_reduced = XGBRegressor(learning_rate=0.08, n_estimators=500)\n",
    "\n",
    "# Fit and predict (with early stopping)\n",
    "XGB_reduced.fit(X_train, y_train, \n",
    "              early_stopping_rounds=20, \n",
    "              eval_metric='rmse',\n",
    "              eval_set=[(X_test, y_test)], \n",
    "              verbose=False)\n",
    "\n",
    "y_train_pred = XGB_reduced.predict(X_train)\n",
    "y_pred = XGB_reduced.predict(X_test)\n",
    "\n",
    "# Output results\n",
    "print('Train r2 score: ', r2_score(y_train_pred, y_train))\n",
    "print('Test r2 score: ', r2_score(y_test, y_pred))\n",
    "\n",
    "train_mse = mean_squared_error(y_train_pred, y_train)\n",
    "test_mse = mean_squared_error(y_pred, y_test)\n",
    "train_rmse = np.sqrt(train_mse)\n",
    "test_rmse = np.sqrt(test_mse)\n",
    "\n",
    "print('Train RMSE: %.4f' % train_rmse)\n",
    "print('Test RMSE: %.4f' % test_rmse)"
   ]
  },
  {
   "cell_type": "markdown",
   "metadata": {},
   "source": [
    "**Observation:** The reduction in features gives a slight model improvement."
   ]
  },
  {
   "cell_type": "markdown",
   "metadata": {
    "ExecuteTime": {
     "end_time": "2019-04-13T15:57:42.464859Z",
     "start_time": "2019-04-13T15:57:42.435730Z"
    }
   },
   "source": [
    "### Feature Selection Using XGBoost Feature Importance (Weights)\n",
    "\n",
    "Feature importance scores can be used for feature selection in scikit-learn. This is done using the SelectFromModel class that takes a model and can transform a dataset into a subset with selected features. This class can take a pre-trained model, such as one trained on the entire training dataset. It can then use a threshold to decide which features to select. This threshold is used when you call the transform() function on the SelectFromModel instance to consistently select the same features on the training dataset and the test dataset. In the example below we first train and then evaluate an XGBoost model on the entire\n",
    "training dataset and test datasets respectively. Using the feature importances calculated from the training dataset, we then wrap the model in a SelectFromModel instance. We use this to select features on the training dataset, train a model from the selected subset of features, then evaluate the model on the testset, subject to the same feature selection scheme."
   ]
  },
  {
   "cell_type": "code",
   "execution_count": 80,
   "metadata": {
    "ExecuteTime": {
     "end_time": "2019-04-29T21:58:35.334875Z",
     "start_time": "2019-04-29T21:58:35.297149Z"
    }
   },
   "outputs": [
    {
     "data": {
      "text/html": [
       "<div>\n",
       "<style scoped>\n",
       "    .dataframe tbody tr th:only-of-type {\n",
       "        vertical-align: middle;\n",
       "    }\n",
       "\n",
       "    .dataframe tbody tr th {\n",
       "        vertical-align: top;\n",
       "    }\n",
       "\n",
       "    .dataframe thead th {\n",
       "        text-align: right;\n",
       "    }\n",
       "</style>\n",
       "<table border=\"1\" class=\"dataframe\">\n",
       "  <thead>\n",
       "    <tr style=\"text-align: right;\">\n",
       "      <th></th>\n",
       "      <th>total</th>\n",
       "      <th>percent</th>\n",
       "      <th>dtype</th>\n",
       "    </tr>\n",
       "  </thead>\n",
       "  <tbody>\n",
       "    <tr>\n",
       "      <th>LotFrontage</th>\n",
       "      <td>257</td>\n",
       "      <td>17.8</td>\n",
       "      <td>float64</td>\n",
       "    </tr>\n",
       "    <tr>\n",
       "      <th>GarageYrBlt</th>\n",
       "      <td>79</td>\n",
       "      <td>5.5</td>\n",
       "      <td>float64</td>\n",
       "    </tr>\n",
       "  </tbody>\n",
       "</table>\n",
       "</div>"
      ],
      "text/plain": [
       "             total  percent    dtype\n",
       "LotFrontage    257     17.8  float64\n",
       "GarageYrBlt     79      5.5  float64"
      ]
     },
     "metadata": {},
     "output_type": "display_data"
    }
   ],
   "source": [
    "# First we have to get rid of the missing values as sklearn cannot handle them\n",
    "cleaning.list_NaN(X_reduced)"
   ]
  },
  {
   "cell_type": "code",
   "execution_count": 81,
   "metadata": {
    "ExecuteTime": {
     "end_time": "2019-04-29T21:58:35.999671Z",
     "start_time": "2019-04-29T21:58:35.952774Z"
    }
   },
   "outputs": [
    {
     "data": {
      "text/plain": [
       "'LotFrontage - median value to impute: 69.0'"
      ]
     },
     "metadata": {},
     "output_type": "display_data"
    },
    {
     "data": {
      "text/plain": [
       "'GarageYrBlt - median value to impute: 1979.0'"
      ]
     },
     "metadata": {},
     "output_type": "display_data"
    }
   ],
   "source": [
    "X_NaN = cleaning.handle_NaN(X_reduced, cols_to_impute_num=['LotFrontage', 'GarageYrBlt'])\n",
    "\n",
    "# Train-test split\n",
    "X_train, X_test, y_train, y_test  = train_test_split(X_NaN, y, test_size = 0.2, random_state = 666)"
   ]
  },
  {
   "cell_type": "code",
   "execution_count": 82,
   "metadata": {
    "ExecuteTime": {
     "end_time": "2019-04-29T22:00:52.008340Z",
     "start_time": "2019-04-29T21:58:37.669967Z"
    }
   },
   "outputs": [
    {
     "name": "stdout",
     "output_type": "stream",
     "text": [
      "Thresh=0.000, n=147, r2-score=0.88%, rmse=28557.60\n",
      "Thresh=0.000, n=147, r2-score=0.88%, rmse=28557.60\n",
      "Thresh=0.000, n=147, r2-score=0.88%, rmse=28557.60\n",
      "Thresh=0.000, n=147, r2-score=0.88%, rmse=28557.60\n",
      "Thresh=0.000, n=147, r2-score=0.88%, rmse=28557.60\n",
      "Thresh=0.000, n=147, r2-score=0.88%, rmse=28557.60\n",
      "Thresh=0.000, n=147, r2-score=0.88%, rmse=28557.60\n",
      "Thresh=0.000, n=140, r2-score=0.88%, rmse=28736.04\n",
      "Thresh=0.000, n=140, r2-score=0.88%, rmse=28736.04\n",
      "Thresh=0.000, n=140, r2-score=0.88%, rmse=28736.04\n",
      "Thresh=0.000, n=140, r2-score=0.88%, rmse=28736.04\n",
      "Thresh=0.000, n=140, r2-score=0.88%, rmse=28736.04\n",
      "Thresh=0.000, n=140, r2-score=0.88%, rmse=28736.04\n",
      "Thresh=0.000, n=140, r2-score=0.88%, rmse=28736.04\n",
      "Thresh=0.000, n=140, r2-score=0.88%, rmse=28736.04\n",
      "Thresh=0.000, n=140, r2-score=0.88%, rmse=28736.04\n",
      "Thresh=0.000, n=140, r2-score=0.88%, rmse=28736.04\n",
      "Thresh=0.000, n=140, r2-score=0.88%, rmse=28736.04\n",
      "Thresh=0.000, n=140, r2-score=0.88%, rmse=28736.04\n",
      "Thresh=0.000, n=140, r2-score=0.88%, rmse=28736.04\n",
      "Thresh=0.000, n=140, r2-score=0.88%, rmse=28736.04\n",
      "Thresh=0.000, n=140, r2-score=0.88%, rmse=28736.04\n",
      "Thresh=0.000, n=140, r2-score=0.88%, rmse=28736.04\n",
      "Thresh=0.000, n=140, r2-score=0.88%, rmse=28736.04\n",
      "Thresh=0.000, n=140, r2-score=0.88%, rmse=28736.04\n",
      "Thresh=0.000, n=140, r2-score=0.88%, rmse=28736.04\n",
      "Thresh=0.000, n=140, r2-score=0.88%, rmse=28736.04\n",
      "Thresh=0.000, n=140, r2-score=0.88%, rmse=28736.04\n",
      "Thresh=0.000, n=140, r2-score=0.88%, rmse=28736.04\n",
      "Thresh=0.000, n=140, r2-score=0.88%, rmse=28736.04\n",
      "Thresh=0.000, n=140, r2-score=0.88%, rmse=28736.04\n",
      "Thresh=0.000, n=140, r2-score=0.88%, rmse=28736.04\n",
      "Thresh=0.000, n=140, r2-score=0.88%, rmse=28736.04\n",
      "Thresh=0.000, n=140, r2-score=0.88%, rmse=28736.04\n",
      "Thresh=0.000, n=140, r2-score=0.88%, rmse=28736.04\n",
      "Thresh=0.001, n=112, r2-score=0.89%, rmse=28075.64\n",
      "Thresh=0.001, n=112, r2-score=0.89%, rmse=28075.64\n",
      "Thresh=0.001, n=112, r2-score=0.89%, rmse=28075.64\n",
      "Thresh=0.001, n=112, r2-score=0.89%, rmse=28075.64\n",
      "Thresh=0.001, n=112, r2-score=0.89%, rmse=28075.64\n",
      "Thresh=0.001, n=112, r2-score=0.89%, rmse=28075.64\n",
      "Thresh=0.001, n=112, r2-score=0.89%, rmse=28075.64\n",
      "Thresh=0.001, n=112, r2-score=0.89%, rmse=28075.64\n",
      "Thresh=0.001, n=112, r2-score=0.89%, rmse=28075.64\n",
      "Thresh=0.001, n=112, r2-score=0.89%, rmse=28075.64\n",
      "Thresh=0.001, n=112, r2-score=0.89%, rmse=28075.64\n",
      "Thresh=0.001, n=101, r2-score=0.87%, rmse=29631.52\n",
      "Thresh=0.001, n=101, r2-score=0.87%, rmse=29631.52\n",
      "Thresh=0.001, n=101, r2-score=0.87%, rmse=29631.52\n",
      "Thresh=0.001, n=101, r2-score=0.87%, rmse=29631.52\n",
      "Thresh=0.001, n=101, r2-score=0.87%, rmse=29631.52\n",
      "Thresh=0.001, n=101, r2-score=0.87%, rmse=29631.52\n",
      "Thresh=0.001, n=101, r2-score=0.87%, rmse=29631.52\n",
      "Thresh=0.001, n=101, r2-score=0.87%, rmse=29631.52\n",
      "Thresh=0.001, n=101, r2-score=0.87%, rmse=29631.52\n",
      "Thresh=0.001, n=101, r2-score=0.87%, rmse=29631.52\n",
      "Thresh=0.001, n=101, r2-score=0.87%, rmse=29631.52\n",
      "Thresh=0.002, n=90, r2-score=0.88%, rmse=28998.17\n",
      "Thresh=0.002, n=90, r2-score=0.88%, rmse=28998.17\n",
      "Thresh=0.002, n=90, r2-score=0.88%, rmse=28998.17\n",
      "Thresh=0.002, n=90, r2-score=0.88%, rmse=28998.17\n",
      "Thresh=0.002, n=86, r2-score=0.88%, rmse=29182.18\n",
      "Thresh=0.002, n=86, r2-score=0.88%, rmse=29182.18\n",
      "Thresh=0.002, n=86, r2-score=0.88%, rmse=29182.18\n",
      "Thresh=0.002, n=86, r2-score=0.88%, rmse=29182.18\n",
      "Thresh=0.002, n=86, r2-score=0.88%, rmse=29182.18\n",
      "Thresh=0.002, n=86, r2-score=0.88%, rmse=29182.18\n",
      "Thresh=0.002, n=86, r2-score=0.88%, rmse=29182.18\n",
      "Thresh=0.002, n=86, r2-score=0.88%, rmse=29182.18\n",
      "Thresh=0.002, n=86, r2-score=0.88%, rmse=29182.18\n",
      "Thresh=0.002, n=86, r2-score=0.88%, rmse=29182.18\n",
      "Thresh=0.003, n=76, r2-score=0.87%, rmse=29760.61\n",
      "Thresh=0.003, n=76, r2-score=0.87%, rmse=29760.61\n",
      "Thresh=0.003, n=76, r2-score=0.87%, rmse=29760.61\n",
      "Thresh=0.003, n=76, r2-score=0.87%, rmse=29760.61\n",
      "Thresh=0.003, n=76, r2-score=0.87%, rmse=29760.61\n",
      "Thresh=0.003, n=76, r2-score=0.87%, rmse=29760.61\n",
      "Thresh=0.003, n=70, r2-score=0.88%, rmse=29120.62\n",
      "Thresh=0.003, n=70, r2-score=0.88%, rmse=29120.62\n",
      "Thresh=0.003, n=70, r2-score=0.88%, rmse=29120.62\n",
      "Thresh=0.003, n=70, r2-score=0.88%, rmse=29120.62\n",
      "Thresh=0.003, n=70, r2-score=0.88%, rmse=29120.62\n",
      "Thresh=0.004, n=65, r2-score=0.89%, rmse=28152.25\n",
      "Thresh=0.004, n=65, r2-score=0.89%, rmse=28152.25\n",
      "Thresh=0.004, n=65, r2-score=0.89%, rmse=28152.25\n",
      "Thresh=0.004, n=65, r2-score=0.89%, rmse=28152.25\n",
      "Thresh=0.004, n=65, r2-score=0.89%, rmse=28152.25\n",
      "Thresh=0.004, n=65, r2-score=0.89%, rmse=28152.25\n",
      "Thresh=0.004, n=65, r2-score=0.89%, rmse=28152.25\n",
      "Thresh=0.004, n=65, r2-score=0.89%, rmse=28152.25\n",
      "Thresh=0.004, n=65, r2-score=0.89%, rmse=28152.25\n",
      "Thresh=0.004, n=56, r2-score=0.89%, rmse=28211.92\n",
      "Thresh=0.004, n=56, r2-score=0.89%, rmse=28211.92\n",
      "Thresh=0.004, n=56, r2-score=0.89%, rmse=28211.92\n",
      "Thresh=0.004, n=56, r2-score=0.89%, rmse=28211.92\n",
      "Thresh=0.004, n=56, r2-score=0.89%, rmse=28211.92\n",
      "Thresh=0.004, n=56, r2-score=0.89%, rmse=28211.92\n",
      "Thresh=0.004, n=50, r2-score=0.89%, rmse=28227.63\n",
      "Thresh=0.004, n=50, r2-score=0.89%, rmse=28227.63\n",
      "Thresh=0.004, n=50, r2-score=0.89%, rmse=28227.63\n",
      "Thresh=0.004, n=50, r2-score=0.89%, rmse=28227.63\n",
      "Thresh=0.005, n=46, r2-score=0.89%, rmse=27907.32\n",
      "Thresh=0.005, n=46, r2-score=0.89%, rmse=27907.32\n",
      "Thresh=0.005, n=46, r2-score=0.89%, rmse=27907.32\n",
      "Thresh=0.005, n=46, r2-score=0.89%, rmse=27907.32\n",
      "Thresh=0.005, n=46, r2-score=0.89%, rmse=27907.32\n",
      "Thresh=0.005, n=41, r2-score=0.89%, rmse=27588.87\n",
      "Thresh=0.006, n=40, r2-score=0.89%, rmse=28075.09\n",
      "Thresh=0.006, n=40, r2-score=0.89%, rmse=28075.09\n",
      "Thresh=0.006, n=40, r2-score=0.89%, rmse=28075.09\n",
      "Thresh=0.006, n=37, r2-score=0.89%, rmse=27767.49\n",
      "Thresh=0.006, n=37, r2-score=0.89%, rmse=27767.49\n",
      "Thresh=0.006, n=37, r2-score=0.89%, rmse=27767.49\n",
      "Thresh=0.006, n=37, r2-score=0.89%, rmse=27767.49\n",
      "Thresh=0.006, n=37, r2-score=0.89%, rmse=27767.49\n",
      "Thresh=0.007, n=32, r2-score=0.88%, rmse=29081.63\n",
      "Thresh=0.007, n=32, r2-score=0.88%, rmse=29081.63\n",
      "Thresh=0.007, n=30, r2-score=0.88%, rmse=28992.95\n",
      "Thresh=0.007, n=30, r2-score=0.88%, rmse=28992.95\n",
      "Thresh=0.008, n=28, r2-score=0.88%, rmse=28488.39\n",
      "Thresh=0.009, n=27, r2-score=0.89%, rmse=27976.98\n",
      "Thresh=0.009, n=26, r2-score=0.89%, rmse=28223.72\n",
      "Thresh=0.009, n=26, r2-score=0.89%, rmse=28223.72\n",
      "Thresh=0.010, n=24, r2-score=0.88%, rmse=28579.94\n",
      "Thresh=0.010, n=23, r2-score=0.88%, rmse=29062.30\n",
      "Thresh=0.010, n=23, r2-score=0.88%, rmse=29062.30\n",
      "Thresh=0.010, n=23, r2-score=0.88%, rmse=29062.30\n",
      "Thresh=0.012, n=20, r2-score=0.88%, rmse=28496.20\n",
      "Thresh=0.012, n=19, r2-score=0.89%, rmse=28162.42\n",
      "Thresh=0.013, n=18, r2-score=0.89%, rmse=28236.52\n",
      "Thresh=0.013, n=18, r2-score=0.89%, rmse=28236.52\n",
      "Thresh=0.015, n=16, r2-score=0.88%, rmse=28708.42\n",
      "Thresh=0.018, n=15, r2-score=0.88%, rmse=28809.71\n",
      "Thresh=0.018, n=14, r2-score=0.88%, rmse=29363.48\n",
      "Thresh=0.019, n=13, r2-score=0.88%, rmse=28681.27\n",
      "Thresh=0.019, n=13, r2-score=0.88%, rmse=28681.27\n",
      "Thresh=0.022, n=11, r2-score=0.88%, rmse=29098.38\n",
      "Thresh=0.028, n=10, r2-score=0.89%, rmse=27985.61\n",
      "Thresh=0.032, n=9, r2-score=0.88%, rmse=29056.08\n",
      "Thresh=0.036, n=8, r2-score=0.84%, rmse=33905.62\n",
      "Thresh=0.039, n=7, r2-score=0.83%, rmse=34792.28\n",
      "Thresh=0.043, n=6, r2-score=0.81%, rmse=36215.87\n",
      "Thresh=0.043, n=5, r2-score=0.81%, rmse=36124.10\n",
      "Thresh=0.046, n=4, r2-score=0.83%, rmse=35003.71\n",
      "Thresh=0.057, n=3, r2-score=0.80%, rmse=37560.17\n",
      "Thresh=0.079, n=2, r2-score=0.55%, rmse=56234.20\n",
      "Thresh=0.087, n=1, r2-score=0.49%, rmse=59794.35\n"
     ]
    }
   ],
   "source": [
    "# Fit model using each importance (weight) as a threshold\n",
    "thresholds = np.sort(XGB_reduced.feature_importances_) \n",
    "for thresh in thresholds: \n",
    "    # select features using threshold \n",
    "    selection = SelectFromModel(XGB_reduced, threshold=thresh, prefit=True) \n",
    "    select_X_train = selection.transform(X_train) \n",
    "    # train model \n",
    "    selection_model = XGBRegressor(learning_rate=0.08, n_estimators=500) \n",
    "    selection_model.fit(select_X_train, y_train) \n",
    "    # eval model \n",
    "    select_X_test = selection.transform(X_test) \n",
    "    y_pred = selection_model.predict(select_X_test) \n",
    "    \n",
    "    test_r2 = r2_score(y_test, y_pred)\n",
    "    test_mse = mean_squared_error(y_pred, y_test)\n",
    "    test_rmse = np.sqrt(test_mse)\n",
    "    print(\"Thresh={0:.3f}, n={1:d}, r2-score={2:.2f}%, rmse={3:.2f}\".format(\n",
    "            thresh, select_X_train.shape[1], test_r2, test_rmse))"
   ]
  },
  {
   "cell_type": "markdown",
   "metadata": {
    "ExecuteTime": {
     "end_time": "2019-04-13T16:10:59.181933Z",
     "start_time": "2019-04-13T16:10:59.137232Z"
    }
   },
   "source": [
    "**Observation:** The best feature set seems to be with n=37."
   ]
  },
  {
   "cell_type": "markdown",
   "metadata": {},
   "source": [
    "### Feature Selection Using XGBoost Feature Gains (NOT YET WORKING)"
   ]
  },
  {
   "cell_type": "code",
   "execution_count": 104,
   "metadata": {
    "ExecuteTime": {
     "end_time": "2019-04-29T22:21:00.786400Z",
     "start_time": "2019-04-29T22:21:00.717530Z"
    }
   },
   "outputs": [
    {
     "name": "stderr",
     "output_type": "stream",
     "text": [
      "C:\\Users\\r2d4\\Anaconda3\\lib\\site-packages\\sklearn\\feature_selection\\base.py:80: UserWarning: No features were selected: either the data is too noisy or the selection test too strict.\n",
      "  UserWarning)\n"
     ]
    },
    {
     "ename": "OSError",
     "evalue": "exception: access violation reading 0x000000034EB7087C",
     "output_type": "error",
     "traceback": [
      "\u001b[1;31m---------------------------------------------------------------------------\u001b[0m",
      "\u001b[1;31mOSError\u001b[0m                                   Traceback (most recent call last)",
      "\u001b[1;32m<ipython-input-104-dc75de9d0351>\u001b[0m in \u001b[0;36m<module>\u001b[1;34m\u001b[0m\n\u001b[0;32m      7\u001b[0m     \u001b[1;31m# train model\u001b[0m\u001b[1;33m\u001b[0m\u001b[1;33m\u001b[0m\u001b[1;33m\u001b[0m\u001b[0m\n\u001b[0;32m      8\u001b[0m     \u001b[0mselection_model\u001b[0m \u001b[1;33m=\u001b[0m \u001b[0mXGBRegressor\u001b[0m\u001b[1;33m(\u001b[0m\u001b[0mlearning_rate\u001b[0m\u001b[1;33m=\u001b[0m\u001b[1;36m0.08\u001b[0m\u001b[1;33m,\u001b[0m \u001b[0mn_estimators\u001b[0m\u001b[1;33m=\u001b[0m\u001b[1;36m500\u001b[0m\u001b[1;33m)\u001b[0m\u001b[1;33m\u001b[0m\u001b[1;33m\u001b[0m\u001b[0m\n\u001b[1;32m----> 9\u001b[1;33m     \u001b[0mselection_model\u001b[0m\u001b[1;33m.\u001b[0m\u001b[0mfit\u001b[0m\u001b[1;33m(\u001b[0m\u001b[0mselect_X_train\u001b[0m\u001b[1;33m,\u001b[0m \u001b[0my_train\u001b[0m\u001b[1;33m)\u001b[0m\u001b[1;33m\u001b[0m\u001b[1;33m\u001b[0m\u001b[0m\n\u001b[0m\u001b[0;32m     10\u001b[0m     \u001b[1;31m# eval model\u001b[0m\u001b[1;33m\u001b[0m\u001b[1;33m\u001b[0m\u001b[1;33m\u001b[0m\u001b[0m\n\u001b[0;32m     11\u001b[0m     \u001b[0mselect_X_test\u001b[0m \u001b[1;33m=\u001b[0m \u001b[0mselection\u001b[0m\u001b[1;33m.\u001b[0m\u001b[0mtransform\u001b[0m\u001b[1;33m(\u001b[0m\u001b[0mX_test\u001b[0m\u001b[1;33m)\u001b[0m\u001b[1;33m\u001b[0m\u001b[1;33m\u001b[0m\u001b[0m\n",
      "\u001b[1;32m~\\Anaconda3\\lib\\site-packages\\xgboost\\sklearn.py\u001b[0m in \u001b[0;36mfit\u001b[1;34m(self, X, y, sample_weight, eval_set, eval_metric, early_stopping_rounds, verbose, xgb_model, sample_weight_eval_set)\u001b[0m\n\u001b[0;32m    326\u001b[0m                               \u001b[0mearly_stopping_rounds\u001b[0m\u001b[1;33m=\u001b[0m\u001b[0mearly_stopping_rounds\u001b[0m\u001b[1;33m,\u001b[0m\u001b[1;33m\u001b[0m\u001b[1;33m\u001b[0m\u001b[0m\n\u001b[0;32m    327\u001b[0m                               \u001b[0mevals_result\u001b[0m\u001b[1;33m=\u001b[0m\u001b[0mevals_result\u001b[0m\u001b[1;33m,\u001b[0m \u001b[0mobj\u001b[0m\u001b[1;33m=\u001b[0m\u001b[0mobj\u001b[0m\u001b[1;33m,\u001b[0m \u001b[0mfeval\u001b[0m\u001b[1;33m=\u001b[0m\u001b[0mfeval\u001b[0m\u001b[1;33m,\u001b[0m\u001b[1;33m\u001b[0m\u001b[1;33m\u001b[0m\u001b[0m\n\u001b[1;32m--> 328\u001b[1;33m                               verbose_eval=verbose, xgb_model=xgb_model)\n\u001b[0m\u001b[0;32m    329\u001b[0m \u001b[1;33m\u001b[0m\u001b[0m\n\u001b[0;32m    330\u001b[0m         \u001b[1;32mif\u001b[0m \u001b[0mevals_result\u001b[0m\u001b[1;33m:\u001b[0m\u001b[1;33m\u001b[0m\u001b[1;33m\u001b[0m\u001b[0m\n",
      "\u001b[1;32m~\\Anaconda3\\lib\\site-packages\\xgboost\\training.py\u001b[0m in \u001b[0;36mtrain\u001b[1;34m(params, dtrain, num_boost_round, evals, obj, feval, maximize, early_stopping_rounds, evals_result, verbose_eval, xgb_model, callbacks, learning_rates)\u001b[0m\n\u001b[0;32m    208\u001b[0m                            \u001b[0mevals\u001b[0m\u001b[1;33m=\u001b[0m\u001b[0mevals\u001b[0m\u001b[1;33m,\u001b[0m\u001b[1;33m\u001b[0m\u001b[1;33m\u001b[0m\u001b[0m\n\u001b[0;32m    209\u001b[0m                            \u001b[0mobj\u001b[0m\u001b[1;33m=\u001b[0m\u001b[0mobj\u001b[0m\u001b[1;33m,\u001b[0m \u001b[0mfeval\u001b[0m\u001b[1;33m=\u001b[0m\u001b[0mfeval\u001b[0m\u001b[1;33m,\u001b[0m\u001b[1;33m\u001b[0m\u001b[1;33m\u001b[0m\u001b[0m\n\u001b[1;32m--> 210\u001b[1;33m                            xgb_model=xgb_model, callbacks=callbacks)\n\u001b[0m\u001b[0;32m    211\u001b[0m \u001b[1;33m\u001b[0m\u001b[0m\n\u001b[0;32m    212\u001b[0m \u001b[1;33m\u001b[0m\u001b[0m\n",
      "\u001b[1;32m~\\Anaconda3\\lib\\site-packages\\xgboost\\training.py\u001b[0m in \u001b[0;36m_train_internal\u001b[1;34m(params, dtrain, num_boost_round, evals, obj, feval, xgb_model, callbacks)\u001b[0m\n\u001b[0;32m     72\u001b[0m         \u001b[1;31m# Skip the first update if it is a recovery step.\u001b[0m\u001b[1;33m\u001b[0m\u001b[1;33m\u001b[0m\u001b[1;33m\u001b[0m\u001b[0m\n\u001b[0;32m     73\u001b[0m         \u001b[1;32mif\u001b[0m \u001b[0mversion\u001b[0m \u001b[1;33m%\u001b[0m \u001b[1;36m2\u001b[0m \u001b[1;33m==\u001b[0m \u001b[1;36m0\u001b[0m\u001b[1;33m:\u001b[0m\u001b[1;33m\u001b[0m\u001b[1;33m\u001b[0m\u001b[0m\n\u001b[1;32m---> 74\u001b[1;33m             \u001b[0mbst\u001b[0m\u001b[1;33m.\u001b[0m\u001b[0mupdate\u001b[0m\u001b[1;33m(\u001b[0m\u001b[0mdtrain\u001b[0m\u001b[1;33m,\u001b[0m \u001b[0mi\u001b[0m\u001b[1;33m,\u001b[0m \u001b[0mobj\u001b[0m\u001b[1;33m)\u001b[0m\u001b[1;33m\u001b[0m\u001b[1;33m\u001b[0m\u001b[0m\n\u001b[0m\u001b[0;32m     75\u001b[0m             \u001b[0mbst\u001b[0m\u001b[1;33m.\u001b[0m\u001b[0msave_rabit_checkpoint\u001b[0m\u001b[1;33m(\u001b[0m\u001b[1;33m)\u001b[0m\u001b[1;33m\u001b[0m\u001b[1;33m\u001b[0m\u001b[0m\n\u001b[0;32m     76\u001b[0m             \u001b[0mversion\u001b[0m \u001b[1;33m+=\u001b[0m \u001b[1;36m1\u001b[0m\u001b[1;33m\u001b[0m\u001b[1;33m\u001b[0m\u001b[0m\n",
      "\u001b[1;32m~\\Anaconda3\\lib\\site-packages\\xgboost\\core.py\u001b[0m in \u001b[0;36mupdate\u001b[1;34m(self, dtrain, iteration, fobj)\u001b[0m\n\u001b[0;32m   1019\u001b[0m         \u001b[1;32mif\u001b[0m \u001b[0mfobj\u001b[0m \u001b[1;32mis\u001b[0m \u001b[1;32mNone\u001b[0m\u001b[1;33m:\u001b[0m\u001b[1;33m\u001b[0m\u001b[1;33m\u001b[0m\u001b[0m\n\u001b[0;32m   1020\u001b[0m             _check_call(_LIB.XGBoosterUpdateOneIter(self.handle, ctypes.c_int(iteration),\n\u001b[1;32m-> 1021\u001b[1;33m                                                     dtrain.handle))\n\u001b[0m\u001b[0;32m   1022\u001b[0m         \u001b[1;32melse\u001b[0m\u001b[1;33m:\u001b[0m\u001b[1;33m\u001b[0m\u001b[1;33m\u001b[0m\u001b[0m\n\u001b[0;32m   1023\u001b[0m             \u001b[0mpred\u001b[0m \u001b[1;33m=\u001b[0m \u001b[0mself\u001b[0m\u001b[1;33m.\u001b[0m\u001b[0mpredict\u001b[0m\u001b[1;33m(\u001b[0m\u001b[0mdtrain\u001b[0m\u001b[1;33m)\u001b[0m\u001b[1;33m\u001b[0m\u001b[1;33m\u001b[0m\u001b[0m\n",
      "\u001b[1;31mOSError\u001b[0m: exception: access violation reading 0x000000034EB7087C"
     ]
    }
   ],
   "source": [
    "# Fit model using each gain as a threshold\n",
    "thresholds = np.sort(list(XGB_reduced.get_booster().get_score(importance_type='gain').values())) \n",
    "for thresh in thresholds: \n",
    "    # select features using threshold \n",
    "    selection = SelectFromModel(XGB_reduced, threshold=thresh, prefit=True) \n",
    "    select_X_train = selection.transform(X_train) \n",
    "    # train model \n",
    "    selection_model = XGBRegressor(learning_rate=0.08, n_estimators=500) \n",
    "    selection_model.fit(select_X_train, y_train) \n",
    "    # eval model \n",
    "    select_X_test = selection.transform(X_test) \n",
    "    y_pred = selection_model.predict(select_X_test) \n",
    "    \n",
    "    test_r2 = r2_score(y_test, y_pred)\n",
    "    test_mse = mean_squared_error(y_pred, y_test)\n",
    "    test_rmse = np.sqrt(test_mse)\n",
    "    print(\"Thresh={0:.3f}, n={1:d}, r2-score={2:.2f}%, rmse={3:.2f}\".format(\n",
    "            thresh, select_X_train.shape[1], test_r2, test_rmse))"
   ]
  },
  {
   "cell_type": "markdown",
   "metadata": {},
   "source": [
    "---"
   ]
  }
 ],
 "metadata": {
  "hide_input": false,
  "kernelspec": {
   "display_name": "Python 3",
   "language": "python",
   "name": "python3"
  },
  "language_info": {
   "codemirror_mode": {
    "name": "ipython",
    "version": 3
   },
   "file_extension": ".py",
   "mimetype": "text/x-python",
   "name": "python",
   "nbconvert_exporter": "python",
   "pygments_lexer": "ipython3",
   "version": "3.7.3"
  },
  "toc": {
   "base_numbering": 1,
   "nav_menu": {},
   "number_sections": true,
   "sideBar": true,
   "skip_h1_title": true,
   "title_cell": "Table of Contents",
   "title_sidebar": "Contents",
   "toc_cell": true,
   "toc_position": {},
   "toc_section_display": true,
   "toc_window_display": false
  },
  "varInspector": {
   "cols": {
    "lenName": 16,
    "lenType": 16,
    "lenVar": 40
   },
   "kernels_config": {
    "python": {
     "delete_cmd_postfix": "",
     "delete_cmd_prefix": "del ",
     "library": "var_list.py",
     "varRefreshCmd": "print(var_dic_list())"
    },
    "r": {
     "delete_cmd_postfix": ") ",
     "delete_cmd_prefix": "rm(",
     "library": "var_list.r",
     "varRefreshCmd": "cat(var_dic_list()) "
    }
   },
   "position": {
    "height": "464.86px",
    "left": "1092.86px",
    "right": "20px",
    "top": "120px",
    "width": "350px"
   },
   "types_to_exclude": [
    "module",
    "function",
    "builtin_function_or_method",
    "instance",
    "_Feature"
   ],
   "window_display": false
  }
 },
 "nbformat": 4,
 "nbformat_minor": 2
}
