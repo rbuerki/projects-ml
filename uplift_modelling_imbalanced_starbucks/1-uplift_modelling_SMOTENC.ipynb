{
 "cells": [
  {
   "cell_type": "markdown",
   "metadata": {
    "toc": true
   },
   "source": [
    "<h1>Table of Contents<span class=\"tocSkip\"></span></h1>\n",
    "<div class=\"toc\"><ul class=\"toc-item\"><li><span><a href=\"#EDA\" data-toc-modified-id=\"EDA-1\"><span class=\"toc-item-num\">1&nbsp;&nbsp;</span>EDA</a></span></li><li><span><a href=\"#Calculate-actual-IRR-and-NIR\" data-toc-modified-id=\"Calculate-actual-IRR-and-NIR-2\"><span class=\"toc-item-num\">2&nbsp;&nbsp;</span>Calculate actual IRR and NIR</a></span></li><li><span><a href=\"#Preprocess-data-for-modelling\" data-toc-modified-id=\"Preprocess-data-for-modelling-3\"><span class=\"toc-item-num\">3&nbsp;&nbsp;</span>Preprocess data for modelling</a></span></li><li><span><a href=\"#Model-evaluation\" data-toc-modified-id=\"Model-evaluation-4\"><span class=\"toc-item-num\">4&nbsp;&nbsp;</span>Model evaluation</a></span></li></ul></div>"
   ]
  },
  {
   "cell_type": "markdown",
   "metadata": {},
   "source": [
    "# Uplift Modelling Exercise: Starbucks\n",
    "\n",
    "\n",
    "\n",
    "(Note: A good blogpost giving an oversight over general uplift strategies using the same data can be found [here](https://medium.com/datadriveninvestor/simple-machine-learning-techniques-to-improve-your-marketing-strategy-demystifying-uplift-models-dc4fb3f927a2)).\n",
    "\n",
    "**Main learnings from this notebook**\n",
    "\n",
    "- oversampling with categorical features only works with SMOTENC\n",
    "- sampling does not work within sklearn pipelines, you must use imblearns own Pipline class\n",
    "- you can pass feature labels into the pipeline, but the SMOTENC sampler needs the indices of the cat features\n",
    "\n",
    " \n",
    "**Background Information**\n",
    "\n",
    "The dataset in this exercise was originally used as a take-home assignment provided by Starbucks for their job candidates. The data for this exercise consists of about 120,000 data points split in a 2:1 ratio among training and test files. In the experiment simulated by the data, an advertising promotion was tested to see if it would bring more customers to purchase a specific product priced at $10. Since it costs the company 0.15 to send out each promotion, it would be best to limit that promotion only to those that are most receptive to the promotion. Each data point includes one column indicating whether or not an individual was sent a promotion for the product, and one column indicating whether or not that individual eventually purchased that product. Each individual also has seven additional features associated with them, which are provided abstractly as V1-V7.\n",
    "\n",
    "The main point of this implementation was to create a pipeline that oversamples the minority target class with SMOTENC (see [here](https://imbalanced-learn.readthedocs.io/en/stable/generated/imblearn.over_sampling.SMOTENC.html)) and selects an appropriate classifier. Without much further tuning the benchmark metrics could be matched / beaten.\n",
    "\n",
    "**Optimization Strategy**\n",
    "\n",
    "The task is to use the training data to understand what patterns in V1-V7 indicate that a promotion should be provided to a user. Specifically, the goal is to maximize the following metrics:\n",
    "\n",
    "- **Incremental Response Rate (IRR)** \n",
    "\n",
    "IRR depicts how many more customers purchased the product with the promotion, as compared to if they didn't receive the promotion. Mathematically, it's the ratio of the number of purchasers in the promotion group to the total number of customers in the promotion group (_treatment_) minus the ratio of the number of purchasers in the non-promotional group to the total number of customers in the non-promotional group (_control_).\n",
    "\n",
    "$$ IRR = \\frac{purch_{treat}}{cust_{treat}} - \\frac{purch_{ctrl}}{cust_{ctrl}} $$\n",
    "\n",
    "\n",
    "- **Net Incremental Revenue (NIR)**\n",
    "\n",
    "NIR depicts how much is made (or lost) by sending out the promotion. Mathematically, this is 10 times the total number of purchasers that received the promotion minus 0.15 times the number of promotions sent out, minus 10 times the number of purchasers who were not given the promotion.\n",
    "\n",
    "$$ NIR = (10\\cdot purch_{treat} - 0.15 \\cdot cust_{treat}) - 10 \\cdot purch_{ctrl}$$\n",
    "\n",
    "For a full description of what Starbucks provides to candidates see the [instructions available here](https://drive.google.com/open?id=18klca9Sef1Rs6q8DW4l7o349r8B70qXM).\n",
    "\n",
    "\n",
    "**Strategy Evaluation**\n",
    "\n",
    "The strategy can be evaluated with the `test_results` function.  There are four possible outomes:\n",
    "\n",
    "Table of actual promotion vs. predicted promotion customers:  \n",
    "\n",
    "<table>\n",
    "<tr><th></th><th colspan = '2'>Actual</th></tr>\n",
    "<tr><th>Predicted</th><th>Yes</th><th>No</th></tr>\n",
    "<tr><th>Yes</th><td>I</td><td>II</td></tr>\n",
    "<tr><th>No</th><td>III</td><td>IV</td></tr>\n",
    "</table>\n",
    "\n",
    "The metrics are only being compared for the individuals we predict should obtain the promotion – that is, quadrants I and II.  Since the first set of individuals that receive the promotion (in the training set) receive it randomly, we can expect that quadrants I and II will have approximately equivalent participants.  Comparing quadrant I to II then gives an idea of how well the promotion strategy will work in the future. "
   ]
  },
  {
   "cell_type": "code",
   "execution_count": 1,
   "metadata": {
    "ExecuteTime": {
     "end_time": "2019-09-07T14:16:33.114978Z",
     "start_time": "2019-09-07T14:16:31.304570Z"
    }
   },
   "outputs": [],
   "source": [
    "# load libraries\n",
    "\n",
    "import numpy as np\n",
    "import pandas as pd\n",
    "from tqdm import tqdm\n",
    "import time\n",
    "\n",
    "from sklearn.model_selection import GridSearchCV, cross_validate, StratifiedKFold\n",
    "from sklearn.pipeline import FeatureUnion  # the pipeline is imported from imblearn, see below\n",
    "from sklearn.metrics import make_scorer, classification_report, confusion_matrix, fbeta_score\n",
    "from sklearn.base import BaseEstimator, TransformerMixin\n",
    "from sklearn.preprocessing import StandardScaler\n",
    "\n",
    "from sklearn.linear_model import LogisticRegression, SGDClassifier\n",
    "from sklearn.naive_bayes import MultinomialNB\n",
    "from sklearn.ensemble import RandomForestClassifier, GradientBoostingClassifier\n",
    "\n",
    "# pipeline caching\n",
    "from tempfile import mkdtemp\n",
    "from shutil import rmtree\n",
    "from sklearn.utils import Memory\n",
    "\n",
    "# my custom functions\n",
    "import EDA_functions as EDA\n",
    "import cleaning_functions as cleaning\n",
    "import custom_transformers as transform\n",
    "\n",
    "from imblearn.over_sampling import SMOTENC # can handle cat variables\n",
    "from imblearn.pipeline import Pipeline  \n",
    "\n",
    "import matplotlib.pyplot as plt\n",
    "import seaborn as sns\n",
    "%matplotlib inline"
   ]
  },
  {
   "cell_type": "markdown",
   "metadata": {},
   "source": [
    "more infos on why `imblearn.pipeline` [here](https://stackoverflow.com/questions/49770851/customized-transformermixin-with-data-labels-in-sklearn/49771602#49771602)"
   ]
  },
  {
   "cell_type": "code",
   "execution_count": 2,
   "metadata": {
    "ExecuteTime": {
     "end_time": "2019-09-07T14:16:33.232788Z",
     "start_time": "2019-09-07T14:16:33.114978Z"
    }
   },
   "outputs": [],
   "source": [
    "# load the data\n",
    "train = pd.read_csv('data/training.csv')"
   ]
  },
  {
   "cell_type": "code",
   "execution_count": 3,
   "metadata": {
    "ExecuteTime": {
     "end_time": "2019-09-07T14:16:33.257874Z",
     "start_time": "2019-09-07T14:16:33.232788Z"
    }
   },
   "outputs": [
    {
     "data": {
      "text/html": [
       "<div>\n",
       "<style scoped>\n",
       "    .dataframe tbody tr th:only-of-type {\n",
       "        vertical-align: middle;\n",
       "    }\n",
       "\n",
       "    .dataframe tbody tr th {\n",
       "        vertical-align: top;\n",
       "    }\n",
       "\n",
       "    .dataframe thead th {\n",
       "        text-align: right;\n",
       "    }\n",
       "</style>\n",
       "<table border=\"1\" class=\"dataframe\">\n",
       "  <thead>\n",
       "    <tr style=\"text-align: right;\">\n",
       "      <th></th>\n",
       "      <th>ID</th>\n",
       "      <th>Promotion</th>\n",
       "      <th>purchase</th>\n",
       "      <th>V1</th>\n",
       "      <th>V2</th>\n",
       "      <th>V3</th>\n",
       "      <th>V4</th>\n",
       "      <th>V5</th>\n",
       "      <th>V6</th>\n",
       "      <th>V7</th>\n",
       "    </tr>\n",
       "  </thead>\n",
       "  <tbody>\n",
       "    <tr>\n",
       "      <td>21404</td>\n",
       "      <td>31883</td>\n",
       "      <td>No</td>\n",
       "      <td>0</td>\n",
       "      <td>2</td>\n",
       "      <td>40.039325</td>\n",
       "      <td>-1.684550</td>\n",
       "      <td>2</td>\n",
       "      <td>1</td>\n",
       "      <td>4</td>\n",
       "      <td>2</td>\n",
       "    </tr>\n",
       "    <tr>\n",
       "      <td>38356</td>\n",
       "      <td>57015</td>\n",
       "      <td>Yes</td>\n",
       "      <td>0</td>\n",
       "      <td>3</td>\n",
       "      <td>33.177675</td>\n",
       "      <td>-1.165083</td>\n",
       "      <td>2</td>\n",
       "      <td>2</td>\n",
       "      <td>4</td>\n",
       "      <td>2</td>\n",
       "    </tr>\n",
       "    <tr>\n",
       "      <td>8662</td>\n",
       "      <td>12926</td>\n",
       "      <td>No</td>\n",
       "      <td>0</td>\n",
       "      <td>1</td>\n",
       "      <td>26.321816</td>\n",
       "      <td>-1.684550</td>\n",
       "      <td>1</td>\n",
       "      <td>3</td>\n",
       "      <td>3</td>\n",
       "      <td>2</td>\n",
       "    </tr>\n",
       "    <tr>\n",
       "      <td>4723</td>\n",
       "      <td>7012</td>\n",
       "      <td>Yes</td>\n",
       "      <td>0</td>\n",
       "      <td>1</td>\n",
       "      <td>30.561354</td>\n",
       "      <td>0.047006</td>\n",
       "      <td>2</td>\n",
       "      <td>4</td>\n",
       "      <td>4</td>\n",
       "      <td>2</td>\n",
       "    </tr>\n",
       "    <tr>\n",
       "      <td>5931</td>\n",
       "      <td>8836</td>\n",
       "      <td>No</td>\n",
       "      <td>0</td>\n",
       "      <td>1</td>\n",
       "      <td>21.988126</td>\n",
       "      <td>0.739628</td>\n",
       "      <td>2</td>\n",
       "      <td>2</td>\n",
       "      <td>3</td>\n",
       "      <td>2</td>\n",
       "    </tr>\n",
       "  </tbody>\n",
       "</table>\n",
       "</div>"
      ],
      "text/plain": [
       "          ID Promotion  purchase  V1         V2        V3  V4  V5  V6  V7\n",
       "21404  31883        No         0   2  40.039325 -1.684550   2   1   4   2\n",
       "38356  57015       Yes         0   3  33.177675 -1.165083   2   2   4   2\n",
       "8662   12926        No         0   1  26.321816 -1.684550   1   3   3   2\n",
       "4723    7012       Yes         0   1  30.561354  0.047006   2   4   4   2\n",
       "5931    8836        No         0   1  21.988126  0.739628   2   2   3   2"
      ]
     },
     "execution_count": 3,
     "metadata": {},
     "output_type": "execute_result"
    }
   ],
   "source": [
    "train.sample(5)"
   ]
  },
  {
   "cell_type": "code",
   "execution_count": 4,
   "metadata": {
    "ExecuteTime": {
     "end_time": "2019-09-07T14:16:33.277849Z",
     "start_time": "2019-09-07T14:16:33.257874Z"
    }
   },
   "outputs": [
    {
     "name": "stdout",
     "output_type": "stream",
     "text": [
      "<class 'pandas.core.frame.DataFrame'>\n",
      "RangeIndex: 84534 entries, 0 to 84533\n",
      "Data columns (total 10 columns):\n",
      "ID           84534 non-null int64\n",
      "Promotion    84534 non-null object\n",
      "purchase     84534 non-null int64\n",
      "V1           84534 non-null int64\n",
      "V2           84534 non-null float64\n",
      "V3           84534 non-null float64\n",
      "V4           84534 non-null int64\n",
      "V5           84534 non-null int64\n",
      "V6           84534 non-null int64\n",
      "V7           84534 non-null int64\n",
      "dtypes: float64(2), int64(7), object(1)\n",
      "memory usage: 6.4+ MB\n"
     ]
    }
   ],
   "source": [
    "train.info()"
   ]
  },
  {
   "cell_type": "markdown",
   "metadata": {},
   "source": [
    "## EDA"
   ]
  },
  {
   "cell_type": "code",
   "execution_count": 5,
   "metadata": {
    "ExecuteTime": {
     "end_time": "2019-09-07T14:16:33.293826Z",
     "start_time": "2019-09-07T14:16:33.277849Z"
    }
   },
   "outputs": [],
   "source": [
    "# Make a copy of training set for EDA purpose\n",
    "eda = train.copy()"
   ]
  },
  {
   "cell_type": "code",
   "execution_count": 6,
   "metadata": {
    "ExecuteTime": {
     "end_time": "2019-09-07T14:16:33.369725Z",
     "start_time": "2019-09-07T14:16:33.293826Z"
    }
   },
   "outputs": [
    {
     "data": {
      "text/html": [
       "<div>\n",
       "<style scoped>\n",
       "    .dataframe tbody tr th:only-of-type {\n",
       "        vertical-align: middle;\n",
       "    }\n",
       "\n",
       "    .dataframe tbody tr th {\n",
       "        vertical-align: top;\n",
       "    }\n",
       "\n",
       "    .dataframe thead th {\n",
       "        text-align: right;\n",
       "    }\n",
       "</style>\n",
       "<table border=\"1\" class=\"dataframe\">\n",
       "  <thead>\n",
       "    <tr style=\"text-align: right;\">\n",
       "      <th></th>\n",
       "      <th>ID</th>\n",
       "      <th>purchase</th>\n",
       "      <th>V1</th>\n",
       "      <th>V2</th>\n",
       "      <th>V3</th>\n",
       "      <th>V4</th>\n",
       "      <th>V5</th>\n",
       "      <th>V6</th>\n",
       "      <th>V7</th>\n",
       "    </tr>\n",
       "  </thead>\n",
       "  <tbody>\n",
       "    <tr>\n",
       "      <td>count</td>\n",
       "      <td>84534.000000</td>\n",
       "      <td>84534.000000</td>\n",
       "      <td>84534.000000</td>\n",
       "      <td>84534.000000</td>\n",
       "      <td>84534.000000</td>\n",
       "      <td>84534.000000</td>\n",
       "      <td>84534.000000</td>\n",
       "      <td>84534.000000</td>\n",
       "      <td>84534.000000</td>\n",
       "    </tr>\n",
       "    <tr>\n",
       "      <td>mean</td>\n",
       "      <td>62970.972413</td>\n",
       "      <td>0.012303</td>\n",
       "      <td>1.500662</td>\n",
       "      <td>29.973600</td>\n",
       "      <td>0.000190</td>\n",
       "      <td>1.679608</td>\n",
       "      <td>2.327643</td>\n",
       "      <td>2.502898</td>\n",
       "      <td>1.701694</td>\n",
       "    </tr>\n",
       "    <tr>\n",
       "      <td>std</td>\n",
       "      <td>36418.440539</td>\n",
       "      <td>0.110234</td>\n",
       "      <td>0.868234</td>\n",
       "      <td>5.010626</td>\n",
       "      <td>1.000485</td>\n",
       "      <td>0.466630</td>\n",
       "      <td>0.841167</td>\n",
       "      <td>1.117349</td>\n",
       "      <td>0.457517</td>\n",
       "    </tr>\n",
       "    <tr>\n",
       "      <td>min</td>\n",
       "      <td>1.000000</td>\n",
       "      <td>0.000000</td>\n",
       "      <td>0.000000</td>\n",
       "      <td>7.104007</td>\n",
       "      <td>-1.684550</td>\n",
       "      <td>1.000000</td>\n",
       "      <td>1.000000</td>\n",
       "      <td>1.000000</td>\n",
       "      <td>1.000000</td>\n",
       "    </tr>\n",
       "    <tr>\n",
       "      <td>25%</td>\n",
       "      <td>31467.250000</td>\n",
       "      <td>0.000000</td>\n",
       "      <td>1.000000</td>\n",
       "      <td>26.591501</td>\n",
       "      <td>-0.905350</td>\n",
       "      <td>1.000000</td>\n",
       "      <td>2.000000</td>\n",
       "      <td>2.000000</td>\n",
       "      <td>1.000000</td>\n",
       "    </tr>\n",
       "    <tr>\n",
       "      <td>50%</td>\n",
       "      <td>62827.500000</td>\n",
       "      <td>0.000000</td>\n",
       "      <td>2.000000</td>\n",
       "      <td>29.979744</td>\n",
       "      <td>-0.039572</td>\n",
       "      <td>2.000000</td>\n",
       "      <td>2.000000</td>\n",
       "      <td>3.000000</td>\n",
       "      <td>2.000000</td>\n",
       "    </tr>\n",
       "    <tr>\n",
       "      <td>75%</td>\n",
       "      <td>94438.750000</td>\n",
       "      <td>0.000000</td>\n",
       "      <td>2.000000</td>\n",
       "      <td>33.344593</td>\n",
       "      <td>0.826206</td>\n",
       "      <td>2.000000</td>\n",
       "      <td>3.000000</td>\n",
       "      <td>4.000000</td>\n",
       "      <td>2.000000</td>\n",
       "    </tr>\n",
       "    <tr>\n",
       "      <td>max</td>\n",
       "      <td>126184.000000</td>\n",
       "      <td>1.000000</td>\n",
       "      <td>3.000000</td>\n",
       "      <td>50.375913</td>\n",
       "      <td>1.691984</td>\n",
       "      <td>2.000000</td>\n",
       "      <td>4.000000</td>\n",
       "      <td>4.000000</td>\n",
       "      <td>2.000000</td>\n",
       "    </tr>\n",
       "  </tbody>\n",
       "</table>\n",
       "</div>"
      ],
      "text/plain": [
       "                  ID      purchase            V1            V2            V3  \\\n",
       "count   84534.000000  84534.000000  84534.000000  84534.000000  84534.000000   \n",
       "mean    62970.972413      0.012303      1.500662     29.973600      0.000190   \n",
       "std     36418.440539      0.110234      0.868234      5.010626      1.000485   \n",
       "min         1.000000      0.000000      0.000000      7.104007     -1.684550   \n",
       "25%     31467.250000      0.000000      1.000000     26.591501     -0.905350   \n",
       "50%     62827.500000      0.000000      2.000000     29.979744     -0.039572   \n",
       "75%     94438.750000      0.000000      2.000000     33.344593      0.826206   \n",
       "max    126184.000000      1.000000      3.000000     50.375913      1.691984   \n",
       "\n",
       "                 V4            V5            V6            V7  \n",
       "count  84534.000000  84534.000000  84534.000000  84534.000000  \n",
       "mean       1.679608      2.327643      2.502898      1.701694  \n",
       "std        0.466630      0.841167      1.117349      0.457517  \n",
       "min        1.000000      1.000000      1.000000      1.000000  \n",
       "25%        1.000000      2.000000      2.000000      1.000000  \n",
       "50%        2.000000      2.000000      3.000000      2.000000  \n",
       "75%        2.000000      3.000000      4.000000      2.000000  \n",
       "max        2.000000      4.000000      4.000000      2.000000  "
      ]
     },
     "execution_count": 6,
     "metadata": {},
     "output_type": "execute_result"
    }
   ],
   "source": [
    "eda.describe()"
   ]
  },
  {
   "cell_type": "code",
   "execution_count": 7,
   "metadata": {
    "ExecuteTime": {
     "end_time": "2019-09-07T14:16:33.437634Z",
     "start_time": "2019-09-07T14:16:33.369725Z"
    }
   },
   "outputs": [
    {
     "name": "stdout",
     "output_type": "stream",
     "text": [
      "ID 84534\n",
      "Promotion 2\n",
      "purchase 2\n",
      "V1 4\n",
      "V2 84518\n",
      "V3 40\n",
      "V4 2\n",
      "V5 4\n",
      "V6 4\n",
      "V7 2\n"
     ]
    }
   ],
   "source": [
    "# Check number of unique values per col\n",
    "for col in eda.columns:\n",
    "    print(col, eda[col].nunique())"
   ]
  },
  {
   "cell_type": "markdown",
   "metadata": {
    "ExecuteTime": {
     "end_time": "2019-09-07T13:01:33.355674Z",
     "start_time": "2019-09-07T13:01:33.340050Z"
    }
   },
   "source": [
    "**Decisions:**\n",
    "    - ID will be removed\n",
    "    - V2 treated as numerical column\n",
    "    - rest probably treated as categorical columns (but also inspected as numerical first)"
   ]
  },
  {
   "cell_type": "code",
   "execution_count": 8,
   "metadata": {
    "ExecuteTime": {
     "end_time": "2019-09-07T14:16:33.449618Z",
     "start_time": "2019-09-07T14:16:33.437634Z"
    }
   },
   "outputs": [],
   "source": [
    "eda.drop('ID', axis=1, inplace=True)"
   ]
  },
  {
   "cell_type": "code",
   "execution_count": 9,
   "metadata": {
    "ExecuteTime": {
     "end_time": "2019-09-07T14:16:33.513533Z",
     "start_time": "2019-09-07T14:16:33.453612Z"
    }
   },
   "outputs": [
    {
     "data": {
      "text/plain": [
       "0    83494\n",
       "1     1040\n",
       "Name: purchase, dtype: int64"
      ]
     },
     "metadata": {},
     "output_type": "display_data"
    },
    {
     "name": "stdout",
     "output_type": "stream",
     "text": [
      "proportion of purchases (%) 1.23\n"
     ]
    }
   ],
   "source": [
    "# Check proportion of positive class (purchases)\n",
    "display(eda['purchase'].value_counts())\n",
    "print(\"proportion of purchases (%)\", round(eda['purchase'].value_counts()[1] / len(eda) *100, 2))"
   ]
  },
  {
   "cell_type": "code",
   "execution_count": 10,
   "metadata": {
    "ExecuteTime": {
     "end_time": "2019-09-07T14:16:33.569458Z",
     "start_time": "2019-09-07T14:16:33.513533Z"
    }
   },
   "outputs": [
    {
     "data": {
      "text/plain": [
       "Yes    42364\n",
       "No     42170\n",
       "Name: Promotion, dtype: int64"
      ]
     },
     "metadata": {},
     "output_type": "display_data"
    },
    {
     "name": "stdout",
     "output_type": "stream",
     "text": [
      "proportion of treatment group (%) 49.89\n"
     ]
    }
   ],
   "source": [
    "# Check proportion of treatment group (received promotion in the past)\n",
    "display(eda['Promotion'].value_counts())\n",
    "print(\"proportion of treatment group (%)\", round(eda['Promotion'].value_counts()[1] / len(eda) *100, 2))"
   ]
  },
  {
   "cell_type": "code",
   "execution_count": 11,
   "metadata": {
    "ExecuteTime": {
     "end_time": "2019-09-07T14:16:33.613399Z",
     "start_time": "2019-09-07T14:16:33.569458Z"
    }
   },
   "outputs": [
    {
     "data": {
      "text/html": [
       "<div>\n",
       "<style scoped>\n",
       "    .dataframe tbody tr th:only-of-type {\n",
       "        vertical-align: middle;\n",
       "    }\n",
       "\n",
       "    .dataframe tbody tr th {\n",
       "        vertical-align: top;\n",
       "    }\n",
       "\n",
       "    .dataframe thead th {\n",
       "        text-align: right;\n",
       "    }\n",
       "</style>\n",
       "<table border=\"1\" class=\"dataframe\">\n",
       "  <thead>\n",
       "    <tr style=\"text-align: right;\">\n",
       "      <th></th>\n",
       "      <th>purchase</th>\n",
       "      <th>V1</th>\n",
       "      <th>V2</th>\n",
       "      <th>V3</th>\n",
       "      <th>V4</th>\n",
       "      <th>V5</th>\n",
       "      <th>V6</th>\n",
       "      <th>V7</th>\n",
       "    </tr>\n",
       "    <tr>\n",
       "      <th>Promotion</th>\n",
       "      <th></th>\n",
       "      <th></th>\n",
       "      <th></th>\n",
       "      <th></th>\n",
       "      <th></th>\n",
       "      <th></th>\n",
       "      <th></th>\n",
       "      <th></th>\n",
       "    </tr>\n",
       "  </thead>\n",
       "  <tbody>\n",
       "    <tr>\n",
       "      <td>No</td>\n",
       "      <td>0.007565</td>\n",
       "      <td>1.496277</td>\n",
       "      <td>29.976876</td>\n",
       "      <td>-0.007099</td>\n",
       "      <td>1.680270</td>\n",
       "      <td>2.330638</td>\n",
       "      <td>2.501565</td>\n",
       "      <td>1.702205</td>\n",
       "    </tr>\n",
       "    <tr>\n",
       "      <td>Yes</td>\n",
       "      <td>0.017019</td>\n",
       "      <td>1.505028</td>\n",
       "      <td>29.970338</td>\n",
       "      <td>0.007446</td>\n",
       "      <td>1.678949</td>\n",
       "      <td>2.324662</td>\n",
       "      <td>2.504225</td>\n",
       "      <td>1.701185</td>\n",
       "    </tr>\n",
       "  </tbody>\n",
       "</table>\n",
       "</div>"
      ],
      "text/plain": [
       "           purchase        V1         V2        V3        V4        V5  \\\n",
       "Promotion                                                                \n",
       "No         0.007565  1.496277  29.976876 -0.007099  1.680270  2.330638   \n",
       "Yes        0.017019  1.505028  29.970338  0.007446  1.678949  2.324662   \n",
       "\n",
       "                 V6        V7  \n",
       "Promotion                      \n",
       "No         2.501565  1.702205  \n",
       "Yes        2.504225  1.701185  "
      ]
     },
     "execution_count": 11,
     "metadata": {},
     "output_type": "execute_result"
    }
   ],
   "source": [
    "# Look for differences in treatment and control groups\n",
    "eda_grouped_promo = eda.groupby('Promotion').mean()\n",
    "eda_grouped_promo"
   ]
  },
  {
   "cell_type": "markdown",
   "metadata": {
    "ExecuteTime": {
     "end_time": "2019-09-07T13:08:21.804849Z",
     "start_time": "2019-09-07T13:08:21.773751Z"
    }
   },
   "source": [
    "**Findings:** Promo did have a an effect on purchases --> 1.7% of purchases vs. 0.75% without promo"
   ]
  },
  {
   "cell_type": "code",
   "execution_count": 12,
   "metadata": {
    "ExecuteTime": {
     "end_time": "2019-09-07T14:16:33.645356Z",
     "start_time": "2019-09-07T14:16:33.613399Z"
    }
   },
   "outputs": [
    {
     "data": {
      "text/html": [
       "<div>\n",
       "<style scoped>\n",
       "    .dataframe tbody tr th:only-of-type {\n",
       "        vertical-align: middle;\n",
       "    }\n",
       "\n",
       "    .dataframe tbody tr th {\n",
       "        vertical-align: top;\n",
       "    }\n",
       "\n",
       "    .dataframe thead th {\n",
       "        text-align: right;\n",
       "    }\n",
       "</style>\n",
       "<table border=\"1\" class=\"dataframe\">\n",
       "  <thead>\n",
       "    <tr style=\"text-align: right;\">\n",
       "      <th></th>\n",
       "      <th>V1</th>\n",
       "      <th>V2</th>\n",
       "      <th>V3</th>\n",
       "      <th>V4</th>\n",
       "      <th>V5</th>\n",
       "      <th>V6</th>\n",
       "      <th>V7</th>\n",
       "    </tr>\n",
       "    <tr>\n",
       "      <th>purchase</th>\n",
       "      <th></th>\n",
       "      <th></th>\n",
       "      <th></th>\n",
       "      <th></th>\n",
       "      <th></th>\n",
       "      <th></th>\n",
       "      <th></th>\n",
       "    </tr>\n",
       "  </thead>\n",
       "  <tbody>\n",
       "    <tr>\n",
       "      <td>0</td>\n",
       "      <td>1.501138</td>\n",
       "      <td>29.974547</td>\n",
       "      <td>0.000905</td>\n",
       "      <td>1.677929</td>\n",
       "      <td>2.326910</td>\n",
       "      <td>2.50309</td>\n",
       "      <td>1.701751</td>\n",
       "    </tr>\n",
       "    <tr>\n",
       "      <td>1</td>\n",
       "      <td>1.462500</td>\n",
       "      <td>29.897554</td>\n",
       "      <td>-0.057137</td>\n",
       "      <td>1.814423</td>\n",
       "      <td>2.386538</td>\n",
       "      <td>2.48750</td>\n",
       "      <td>1.697115</td>\n",
       "    </tr>\n",
       "  </tbody>\n",
       "</table>\n",
       "</div>"
      ],
      "text/plain": [
       "                V1         V2        V3        V4        V5       V6        V7\n",
       "purchase                                                                      \n",
       "0         1.501138  29.974547  0.000905  1.677929  2.326910  2.50309  1.701751\n",
       "1         1.462500  29.897554 -0.057137  1.814423  2.386538  2.48750  1.697115"
      ]
     },
     "execution_count": 12,
     "metadata": {},
     "output_type": "execute_result"
    }
   ],
   "source": [
    "# Look for differences in purchase and non-purchase groups\n",
    "eda_grouped_purchase = eda.groupby('purchase').mean()\n",
    "eda_grouped_purchase"
   ]
  },
  {
   "cell_type": "code",
   "execution_count": 13,
   "metadata": {
    "ExecuteTime": {
     "end_time": "2019-09-07T14:16:33.685304Z",
     "start_time": "2019-09-07T14:16:33.645356Z"
    }
   },
   "outputs": [
    {
     "data": {
      "text/html": [
       "<div>\n",
       "<style scoped>\n",
       "    .dataframe tbody tr th:only-of-type {\n",
       "        vertical-align: middle;\n",
       "    }\n",
       "\n",
       "    .dataframe tbody tr th {\n",
       "        vertical-align: top;\n",
       "    }\n",
       "\n",
       "    .dataframe thead th {\n",
       "        text-align: right;\n",
       "    }\n",
       "</style>\n",
       "<table border=\"1\" class=\"dataframe\">\n",
       "  <thead>\n",
       "    <tr style=\"text-align: right;\">\n",
       "      <th></th>\n",
       "      <th></th>\n",
       "      <th>V1</th>\n",
       "      <th>V2</th>\n",
       "      <th>V3</th>\n",
       "      <th>V4</th>\n",
       "      <th>V5</th>\n",
       "      <th>V6</th>\n",
       "      <th>V7</th>\n",
       "    </tr>\n",
       "    <tr>\n",
       "      <th>purchase</th>\n",
       "      <th>Promotion</th>\n",
       "      <th></th>\n",
       "      <th></th>\n",
       "      <th></th>\n",
       "      <th></th>\n",
       "      <th></th>\n",
       "      <th></th>\n",
       "      <th></th>\n",
       "    </tr>\n",
       "  </thead>\n",
       "  <tbody>\n",
       "    <tr>\n",
       "      <td rowspan=\"2\" valign=\"top\">0</td>\n",
       "      <td>No</td>\n",
       "      <td>1.496738</td>\n",
       "      <td>29.976837</td>\n",
       "      <td>-0.007828</td>\n",
       "      <td>1.680175</td>\n",
       "      <td>2.330434</td>\n",
       "      <td>2.501661</td>\n",
       "      <td>1.702014</td>\n",
       "    </tr>\n",
       "    <tr>\n",
       "      <td>Yes</td>\n",
       "      <td>1.505559</td>\n",
       "      <td>29.972246</td>\n",
       "      <td>0.009680</td>\n",
       "      <td>1.675672</td>\n",
       "      <td>2.323368</td>\n",
       "      <td>2.504527</td>\n",
       "      <td>1.701486</td>\n",
       "    </tr>\n",
       "    <tr>\n",
       "      <td rowspan=\"2\" valign=\"top\">1</td>\n",
       "      <td>No</td>\n",
       "      <td>1.435737</td>\n",
       "      <td>29.982026</td>\n",
       "      <td>0.088530</td>\n",
       "      <td>1.692790</td>\n",
       "      <td>2.357367</td>\n",
       "      <td>2.489028</td>\n",
       "      <td>1.727273</td>\n",
       "    </tr>\n",
       "    <tr>\n",
       "      <td>Yes</td>\n",
       "      <td>1.474341</td>\n",
       "      <td>29.860180</td>\n",
       "      <td>-0.121587</td>\n",
       "      <td>1.868239</td>\n",
       "      <td>2.399445</td>\n",
       "      <td>2.486824</td>\n",
       "      <td>1.683773</td>\n",
       "    </tr>\n",
       "  </tbody>\n",
       "</table>\n",
       "</div>"
      ],
      "text/plain": [
       "                          V1         V2        V3        V4        V5  \\\n",
       "purchase Promotion                                                      \n",
       "0        No         1.496738  29.976837 -0.007828  1.680175  2.330434   \n",
       "         Yes        1.505559  29.972246  0.009680  1.675672  2.323368   \n",
       "1        No         1.435737  29.982026  0.088530  1.692790  2.357367   \n",
       "         Yes        1.474341  29.860180 -0.121587  1.868239  2.399445   \n",
       "\n",
       "                          V6        V7  \n",
       "purchase Promotion                      \n",
       "0        No         2.501661  1.702014  \n",
       "         Yes        2.504527  1.701486  \n",
       "1        No         2.489028  1.727273  \n",
       "         Yes        2.486824  1.683773  "
      ]
     },
     "execution_count": 13,
     "metadata": {},
     "output_type": "execute_result"
    }
   ],
   "source": [
    "# Look for differences in purchase and non-purchase groups\n",
    "eda_grouped = eda.groupby(['purchase', 'Promotion']).mean()\n",
    "eda_grouped"
   ]
  },
  {
   "cell_type": "markdown",
   "metadata": {
    "ExecuteTime": {
     "end_time": "2019-09-07T13:12:38.101625Z",
     "start_time": "2019-09-07T13:12:38.086001Z"
    }
   },
   "source": [
    "**Findings:** Small differences found, but hard to interpret"
   ]
  },
  {
   "cell_type": "code",
   "execution_count": 14,
   "metadata": {
    "ExecuteTime": {
     "end_time": "2019-09-07T14:16:33.693292Z",
     "start_time": "2019-09-07T14:16:33.685304Z"
    }
   },
   "outputs": [
    {
     "name": "stdout",
     "output_type": "stream",
     "text": [
      "Actual IRR: 0.945%\n"
     ]
    }
   ],
   "source": [
    "# Calculate actual IRR\n",
    "print(\"Actual IRR: {:0.3f}%\".format((eda_grouped_promo.loc['Yes', 'purchase'] - \n",
    "                                     eda_grouped_promo.loc['No', 'purchase']) * 100))"
   ]
  },
  {
   "cell_type": "code",
   "execution_count": 15,
   "metadata": {
    "ExecuteTime": {
     "end_time": "2019-09-07T14:16:38.515740Z",
     "start_time": "2019-09-07T14:16:33.693292Z"
    }
   },
   "outputs": [
    {
     "data": {
      "image/png": "[encoded data removed]",
      "text/plain": [
       "<Figure size 1152x576 with 8 Axes>"
      ]
     },
     "metadata": {
      "needs_background": "light"
     },
     "output_type": "display_data"
    }
   ],
   "source": [
    "# look at numeric variables\n",
    "EDA.plot_num_hist(eda, bins=50, figsize=(16,8))"
   ]
  },
  {
   "cell_type": "code",
   "execution_count": 16,
   "metadata": {
    "ExecuteTime": {
     "end_time": "2019-09-07T14:16:39.071555Z",
     "start_time": "2019-09-07T14:16:38.515740Z"
    }
   },
   "outputs": [
    {
     "data": {
      "image/png": "[encoded data removed]",
      "text/plain": [
       "<Figure size 720x576 with 2 Axes>"
      ]
     },
     "metadata": {
      "needs_background": "light"
     },
     "output_type": "display_data"
    }
   ],
   "source": [
    "# Check bi-variate correlations\n",
    "EDA.plot_corr_map_num_all(eda, figsize=(10, 8))"
   ]
  },
  {
   "cell_type": "code",
   "execution_count": 17,
   "metadata": {
    "ExecuteTime": {
     "end_time": "2019-09-07T14:16:40.843347Z",
     "start_time": "2019-09-07T14:16:39.071555Z"
    }
   },
   "outputs": [
    {
     "data": {
      "image/png": "[encoded data removed]",
      "text/plain": [
       "<Figure size 864x576 with 8 Axes>"
      ]
     },
     "metadata": {
      "needs_background": "light"
     },
     "output_type": "display_data"
    }
   ],
   "source": [
    "EDA.plot_corr_box_num_target(eda, 'purchase', figsize=(12, 8))"
   ]
  },
  {
   "cell_type": "markdown",
   "metadata": {
    "ExecuteTime": {
     "end_time": "2019-09-07T13:56:11.748987Z",
     "start_time": "2019-09-07T13:56:11.706609Z"
    }
   },
   "source": [
    "**Findings:** V6 seems to make a difference from this perspective, also some outliers in V2 (so don't remove the outliers!)"
   ]
  },
  {
   "cell_type": "code",
   "execution_count": 18,
   "metadata": {
    "ExecuteTime": {
     "end_time": "2019-09-07T14:16:40.893438Z",
     "start_time": "2019-09-07T14:16:40.847343Z"
    }
   },
   "outputs": [],
   "source": [
    "# Check the picture for categorical values\n",
    "colsToCat = [\"Promotion\", \"V1\", \"V3\", \"V4\", \"V5\", \"V6\", \"V7\"]\n",
    "eda_cat = cleaning.change_dtypes(eda, cols_to_category=colsToCat)\n",
    "eda_cat['Promotion'] = eda_cat['Promotion'].map({'Yes':1, 'No':0})"
   ]
  },
  {
   "cell_type": "code",
   "execution_count": 26,
   "metadata": {
    "ExecuteTime": {
     "end_time": "2019-09-07T14:21:54.481603Z",
     "start_time": "2019-09-07T14:21:52.034793Z"
    }
   },
   "outputs": [
    {
     "data": {
      "image/png": "[encoded data removed]",
      "text/plain": [
       "<Figure size 864x864 with 13 Axes>"
      ]
     },
     "metadata": {
      "needs_background": "light"
     },
     "output_type": "display_data"
    }
   ],
   "source": [
    "# Check correlations for categorical columns\n",
    "EDA.plot_corr_point_cat_target(eda_cat, 'purchase', figsize=(12, 12), ylim=[0, 0.05])"
   ]
  },
  {
   "cell_type": "markdown",
   "metadata": {
    "ExecuteTime": {
     "end_time": "2019-09-07T14:21:17.109471Z",
     "start_time": "2019-09-07T14:21:17.069242Z"
    }
   },
   "source": [
    "**Findings:** Small differences only, V4 might make a difference."
   ]
  },
  {
   "cell_type": "markdown",
   "metadata": {},
   "source": [
    "## Calculate actual IRR and NIR"
   ]
  },
  {
   "cell_type": "code",
   "execution_count": 27,
   "metadata": {
    "ExecuteTime": {
     "end_time": "2019-09-07T14:22:00.561861Z",
     "start_time": "2019-09-07T14:22:00.518030Z"
    }
   },
   "outputs": [],
   "source": [
    "# define scoring function\n",
    "\n",
    "def calc_IRR_NIR(df, promo_col = 'Promotion'):\n",
    "    n_treat       = df.loc[df[promo_col] == 1,:].shape[0]\n",
    "    n_control     = df.loc[df[promo_col] == 0,:].shape[0]\n",
    "    n_treat_purch = df.loc[df[promo_col] == 1, 'purchase'].sum()\n",
    "    n_ctrl_purch  = df.loc[df[promo_col] == 0, 'purchase'].sum()\n",
    "    \n",
    "    irr = n_treat_purch / n_treat - n_ctrl_purch / n_control\n",
    "    nir = 10 * n_treat_purch - 0.15 * n_treat - 10 * n_ctrl_purch\n",
    "    \n",
    "    return (irr, nir)"
   ]
  },
  {
   "cell_type": "code",
   "execution_count": 29,
   "metadata": {
    "ExecuteTime": {
     "end_time": "2019-09-07T14:22:43.616711Z",
     "start_time": "2019-09-07T14:22:43.566873Z"
    }
   },
   "outputs": [
    {
     "data": {
      "text/plain": [
       "(0.009454547819772702, -2334.5999999999995)"
      ]
     },
     "execution_count": 29,
     "metadata": {},
     "output_type": "execute_result"
    }
   ],
   "source": [
    "# call function\n",
    "calc_IRR_NIR(eda_cat)"
   ]
  },
  {
   "cell_type": "markdown",
   "metadata": {},
   "source": [
    "## Preprocess data for modelling"
   ]
  },
  {
   "cell_type": "code",
   "execution_count": 32,
   "metadata": {
    "ExecuteTime": {
     "end_time": "2019-09-07T14:28:00.120605Z",
     "start_time": "2019-09-07T14:28:00.058118Z"
    }
   },
   "outputs": [],
   "source": [
    "# Clean dataframe based on EDA (datatypes, drop ID column)\n",
    "def clean_dataframe(df):\n",
    "    df['Promotion'] = df['Promotion'].map({'Yes':1, 'No':0})\n",
    "    colsToCat = [\"Promotion\", \"V1\", \"V3\", \"V4\", \"V5\", \"V6\", \"V7\"]\n",
    "    df = cleaning.change_dtypes(df, cols_to_category=colsToCat)\n",
    "    df.drop('ID', axis=1, inplace=True)\n",
    "    return df\n",
    "    \n",
    "data = clean_dataframe(train)"
   ]
  },
  {
   "cell_type": "code",
   "execution_count": 33,
   "metadata": {
    "ExecuteTime": {
     "end_time": "2019-09-07T14:28:00.917176Z",
     "start_time": "2019-09-07T14:28:00.887205Z"
    }
   },
   "outputs": [
    {
     "name": "stdout",
     "output_type": "stream",
     "text": [
      "<class 'pandas.core.frame.DataFrame'>\n",
      "RangeIndex: 84534 entries, 0 to 84533\n",
      "Data columns (total 9 columns):\n",
      "Promotion    0 non-null category\n",
      "purchase     84534 non-null int64\n",
      "V1           84534 non-null category\n",
      "V2           84534 non-null float64\n",
      "V3           84534 non-null category\n",
      "V4           84534 non-null category\n",
      "V5           84534 non-null category\n",
      "V6           84534 non-null category\n",
      "V7           84534 non-null category\n",
      "dtypes: category(7), float64(1), int64(1)\n",
      "memory usage: 1.9 MB\n"
     ]
    }
   ],
   "source": [
    "# Check results\n",
    "data.info()"
   ]
  },
  {
   "cell_type": "code",
   "execution_count": null,
   "metadata": {},
   "outputs": [],
   "source": []
  },
  {
   "cell_type": "code",
   "execution_count": null,
   "metadata": {},
   "outputs": [],
   "source": []
  },
  {
   "cell_type": "code",
   "execution_count": null,
   "metadata": {},
   "outputs": [],
   "source": []
  },
  {
   "cell_type": "code",
   "execution_count": null,
   "metadata": {},
   "outputs": [],
   "source": []
  },
  {
   "cell_type": "code",
   "execution_count": null,
   "metadata": {
    "ExecuteTime": {
     "end_time": "2019-09-07T14:16:41.140020Z",
     "start_time": "2019-09-07T14:16:31.520Z"
    }
   },
   "outputs": [],
   "source": [
    "# separate target variable from features\n",
    "\n",
    "def create_Xy(df):\n",
    "    \"\"\"Seprate target variable from features.\"\"\"\n",
    "\n",
    "    X = df.copy()\n",
    "    y = X['purchase']\n",
    "    X = X.drop(['purchase', 'Promotion'], axis=1)  # Promotion is no valid input feature and has to be dropped\n",
    "    \n",
    "    return X, y"
   ]
  },
  {
   "cell_type": "code",
   "execution_count": null,
   "metadata": {
    "ExecuteTime": {
     "end_time": "2019-09-07T14:16:41.144014Z",
     "start_time": "2019-09-07T14:16:31.530Z"
    }
   },
   "outputs": [],
   "source": [
    "# call function an check results\n",
    "\n",
    "X, y = create_Xy(eda)\n",
    "X.shape"
   ]
  },
  {
   "cell_type": "code",
   "execution_count": null,
   "metadata": {
    "ExecuteTime": {
     "end_time": "2019-09-07T14:16:41.144014Z",
     "start_time": "2019-09-07T14:16:31.539Z"
    }
   },
   "outputs": [],
   "source": [
    "def build_pipe(X_train, y_train, clf, sampler):\n",
    "    \"\"\"Build a pipeline for preprocessing (including oversampling)\n",
    "    and classification.\n",
    "    \n",
    "    ARGUMENTS:\n",
    "        X_train: training features (df or array)\n",
    "        y_train: training labels (df or array)\n",
    "        clf: classifier (sk-learn model object)\n",
    "        sampler: sampler (imblearn sampling class)\n",
    "        \n",
    "    RETURNS:\n",
    "        full_pipe: pipeline object\n",
    "    \"\"\"\n",
    "    \n",
    "    # create temporary folder to store pipeline transformers (cache)\n",
    "    cachedir = mkdtemp()\n",
    "    memory = Memory(location=cachedir, verbose=1)\n",
    "    \n",
    "    full_pipe = Pipeline([\n",
    "    ('features', FeatureUnion([\n",
    "\n",
    "        ('cat', Pipeline([\n",
    "            ('cat_select', transform.TypeSelector('category')),\n",
    "            ('ohe', transform.CustomOneHotEncoder(dummy_na=True)),\n",
    "        ])),\n",
    "\n",
    "#         ('num', Pipeline([\n",
    "#             ('num_select', transform.TypeSelector(np.number)),\n",
    "#             ('scaling', StandardScaler()),\n",
    "#         ])),\n",
    "    ])),\n",
    "        ('sample', sampler),\n",
    "        ('clf', clf)],\n",
    "        \n",
    "    memory=memory)\n",
    "    \n",
    "    return full_pipe\n"
   ]
  },
  {
   "cell_type": "code",
   "execution_count": null,
   "metadata": {
    "ExecuteTime": {
     "end_time": "2019-09-07T14:16:41.148009Z",
     "start_time": "2019-09-07T14:16:31.545Z"
    }
   },
   "outputs": [],
   "source": [
    "# call the function and build the pipeline\n",
    "\n",
    "clf = LogisticRegression()\n",
    "sampler = SMOTENC(categorical_features=[0,3,4,5,6], n_jobs=-1)\n",
    "\n",
    "full_pipe = build_pipe(X, y, clf, sampler)"
   ]
  },
  {
   "cell_type": "code",
   "execution_count": null,
   "metadata": {
    "ExecuteTime": {
     "end_time": "2019-09-07T14:16:41.148009Z",
     "start_time": "2019-09-07T14:16:31.552Z"
    }
   },
   "outputs": [],
   "source": [
    "def fit_pipe(X_train, y_train, pipe, scorer, cv=StratifiedKFold(3)):\n",
    "    \"\"\"Fit training data to a pipeline with GridSearchCV\n",
    "    for best parameter tuning.\n",
    "    \n",
    "    ARGUMENTS:\n",
    "        X_train: training features (df or array)\n",
    "        y_train: training labels (df or array)\n",
    "        pipe: pipeline (sk-learn pipeline object)\n",
    "        scorer: evaluation metric for validation\n",
    "        cv: type of CV, default is StratifiedKFold(3)\n",
    "        \n",
    "    RETURNS:\n",
    "        grid: grid search object\n",
    "        grid_results: dict with grid search results\n",
    "    \"\"\"\n",
    "    parameters = {'clf' : ((LogisticRegression(solver='liblinear', class_weight='balanced')),\n",
    "                          (GradientBoostingClassifier(n_estimators=200)),\n",
    "                          (SGDClassifier(loss='hinge', class_weight='balanced')),\n",
    "                          )}\n",
    "    \n",
    "    start = time.time()\n",
    "\n",
    "    cv = GridSearchCV(pipe, param_grid=parameters, scoring=scorer, n_jobs= -1, \n",
    "                      cv=cv, error_score='raise', return_train_score=False, verbose=1)\n",
    "\n",
    "    grid = cv.fit(X_train, y_train) \n",
    "    grid_results = grid.cv_results_\n",
    "\n",
    "    return grid, grid_results\n",
    "\n",
    "    # delete the temporary cache before exiting\n",
    "    rmtree(cachedir)\n",
    "\n",
    "    print('Duration: {} seconds'.format(time.time() - start))"
   ]
  },
  {
   "cell_type": "code",
   "execution_count": null,
   "metadata": {
    "ExecuteTime": {
     "end_time": "2019-09-07T14:16:41.148009Z",
     "start_time": "2019-09-07T14:16:31.561Z"
    }
   },
   "outputs": [],
   "source": [
    "# call the function\n",
    "\n",
    "scorer = make_scorer(fbeta_score, beta=4)\n",
    "cv = 3\n",
    "\n",
    "grid, grid_results = fit_pipe(X, y, full_pipe, scorer, cv=cv)"
   ]
  },
  {
   "cell_type": "code",
   "execution_count": null,
   "metadata": {
    "ExecuteTime": {
     "end_time": "2019-09-07T14:16:41.152004Z",
     "start_time": "2019-09-07T14:16:31.566Z"
    }
   },
   "outputs": [],
   "source": [
    "# define function to create simplified dataframe with results\n",
    "\n",
    "def print_grid_results(grid_results, estimator_names):\n",
    "    \"\"\"Create simplified DataFrame with grid search results. Best suited\n",
    "    for comparision of different (baseline) models.\n",
    "    \n",
    "        ARGUMENTS:\n",
    "            grid_results: dict with results of grid search\n",
    "            estimater_names: list of strings with estimator short names\n",
    "            \n",
    "        RETURNS:\n",
    "            results: DataFrame with key metrics (test scores, time) for grid search    \n",
    "    \"\"\"\n",
    "    \n",
    "    results = pd.DataFrame(grid_results)# .sort_values('mean_test_score', ascending=False)\n",
    "    results['total_time'] = results['mean_score_time'] + results['mean_fit_time']\n",
    "    results = results[['param_clf', 'mean_test_score', 'std_test_score', \n",
    "                       'total_time', 'mean_fit_time', 'mean_score_time']]\n",
    "    results.index = estimator_names\n",
    "    \n",
    "    return results"
   ]
  },
  {
   "cell_type": "code",
   "execution_count": null,
   "metadata": {
    "ExecuteTime": {
     "end_time": "2019-09-07T14:16:41.152004Z",
     "start_time": "2019-09-07T14:16:31.576Z"
    }
   },
   "outputs": [],
   "source": [
    "# call the function and display the results\n",
    "\n",
    "results = print_grid_results(grid_results, estimator_names=['LogReg', 'GBC', 'SGD'])\n",
    "results"
   ]
  },
  {
   "cell_type": "code",
   "execution_count": null,
   "metadata": {
    "ExecuteTime": {
     "end_time": "2019-09-07T14:16:41.155999Z",
     "start_time": "2019-09-07T14:16:31.585Z"
    }
   },
   "outputs": [],
   "source": [
    "# define a function for plotting the main results of the model comparision\n",
    "\n",
    "def plot_grid_results(results):\n",
    "    \"\"\"Plot copmarision of test scores and run times for cross validated\n",
    "       models.\n",
    "       \n",
    "       ARGUMENTS:\n",
    "           results: dataframe generated with 'compare_models' function.\n",
    "       \"\"\"\n",
    "    data = results.sort_values(by='mean_test_score', ascending=False)\n",
    "    plt.figure(figsize=(18,6));\n",
    "    plt.subplot(1,2,1)\n",
    "    # plot the mean test scores\n",
    "    sns.barplot(x='mean_test_score', y=data.index, data=data, color=\"rebeccapurple\")\n",
    "    plt.xlabel(scorer);\n",
    "    plt.subplot(1,2,2)\n",
    "    # Plot the mean total time\n",
    "    sns.set_color_codes(\"pastel\")\n",
    "    sns.barplot(x=\"total_time\", y=data.index, data=data,\n",
    "        label=\"Total\", color=\"rebeccapurple\")\n",
    "    # Plot the mean fit time\n",
    "    sns.set_color_codes(\"muted\")\n",
    "    sns.barplot(x='mean_fit_time', y=data.index, data=data,\n",
    "        label=\"Fit\", color=\"yellow\")\n",
    "    plt.xlabel(\"Time for fitting (yellow) and scoring (purple)\");"
   ]
  },
  {
   "cell_type": "code",
   "execution_count": null,
   "metadata": {
    "ExecuteTime": {
     "end_time": "2019-09-07T14:16:41.155999Z",
     "start_time": "2019-09-07T14:16:31.593Z"
    }
   },
   "outputs": [],
   "source": [
    "# call the function and display the results\n",
    "\n",
    "plot_grid_results(results)"
   ]
  },
  {
   "cell_type": "code",
   "execution_count": null,
   "metadata": {
    "ExecuteTime": {
     "end_time": "2019-09-07T14:16:41.155999Z",
     "start_time": "2019-09-07T14:16:31.603Z"
    }
   },
   "outputs": [],
   "source": [
    "# get the best estimator\n",
    "\n",
    "model = grid.best_estimator_"
   ]
  },
  {
   "cell_type": "markdown",
   "metadata": {},
   "source": [
    "## Model evaluation"
   ]
  },
  {
   "cell_type": "code",
   "execution_count": null,
   "metadata": {
    "ExecuteTime": {
     "end_time": "2019-09-07T14:16:41.159993Z",
     "start_time": "2019-09-07T14:16:31.612Z"
    }
   },
   "outputs": [],
   "source": [
    "y_pred = model.predict(X)\n",
    "print(classification_report(y, y_pred))"
   ]
  },
  {
   "cell_type": "code",
   "execution_count": null,
   "metadata": {
    "ExecuteTime": {
     "end_time": "2019-09-07T14:16:41.159993Z",
     "start_time": "2019-09-07T14:16:31.622Z"
    }
   },
   "outputs": [],
   "source": [
    "print(confusion_matrix(y, y_pred))"
   ]
  },
  {
   "cell_type": "code",
   "execution_count": null,
   "metadata": {
    "ExecuteTime": {
     "end_time": "2019-09-07T14:16:41.164233Z",
     "start_time": "2019-09-07T14:16:31.628Z"
    }
   },
   "outputs": [],
   "source": [
    "# define a function for returning the predictions\n",
    "\n",
    "def apply_strategy(X):\n",
    "    '''\n",
    "        ARGUMENTS: \n",
    "            X: Training data (Dataframe) with columns V1 - V7 only\n",
    "\n",
    "        RETURNS:\n",
    "            promotion: np.array with the values 'Yes' or 'No' \n",
    "            related to whether or not an individual should recieve \n",
    "            a promotion\n",
    "    '''\n",
    "    \n",
    "    y_pred = list(model.predict(X))\n",
    "    promotion = ['Yes' if x == 1 else 'No' for x in y_pred]\n",
    "    promotion = np.array(promotion)\n",
    "    \n",
    "    return promotion"
   ]
  },
  {
   "cell_type": "code",
   "execution_count": null,
   "metadata": {
    "ExecuteTime": {
     "end_time": "2019-09-07T14:16:41.165240Z",
     "start_time": "2019-09-07T14:16:31.634Z"
    }
   },
   "outputs": [],
   "source": [
    "# call function and check results\n",
    "\n",
    "promotion_strategy = apply_strategy(X)\n",
    "promotion_strategy"
   ]
  },
  {
   "cell_type": "code",
   "execution_count": null,
   "metadata": {
    "ExecuteTime": {
     "end_time": "2019-09-07T14:16:41.165240Z",
     "start_time": "2019-09-07T14:16:31.642Z"
    }
   },
   "outputs": [],
   "source": [
    "# define evaluation functions to predict on test set and display performance in comparision to benchmark\n",
    "\n",
    "def calc_score(df, promo_pred_col = 'Promotion'):\n",
    "    n_treat       = df.loc[df[promo_pred_col] == 'Yes',:].shape[0]\n",
    "    n_control     = df.loc[df[promo_pred_col] == 'No',:].shape[0]\n",
    "    n_treat_purch = df.loc[df[promo_pred_col] == 'Yes', 'purchase'].sum()\n",
    "    n_ctrl_purch  = df.loc[df[promo_pred_col] == 'No', 'purchase'].sum()\n",
    "    irr = n_treat_purch / n_treat - n_ctrl_purch / n_control\n",
    "    nir = 10 * n_treat_purch - 0.15 * n_treat - 10 * n_ctrl_purch\n",
    "    \n",
    "    return (irr, nir)\n",
    "\n",
    "def test_results(promotion_strategy):\n",
    "    test_data = pd.read_csv('data/Test.csv')\n",
    "    df = test_data[['V1', 'V2', 'V3', 'V4', 'V5', 'V6', 'V7']]\n",
    "    df = cleaning.change_dtypes(df, cols_to_category=['V1', 'V4', 'V5', 'V6', 'V7'])\n",
    "    promos = apply_strategy(df)\n",
    "    score_df = test_data.iloc[np.where(promos == 'Yes')]    \n",
    "    irr, nir = calc_score(score_df)\n",
    "    \n",
    "    print(\"Nice job!  See how well your strategy worked on our test data below!\")\n",
    "    print('\\nYour irr with this strategy is {:0.4f}.'.format(irr))\n",
    "    print('\\nYour nir with this strategy is {:0.2f}.'.format(nir))\n",
    "    print(\"\\nWe came up with a model with an irr of {} and an nir of {} \" \\\n",
    "    \"on the test set.\\n\\n How did you do?\".format(0.0188, 189.45))\n",
    "    \n",
    "    return irr, nir"
   ]
  },
  {
   "cell_type": "code",
   "execution_count": null,
   "metadata": {
    "ExecuteTime": {
     "end_time": "2019-09-07T14:16:41.169241Z",
     "start_time": "2019-09-07T14:16:31.650Z"
    }
   },
   "outputs": [],
   "source": [
    "# call function and evaluate performance\n",
    "\n",
    "test_results(promotion_strategy)"
   ]
  },
  {
   "cell_type": "markdown",
   "metadata": {},
   "source": [
    "---"
   ]
  }
 ],
 "metadata": {
  "hide_input": false,
  "kernelspec": {
   "display_name": "Python 3",
   "language": "python",
   "name": "python3"
  },
  "language_info": {
   "codemirror_mode": {
    "name": "ipython",
    "version": 3
   },
   "file_extension": ".py",
   "mimetype": "text/x-python",
   "name": "python",
   "nbconvert_exporter": "python",
   "pygments_lexer": "ipython3",
   "version": "3.7.4"
  },
  "toc": {
   "base_numbering": 1,
   "nav_menu": {},
   "number_sections": true,
   "sideBar": false,
   "skip_h1_title": true,
   "title_cell": "Table of Contents",
   "title_sidebar": "Contents",
   "toc_cell": true,
   "toc_position": {},
   "toc_section_display": true,
   "toc_window_display": false
  }
 },
 "nbformat": 4,
 "nbformat_minor": 2
}
