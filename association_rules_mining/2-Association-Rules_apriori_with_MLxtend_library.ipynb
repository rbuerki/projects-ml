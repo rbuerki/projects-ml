{
 "cells": [
  {
   "cell_type": "markdown",
   "metadata": {},
   "source": [
    "# Association Rules Mining with MLxtend_library\n",
    "\n",
    "Association analysis using the apriori algorithm and the MLxtend library. \n",
    "\n",
    "- [MLxtend documentation example](http://rasbt.github.io/mlxtend/user_guide/frequent_patterns/apriori/) for generation of frequent item sets with Apriori algorithm\n",
    "- [MLxtend documentation example](http://rasbt.github.io/mlxtend/user_guide/frequent_patterns/association_rules/) for Association Rules\n",
    "\n",
    "\n",
    "**Data Sources:**\n",
    "\n",
    "- `data/raw/sales_total.csv`: real transaction dataset for a B2B retailer.\n",
    "\n",
    "**Changes**\n",
    "\n",
    "- 2019-07-07: Start notebook\n"
   ]
  },
  {
   "cell_type": "markdown",
   "metadata": {
    "toc": true
   },
   "source": [
    "<h1>Table of Contents<span class=\"tocSkip\"></span></h1>\n",
    "<div class=\"toc\"><ul class=\"toc-item\"><li><span><a href=\"#Import-libraries,-load-data\" data-toc-modified-id=\"Import-libraries,-load-data-1\"><span class=\"toc-item-num\">1&nbsp;&nbsp;</span>Import libraries, load data</a></span></li><li><span><a href=\"#Prepare-basic-data-structure\" data-toc-modified-id=\"Prepare-basic-data-structure-2\"><span class=\"toc-item-num\">2&nbsp;&nbsp;</span>Prepare basic data structure</a></span></li><li><span><a href=\"#Get-frequent-itemsets-with-Apriori-algorithm\" data-toc-modified-id=\"Get-frequent-itemsets-with-Apriori-algorithm-3\"><span class=\"toc-item-num\">3&nbsp;&nbsp;</span>Get frequent itemsets with Apriori algorithm</a></span></li></ul></div>"
   ]
  },
  {
   "cell_type": "markdown",
   "metadata": {},
   "source": [
    "---"
   ]
  },
  {
   "cell_type": "markdown",
   "metadata": {},
   "source": [
    "## Import libraries, load data"
   ]
  },
  {
   "cell_type": "code",
   "execution_count": 1,
   "metadata": {
    "ExecuteTime": {
     "end_time": "2019-07-07T12:33:23.400410Z",
     "start_time": "2019-07-07T12:33:21.311118Z"
    }
   },
   "outputs": [],
   "source": [
    "# Import libraries\n",
    "import numpy as np\n",
    "import pandas as pd\n",
    "from tqdm import tqdm\n",
    "\n",
    "# Specials\n",
    "from mlxtend.frequent_patterns import apriori\n",
    "from mlxtend.frequent_patterns import association_rules\n",
    "from mlxtend.preprocessing import TransactionEncoder\n",
    "\n",
    "# My functions\n",
    "import EDA_functions as EDA\n",
    "import cleaning_functions as cleaning\n",
    "\n",
    "# Visualization\n",
    "import matplotlib.pyplot as plt\n",
    "import seaborn as sns \n",
    "# sns.set_style('whitegrid')\n",
    "color = 'rebeccapurple'\n",
    "%matplotlib inline\n",
    "\n",
    "# Display settings\n",
    "from IPython.display import display\n",
    "pd.options.display.max_columns = 100"
   ]
  },
  {
   "cell_type": "code",
   "execution_count": 2,
   "metadata": {
    "ExecuteTime": {
     "end_time": "2019-07-07T12:33:29.135289Z",
     "start_time": "2019-07-07T12:33:23.400410Z"
    }
   },
   "outputs": [],
   "source": [
    "# Load data\n",
    "transactions_raw = pd.read_csv('data/raw/sales_total.csv', parse_dates=['Fakturadatum'])"
   ]
  },
  {
   "cell_type": "markdown",
   "metadata": {},
   "source": [
    "## Prepare basic data structure\n",
    "\n",
    "**IMPORTANT:** Using MLxtnd this analysis requires that all the data for a transaction be included in 1 row and the items should be 1-hot encoded."
   ]
  },
  {
   "cell_type": "code",
   "execution_count": 3,
   "metadata": {
    "ExecuteTime": {
     "end_time": "2019-07-07T12:33:29.166547Z",
     "start_time": "2019-07-07T12:33:29.135289Z"
    }
   },
   "outputs": [
    {
     "name": "stdout",
     "output_type": "stream",
     "text": [
      "<class 'pandas.core.frame.DataFrame'>\n",
      "RangeIndex: 2835054 entries, 0 to 2835053\n",
      "Data columns (total 12 columns):\n",
      "Kunde           int64\n",
      "Fakturadatum    datetime64[ns]\n",
      "Faktura         int64\n",
      "Pos             int64\n",
      "Artikel         object\n",
      "Unit Price      float64\n",
      "pro             int64\n",
      "ME              object\n",
      "Menge           float64\n",
      "ME.1            object\n",
      "Nettowert       float64\n",
      "Währg           object\n",
      "dtypes: datetime64[ns](1), float64(3), int64(4), object(4)\n",
      "memory usage: 259.6+ MB\n"
     ]
    }
   ],
   "source": [
    "transactions_raw.info()"
   ]
  },
  {
   "cell_type": "code",
   "execution_count": 4,
   "metadata": {
    "ExecuteTime": {
     "end_time": "2019-07-07T12:33:29.335788Z",
     "start_time": "2019-07-07T12:33:29.166547Z"
    }
   },
   "outputs": [
    {
     "data": {
      "text/html": [
       "<div>\n",
       "<style scoped>\n",
       "    .dataframe tbody tr th:only-of-type {\n",
       "        vertical-align: middle;\n",
       "    }\n",
       "\n",
       "    .dataframe tbody tr th {\n",
       "        vertical-align: top;\n",
       "    }\n",
       "\n",
       "    .dataframe thead th {\n",
       "        text-align: right;\n",
       "    }\n",
       "</style>\n",
       "<table border=\"1\" class=\"dataframe\">\n",
       "  <thead>\n",
       "    <tr style=\"text-align: right;\">\n",
       "      <th></th>\n",
       "      <th>Kunde</th>\n",
       "      <th>Fakturadatum</th>\n",
       "      <th>Faktura</th>\n",
       "      <th>Pos</th>\n",
       "      <th>Artikel</th>\n",
       "      <th>Unit Price</th>\n",
       "      <th>pro</th>\n",
       "      <th>ME</th>\n",
       "      <th>Menge</th>\n",
       "      <th>ME.1</th>\n",
       "      <th>Nettowert</th>\n",
       "      <th>Währg</th>\n",
       "    </tr>\n",
       "  </thead>\n",
       "  <tbody>\n",
       "    <tr>\n",
       "      <th>257849</th>\n",
       "      <td>8052723</td>\n",
       "      <td>2017-03-15</td>\n",
       "      <td>91589089</td>\n",
       "      <td>50</td>\n",
       "      <td>5315816</td>\n",
       "      <td>11.97</td>\n",
       "      <td>1</td>\n",
       "      <td>ST</td>\n",
       "      <td>1.0</td>\n",
       "      <td>ST</td>\n",
       "      <td>11.97</td>\n",
       "      <td>CHF</td>\n",
       "    </tr>\n",
       "    <tr>\n",
       "      <th>638342</th>\n",
       "      <td>8671117</td>\n",
       "      <td>2017-06-22</td>\n",
       "      <td>91695054</td>\n",
       "      <td>9</td>\n",
       "      <td>7199113</td>\n",
       "      <td>1.22</td>\n",
       "      <td>1</td>\n",
       "      <td>ST</td>\n",
       "      <td>10.0</td>\n",
       "      <td>ST</td>\n",
       "      <td>12.20</td>\n",
       "      <td>CHF</td>\n",
       "    </tr>\n",
       "  </tbody>\n",
       "</table>\n",
       "</div>"
      ],
      "text/plain": [
       "          Kunde Fakturadatum   Faktura  Pos  Artikel  Unit Price  pro  ME  \\\n",
       "257849  8052723   2017-03-15  91589089   50  5315816       11.97    1  ST   \n",
       "638342  8671117   2017-06-22  91695054    9  7199113        1.22    1  ST   \n",
       "\n",
       "        Menge ME.1  Nettowert Währg  \n",
       "257849    1.0   ST      11.97   CHF  \n",
       "638342   10.0   ST      12.20   CHF  "
      ]
     },
     "execution_count": 4,
     "metadata": {},
     "output_type": "execute_result"
    }
   ],
   "source": [
    "transactions_raw.sample(2)"
   ]
  },
  {
   "cell_type": "code",
   "execution_count": 5,
   "metadata": {
    "ExecuteTime": {
     "end_time": "2019-07-07T12:34:15.151890Z",
     "start_time": "2019-07-07T12:33:29.335788Z"
    }
   },
   "outputs": [
    {
     "name": "stdout",
     "output_type": "stream",
     "text": [
      "Unique artikel before cleaning: 74126\n",
      "Unique artikel after cleaning: 49709\n"
     ]
    }
   ],
   "source": [
    "\"\"\"Clean data\"\"\"\n",
    "\n",
    "# Look at 2018 data only\n",
    "transactions_18_full = transactions_raw.loc[transactions_raw['Fakturadatum'].dt.year == 2018]\n",
    "transactions_18_full = transactions_18_full[['Kunde', 'Fakturadatum', 'Artikel']]\n",
    " # Kick out all artikel that contain str values in their code\n",
    "print(\"Unique artikel before cleaning:\", transactions_18_full['Artikel'].nunique())\n",
    "transactions_18_full['Artikel'] = pd.to_numeric(transactions_18_full['Artikel'], errors='coerce')\n",
    "transactions_18 = transactions_18_full.dropna(how='any')\n",
    "print(\"Unique artikel after cleaning:\", transactions_18['Artikel'].nunique())\n",
    " # Kick-out special customers\n",
    "transactions_18 = transactions_18.loc[transactions_18['Kunde'] > 700000]\n",
    "\n",
    "transactions_18_grouped = pd.DataFrame(transactions_18.groupby(\n",
    "        ['Kunde', 'Fakturadatum'])['Artikel'].unique())\n",
    "transactions = transactions_18_grouped.reset_index(drop=True)"
   ]
  },
  {
   "cell_type": "markdown",
   "metadata": {
    "ExecuteTime": {
     "end_time": "2019-07-07T12:05:54.055654Z",
     "start_time": "2019-07-07T12:05:54.047665Z"
    }
   },
   "source": [
    "**Note:** By keeping numeric artikel IDs only I loose about a third of artikel! But let's do it anyway."
   ]
  },
  {
   "cell_type": "code",
   "execution_count": 6,
   "metadata": {
    "ExecuteTime": {
     "end_time": "2019-07-07T12:34:15.168297Z",
     "start_time": "2019-07-07T12:34:15.151890Z"
    }
   },
   "outputs": [
    {
     "name": "stdout",
     "output_type": "stream",
     "text": [
      "Number of transactions: 204330\n"
     ]
    },
    {
     "data": {
      "text/html": [
       "<div>\n",
       "<style scoped>\n",
       "    .dataframe tbody tr th:only-of-type {\n",
       "        vertical-align: middle;\n",
       "    }\n",
       "\n",
       "    .dataframe tbody tr th {\n",
       "        vertical-align: top;\n",
       "    }\n",
       "\n",
       "    .dataframe thead th {\n",
       "        text-align: right;\n",
       "    }\n",
       "</style>\n",
       "<table border=\"1\" class=\"dataframe\">\n",
       "  <thead>\n",
       "    <tr style=\"text-align: right;\">\n",
       "      <th></th>\n",
       "      <th>Artikel</th>\n",
       "    </tr>\n",
       "  </thead>\n",
       "  <tbody>\n",
       "    <tr>\n",
       "      <th>0</th>\n",
       "      <td>[9900179.0, 4100130.0, 5308748.0, 5074021.0, 5...</td>\n",
       "    </tr>\n",
       "    <tr>\n",
       "      <th>1</th>\n",
       "      <td>[2960232.0, 5308591.0, 6436018.0, 66933.0, 629...</td>\n",
       "    </tr>\n",
       "    <tr>\n",
       "      <th>2</th>\n",
       "      <td>[4921011.0, 2947803.0, 2550805.0, 2458003.0, 6...</td>\n",
       "    </tr>\n",
       "    <tr>\n",
       "      <th>3</th>\n",
       "      <td>[7947701.0, 6634351.0, 7906101.0, 8621604.0, 6...</td>\n",
       "    </tr>\n",
       "    <tr>\n",
       "      <th>4</th>\n",
       "      <td>[2119635.0, 2119634.0, 2310306.0, 6103861.0, 8...</td>\n",
       "    </tr>\n",
       "  </tbody>\n",
       "</table>\n",
       "</div>"
      ],
      "text/plain": [
       "                                             Artikel\n",
       "0  [9900179.0, 4100130.0, 5308748.0, 5074021.0, 5...\n",
       "1  [2960232.0, 5308591.0, 6436018.0, 66933.0, 629...\n",
       "2  [4921011.0, 2947803.0, 2550805.0, 2458003.0, 6...\n",
       "3  [7947701.0, 6634351.0, 7906101.0, 8621604.0, 6...\n",
       "4  [2119635.0, 2119634.0, 2310306.0, 6103861.0, 8..."
      ]
     },
     "execution_count": 6,
     "metadata": {},
     "output_type": "execute_result"
    }
   ],
   "source": [
    "# Check results\n",
    "print(\"Number of transactions:\", len(transactions))\n",
    "transactions.head()"
   ]
  },
  {
   "cell_type": "code",
   "execution_count": 8,
   "metadata": {
    "ExecuteTime": {
     "end_time": "2019-07-07T12:34:46.302432Z",
     "start_time": "2019-07-07T12:34:30.280674Z"
    }
   },
   "outputs": [],
   "source": [
    "\"\"\"OHE to sparse format with MLxtnd TransactionEncoder\"\"\"\n",
    "\n",
    "te = TransactionEncoder()\n",
    "products_array = np.array(transactions['Artikel'])\n",
    "products_array_ohe = te.fit(products_array).transform(products_array, sparse=True)\n",
    "transactions_sparse = pd.SparseDataFrame(products_array_ohe, \n",
    "                                        columns=te.columns_, \n",
    "                                        default_fill_value=False)\n",
    "\n",
    "assert transactions_sparse.iloc[1,].sum() == len(transactions.iloc[1,0])"
   ]
  },
  {
   "cell_type": "code",
   "execution_count": null,
   "metadata": {
    "ExecuteTime": {
     "end_time": "2019-07-07T12:34:16.103298Z",
     "start_time": "2019-07-07T12:33:21.320Z"
    }
   },
   "outputs": [],
   "source": [
    "# # Check results\n",
    "# transactions_sparse.head()"
   ]
  },
  {
   "cell_type": "markdown",
   "metadata": {
    "ExecuteTime": {
     "end_time": "2019-07-07T12:18:59.851501Z",
     "start_time": "2019-07-07T12:18:59.820289Z"
    }
   },
   "source": [
    "## Get frequent itemsets with Apriori algorithm"
   ]
  },
  {
   "cell_type": "code",
   "execution_count": null,
   "metadata": {
    "ExecuteTime": {
     "start_time": "2019-07-07T12:35:06.002Z"
    }
   },
   "outputs": [],
   "source": [
    "frequent_itemsets = apriori(transactions_sparse, min_support=0.05, use_colnames=True, verbose=1)"
   ]
  },
  {
   "cell_type": "code",
   "execution_count": null,
   "metadata": {},
   "outputs": [],
   "source": []
  }
 ],
 "metadata": {
  "hide_input": false,
  "kernelspec": {
   "display_name": "Python 3",
   "language": "python",
   "name": "python3"
  },
  "language_info": {
   "codemirror_mode": {
    "name": "ipython",
    "version": 3
   },
   "file_extension": ".py",
   "mimetype": "text/x-python",
   "name": "python",
   "nbconvert_exporter": "python",
   "pygments_lexer": "ipython3",
   "version": "3.7.3"
  },
  "toc": {
   "base_numbering": 1,
   "nav_menu": {},
   "number_sections": true,
   "sideBar": false,
   "skip_h1_title": true,
   "title_cell": "Table of Contents",
   "title_sidebar": "Contents",
   "toc_cell": true,
   "toc_position": {},
   "toc_section_display": true,
   "toc_window_display": false
  }
 },
 "nbformat": 4,
 "nbformat_minor": 2
}
