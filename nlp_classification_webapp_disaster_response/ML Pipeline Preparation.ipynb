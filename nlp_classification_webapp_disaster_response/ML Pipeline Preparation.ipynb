{
 "cells": [
  {
   "cell_type": "markdown",
   "metadata": {},
   "source": [
    "# ML Pipeline Preparation\n"
   ]
  },
  {
   "cell_type": "markdown",
   "metadata": {},
   "source": [
    "### Import libraries and load data\n"
   ]
  },
  {
   "cell_type": "code",
   "execution_count": 1,
   "metadata": {},
   "outputs": [
    {
     "name": "stdout",
     "output_type": "stream",
     "text": [
      "[nltk_data] Downloading package punkt to /root/nltk_data...\n",
      "[nltk_data]   Unzipping tokenizers/punkt.zip.\n",
      "[nltk_data] Downloading package wordnet to /root/nltk_data...\n",
      "[nltk_data]   Unzipping corpora/wordnet.zip.\n",
      "[nltk_data] Downloading package stopwords to /root/nltk_data...\n",
      "[nltk_data]   Unzipping corpora/stopwords.zip.\n",
      "[nltk_data] Downloading package averaged_perceptron_tagger to\n",
      "[nltk_data]     /root/nltk_data...\n",
      "[nltk_data]   Unzipping taggers/averaged_perceptron_tagger.zip.\n",
      "[nltk_data] Downloading package maxent_ne_chunker to\n",
      "[nltk_data]     /root/nltk_data...\n",
      "[nltk_data]   Unzipping chunkers/maxent_ne_chunker.zip.\n",
      "[nltk_data] Downloading package words to /root/nltk_data...\n",
      "[nltk_data]   Unzipping corpora/words.zip.\n"
     ]
    }
   ],
   "source": [
    "import numpy as np\n",
    "import pandas as pd\n",
    "from sqlalchemy import create_engine\n",
    "\n",
    "from sklearn.model_selection import StratifiedShuffleSplit, GridSearchCV, train_test_split\n",
    "from sklearn.feature_extraction.text import CountVectorizer, TfidfTransformer\n",
    "from sklearn.pipeline import Pipeline, FeatureUnion\n",
    "from sklearn.metrics import classification_report, confusion_matrix\n",
    "from sklearn.ensemble import RandomForestClassifier, GradientBoostingClassifier\n",
    "from sklearn.multioutput import MultiOutputClassifier\n",
    "# from sklearn.base import BaseEstimator, TransformerMixin\n",
    "\n",
    "import re\n",
    "import nltk\n",
    "nltk.download(['punkt', 'wordnet', 'stopwords', 'averaged_perceptron_tagger', 'maxent_ne_chunker', 'words'])\n",
    "from nltk.corpus import stopwords\n",
    "from nltk import pos_tag, ne_chunk\n",
    "from nltk.tokenize import word_tokenize\n",
    "from nltk.stem.wordnet import WordNetLemmatizer\n",
    "\n",
    "# visualization\n",
    "import matplotlib.pyplot as plt\n",
    "import seaborn as sns\n",
    "sns.set(); color='rebeccapurple'\n",
    "%matplotlib inline  \n",
    "\n",
    "# display settings\n",
    "pd.set_option('max_colwidth', -1)\n",
    "pd.set_option('display.max_columns', None)  "
   ]
  },
  {
   "cell_type": "code",
   "execution_count": 2,
   "metadata": {},
   "outputs": [],
   "source": [
    "# load data from database with `read_sql_table`\n",
    "engine = create_engine('sqlite:///DisasterResponse.db')\n",
    "df = pd.read_sql_table('messages', engine)"
   ]
  },
  {
   "cell_type": "markdown",
   "metadata": {},
   "source": [
    "## Have a look at data structure"
   ]
  },
  {
   "cell_type": "code",
   "execution_count": 3,
   "metadata": {},
   "outputs": [
    {
     "name": "stdout",
     "output_type": "stream",
     "text": [
      "<class 'pandas.core.frame.DataFrame'>\n",
      "RangeIndex: 26180 entries, 0 to 26179\n",
      "Data columns (total 40 columns):\n",
      "id                        26180 non-null int64\n",
      "message                   26180 non-null object\n",
      "original                  10153 non-null object\n",
      "genre                     26180 non-null object\n",
      "related                   26180 non-null int64\n",
      "request                   26180 non-null int64\n",
      "offer                     26180 non-null int64\n",
      "aid_related               26180 non-null int64\n",
      "medical_help              26180 non-null int64\n",
      "medical_products          26180 non-null int64\n",
      "search_and_rescue         26180 non-null int64\n",
      "security                  26180 non-null int64\n",
      "military                  26180 non-null int64\n",
      "child_alone               26180 non-null int64\n",
      "water                     26180 non-null int64\n",
      "food                      26180 non-null int64\n",
      "shelter                   26180 non-null int64\n",
      "clothing                  26180 non-null int64\n",
      "money                     26180 non-null int64\n",
      "missing_people            26180 non-null int64\n",
      "refugees                  26180 non-null int64\n",
      "death                     26180 non-null int64\n",
      "other_aid                 26180 non-null int64\n",
      "infrastructure_related    26180 non-null int64\n",
      "transport                 26180 non-null int64\n",
      "buildings                 26180 non-null int64\n",
      "electricity               26180 non-null int64\n",
      "tools                     26180 non-null int64\n",
      "hospitals                 26180 non-null int64\n",
      "shops                     26180 non-null int64\n",
      "aid_centers               26180 non-null int64\n",
      "other_infrastructure      26180 non-null int64\n",
      "weather_related           26180 non-null int64\n",
      "floods                    26180 non-null int64\n",
      "storm                     26180 non-null int64\n",
      "fire                      26180 non-null int64\n",
      "earthquake                26180 non-null int64\n",
      "cold                      26180 non-null int64\n",
      "other_weather             26180 non-null int64\n",
      "direct_report             26180 non-null int64\n",
      "dtypes: int64(37), object(3)\n",
      "memory usage: 8.0+ MB\n"
     ]
    }
   ],
   "source": [
    "df.info()"
   ]
  },
  {
   "cell_type": "code",
   "execution_count": 4,
   "metadata": {},
   "outputs": [
    {
     "data": {
      "text/html": [
       "<div>\n",
       "<style>\n",
       "    .dataframe thead tr:only-child th {\n",
       "        text-align: right;\n",
       "    }\n",
       "\n",
       "    .dataframe thead th {\n",
       "        text-align: left;\n",
       "    }\n",
       "\n",
       "    .dataframe tbody tr th {\n",
       "        vertical-align: top;\n",
       "    }\n",
       "</style>\n",
       "<table border=\"1\" class=\"dataframe\">\n",
       "  <thead>\n",
       "    <tr style=\"text-align: right;\">\n",
       "      <th></th>\n",
       "      <th>id</th>\n",
       "      <th>message</th>\n",
       "      <th>original</th>\n",
       "      <th>genre</th>\n",
       "      <th>related</th>\n",
       "      <th>request</th>\n",
       "      <th>offer</th>\n",
       "      <th>aid_related</th>\n",
       "      <th>medical_help</th>\n",
       "      <th>medical_products</th>\n",
       "      <th>search_and_rescue</th>\n",
       "      <th>security</th>\n",
       "      <th>military</th>\n",
       "      <th>child_alone</th>\n",
       "      <th>water</th>\n",
       "      <th>food</th>\n",
       "      <th>shelter</th>\n",
       "      <th>clothing</th>\n",
       "      <th>money</th>\n",
       "      <th>missing_people</th>\n",
       "      <th>refugees</th>\n",
       "      <th>death</th>\n",
       "      <th>other_aid</th>\n",
       "      <th>infrastructure_related</th>\n",
       "      <th>transport</th>\n",
       "      <th>buildings</th>\n",
       "      <th>electricity</th>\n",
       "      <th>tools</th>\n",
       "      <th>hospitals</th>\n",
       "      <th>shops</th>\n",
       "      <th>aid_centers</th>\n",
       "      <th>other_infrastructure</th>\n",
       "      <th>weather_related</th>\n",
       "      <th>floods</th>\n",
       "      <th>storm</th>\n",
       "      <th>fire</th>\n",
       "      <th>earthquake</th>\n",
       "      <th>cold</th>\n",
       "      <th>other_weather</th>\n",
       "      <th>direct_report</th>\n",
       "    </tr>\n",
       "  </thead>\n",
       "  <tbody>\n",
       "    <tr>\n",
       "      <th>0</th>\n",
       "      <td>2</td>\n",
       "      <td>Weather update - a cold front from Cuba that could pass over Haiti</td>\n",
       "      <td>Un front froid se retrouve sur Cuba ce matin. Il pourrait traverser Haiti demain. Des averses de pluie isolee sont encore prevues sur notre region ce soi</td>\n",
       "      <td>direct</td>\n",
       "      <td>1</td>\n",
       "      <td>0</td>\n",
       "      <td>0</td>\n",
       "      <td>0</td>\n",
       "      <td>0</td>\n",
       "      <td>0</td>\n",
       "      <td>0</td>\n",
       "      <td>0</td>\n",
       "      <td>0</td>\n",
       "      <td>0</td>\n",
       "      <td>0</td>\n",
       "      <td>0</td>\n",
       "      <td>0</td>\n",
       "      <td>0</td>\n",
       "      <td>0</td>\n",
       "      <td>0</td>\n",
       "      <td>0</td>\n",
       "      <td>0</td>\n",
       "      <td>0</td>\n",
       "      <td>0</td>\n",
       "      <td>0</td>\n",
       "      <td>0</td>\n",
       "      <td>0</td>\n",
       "      <td>0</td>\n",
       "      <td>0</td>\n",
       "      <td>0</td>\n",
       "      <td>0</td>\n",
       "      <td>0</td>\n",
       "      <td>0</td>\n",
       "      <td>0</td>\n",
       "      <td>0</td>\n",
       "      <td>0</td>\n",
       "      <td>0</td>\n",
       "      <td>0</td>\n",
       "      <td>0</td>\n",
       "      <td>0</td>\n",
       "    </tr>\n",
       "    <tr>\n",
       "      <th>1</th>\n",
       "      <td>7</td>\n",
       "      <td>Is the Hurricane over or is it not over</td>\n",
       "      <td>Cyclone nan fini osinon li pa fini</td>\n",
       "      <td>direct</td>\n",
       "      <td>1</td>\n",
       "      <td>0</td>\n",
       "      <td>0</td>\n",
       "      <td>1</td>\n",
       "      <td>0</td>\n",
       "      <td>0</td>\n",
       "      <td>0</td>\n",
       "      <td>0</td>\n",
       "      <td>0</td>\n",
       "      <td>0</td>\n",
       "      <td>0</td>\n",
       "      <td>0</td>\n",
       "      <td>0</td>\n",
       "      <td>0</td>\n",
       "      <td>0</td>\n",
       "      <td>0</td>\n",
       "      <td>0</td>\n",
       "      <td>0</td>\n",
       "      <td>1</td>\n",
       "      <td>0</td>\n",
       "      <td>0</td>\n",
       "      <td>0</td>\n",
       "      <td>0</td>\n",
       "      <td>0</td>\n",
       "      <td>0</td>\n",
       "      <td>0</td>\n",
       "      <td>0</td>\n",
       "      <td>0</td>\n",
       "      <td>1</td>\n",
       "      <td>0</td>\n",
       "      <td>1</td>\n",
       "      <td>0</td>\n",
       "      <td>0</td>\n",
       "      <td>0</td>\n",
       "      <td>0</td>\n",
       "      <td>0</td>\n",
       "    </tr>\n",
       "    <tr>\n",
       "      <th>2</th>\n",
       "      <td>8</td>\n",
       "      <td>Looking for someone but no name</td>\n",
       "      <td>Patnm, di Maryani relem pou li banm nouvel li ak timoun yo. Mesi se john jean depi Monben kwochi.</td>\n",
       "      <td>direct</td>\n",
       "      <td>1</td>\n",
       "      <td>0</td>\n",
       "      <td>0</td>\n",
       "      <td>0</td>\n",
       "      <td>0</td>\n",
       "      <td>0</td>\n",
       "      <td>0</td>\n",
       "      <td>0</td>\n",
       "      <td>0</td>\n",
       "      <td>0</td>\n",
       "      <td>0</td>\n",
       "      <td>0</td>\n",
       "      <td>0</td>\n",
       "      <td>0</td>\n",
       "      <td>0</td>\n",
       "      <td>0</td>\n",
       "      <td>0</td>\n",
       "      <td>0</td>\n",
       "      <td>0</td>\n",
       "      <td>0</td>\n",
       "      <td>0</td>\n",
       "      <td>0</td>\n",
       "      <td>0</td>\n",
       "      <td>0</td>\n",
       "      <td>0</td>\n",
       "      <td>0</td>\n",
       "      <td>0</td>\n",
       "      <td>0</td>\n",
       "      <td>0</td>\n",
       "      <td>0</td>\n",
       "      <td>0</td>\n",
       "      <td>0</td>\n",
       "      <td>0</td>\n",
       "      <td>0</td>\n",
       "      <td>0</td>\n",
       "      <td>0</td>\n",
       "    </tr>\n",
       "    <tr>\n",
       "      <th>3</th>\n",
       "      <td>9</td>\n",
       "      <td>UN reports Leogane 80-90 destroyed. Only Hospital St. Croix functioning. Needs supplies desperately.</td>\n",
       "      <td>UN reports Leogane 80-90 destroyed. Only Hospital St. Croix functioning. Needs supplies desperately.</td>\n",
       "      <td>direct</td>\n",
       "      <td>1</td>\n",
       "      <td>1</td>\n",
       "      <td>0</td>\n",
       "      <td>1</td>\n",
       "      <td>0</td>\n",
       "      <td>1</td>\n",
       "      <td>0</td>\n",
       "      <td>0</td>\n",
       "      <td>0</td>\n",
       "      <td>0</td>\n",
       "      <td>0</td>\n",
       "      <td>0</td>\n",
       "      <td>0</td>\n",
       "      <td>0</td>\n",
       "      <td>0</td>\n",
       "      <td>0</td>\n",
       "      <td>0</td>\n",
       "      <td>0</td>\n",
       "      <td>1</td>\n",
       "      <td>1</td>\n",
       "      <td>0</td>\n",
       "      <td>1</td>\n",
       "      <td>0</td>\n",
       "      <td>0</td>\n",
       "      <td>1</td>\n",
       "      <td>0</td>\n",
       "      <td>0</td>\n",
       "      <td>0</td>\n",
       "      <td>0</td>\n",
       "      <td>0</td>\n",
       "      <td>0</td>\n",
       "      <td>0</td>\n",
       "      <td>0</td>\n",
       "      <td>0</td>\n",
       "      <td>0</td>\n",
       "      <td>0</td>\n",
       "    </tr>\n",
       "    <tr>\n",
       "      <th>4</th>\n",
       "      <td>12</td>\n",
       "      <td>says: west side of Haiti, rest of the country today and tonight</td>\n",
       "      <td>facade ouest d Haiti et le reste du pays aujourd hui et ce soir</td>\n",
       "      <td>direct</td>\n",
       "      <td>1</td>\n",
       "      <td>0</td>\n",
       "      <td>0</td>\n",
       "      <td>0</td>\n",
       "      <td>0</td>\n",
       "      <td>0</td>\n",
       "      <td>0</td>\n",
       "      <td>0</td>\n",
       "      <td>0</td>\n",
       "      <td>0</td>\n",
       "      <td>0</td>\n",
       "      <td>0</td>\n",
       "      <td>0</td>\n",
       "      <td>0</td>\n",
       "      <td>0</td>\n",
       "      <td>0</td>\n",
       "      <td>0</td>\n",
       "      <td>0</td>\n",
       "      <td>0</td>\n",
       "      <td>0</td>\n",
       "      <td>0</td>\n",
       "      <td>0</td>\n",
       "      <td>0</td>\n",
       "      <td>0</td>\n",
       "      <td>0</td>\n",
       "      <td>0</td>\n",
       "      <td>0</td>\n",
       "      <td>0</td>\n",
       "      <td>0</td>\n",
       "      <td>0</td>\n",
       "      <td>0</td>\n",
       "      <td>0</td>\n",
       "      <td>0</td>\n",
       "      <td>0</td>\n",
       "      <td>0</td>\n",
       "      <td>0</td>\n",
       "    </tr>\n",
       "  </tbody>\n",
       "</table>\n",
       "</div>"
      ],
      "text/plain": [
       "   id  \\\n",
       "0  2    \n",
       "1  7    \n",
       "2  8    \n",
       "3  9    \n",
       "4  12   \n",
       "\n",
       "                                                                                                message  \\\n",
       "0  Weather update - a cold front from Cuba that could pass over Haiti                                     \n",
       "1  Is the Hurricane over or is it not over                                                                \n",
       "2  Looking for someone but no name                                                                        \n",
       "3  UN reports Leogane 80-90 destroyed. Only Hospital St. Croix functioning. Needs supplies desperately.   \n",
       "4  says: west side of Haiti, rest of the country today and tonight                                        \n",
       "\n",
       "                                                                                                                                                    original  \\\n",
       "0  Un front froid se retrouve sur Cuba ce matin. Il pourrait traverser Haiti demain. Des averses de pluie isolee sont encore prevues sur notre region ce soi   \n",
       "1  Cyclone nan fini osinon li pa fini                                                                                                                          \n",
       "2  Patnm, di Maryani relem pou li banm nouvel li ak timoun yo. Mesi se john jean depi Monben kwochi.                                                           \n",
       "3  UN reports Leogane 80-90 destroyed. Only Hospital St. Croix functioning. Needs supplies desperately.                                                        \n",
       "4  facade ouest d Haiti et le reste du pays aujourd hui et ce soir                                                                                             \n",
       "\n",
       "    genre  related  request  offer  aid_related  medical_help  \\\n",
       "0  direct  1        0        0      0            0              \n",
       "1  direct  1        0        0      1            0              \n",
       "2  direct  1        0        0      0            0              \n",
       "3  direct  1        1        0      1            0              \n",
       "4  direct  1        0        0      0            0              \n",
       "\n",
       "   medical_products  search_and_rescue  security  military  child_alone  \\\n",
       "0  0                 0                  0         0         0             \n",
       "1  0                 0                  0         0         0             \n",
       "2  0                 0                  0         0         0             \n",
       "3  1                 0                  0         0         0             \n",
       "4  0                 0                  0         0         0             \n",
       "\n",
       "   water  food  shelter  clothing  money  missing_people  refugees  death  \\\n",
       "0  0      0     0        0         0      0               0         0       \n",
       "1  0      0     0        0         0      0               0         0       \n",
       "2  0      0     0        0         0      0               0         0       \n",
       "3  0      0     0        0         0      0               0         0       \n",
       "4  0      0     0        0         0      0               0         0       \n",
       "\n",
       "   other_aid  infrastructure_related  transport  buildings  electricity  \\\n",
       "0  0          0                       0          0          0             \n",
       "1  1          0                       0          0          0             \n",
       "2  0          0                       0          0          0             \n",
       "3  1          1                       0          1          0             \n",
       "4  0          0                       0          0          0             \n",
       "\n",
       "   tools  hospitals  shops  aid_centers  other_infrastructure  \\\n",
       "0  0      0          0      0            0                      \n",
       "1  0      0          0      0            0                      \n",
       "2  0      0          0      0            0                      \n",
       "3  0      1          0      0            0                      \n",
       "4  0      0          0      0            0                      \n",
       "\n",
       "   weather_related  floods  storm  fire  earthquake  cold  other_weather  \\\n",
       "0  0                0       0      0     0           0     0               \n",
       "1  1                0       1      0     0           0     0               \n",
       "2  0                0       0      0     0           0     0               \n",
       "3  0                0       0      0     0           0     0               \n",
       "4  0                0       0      0     0           0     0               \n",
       "\n",
       "   direct_report  \n",
       "0  0              \n",
       "1  0              \n",
       "2  0              \n",
       "3  0              \n",
       "4  0              "
      ]
     },
     "execution_count": 4,
     "metadata": {},
     "output_type": "execute_result"
    }
   ],
   "source": [
    "df.head()"
   ]
  },
  {
   "cell_type": "markdown",
   "metadata": {},
   "source": [
    "### Explore target class distribution\n",
    "\n",
    "For a stratified split into test and training sets, the target class distribution has to be known and understood"
   ]
  },
  {
   "cell_type": "code",
   "execution_count": 5,
   "metadata": {},
   "outputs": [
    {
     "data": {
      "image/png": "[encoded data removed]",
      "text/plain": [
       "<matplotlib.figure.Figure at 0x7f45b14d0828>"
      ]
     },
     "metadata": {
      "needs_background": "light"
     },
     "output_type": "display_data"
    }
   ],
   "source": [
    "# check for general target class distribution\n",
    "plt.figure(figsize=(16,4))\n",
    "df.iloc[:,4:40].sum().plot.bar(color=color);"
   ]
  },
  {
   "cell_type": "code",
   "execution_count": 6,
   "metadata": {},
   "outputs": [
    {
     "data": {
      "image/png": "[encoded data removed]",
      "text/plain": [
       "<matplotlib.figure.Figure at 0x7f45b1b14160>"
      ]
     },
     "metadata": {
      "needs_background": "light"
     },
     "output_type": "display_data"
    }
   ],
   "source": [
    "# check for distribution of different numbers of target categories per message\n",
    "\n",
    "# create new column with total of active categories per message\n",
    "df['total'] = df.iloc[:,4:40].sum(axis=1)\n",
    "# plot the result\n",
    "plt.figure(figsize=(12,4))\n",
    "df['total'].value_counts().plot.bar(color=color);"
   ]
  },
  {
   "cell_type": "code",
   "execution_count": 7,
   "metadata": {},
   "outputs": [
    {
     "data": {
      "text/plain": [
       "0    6116\n",
       "1    5115\n",
       "3    3603\n",
       "5    2950\n",
       "4    2273\n",
       "Name: total, dtype: int64"
      ]
     },
     "execution_count": 7,
     "metadata": {},
     "output_type": "execute_result"
    }
   ],
   "source": [
    "# check for most frequent category counts per message\n",
    "df['total'].value_counts().head()"
   ]
  },
  {
   "cell_type": "code",
   "execution_count": 8,
   "metadata": {},
   "outputs": [
    {
     "data": {
      "text/html": [
       "<div>\n",
       "<style>\n",
       "    .dataframe thead tr:only-child th {\n",
       "        text-align: right;\n",
       "    }\n",
       "\n",
       "    .dataframe thead th {\n",
       "        text-align: left;\n",
       "    }\n",
       "\n",
       "    .dataframe tbody tr th {\n",
       "        vertical-align: top;\n",
       "    }\n",
       "</style>\n",
       "<table border=\"1\" class=\"dataframe\">\n",
       "  <thead>\n",
       "    <tr style=\"text-align: right;\">\n",
       "      <th></th>\n",
       "      <th>message</th>\n",
       "    </tr>\n",
       "  </thead>\n",
       "  <tbody>\n",
       "    <tr>\n",
       "      <th>1960</th>\n",
       "      <td>My wife, my children, my brothers and sisters, in Canal Bois, in Gonaives,</td>\n",
       "    </tr>\n",
       "    <tr>\n",
       "      <th>5807</th>\n",
       "      <td>I want to be enrolled in this program</td>\n",
       "    </tr>\n",
       "    <tr>\n",
       "      <th>18122</th>\n",
       "      <td>The TFG's legislative branch is the 550-seat Transitional Federal Parliament (TFP).</td>\n",
       "    </tr>\n",
       "    <tr>\n",
       "      <th>18748</th>\n",
       "      <td>The offer relates to communication technology -- pre-Wimax and fiber optic cables -- and involves the use of a number of public resources, such as radio frequency.</td>\n",
       "    </tr>\n",
       "    <tr>\n",
       "      <th>16709</th>\n",
       "      <td>Financial contributions from individuals, corporations and foundations are used to defray the cost of AmeriCares' programs.</td>\n",
       "    </tr>\n",
       "  </tbody>\n",
       "</table>\n",
       "</div>"
      ],
      "text/plain": [
       "                                                                                                                                                                   message\n",
       "1960   My wife, my children, my brothers and sisters, in Canal Bois, in Gonaives,                                                                                         \n",
       "5807   I want to be enrolled in this program                                                                                                                              \n",
       "18122  The TFG's legislative branch is the 550-seat Transitional Federal Parliament (TFP).                                                                                \n",
       "18748  The offer relates to communication technology -- pre-Wimax and fiber optic cables -- and involves the use of a number of public resources, such as radio frequency.\n",
       "16709  Financial contributions from individuals, corporations and foundations are used to defray the cost of AmeriCares' programs.                                        "
      ]
     },
     "execution_count": 8,
     "metadata": {},
     "output_type": "execute_result"
    }
   ],
   "source": [
    "# check a sample of messages with 0 active categories\n",
    "df.loc[(df['total'] == 0), ['message']].sample(5)"
   ]
  },
  {
   "cell_type": "code",
   "execution_count": 9,
   "metadata": {},
   "outputs": [
    {
     "data": {
      "text/html": [
       "<div>\n",
       "<style>\n",
       "    .dataframe thead tr:only-child th {\n",
       "        text-align: right;\n",
       "    }\n",
       "\n",
       "    .dataframe thead th {\n",
       "        text-align: left;\n",
       "    }\n",
       "\n",
       "    .dataframe tbody tr th {\n",
       "        vertical-align: top;\n",
       "    }\n",
       "</style>\n",
       "<table border=\"1\" class=\"dataframe\">\n",
       "  <thead>\n",
       "    <tr style=\"text-align: right;\">\n",
       "      <th></th>\n",
       "      <th>message</th>\n",
       "    </tr>\n",
       "  </thead>\n",
       "  <tbody>\n",
       "    <tr>\n",
       "      <th>21468</th>\n",
       "      <td>Present conversion capability at just one gigawatt (representing 12 percent of Fukushima Daiichi output) falls far short of demand.</td>\n",
       "    </tr>\n",
       "    <tr>\n",
       "      <th>18639</th>\n",
       "      <td>Pleased and full of admiration to see how quickly people have got back on their feet, rebuilt homes, planted their fields, and yet also saddened to see the wooden frames of locally built houses, standing forlornly with their mud walls now only beginning at eight feet up, just under the thatched roof.</td>\n",
       "    </tr>\n",
       "    <tr>\n",
       "      <th>18981</th>\n",
       "      <td>As one of the Small Island Developing States, Dominica had to deal with the problem of the safe disposal of solid and liquid waste, which could result in marine pollution and coastal degradation.</td>\n",
       "    </tr>\n",
       "    <tr>\n",
       "      <th>21941</th>\n",
       "      <td>Mercy Corps, operating with a grant from the U.S. Office of Foreign Disaster Assistance, made its very first subgrant to Sewalanka, enabling the organization to deliver more than 10,000 packets of sanitary pads to women displaced along the island nation's east coast.</td>\n",
       "    </tr>\n",
       "    <tr>\n",
       "      <th>24565</th>\n",
       "      <td>He developed symptoms on 7 November and died on 10 November from an undiagnosed cause.</td>\n",
       "    </tr>\n",
       "  </tbody>\n",
       "</table>\n",
       "</div>"
      ],
      "text/plain": [
       "                                                                                                                                                                                                                                                                                                             message\n",
       "21468  Present conversion capability at just one gigawatt (representing 12 percent of Fukushima Daiichi output) falls far short of demand.                                                                                                                                                                          \n",
       "18639  Pleased and full of admiration to see how quickly people have got back on their feet, rebuilt homes, planted their fields, and yet also saddened to see the wooden frames of locally built houses, standing forlornly with their mud walls now only beginning at eight feet up, just under the thatched roof.\n",
       "18981  As one of the Small Island Developing States, Dominica had to deal with the problem of the safe disposal of solid and liquid waste, which could result in marine pollution and coastal degradation.                                                                                                          \n",
       "21941  Mercy Corps, operating with a grant from the U.S. Office of Foreign Disaster Assistance, made its very first subgrant to Sewalanka, enabling the organization to deliver more than 10,000 packets of sanitary pads to women displaced along the island nation's east coast.                                  \n",
       "24565  He developed symptoms on 7 November and died on 10 November from an undiagnosed cause.                                                                                                                                                                                                                       "
      ]
     },
     "execution_count": 9,
     "metadata": {},
     "output_type": "execute_result"
    }
   ],
   "source": [
    "# check a sample of messages with 1 active categories\n",
    "df.loc[(df['total'] == 1), ['message']].sample(5)"
   ]
  },
  {
   "cell_type": "code",
   "execution_count": 10,
   "metadata": {},
   "outputs": [
    {
     "data": {
      "image/png": "[encoded data removed]",
      "text/plain": [
       "<matplotlib.figure.Figure at 0x7f45b2405240>"
      ]
     },
     "metadata": {
      "needs_background": "light"
     },
     "output_type": "display_data"
    }
   ],
   "source": [
    "# check which categories are active for plots with category count of 1\n",
    "df_temp1 = df.loc[(df['total'] == 1)]\n",
    "# plot the result\n",
    "plt.figure(figsize=(16,4))\n",
    "df_temp1.iloc[:,4:40].sum().plot.bar(color=color);"
   ]
  },
  {
   "cell_type": "markdown",
   "metadata": {},
   "source": [
    "__Observations__\n",
    "- 6'116 messages are not distaster related (and are logically not associated to a category)\n",
    "- 5'115 messages are disaster related but are not associated to a category\n",
    "- 14'949 remaining messages are related and associated to 2-26 different categories each\n",
    "- these seem to be grouped again into 3 main categories aid_related, infrastructure_related, weather_related\n",
    "- messages with more than approx. 10 categories each are quite rare and seem to be kind of 'outliers'\n",
    "\n",
    "__Decision__\n",
    "\n",
    "Data will be split into test and training set with stratified sampling to preserve the distribution of number of categories in both sets. This is important to make sure that especially the proportions of non-related messages (0 active categories) and related but non-categorized messages (1 active category = 'related') will be the same in both sets."
   ]
  },
  {
   "cell_type": "markdown",
   "metadata": {},
   "source": [
    "## Split data into training and test sets (with stratified sampling)"
   ]
  },
  {
   "cell_type": "code",
   "execution_count": 11,
   "metadata": {},
   "outputs": [],
   "source": [
    "# for StratifiedShuffleSlpit to work properly all values > 10 in ['total'] column will be set to 11.\n",
    "df['total'] = np.where((df['total'] >10), 11, df['total'])"
   ]
  },
  {
   "cell_type": "code",
   "execution_count": 12,
   "metadata": {},
   "outputs": [],
   "source": [
    "# create testset with stratified sampling according to the category count per message\n",
    "split = StratifiedShuffleSplit(n_splits = 1, test_size = 0.2, random_state = 111)\n",
    "for train_index, test_index in split.split(df, df['total']):\n",
    "    train = df.loc[train_index]\n",
    "    test = df.loc[test_index]\n",
    "    \n",
    "# safety-check\n",
    "assert len(test) == round(len(df) * 0.2), 'split got messed up'\n",
    "assert (round(df['related'].sum() / len(df),3)) == (round(train['related'].sum() / len(train),3)), 'not properly stratisfied'"
   ]
  },
  {
   "cell_type": "code",
   "execution_count": 13,
   "metadata": {},
   "outputs": [],
   "source": [
    "# make a copy of the train set for some further exlporation\n",
    "eda = train.copy()"
   ]
  },
  {
   "cell_type": "code",
   "execution_count": 14,
   "metadata": {},
   "outputs": [],
   "source": [
    "# remove 'total' column from train and test sets\n",
    "for set_ in (train, test):\n",
    "    set_.drop('total', axis=1, inplace=True)\n",
    "    \n",
    "# safety-check\n",
    "assert len(test.columns) == 40"
   ]
  },
  {
   "cell_type": "markdown",
   "metadata": {},
   "source": [
    "## Some further EDA on training set\n",
    "\n",
    "Further exploration is performed on training only set to prevent 'data snooping bias'."
   ]
  },
  {
   "cell_type": "code",
   "execution_count": 15,
   "metadata": {},
   "outputs": [
    {
     "data": {
      "image/png": "[encoded data removed]",
      "text/plain": [
       "<matplotlib.figure.Figure at 0x7f45b148e3c8>"
      ]
     },
     "metadata": {
      "needs_background": "light"
     },
     "output_type": "display_data"
    }
   ],
   "source": [
    "# distribution of the categories for related and categorized messages only (excluding category 'related')\n",
    "eda_categorized = eda.loc[(eda['total'] > 1)]\n",
    "# plot the result\n",
    "plt.figure(figsize=(16,4))\n",
    "eda.iloc[:,5:40].sum().plot.bar(color=color);"
   ]
  },
  {
   "cell_type": "markdown",
   "metadata": {},
   "source": [
    "__Observation:__  Categories are imbalanced, this will have to be taken into account for model training"
   ]
  },
  {
   "cell_type": "markdown",
   "metadata": {},
   "source": [
    "### Check 'outlier messages' > 10 active categories"
   ]
  },
  {
   "cell_type": "code",
   "execution_count": 16,
   "metadata": {
    "scrolled": true
   },
   "outputs": [
    {
     "data": {
      "image/png": "[encoded data removed]",
      "text/plain": [
       "<matplotlib.figure.Figure at 0x7f45b1f01278>"
      ]
     },
     "metadata": {
      "needs_background": "light"
     },
     "output_type": "display_data"
    }
   ],
   "source": [
    "# check if 'outlier messages' with more than 10 categories have some special distribution\n",
    "eda_outliers = eda.loc[(eda['total'] > 10)]\n",
    "# plot the result\n",
    "plt.figure(figsize=(16,4))\n",
    "eda_outliers.iloc[:,5:40].sum().plot.bar(color=color);"
   ]
  },
  {
   "cell_type": "code",
   "execution_count": 17,
   "metadata": {},
   "outputs": [
    {
     "name": "stdout",
     "output_type": "stream",
     "text": [
      "Messages with > 10 active categories: 360 (1.72% of total)\n"
     ]
    }
   ],
   "source": [
    "## print number / proportion of those messages\n",
    "print(\"Messages with > 10 active categories: {} ({}% of total)\" \\\n",
    "      .format(len(eda_outliers), round(100*(len(eda_outliers)/len(eda)),2)))"
   ]
  },
  {
   "cell_type": "code",
   "execution_count": 19,
   "metadata": {},
   "outputs": [
    {
     "data": {
      "text/html": [
       "<div>\n",
       "<style>\n",
       "    .dataframe thead tr:only-child th {\n",
       "        text-align: right;\n",
       "    }\n",
       "\n",
       "    .dataframe thead th {\n",
       "        text-align: left;\n",
       "    }\n",
       "\n",
       "    .dataframe tbody tr th {\n",
       "        vertical-align: top;\n",
       "    }\n",
       "</style>\n",
       "<table border=\"1\" class=\"dataframe\">\n",
       "  <thead>\n",
       "    <tr style=\"text-align: right;\">\n",
       "      <th></th>\n",
       "      <th>message</th>\n",
       "    </tr>\n",
       "  </thead>\n",
       "  <tbody>\n",
       "    <tr>\n",
       "      <th>727</th>\n",
       "      <td>need some help please we ar at carrefour pernier please verify location. ..</td>\n",
       "    </tr>\n",
       "    <tr>\n",
       "      <th>14713</th>\n",
       "      <td>World Vision has mobilised its entire international network to help, both in the relief work across the affected countries and in raising vital funds. Volunteers, many from local Christian Aid partner organisations, used loud speakers, hand-held sirens and hoisted flags to warn remote communities of the approaching storm, which sent a million people fleeing to evacuation centres. To cope with the situation, communities in Buhera District (Manicaland Province) are reportedly illegally selling mopane trees, aggravating deforestation. LUCKNOW: At least 27 people perished in heavy rains lashing large parts of Uttar Pradesh since Sunday evening, pushing the death count in the state this monsoon season to 73. The northern and eastern parts of the country received less rain in the past northeastern monsoon and expect inter monsoonal showers these days. Regarding the media's enquiries about the case of The Association of Chinese Evangelical Ministry, a charitable organisation in Hong Kong, which encountered difficulty in delivering relief materials to Sichuan, the Bureau first learned about the difficulties faced by the association on July 22.</td>\n",
       "    </tr>\n",
       "    <tr>\n",
       "      <th>16598</th>\n",
       "      <td>aided schools located in Tsunami affected areas.</td>\n",
       "    </tr>\n",
       "    <tr>\n",
       "      <th>19363</th>\n",
       "      <td>It is difficult to assess what all of this means just yet because of the deliberate disinformation and the poor quality of official data. Residents caught unaware by the heavy rains were forced to wade through shoulder-high muddy water or paddle boats to dry land. Those same tensions undermine the legitimacy of highly democratic regimes-states permitting openly competitive politics, guaranteeing free speech and assembly, and limiting police power. Rescue workers toiled through the night using portable generators and high-voltage lamps to pull charred bodies from the wreckage and prevent looting, Saiki said. The annual economic loss caused by tornadoes and severe thunder storms is perhaps second only to that of the annual floods. People at risk were evac uated immediately. As part of our role as the international humanitarian community's lead for logisitics, WFP is providing storage facilities in Nawabshah, Badin, Makli, Badin, Hyderabad, and Sanghar. Later, an explosion destroyed the outer shell of the reactor building above the containment on 14 March. Routine immunization is supposed to cover measles, polio, Hepatitis B, Haemophilus influenza type B, diphtheria, pertussis, tetanus and tuberculosis. The government made this decision against the background that there had been frequent crossfires between GAM members and government troops since the first round of peace talks ended in Helsinki, Finland, last January, said Widodo after convening a coordination meeting on the conflicts in Aceh province. Can adequate sanitary facilities be provided to prevent illness among the survivors?. The primary water supply system, linked to an electrical grid, remains out of order. Incessant rain since Sunday night has left hundreds of Indian and Nepali pilgrims stranded at the temple, he added. While progress had been made, he continued to call on Palestinians to end incitement against Israel, and reiterate that America did not accept the legitimacy of continued Israeli settlements. With regard to air assets, the three helicopters operated by the JLOC have ended their mission and the Buffalo fixed-wing aeroplane will stop on 27 April. For 10 days Nadia kept a bedside vigil, to no avail. The first is a war economy, which has functioned for the last 24 years and it's based on weapons markets and looting and kidnapping and fighting and drafting young men who are unemployed into these regional warlord militias that have existed over the last two decades. Still on the lessons from the tragedy, an NGO, African Disaster Foundation, has urged the National Assembly to amend the National Emergency Management Agency (NEMA) Act of 1999 by making provision for the establishment of local emergency management committees by the 774 local governments in the country. Seeing remoter villages have received less assistance from the provincial government, Oxfam Hong Kong will try to concentrate its efforts in the remote Zaduo County. In particular he notes: those forcibly displaced across an international border as a result of sudden-onset natural disasters, those whose territory is rendered uninhabitable as a result of environmental effects resulting from climate change, and those affected by a reduced availability of water and by a decrease in crop yields. Mali's government has been struggling to reestablish its authority over all of the west African country after a March 2012 coup in Bamako created a power vacuum that saw Al-Qaeda linked Islamists and Tuareg rebels overrun the north. The Omaheke Region also known popularly as 'Cattle Country' is home to the majority of cattle farmers in the country. This project provides necessary funds to construct a geothermal power plant in South Sumatera province, and also to test-drill geothermal wells in the area with high geothermal potential. WFP has flown from 07/01/05 to 10/01/05 prefabricated warehouses, refuelling tanks, empty bags and refuelling systems accessories from Brindisi. The seasoned police investigator said the ill-fated boat was part of an ongoing mission to establish a makeshift school at Schuckmannsburg for pupils from flood-hit Nankuntwe. \"As always, we are poorly prepared for such hazards mainly due to inadequate drainage capacity and choked water outflow channels.\". With the help of humanitarian agencies and the World Food Program, the country has cobbled together a relief plan that includes the distribution of donated foods, therapeutic feeding programs as well as subsidized sales of staple goods. These include wanton killings, summary executions, forced participation in military operations - including the use of children to detonate bombs, forced labour, forced marriage and sexual violence, including rape,\" High Commissioner Zeid said. The institute, under the aegis of the union ministry of human resources development has tied up with the University of Massachussets, Dartmouth, and set up a Centre for Oceans, Rivers, Atmosphere and Land (CORAL) that will eventually build a Tsunami Warning System for the Indian Ocean. In an effort to support the rehabilitation of community health centres, IOM's Medical Team in Banda Aceh continues to work closely with officials of the Ministry of Health to identify suitable locations for the five community health centres which IOM has agreed to build and equip, as well as provide training to medical staff and administrators. (e) From 60 June to 7 August, 10,909 refugees have returned under UNHCR's voluntary repatriation exercise. But shockingly the students found their school had been turned into a refugee center sheltering more than 2,000 people. Following a request by the Liberian authorities, a plane specially chartered by Swiss Humanitarian Aid will leave Zurich airport in the evening of Monday 1 September bound for Monrovia. It represented a significant step towards greater participation by the East Timorese in government and shared political responsibility. When the project ends early next year, deep tube wells will also have been built for seven communities, with the organisation also working with local people to promote hygiene. In these two provinces, the floods have destroyed a majority of the families' rice and vegetable farms. Governing Party wins Local Elections -- The President's Sri Lanka Freedom Party (SLFP) secured a landslide victory in the March 30 local elections, winning 222 of 264 local council elections. The Epi Info VHF tool is specifically designed for outbreaks of viral hemorrhagic fevers such as Ebola, Marburg, Rift Valley, Lassa and Crimean-Congo hemorrhagic fevers. By Sunday 27 July, the JRCS mobilised over 3,000 blankets, 1,200 daily relief kits, and 1,400 family kits (containing basic hygiene items and tinned food items) for distribution. Harassment of NGOs and U.N. staff by both the Taliban and the Northern Alliance has ranged from property theft and arbitrary taxes\" on humanitarian goods to beatings, detention, and killings.</td>\n",
       "    </tr>\n",
       "    <tr>\n",
       "      <th>12106</th>\n",
       "      <td>Almost 50 houses have been destroyed in basti jam gulab pahore and in basti ghulam haidar pahore. We have not received any compensation against the damage. Chief Minister-Punjab has given us one quilt only.Children are getting sick due to winter.</td>\n",
       "    </tr>\n",
       "  </tbody>\n",
       "</table>\n",
       "</div>"
      ],
      "text/plain": [
       "                                                                                                                                                                                                                                                                                                                                                                                                                                                                                                                                                                                                                                                                                                                                                                                                                                                                                                                                                                                                                                                                                                                                                                                                                                                                                                                                                                                                                                                                                                                                                                                                                                                                                                                                                                                                                                                                                                                                                                                                                                                                                                                                                                                                                                                                                                                                                                                                                                                                                                                                                                                                                                                                                                                                                                                                                                                                                                                                                                                                                                                                                                                                                                                                                                                                                                                                                                                                                                                                                                                                                                                                                                                                                                                                                                                                                                                                                                                                                                                                                                                                                                                                                                                                                                                                                                                                                                                                                                                                                                                                                                                                                                                                                                                                                                                                                                                                                                                                                                                                                                                                                                                                                                                                                                                                                                                                                                                                                                                                                                                                                                                                                                                                                                                                                                                                                                                                                                                                                                                                                                                                                                                                                                                                                                                                                                                                                                                                                                                                                                                                                                                                                                                                                                                                                                                                                                                                                                                                                                                                                                                                                                                                                                                                                                       message\n",
       "727    need some help please we ar at carrefour pernier please verify location. ..                                                                                                                                                                                                                                                                                                                                                                                                                                                                                                                                                                                                                                                                                                                                                                                                                                                                                                                                                                                                                                                                                                                                                                                                                                                                                                                                                                                                                                                                                                                                                                                                                                                                                                                                                                                                                                                                                                                                                                                                                                                                                                                                                                                                                                                                                                                                                                                                                                                                                                                                                                                                                                                                                                                                                                                                                                                                                                                                                                                                                                                                                                                                                                                                                                                                                                                                                                                                                                                                                                                                                                                                                                                                                                                                                                                                                                                                                                                                                                                                                                                                                                                                                                                                                                                                                                                                                                                                                                                                                                                                                                                                                                                                                                                                                                                                                                                                                                                                                                                                                                                                                                                                                                                                                                                                                                                                                                                                                                                                                                                                                                                                                                                                                                                                                                                                                                                                                                                                                                                                                                                                                                                                                                                                                                                                                                                                                                                                                                                                                                                                                                                                                                                                                                                                                                                                                                                                                                                                                                                                                                                                                                                                                            \n",
       "14713  World Vision has mobilised its entire international network to help, both in the relief work across the affected countries and in raising vital funds. Volunteers, many from local Christian Aid partner organisations, used loud speakers, hand-held sirens and hoisted flags to warn remote communities of the approaching storm, which sent a million people fleeing to evacuation centres. To cope with the situation, communities in Buhera District (Manicaland Province) are reportedly illegally selling mopane trees, aggravating deforestation. LUCKNOW: At least 27 people perished in heavy rains lashing large parts of Uttar Pradesh since Sunday evening, pushing the death count in the state this monsoon season to 73. The northern and eastern parts of the country received less rain in the past northeastern monsoon and expect inter monsoonal showers these days. Regarding the media's enquiries about the case of The Association of Chinese Evangelical Ministry, a charitable organisation in Hong Kong, which encountered difficulty in delivering relief materials to Sichuan, the Bureau first learned about the difficulties faced by the association on July 22.                                                                                                                                                                                                                                                                                                                                                                                                                                                                                                                                                                                                                                                                                                                                                                                                                                                                                                                                                                                                                                                                                                                                                                                                                                                                                                                                                                                                                                                                                                                                                                                                                                                                                                                                                                                                                                                                                                                                                                                                                                                                                                                                                                                                                                                                                                                                                                                                                                                                                                                                                                                                                                                                                                                                                                                                                                                                                                                                                                                                                                                                                                                                                                                                                                                                                                                                                                                                                                                                                                                                                                                                                                                                                                                                                                                                                                                                                                                                                                                                                                                                                                                                                                                                                                                                                                                                                                                                                                                                                                                                                                                                                                                                                                                                                                                                                                                                                                                                                                                                                                                                                                                                                                                                                                                                                                                                                                                                                                                                                                                                                                                                                                                                                                                                                                                                                                                                                                                                                                                                                                      \n",
       "16598  aided schools located in Tsunami affected areas.                                                                                                                                                                                                                                                                                                                                                                                                                                                                                                                                                                                                                                                                                                                                                                                                                                                                                                                                                                                                                                                                                                                                                                                                                                                                                                                                                                                                                                                                                                                                                                                                                                                                                                                                                                                                                                                                                                                                                                                                                                                                                                                                                                                                                                                                                                                                                                                                                                                                                                                                                                                                                                                                                                                                                                                                                                                                                                                                                                                                                                                                                                                                                                                                                                                                                                                                                                                                                                                                                                                                                                                                                                                                                                                                                                                                                                                                                                                                                                                                                                                                                                                                                                                                                                                                                                                                                                                                                                                                                                                                                                                                                                                                                                                                                                                                                                                                                                                                                                                                                                                                                                                                                                                                                                                                                                                                                                                                                                                                                                                                                                                                                                                                                                                                                                                                                                                                                                                                                                                                                                                                                                                                                                                                                                                                                                                                                                                                                                                                                                                                                                                                                                                                                                                                                                                                                                                                                                                                                                                                                                                                                                                                                                                       \n",
       "19363  It is difficult to assess what all of this means just yet because of the deliberate disinformation and the poor quality of official data. Residents caught unaware by the heavy rains were forced to wade through shoulder-high muddy water or paddle boats to dry land. Those same tensions undermine the legitimacy of highly democratic regimes-states permitting openly competitive politics, guaranteeing free speech and assembly, and limiting police power. Rescue workers toiled through the night using portable generators and high-voltage lamps to pull charred bodies from the wreckage and prevent looting, Saiki said. The annual economic loss caused by tornadoes and severe thunder storms is perhaps second only to that of the annual floods. People at risk were evac uated immediately. As part of our role as the international humanitarian community's lead for logisitics, WFP is providing storage facilities in Nawabshah, Badin, Makli, Badin, Hyderabad, and Sanghar. Later, an explosion destroyed the outer shell of the reactor building above the containment on 14 March. Routine immunization is supposed to cover measles, polio, Hepatitis B, Haemophilus influenza type B, diphtheria, pertussis, tetanus and tuberculosis. The government made this decision against the background that there had been frequent crossfires between GAM members and government troops since the first round of peace talks ended in Helsinki, Finland, last January, said Widodo after convening a coordination meeting on the conflicts in Aceh province. Can adequate sanitary facilities be provided to prevent illness among the survivors?. The primary water supply system, linked to an electrical grid, remains out of order. Incessant rain since Sunday night has left hundreds of Indian and Nepali pilgrims stranded at the temple, he added. While progress had been made, he continued to call on Palestinians to end incitement against Israel, and reiterate that America did not accept the legitimacy of continued Israeli settlements. With regard to air assets, the three helicopters operated by the JLOC have ended their mission and the Buffalo fixed-wing aeroplane will stop on 27 April. For 10 days Nadia kept a bedside vigil, to no avail. The first is a war economy, which has functioned for the last 24 years and it's based on weapons markets and looting and kidnapping and fighting and drafting young men who are unemployed into these regional warlord militias that have existed over the last two decades. Still on the lessons from the tragedy, an NGO, African Disaster Foundation, has urged the National Assembly to amend the National Emergency Management Agency (NEMA) Act of 1999 by making provision for the establishment of local emergency management committees by the 774 local governments in the country. Seeing remoter villages have received less assistance from the provincial government, Oxfam Hong Kong will try to concentrate its efforts in the remote Zaduo County. In particular he notes: those forcibly displaced across an international border as a result of sudden-onset natural disasters, those whose territory is rendered uninhabitable as a result of environmental effects resulting from climate change, and those affected by a reduced availability of water and by a decrease in crop yields. Mali's government has been struggling to reestablish its authority over all of the west African country after a March 2012 coup in Bamako created a power vacuum that saw Al-Qaeda linked Islamists and Tuareg rebels overrun the north. The Omaheke Region also known popularly as 'Cattle Country' is home to the majority of cattle farmers in the country. This project provides necessary funds to construct a geothermal power plant in South Sumatera province, and also to test-drill geothermal wells in the area with high geothermal potential. WFP has flown from 07/01/05 to 10/01/05 prefabricated warehouses, refuelling tanks, empty bags and refuelling systems accessories from Brindisi. The seasoned police investigator said the ill-fated boat was part of an ongoing mission to establish a makeshift school at Schuckmannsburg for pupils from flood-hit Nankuntwe. \"As always, we are poorly prepared for such hazards mainly due to inadequate drainage capacity and choked water outflow channels.\". With the help of humanitarian agencies and the World Food Program, the country has cobbled together a relief plan that includes the distribution of donated foods, therapeutic feeding programs as well as subsidized sales of staple goods. These include wanton killings, summary executions, forced participation in military operations - including the use of children to detonate bombs, forced labour, forced marriage and sexual violence, including rape,\" High Commissioner Zeid said. The institute, under the aegis of the union ministry of human resources development has tied up with the University of Massachussets, Dartmouth, and set up a Centre for Oceans, Rivers, Atmosphere and Land (CORAL) that will eventually build a Tsunami Warning System for the Indian Ocean. In an effort to support the rehabilitation of community health centres, IOM's Medical Team in Banda Aceh continues to work closely with officials of the Ministry of Health to identify suitable locations for the five community health centres which IOM has agreed to build and equip, as well as provide training to medical staff and administrators. (e) From 60 June to 7 August, 10,909 refugees have returned under UNHCR's voluntary repatriation exercise. But shockingly the students found their school had been turned into a refugee center sheltering more than 2,000 people. Following a request by the Liberian authorities, a plane specially chartered by Swiss Humanitarian Aid will leave Zurich airport in the evening of Monday 1 September bound for Monrovia. It represented a significant step towards greater participation by the East Timorese in government and shared political responsibility. When the project ends early next year, deep tube wells will also have been built for seven communities, with the organisation also working with local people to promote hygiene. In these two provinces, the floods have destroyed a majority of the families' rice and vegetable farms. Governing Party wins Local Elections -- The President's Sri Lanka Freedom Party (SLFP) secured a landslide victory in the March 30 local elections, winning 222 of 264 local council elections. The Epi Info VHF tool is specifically designed for outbreaks of viral hemorrhagic fevers such as Ebola, Marburg, Rift Valley, Lassa and Crimean-Congo hemorrhagic fevers. By Sunday 27 July, the JRCS mobilised over 3,000 blankets, 1,200 daily relief kits, and 1,400 family kits (containing basic hygiene items and tinned food items) for distribution. Harassment of NGOs and U.N. staff by both the Taliban and the Northern Alliance has ranged from property theft and arbitrary taxes\" on humanitarian goods to beatings, detention, and killings.\n",
       "12106  Almost 50 houses have been destroyed in basti jam gulab pahore and in basti ghulam haidar pahore. We have not received any compensation against the damage. Chief Minister-Punjab has given us one quilt only.Children are getting sick due to winter.                                                                                                                                                                                                                                                                                                                                                                                                                                                                                                                                                                                                                                                                                                                                                                                                                                                                                                                                                                                                                                                                                                                                                                                                                                                                                                                                                                                                                                                                                                                                                                                                                                                                                                                                                                                                                                                                                                                                                                                                                                                                                                                                                                                                                                                                                                                                                                                                                                                                                                                                                                                                                                                                                                                                                                                                                                                                                                                                                                                                                                                                                                                                                                                                                                                                                                                                                                                                                                                                                                                                                                                                                                                                                                                                                                                                                                                                                                                                                                                                                                                                                                                                                                                                                                                                                                                                                                                                                                                                                                                                                                                                                                                                                                                                                                                                                                                                                                                                                                                                                                                                                                                                                                                                                                                                                                                                                                                                                                                                                                                                                                                                                                                                                                                                                                                                                                                                                                                                                                                                                                                                                                                                                                                                                                                                                                                                                                                                                                                                                                                                                                                                                                                                                                                                                                                                                                                                                                                                                                                 "
      ]
     },
     "execution_count": 19,
     "metadata": {},
     "output_type": "execute_result"
    }
   ],
   "source": [
    "# look at sample of messages with more than 20 active categories\n",
    "eda.loc[(eda['total'] > 10)][['message']].sample(5)"
   ]
  },
  {
   "cell_type": "code",
   "execution_count": 20,
   "metadata": {},
   "outputs": [
    {
     "data": {
      "text/plain": [
       "news      199\n",
       "direct    139\n",
       "social    22 \n",
       "Name: genre, dtype: int64"
      ]
     },
     "execution_count": 20,
     "metadata": {},
     "output_type": "execute_result"
    }
   ],
   "source": [
    "# check genre of these outliers\n",
    "eda_outliers['genre'].value_counts()"
   ]
  },
  {
   "cell_type": "code",
   "execution_count": 21,
   "metadata": {},
   "outputs": [
    {
     "name": "stderr",
     "output_type": "stream",
     "text": [
      "/opt/conda/lib/python3.6/site-packages/ipykernel_launcher.py:4: SettingWithCopyWarning: \n",
      "A value is trying to be set on a copy of a slice from a DataFrame.\n",
      "Try using .loc[row_indexer,col_indexer] = value instead\n",
      "\n",
      "See the caveats in the documentation: http://pandas.pydata.org/pandas-docs/stable/indexing.html#indexing-view-versus-copy\n",
      "  after removing the cwd from sys.path.\n",
      "/opt/conda/lib/python3.6/site-packages/ipykernel_launcher.py:5: SettingWithCopyWarning: \n",
      "A value is trying to be set on a copy of a slice from a DataFrame.\n",
      "Try using .loc[row_indexer,col_indexer] = value instead\n",
      "\n",
      "See the caveats in the documentation: http://pandas.pydata.org/pandas-docs/stable/indexing.html#indexing-view-versus-copy\n",
      "  \"\"\"\n"
     ]
    },
    {
     "data": {
      "image/png": "[encoded data removed]",
      "text/plain": [
       "<matplotlib.figure.Figure at 0x7f45b25aeef0>"
      ]
     },
     "metadata": {
      "needs_background": "light"
     },
     "output_type": "display_data"
    }
   ],
   "source": [
    "# check for correlation between message length (in words) and number of active categories\n",
    "\n",
    "# generate necessary columns\n",
    "eda_categorized['n_categories'] = eda_categorized['total'] -1 # remove 'related' from count\n",
    "eda_categorized['message_length'] = eda_categorized['message'].apply(lambda x : len(x.split())) # get message length\n",
    "\n",
    "# plot the results\n",
    "plt.figure(figsize=(12,8))\n",
    "plt.scatter(eda_categorized['message_length'], eda_categorized['n_categories'], color=color);"
   ]
  },
  {
   "cell_type": "code",
   "execution_count": 22,
   "metadata": {},
   "outputs": [
    {
     "data": {
      "text/html": [
       "<div>\n",
       "<style>\n",
       "    .dataframe thead tr:only-child th {\n",
       "        text-align: right;\n",
       "    }\n",
       "\n",
       "    .dataframe thead th {\n",
       "        text-align: left;\n",
       "    }\n",
       "\n",
       "    .dataframe tbody tr th {\n",
       "        vertical-align: top;\n",
       "    }\n",
       "</style>\n",
       "<table border=\"1\" class=\"dataframe\">\n",
       "  <thead>\n",
       "    <tr style=\"text-align: right;\">\n",
       "      <th></th>\n",
       "      <th>n_categories</th>\n",
       "      <th>message_length</th>\n",
       "    </tr>\n",
       "  </thead>\n",
       "  <tbody>\n",
       "    <tr>\n",
       "      <th>n_categories</th>\n",
       "      <td>1.000000</td>\n",
       "      <td>0.177893</td>\n",
       "    </tr>\n",
       "    <tr>\n",
       "      <th>message_length</th>\n",
       "      <td>0.177893</td>\n",
       "      <td>1.000000</td>\n",
       "    </tr>\n",
       "  </tbody>\n",
       "</table>\n",
       "</div>"
      ],
      "text/plain": [
       "                n_categories  message_length\n",
       "n_categories    1.000000      0.177893      \n",
       "message_length  0.177893      1.000000      "
      ]
     },
     "execution_count": 22,
     "metadata": {},
     "output_type": "execute_result"
    }
   ],
   "source": [
    "# print pearson's r for the two columns\n",
    "eda_categorized[['n_categories', 'message_length']].corr() "
   ]
  },
  {
   "cell_type": "code",
   "execution_count": 23,
   "metadata": {},
   "outputs": [
    {
     "name": "stdout",
     "output_type": "stream",
     "text": [
      "all messages   5.172004\n",
      "all related messages   4.129097\n",
      "all aid related messages   5.827702\n",
      "all infrastructure related messages   7.821637\n",
      "all weather related messages   5.906287\n"
     ]
    }
   ],
   "source": [
    "# check mean length of different groups of messages\n",
    "print('all messages   {:6f}'.format(eda_categorized['total'].mean()))\n",
    "print('all related messages   {:6f}'.format(eda.loc[eda['related'] == 1]['total'].mean()))\n",
    "print('all aid related messages   {:6f}'.format(eda.loc[eda['aid_related'] == 1]['total'].mean()))\n",
    "print('all infrastructure related messages   {:6f}'.format(eda.loc[eda['infrastructure_related'] == 1]['total'].mean()))\n",
    "print('all weather related messages   {:6f}'.format(eda.loc[eda['weather_related'] == 1]['total'].mean()))"
   ]
  },
  {
   "cell_type": "markdown",
   "metadata": {},
   "source": [
    "__Observations__: The Distribution of the 'oultier messages' is not very different from the total distribution and the correlation between message length and number of categories is positive but weak. It seems, that the long messages are mostly reports, probably by professional staff (NGOs, Journalists etc.) and not calls for help."
   ]
  },
  {
   "cell_type": "markdown",
   "metadata": {},
   "source": [
    "### Check influence of column 'genre'"
   ]
  },
  {
   "cell_type": "code",
   "execution_count": 24,
   "metadata": {},
   "outputs": [
    {
     "name": "stdout",
     "output_type": "stream",
     "text": [
      "overall   0.773825\n"
     ]
    },
    {
     "data": {
      "text/plain": [
       "genre\n",
       "direct    0.692370\n",
       "news      0.820057\n",
       "social    0.889126\n",
       "Name: related, dtype: float64"
      ]
     },
     "execution_count": 24,
     "metadata": {},
     "output_type": "execute_result"
    }
   ],
   "source": [
    "# check proportion of related messages per genre\n",
    "print('overall   {:6f}'.format(eda['related'].mean()))\n",
    "eda.groupby('genre') ['related'].mean()"
   ]
  },
  {
   "cell_type": "code",
   "execution_count": 25,
   "metadata": {},
   "outputs": [
    {
     "name": "stdout",
     "output_type": "stream",
     "text": [
      "overall   5.172004\n"
     ]
    },
    {
     "data": {
      "text/plain": [
       "genre\n",
       "direct    5.458752\n",
       "news      5.060497\n",
       "social    4.778875\n",
       "Name: total, dtype: float64"
      ]
     },
     "execution_count": 25,
     "metadata": {},
     "output_type": "execute_result"
    }
   ],
   "source": [
    "# check mean number of categories for related messages per genre\n",
    "print('overall   {:6f}'.format(eda_categorized['total'].mean()))\n",
    "eda_categorized.groupby('genre') ['total'].mean()"
   ]
  },
  {
   "cell_type": "code",
   "execution_count": 26,
   "metadata": {},
   "outputs": [
    {
     "data": {
      "image/png": "[encoded data removed]",
      "text/plain": [
       "<matplotlib.figure.Figure at 0x7f45b1847dd8>"
      ]
     },
     "metadata": {},
     "output_type": "display_data"
    }
   ],
   "source": [
    "# check influence of main categories on genre (or vice versa)\n",
    "\n",
    "# create dataframes for plotting\n",
    "eda_aid = eda.loc[eda['aid_related'] == 1]\n",
    "eda_infra = eda.loc[eda['infrastructure_related'] == 1]\n",
    "eda_weather = eda.loc[eda['weather_related'] == 1]\n",
    "# plot the results\n",
    "plt.figure(figsize=(16,4))\n",
    "i = 0\n",
    "for df, label in [(eda_aid, 'aid'), (eda_infra, 'infra'), (eda_weather, 'weather')]:\n",
    "    i += 1\n",
    "    plt.subplot(1,3, i)\n",
    "    plt.title(label)\n",
    "    df['genre'].value_counts().plot.pie(cmap='viridis');"
   ]
  },
  {
   "cell_type": "markdown",
   "metadata": {},
   "source": [
    "__Observations__\n",
    "- There are significantly less disaster related messages in genre direct than in genres news and especially social\n",
    "- the mean number of categories per message is around 5 for all genres, interesingly it is going down the more messages are related.\n",
    "- The proportions of the different genres differ within the main categories.\n",
    "\n",
    "__Conclusion / Decision:__ \n",
    "- The information in `genre` could most probably help to train a classifier, but for the purpose of this project (web app to classify plain text inputs) it won't help, so it will be dropped.\n",
    "- Further the `id` and `original`columns will be dropped too."
   ]
  },
  {
   "cell_type": "markdown",
   "metadata": {},
   "source": [
    "## Split into features an target variables"
   ]
  },
  {
   "cell_type": "code",
   "execution_count": 39,
   "metadata": {},
   "outputs": [],
   "source": [
    "X_train = train['message'].values\n",
    "y_train = train.iloc[:, 4:40].values\n",
    "\n",
    "X_test = test['message'].values\n",
    "y_test = test.iloc[:, 4:40].values"
   ]
  },
  {
   "cell_type": "code",
   "execution_count": 28,
   "metadata": {},
   "outputs": [
    {
     "data": {
      "text/plain": [
       "array([ \"To determine possible evolution of the eruptive crisis of the Nyiragongo, it's necessary to improve the monitoring of the volcano, in particularly to add seismometers and to install tiltmeters to measure the ground deformation around the volcano.\",\n",
       "       'Over 25 people in line at Starbucks . People need coffee as much as they need food and gas post #Sandy ( @Starbucks ) http : //t.co/T7G3fBJg'], dtype=object)"
      ]
     },
     "execution_count": 28,
     "metadata": {},
     "output_type": "execute_result"
    }
   ],
   "source": [
    "#check\n",
    "X_train[:2]"
   ]
  },
  {
   "cell_type": "code",
   "execution_count": 29,
   "metadata": {},
   "outputs": [
    {
     "data": {
      "text/plain": [
       "array([[1, 0, 0, 0, 0, 0, 0, 0, 0, 0, 0, 0, 0, 0, 0, 0, 0, 0, 0, 0, 0, 0,\n",
       "        0, 0, 0, 0, 0, 0, 1, 0, 0, 1, 0, 0, 1, 0],\n",
       "       [1, 1, 0, 1, 0, 0, 0, 0, 0, 0, 0, 1, 0, 0, 0, 0, 0, 0, 1, 0, 0, 0,\n",
       "        0, 0, 0, 0, 0, 0, 0, 0, 0, 0, 0, 0, 0, 0]])"
      ]
     },
     "execution_count": 29,
     "metadata": {},
     "output_type": "execute_result"
    }
   ],
   "source": [
    "#check\n",
    "y_train[:2]"
   ]
  },
  {
   "cell_type": "markdown",
   "metadata": {},
   "source": [
    "### 2. Write a tokenization function to process your text data"
   ]
  },
  {
   "cell_type": "code",
   "execution_count": 35,
   "metadata": {},
   "outputs": [],
   "source": [
    "def tokenize_text(message):\n",
    "\n",
    "    lemmatizer = WordNetLemmatizer()\n",
    "    stop_words = stopwords.words('english')\n",
    "    \n",
    "    # normalize case and remove punctuation\n",
    "    message = re.sub(r\"[^a-zA-Z0-9]\", \" \", message.lower())\n",
    "    # tokenize text\n",
    "    tokens = word_tokenize(message)\n",
    "    # lemmatize and remove stop words\n",
    "    tokens = [lemmatizer.lemmatize(word.strip()) for word in tokens if word not in stop_words]\n",
    "    # add part-of-speech tags\n",
    "    tokens = pos_tag(tokens)\n",
    "    \n",
    "    return tokens"
   ]
  },
  {
   "cell_type": "code",
   "execution_count": 36,
   "metadata": {},
   "outputs": [
    {
     "name": "stdout",
     "output_type": "stream",
     "text": [
      "To determine possible evolution of the eruptive crisis of the Nyiragongo, it's necessary to improve the monitoring of the volcano, in particularly to add seismometers and to install tiltmeters to measure the ground deformation around the volcano.\n",
      "[('determine', 'NN'), ('possible', 'JJ'), ('evolution', 'NN'), ('eruptive', 'JJ'), ('crisis', 'NN'), ('nyiragongo', 'NN'), ('necessary', 'JJ'), ('improve', 'VB'), ('monitoring', 'NN'), ('volcano', 'NN'), ('particularly', 'RB'), ('add', 'JJ'), ('seismometers', 'NNS'), ('install', 'VBP'), ('tiltmeters', 'NNS'), ('measure', 'VBP'), ('ground', 'NN'), ('deformation', 'NN'), ('around', 'IN'), ('volcano', 'NN')] \n",
      "\n",
      "Over 25 people in line at Starbucks . People need coffee as much as they need food and gas post #Sandy ( @Starbucks ) http : //t.co/T7G3fBJg\n",
      "[('25', 'CD'), ('people', 'NNS'), ('line', 'NN'), ('starbucks', 'VBZ'), ('people', 'NNS'), ('need', 'VBP'), ('coffee', 'NN'), ('much', 'JJ'), ('need', 'NN'), ('food', 'NN'), ('gas', 'NN'), ('post', 'NN'), ('sandy', 'NN'), ('starbucks', 'NNS'), ('http', 'VBP'), ('co', 'NN'), ('t7g3fbjg', 'NN')] \n",
      "\n"
     ]
    }
   ],
   "source": [
    "for message in X_train[:2]:\n",
    "    tokens = tokenize_text(message)\n",
    "    print(message)\n",
    "    print(tokens, '\\n')"
   ]
  },
  {
   "cell_type": "markdown",
   "metadata": {},
   "source": [
    "### 3. Build a machine learning pipeline\n",
    "Use sk-learn's [MultiOutputClassifier](http://scikit-learn.org/stable/modules/generated/sklearn.multioutput.MultiOutputClassifier.html) ([example here](https://scikit-learn.org/stable/modules/multiclass.html#multioutput-classification))"
   ]
  },
  {
   "cell_type": "code",
   "execution_count": 41,
   "metadata": {},
   "outputs": [],
   "source": [
    "# define the classifier, wrapped in MultiOutputClassifier\n",
    "clf = RandomForestClassifier(n_estimators=100, random_state=1)\n",
    "\n",
    "# build the pipeline\n",
    "pipe = Pipeline([\n",
    "    ('vect', CountVectorizer(tokenizer=tokenize_text)),\n",
    "    ('tfidf', TfidfTransformer()),\n",
    "    ('clf', MultiOutputClassifier(clf, n_jobs=-1, verbose=1)),\n",
    "              ])\n",
    "\n",
    "# train the pipeline\n",
    "pipe.fit(X_train, y_train)"
   ]
  },
  {
   "cell_type": "code",
   "execution_count": 40,
   "metadata": {},
   "outputs": [],
   "source": [
    "y_pred = pipe.predict(X_test)"
   ]
  },
  {
   "cell_type": "markdown",
   "metadata": {},
   "source": [
    "### 5. Test your model\n",
    "Report the f1 score, precision and recall for each output category of the dataset. You can do this by iterating through the columns and calling sklearn's `classification_report` on each."
   ]
  },
  {
   "cell_type": "code",
   "execution_count": 55,
   "metadata": {},
   "outputs": [
    {
     "ename": "ValueError",
     "evalue": "Unknown label type: (array([[1, 1, 1, ..., 1, 1, 1],\n       [0, 0, 1, ..., 1, 0, 1],\n       [0, 0, 0, ..., 0, 0, 0],\n       ..., \n       [1, 0, 0, ..., 0, 0, 0],\n       [0, 0, 1, ..., 0, 0, 0],\n       [1, 0, 1, ..., 1, 0, 1]]), array([[1, 1, 1, ..., 1, 1, 1],\n       [0, 0, 0, ..., 0, 0, 1],\n       [0, 0, 0, ..., 0, 0, 0],\n       ..., \n       [0, 0, 0, ..., 0, 0, 0],\n       [0, 0, 0, ..., 0, 0, 0],\n       [0, 0, 0, ..., 0, 0, 1]]))",
     "output_type": "error",
     "traceback": [
      "\u001b[0;31m---------------------------------------------------------------------------\u001b[0m",
      "\u001b[0;31mValueError\u001b[0m                                Traceback (most recent call last)",
      "\u001b[0;32m<ipython-input-55-c0b25f7c148b>\u001b[0m in \u001b[0;36m<module>\u001b[0;34m()\u001b[0m\n\u001b[1;32m      2\u001b[0m \u001b[0;34m\u001b[0m\u001b[0m\n\u001b[1;32m      3\u001b[0m \u001b[0;32mfor\u001b[0m \u001b[0mcol\u001b[0m \u001b[0;32min\u001b[0m \u001b[0my_test\u001b[0m\u001b[0;34m.\u001b[0m\u001b[0mT\u001b[0m\u001b[0;34m:\u001b[0m\u001b[0;34m\u001b[0m\u001b[0m\n\u001b[0;32m----> 4\u001b[0;31m     \u001b[0mprint\u001b[0m\u001b[0;34m(\u001b[0m\u001b[0mclassification_report\u001b[0m\u001b[0;34m(\u001b[0m\u001b[0my_test\u001b[0m\u001b[0;34m.\u001b[0m\u001b[0mT\u001b[0m\u001b[0;34m,\u001b[0m \u001b[0my_pred\u001b[0m\u001b[0;34m.\u001b[0m\u001b[0mT\u001b[0m\u001b[0;34m,\u001b[0m \u001b[0mtarget_names\u001b[0m\u001b[0;34m=\u001b[0m\u001b[0mcategory_list\u001b[0m\u001b[0;34m)\u001b[0m\u001b[0;34m)\u001b[0m\u001b[0;34m\u001b[0m\u001b[0m\n\u001b[0m",
      "\u001b[0;32m/opt/conda/lib/python3.6/site-packages/sklearn/metrics/classification.py\u001b[0m in \u001b[0;36mclassification_report\u001b[0;34m(y_true, y_pred, labels, target_names, sample_weight, digits)\u001b[0m\n\u001b[1;32m   1419\u001b[0m \u001b[0;34m\u001b[0m\u001b[0m\n\u001b[1;32m   1420\u001b[0m     \u001b[0;32mif\u001b[0m \u001b[0mlabels\u001b[0m \u001b[0;32mis\u001b[0m \u001b[0;32mNone\u001b[0m\u001b[0;34m:\u001b[0m\u001b[0;34m\u001b[0m\u001b[0m\n\u001b[0;32m-> 1421\u001b[0;31m         \u001b[0mlabels\u001b[0m \u001b[0;34m=\u001b[0m \u001b[0munique_labels\u001b[0m\u001b[0;34m(\u001b[0m\u001b[0my_true\u001b[0m\u001b[0;34m,\u001b[0m \u001b[0my_pred\u001b[0m\u001b[0;34m)\u001b[0m\u001b[0;34m\u001b[0m\u001b[0m\n\u001b[0m\u001b[1;32m   1422\u001b[0m     \u001b[0;32melse\u001b[0m\u001b[0;34m:\u001b[0m\u001b[0;34m\u001b[0m\u001b[0m\n\u001b[1;32m   1423\u001b[0m         \u001b[0mlabels\u001b[0m \u001b[0;34m=\u001b[0m \u001b[0mnp\u001b[0m\u001b[0;34m.\u001b[0m\u001b[0masarray\u001b[0m\u001b[0;34m(\u001b[0m\u001b[0mlabels\u001b[0m\u001b[0;34m)\u001b[0m\u001b[0;34m\u001b[0m\u001b[0m\n",
      "\u001b[0;32m/opt/conda/lib/python3.6/site-packages/sklearn/utils/multiclass.py\u001b[0m in \u001b[0;36munique_labels\u001b[0;34m(*ys)\u001b[0m\n\u001b[1;32m     95\u001b[0m     \u001b[0m_unique_labels\u001b[0m \u001b[0;34m=\u001b[0m \u001b[0m_FN_UNIQUE_LABELS\u001b[0m\u001b[0;34m.\u001b[0m\u001b[0mget\u001b[0m\u001b[0;34m(\u001b[0m\u001b[0mlabel_type\u001b[0m\u001b[0;34m,\u001b[0m \u001b[0;32mNone\u001b[0m\u001b[0;34m)\u001b[0m\u001b[0;34m\u001b[0m\u001b[0m\n\u001b[1;32m     96\u001b[0m     \u001b[0;32mif\u001b[0m \u001b[0;32mnot\u001b[0m \u001b[0m_unique_labels\u001b[0m\u001b[0;34m:\u001b[0m\u001b[0;34m\u001b[0m\u001b[0m\n\u001b[0;32m---> 97\u001b[0;31m         \u001b[0;32mraise\u001b[0m \u001b[0mValueError\u001b[0m\u001b[0;34m(\u001b[0m\u001b[0;34m\"Unknown label type: %s\"\u001b[0m \u001b[0;34m%\u001b[0m \u001b[0mrepr\u001b[0m\u001b[0;34m(\u001b[0m\u001b[0mys\u001b[0m\u001b[0;34m)\u001b[0m\u001b[0;34m)\u001b[0m\u001b[0;34m\u001b[0m\u001b[0m\n\u001b[0m\u001b[1;32m     98\u001b[0m \u001b[0;34m\u001b[0m\u001b[0m\n\u001b[1;32m     99\u001b[0m     \u001b[0mys_labels\u001b[0m \u001b[0;34m=\u001b[0m \u001b[0mset\u001b[0m\u001b[0;34m(\u001b[0m\u001b[0mchain\u001b[0m\u001b[0;34m.\u001b[0m\u001b[0mfrom_iterable\u001b[0m\u001b[0;34m(\u001b[0m\u001b[0m_unique_labels\u001b[0m\u001b[0;34m(\u001b[0m\u001b[0my\u001b[0m\u001b[0;34m)\u001b[0m \u001b[0;32mfor\u001b[0m \u001b[0my\u001b[0m \u001b[0;32min\u001b[0m \u001b[0mys\u001b[0m\u001b[0;34m)\u001b[0m\u001b[0;34m)\u001b[0m\u001b[0;34m\u001b[0m\u001b[0m\n",
      "\u001b[0;31mValueError\u001b[0m: Unknown label type: (array([[1, 1, 1, ..., 1, 1, 1],\n       [0, 0, 1, ..., 1, 0, 1],\n       [0, 0, 0, ..., 0, 0, 0],\n       ..., \n       [1, 0, 0, ..., 0, 0, 0],\n       [0, 0, 1, ..., 0, 0, 0],\n       [1, 0, 1, ..., 1, 0, 1]]), array([[1, 1, 1, ..., 1, 1, 1],\n       [0, 0, 0, ..., 0, 0, 1],\n       [0, 0, 0, ..., 0, 0, 0],\n       ..., \n       [0, 0, 0, ..., 0, 0, 0],\n       [0, 0, 0, ..., 0, 0, 0],\n       [0, 0, 0, ..., 0, 0, 1]]))"
     ]
    }
   ],
   "source": [
    "category_list = train.iloc[:, 4:40].columns\n",
    "\n",
    "for col in y_test.T:\n",
    "    print(classification_report(y_test.T, y_pred.T, target_names=category_list))"
   ]
  },
  {
   "cell_type": "code",
   "execution_count": null,
   "metadata": {},
   "outputs": [],
   "source": [
    "def get_eval_metrics(actual, predicted, col_names):\n",
    "    \"\"\"Calculate evaluation metrics for ML model\n",
    "    \n",
    "    Args:\n",
    "    actual: array. Array containing actual labels.\n",
    "    predicted: array. Array containing predicted labels.\n",
    "    col_names: list of strings. List containing names for each of the predicted fields.\n",
    "       \n",
    "    Returns:\n",
    "    metrics_df: dataframe. Dataframe containing the accuracy, precision, recall \n",
    "    and f1 score for a given set of actual and predicted labels.\n",
    "    \"\"\"\n",
    "    metrics = []\n",
    "    \n",
    "    # Calculate evaluation metrics for each set of labels\n",
    "    for i in range(len(col_names)):\n",
    "        accuracy = accuracy_score(actual[:, i], predicted[:, i])\n",
    "        precision = precision_score(actual[:, i], predicted[:, i])\n",
    "        recall = recall_score(actual[:, i], predicted[:, i])\n",
    "        f1 = f1_score(actual[:, i], predicted[:, i])\n",
    "        \n",
    "        metrics.append([accuracy, precision, recall, f1])\n",
    "    \n",
    "    # Create dataframe containing metrics\n",
    "    metrics = np.array(metrics)\n",
    "    metrics_df = pd.DataFrame(data = metrics, index = col_names, columns = ['Accuracy', 'Precision', 'Recall', 'F1'])\n",
    "      \n",
    "    return metrics_df"
   ]
  },
  {
   "cell_type": "code",
   "execution_count": null,
   "metadata": {},
   "outputs": [],
   "source": [
    "def evaluate_model(model, X_test, Y_test, category_names):\n",
    "\n",
    "    \n",
    "\n",
    "    # predict on test data\n",
    "\n",
    "    y_pred = model.predict(X_test)\n",
    "\n",
    "    \n",
    "\n",
    "    accuracy = []\n",
    "\n",
    "\n",
    "\n",
    "    y_testData = pd.DataFrame(Y_test)\n",
    "\n",
    "    y_predData = pd.DataFrame(y_pred)\n",
    "\n",
    "\n",
    "\n",
    "    for col in range(len(y_testData.columns)):\n",
    "\n",
    "        accuracy.append(accuracy_score(y_testData[col],y_predData[col]))\n",
    "\n",
    " \t\t\n",
    "\n",
    "    target_colums = (category_names.iloc[:,4:].columns).tolist()\n",
    "\n",
    "\t\n",
    "\n",
    "    acc_score = pd.DataFrame(accuracy,columns=['Accuracy_score'], index=target_colums)\n",
    "\n",
    "\t\n",
    "\n",
    "    target_names = (category_names.iloc[:,4:].columns).tolist()\n",
    "\n",
    "\t\n",
    "\n",
    "    output = classification_report(Y_test, y_pred, target_names=target_names)\n",
    "\n",
    "\t\n",
    "\n",
    "    print(\"Accuracy for each category:\\n\")\n",
    "\n",
    "    print(acc_score)\n",
    "\n",
    "    \n",
    "\n",
    "    print(\"\\n\\nPrecision,recall, f1-score and support for each category:\\n\")\n",
    "\n",
    "    print(output)"
   ]
  },
  {
   "cell_type": "markdown",
   "metadata": {},
   "source": [
    "### 6. Improve your model\n",
    "Use grid search to find better parameters. "
   ]
  },
  {
   "cell_type": "code",
   "execution_count": null,
   "metadata": {},
   "outputs": [],
   "source": [
    "parameters = \n",
    "\n",
    "cv = "
   ]
  },
  {
   "cell_type": "markdown",
   "metadata": {},
   "source": [
    "### 7. Test your model\n",
    "Show the accuracy, precision, and recall of the tuned model.  \n",
    "\n",
    "Since this project focuses on code quality, process, and  pipelines, there is no minimum performance metric needed to pass. However, make sure to fine tune your models for accuracy, precision and recall to make your project stand out - especially for your portfolio!"
   ]
  },
  {
   "cell_type": "code",
   "execution_count": null,
   "metadata": {},
   "outputs": [],
   "source": []
  },
  {
   "cell_type": "markdown",
   "metadata": {},
   "source": [
    "### 8. Try improving your model further. Here are a few ideas:\n",
    "* try other machine learning algorithms\n",
    "* add other features besides the TF-IDF"
   ]
  },
  {
   "cell_type": "code",
   "execution_count": null,
   "metadata": {},
   "outputs": [],
   "source": []
  },
  {
   "cell_type": "markdown",
   "metadata": {},
   "source": [
    "### 9. Export your model as a pickle file"
   ]
  },
  {
   "cell_type": "code",
   "execution_count": null,
   "metadata": {},
   "outputs": [],
   "source": []
  },
  {
   "cell_type": "markdown",
   "metadata": {},
   "source": [
    "### 10. Use this notebook to complete `train.py`\n",
    "Use the template file attached in the Resources folder to write a script that runs the steps above to create a database and export a model based on a new dataset specified by the user."
   ]
  },
  {
   "cell_type": "code",
   "execution_count": null,
   "metadata": {},
   "outputs": [],
   "source": []
  },
  {
   "cell_type": "markdown",
   "metadata": {},
   "source": [
    "- to do: concatenate one hot encoded genre with text\n",
    "- eventually length and total categories to"
   ]
  }
 ],
 "metadata": {
  "kernelspec": {
   "display_name": "Python 3",
   "language": "python",
   "name": "python3"
  },
  "language_info": {
   "codemirror_mode": {
    "name": "ipython",
    "version": 3
   },
   "file_extension": ".py",
   "mimetype": "text/x-python",
   "name": "python",
   "nbconvert_exporter": "python",
   "pygments_lexer": "ipython3",
   "version": "3.6.3"
  }
 },
 "nbformat": 4,
 "nbformat_minor": 2
}
