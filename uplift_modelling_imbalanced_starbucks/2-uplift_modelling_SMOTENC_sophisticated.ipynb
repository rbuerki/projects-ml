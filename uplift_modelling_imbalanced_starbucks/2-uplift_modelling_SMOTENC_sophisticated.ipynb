{
 "cells": [
  {
   "cell_type": "markdown",
   "metadata": {
    "toc": true
   },
   "source": [
    "<h1>Table of Contents<span class=\"tocSkip\"></span></h1>\n",
    "<div class=\"toc\"><ul class=\"toc-item\"><li><span><a href=\"#Prepare-Data\" data-toc-modified-id=\"Prepare-Data-1\"><span class=\"toc-item-num\">1&nbsp;&nbsp;</span>Prepare Data</a></span></li><li><span><a href=\"#Step-1:-Try-to-identify-regular-buyers-with-help-of-control-group\" data-toc-modified-id=\"Step-1:-Try-to-identify-regular-buyers-with-help-of-control-group-2\"><span class=\"toc-item-num\">2&nbsp;&nbsp;</span>Step 1: Try to identify regular buyers with help of control group</a></span><ul class=\"toc-item\"><li><span><a href=\"#Model\" data-toc-modified-id=\"Model-2.1\"><span class=\"toc-item-num\">2.1&nbsp;&nbsp;</span>Model</a></span></li><li><span><a href=\"#Evaluate-Model\" data-toc-modified-id=\"Evaluate-Model-2.2\"><span class=\"toc-item-num\">2.2&nbsp;&nbsp;</span>Evaluate Model</a></span></li><li><span><a href=\"#Tuning-with-Precision-Recall-Curve---NOT-POSSIBLE-IN-THIS-CASE\" data-toc-modified-id=\"Tuning-with-Precision-Recall-Curve---NOT-POSSIBLE-IN-THIS-CASE-2.3\"><span class=\"toc-item-num\">2.3&nbsp;&nbsp;</span>Tuning with Precision-Recall-Curve - NOT POSSIBLE IN THIS CASE</a></span></li></ul></li></ul></div>"
   ]
  },
  {
   "cell_type": "markdown",
   "metadata": {},
   "source": [
    "# Uplift Modelling Exercise: Starbucks\n",
    "\n",
    "\n",
    "\n",
    "(Note: A good blogpost giving an oversight over general uplift strategies using the same data can be found [here](https://medium.com/datadriveninvestor/simple-machine-learning-techniques-to-improve-your-marketing-strategy-demystifying-uplift-models-dc4fb3f927a2)).\n",
    "\n",
    "**Main learnings from this notebook**\n",
    "\n",
    "- oversampling with categorical features only works with SMOTENC\n",
    "- sampling does not work within sklearn pipelines, you must use imblearns own Pipline class\n",
    "- you can pass feature labels into the pipeline, but the SMOTENC sampler needs the indices of the cat features\n",
    "\n",
    " \n",
    "**Background Information**\n",
    "\n",
    "The dataset in this exercise was originally used as a take-home assignment provided by Starbucks for their job candidates. The data for this exercise consists of about 120,000 data points split in a 2:1 ratio among training and test files. In the experiment simulated by the data, an advertising promotion was tested to see if it would bring more customers to purchase a specific product priced at $10. Since it costs the company 0.15 to send out each promotion, it would be best to limit that promotion only to those that are most receptive to the promotion. Each data point includes one column indicating whether or not an individual was sent a promotion for the product, and one column indicating whether or not that individual eventually purchased that product. Each individual also has seven additional features associated with them, which are provided abstractly as V1-V7.\n",
    "\n",
    "The main point of this implementation was to create a pipeline that oversamples the minority target class with SMOTENC (see [here](https://imbalanced-learn.readthedocs.io/en/stable/generated/imblearn.over_sampling.SMOTENC.html)) and selects an appropriate classifier. Without much further tuning the benchmark metrics could be matched / beaten.\n",
    "\n",
    "**Optimization Strategy**\n",
    "\n",
    "The task is to use the training data to understand what patterns in V1-V7 indicate that a promotion should be provided to a user. Specifically, the goal is to maximize the following metrics:\n",
    "\n",
    "- **Incremental Response Rate (IRR)** \n",
    "\n",
    "IRR depicts how many more customers purchased the product with the promotion, as compared to if they didn't receive the promotion. Mathematically, it's the ratio of the number of purchasers in the promotion group to the total number of customers in the promotion group (_treatment_) minus the ratio of the number of purchasers in the non-promotional group to the total number of customers in the non-promotional group (_control_).\n",
    "\n",
    "$$ IRR = \\frac{purch_{treat}}{cust_{treat}} - \\frac{purch_{ctrl}}{cust_{ctrl}} $$\n",
    "\n",
    "\n",
    "- **Net Incremental Revenue (NIR)**\n",
    "\n",
    "NIR depicts how much is made (or lost) by sending out the promotion. Mathematically, this is 10 times the total number of purchasers that received the promotion minus 0.15 times the number of promotions sent out, minus 10 times the number of purchasers who were not given the promotion.\n",
    "\n",
    "$$ NIR = (10\\cdot purch_{treat} - 0.15 \\cdot cust_{treat}) - 10 \\cdot purch_{ctrl}$$\n",
    "\n",
    "For a full description of what Starbucks provides to candidates see the [instructions available here](https://drive.google.com/open?id=18klca9Sef1Rs6q8DW4l7o349r8B70qXM).\n",
    "\n",
    "\n",
    "**Strategy Evaluation**\n",
    "\n",
    "The strategy can be evaluated with the `test_results` function.  There are four possible outomes:\n",
    "\n",
    "Table of actual promotion vs. predicted promotion customers:  \n",
    "\n",
    "<table>\n",
    "<tr><th></th><th colspan = '2'>Actual</th></tr>\n",
    "<tr><th>Predicted</th><th>Yes</th><th>No</th></tr>\n",
    "<tr><th>Yes</th><td>I</td><td>II</td></tr>\n",
    "<tr><th>No</th><td>III</td><td>IV</td></tr>\n",
    "</table>\n",
    "\n",
    "The metrics are only being compared for the individuals we predict should obtain the promotion – that is, quadrants I and II.  Since the first set of individuals that receive the promotion (in the training set) receive it randomly, we can expect that quadrants I and II will have approximately equivalent participants.  Comparing quadrant I to II then gives an idea of how well the promotion strategy will work in the future. "
   ]
  },
  {
   "cell_type": "code",
   "execution_count": 41,
   "metadata": {
    "ExecuteTime": {
     "end_time": "2019-09-12T14:25:05.483666Z",
     "start_time": "2019-09-12T14:25:05.452421Z"
    }
   },
   "outputs": [],
   "source": [
    "# Import libraries\n",
    "import numpy as np\n",
    "import pandas as pd\n",
    "from tqdm import tqdm\n",
    "import time\n",
    "\n",
    "from sklearn.model_selection import GridSearchCV, cross_validate, \\\n",
    "        StratifiedKFold, train_test_split\n",
    "from sklearn.pipeline import FeatureUnion  # the actual pipe is imported from imblearn, see below\n",
    "from sklearn.metrics import make_scorer, classification_report, \\\n",
    "        confusion_matrix, fbeta_score, precision_recall_curve\n",
    "from sklearn.base import BaseEstimator, TransformerMixin\n",
    "from sklearn.preprocessing import StandardScaler, OneHotEncoder, LabelEncoder \n",
    "from sklearn.linear_model import LogisticRegression, SGDClassifier\n",
    "from sklearn.naive_bayes import MultinomialNB\n",
    "from sklearn.ensemble import RandomForestClassifier, GradientBoostingClassifier\n",
    "\n",
    "# pipeline caching\n",
    "from tempfile import mkdtemp\n",
    "from shutil import rmtree\n",
    "from sklearn.utils import Memory\n",
    "\n",
    "# my custom functions\n",
    "import EDA_functions as EDA\n",
    "import cleaning_functions as cleaning\n",
    "import custom_transformers as transform\n",
    "\n",
    "from imblearn.over_sampling import SMOTENC # can handle cat variables\n",
    "from imblearn.pipeline import Pipeline  \n",
    "\n",
    "import matplotlib.pyplot as plt\n",
    "import seaborn as sns\n",
    "%matplotlib inline\n",
    "color='rebeccapurple'"
   ]
  },
  {
   "cell_type": "markdown",
   "metadata": {},
   "source": [
    "more infos on why `imblearn.pipeline` [here](https://stackoverflow.com/questions/49770851/customized-transformermixin-with-data-labels-in-sklearn/49771602#49771602)"
   ]
  },
  {
   "cell_type": "code",
   "execution_count": 7,
   "metadata": {
    "ExecuteTime": {
     "end_time": "2019-09-12T13:52:29.026888Z",
     "start_time": "2019-09-12T13:52:28.907251Z"
    }
   },
   "outputs": [],
   "source": [
    "# Load the data\n",
    "train = pd.read_csv('data/training.csv')"
   ]
  },
  {
   "cell_type": "code",
   "execution_count": 3,
   "metadata": {
    "ExecuteTime": {
     "end_time": "2019-09-12T13:43:52.051710Z",
     "start_time": "2019-09-12T13:43:52.006350Z"
    }
   },
   "outputs": [
    {
     "data": {
      "text/html": [
       "<div>\n",
       "<style scoped>\n",
       "    .dataframe tbody tr th:only-of-type {\n",
       "        vertical-align: middle;\n",
       "    }\n",
       "\n",
       "    .dataframe tbody tr th {\n",
       "        vertical-align: top;\n",
       "    }\n",
       "\n",
       "    .dataframe thead th {\n",
       "        text-align: right;\n",
       "    }\n",
       "</style>\n",
       "<table border=\"1\" class=\"dataframe\">\n",
       "  <thead>\n",
       "    <tr style=\"text-align: right;\">\n",
       "      <th></th>\n",
       "      <th>ID</th>\n",
       "      <th>Promotion</th>\n",
       "      <th>purchase</th>\n",
       "      <th>V1</th>\n",
       "      <th>V2</th>\n",
       "      <th>V3</th>\n",
       "      <th>V4</th>\n",
       "      <th>V5</th>\n",
       "      <th>V6</th>\n",
       "      <th>V7</th>\n",
       "    </tr>\n",
       "  </thead>\n",
       "  <tbody>\n",
       "    <tr>\n",
       "      <td>79764</td>\n",
       "      <td>119039</td>\n",
       "      <td>No</td>\n",
       "      <td>0</td>\n",
       "      <td>1</td>\n",
       "      <td>18.354225</td>\n",
       "      <td>1.432250</td>\n",
       "      <td>2</td>\n",
       "      <td>2</td>\n",
       "      <td>2</td>\n",
       "      <td>2</td>\n",
       "    </tr>\n",
       "    <tr>\n",
       "      <td>59555</td>\n",
       "      <td>88733</td>\n",
       "      <td>Yes</td>\n",
       "      <td>0</td>\n",
       "      <td>1</td>\n",
       "      <td>32.692856</td>\n",
       "      <td>0.393317</td>\n",
       "      <td>2</td>\n",
       "      <td>3</td>\n",
       "      <td>4</td>\n",
       "      <td>1</td>\n",
       "    </tr>\n",
       "    <tr>\n",
       "      <td>45378</td>\n",
       "      <td>67494</td>\n",
       "      <td>No</td>\n",
       "      <td>0</td>\n",
       "      <td>1</td>\n",
       "      <td>33.107859</td>\n",
       "      <td>0.826206</td>\n",
       "      <td>2</td>\n",
       "      <td>2</td>\n",
       "      <td>2</td>\n",
       "      <td>2</td>\n",
       "    </tr>\n",
       "    <tr>\n",
       "      <td>38262</td>\n",
       "      <td>56881</td>\n",
       "      <td>No</td>\n",
       "      <td>0</td>\n",
       "      <td>2</td>\n",
       "      <td>34.413043</td>\n",
       "      <td>1.172517</td>\n",
       "      <td>1</td>\n",
       "      <td>1</td>\n",
       "      <td>3</td>\n",
       "      <td>2</td>\n",
       "    </tr>\n",
       "    <tr>\n",
       "      <td>1018</td>\n",
       "      <td>1509</td>\n",
       "      <td>Yes</td>\n",
       "      <td>0</td>\n",
       "      <td>1</td>\n",
       "      <td>26.581578</td>\n",
       "      <td>-0.126150</td>\n",
       "      <td>1</td>\n",
       "      <td>1</td>\n",
       "      <td>2</td>\n",
       "      <td>2</td>\n",
       "    </tr>\n",
       "  </tbody>\n",
       "</table>\n",
       "</div>"
      ],
      "text/plain": [
       "           ID Promotion  purchase  V1         V2        V3  V4  V5  V6  V7\n",
       "79764  119039        No         0   1  18.354225  1.432250   2   2   2   2\n",
       "59555   88733       Yes         0   1  32.692856  0.393317   2   3   4   1\n",
       "45378   67494        No         0   1  33.107859  0.826206   2   2   2   2\n",
       "38262   56881        No         0   2  34.413043  1.172517   1   1   3   2\n",
       "1018     1509       Yes         0   1  26.581578 -0.126150   1   1   2   2"
      ]
     },
     "execution_count": 3,
     "metadata": {},
     "output_type": "execute_result"
    }
   ],
   "source": [
    "train.sample(5)"
   ]
  },
  {
   "cell_type": "code",
   "execution_count": 4,
   "metadata": {
    "ExecuteTime": {
     "end_time": "2019-09-12T12:19:59.885118Z",
     "start_time": "2019-09-12T12:19:59.847038Z"
    }
   },
   "outputs": [
    {
     "name": "stdout",
     "output_type": "stream",
     "text": [
      "<class 'pandas.core.frame.DataFrame'>\n",
      "RangeIndex: 84534 entries, 0 to 84533\n",
      "Data columns (total 10 columns):\n",
      "ID           84534 non-null int64\n",
      "Promotion    84534 non-null object\n",
      "purchase     84534 non-null int64\n",
      "V1           84534 non-null int64\n",
      "V2           84534 non-null float64\n",
      "V3           84534 non-null float64\n",
      "V4           84534 non-null int64\n",
      "V5           84534 non-null int64\n",
      "V6           84534 non-null int64\n",
      "V7           84534 non-null int64\n",
      "dtypes: float64(2), int64(7), object(1)\n",
      "memory usage: 6.4+ MB\n"
     ]
    }
   ],
   "source": [
    "train.info()"
   ]
  },
  {
   "cell_type": "markdown",
   "metadata": {},
   "source": [
    "## Prepare Data\n",
    "\n",
    "General EDA is documented in notebook 1. The approach here is more specific."
   ]
  },
  {
   "cell_type": "code",
   "execution_count": 4,
   "metadata": {
    "ExecuteTime": {
     "end_time": "2019-09-12T13:45:42.176846Z",
     "start_time": "2019-09-12T13:45:42.052852Z"
    }
   },
   "outputs": [],
   "source": [
    "# Make a copy of training set for EDA purpose\n",
    "eda = train.copy()"
   ]
  },
  {
   "cell_type": "code",
   "execution_count": 15,
   "metadata": {
    "ExecuteTime": {
     "end_time": "2019-09-12T13:56:08.735524Z",
     "start_time": "2019-09-12T13:56:08.689481Z"
    }
   },
   "outputs": [
    {
     "name": "stdout",
     "output_type": "stream",
     "text": [
      "Proportion of customers not treated with promo: 49.89%, (n=42170)\n"
     ]
    }
   ],
   "source": [
    "# Separate treated group from control group\n",
    "eda_no = eda.loc[eda['Promotion'] == 'No']\n",
    "eda_yes = eda.loc[eda['Promotion'] == 'Yes']\n",
    "\n",
    "print(\"Proportion of customers not treated with promo: {:.2f}%, (n={})\".format(\n",
    "        (len(eda_no) / len(eda) * 100), len(eda_no)))"
   ]
  },
  {
   "cell_type": "code",
   "execution_count": 29,
   "metadata": {
    "ExecuteTime": {
     "end_time": "2019-09-12T14:03:33.567783Z",
     "start_time": "2019-09-12T14:03:33.529208Z"
    }
   },
   "outputs": [
    {
     "name": "stdout",
     "output_type": "stream",
     "text": [
      "Proportion of purchases in control group: 0.76%, (n=319)\n",
      "Proportion of purchases in control group: 1.70%, (n=721)\n"
     ]
    }
   ],
   "source": [
    "print(\"Proportion of purchases in control group: {:.2f}%, (n={})\".format(\n",
    "        round((eda_no['purchase'].value_counts()[1] / len(eda_no)*100), 4), \n",
    "        eda_no['purchase'].value_counts()[1]))\n",
    "print(\"Proportion of purchases in control group: {:.2f}%, (n={})\".format(\n",
    "        round((eda_yes['purchase'].value_counts()[1] / len(eda_yes)*100), 4), \n",
    "        eda_yes['purchase'].value_counts()[1]))\n"
   ]
  },
  {
   "cell_type": "markdown",
   "metadata": {},
   "source": [
    "## Step 1: Try to identify regular buyers with help of control group"
   ]
  },
  {
   "cell_type": "code",
   "execution_count": 33,
   "metadata": {
    "ExecuteTime": {
     "end_time": "2019-09-12T14:12:11.833976Z",
     "start_time": "2019-09-12T14:12:11.773177Z"
    }
   },
   "outputs": [],
   "source": [
    "# Define function to clean dataframes according to notebook 1\n",
    "\n",
    "def clean_dataframe(df, treatment=None):\n",
    "    if treatment is 'yes':\n",
    "        df_clean = df.loc[df['Promotion'] == 'Yes']\n",
    "    if treatment is 'no':\n",
    "        df_clean = df.loc[df['Promotion'] == 'No']\n",
    "    else:\n",
    "        df_clean = df\n",
    "    \n",
    "    colsToCat = [\"Promotion\", \"V1\", \"V4\", \"V5\", \"V6\", \"V7\"]\n",
    "    df_clean = cleaning.change_dtypes(df_clean, cols_to_category=colsToCat)\n",
    "    df_clean.drop(['ID', 'Promotion'], axis=1, inplace=True)\n",
    "    \n",
    "    return df_clean"
   ]
  },
  {
   "cell_type": "code",
   "execution_count": 36,
   "metadata": {
    "ExecuteTime": {
     "end_time": "2019-09-12T14:17:15.052432Z",
     "start_time": "2019-09-12T14:17:14.990675Z"
    }
   },
   "outputs": [
    {
     "data": {
      "text/plain": [
       "(42170, 8)"
      ]
     },
     "execution_count": 36,
     "metadata": {},
     "output_type": "execute_result"
    }
   ],
   "source": [
    "train_no = clean_dataframe(train, treatment='no')\n",
    "\n",
    "# Check result\n",
    "train_no.shape"
   ]
  },
  {
   "cell_type": "code",
   "execution_count": 37,
   "metadata": {
    "ExecuteTime": {
     "end_time": "2019-09-12T14:17:43.559063Z",
     "start_time": "2019-09-12T14:17:43.543290Z"
    }
   },
   "outputs": [],
   "source": [
    "# Define function to separate target variable from features\n",
    "\n",
    "def create_Xy(df, target_col):\n",
    "    \"\"\"Seprate target variable from features.\"\"\"\n",
    "\n",
    "    y = df[target_col].copy()\n",
    "    X = df.drop(target_col, axis=1)\n",
    "    \n",
    "    return X, y"
   ]
  },
  {
   "cell_type": "code",
   "execution_count": 38,
   "metadata": {
    "ExecuteTime": {
     "end_time": "2019-09-12T14:18:10.603249Z",
     "start_time": "2019-09-12T14:18:10.575211Z"
    }
   },
   "outputs": [
    {
     "name": "stdout",
     "output_type": "stream",
     "text": [
      "(42170, 7)\n",
      "(42170,)\n"
     ]
    }
   ],
   "source": [
    "# Call function an check results\n",
    "X, y = create_Xy(train_no, 'purchase')\n",
    "print(X.shape)\n",
    "print(y.shape)"
   ]
  },
  {
   "cell_type": "code",
   "execution_count": 42,
   "metadata": {
    "ExecuteTime": {
     "end_time": "2019-09-12T14:25:20.656889Z",
     "start_time": "2019-09-12T14:25:20.611784Z"
    }
   },
   "outputs": [],
   "source": [
    "# Split train and test sets with stratified sampling\n",
    "X_train, X_test, y_train, y_test = train_test_split(X, y, test_size=0.25, \n",
    "                                                    random_state=666, stratify=y)"
   ]
  },
  {
   "cell_type": "code",
   "execution_count": 44,
   "metadata": {
    "ExecuteTime": {
     "end_time": "2019-09-12T14:26:03.250985Z",
     "start_time": "2019-09-12T14:26:03.217176Z"
    }
   },
   "outputs": [
    {
     "name": "stdout",
     "output_type": "stream",
     "text": [
      "PURCHASE in % of total: 0.0076\n"
     ]
    }
   ],
   "source": [
    "# Safety check distribution of target labels in y_train\n",
    "print(\"PURCHASE in % of total: {:4.4f}\".format(np.sum(y_train) / len(y_train)))"
   ]
  },
  {
   "cell_type": "markdown",
   "metadata": {
    "ExecuteTime": {
     "end_time": "2019-09-12T14:44:47.338963Z",
     "start_time": "2019-09-12T14:44:47.297549Z"
    }
   },
   "source": [
    "### Model"
   ]
  },
  {
   "cell_type": "code",
   "execution_count": 45,
   "metadata": {
    "ExecuteTime": {
     "end_time": "2019-09-12T14:26:47.962499Z",
     "start_time": "2019-09-12T14:26:47.932320Z"
    }
   },
   "outputs": [],
   "source": [
    "def build_pipe(X_train, y_train, clf, sampler):\n",
    "    \"\"\"Build a pipeline for preprocessing (including oversampling)\n",
    "    and classification.\n",
    "    \n",
    "    Arguments:\n",
    "    ----------\n",
    "    - X_train: training features (df or array\n",
    "    - y_train: training labels (df or array)\n",
    "    - clf: classifier (sk-learn model object)\n",
    "    - sampler: sampler (imblearn sampling class)\n",
    "        \n",
    "    Returns:\n",
    "    --------\n",
    "    - full_pipe: pipeline object\n",
    "    \"\"\"\n",
    "    \n",
    "    # Create temporary folder to store pipeline transformers (cache)\n",
    "    cachedir = mkdtemp()\n",
    "    memory = Memory(location=cachedir, verbose=1)\n",
    "    \n",
    "    full_pipe = Pipeline([\n",
    "    ('features', FeatureUnion([\n",
    "\n",
    "        ('cat', Pipeline([\n",
    "            ('cat_select', transform.TypeSelector('category')),\n",
    "            ('ohe', OneHotEncoder(categories='auto')),\n",
    "        ])),\n",
    "\n",
    "#         ('num', Pipeline([\n",
    "#             ('num_select', transform.TypeSelector(np.number)),\n",
    "#             ('scaling', StandardScaler()),\n",
    "#         ])),\n",
    "    ])),\n",
    "        ('sample', sampler),\n",
    "        ('clf', clf)],\n",
    "        \n",
    "    memory=memory)\n",
    "    \n",
    "    return full_pipe\n"
   ]
  },
  {
   "cell_type": "code",
   "execution_count": 70,
   "metadata": {
    "ExecuteTime": {
     "end_time": "2019-09-12T15:09:45.999887Z",
     "start_time": "2019-09-12T15:09:45.984287Z"
    }
   },
   "outputs": [
    {
     "name": "stderr",
     "output_type": "stream",
     "text": [
      "C:\\Users\\r2d4\\Anaconda3\\lib\\site-packages\\sklearn\\utils\\deprecation.py:66: DeprecationWarning: Class Memory is deprecated; deprecated in version 0.20.1 to be removed in version 0.23. Please import this functionality directly from joblib, which can be installed with: pip install joblib.\n",
      "  warnings.warn(msg, category=DeprecationWarning)\n"
     ]
    }
   ],
   "source": [
    "# Call the function and build the pipeline\n",
    "\n",
    "clf = LogisticRegression()\n",
    "sampler = SMOTENC(categorical_features=[0,3,4,5,6], n_jobs=-1)\n",
    "\n",
    "full_pipe = build_pipe(X_train, y_train, clf, sampler)"
   ]
  },
  {
   "cell_type": "code",
   "execution_count": 48,
   "metadata": {
    "ExecuteTime": {
     "end_time": "2019-09-12T14:36:33.365422Z",
     "start_time": "2019-09-12T14:36:33.321945Z"
    }
   },
   "outputs": [],
   "source": [
    "def fit_pipe(X_train, y_train, pipe, scorer, cv=StratifiedKFold(3)):\n",
    "    \"\"\"Fit training data to a pipeline with GridSearchCV\n",
    "    for best parameter tuning.\n",
    "    \n",
    "    Arguments:\n",
    "    ----------\n",
    "    - X_train: training features (df or array)\n",
    "    - y_train: training labels (df or array)\n",
    "    - pipe: pipeline (sk-learn pipeline object)\n",
    "    - scorer: evaluation metric for validation\n",
    "    - cv: type of CV, default is StratifiedKFold(3)\n",
    "        \n",
    "    RETURNS:\n",
    "    - grid: grid search object\n",
    "    - grid_results: dict with grid search results\n",
    "    \"\"\"\n",
    "    parameters = {'clf' : ((GradientBoostingClassifier(n_estimators=200, \n",
    "                                                       random_state=666)),\n",
    "                          (GradientBoostingClassifier(n_estimators=300, \n",
    "                                                      random_state=666)),\n",
    "                          (GradientBoostingClassifier(n_estimators=500, \n",
    "                                                      max_depth=5, \n",
    "                                                      learning_rate=0.05,\n",
    "                                                      random_state=666)),\n",
    "                          )}\n",
    "    \n",
    "    start = time.time()\n",
    "\n",
    "    cv = GridSearchCV(pipe, param_grid=parameters, scoring=scorer, n_jobs= -1, \n",
    "                      cv=cv, error_score='raise', return_train_score=False, verbose=1)\n",
    "\n",
    "    grid = cv.fit(X_train, y_train) \n",
    "    grid_results = grid.cv_results_\n",
    "\n",
    "    return grid, grid_results\n",
    "\n",
    "    # delete the temporary cache before exiting\n",
    "    rmtree(cachedir)\n",
    "\n",
    "    print('Duration: {} seconds'.format(time.time() - start))"
   ]
  },
  {
   "cell_type": "code",
   "execution_count": 71,
   "metadata": {
    "ExecuteTime": {
     "end_time": "2019-09-12T15:12:44.949555Z",
     "start_time": "2019-09-12T15:09:56.048223Z"
    }
   },
   "outputs": [
    {
     "name": "stdout",
     "output_type": "stream",
     "text": [
      "Fitting 3 folds for each of 3 candidates, totalling 9 fits\n"
     ]
    },
    {
     "name": "stderr",
     "output_type": "stream",
     "text": [
      "[Parallel(n_jobs=-1)]: Using backend LokyBackend with 4 concurrent workers.\n",
      "[Parallel(n_jobs=-1)]: Done   9 out of   9 | elapsed:  1.7min finished\n"
     ]
    },
    {
     "name": "stdout",
     "output_type": "stream",
     "text": [
      "________________________________________________________________________________\n",
      "[Memory] Calling imblearn.pipeline._fit_transform_one...\n",
      "_fit_transform_one(FeatureUnion(n_jobs=None,\n",
      "             transformer_list=[('cat',\n",
      "                                Pipeline(memory=None,\n",
      "                                         steps=[('cat_select',\n",
      "                                                 TypeSelector(dtype='category')),\n",
      "                                                ('ohe',\n",
      "                                                 OneHotEncoder(categorical_features=None,\n",
      "                                                               categories='auto',\n",
      "                                                               drop=None,\n",
      "                                                               dtype=<class 'numpy.float64'>,\n",
      "                                                               handle_unknown='error',\n",
      "                                                               n_values=None,\n",
      "                                                               sparse=True))],\n",
      "                                         verbose=False))],\n",
      "             transformer_weights=None, verbose=False), \n",
      "None,       V1         V2        V3 V4 V5 V6 V7\n",
      "45788  1  30.592488  1.432250  2  1  4  1\n",
      "25700  0  34.871309 -0.126150  2  2  1  2\n",
      "56738  2  31.545230 -0.212728  2  3  3  1\n",
      "13304  0  26.536765  0.479895  2  3  3  2\n",
      "73913  1  32.087049  1.432250  1  1  4  2\n",
      "...   ..        ...       ... .. .. .. ..\n",
      "66890  2  28.201891 -0.991928  2  4  3  2\n",
      "45566  0  30.358177 -0.645617  1  3  2  1\n",
      "80754  1  31.704437  0.999361  2  4  2  2\n",
      "36495  2  38.344805  1.518828  1  1  4  2\n",
      "5714   2  20.625530 -0.126150  1  3  1  1\n",
      "\n",
      "[31627 rows x 7 columns], \n",
      "45788    0\n",
      "25700    0\n",
      "56738    0\n",
      "13304    0\n",
      "73913    0\n",
      "        ..\n",
      "66890    0\n",
      "45566    0\n",
      "80754    0\n",
      "36495    0\n",
      "5714     0\n",
      "Name: purchase, Length: 31627, dtype: int64)\n",
      "________________________________________________fit_transform_one - 0.0s, 0.0min\n",
      "________________________________________________________________________________\n",
      "[Memory] Calling imblearn.pipeline._fit_resample_one...\n",
      "_fit_resample_one(SMOTENC(categorical_features=[0, 3, 4, 5, 6], k_neighbors=5, n_jobs=1,\n",
      "        random_state=None, sampling_strategy='auto'), \n",
      "<31627x16 sparse matrix of type '<class 'numpy.float64'>'\n",
      "\twith 158135 stored elements in Compressed Sparse Row format>, \n",
      "45788    0\n",
      "25700    0\n",
      "56738    0\n",
      "13304    0\n",
      "73913    0\n",
      "        ..\n",
      "66890    0\n",
      "45566    0\n",
      "80754    0\n",
      "36495    0\n",
      "5714     0\n",
      "Name: purchase, Length: 31627, dtype: int64)\n",
      "________________________________________________fit_resample_one - 37.7s, 0.6min\n"
     ]
    }
   ],
   "source": [
    "# call the function\n",
    "\n",
    "scorer = make_scorer(fbeta_score, beta=4)\n",
    "cv = 3\n",
    "\n",
    "grid, grid_results = fit_pipe(X_train, y_train, full_pipe, scorer, cv=cv)"
   ]
  },
  {
   "cell_type": "code",
   "execution_count": 72,
   "metadata": {
    "ExecuteTime": {
     "end_time": "2019-09-12T15:12:44.965063Z",
     "start_time": "2019-09-12T15:12:44.949555Z"
    }
   },
   "outputs": [],
   "source": [
    "# Define function to create simplified dataframe with results\n",
    "\n",
    "def print_grid_results(grid_results, estimator_names):\n",
    "    \"\"\"Create simplified DataFrame with grid search results. Best suited\n",
    "    for comparision of different (baseline) models.\n",
    "    \n",
    "    Arguments:\n",
    "    ----------\n",
    "    - grid_results: dict with results of grid search\n",
    "    - estimator_names: list of strings with estimator short names\n",
    "            \n",
    "    Returns:\n",
    "    --------\n",
    "    - results: DataFrame with key metrics (test scores, time) for grid search    \n",
    "    \"\"\"\n",
    "    \n",
    "    results = pd.DataFrame(grid_results)# .sort_values('mean_test_score', ascending=False)\n",
    "    results['total_time'] = results['mean_score_time'] + results['mean_fit_time']\n",
    "    results = results[['param_clf', 'mean_test_score', 'std_test_score', \n",
    "                       'total_time', 'mean_fit_time', 'mean_score_time']]\n",
    "    results.index = estimator_names\n",
    "    \n",
    "    return results"
   ]
  },
  {
   "cell_type": "code",
   "execution_count": 73,
   "metadata": {
    "ExecuteTime": {
     "end_time": "2019-09-12T15:12:45.074415Z",
     "start_time": "2019-09-12T15:12:44.965063Z"
    }
   },
   "outputs": [
    {
     "data": {
      "text/html": [
       "<div>\n",
       "<style scoped>\n",
       "    .dataframe tbody tr th:only-of-type {\n",
       "        vertical-align: middle;\n",
       "    }\n",
       "\n",
       "    .dataframe tbody tr th {\n",
       "        vertical-align: top;\n",
       "    }\n",
       "\n",
       "    .dataframe thead th {\n",
       "        text-align: right;\n",
       "    }\n",
       "</style>\n",
       "<table border=\"1\" class=\"dataframe\">\n",
       "  <thead>\n",
       "    <tr style=\"text-align: right;\">\n",
       "      <th></th>\n",
       "      <th>param_clf</th>\n",
       "      <th>mean_test_score</th>\n",
       "      <th>std_test_score</th>\n",
       "      <th>total_time</th>\n",
       "      <th>mean_fit_time</th>\n",
       "      <th>mean_score_time</th>\n",
       "    </tr>\n",
       "  </thead>\n",
       "  <tbody>\n",
       "    <tr>\n",
       "      <td>GBC1</td>\n",
       "      <td>GradientBoostingClassifier(criterion='friedman...</td>\n",
       "      <td>0.096352</td>\n",
       "      <td>0.022029</td>\n",
       "      <td>55.416286</td>\n",
       "      <td>55.324958</td>\n",
       "      <td>0.091328</td>\n",
       "    </tr>\n",
       "    <tr>\n",
       "      <td>GBC2</td>\n",
       "      <td>GradientBoostingClassifier(criterion='friedman...</td>\n",
       "      <td>0.094091</td>\n",
       "      <td>0.022374</td>\n",
       "      <td>28.027086</td>\n",
       "      <td>27.884293</td>\n",
       "      <td>0.142793</td>\n",
       "    </tr>\n",
       "    <tr>\n",
       "      <td>GBC3</td>\n",
       "      <td>([DecisionTreeRegressor(criterion='friedman_ms...</td>\n",
       "      <td>0.098413</td>\n",
       "      <td>0.015971</td>\n",
       "      <td>33.721752</td>\n",
       "      <td>33.343184</td>\n",
       "      <td>0.378568</td>\n",
       "    </tr>\n",
       "  </tbody>\n",
       "</table>\n",
       "</div>"
      ],
      "text/plain": [
       "                                              param_clf  mean_test_score  \\\n",
       "GBC1  GradientBoostingClassifier(criterion='friedman...         0.096352   \n",
       "GBC2  GradientBoostingClassifier(criterion='friedman...         0.094091   \n",
       "GBC3  ([DecisionTreeRegressor(criterion='friedman_ms...         0.098413   \n",
       "\n",
       "      std_test_score  total_time  mean_fit_time  mean_score_time  \n",
       "GBC1        0.022029   55.416286      55.324958         0.091328  \n",
       "GBC2        0.022374   28.027086      27.884293         0.142793  \n",
       "GBC3        0.015971   33.721752      33.343184         0.378568  "
      ]
     },
     "execution_count": 73,
     "metadata": {},
     "output_type": "execute_result"
    }
   ],
   "source": [
    "# Call the function and display the results\n",
    "results = print_grid_results(grid_results, estimator_names=['GBC1', 'GBC2', 'GBC3'])\n",
    "results"
   ]
  },
  {
   "cell_type": "code",
   "execution_count": 74,
   "metadata": {
    "ExecuteTime": {
     "end_time": "2019-09-12T15:12:45.090065Z",
     "start_time": "2019-09-12T15:12:45.074415Z"
    }
   },
   "outputs": [],
   "source": [
    "# Define a function for plotting the main results of the model comparision\n",
    "\n",
    "def plot_grid_results(results):\n",
    "    \"\"\"Plot copmarision of test scores and run times for cross validated\n",
    "    models.\n",
    "       \n",
    "    Arguments:\n",
    "    ----------\n",
    "    - results: dataframe generated with 'compare_models' function.\n",
    "    \n",
    "    Returns:\n",
    "    --------\n",
    "    - none, plot with visual comparision of the results for grid search\n",
    "    \"\"\"\n",
    "    \n",
    "    data = results.sort_values(by='mean_test_score', ascending=False)\n",
    "    plt.figure(figsize=(18,6));\n",
    "    plt.subplot(1,2,1)\n",
    "    # plot the mean test scores\n",
    "    sns.barplot(x='mean_test_score', y=data.index, data=data, color=\"rebeccapurple\")\n",
    "    plt.xlabel(scorer);\n",
    "    plt.subplot(1,2,2)\n",
    "    # Plot the mean total time\n",
    "    sns.set_color_codes(\"pastel\")\n",
    "    sns.barplot(x=\"total_time\", y=data.index, data=data,\n",
    "        label=\"Total\", color=\"rebeccapurple\")\n",
    "    # Plot the mean fit time\n",
    "    sns.set_color_codes(\"muted\")\n",
    "    sns.barplot(x='mean_fit_time', y=data.index, data=data,\n",
    "        label=\"Fit\", color=\"yellow\")\n",
    "    plt.xlabel(\"Time for fitting (yellow) and scoring (purple)\");"
   ]
  },
  {
   "cell_type": "code",
   "execution_count": 75,
   "metadata": {
    "ExecuteTime": {
     "end_time": "2019-09-12T15:12:45.576683Z",
     "start_time": "2019-09-12T15:12:45.090065Z"
    }
   },
   "outputs": [
    {
     "data": {
      "image/png": "[encoded data removed]",
      "text/plain": [
       "<Figure size 1296x432 with 2 Axes>"
      ]
     },
     "metadata": {
      "needs_background": "light"
     },
     "output_type": "display_data"
    }
   ],
   "source": [
    "# Call the function and display the results\n",
    "plot_grid_results(results)"
   ]
  },
  {
   "cell_type": "code",
   "execution_count": 79,
   "metadata": {
    "ExecuteTime": {
     "end_time": "2019-09-12T15:13:40.572167Z",
     "start_time": "2019-09-12T15:13:40.536759Z"
    }
   },
   "outputs": [
    {
     "name": "stdout",
     "output_type": "stream",
     "text": [
      "GradientBoostingClassifier(criterion='friedman_mse', init=None,\n",
      "                           learning_rate=0.05, loss='deviance', max_depth=5,\n",
      "                           max_features=None, max_leaf_nodes=None,\n",
      "                           min_impurity_decrease=0.0, min_impurity_split=None,\n",
      "                           min_samples_leaf=1, min_samples_split=2,\n",
      "                           min_weight_fraction_leaf=0.0, n_estimators=500,\n",
      "                           n_iter_no_change=None, presort='auto',\n",
      "                           random_state=666, subsample=1.0, tol=0.0001,\n",
      "                           validation_fraction=0.1, verbose=0,\n",
      "                           warm_start=False)\n"
     ]
    }
   ],
   "source": [
    "# Get the best estimator\n",
    "model = grid.best_estimator_\n",
    "print(model[2])"
   ]
  },
  {
   "cell_type": "markdown",
   "metadata": {},
   "source": [
    "### Evaluate Model"
   ]
  },
  {
   "cell_type": "code",
   "execution_count": 99,
   "metadata": {
    "ExecuteTime": {
     "end_time": "2019-09-12T15:37:57.269345Z",
     "start_time": "2019-09-12T15:37:56.913118Z"
    }
   },
   "outputs": [
    {
     "name": "stdout",
     "output_type": "stream",
     "text": [
      "F-Beta-Score on test data: 0.0901\n",
      "\n",
      "\n",
      "              precision    recall  f1-score   support\n",
      "\n",
      "           0       0.99      0.76      0.86     10463\n",
      "           1       0.01      0.25      0.02        80\n",
      "\n",
      "    accuracy                           0.76     10543\n",
      "   macro avg       0.50      0.51      0.44     10543\n",
      "weighted avg       0.99      0.76      0.86     10543\n",
      "\n"
     ]
    }
   ],
   "source": [
    "y_pred = model.predict(X_test)\n",
    "\n",
    "# Evaluate predictions \n",
    "fBetaFinal = fbeta_score(y_test, y_pred, beta = 4) \n",
    "print(\"F-Beta-Score on test data: {:.4f}\".format(fBetaFinal))\n",
    "print(\"\\n\")\n",
    "print(classification_report(y_test, y_pred))"
   ]
  },
  {
   "cell_type": "code",
   "execution_count": 81,
   "metadata": {
    "ExecuteTime": {
     "end_time": "2019-09-12T15:14:04.736023Z",
     "start_time": "2019-09-12T15:14:04.693544Z"
    }
   },
   "outputs": [],
   "source": [
    "# Define a function to plot the confusion matrix and some metrics\n",
    "\n",
    "def plot_confusion_matrix(y_test, test_preds):\n",
    "    \"\"\"Plot confusion matrix and print detailed metrics for evaluated\n",
    "    model.\"\"\"\n",
    "\n",
    "    conf_matrix = confusion_matrix(y_test, test_preds)\n",
    "    tn, fp, fn, tp = conf_matrix.ravel()\n",
    "\n",
    "    label_names = np.sort(y.unique())\n",
    "    sns.heatmap(conf_matrix.T, square=True, annot=True, fmt='d',\n",
    "                cbar=False, xticklabels=label_names,\n",
    "                yticklabels=label_names)\n",
    "    plt.xlabel('true label')\n",
    "    plt.ylabel('predicted label')\n",
    "    plt.ylim([0,2])\n",
    "\n",
    "    for value, name in {tp: \"True positives\",\n",
    "                        fp: \"False positives\",\n",
    "                        tn: \"True negatives\",\n",
    "                        fn: \"False negatives\",\n",
    "                        }.items():\n",
    "        print(\"{}: {} ({:.2f}%)\".format(name, value,\n",
    "                                        value / conf_matrix.sum() * 100))\n",
    "    print(\"\\nProportion of misclassified instances in total:\",\n",
    "          round((fp+fn) / (tp+fp+tn+fn), 2))\n",
    "    print(\"Typ I error (Number of items wrongly identified as \" +\n",
    "          \"positive out of total true negatives):\", round(fp/(tn+fp), 2))\n",
    "    print(\"Type II error (Number of items wrongly identified as \" +\n",
    "          \"negative out of total true positives):\", round(fn/(tp+fn), 2))"
   ]
  },
  {
   "cell_type": "code",
   "execution_count": 82,
   "metadata": {
    "ExecuteTime": {
     "end_time": "2019-09-12T15:14:06.107638Z",
     "start_time": "2019-09-12T15:14:05.924721Z"
    }
   },
   "outputs": [
    {
     "name": "stdout",
     "output_type": "stream",
     "text": [
      "True positives: 20 (0.19%)\n",
      "False positives: 2472 (23.45%)\n",
      "True negatives: 7991 (75.79%)\n",
      "False negatives: 60 (0.57%)\n",
      "\n",
      "Proportion of misclassified instances in total: 0.24\n",
      "Typ I error (Number of items wrongly identified as positive out of total true negatives): 0.24\n",
      "Type II error (Number of items wrongly identified as negative out of total true positives): 0.75\n"
     ]
    },
    {
     "data": {
      "image/png": "[encoded data removed]",
      "text/plain": [
       "<Figure size 432x288 with 1 Axes>"
      ]
     },
     "metadata": {
      "needs_background": "light"
     },
     "output_type": "display_data"
    }
   ],
   "source": [
    "plot_confusion_matrix(y_test, y_pred)"
   ]
  },
  {
   "cell_type": "markdown",
   "metadata": {},
   "source": [
    "### Tuning with Precision-Recall-Curve - NOT POSSIBLE IN THIS CASE\n",
    "\n",
    "One of the best methods for tuning a model for a _business need_ is through the precision recall curve. This shows the precision-recall tradeoff for different thresholds. Depending on the business requirement, we can change the threshold for classifying a positive example to alter the balance of true positives, false positives, false negatives, and true negatives. There will always be a tradeoff between precision and recall, but we can try to find the right balance by visually and quantitatively assessing the model. ([Source](https://github.com/Featuretools/predict-customer-churn/blob/master/churn/5.%20Modeling.ipynb))\n",
    "\n",
    "- **precision**: true positives / (true positives + false positives) - how many of my model's identified positives are correct\n",
    "- **recall (sensivity)**: true positives / (true positives + false negatives) - how many of the positives are correctly identified as positive\n",
    "\n",
    "Examples:\n",
    "- for a model where false positives acceptable, false negatives not acceptable (medical model): high recall\n",
    "- for a model where false positives not acceptable, false negatives acceptable (spam filter): high precision\n",
    "\n",
    "In our case we should should have a high precision, but with the model performance we have this is not possible."
   ]
  },
  {
   "cell_type": "code",
   "execution_count": 111,
   "metadata": {
    "ExecuteTime": {
     "end_time": "2019-09-12T15:47:06.357026Z",
     "start_time": "2019-09-12T15:47:06.325667Z"
    }
   },
   "outputs": [],
   "source": [
    "# Define a function for returning precision and recall\n",
    "\n",
    "def return_precision_recall(y_test, probs, threshold_recall=None, figsize=(12,6)):\n",
    "    \"\"\"Plot a precision recall curve for predictions. \n",
    "        \n",
    "    Arguments:\n",
    "    ----------\n",
    "    - y_test: 1D-array, actual labels of test set\n",
    "    - probs: 2D-array, probabilities for negative and positive outcome\n",
    "        for predicted labels\n",
    "    - threshold_recall: float, proportion of actual positive class to\n",
    "        be identified by the model (default=None)\n",
    "    - figsize: tuple, size of the plot (default=(12,6))\n",
    "\n",
    "    Returns:\n",
    "    --------\n",
    "    - prec_recall_df: dataframe, with precicion and recall for different \n",
    "        thresholds\n",
    "    - [None, plot of precision-recall curve with fancy annotation for\n",
    "        recall threshold if selected]\n",
    "    \n",
    "    \n",
    "    Heavily inspired by: \n",
    "    https://github.com/Featuretools/predict-customer-churn/blob/master/churn/5.%20Modeling.ipynb\n",
    "    \"\"\"\n",
    "\n",
    "    precision, recall, threshold = precision_recall_curve(y_test, \n",
    "                                                          probs[:, 1])\n",
    "    \n",
    "    # Plot precision-recall curve\n",
    "    plt.figure(figsize=figsize)\n",
    "    plt.plot(recall, precision, color=color)\n",
    "    plt.fill_between(recall, precision, alpha=0.2, color=color)\n",
    "    plt.title(\"Precision-Recall Curve\", size=20)\n",
    "    plt.xlabel('Recall', size=14)\n",
    "    plt.ylabel('Precision', size=14)\n",
    "    plt.ylim([0.0, 1.05])\n",
    "    plt.xlim([0.0, 1.0])\n",
    "    plt.xticks(size=12)\n",
    "    plt.yticks(size=12)\n",
    "\n",
    "    # Add annotation for recall-threshold\n",
    "    if threshold_recall:\n",
    "        p = precision[np.where(threshold == threshold_recall)[0]]\n",
    "        r = recall[np.where(threshold == threshold_recall)[0]]\n",
    "        plt.scatter(r, p, marker='*', s=600, c='r')\n",
    "        plt.vlines(r, ymin=0, ymax=p, linestyles='--')\n",
    "        plt.hlines(p, xmin=0, xmax=r, linestyles='--')\n",
    "        plt.text(r - 0.1, p + 0.15,\n",
    "                 s=f'Threshold: {round(threshold_recall, 2)}', \n",
    "                 size=20, \n",
    "                 fontdict={'weight': 1000})\n",
    "        plt.text(r - 0.2, p + 0.075,\n",
    "                 s=f'Precision: {round(100 * p[0], 2)}% Recall: \\\n",
    "                                {round(100 * r[0], 2)}%',\n",
    "                 size=20,\n",
    "                 fontdict={'weight': 1000})\n",
    "\n",
    "    prec_recall_df = pd.DataFrame({'precision': precision[:-1], \n",
    "                                   'recall': recall[:-1],\n",
    "                                   'threshold': threshold})\n",
    "    return prec_recall_df"
   ]
  },
  {
   "cell_type": "code",
   "execution_count": 112,
   "metadata": {
    "ExecuteTime": {
     "end_time": "2019-09-12T15:47:10.481533Z",
     "start_time": "2019-09-12T15:47:09.910637Z"
    }
   },
   "outputs": [
    {
     "data": {
      "image/png": "[encoded data removed]",
      "text/plain": [
       "<Figure size 864x432 with 1 Axes>"
      ]
     },
     "metadata": {
      "needs_background": "light"
     },
     "output_type": "display_data"
    }
   ],
   "source": [
    "probs = model.predict_proba(X_test)\n",
    "prec_recall_df = return_precision_recall(y_test, probs, threshold_recall=None)"
   ]
  },
  {
   "cell_type": "markdown",
   "metadata": {},
   "source": [
    "A horrible picture ;-)"
   ]
  },
  {
   "cell_type": "code",
   "execution_count": 114,
   "metadata": {
    "ExecuteTime": {
     "end_time": "2019-09-12T15:48:18.713640Z",
     "start_time": "2019-09-12T15:48:18.382098Z"
    }
   },
   "outputs": [
    {
     "data": {
      "image/png": "[encoded data removed]",
      "text/plain": [
       "<Figure size 432x288 with 1 Axes>"
      ]
     },
     "metadata": {
      "needs_background": "light"
     },
     "output_type": "display_data"
    }
   ],
   "source": [
    "prec_recall_df.plot();"
   ]
  },
  {
   "cell_type": "code",
   "execution_count": 109,
   "metadata": {
    "ExecuteTime": {
     "end_time": "2019-09-12T15:44:34.961464Z",
     "start_time": "2019-09-12T15:44:34.923572Z"
    }
   },
   "outputs": [
    {
     "data": {
      "text/html": [
       "<div>\n",
       "<style scoped>\n",
       "    .dataframe tbody tr th:only-of-type {\n",
       "        vertical-align: middle;\n",
       "    }\n",
       "\n",
       "    .dataframe tbody tr th {\n",
       "        vertical-align: top;\n",
       "    }\n",
       "\n",
       "    .dataframe thead th {\n",
       "        text-align: right;\n",
       "    }\n",
       "</style>\n",
       "<table border=\"1\" class=\"dataframe\">\n",
       "  <thead>\n",
       "    <tr style=\"text-align: right;\">\n",
       "      <th></th>\n",
       "      <th>precision</th>\n",
       "      <th>recall</th>\n",
       "      <th>threshold</th>\n",
       "    </tr>\n",
       "  </thead>\n",
       "  <tbody>\n",
       "    <tr>\n",
       "      <td>0</td>\n",
       "      <td>0.007588</td>\n",
       "      <td>1.0000</td>\n",
       "      <td>0.000029</td>\n",
       "    </tr>\n",
       "    <tr>\n",
       "      <td>1</td>\n",
       "      <td>0.007558</td>\n",
       "      <td>0.9875</td>\n",
       "      <td>0.000089</td>\n",
       "    </tr>\n",
       "    <tr>\n",
       "      <td>2</td>\n",
       "      <td>0.007586</td>\n",
       "      <td>0.9875</td>\n",
       "      <td>0.000174</td>\n",
       "    </tr>\n",
       "    <tr>\n",
       "      <td>3</td>\n",
       "      <td>0.007593</td>\n",
       "      <td>0.9875</td>\n",
       "      <td>0.000175</td>\n",
       "    </tr>\n",
       "    <tr>\n",
       "      <td>4</td>\n",
       "      <td>0.007598</td>\n",
       "      <td>0.9875</td>\n",
       "      <td>0.000178</td>\n",
       "    </tr>\n",
       "  </tbody>\n",
       "</table>\n",
       "</div>"
      ],
      "text/plain": [
       "   precision  recall  threshold\n",
       "0   0.007588  1.0000   0.000029\n",
       "1   0.007558  0.9875   0.000089\n",
       "2   0.007586  0.9875   0.000174\n",
       "3   0.007593  0.9875   0.000175\n",
       "4   0.007598  0.9875   0.000178"
      ]
     },
     "metadata": {},
     "output_type": "display_data"
    },
    {
     "data": {
      "text/html": [
       "<div>\n",
       "<style scoped>\n",
       "    .dataframe tbody tr th:only-of-type {\n",
       "        vertical-align: middle;\n",
       "    }\n",
       "\n",
       "    .dataframe tbody tr th {\n",
       "        vertical-align: top;\n",
       "    }\n",
       "\n",
       "    .dataframe thead th {\n",
       "        text-align: right;\n",
       "    }\n",
       "</style>\n",
       "<table border=\"1\" class=\"dataframe\">\n",
       "  <thead>\n",
       "    <tr style=\"text-align: right;\">\n",
       "      <th></th>\n",
       "      <th>precision</th>\n",
       "      <th>recall</th>\n",
       "      <th>threshold</th>\n",
       "    </tr>\n",
       "  </thead>\n",
       "  <tbody>\n",
       "    <tr>\n",
       "      <td>count</td>\n",
       "      <td>254.000000</td>\n",
       "      <td>254.000000</td>\n",
       "      <td>254.000000</td>\n",
       "    </tr>\n",
       "    <tr>\n",
       "      <td>mean</td>\n",
       "      <td>0.007864</td>\n",
       "      <td>0.676722</td>\n",
       "      <td>0.095423</td>\n",
       "    </tr>\n",
       "    <tr>\n",
       "      <td>std</td>\n",
       "      <td>0.000779</td>\n",
       "      <td>0.262541</td>\n",
       "      <td>0.204294</td>\n",
       "    </tr>\n",
       "    <tr>\n",
       "      <td>min</td>\n",
       "      <td>0.000000</td>\n",
       "      <td>0.000000</td>\n",
       "      <td>0.000029</td>\n",
       "    </tr>\n",
       "    <tr>\n",
       "      <td>25%</td>\n",
       "      <td>0.007575</td>\n",
       "      <td>0.500000</td>\n",
       "      <td>0.002531</td>\n",
       "    </tr>\n",
       "    <tr>\n",
       "      <td>50%</td>\n",
       "      <td>0.007971</td>\n",
       "      <td>0.750000</td>\n",
       "      <td>0.009380</td>\n",
       "    </tr>\n",
       "    <tr>\n",
       "      <td>75%</td>\n",
       "      <td>0.008270</td>\n",
       "      <td>0.900000</td>\n",
       "      <td>0.028590</td>\n",
       "    </tr>\n",
       "    <tr>\n",
       "      <td>max</td>\n",
       "      <td>0.008826</td>\n",
       "      <td>1.000000</td>\n",
       "      <td>0.830201</td>\n",
       "    </tr>\n",
       "  </tbody>\n",
       "</table>\n",
       "</div>"
      ],
      "text/plain": [
       "        precision      recall   threshold\n",
       "count  254.000000  254.000000  254.000000\n",
       "mean     0.007864    0.676722    0.095423\n",
       "std      0.000779    0.262541    0.204294\n",
       "min      0.000000    0.000000    0.000029\n",
       "25%      0.007575    0.500000    0.002531\n",
       "50%      0.007971    0.750000    0.009380\n",
       "75%      0.008270    0.900000    0.028590\n",
       "max      0.008826    1.000000    0.830201"
      ]
     },
     "metadata": {},
     "output_type": "display_data"
    },
    {
     "name": "stdout",
     "output_type": "stream",
     "text": [
      "254\n",
      "61\n",
      "254\n"
     ]
    }
   ],
   "source": [
    "display(prec_recall_df.head())\n",
    "display(prec_recall_df.describe())\n",
    "\n",
    "for col in prec_recall_df:\n",
    "    print(prec_recall_df[col].nunique())"
   ]
  },
  {
   "cell_type": "markdown",
   "metadata": {},
   "source": [
    "As we can see the precision peaks at 0.0088 and it is not gradually descending."
   ]
  },
  {
   "cell_type": "markdown",
   "metadata": {},
   "source": [
    "Normaly we can query the precision-recall-dataframe to find the threshold required for a given precision or recall. For example, to find the threshold for a precision of 0.008%, we use the following code:"
   ]
  },
  {
   "cell_type": "code",
   "execution_count": 117,
   "metadata": {
    "ExecuteTime": {
     "end_time": "2019-09-12T15:50:49.159164Z",
     "start_time": "2019-09-12T15:50:49.113620Z"
    }
   },
   "outputs": [
    {
     "data": {
      "text/html": [
       "<div>\n",
       "<style scoped>\n",
       "    .dataframe tbody tr th:only-of-type {\n",
       "        vertical-align: middle;\n",
       "    }\n",
       "\n",
       "    .dataframe tbody tr th {\n",
       "        vertical-align: top;\n",
       "    }\n",
       "\n",
       "    .dataframe thead th {\n",
       "        text-align: right;\n",
       "    }\n",
       "</style>\n",
       "<table border=\"1\" class=\"dataframe\">\n",
       "  <thead>\n",
       "    <tr style=\"text-align: right;\">\n",
       "      <th></th>\n",
       "      <th>precision</th>\n",
       "      <th>recall</th>\n",
       "      <th>threshold</th>\n",
       "    </tr>\n",
       "  </thead>\n",
       "  <tbody>\n",
       "    <tr>\n",
       "      <td>84</td>\n",
       "      <td>0.008005</td>\n",
       "      <td>0.8625</td>\n",
       "      <td>0.004024</td>\n",
       "    </tr>\n",
       "    <tr>\n",
       "      <td>86</td>\n",
       "      <td>0.008034</td>\n",
       "      <td>0.8625</td>\n",
       "      <td>0.004100</td>\n",
       "    </tr>\n",
       "    <tr>\n",
       "      <td>87</td>\n",
       "      <td>0.008074</td>\n",
       "      <td>0.8625</td>\n",
       "      <td>0.004301</td>\n",
       "    </tr>\n",
       "    <tr>\n",
       "      <td>88</td>\n",
       "      <td>0.008155</td>\n",
       "      <td>0.8625</td>\n",
       "      <td>0.004382</td>\n",
       "    </tr>\n",
       "    <tr>\n",
       "      <td>89</td>\n",
       "      <td>0.008173</td>\n",
       "      <td>0.8625</td>\n",
       "      <td>0.004688</td>\n",
       "    </tr>\n",
       "  </tbody>\n",
       "</table>\n",
       "</div>"
      ],
      "text/plain": [
       "    precision  recall  threshold\n",
       "84   0.008005  0.8625   0.004024\n",
       "86   0.008034  0.8625   0.004100\n",
       "87   0.008074  0.8625   0.004301\n",
       "88   0.008155  0.8625   0.004382\n",
       "89   0.008173  0.8625   0.004688"
      ]
     },
     "execution_count": 117,
     "metadata": {},
     "output_type": "execute_result"
    }
   ],
   "source": [
    "precision_above = prec_recall_df.loc[prec_recall_df['precision'] >= 0.008].copy()\n",
    "precision_above.sort_values('recall', ascending=False, inplace=True)\n",
    "precision_above.head()"
   ]
  },
  {
   "cell_type": "code",
   "execution_count": 97,
   "metadata": {
    "ExecuteTime": {
     "end_time": "2019-09-12T15:33:06.499572Z",
     "start_time": "2019-09-12T15:33:06.449643Z"
    }
   },
   "outputs": [
    {
     "name": "stdout",
     "output_type": "stream",
     "text": [
      "Probability threshold for CHURN prediction: 50.0% (100.0% of all CHURN predictions)\n",
      "  Precision: 0.803%\n",
      "Probability threshold for CHURN prediction: 60.0% (72.9% of all CHURN predictions)\n",
      "  Precision: 0.716%\n",
      "Probability threshold for CHURN prediction: 70.0% (35.6% of all CHURN predictions)\n",
      "  Precision: 0.676%\n",
      "Probability threshold for CHURN prediction: 80.0% (5.4% of all CHURN predictions)\n",
      "  Precision: 0.746%\n"
     ]
    }
   ],
   "source": [
    "# combine probabilities for CHURN, predictions and testLabels in dataframe ordered by probability (highest)\n",
    "finalResultsDF = pd.DataFrame({'proba': probs[:,1], 'pred' : y_pred, 'label' : np.array(y_test)}\n",
    "                             ).sort_values('proba', ascending=False).reset_index().drop('index', axis=1)\n",
    "totalChurnPred = finalResultsDF['pred'].sum()\n",
    "# calculate and print metrics for different thresholds of predicted CHURN probabilty\n",
    "probThresholds = np.arange(0.5, 0.8, 0.1)\n",
    "for threshold in probThresholds:\n",
    "    df = finalResultsDF[finalResultsDF['proba'] >= threshold]\n",
    "    tn, fp, fn, tp = confusion_matrix(df['label'], df['pred']).ravel()\n",
    "    print(\"Probability threshold for CHURN prediction: {:.1f}% ({:.1f}% of all CHURN predictions)\".format(\n",
    "        threshold*100, (len(df)/totalChurnPred)*100))\n",
    "    print(\"  Precision: {:.3f}%\".format((tp/(tp+fp)*100)))"
   ]
  },
  {
   "cell_type": "code",
   "execution_count": 93,
   "metadata": {
    "ExecuteTime": {
     "end_time": "2019-09-12T15:24:46.485091Z",
     "start_time": "2019-09-12T15:24:46.446774Z"
    }
   },
   "outputs": [
    {
     "data": {
      "text/html": [
       "<div>\n",
       "<style scoped>\n",
       "    .dataframe tbody tr th:only-of-type {\n",
       "        vertical-align: middle;\n",
       "    }\n",
       "\n",
       "    .dataframe tbody tr th {\n",
       "        vertical-align: top;\n",
       "    }\n",
       "\n",
       "    .dataframe thead th {\n",
       "        text-align: right;\n",
       "    }\n",
       "</style>\n",
       "<table border=\"1\" class=\"dataframe\">\n",
       "  <thead>\n",
       "    <tr style=\"text-align: right;\">\n",
       "      <th></th>\n",
       "      <th>proba</th>\n",
       "      <th>pred</th>\n",
       "      <th>label</th>\n",
       "    </tr>\n",
       "  </thead>\n",
       "  <tbody>\n",
       "    <tr>\n",
       "      <td>0</td>\n",
       "      <td>0.830201</td>\n",
       "      <td>1</td>\n",
       "      <td>0</td>\n",
       "    </tr>\n",
       "    <tr>\n",
       "      <td>1</td>\n",
       "      <td>0.830201</td>\n",
       "      <td>1</td>\n",
       "      <td>0</td>\n",
       "    </tr>\n",
       "    <tr>\n",
       "      <td>2</td>\n",
       "      <td>0.830201</td>\n",
       "      <td>1</td>\n",
       "      <td>0</td>\n",
       "    </tr>\n",
       "    <tr>\n",
       "      <td>3</td>\n",
       "      <td>0.830201</td>\n",
       "      <td>1</td>\n",
       "      <td>0</td>\n",
       "    </tr>\n",
       "    <tr>\n",
       "      <td>4</td>\n",
       "      <td>0.830201</td>\n",
       "      <td>1</td>\n",
       "      <td>0</td>\n",
       "    </tr>\n",
       "    <tr>\n",
       "      <td>...</td>\n",
       "      <td>...</td>\n",
       "      <td>...</td>\n",
       "      <td>...</td>\n",
       "    </tr>\n",
       "    <tr>\n",
       "      <td>10538</td>\n",
       "      <td>0.000029</td>\n",
       "      <td>0</td>\n",
       "      <td>0</td>\n",
       "    </tr>\n",
       "    <tr>\n",
       "      <td>10539</td>\n",
       "      <td>0.000029</td>\n",
       "      <td>0</td>\n",
       "      <td>0</td>\n",
       "    </tr>\n",
       "    <tr>\n",
       "      <td>10540</td>\n",
       "      <td>0.000029</td>\n",
       "      <td>0</td>\n",
       "      <td>0</td>\n",
       "    </tr>\n",
       "    <tr>\n",
       "      <td>10541</td>\n",
       "      <td>0.000029</td>\n",
       "      <td>0</td>\n",
       "      <td>0</td>\n",
       "    </tr>\n",
       "    <tr>\n",
       "      <td>10542</td>\n",
       "      <td>0.000029</td>\n",
       "      <td>0</td>\n",
       "      <td>0</td>\n",
       "    </tr>\n",
       "  </tbody>\n",
       "</table>\n",
       "<p>10543 rows × 3 columns</p>\n",
       "</div>"
      ],
      "text/plain": [
       "          proba  pred  label\n",
       "0      0.830201     1      0\n",
       "1      0.830201     1      0\n",
       "2      0.830201     1      0\n",
       "3      0.830201     1      0\n",
       "4      0.830201     1      0\n",
       "...         ...   ...    ...\n",
       "10538  0.000029     0      0\n",
       "10539  0.000029     0      0\n",
       "10540  0.000029     0      0\n",
       "10541  0.000029     0      0\n",
       "10542  0.000029     0      0\n",
       "\n",
       "[10543 rows x 3 columns]"
      ]
     },
     "execution_count": 93,
     "metadata": {},
     "output_type": "execute_result"
    }
   ],
   "source": [
    "finalResultsDF"
   ]
  },
  {
   "cell_type": "code",
   "execution_count": 94,
   "metadata": {
    "ExecuteTime": {
     "end_time": "2019-09-12T15:24:50.904737Z",
     "start_time": "2019-09-12T15:24:50.873926Z"
    }
   },
   "outputs": [
    {
     "name": "stdout",
     "output_type": "stream",
     "text": [
      "20\n",
      "13\n",
      "6\n",
      "1\n"
     ]
    }
   ],
   "source": [
    "for threshold in probThresholds:\n",
    "    df = finalResultsDF.loc[finalResultsDF['proba'] >= threshold]\n",
    "    print(df['label'].sum())"
   ]
  },
  {
   "cell_type": "markdown",
   "metadata": {},
   "source": [
    "---"
   ]
  }
 ],
 "metadata": {
  "hide_input": false,
  "kernelspec": {
   "display_name": "Python 3",
   "language": "python",
   "name": "python3"
  },
  "language_info": {
   "codemirror_mode": {
    "name": "ipython",
    "version": 3
   },
   "file_extension": ".py",
   "mimetype": "text/x-python",
   "name": "python",
   "nbconvert_exporter": "python",
   "pygments_lexer": "ipython3",
   "version": "3.7.4"
  },
  "toc": {
   "base_numbering": 1,
   "nav_menu": {},
   "number_sections": true,
   "sideBar": false,
   "skip_h1_title": true,
   "title_cell": "Table of Contents",
   "title_sidebar": "Contents",
   "toc_cell": true,
   "toc_position": {},
   "toc_section_display": true,
   "toc_window_display": false
  }
 },
 "nbformat": 4,
 "nbformat_minor": 2
}
