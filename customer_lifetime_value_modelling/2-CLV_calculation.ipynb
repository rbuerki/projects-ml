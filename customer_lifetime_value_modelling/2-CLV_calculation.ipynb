{
 "cells": [
  {
   "cell_type": "markdown",
   "metadata": {},
   "source": [
    "# CLV-Calculation in Non-Contractual Business\n",
    "\n",
    "The goal of this notebook is to explore (part) of the functionality of the [Lifetimes](https://github.com/CamDavidsonPilon/lifetimes) package. The pre-cleaned data is transformed, split into calibration and holdout sets and CLV is then calculated in two steps:\n",
    "1. Prediction of future purchases with BG/NBD model\n",
    "2. Prediction of monetary value of these future purchases with Gamma-Gamma model.\n",
    "\n",
    "Because the results were not so good (maybe partly due to the seasonality in the underlying data, see notebook 1) a second run was made with outliers removed. But this worsened the results.\n",
    "\n",
    "#### Data Source\n",
    "- `data/interim/clv_data.csv`: Cleaned data, prepared in first notebook.\n",
    "\n",
    "#### Changes\n",
    "- 19-02-12: Start notebook\n",
    "- 19-02-15: Calculate CLVs\n",
    "- 19-02-17: add 2nd run with outliers removed"
   ]
  },
  {
   "cell_type": "markdown",
   "metadata": {},
   "source": [
    "---"
   ]
  },
  {
   "cell_type": "markdown",
   "metadata": {},
   "source": [
    "### Import libraries, load data"
   ]
  },
  {
   "cell_type": "code",
   "execution_count": 1,
   "metadata": {},
   "outputs": [],
   "source": [
    "# Import libraries\n",
    "import numpy as np\n",
    "import pandas as pd\n",
    "import datetime as dt\n",
    "\n",
    "from lifetimes.plotting import *\n",
    "from lifetimes.utils import *\n",
    "from lifetimes.estimation import *\n",
    "from lifetimes import BetaGeoFitter\n",
    "\n",
    "# Visualization\n",
    "import matplotlib.pyplot as plt\n",
    "import seaborn as sns\n",
    "sns.set(), sns.set_style('whitegrid')\n",
    "%matplotlib inline  \n",
    "\n",
    "# Special settings for lifetime plots\n",
    "sns.set_palette(\"viridis\")\n",
    "sns.set(rc={'image.cmap': 'viridis'})\n",
    "\n",
    "import cleaning_functions as clean\n",
    "import EDA_functions as EDA\n",
    "\n",
    "# Display Settings\n",
    "from IPython.display import display\n",
    "pd.options.display.max_columns = 100"
   ]
  },
  {
   "cell_type": "code",
   "execution_count": 2,
   "metadata": {},
   "outputs": [],
   "source": [
    "# Load data\n",
    "clv_data = pd.read_csv('data/interim/clv_data.csv', parse_dates=['InvoiceDate'],\n",
    "                       dtype={'CustomerID' : str, 'Country' : 'category'})"
   ]
  },
  {
   "cell_type": "markdown",
   "metadata": {},
   "source": [
    "## 1) Prepare Data\n"
   ]
  },
  {
   "cell_type": "code",
   "execution_count": 3,
   "metadata": {},
   "outputs": [
    {
     "name": "stdout",
     "output_type": "stream",
     "text": [
      "<class 'pandas.core.frame.DataFrame'>\n",
      "RangeIndex: 397884 entries, 0 to 397883\n",
      "Data columns (total 6 columns):\n",
      "Quantity       397884 non-null int64\n",
      "InvoiceDate    397884 non-null datetime64[ns]\n",
      "UnitPrice      397884 non-null float64\n",
      "CustomerID     397884 non-null object\n",
      "Country        397884 non-null category\n",
      "Sales          397884 non-null float64\n",
      "dtypes: category(1), datetime64[ns](1), float64(2), int64(1), object(1)\n",
      "memory usage: 15.6+ MB\n"
     ]
    }
   ],
   "source": [
    "clv_data.info()"
   ]
  },
  {
   "cell_type": "markdown",
   "metadata": {},
   "source": [
    "**Note:** For Lifetimes we need an Input Dataframe of transaction data of the form: \n",
    "- customer_id\n",
    "- datetime \n",
    "- [monetary_value] (optional, but needed for clv estimations)"
   ]
  },
  {
   "cell_type": "markdown",
   "metadata": {},
   "source": [
    "### Clean & Transform Data - with holdout set\n",
    "\n",
    "(see notebook 'basic_functionalities' for transformation without holdout set)"
   ]
  },
  {
   "cell_type": "code",
   "execution_count": 4,
   "metadata": {},
   "outputs": [],
   "source": [
    "\"\"\"Transform data to 'Lifetimes' format\"\"\"\n",
    "\n",
    "clv_data.drop(['Quantity', 'UnitPrice', 'Country'], inplace=True, axis=1)\n",
    "clv_data['InvoiceDate'] = clv_data['InvoiceDate'].dt.date\n",
    "\n",
    "# Use transformation function from liftimes package\n",
    "clv_cal_holdout = calibration_and_holdout_data(clv_data, 'CustomerID', 'InvoiceDate', \n",
    "                                                   monetary_value_col='Sales',\n",
    "                                                   calibration_period_end='2011-07-09',  # 7 months\n",
    "                                                   observation_period_end='2011-12-09',  # 5 months\n",
    "                                                   ) "
   ]
  },
  {
   "cell_type": "markdown",
   "metadata": {},
   "source": [
    "**IMPORTANT NOTE:** I tried to fit with a longer cal_period / shorter holdout_period, the fit was poorer than with this configuration. It seems important to experiment with the duration and then assess the fit (see lineplot below)."
   ]
  },
  {
   "cell_type": "code",
   "execution_count": 5,
   "metadata": {},
   "outputs": [
    {
     "name": "stdout",
     "output_type": "stream",
     "text": [
      "(3010, 7)\n"
     ]
    },
    {
     "data": {
      "text/html": [
       "<div>\n",
       "<style scoped>\n",
       "    .dataframe tbody tr th:only-of-type {\n",
       "        vertical-align: middle;\n",
       "    }\n",
       "\n",
       "    .dataframe tbody tr th {\n",
       "        vertical-align: top;\n",
       "    }\n",
       "\n",
       "    .dataframe thead th {\n",
       "        text-align: right;\n",
       "    }\n",
       "</style>\n",
       "<table border=\"1\" class=\"dataframe\">\n",
       "  <thead>\n",
       "    <tr style=\"text-align: right;\">\n",
       "      <th></th>\n",
       "      <th>frequency_cal</th>\n",
       "      <th>recency_cal</th>\n",
       "      <th>T_cal</th>\n",
       "      <th>monetary_value_cal</th>\n",
       "      <th>frequency_holdout</th>\n",
       "      <th>monetary_value_holdout</th>\n",
       "      <th>duration_holdout</th>\n",
       "    </tr>\n",
       "    <tr>\n",
       "      <th>CustomerID</th>\n",
       "      <th></th>\n",
       "      <th></th>\n",
       "      <th></th>\n",
       "      <th></th>\n",
       "      <th></th>\n",
       "      <th></th>\n",
       "      <th></th>\n",
       "    </tr>\n",
       "  </thead>\n",
       "  <tbody>\n",
       "    <tr>\n",
       "      <th>12346</th>\n",
       "      <td>0.0</td>\n",
       "      <td>0.0</td>\n",
       "      <td>172.0</td>\n",
       "      <td>0.000000</td>\n",
       "      <td>0.0</td>\n",
       "      <td>0.000000</td>\n",
       "      <td>&lt;153 * Days&gt;</td>\n",
       "    </tr>\n",
       "    <tr>\n",
       "      <th>12347</th>\n",
       "      <td>3.0</td>\n",
       "      <td>184.0</td>\n",
       "      <td>214.0</td>\n",
       "      <td>498.053333</td>\n",
       "      <td>3.0</td>\n",
       "      <td>26.300625</td>\n",
       "      <td>&lt;153 * Days&gt;</td>\n",
       "    </tr>\n",
       "    <tr>\n",
       "      <th>12348</th>\n",
       "      <td>2.0</td>\n",
       "      <td>110.0</td>\n",
       "      <td>205.0</td>\n",
       "      <td>297.220000</td>\n",
       "      <td>1.0</td>\n",
       "      <td>103.333333</td>\n",
       "      <td>&lt;153 * Days&gt;</td>\n",
       "    </tr>\n",
       "    <tr>\n",
       "      <th>12350</th>\n",
       "      <td>0.0</td>\n",
       "      <td>0.0</td>\n",
       "      <td>157.0</td>\n",
       "      <td>0.000000</td>\n",
       "      <td>0.0</td>\n",
       "      <td>0.000000</td>\n",
       "      <td>&lt;153 * Days&gt;</td>\n",
       "    </tr>\n",
       "    <tr>\n",
       "      <th>12352</th>\n",
       "      <td>3.0</td>\n",
       "      <td>34.0</td>\n",
       "      <td>143.0</td>\n",
       "      <td>421.770000</td>\n",
       "      <td>3.0</td>\n",
       "      <td>20.090000</td>\n",
       "      <td>&lt;153 * Days&gt;</td>\n",
       "    </tr>\n",
       "  </tbody>\n",
       "</table>\n",
       "</div>"
      ],
      "text/plain": [
       "            frequency_cal  recency_cal  T_cal  monetary_value_cal  \\\n",
       "CustomerID                                                          \n",
       "12346                 0.0          0.0  172.0            0.000000   \n",
       "12347                 3.0        184.0  214.0          498.053333   \n",
       "12348                 2.0        110.0  205.0          297.220000   \n",
       "12350                 0.0          0.0  157.0            0.000000   \n",
       "12352                 3.0         34.0  143.0          421.770000   \n",
       "\n",
       "            frequency_holdout  monetary_value_holdout duration_holdout  \n",
       "CustomerID                                                              \n",
       "12346                     0.0                0.000000     <153 * Days>  \n",
       "12347                     3.0               26.300625     <153 * Days>  \n",
       "12348                     1.0              103.333333     <153 * Days>  \n",
       "12350                     0.0                0.000000     <153 * Days>  \n",
       "12352                     3.0               20.090000     <153 * Days>  "
      ]
     },
     "execution_count": 5,
     "metadata": {},
     "output_type": "execute_result"
    }
   ],
   "source": [
    "# Check results\n",
    "print(clv_cal_holdout.shape)\n",
    "clv_cal_holdout.head()"
   ]
  },
  {
   "cell_type": "markdown",
   "metadata": {},
   "source": [
    "**Nomenclature for the CLV model:**\n",
    "\n",
    "- _Frequency_: represents the number of repeat purchases the customer has made. This means that it’s one less than the total number of purchases. (Thus if they have made only 1 purchase, the recency is 0.)\n",
    "- _T_: represents the age of the customer in whatever time units chosen (daily, in our dataset). This is equal to the duration between a customer’s first purchase and the end of the period under study.\n",
    "- _Recency_: represents the age of the customer when they made their most recent purchases. This is equal to the duration between a customer’s first purchase and their latest purchase. (Thus if they have made only 1 purchase, the recency is 0.)"
   ]
  },
  {
   "cell_type": "markdown",
   "metadata": {},
   "source": [
    "**Note:** Only 2800 customers are in the fitting set, because the others made their first order only in the holdout period. (I checked that with help of the original 'customers_data'.)"
   ]
  },
  {
   "cell_type": "code",
   "execution_count": 6,
   "metadata": {},
   "outputs": [],
   "source": [
    "# 'Repair' duration_holdout: set to float - should not happen according to docs ...\n",
    "import re\n",
    "clv_cal_holdout['duration_holdout'] = \\\n",
    "    clv_cal_holdout['duration_holdout'].astype(str)    \n",
    "clv_cal_holdout['duration_holdout'] = \\\n",
    "    clv_cal_holdout['duration_holdout'].apply(lambda x: int(re.findall('\\d+', x)[0]))"
   ]
  },
  {
   "cell_type": "code",
   "execution_count": 7,
   "metadata": {},
   "outputs": [
    {
     "data": {
      "text/html": [
       "<div>\n",
       "<style scoped>\n",
       "    .dataframe tbody tr th:only-of-type {\n",
       "        vertical-align: middle;\n",
       "    }\n",
       "\n",
       "    .dataframe tbody tr th {\n",
       "        vertical-align: top;\n",
       "    }\n",
       "\n",
       "    .dataframe thead th {\n",
       "        text-align: right;\n",
       "    }\n",
       "</style>\n",
       "<table border=\"1\" class=\"dataframe\">\n",
       "  <thead>\n",
       "    <tr style=\"text-align: right;\">\n",
       "      <th></th>\n",
       "      <th>frequency_cal</th>\n",
       "      <th>recency_cal</th>\n",
       "      <th>T_cal</th>\n",
       "      <th>monetary_value_cal</th>\n",
       "      <th>frequency_holdout</th>\n",
       "      <th>monetary_value_holdout</th>\n",
       "      <th>duration_holdout</th>\n",
       "    </tr>\n",
       "    <tr>\n",
       "      <th>CustomerID</th>\n",
       "      <th></th>\n",
       "      <th></th>\n",
       "      <th></th>\n",
       "      <th></th>\n",
       "      <th></th>\n",
       "      <th></th>\n",
       "      <th></th>\n",
       "    </tr>\n",
       "  </thead>\n",
       "  <tbody>\n",
       "    <tr>\n",
       "      <th>12346</th>\n",
       "      <td>0.0</td>\n",
       "      <td>0.0</td>\n",
       "      <td>172.0</td>\n",
       "      <td>0.000000</td>\n",
       "      <td>0.0</td>\n",
       "      <td>0.000000</td>\n",
       "      <td>153</td>\n",
       "    </tr>\n",
       "    <tr>\n",
       "      <th>12347</th>\n",
       "      <td>3.0</td>\n",
       "      <td>184.0</td>\n",
       "      <td>214.0</td>\n",
       "      <td>498.053333</td>\n",
       "      <td>3.0</td>\n",
       "      <td>26.300625</td>\n",
       "      <td>153</td>\n",
       "    </tr>\n",
       "    <tr>\n",
       "      <th>12348</th>\n",
       "      <td>2.0</td>\n",
       "      <td>110.0</td>\n",
       "      <td>205.0</td>\n",
       "      <td>297.220000</td>\n",
       "      <td>1.0</td>\n",
       "      <td>103.333333</td>\n",
       "      <td>153</td>\n",
       "    </tr>\n",
       "    <tr>\n",
       "      <th>12350</th>\n",
       "      <td>0.0</td>\n",
       "      <td>0.0</td>\n",
       "      <td>157.0</td>\n",
       "      <td>0.000000</td>\n",
       "      <td>0.0</td>\n",
       "      <td>0.000000</td>\n",
       "      <td>153</td>\n",
       "    </tr>\n",
       "    <tr>\n",
       "      <th>12352</th>\n",
       "      <td>3.0</td>\n",
       "      <td>34.0</td>\n",
       "      <td>143.0</td>\n",
       "      <td>421.770000</td>\n",
       "      <td>3.0</td>\n",
       "      <td>20.090000</td>\n",
       "      <td>153</td>\n",
       "    </tr>\n",
       "  </tbody>\n",
       "</table>\n",
       "</div>"
      ],
      "text/plain": [
       "            frequency_cal  recency_cal  T_cal  monetary_value_cal  \\\n",
       "CustomerID                                                          \n",
       "12346                 0.0          0.0  172.0            0.000000   \n",
       "12347                 3.0        184.0  214.0          498.053333   \n",
       "12348                 2.0        110.0  205.0          297.220000   \n",
       "12350                 0.0          0.0  157.0            0.000000   \n",
       "12352                 3.0         34.0  143.0          421.770000   \n",
       "\n",
       "            frequency_holdout  monetary_value_holdout  duration_holdout  \n",
       "CustomerID                                                               \n",
       "12346                     0.0                0.000000               153  \n",
       "12347                     3.0               26.300625               153  \n",
       "12348                     1.0              103.333333               153  \n",
       "12350                     0.0                0.000000               153  \n",
       "12352                     3.0               20.090000               153  "
      ]
     },
     "metadata": {},
     "output_type": "display_data"
    }
   ],
   "source": [
    "# Check results\n",
    "display(clv_cal_holdout.head())"
   ]
  },
  {
   "cell_type": "code",
   "execution_count": 8,
   "metadata": {},
   "outputs": [
    {
     "data": {
      "image/png": "[encoded data removed]",
      "text/plain": [
       "<Figure size 1152x576 with 9 Axes>"
      ]
     },
     "metadata": {
      "needs_background": "light"
     },
     "output_type": "display_data"
    }
   ],
   "source": [
    "# Check distributions\n",
    "EDA.plot_num_hist(clv_cal_holdout, figsize=(16,8))"
   ]
  },
  {
   "cell_type": "code",
   "execution_count": 9,
   "metadata": {},
   "outputs": [
    {
     "name": "stdout",
     "output_type": "stream",
     "text": [
      "prop of customers without repeat purchase in cal_period:  0.463\n"
     ]
    }
   ],
   "source": [
    "print(\"prop of customers without repeat purchase in cal_period: \", \\\n",
    "        round(clv_cal_holdout['frequency_cal'].value_counts()[0] / len(clv_cal_holdout),3))"
   ]
  },
  {
   "cell_type": "markdown",
   "metadata": {},
   "source": [
    "**Note:** 46.3% of customers are 'one-timers' in the cal_period. this could well be a problem for fitting the model."
   ]
  },
  {
   "cell_type": "markdown",
   "metadata": {},
   "source": [
    "## 2) Forecast number of future purchases with BG / NBD model\n",
    "The BG /NBD model allows us to compute the expected number of purchases in a forecast period at the customer level. \n",
    "\n",
    "class BetaGeoFitter(). This model has the following assumptions:\n",
    "1. Each individual, `i`, has a hidden `lambda_i` and `p_i` parameter\n",
    "2. These come from a population wide Gamma and a Beta distribution respectively.\n",
    "3. Individuals purchases follow a Poisson process with rate `lambda_i*t` .\n",
    "4. After each purchase, an individual has a p_i probability of dieing (never buying again)."
   ]
  },
  {
   "cell_type": "code",
   "execution_count": 10,
   "metadata": {},
   "outputs": [
    {
     "data": {
      "text/plain": [
       "<lifetimes.BetaGeoFitter: fitted with 3010 subjects, a: 0.00, alpha: 64.78, b: 6.49, r: 0.75>"
      ]
     },
     "execution_count": 10,
     "metadata": {},
     "output_type": "execute_result"
    }
   ],
   "source": [
    "# Fit on the _cal columns, and test on the _holdout columns\"\"\"\n",
    "bgf = BetaGeoFitter(penalizer_coef=0.0)\n",
    "bgf.fit(clv_cal_holdout['frequency_cal'], \n",
    "        clv_cal_holdout['recency_cal'], \n",
    "        clv_cal_holdout['T_cal'])"
   ]
  },
  {
   "cell_type": "code",
   "execution_count": 11,
   "metadata": {},
   "outputs": [
    {
     "data": {
      "image/png": "[encoded data removed]",
      "text/plain": [
       "<Figure size 864x432 with 1 Axes>"
      ]
     },
     "metadata": {
      "needs_background": "light"
     },
     "output_type": "display_data"
    }
   ],
   "source": [
    "# Plot results\n",
    "plot_calibration_purchases_vs_holdout_purchases(bgf, \n",
    "                                                clv_cal_holdout, \n",
    "                                                figsize=(12,6),\n",
    "                                                n=int(clv_cal_holdout['frequency_cal'].max() + 1),\n",
    "                                                color=['rebeccapurple', 'yellow']);"
   ]
  },
  {
   "cell_type": "code",
   "execution_count": 12,
   "metadata": {},
   "outputs": [
    {
     "data": {
      "image/png": "[encoded data removed]",
      "text/plain": [
       "<Figure size 432x288 with 1 Axes>"
      ]
     },
     "metadata": {
      "needs_background": "light"
     },
     "output_type": "display_data"
    }
   ],
   "source": [
    "# Assess model fit (with simulated data, cal_period only)\n",
    "plot_period_transactions(bgf, color=['rebeccapurple', 'yellow']);"
   ]
  },
  {
   "cell_type": "markdown",
   "metadata": {},
   "source": [
    "### Calculate and Evaluate Individual Customer Predictions\n",
    "Based on customer history, we can predict how many future purchases an individual might make in a given period."
   ]
  },
  {
   "cell_type": "code",
   "execution_count": 13,
   "metadata": {},
   "outputs": [
    {
     "name": "stdout",
     "output_type": "stream",
     "text": [
      "(4338, 4)\n"
     ]
    },
    {
     "data": {
      "text/html": [
       "<div>\n",
       "<style scoped>\n",
       "    .dataframe tbody tr th:only-of-type {\n",
       "        vertical-align: middle;\n",
       "    }\n",
       "\n",
       "    .dataframe tbody tr th {\n",
       "        vertical-align: top;\n",
       "    }\n",
       "\n",
       "    .dataframe thead th {\n",
       "        text-align: right;\n",
       "    }\n",
       "</style>\n",
       "<table border=\"1\" class=\"dataframe\">\n",
       "  <thead>\n",
       "    <tr style=\"text-align: right;\">\n",
       "      <th></th>\n",
       "      <th>frequency</th>\n",
       "      <th>recency</th>\n",
       "      <th>T</th>\n",
       "      <th>monetary_value</th>\n",
       "    </tr>\n",
       "    <tr>\n",
       "      <th>CustomerID</th>\n",
       "      <th></th>\n",
       "      <th></th>\n",
       "      <th></th>\n",
       "      <th></th>\n",
       "    </tr>\n",
       "  </thead>\n",
       "  <tbody>\n",
       "    <tr>\n",
       "      <th>12346</th>\n",
       "      <td>0.0</td>\n",
       "      <td>0.0</td>\n",
       "      <td>325.0</td>\n",
       "      <td>0.000000</td>\n",
       "    </tr>\n",
       "    <tr>\n",
       "      <th>12347</th>\n",
       "      <td>6.0</td>\n",
       "      <td>365.0</td>\n",
       "      <td>367.0</td>\n",
       "      <td>599.701667</td>\n",
       "    </tr>\n",
       "    <tr>\n",
       "      <th>12348</th>\n",
       "      <td>3.0</td>\n",
       "      <td>283.0</td>\n",
       "      <td>358.0</td>\n",
       "      <td>301.480000</td>\n",
       "    </tr>\n",
       "    <tr>\n",
       "      <th>12349</th>\n",
       "      <td>0.0</td>\n",
       "      <td>0.0</td>\n",
       "      <td>18.0</td>\n",
       "      <td>0.000000</td>\n",
       "    </tr>\n",
       "    <tr>\n",
       "      <th>12350</th>\n",
       "      <td>0.0</td>\n",
       "      <td>0.0</td>\n",
       "      <td>310.0</td>\n",
       "      <td>0.000000</td>\n",
       "    </tr>\n",
       "  </tbody>\n",
       "</table>\n",
       "</div>"
      ],
      "text/plain": [
       "            frequency  recency      T  monetary_value\n",
       "CustomerID                                           \n",
       "12346             0.0      0.0  325.0        0.000000\n",
       "12347             6.0    365.0  367.0      599.701667\n",
       "12348             3.0    283.0  358.0      301.480000\n",
       "12349             0.0      0.0   18.0        0.000000\n",
       "12350             0.0      0.0  310.0        0.000000"
      ]
     },
     "execution_count": 13,
     "metadata": {},
     "output_type": "execute_result"
    }
   ],
   "source": [
    "# Prepare dataset for all customers to predict on\n",
    "clv = summary_data_from_transaction_data(clv_data, 'CustomerID', 'InvoiceDate', monetary_value_col='Sales')\n",
    "# check results\n",
    "print(clv.shape)\n",
    "clv.head()"
   ]
  },
  {
   "cell_type": "code",
   "execution_count": 14,
   "metadata": {},
   "outputs": [],
   "source": [
    "def predict_individual_purchases(model, df, t):\n",
    "    \"\"\"Predict number of purchases for period t for each customer\n",
    "    and return them, rounded to int, in a DataFrame.\n",
    "    \"\"\"\n",
    "    pred_list = []\n",
    "    for customer in df.itertuples():\n",
    "        pred_purchases = model.predict(t, \n",
    "                                     int(customer[1]), \n",
    "                                     int(customer[2]), \n",
    "                                     int(customer[3])\n",
    "                                     )\n",
    "        pred_list.append({'id': customer[0], \n",
    "                          'pred_purchases': int(pred_purchases)})  # round to int\n",
    "\n",
    "    pred_df = pd.DataFrame(pred_list, columns=['id', 'pred_purchases'])\n",
    "    pred_df.set_index('id', inplace=True)\n",
    "    \n",
    "    return pred_df"
   ]
  },
  {
   "cell_type": "code",
   "execution_count": 15,
   "metadata": {},
   "outputs": [
    {
     "data": {
      "text/html": [
       "<div>\n",
       "<style scoped>\n",
       "    .dataframe tbody tr th:only-of-type {\n",
       "        vertical-align: middle;\n",
       "    }\n",
       "\n",
       "    .dataframe tbody tr th {\n",
       "        vertical-align: top;\n",
       "    }\n",
       "\n",
       "    .dataframe thead th {\n",
       "        text-align: right;\n",
       "    }\n",
       "</style>\n",
       "<table border=\"1\" class=\"dataframe\">\n",
       "  <thead>\n",
       "    <tr style=\"text-align: right;\">\n",
       "      <th></th>\n",
       "      <th>pred_purchases</th>\n",
       "    </tr>\n",
       "    <tr>\n",
       "      <th>id</th>\n",
       "      <th></th>\n",
       "    </tr>\n",
       "  </thead>\n",
       "  <tbody>\n",
       "    <tr>\n",
       "      <th>12346</th>\n",
       "      <td>0</td>\n",
       "    </tr>\n",
       "    <tr>\n",
       "      <th>12347</th>\n",
       "      <td>2</td>\n",
       "    </tr>\n",
       "    <tr>\n",
       "      <th>12348</th>\n",
       "      <td>1</td>\n",
       "    </tr>\n",
       "    <tr>\n",
       "      <th>12349</th>\n",
       "      <td>1</td>\n",
       "    </tr>\n",
       "    <tr>\n",
       "      <th>12350</th>\n",
       "      <td>0</td>\n",
       "    </tr>\n",
       "  </tbody>\n",
       "</table>\n",
       "</div>"
      ],
      "text/plain": [
       "       pred_purchases\n",
       "id                   \n",
       "12346               0\n",
       "12347               2\n",
       "12348               1\n",
       "12349               1\n",
       "12350               0"
      ]
     },
     "metadata": {},
     "output_type": "display_data"
    }
   ],
   "source": [
    "# Call function and check results\n",
    "t = clv_cal_holdout.iloc[0,-1]  # set no of periods == duration_holdout\n",
    "pred_purchases = predict_individual_purchases(bgf, clv, t)\n",
    "display(pred_purchases.head())"
   ]
  },
  {
   "cell_type": "code",
   "execution_count": 16,
   "metadata": {},
   "outputs": [
    {
     "name": "stdout",
     "output_type": "stream",
     "text": [
      "Pearson's R:  0.958\n"
     ]
    }
   ],
   "source": [
    "# Compare predictions to effective frequencies in holdout set\n",
    "pred_evaluation = pd.concat([pred_purchases, \n",
    "                             clv_cal_holdout[['frequency_holdout']]], \n",
    "                            axis=1, \n",
    "                            sort=True\n",
    "                            )\n",
    "\n",
    "# For eval only look at customers with frequency value in holdout\n",
    "pred_evaluation.dropna(how = 'any', inplace=True)\n",
    "assert len(pred_evaluation) == len(clv_cal_holdout)\n",
    "\n",
    "print(\"Pearson's R: \", round(pred_evaluation.corr().iloc[0,1],3))"
   ]
  },
  {
   "cell_type": "code",
   "execution_count": 17,
   "metadata": {},
   "outputs": [
    {
     "name": "stdout",
     "output_type": "stream",
     "text": [
      "Mean diff:  0.8003322259136213\n"
     ]
    }
   ],
   "source": [
    "# Calculate difference of prediction to actual values\n",
    "pred_evaluation['diff'] = np.abs(pred_evaluation['pred_purchases'] - pred_evaluation['frequency_holdout'])\n",
    "print(\"Mean diff: \", pred_evaluation['diff'].sum() / len(pred_evaluation))"
   ]
  },
  {
   "cell_type": "code",
   "execution_count": 18,
   "metadata": {},
   "outputs": [
    {
     "data": {
      "text/plain": [
       "0.0     0.486047\n",
       "1.0     0.352159\n",
       "2.0     0.103322\n",
       "3.0     0.031561\n",
       "4.0     0.014286\n",
       "5.0     0.005980\n",
       "7.0     0.002326\n",
       "6.0     0.001993\n",
       "8.0     0.000997\n",
       "19.0    0.000664\n",
       "9.0     0.000332\n",
       "24.0    0.000332\n",
       "Name: diff, dtype: float64"
      ]
     },
     "metadata": {},
     "output_type": "display_data"
    },
    {
     "data": {
      "image/png": "[encoded data removed]",
      "text/plain": [
       "<Figure size 432x288 with 1 Axes>"
      ]
     },
     "metadata": {
      "needs_background": "light"
     },
     "output_type": "display_data"
    }
   ],
   "source": [
    "# Display percentage of customers with respective difference ('error')\n",
    "display(pred_evaluation['diff'].value_counts(dropna=False) / len(pred_evaluation))\n",
    "sns.distplot(pred_evaluation['diff']);"
   ]
  },
  {
   "cell_type": "code",
   "execution_count": 19,
   "metadata": {},
   "outputs": [
    {
     "data": {
      "image/png": "[encoded data removed]",
      "text/plain": [
       "<Figure size 360x360 with 1 Axes>"
      ]
     },
     "metadata": {
      "needs_background": "light"
     },
     "output_type": "display_data"
    }
   ],
   "source": [
    "# Display the error (regression line should be 1 to 1)\n",
    "sns.lmplot(x=\"pred_purchases\", \n",
    "           y=\"frequency_holdout\", \n",
    "           data=pred_evaluation, \n",
    "           x_estimator=np.mean,\n",
    "           palette=['rebeccapurple', 'yellow']);\n",
    "\n",
    "plt.xlim(0, 90)\n",
    "plt.ylim(0, 90);"
   ]
  },
  {
   "cell_type": "markdown",
   "metadata": {},
   "source": [
    "**Observation:** The correlation is very high, but the (linear) prediction constantly underestimates the effective purchases."
   ]
  },
  {
   "cell_type": "code",
   "execution_count": 20,
   "metadata": {},
   "outputs": [
    {
     "data": {
      "image/png": "[encoded data removed]",
      "text/plain": [
       "<Figure size 360x360 with 1 Axes>"
      ]
     },
     "metadata": {
      "needs_background": "light"
     },
     "output_type": "display_data"
    }
   ],
   "source": [
    "# Trim outliers\n",
    "pred_evaluation_trimmed = pred_evaluation.loc[\n",
    "        pred_evaluation['frequency_holdout'] <= 30]\n",
    "\n",
    "sns.lmplot(x=\"pred_purchases\", \n",
    "           y=\"frequency_holdout\", \n",
    "           data=pred_evaluation_trimmed, \n",
    "           x_estimator=np.mean,\n",
    "           palette=['rebeccapurple', 'yellow']);\n",
    "\n",
    "plt.xlim(0, 30)\n",
    "plt.ylim(0, 30);"
   ]
  },
  {
   "cell_type": "markdown",
   "metadata": {},
   "source": [
    "**Observation:** Without the frequency outliers the fit is a little better, but the prediction is still to low."
   ]
  },
  {
   "cell_type": "markdown",
   "metadata": {},
   "source": [
    "## 3) Estimate customer lifetime value using the Gamma-Gamma model\n",
    "To estimate the CLV we use the [Gamma-Gamma submodel presented by Dr. Peter Fader and Dr. Bruce Hardie from Wharton](http://www.brucehardie.com/notes/025/gamma_gamma.pdf). It can be seen as an extension to the BG/NBD model, which focuses on modeling purchase count. Gamma-Gamma makes a few assumptions:\n",
    "* At the customer level, the transaction/order value varies randomly around each customer’s average transaction value. (That, in itself, isn’t too controversial, but has to be checked, see below.)\n",
    "* The observed mean value is an imperfect metric of the latent mean transaction value E(M), where M represents the monetary value.\n",
    "* Average transaction value varies across customers, though these values are stationary. (This is a big assumption to make.)\n",
    "* The distribution of average values across customers is independent of the transaction process. In other words, monetary value can be modeled separately from the purchase count and lifetime components of the model. This may or may not hold in typical business situations.\n",
    "\n",
    "**IMPORTANT:** Fit only to returning customers (but you can predict for all)"
   ]
  },
  {
   "cell_type": "code",
   "execution_count": 21,
   "metadata": {},
   "outputs": [
    {
     "name": "stdout",
     "output_type": "stream",
     "text": [
      "2790\n"
     ]
    },
    {
     "data": {
      "text/html": [
       "<div>\n",
       "<style scoped>\n",
       "    .dataframe tbody tr th:only-of-type {\n",
       "        vertical-align: middle;\n",
       "    }\n",
       "\n",
       "    .dataframe tbody tr th {\n",
       "        vertical-align: top;\n",
       "    }\n",
       "\n",
       "    .dataframe thead th {\n",
       "        text-align: right;\n",
       "    }\n",
       "</style>\n",
       "<table border=\"1\" class=\"dataframe\">\n",
       "  <thead>\n",
       "    <tr style=\"text-align: right;\">\n",
       "      <th></th>\n",
       "      <th>frequency</th>\n",
       "      <th>recency</th>\n",
       "      <th>T</th>\n",
       "      <th>monetary_value</th>\n",
       "    </tr>\n",
       "    <tr>\n",
       "      <th>CustomerID</th>\n",
       "      <th></th>\n",
       "      <th></th>\n",
       "      <th></th>\n",
       "      <th></th>\n",
       "    </tr>\n",
       "  </thead>\n",
       "  <tbody>\n",
       "    <tr>\n",
       "      <th>12347</th>\n",
       "      <td>6.0</td>\n",
       "      <td>365.0</td>\n",
       "      <td>367.0</td>\n",
       "      <td>599.701667</td>\n",
       "    </tr>\n",
       "    <tr>\n",
       "      <th>12348</th>\n",
       "      <td>3.0</td>\n",
       "      <td>283.0</td>\n",
       "      <td>358.0</td>\n",
       "      <td>301.480000</td>\n",
       "    </tr>\n",
       "    <tr>\n",
       "      <th>12352</th>\n",
       "      <td>6.0</td>\n",
       "      <td>260.0</td>\n",
       "      <td>296.0</td>\n",
       "      <td>368.256667</td>\n",
       "    </tr>\n",
       "    <tr>\n",
       "      <th>12356</th>\n",
       "      <td>2.0</td>\n",
       "      <td>303.0</td>\n",
       "      <td>325.0</td>\n",
       "      <td>269.905000</td>\n",
       "    </tr>\n",
       "    <tr>\n",
       "      <th>12358</th>\n",
       "      <td>1.0</td>\n",
       "      <td>149.0</td>\n",
       "      <td>150.0</td>\n",
       "      <td>683.200000</td>\n",
       "    </tr>\n",
       "  </tbody>\n",
       "</table>\n",
       "</div>"
      ],
      "text/plain": [
       "            frequency  recency      T  monetary_value\n",
       "CustomerID                                           \n",
       "12347             6.0    365.0  367.0      599.701667\n",
       "12348             3.0    283.0  358.0      301.480000\n",
       "12352             6.0    260.0  296.0      368.256667\n",
       "12356             2.0    303.0  325.0      269.905000\n",
       "12358             1.0    149.0  150.0      683.200000"
      ]
     },
     "metadata": {},
     "output_type": "display_data"
    }
   ],
   "source": [
    "# Drop all one-time-only customers as clv can only be calculated for returning customers\n",
    "returning_customers = clv.loc[clv['frequency'] > 0]\n",
    "print(len(returning_customers))\n",
    "display(returning_customers.head())"
   ]
  },
  {
   "cell_type": "code",
   "execution_count": 22,
   "metadata": {},
   "outputs": [
    {
     "name": "stdout",
     "output_type": "stream",
     "text": [
      "Pearson's r:  0.02\n"
     ]
    }
   ],
   "source": [
    "# Check for independence between Frequency and Monetary Value\n",
    "print(\"Pearson's r: \", round(np.corrcoef(returning_customers['monetary_value'],\n",
    "                                         returning_customers['frequency'])[0][1], 2))"
   ]
  },
  {
   "cell_type": "code",
   "execution_count": 23,
   "metadata": {},
   "outputs": [
    {
     "name": "stdout",
     "output_type": "stream",
     "text": [
      "<lifetimes.GammaGammaFitter: fitted with 2790 subjects, p: 2.10, q: 3.45, v: 485.89>\n"
     ]
    }
   ],
   "source": [
    "# Fit Gamma-Gamma-Model on returning customers\n",
    "ggf = GammaGammaFitter(penalizer_coef = 0)\n",
    "ggf.fit(returning_customers['frequency'],\n",
    "        returning_customers['monetary_value'])\n",
    "\n",
    "# Check results\n",
    "print(ggf)"
   ]
  },
  {
   "cell_type": "code",
   "execution_count": 24,
   "metadata": {},
   "outputs": [],
   "source": [
    "# Predict CLV for a given period (in months) with bgf and ggf\n",
    "clv_estimates = ggf.customer_lifetime_value(\n",
    "    bgf,\n",
    "    clv['frequency'],\n",
    "    clv['recency'],\n",
    "    clv['T'],\n",
    "    clv['monetary_value'],\n",
    "    time=4, # in months\n",
    "    discount_rate=0.00)  # none for evaluation purposes"
   ]
  },
  {
   "cell_type": "code",
   "execution_count": 25,
   "metadata": {},
   "outputs": [
    {
     "data": {
      "text/plain": [
       "CustomerID\n",
       "12346      96.323910\n",
       "12347    1069.320382\n",
       "12348     355.312894\n",
       "12349     453.557602\n",
       "12350     100.179139\n",
       "Name: clv, dtype: float64"
      ]
     },
     "metadata": {},
     "output_type": "display_data"
    }
   ],
   "source": [
    "# Check results\n",
    "display(clv_estimates.head())"
   ]
  },
  {
   "cell_type": "markdown",
   "metadata": {},
   "source": [
    "### Estimate average transaction values\n",
    "\n",
    "This method computes the conditional expectation of the average profit per transaction for a group of one or more customers."
   ]
  },
  {
   "cell_type": "code",
   "execution_count": 26,
   "metadata": {
    "scrolled": true
   },
   "outputs": [
    {
     "data": {
      "text/plain": [
       "CustomerID\n",
       "12346    416.945996\n",
       "12347    569.978846\n",
       "12348    333.784212\n",
       "12349    416.945996\n",
       "12350    416.945996\n",
       "dtype: float64"
      ]
     },
     "execution_count": 26,
     "metadata": {},
     "output_type": "execute_result"
    }
   ],
   "source": [
    "avg_value = ggf.conditional_expected_average_profit(clv['frequency'],\n",
    "                                                    clv['monetary_value'])\n",
    "\n",
    "# check resutls\n",
    "avg_value.head()"
   ]
  },
  {
   "cell_type": "code",
   "execution_count": 27,
   "metadata": {},
   "outputs": [
    {
     "data": {
      "image/png": "[encoded data removed]",
      "text/plain": [
       "<Figure size 432x288 with 1 Axes>"
      ]
     },
     "metadata": {
      "needs_background": "light"
     },
     "output_type": "display_data"
    }
   ],
   "source": [
    "sns.distplot(avg_value, bins=1500, color='rebeccapurple')\n",
    "plt.xlim(0,1500);"
   ]
  },
  {
   "cell_type": "markdown",
   "metadata": {},
   "source": [
    "**Observation:** The distribution differs quite a bit from the original values - see EDA notebook."
   ]
  },
  {
   "cell_type": "code",
   "execution_count": 28,
   "metadata": {},
   "outputs": [
    {
     "name": "stdout",
     "output_type": "stream",
     "text": [
      "Expected conditional average value: 441.159433169381\n",
      "Observed average value: 477.3803385139518\n"
     ]
    }
   ],
   "source": [
    "# Compare mean of all avg_predictions vs effectively observed values\n",
    "print(\"Expected conditional average value:\", avg_value.mean()) # all customers\n",
    "print(\"Observed average value:\", returning_customers['monetary_value'].mean()) # returning only!"
   ]
  },
  {
   "cell_type": "markdown",
   "metadata": {},
   "source": [
    "**Observation:** You cannot directly compare to monetary_value in clv_data, because the value of the first purchase is not calculated. From EDA I know that the average value per customer is 458 - so at least that is pretty close."
   ]
  },
  {
   "cell_type": "markdown",
   "metadata": {},
   "source": [
    "---"
   ]
  },
  {
   "cell_type": "markdown",
   "metadata": {},
   "source": [
    "# APPENDIX - 2nd run: Calculations after removing Outliers\n",
    "\n",
    "**Summary:\"\" I tested if outlier removal would improve the predictions, but it made the results worse."
   ]
  },
  {
   "cell_type": "code",
   "execution_count": 29,
   "metadata": {},
   "outputs": [
    {
     "name": "stdout",
     "output_type": "stream",
     "text": [
      "frequency\n",
      "Identified outliers: 240\n",
      "Percentage of outliers: 5.5%\n",
      "\n",
      "recency\n",
      "Identified outliers: 0\n",
      "Percentage of outliers: 0.0%\n",
      "\n",
      "T\n",
      "Identified outliers: 0\n",
      "Percentage of outliers: 0.0%\n",
      "\n",
      "monetary_value\n",
      "Identified outliers: 94\n",
      "Percentage of outliers: 2.2%\n",
      "\n"
     ]
    }
   ],
   "source": [
    "clean.count_outliers_IQR_method(clv, IQR_dist=2.5)"
   ]
  },
  {
   "cell_type": "code",
   "execution_count": 30,
   "metadata": {},
   "outputs": [
    {
     "name": "stdout",
     "output_type": "stream",
     "text": [
      "frequency\n",
      "Rows removed: 240\n",
      "\n",
      "recency\n",
      "Rows removed: 0\n",
      "\n",
      "T\n",
      "Rows removed: 0\n",
      "\n",
      "monetary_value\n",
      "Rows removed: 76\n",
      "\n",
      "\n",
      "Rows removed in total: 316\n",
      "\n"
     ]
    }
   ],
   "source": [
    "clv_out = clean.remove_outliers_IQR_method(clv, IQR_dist=2.5)  # chose IQR-Dist of 2.5"
   ]
  },
  {
   "cell_type": "code",
   "execution_count": 31,
   "metadata": {},
   "outputs": [],
   "source": [
    "# Get indices / ids of outlier customers\n",
    "ids_out = set(clv.index).difference(clv_out.index)\n",
    "assert len(ids_out) == len(clv) - len(clv_out)\n",
    "# Make a new transaction set without outliers\n",
    "clv_data_out = clv_data[~clv_data['CustomerID'].isin(ids_out)]"
   ]
  },
  {
   "cell_type": "code",
   "execution_count": 32,
   "metadata": {},
   "outputs": [],
   "source": [
    "# Fit model with calibration and holdout sets on new data\n",
    "summary_cal_holdout = calibration_and_holdout_data(clv_data_out, 'CustomerID', 'InvoiceDate', \n",
    "                                                   monetary_value_col='Sales',\n",
    "                                                   calibration_period_end='2011-07-09',  # 7 months\n",
    "                                                   observation_period_end='2011-12-09',  # 5 months\n",
    "                                                   ) "
   ]
  },
  {
   "cell_type": "code",
   "execution_count": 33,
   "metadata": {},
   "outputs": [
    {
     "name": "stdout",
     "output_type": "stream",
     "text": [
      "(2706, 7)\n"
     ]
    },
    {
     "data": {
      "text/html": [
       "<div>\n",
       "<style scoped>\n",
       "    .dataframe tbody tr th:only-of-type {\n",
       "        vertical-align: middle;\n",
       "    }\n",
       "\n",
       "    .dataframe tbody tr th {\n",
       "        vertical-align: top;\n",
       "    }\n",
       "\n",
       "    .dataframe thead th {\n",
       "        text-align: right;\n",
       "    }\n",
       "</style>\n",
       "<table border=\"1\" class=\"dataframe\">\n",
       "  <thead>\n",
       "    <tr style=\"text-align: right;\">\n",
       "      <th></th>\n",
       "      <th>frequency_cal</th>\n",
       "      <th>recency_cal</th>\n",
       "      <th>T_cal</th>\n",
       "      <th>monetary_value_cal</th>\n",
       "      <th>frequency_holdout</th>\n",
       "      <th>monetary_value_holdout</th>\n",
       "      <th>duration_holdout</th>\n",
       "    </tr>\n",
       "    <tr>\n",
       "      <th>CustomerID</th>\n",
       "      <th></th>\n",
       "      <th></th>\n",
       "      <th></th>\n",
       "      <th></th>\n",
       "      <th></th>\n",
       "      <th></th>\n",
       "      <th></th>\n",
       "    </tr>\n",
       "  </thead>\n",
       "  <tbody>\n",
       "    <tr>\n",
       "      <th>12346</th>\n",
       "      <td>0.0</td>\n",
       "      <td>0.0</td>\n",
       "      <td>172.0</td>\n",
       "      <td>0.000000</td>\n",
       "      <td>0.0</td>\n",
       "      <td>0.000000</td>\n",
       "      <td>&lt;153 * Days&gt;</td>\n",
       "    </tr>\n",
       "    <tr>\n",
       "      <th>12347</th>\n",
       "      <td>3.0</td>\n",
       "      <td>184.0</td>\n",
       "      <td>214.0</td>\n",
       "      <td>498.053333</td>\n",
       "      <td>3.0</td>\n",
       "      <td>26.300625</td>\n",
       "      <td>&lt;153 * Days&gt;</td>\n",
       "    </tr>\n",
       "    <tr>\n",
       "      <th>12348</th>\n",
       "      <td>2.0</td>\n",
       "      <td>110.0</td>\n",
       "      <td>205.0</td>\n",
       "      <td>297.220000</td>\n",
       "      <td>1.0</td>\n",
       "      <td>103.333333</td>\n",
       "      <td>&lt;153 * Days&gt;</td>\n",
       "    </tr>\n",
       "    <tr>\n",
       "      <th>12350</th>\n",
       "      <td>0.0</td>\n",
       "      <td>0.0</td>\n",
       "      <td>157.0</td>\n",
       "      <td>0.000000</td>\n",
       "      <td>0.0</td>\n",
       "      <td>0.000000</td>\n",
       "      <td>&lt;153 * Days&gt;</td>\n",
       "    </tr>\n",
       "    <tr>\n",
       "      <th>12352</th>\n",
       "      <td>3.0</td>\n",
       "      <td>34.0</td>\n",
       "      <td>143.0</td>\n",
       "      <td>421.770000</td>\n",
       "      <td>3.0</td>\n",
       "      <td>20.090000</td>\n",
       "      <td>&lt;153 * Days&gt;</td>\n",
       "    </tr>\n",
       "  </tbody>\n",
       "</table>\n",
       "</div>"
      ],
      "text/plain": [
       "            frequency_cal  recency_cal  T_cal  monetary_value_cal  \\\n",
       "CustomerID                                                          \n",
       "12346                 0.0          0.0  172.0            0.000000   \n",
       "12347                 3.0        184.0  214.0          498.053333   \n",
       "12348                 2.0        110.0  205.0          297.220000   \n",
       "12350                 0.0          0.0  157.0            0.000000   \n",
       "12352                 3.0         34.0  143.0          421.770000   \n",
       "\n",
       "            frequency_holdout  monetary_value_holdout duration_holdout  \n",
       "CustomerID                                                              \n",
       "12346                     0.0                0.000000     <153 * Days>  \n",
       "12347                     3.0               26.300625     <153 * Days>  \n",
       "12348                     1.0              103.333333     <153 * Days>  \n",
       "12350                     0.0                0.000000     <153 * Days>  \n",
       "12352                     3.0               20.090000     <153 * Days>  "
      ]
     },
     "metadata": {},
     "output_type": "display_data"
    }
   ],
   "source": [
    "# Check results\n",
    "print(summary_cal_holdout.shape)\n",
    "display(summary_cal_holdout.head())"
   ]
  },
  {
   "cell_type": "code",
   "execution_count": 34,
   "metadata": {},
   "outputs": [],
   "source": [
    "# 'Repair' duration_holdout: set to float - should not happen according to docs ...\n",
    "import re\n",
    "summary_cal_holdout['duration_holdout'] = \\\n",
    "    summary_cal_holdout['duration_holdout'].astype(str)    \n",
    "summary_cal_holdout['duration_holdout'] = \\\n",
    "    summary_cal_holdout['duration_holdout'].apply(lambda x: int(re.findall('\\d+', x)[0]))"
   ]
  },
  {
   "cell_type": "code",
   "execution_count": 35,
   "metadata": {},
   "outputs": [
    {
     "data": {
      "text/html": [
       "<div>\n",
       "<style scoped>\n",
       "    .dataframe tbody tr th:only-of-type {\n",
       "        vertical-align: middle;\n",
       "    }\n",
       "\n",
       "    .dataframe tbody tr th {\n",
       "        vertical-align: top;\n",
       "    }\n",
       "\n",
       "    .dataframe thead th {\n",
       "        text-align: right;\n",
       "    }\n",
       "</style>\n",
       "<table border=\"1\" class=\"dataframe\">\n",
       "  <thead>\n",
       "    <tr style=\"text-align: right;\">\n",
       "      <th></th>\n",
       "      <th>frequency_cal</th>\n",
       "      <th>recency_cal</th>\n",
       "      <th>T_cal</th>\n",
       "      <th>monetary_value_cal</th>\n",
       "      <th>frequency_holdout</th>\n",
       "      <th>monetary_value_holdout</th>\n",
       "      <th>duration_holdout</th>\n",
       "    </tr>\n",
       "    <tr>\n",
       "      <th>CustomerID</th>\n",
       "      <th></th>\n",
       "      <th></th>\n",
       "      <th></th>\n",
       "      <th></th>\n",
       "      <th></th>\n",
       "      <th></th>\n",
       "      <th></th>\n",
       "    </tr>\n",
       "  </thead>\n",
       "  <tbody>\n",
       "    <tr>\n",
       "      <th>12346</th>\n",
       "      <td>0.0</td>\n",
       "      <td>0.0</td>\n",
       "      <td>172.0</td>\n",
       "      <td>0.000000</td>\n",
       "      <td>0.0</td>\n",
       "      <td>0.000000</td>\n",
       "      <td>153</td>\n",
       "    </tr>\n",
       "    <tr>\n",
       "      <th>12347</th>\n",
       "      <td>3.0</td>\n",
       "      <td>184.0</td>\n",
       "      <td>214.0</td>\n",
       "      <td>498.053333</td>\n",
       "      <td>3.0</td>\n",
       "      <td>26.300625</td>\n",
       "      <td>153</td>\n",
       "    </tr>\n",
       "    <tr>\n",
       "      <th>12348</th>\n",
       "      <td>2.0</td>\n",
       "      <td>110.0</td>\n",
       "      <td>205.0</td>\n",
       "      <td>297.220000</td>\n",
       "      <td>1.0</td>\n",
       "      <td>103.333333</td>\n",
       "      <td>153</td>\n",
       "    </tr>\n",
       "    <tr>\n",
       "      <th>12350</th>\n",
       "      <td>0.0</td>\n",
       "      <td>0.0</td>\n",
       "      <td>157.0</td>\n",
       "      <td>0.000000</td>\n",
       "      <td>0.0</td>\n",
       "      <td>0.000000</td>\n",
       "      <td>153</td>\n",
       "    </tr>\n",
       "    <tr>\n",
       "      <th>12352</th>\n",
       "      <td>3.0</td>\n",
       "      <td>34.0</td>\n",
       "      <td>143.0</td>\n",
       "      <td>421.770000</td>\n",
       "      <td>3.0</td>\n",
       "      <td>20.090000</td>\n",
       "      <td>153</td>\n",
       "    </tr>\n",
       "  </tbody>\n",
       "</table>\n",
       "</div>"
      ],
      "text/plain": [
       "            frequency_cal  recency_cal  T_cal  monetary_value_cal  \\\n",
       "CustomerID                                                          \n",
       "12346                 0.0          0.0  172.0            0.000000   \n",
       "12347                 3.0        184.0  214.0          498.053333   \n",
       "12348                 2.0        110.0  205.0          297.220000   \n",
       "12350                 0.0          0.0  157.0            0.000000   \n",
       "12352                 3.0         34.0  143.0          421.770000   \n",
       "\n",
       "            frequency_holdout  monetary_value_holdout  duration_holdout  \n",
       "CustomerID                                                               \n",
       "12346                     0.0                0.000000               153  \n",
       "12347                     3.0               26.300625               153  \n",
       "12348                     1.0              103.333333               153  \n",
       "12350                     0.0                0.000000               153  \n",
       "12352                     3.0               20.090000               153  "
      ]
     },
     "metadata": {},
     "output_type": "display_data"
    }
   ],
   "source": [
    "# Check results\n",
    "display(summary_cal_holdout.head())"
   ]
  },
  {
   "cell_type": "code",
   "execution_count": 36,
   "metadata": {},
   "outputs": [
    {
     "data": {
      "text/plain": [
       "<lifetimes.BetaGeoFitter: fitted with 2706 subjects, a: 0.00, alpha: 239.04, b: 2.48, r: 1.82>"
      ]
     },
     "execution_count": 36,
     "metadata": {},
     "output_type": "execute_result"
    }
   ],
   "source": [
    "# Fit on the _cal columns, and test on the _holdout columns\"\"\"\n",
    "bgf_out = BetaGeoFitter(penalizer_coef=0.0)\n",
    "bgf_out.fit(summary_cal_holdout['frequency_cal'], \n",
    "        summary_cal_holdout['recency_cal'], \n",
    "        summary_cal_holdout['T_cal'])"
   ]
  },
  {
   "cell_type": "code",
   "execution_count": 37,
   "metadata": {},
   "outputs": [
    {
     "data": {
      "image/png": "[encoded data removed]",
      "text/plain": [
       "<Figure size 864x432 with 1 Axes>"
      ]
     },
     "metadata": {
      "needs_background": "light"
     },
     "output_type": "display_data"
    }
   ],
   "source": [
    "# Plot results\n",
    "plot_calibration_purchases_vs_holdout_purchases(bgf_out, \n",
    "                                                summary_cal_holdout, \n",
    "                                                figsize=(12,6),\n",
    "                                                n=int(summary_cal_holdout['frequency_cal'].max() + 1),\n",
    "                                                color=['rebeccapurple', 'yellow']\n",
    "                                                );"
   ]
  },
  {
   "cell_type": "code",
   "execution_count": 38,
   "metadata": {},
   "outputs": [],
   "source": [
    "def predict_individual_purchases_float(model, df, t):\n",
    "    \"\"\"Predict number of purchases for period t for each customer\n",
    "    and return them, rounded to int, in a DataFrame.\n",
    "    \"\"\"\n",
    "    pred_list = []\n",
    "    for customer in df.itertuples():\n",
    "        pred_purchases = model.predict(t, \n",
    "                                     int(customer[1]), \n",
    "                                     int(customer[2]), \n",
    "                                     int(customer[3])\n",
    "                                     )\n",
    "        pred_list.append({'id': customer[0], \n",
    "                          'pred_purchases': pred_purchases})  # NOT round to int\n",
    "\n",
    "    pred_df = pd.DataFrame(pred_list, columns=['id', 'pred_purchases'])\n",
    "    pred_df.set_index('id', inplace=True)\n",
    "    \n",
    "    return pred_df"
   ]
  },
  {
   "cell_type": "code",
   "execution_count": 39,
   "metadata": {},
   "outputs": [
    {
     "data": {
      "text/html": [
       "<div>\n",
       "<style scoped>\n",
       "    .dataframe tbody tr th:only-of-type {\n",
       "        vertical-align: middle;\n",
       "    }\n",
       "\n",
       "    .dataframe tbody tr th {\n",
       "        vertical-align: top;\n",
       "    }\n",
       "\n",
       "    .dataframe thead th {\n",
       "        text-align: right;\n",
       "    }\n",
       "</style>\n",
       "<table border=\"1\" class=\"dataframe\">\n",
       "  <thead>\n",
       "    <tr style=\"text-align: right;\">\n",
       "      <th></th>\n",
       "      <th>pred_purchases</th>\n",
       "    </tr>\n",
       "    <tr>\n",
       "      <th>id</th>\n",
       "      <th></th>\n",
       "    </tr>\n",
       "  </thead>\n",
       "  <tbody>\n",
       "    <tr>\n",
       "      <th>12346</th>\n",
       "      <td>0</td>\n",
       "    </tr>\n",
       "    <tr>\n",
       "      <th>12347</th>\n",
       "      <td>1</td>\n",
       "    </tr>\n",
       "    <tr>\n",
       "      <th>12348</th>\n",
       "      <td>1</td>\n",
       "    </tr>\n",
       "    <tr>\n",
       "      <th>12349</th>\n",
       "      <td>1</td>\n",
       "    </tr>\n",
       "    <tr>\n",
       "      <th>12350</th>\n",
       "      <td>0</td>\n",
       "    </tr>\n",
       "  </tbody>\n",
       "</table>\n",
       "</div>"
      ],
      "text/plain": [
       "       pred_purchases\n",
       "id                   \n",
       "12346               0\n",
       "12347               1\n",
       "12348               1\n",
       "12349               1\n",
       "12350               0"
      ]
     },
     "metadata": {},
     "output_type": "display_data"
    }
   ],
   "source": [
    "# Call function and check results\n",
    "t = summary_cal_holdout.iloc[0,-1]  # set no of periods == duration_holdout\n",
    "pred_purchases = predict_individual_purchases(bgf_out, clv_out, t)\n",
    "display(pred_purchases.head())"
   ]
  },
  {
   "cell_type": "code",
   "execution_count": 40,
   "metadata": {},
   "outputs": [
    {
     "name": "stdout",
     "output_type": "stream",
     "text": [
      "Pearson's R:  0.822\n"
     ]
    }
   ],
   "source": [
    "# Compare predictions to effective frequencies in holdout set\n",
    "pred_evaluation = pd.concat([pred_purchases, \n",
    "                            summary_cal_holdout[['frequency_holdout']]], \n",
    "                            axis=1, \n",
    "                            sort=True\n",
    "                            )\n",
    "\n",
    "# For eval only look at customers with frequency value in holdout\n",
    "pred_evaluation.dropna(how = 'any', inplace=True)\n",
    "assert len(pred_evaluation) == len(summary_cal_holdout)\n",
    "\n",
    "print(\"Pearson's R: \", round(pred_evaluation.corr().iloc[0,1],3))"
   ]
  },
  {
   "cell_type": "code",
   "execution_count": 41,
   "metadata": {},
   "outputs": [
    {
     "name": "stdout",
     "output_type": "stream",
     "text": [
      "Mean diff:  0.7930524759793053\n"
     ]
    }
   ],
   "source": [
    "pred_evaluation['diff'] = np.abs(pred_evaluation['pred_purchases'] - pred_evaluation['frequency_holdout'])\n",
    "print(\"Mean diff: \", pred_evaluation['diff'].sum() / len(pred_evaluation))"
   ]
  },
  {
   "cell_type": "code",
   "execution_count": 42,
   "metadata": {},
   "outputs": [
    {
     "data": {
      "text/plain": [
       "0.0    0.480414\n",
       "1.0    0.333703\n",
       "2.0    0.124908\n",
       "3.0    0.040650\n",
       "4.0    0.014782\n",
       "5.0    0.004804\n",
       "6.0    0.000739\n",
       "Name: diff, dtype: float64"
      ]
     },
     "metadata": {},
     "output_type": "display_data"
    },
    {
     "data": {
      "image/png": "[encoded data removed]",
      "text/plain": [
       "<Figure size 432x288 with 1 Axes>"
      ]
     },
     "metadata": {
      "needs_background": "light"
     },
     "output_type": "display_data"
    }
   ],
   "source": [
    "display(pred_evaluation['diff'].value_counts(dropna=False) / len(pred_evaluation))\n",
    "sns.distplot(pred_evaluation['diff']);"
   ]
  },
  {
   "cell_type": "markdown",
   "metadata": {},
   "source": [
    "### Estimate CLV"
   ]
  },
  {
   "cell_type": "code",
   "execution_count": 43,
   "metadata": {},
   "outputs": [
    {
     "name": "stdout",
     "output_type": "stream",
     "text": [
      "2474\n"
     ]
    },
    {
     "data": {
      "text/html": [
       "<div>\n",
       "<style scoped>\n",
       "    .dataframe tbody tr th:only-of-type {\n",
       "        vertical-align: middle;\n",
       "    }\n",
       "\n",
       "    .dataframe tbody tr th {\n",
       "        vertical-align: top;\n",
       "    }\n",
       "\n",
       "    .dataframe thead th {\n",
       "        text-align: right;\n",
       "    }\n",
       "</style>\n",
       "<table border=\"1\" class=\"dataframe\">\n",
       "  <thead>\n",
       "    <tr style=\"text-align: right;\">\n",
       "      <th></th>\n",
       "      <th>frequency</th>\n",
       "      <th>recency</th>\n",
       "      <th>T</th>\n",
       "      <th>monetary_value</th>\n",
       "    </tr>\n",
       "    <tr>\n",
       "      <th>CustomerID</th>\n",
       "      <th></th>\n",
       "      <th></th>\n",
       "      <th></th>\n",
       "      <th></th>\n",
       "    </tr>\n",
       "  </thead>\n",
       "  <tbody>\n",
       "    <tr>\n",
       "      <th>12347</th>\n",
       "      <td>6.0</td>\n",
       "      <td>365.0</td>\n",
       "      <td>367.0</td>\n",
       "      <td>599.701667</td>\n",
       "    </tr>\n",
       "    <tr>\n",
       "      <th>12348</th>\n",
       "      <td>3.0</td>\n",
       "      <td>283.0</td>\n",
       "      <td>358.0</td>\n",
       "      <td>301.480000</td>\n",
       "    </tr>\n",
       "    <tr>\n",
       "      <th>12352</th>\n",
       "      <td>6.0</td>\n",
       "      <td>260.0</td>\n",
       "      <td>296.0</td>\n",
       "      <td>368.256667</td>\n",
       "    </tr>\n",
       "    <tr>\n",
       "      <th>12356</th>\n",
       "      <td>2.0</td>\n",
       "      <td>303.0</td>\n",
       "      <td>325.0</td>\n",
       "      <td>269.905000</td>\n",
       "    </tr>\n",
       "    <tr>\n",
       "      <th>12358</th>\n",
       "      <td>1.0</td>\n",
       "      <td>149.0</td>\n",
       "      <td>150.0</td>\n",
       "      <td>683.200000</td>\n",
       "    </tr>\n",
       "  </tbody>\n",
       "</table>\n",
       "</div>"
      ],
      "text/plain": [
       "            frequency  recency      T  monetary_value\n",
       "CustomerID                                           \n",
       "12347             6.0    365.0  367.0      599.701667\n",
       "12348             3.0    283.0  358.0      301.480000\n",
       "12352             6.0    260.0  296.0      368.256667\n",
       "12356             2.0    303.0  325.0      269.905000\n",
       "12358             1.0    149.0  150.0      683.200000"
      ]
     },
     "metadata": {},
     "output_type": "display_data"
    }
   ],
   "source": [
    "returning_out = clv_out.loc[clv_out['frequency'] > 0]\n",
    "print(len(returning_out))\n",
    "display(returning_out.head())"
   ]
  },
  {
   "cell_type": "code",
   "execution_count": 44,
   "metadata": {},
   "outputs": [
    {
     "name": "stdout",
     "output_type": "stream",
     "text": [
      "<lifetimes.GammaGammaFitter: fitted with 2474 subjects, p: 1.81, q: 7.00, v: 1153.21>\n"
     ]
    }
   ],
   "source": [
    "# Fit Gamma-Gamma-Model on returning customers\n",
    "ggf_out = GammaGammaFitter(penalizer_coef = 0)\n",
    "ggf_out.fit(returning_out['frequency'],\n",
    "            returning_out['monetary_value'])\n",
    "\n",
    "# Check results\n",
    "print(ggf_out)"
   ]
  },
  {
   "cell_type": "code",
   "execution_count": 45,
   "metadata": {},
   "outputs": [],
   "source": [
    "# Predict CLV for a given period (in months) with bgf and ggf\n",
    "clv_estimates_out = ggf_out.customer_lifetime_value(\n",
    "    bgf_out,\n",
    "    clv['frequency'],\n",
    "    clv['recency'],\n",
    "    clv['T'],\n",
    "    clv['monetary_value'],\n",
    "    time=4, # in months\n",
    "    discount_rate=0.00)  # none for evaluation purposes"
   ]
  },
  {
   "cell_type": "code",
   "execution_count": 46,
   "metadata": {
    "scrolled": true
   },
   "outputs": [
    {
     "data": {
      "text/plain": [
       "CustomerID\n",
       "12346    348.548241\n",
       "12347    510.432684\n",
       "12348    326.165414\n",
       "12349    348.548241\n",
       "12350    348.548241\n",
       "dtype: float64"
      ]
     },
     "execution_count": 46,
     "metadata": {},
     "output_type": "execute_result"
    }
   ],
   "source": [
    "avg_value_out = ggf_out.conditional_expected_average_profit(clv['frequency'],\n",
    "                                                        clv['monetary_value'])\n",
    "\n",
    "# check resutls\n",
    "avg_value_out.head()"
   ]
  },
  {
   "cell_type": "code",
   "execution_count": 47,
   "metadata": {},
   "outputs": [
    {
     "data": {
      "image/png": "[encoded data removed]",
      "text/plain": [
       "<Figure size 432x288 with 1 Axes>"
      ]
     },
     "metadata": {
      "needs_background": "light"
     },
     "output_type": "display_data"
    }
   ],
   "source": [
    "sns.distplot(avg_value_out, bins=1500, color='rebeccapurple')\n",
    "plt.xlim(0,1500);"
   ]
  },
  {
   "cell_type": "code",
   "execution_count": 48,
   "metadata": {},
   "outputs": [
    {
     "name": "stdout",
     "output_type": "stream",
     "text": [
      "Expected conditional average value: 386.3713404405767\n",
      "Observed average value: 335.16707528133816\n"
     ]
    }
   ],
   "source": [
    "# Compare mean of all avg_predictions vs effectively observed values\n",
    "print(\"Expected conditional average value:\", avg_value_out.mean()) # all customers\n",
    "print(\"Observed average value:\", returning_out['monetary_value'].mean()) # returning only!"
   ]
  },
  {
   "cell_type": "markdown",
   "metadata": {},
   "source": [
    "---"
   ]
  }
 ],
 "metadata": {
  "kernelspec": {
   "display_name": "Python [default]",
   "language": "python",
   "name": "python3"
  },
  "language_info": {
   "codemirror_mode": {
    "name": "ipython",
    "version": 3
   },
   "file_extension": ".py",
   "mimetype": "text/x-python",
   "name": "python",
   "nbconvert_exporter": "python",
   "pygments_lexer": "ipython3",
   "version": "3.6.3"
  }
 },
 "nbformat": 4,
 "nbformat_minor": 2
}
