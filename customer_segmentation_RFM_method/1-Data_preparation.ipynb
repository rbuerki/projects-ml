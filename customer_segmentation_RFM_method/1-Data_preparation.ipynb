{
 "cells": [
  {
   "cell_type": "markdown",
   "metadata": {},
   "source": [
    "# Data Preparation (and low-key EDA)\n",
    "\n",
    "Clean Data, transform to RFM-Format. Check Pareto Principle. \n",
    "\n",
    "Note: This is the same data as in the 'customer_life_time_calculatio' project. I performed some EDA there, so I have focused on data preparation here (apart from a small analysis part at the end of this notebook).\n",
    "\n",
    "### Data Sources\n",
    "- `data/OnlineRetail.xlsx`: A transnational data set which contains all the transactions occurring between 01/12/2010 and 09/12/2011 for a UK-based and registered non-store online retail. Many customers of the company are wholesalers.\n",
    "\n",
    "### Data Output\n",
    "- `data/interim/rfm_data.csv`: Transformed data, a customer-level dataset wit recency, frequency, and monetary value columns. Will be used for modelling in the coming notebooks.\n",
    "\n",
    "### Changes\n",
    "\n",
    "- 2019-02-18: Start project\n",
    "\n"
   ]
  },
  {
   "cell_type": "markdown",
   "metadata": {},
   "source": [
    "---"
   ]
  },
  {
   "cell_type": "markdown",
   "metadata": {},
   "source": [
    "### Import libraries, load data"
   ]
  },
  {
   "cell_type": "code",
   "execution_count": 2,
   "metadata": {},
   "outputs": [],
   "source": [
    "# Load libraries\n",
    "import numpy as np\n",
    "import pandas as pd\n",
    "from tqdm import tqdm\n",
    "import datetime as dt\n",
    "\n",
    "# My functions\n",
    "import EDA_functions as EDA\n",
    "import cleaning_functions as cleaning\n",
    "\n",
    "# Visualization\n",
    "import matplotlib.pyplot as plt\n",
    "import seaborn as sns #, sns.set_style('whitegrid')\n",
    "color = 'rebeccapurple'\n",
    "%matplotlib inline\n",
    "\n",
    "# Display settings\n",
    "from IPython.display import display\n",
    "pd.options.display.max_columns = 100"
   ]
  },
  {
   "cell_type": "code",
   "execution_count": 3,
   "metadata": {},
   "outputs": [],
   "source": [
    "# Import data\n",
    "transaction_data = pd.read_excel('data/raw/OnlineRetail.xlsx')"
   ]
  },
  {
   "cell_type": "markdown",
   "metadata": {},
   "source": [
    "## 1) Prepare Data\n",
    "### Assess basic data structure"
   ]
  },
  {
   "cell_type": "code",
   "execution_count": 4,
   "metadata": {},
   "outputs": [
    {
     "data": {
      "text/html": [
       "<div>\n",
       "<style scoped>\n",
       "    .dataframe tbody tr th:only-of-type {\n",
       "        vertical-align: middle;\n",
       "    }\n",
       "\n",
       "    .dataframe tbody tr th {\n",
       "        vertical-align: top;\n",
       "    }\n",
       "\n",
       "    .dataframe thead th {\n",
       "        text-align: right;\n",
       "    }\n",
       "</style>\n",
       "<table border=\"1\" class=\"dataframe\">\n",
       "  <thead>\n",
       "    <tr style=\"text-align: right;\">\n",
       "      <th></th>\n",
       "      <th>InvoiceNo</th>\n",
       "      <th>StockCode</th>\n",
       "      <th>Description</th>\n",
       "      <th>Quantity</th>\n",
       "      <th>InvoiceDate</th>\n",
       "      <th>UnitPrice</th>\n",
       "      <th>CustomerID</th>\n",
       "      <th>Country</th>\n",
       "    </tr>\n",
       "  </thead>\n",
       "  <tbody>\n",
       "    <tr>\n",
       "      <th>0</th>\n",
       "      <td>536365</td>\n",
       "      <td>85123A</td>\n",
       "      <td>WHITE HANGING HEART T-LIGHT HOLDER</td>\n",
       "      <td>6</td>\n",
       "      <td>2010-12-01 08:26:00</td>\n",
       "      <td>2.55</td>\n",
       "      <td>17850.0</td>\n",
       "      <td>United Kingdom</td>\n",
       "    </tr>\n",
       "    <tr>\n",
       "      <th>1</th>\n",
       "      <td>536365</td>\n",
       "      <td>71053</td>\n",
       "      <td>WHITE METAL LANTERN</td>\n",
       "      <td>6</td>\n",
       "      <td>2010-12-01 08:26:00</td>\n",
       "      <td>3.39</td>\n",
       "      <td>17850.0</td>\n",
       "      <td>United Kingdom</td>\n",
       "    </tr>\n",
       "    <tr>\n",
       "      <th>2</th>\n",
       "      <td>536365</td>\n",
       "      <td>84406B</td>\n",
       "      <td>CREAM CUPID HEARTS COAT HANGER</td>\n",
       "      <td>8</td>\n",
       "      <td>2010-12-01 08:26:00</td>\n",
       "      <td>2.75</td>\n",
       "      <td>17850.0</td>\n",
       "      <td>United Kingdom</td>\n",
       "    </tr>\n",
       "    <tr>\n",
       "      <th>3</th>\n",
       "      <td>536365</td>\n",
       "      <td>84029G</td>\n",
       "      <td>KNITTED UNION FLAG HOT WATER BOTTLE</td>\n",
       "      <td>6</td>\n",
       "      <td>2010-12-01 08:26:00</td>\n",
       "      <td>3.39</td>\n",
       "      <td>17850.0</td>\n",
       "      <td>United Kingdom</td>\n",
       "    </tr>\n",
       "    <tr>\n",
       "      <th>4</th>\n",
       "      <td>536365</td>\n",
       "      <td>84029E</td>\n",
       "      <td>RED WOOLLY HOTTIE WHITE HEART.</td>\n",
       "      <td>6</td>\n",
       "      <td>2010-12-01 08:26:00</td>\n",
       "      <td>3.39</td>\n",
       "      <td>17850.0</td>\n",
       "      <td>United Kingdom</td>\n",
       "    </tr>\n",
       "  </tbody>\n",
       "</table>\n",
       "</div>"
      ],
      "text/plain": [
       "  InvoiceNo StockCode                          Description  Quantity  \\\n",
       "0    536365    85123A   WHITE HANGING HEART T-LIGHT HOLDER         6   \n",
       "1    536365     71053                  WHITE METAL LANTERN         6   \n",
       "2    536365    84406B       CREAM CUPID HEARTS COAT HANGER         8   \n",
       "3    536365    84029G  KNITTED UNION FLAG HOT WATER BOTTLE         6   \n",
       "4    536365    84029E       RED WOOLLY HOTTIE WHITE HEART.         6   \n",
       "\n",
       "          InvoiceDate  UnitPrice  CustomerID         Country  \n",
       "0 2010-12-01 08:26:00       2.55     17850.0  United Kingdom  \n",
       "1 2010-12-01 08:26:00       3.39     17850.0  United Kingdom  \n",
       "2 2010-12-01 08:26:00       2.75     17850.0  United Kingdom  \n",
       "3 2010-12-01 08:26:00       3.39     17850.0  United Kingdom  \n",
       "4 2010-12-01 08:26:00       3.39     17850.0  United Kingdom  "
      ]
     },
     "execution_count": 4,
     "metadata": {},
     "output_type": "execute_result"
    }
   ],
   "source": [
    "transaction_data.head()"
   ]
  },
  {
   "cell_type": "code",
   "execution_count": 5,
   "metadata": {},
   "outputs": [
    {
     "name": "stdout",
     "output_type": "stream",
     "text": [
      "<class 'pandas.core.frame.DataFrame'>\n",
      "RangeIndex: 541909 entries, 0 to 541908\n",
      "Data columns (total 8 columns):\n",
      "InvoiceNo      541909 non-null object\n",
      "StockCode      541909 non-null object\n",
      "Description    540455 non-null object\n",
      "Quantity       541909 non-null int64\n",
      "InvoiceDate    541909 non-null datetime64[ns]\n",
      "UnitPrice      541909 non-null float64\n",
      "CustomerID     406829 non-null float64\n",
      "Country        541909 non-null object\n",
      "dtypes: datetime64[ns](1), float64(2), int64(1), object(4)\n",
      "memory usage: 33.1+ MB\n"
     ]
    }
   ],
   "source": [
    "transaction_data.info()"
   ]
  },
  {
   "cell_type": "markdown",
   "metadata": {},
   "source": [
    "### Clean data \n",
    "\n",
    "Note: EDA for this set was performed in the `calculate customer lifetime value` project. These are the main findings:\n",
    "\n",
    "**Observations:**\n",
    "- 90% of orders from UK\n",
    "- 305 days with orders in period\n",
    "- selling about 4000+ different products\n",
    "- 4373 customers\n",
    "- approx 25% of transactions without customerID\n",
    "\n",
    "Need for cleaning:\n",
    "- drop orders with quantities <= 0 (are returns)   # could also be kept and marked as such\n",
    "- drop orders with unit_price <= 0 (are returns)   # could also be kept and marked as such\n",
    "- drop orders with missing customer ID\n",
    "- add new column sales (quant * price)\n",
    "- set period to 1 year exactly (to make things clean)\n",
    "- normalize dates to days (remove time)\n",
    "- include customers from UK only (to exclude any possible bias from origin of customers)\n",
    "- drop cols we won't need no more\n",
    "- group by invoice numbers (sum sales)"
   ]
  },
  {
   "cell_type": "code",
   "execution_count": 6,
   "metadata": {},
   "outputs": [],
   "source": [
    "# Clean according to list\n",
    "transactions = transaction_data.copy()\n",
    "transactions = transactions.loc[transactions['CustomerID'] != np.nan]\n",
    "transactions = transactions.loc[transactions['Quantity'] > 0]\n",
    "transactions = transactions.loc[transactions['UnitPrice'] > 0]\n",
    "transactions = transactions.loc[transactions['Country'] == 'United Kingdom']\n",
    "transactions = transactions.loc[transactions['InvoiceDate'] >= '2010-12-09']\n",
    "transactions['InvoiceDate'] = pd.to_datetime(transactions['InvoiceDate'].dt.date)\n",
    "transactions['CustomerID'] = transactions['CustomerID'].astype(str).str.split('.').str.get(0)\n",
    "transactions['Sales'] = transactions['Quantity'] * transactions['UnitPrice']\n",
    "transactions.drop(['StockCode', 'Description', 'Country',\n",
    "                   'UnitPrice', 'Quantity'], inplace=True, axis=1)\n",
    "\n",
    "assert transactions.isnull().sum().sum() == 0, \"NaN in the Set\"\n",
    "\n",
    "# Create df grouped by purchase (InvoiceNo)\n",
    "rfm_monetary = pd.DataFrame(transactions.groupby('InvoiceNo')['Sales'].sum())\n",
    "rfm_customer = pd.DataFrame(transactions.groupby('InvoiceNo')['CustomerID'].max())\n",
    "rfm_date = pd.DataFrame(transactions.groupby('InvoiceNo')['InvoiceDate'].max())\n",
    "rfm_input = pd.concat([rfm_customer, rfm_date, rfm_monetary], axis=1, sort=True)"
   ]
  },
  {
   "cell_type": "code",
   "execution_count": 7,
   "metadata": {},
   "outputs": [
    {
     "name": "stdout",
     "output_type": "stream",
     "text": [
      "unique customers:  3863\n",
      "unique transactions:  17339\n"
     ]
    }
   ],
   "source": [
    "# Check new shape\n",
    "print(\"unique customers: \", rfm_input['CustomerID'].nunique())\n",
    "print(\"unique transactions: \", len(rfm_input))"
   ]
  },
  {
   "cell_type": "markdown",
   "metadata": {},
   "source": [
    "### Create RFM-Metrics\n",
    "Create a customer-level dataset and add recency, frequency, and monetary value data to it. Attention, the definitions of recency and frequency differ from those in the lifetimes package (CLV project)!\n",
    "\n",
    "- `recency`: the number of days that have elapsed since the customer last purchased something \n",
    "- `frequency`: number of days with purchases during the year. Monetary value is the amount that the customer spent during the year. "
   ]
  },
  {
   "cell_type": "code",
   "execution_count": 8,
   "metadata": {},
   "outputs": [
    {
     "data": {
      "text/html": [
       "<div>\n",
       "<style scoped>\n",
       "    .dataframe tbody tr th:only-of-type {\n",
       "        vertical-align: middle;\n",
       "    }\n",
       "\n",
       "    .dataframe tbody tr th {\n",
       "        vertical-align: top;\n",
       "    }\n",
       "\n",
       "    .dataframe thead th {\n",
       "        text-align: right;\n",
       "    }\n",
       "</style>\n",
       "<table border=\"1\" class=\"dataframe\">\n",
       "  <thead>\n",
       "    <tr style=\"text-align: right;\">\n",
       "      <th></th>\n",
       "      <th>CustomerID</th>\n",
       "      <th>InvoiceDate</th>\n",
       "      <th>Sales</th>\n",
       "    </tr>\n",
       "    <tr>\n",
       "      <th>InvoiceNo</th>\n",
       "      <th></th>\n",
       "      <th></th>\n",
       "      <th></th>\n",
       "    </tr>\n",
       "  </thead>\n",
       "  <tbody>\n",
       "    <tr>\n",
       "      <th>537879</th>\n",
       "      <td>14243</td>\n",
       "      <td>2010-12-09</td>\n",
       "      <td>213.30</td>\n",
       "    </tr>\n",
       "    <tr>\n",
       "      <th>537880</th>\n",
       "      <td>12963</td>\n",
       "      <td>2010-12-09</td>\n",
       "      <td>365.80</td>\n",
       "    </tr>\n",
       "    <tr>\n",
       "      <th>537881</th>\n",
       "      <td>15513</td>\n",
       "      <td>2010-12-09</td>\n",
       "      <td>956.50</td>\n",
       "    </tr>\n",
       "    <tr>\n",
       "      <th>537882</th>\n",
       "      <td>15079</td>\n",
       "      <td>2010-12-09</td>\n",
       "      <td>141.95</td>\n",
       "    </tr>\n",
       "    <tr>\n",
       "      <th>537883</th>\n",
       "      <td>14437</td>\n",
       "      <td>2010-12-09</td>\n",
       "      <td>63.00</td>\n",
       "    </tr>\n",
       "  </tbody>\n",
       "</table>\n",
       "</div>"
      ],
      "text/plain": [
       "          CustomerID InvoiceDate   Sales\n",
       "InvoiceNo                               \n",
       "537879         14243  2010-12-09  213.30\n",
       "537880         12963  2010-12-09  365.80\n",
       "537881         15513  2010-12-09  956.50\n",
       "537882         15079  2010-12-09  141.95\n",
       "537883         14437  2010-12-09   63.00"
      ]
     },
     "execution_count": 8,
     "metadata": {},
     "output_type": "execute_result"
    }
   ],
   "source": [
    "rfm_input.head()"
   ]
  },
  {
   "cell_type": "code",
   "execution_count": 9,
   "metadata": {},
   "outputs": [],
   "source": [
    "rfm_value = rfm_input.groupby('CustomerID')['Sales'].sum()\n",
    "rfm_frequency = rfm_input.groupby('CustomerID')['Sales'].count()\n",
    "rfm_date = rfm_input.groupby('CustomerID')['InvoiceDate'].max()\n",
    "rfm_data = pd.concat([rfm_value, rfm_frequency, rfm_date], axis=1, sort=True)\n",
    "rfm_data.columns = ['sales', 'frequency', 'last_date']"
   ]
  },
  {
   "cell_type": "code",
   "execution_count": 10,
   "metadata": {},
   "outputs": [
    {
     "data": {
      "text/html": [
       "<div>\n",
       "<style scoped>\n",
       "    .dataframe tbody tr th:only-of-type {\n",
       "        vertical-align: middle;\n",
       "    }\n",
       "\n",
       "    .dataframe tbody tr th {\n",
       "        vertical-align: top;\n",
       "    }\n",
       "\n",
       "    .dataframe thead th {\n",
       "        text-align: right;\n",
       "    }\n",
       "</style>\n",
       "<table border=\"1\" class=\"dataframe\">\n",
       "  <thead>\n",
       "    <tr style=\"text-align: right;\">\n",
       "      <th></th>\n",
       "      <th>sales</th>\n",
       "      <th>frequency</th>\n",
       "      <th>last_date</th>\n",
       "    </tr>\n",
       "    <tr>\n",
       "      <th>CustomerID</th>\n",
       "      <th></th>\n",
       "      <th></th>\n",
       "      <th></th>\n",
       "    </tr>\n",
       "  </thead>\n",
       "  <tbody>\n",
       "    <tr>\n",
       "      <th>12346</th>\n",
       "      <td>77183.60</td>\n",
       "      <td>1</td>\n",
       "      <td>2011-01-18</td>\n",
       "    </tr>\n",
       "    <tr>\n",
       "      <th>12747</th>\n",
       "      <td>3837.45</td>\n",
       "      <td>10</td>\n",
       "      <td>2011-12-07</td>\n",
       "    </tr>\n",
       "    <tr>\n",
       "      <th>12748</th>\n",
       "      <td>31854.58</td>\n",
       "      <td>195</td>\n",
       "      <td>2011-12-09</td>\n",
       "    </tr>\n",
       "    <tr>\n",
       "      <th>12749</th>\n",
       "      <td>4090.88</td>\n",
       "      <td>5</td>\n",
       "      <td>2011-12-06</td>\n",
       "    </tr>\n",
       "    <tr>\n",
       "      <th>12820</th>\n",
       "      <td>942.34</td>\n",
       "      <td>4</td>\n",
       "      <td>2011-12-06</td>\n",
       "    </tr>\n",
       "  </tbody>\n",
       "</table>\n",
       "</div>"
      ],
      "text/plain": [
       "               sales  frequency  last_date\n",
       "CustomerID                                \n",
       "12346       77183.60          1 2011-01-18\n",
       "12747        3837.45         10 2011-12-07\n",
       "12748       31854.58        195 2011-12-09\n",
       "12749        4090.88          5 2011-12-06\n",
       "12820         942.34          4 2011-12-06"
      ]
     },
     "execution_count": 10,
     "metadata": {},
     "output_type": "execute_result"
    }
   ],
   "source": [
    "# Check results\n",
    "rfm_data.head()"
   ]
  },
  {
   "cell_type": "code",
   "execution_count": 12,
   "metadata": {},
   "outputs": [],
   "source": [
    "# Calculate recency\n",
    "now_date = np.datetime64('2011-12-10', 'D')  # day after last date in set\n",
    "rfm_data['recency'] = now_date - rfm_data['last_date']\n",
    "rfm_data['recency'] = rfm_data['recency'].astype(str).str.split().str.get(0).astype(np.int64)\n",
    "rfm_data.drop(['last_date'], axis=1, inplace=True)"
   ]
  },
  {
   "cell_type": "code",
   "execution_count": 14,
   "metadata": {},
   "outputs": [
    {
     "data": {
      "text/html": [
       "<div>\n",
       "<style scoped>\n",
       "    .dataframe tbody tr th:only-of-type {\n",
       "        vertical-align: middle;\n",
       "    }\n",
       "\n",
       "    .dataframe tbody tr th {\n",
       "        vertical-align: top;\n",
       "    }\n",
       "\n",
       "    .dataframe thead th {\n",
       "        text-align: right;\n",
       "    }\n",
       "</style>\n",
       "<table border=\"1\" class=\"dataframe\">\n",
       "  <thead>\n",
       "    <tr style=\"text-align: right;\">\n",
       "      <th></th>\n",
       "      <th>sales</th>\n",
       "      <th>frequency</th>\n",
       "      <th>recency</th>\n",
       "    </tr>\n",
       "    <tr>\n",
       "      <th>CustomerID</th>\n",
       "      <th></th>\n",
       "      <th></th>\n",
       "      <th></th>\n",
       "    </tr>\n",
       "  </thead>\n",
       "  <tbody>\n",
       "    <tr>\n",
       "      <th>12346</th>\n",
       "      <td>77183.60</td>\n",
       "      <td>1</td>\n",
       "      <td>326</td>\n",
       "    </tr>\n",
       "    <tr>\n",
       "      <th>12747</th>\n",
       "      <td>3837.45</td>\n",
       "      <td>10</td>\n",
       "      <td>3</td>\n",
       "    </tr>\n",
       "    <tr>\n",
       "      <th>12748</th>\n",
       "      <td>31854.58</td>\n",
       "      <td>195</td>\n",
       "      <td>1</td>\n",
       "    </tr>\n",
       "    <tr>\n",
       "      <th>12749</th>\n",
       "      <td>4090.88</td>\n",
       "      <td>5</td>\n",
       "      <td>4</td>\n",
       "    </tr>\n",
       "    <tr>\n",
       "      <th>12820</th>\n",
       "      <td>942.34</td>\n",
       "      <td>4</td>\n",
       "      <td>4</td>\n",
       "    </tr>\n",
       "  </tbody>\n",
       "</table>\n",
       "</div>"
      ],
      "text/plain": [
       "               sales  frequency  recency\n",
       "CustomerID                              \n",
       "12346       77183.60          1      326\n",
       "12747        3837.45         10        3\n",
       "12748       31854.58        195        1\n",
       "12749        4090.88          5        4\n",
       "12820         942.34          4        4"
      ]
     },
     "execution_count": 14,
     "metadata": {},
     "output_type": "execute_result"
    }
   ],
   "source": [
    "rfm_data.head()"
   ]
  },
  {
   "cell_type": "code",
   "execution_count": 15,
   "metadata": {},
   "outputs": [],
   "source": [
    "# Save to file\n",
    "rfm_data.to_csv('data/interim/rfm_data.csv')"
   ]
  },
  {
   "cell_type": "markdown",
   "metadata": {},
   "source": [
    "## 2) Check Pareto Principle / 80-20 Rule"
   ]
  },
  {
   "cell_type": "code",
   "execution_count": null,
   "metadata": {},
   "outputs": [],
   "source": [
    "80/20 Rule\n",
    "If you aren’t familiar with the 80/20 Rule (also known as the Pareto Principle), it’s the concept that 80% of the results generally come from 20% of the causes. In this context, it implies that ~80% of sales would be produced by the top ~20% of customers. These 20% represent the high-value, important customers a business would want to protect.\n",
    "To make a point about outliers below, I create some simple segments here by looking at the top customers who produced 80% of annual sales for the year. In this dataset, 80% of the annual sales are produced by the top 29% of customers, so the percentage isn’t quite 20%, but it’s not that far off and it does illustrate that there’s a smallish segment producing the bulk of the value.\n",
    "customers <- customers[order(-customers$monetary),]\n",
    "\n",
    "# Apply Pareto Principle (80/20 Rule)\n",
    "pareto.cutoff <- 0.8 * sum(customers$monetary)\n",
    "customers$pareto <- ifelse(cumsum(customers$monetary) <= pareto.cutoff, \"Top 20%\", \"Bottom 80%\")\n",
    "customers$pareto <- factor(customers$pareto, levels=c(\"Top 20%\", \"Bottom 80%\"), ordered=TRUE)\n",
    "levels(customers$pareto)\n",
    "round(prop.table(table(customers$pareto)), 2)\n",
    "remove(pareto.cutoff)\n",
    "\n",
    "customers <- customers[order(customers$CustomerID),]"
   ]
  }
 ],
 "metadata": {
  "kernelspec": {
   "display_name": "Python [conda env:Anaconda3]",
   "language": "python",
   "name": "conda-env-Anaconda3-py"
  },
  "language_info": {
   "codemirror_mode": {
    "name": "ipython",
    "version": 3
   },
   "file_extension": ".py",
   "mimetype": "text/x-python",
   "name": "python",
   "nbconvert_exporter": "python",
   "pygments_lexer": "ipython3",
   "version": "3.6.3"
  }
 },
 "nbformat": 4,
 "nbformat_minor": 2
}
