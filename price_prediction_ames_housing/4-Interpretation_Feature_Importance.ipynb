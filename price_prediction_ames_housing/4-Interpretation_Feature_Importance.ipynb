{
 "cells": [
  {
   "cell_type": "markdown",
   "metadata": {},
   "source": [
    "# Calculate & Compare Feature Importance\n",
    "\n",
    "...\n",
    "\n",
    "**Data Sources**\n",
    "\n",
    "- `models/elastic_net_final.pkl`: Best ElasticNet pipeline / model.\n",
    "\n",
    "\n",
    "**Changes**\n",
    "\n",
    "- 2019-04-04: Start notebook and perform calculations for ElasticNet model\n",
    "- ...\n"
   ]
  },
  {
   "cell_type": "markdown",
   "metadata": {
    "toc": true
   },
   "source": [
    "<h1>Table of Contents<span class=\"tocSkip\"></span></h1>\n",
    "<div class=\"toc\"><ul class=\"toc-item\"><li><span><a href=\"#Import-libraries,-load-data\" data-toc-modified-id=\"Import-libraries,-load-data-1\"><span class=\"toc-item-num\">1&nbsp;&nbsp;</span>Import libraries, load data</a></span></li><li><span><a href=\"#Calculate-Feature-Importance-for-ElasticNet-Model\" data-toc-modified-id=\"Calculate-Feature-Importance-for-ElasticNet-Model-2\"><span class=\"toc-item-num\">2&nbsp;&nbsp;</span>Calculate Feature Importance for ElasticNet Model</a></span><ul class=\"toc-item\"><li><span><a href=\"#Get-Feature-Names\" data-toc-modified-id=\"Get-Feature-Names-2.1\"><span class=\"toc-item-num\">2.1&nbsp;&nbsp;</span>Get Feature Names</a></span></li></ul></li></ul></div>"
   ]
  },
  {
   "cell_type": "markdown",
   "metadata": {},
   "source": [
    "---"
   ]
  },
  {
   "cell_type": "markdown",
   "metadata": {},
   "source": [
    "## Import libraries, load data"
   ]
  },
  {
   "cell_type": "code",
   "execution_count": 25,
   "metadata": {
    "ExecuteTime": {
     "end_time": "2019-04-06T13:43:03.515972Z",
     "start_time": "2019-04-06T13:43:03.419691Z"
    }
   },
   "outputs": [],
   "source": [
    "# Import libraries\n",
    "import numpy as np\n",
    "import pandas as pd\n",
    "from tqdm import tqdm\n",
    "\n",
    "from sklearn.linear_model import ElasticNet\n",
    "from sklearn.model_selection import train_test_split, learning_curve\n",
    "from sklearn.metrics import r2_score, mean_squared_error, make_scorer\n",
    "from sklearn.model_selection import StratifiedKFold, GridSearchCV\n",
    "from sklearn.externals import joblib\n",
    "from sklearn.pipeline import Pipeline\n",
    "from sklearn.impute import SimpleImputer\n",
    "from sklearn.preprocessing import StandardScaler, OneHotEncoder\n",
    "from sklearn.compose import ColumnTransformer\n",
    "from sklearn.utils import resample\n",
    "\n",
    "# My functions\n",
    "import EDA_functions as EDA\n",
    "import cleaning_functions as cleaning\n",
    "from linRegModel_class import LinRegModel\n",
    "import custom_transformers as transform\n",
    "\n",
    "# Visualization\n",
    "import matplotlib.pyplot as plt\n",
    "import seaborn as sns #, sns.set_style('whitegrid')\n",
    "color = 'rebeccapurple'\n",
    "%matplotlib inline\n",
    "\n",
    "# Display settings\n",
    "from IPython.display import display\n",
    "pd.options.display.max_columns = 100"
   ]
  },
  {
   "cell_type": "code",
   "execution_count": 27,
   "metadata": {
    "ExecuteTime": {
     "end_time": "2019-04-06T13:43:15.287453Z",
     "start_time": "2019-04-06T13:43:15.270092Z"
    }
   },
   "outputs": [],
   "source": [
    "# Load labels and model\n",
    "%store -r feature_names\n",
    "elastic_net_final = joblib.load('models/elastic_net_final.pkl')"
   ]
  },
  {
   "cell_type": "markdown",
   "metadata": {},
   "source": [
    "## Calculate Feature Importance for ElasticNet Model"
   ]
  },
  {
   "cell_type": "code",
   "execution_count": 43,
   "metadata": {
    "ExecuteTime": {
     "end_time": "2019-04-06T13:50:52.481226Z",
     "start_time": "2019-04-06T13:50:52.441535Z"
    }
   },
   "outputs": [
    {
     "ename": "KeyError",
     "evalue": "MSSubClass               0.00\nLotFrontage              0.01\nLotArea                  0.04\nOverallQual              0.06\nOverallCond              0.05\nYearBuilt                0.05\nYearRemodAdd             0.01\nMasVnrArea               0.00\nBsmtFinSF1               0.02\nBsmtFinSF2               0.00\nBsmtUnfSF                0.00\nTotalBsmtSF              0.04\n1stFlrSF                 0.00\n2ndFlrSF                 0.00\nLowQualFinSF             0.01\nGrLivArea                0.12\nBsmtFullBath             0.02\nBsmtHalfBath             0.00\nFullBath                 0.01\nHalfBath                 0.01\nBedroomAbvGr             0.01\nKitchenAbvGr             0.01\nTotRmsAbvGrd             0.00\nFireplaces               0.01\nGarageYrBlt              0.00\nGarageCars               0.01\nGarageArea               0.02\nWoodDeckSF               0.01\nOpenPorchSF              0.00\nEnclosedPorch            0.00\n                         ... \nGarageQual_Po            0.00\nGarageQual_TA            0.00\nGarageQual_nan           0.00\nGarageCond_Ex            0.00\nGarageCond_Fa            0.00\nGarageCond_Gd            0.00\nGarageCond_Po            0.00\nGarageCond_TA            0.00\nGarageCond_nan           0.00\nPavedDrive_N             0.00\nPavedDrive_P             0.01\nPavedDrive_Y             0.00\nPavedDrive_nan           0.00\nSaleType_COD             0.03\nSaleType_CWD             0.00\nSaleType_Con             0.00\nSaleType_ConLD           0.00\nSaleType_ConLI           0.00\nSaleType_ConLw           0.03\nSaleType_New             0.05\nSaleType_Oth             0.00\nSaleType_WD              0.00\nSaleType_nan             0.00\nSaleCondition_Abnorml    0.00\nSaleCondition_AdjLand    0.00\nSaleCondition_Alloca     0.00\nSaleCondition_Family     0.07\nSaleCondition_Normal     0.00\nSaleCondition_Partial    0.00\nSaleCondition_nan        0.00\nName: weight, Length: 308, dtype: float64",
     "output_type": "error",
     "traceback": [
      "\u001b[1;31m---------------------------------------------------------------------------\u001b[0m",
      "\u001b[1;31mKeyError\u001b[0m                                  Traceback (most recent call last)",
      "\u001b[1;32m<ipython-input-43-d92fbdb3b655>\u001b[0m in \u001b[0;36m<module>\u001b[1;34m()\u001b[0m\n\u001b[0;32m      1\u001b[0m \u001b[0mEN_coefs\u001b[0m \u001b[1;33m=\u001b[0m \u001b[0mpd\u001b[0m\u001b[1;33m.\u001b[0m\u001b[0mDataFrame\u001b[0m\u001b[1;33m(\u001b[0m\u001b[0melastic_net_final\u001b[0m\u001b[1;33m.\u001b[0m\u001b[0mcoef_\u001b[0m\u001b[1;33m.\u001b[0m\u001b[0mround\u001b[0m\u001b[1;33m(\u001b[0m\u001b[1;36m2\u001b[0m\u001b[1;33m)\u001b[0m\u001b[1;33m,\u001b[0m \u001b[0mindex\u001b[0m\u001b[1;33m=\u001b[0m\u001b[0mfeature_names\u001b[0m\u001b[1;33m,\u001b[0m \u001b[0mcolumns\u001b[0m\u001b[1;33m=\u001b[0m\u001b[1;33m[\u001b[0m\u001b[1;34m'weight'\u001b[0m\u001b[1;33m]\u001b[0m\u001b[1;33m)\u001b[0m\u001b[1;33m\u001b[0m\u001b[0m\n\u001b[0;32m      2\u001b[0m \u001b[1;31m# EN_coefs = EN_coefs.sort_values(np.abs(EN_coefs['weight']), ascending=False)\u001b[0m\u001b[1;33m\u001b[0m\u001b[1;33m\u001b[0m\u001b[0m\n\u001b[1;32m----> 3\u001b[1;33m \u001b[0mEN_coefs\u001b[0m\u001b[1;33m.\u001b[0m\u001b[0msort_values\u001b[0m\u001b[1;33m(\u001b[0m\u001b[0mnp\u001b[0m\u001b[1;33m.\u001b[0m\u001b[0mabs\u001b[0m\u001b[1;33m(\u001b[0m\u001b[0mEN_coefs\u001b[0m\u001b[1;33m[\u001b[0m\u001b[1;34m'weight'\u001b[0m\u001b[1;33m]\u001b[0m\u001b[1;33m)\u001b[0m\u001b[1;33m)\u001b[0m\u001b[1;33m\u001b[0m\u001b[0m\n\u001b[0m",
      "\u001b[1;32m~\\Anaconda3\\lib\\site-packages\\pandas\\core\\frame.py\u001b[0m in \u001b[0;36msort_values\u001b[1;34m(self, by, axis, ascending, inplace, kind, na_position)\u001b[0m\n\u001b[0;32m   4717\u001b[0m \u001b[1;33m\u001b[0m\u001b[0m\n\u001b[0;32m   4718\u001b[0m             \u001b[0mby\u001b[0m \u001b[1;33m=\u001b[0m \u001b[0mby\u001b[0m\u001b[1;33m[\u001b[0m\u001b[1;36m0\u001b[0m\u001b[1;33m]\u001b[0m\u001b[1;33m\u001b[0m\u001b[0m\n\u001b[1;32m-> 4719\u001b[1;33m             \u001b[0mk\u001b[0m \u001b[1;33m=\u001b[0m \u001b[0mself\u001b[0m\u001b[1;33m.\u001b[0m\u001b[0m_get_label_or_level_values\u001b[0m\u001b[1;33m(\u001b[0m\u001b[0mby\u001b[0m\u001b[1;33m,\u001b[0m \u001b[0maxis\u001b[0m\u001b[1;33m=\u001b[0m\u001b[0maxis\u001b[0m\u001b[1;33m)\u001b[0m\u001b[1;33m\u001b[0m\u001b[0m\n\u001b[0m\u001b[0;32m   4720\u001b[0m \u001b[1;33m\u001b[0m\u001b[0m\n\u001b[0;32m   4721\u001b[0m             \u001b[1;32mif\u001b[0m \u001b[0misinstance\u001b[0m\u001b[1;33m(\u001b[0m\u001b[0mascending\u001b[0m\u001b[1;33m,\u001b[0m \u001b[1;33m(\u001b[0m\u001b[0mtuple\u001b[0m\u001b[1;33m,\u001b[0m \u001b[0mlist\u001b[0m\u001b[1;33m)\u001b[0m\u001b[1;33m)\u001b[0m\u001b[1;33m:\u001b[0m\u001b[1;33m\u001b[0m\u001b[0m\n",
      "\u001b[1;32m~\\Anaconda3\\lib\\site-packages\\pandas\\core\\generic.py\u001b[0m in \u001b[0;36m_get_label_or_level_values\u001b[1;34m(self, key, axis)\u001b[0m\n\u001b[0;32m   1705\u001b[0m             \u001b[0mvalues\u001b[0m \u001b[1;33m=\u001b[0m \u001b[0mself\u001b[0m\u001b[1;33m.\u001b[0m\u001b[0maxes\u001b[0m\u001b[1;33m[\u001b[0m\u001b[0maxis\u001b[0m\u001b[1;33m]\u001b[0m\u001b[1;33m.\u001b[0m\u001b[0mget_level_values\u001b[0m\u001b[1;33m(\u001b[0m\u001b[0mkey\u001b[0m\u001b[1;33m)\u001b[0m\u001b[1;33m.\u001b[0m\u001b[0m_values\u001b[0m\u001b[1;33m\u001b[0m\u001b[0m\n\u001b[0;32m   1706\u001b[0m         \u001b[1;32melse\u001b[0m\u001b[1;33m:\u001b[0m\u001b[1;33m\u001b[0m\u001b[0m\n\u001b[1;32m-> 1707\u001b[1;33m             \u001b[1;32mraise\u001b[0m \u001b[0mKeyError\u001b[0m\u001b[1;33m(\u001b[0m\u001b[0mkey\u001b[0m\u001b[1;33m)\u001b[0m\u001b[1;33m\u001b[0m\u001b[0m\n\u001b[0m\u001b[0;32m   1708\u001b[0m \u001b[1;33m\u001b[0m\u001b[0m\n\u001b[0;32m   1709\u001b[0m         \u001b[1;31m# Check for duplicates\u001b[0m\u001b[1;33m\u001b[0m\u001b[1;33m\u001b[0m\u001b[0m\n",
      "\u001b[1;31mKeyError\u001b[0m: MSSubClass               0.00\nLotFrontage              0.01\nLotArea                  0.04\nOverallQual              0.06\nOverallCond              0.05\nYearBuilt                0.05\nYearRemodAdd             0.01\nMasVnrArea               0.00\nBsmtFinSF1               0.02\nBsmtFinSF2               0.00\nBsmtUnfSF                0.00\nTotalBsmtSF              0.04\n1stFlrSF                 0.00\n2ndFlrSF                 0.00\nLowQualFinSF             0.01\nGrLivArea                0.12\nBsmtFullBath             0.02\nBsmtHalfBath             0.00\nFullBath                 0.01\nHalfBath                 0.01\nBedroomAbvGr             0.01\nKitchenAbvGr             0.01\nTotRmsAbvGrd             0.00\nFireplaces               0.01\nGarageYrBlt              0.00\nGarageCars               0.01\nGarageArea               0.02\nWoodDeckSF               0.01\nOpenPorchSF              0.00\nEnclosedPorch            0.00\n                         ... \nGarageQual_Po            0.00\nGarageQual_TA            0.00\nGarageQual_nan           0.00\nGarageCond_Ex            0.00\nGarageCond_Fa            0.00\nGarageCond_Gd            0.00\nGarageCond_Po            0.00\nGarageCond_TA            0.00\nGarageCond_nan           0.00\nPavedDrive_N             0.00\nPavedDrive_P             0.01\nPavedDrive_Y             0.00\nPavedDrive_nan           0.00\nSaleType_COD             0.03\nSaleType_CWD             0.00\nSaleType_Con             0.00\nSaleType_ConLD           0.00\nSaleType_ConLI           0.00\nSaleType_ConLw           0.03\nSaleType_New             0.05\nSaleType_Oth             0.00\nSaleType_WD              0.00\nSaleType_nan             0.00\nSaleCondition_Abnorml    0.00\nSaleCondition_AdjLand    0.00\nSaleCondition_Alloca     0.00\nSaleCondition_Family     0.07\nSaleCondition_Normal     0.00\nSaleCondition_Partial    0.00\nSaleCondition_nan        0.00\nName: weight, Length: 308, dtype: float64"
     ]
    }
   ],
   "source": [
    "EN_coefs = pd.DataFrame(elastic_net_final.coef_.round(2), index=feature_names, columns=['weight'])\n",
    "# Sort by absolute weights\n",
    "\n",
    "coefs_df['abs_coefs'] = np.abs(coefs_df['effect'])\n",
    "\n",
    "        coefs_df = coefs_df.sort_values('abs_coefs', ascending=False)\n",
    "\n",
    "        coefs_df.drop('abs_coefs', axis=1, inplace=True)\n"
   ]
  },
  {
   "cell_type": "code",
   "execution_count": 63,
   "metadata": {
    "ExecuteTime": {
     "end_time": "2019-04-06T14:16:49.813818Z",
     "start_time": "2019-04-06T14:16:49.763138Z"
    }
   },
   "outputs": [],
   "source": [
    "def print_coef_weights(model, feature_names, drop_zero=False):\n",
    "    ''' Returns DataFrame with coefficient weights for the features. If \n",
    "    drop_zero ist True, then only features with weights != 0 are returned.\n",
    "    \n",
    "    ARGUMENTS:\n",
    "    model: fitted model instance\n",
    "    feature_names: list or index of column_labels\n",
    "    drop_zero: bool, drop coefs with 0 weight (default=False)\n",
    "\n",
    "    RETURNS:\n",
    "    coefs_df: dataframe holding coeff weights and error\n",
    "    '''\n",
    "    \n",
    "    coefs_df = pd.DataFrame(elastic_net_final.coef_, \n",
    "                            index=feature_names, \n",
    "                            columns=['weight']\n",
    "                           )\n",
    "    \n",
    "    # Sort by absolute weights\n",
    "    coefs_df['abs_weight'] = np.abs(coefs_df['weight'])\n",
    "    coefs_df = coefs_df.sort_values('abs_weight', ascending=False)\n",
    "    coefs_df.drop('abs_weight', axis=1, inplace=True)\n",
    "    \n",
    "    if drop_zero == True:\n",
    "        coefs_df = coefs_df.loc[coefs_df['weight'] != 0]\n",
    "    \n",
    "    return coefs_df"
   ]
  },
  {
   "cell_type": "code",
   "execution_count": 64,
   "metadata": {
    "ExecuteTime": {
     "end_time": "2019-04-06T14:16:50.382682Z",
     "start_time": "2019-04-06T14:16:50.366129Z"
    }
   },
   "outputs": [],
   "source": [
    "EN_weights = print_coef_weights(elastic_net_final, feature_names, drop_zero=True)"
   ]
  },
  {
   "cell_type": "code",
   "execution_count": 79,
   "metadata": {
    "ExecuteTime": {
     "end_time": "2019-04-06T14:25:32.363987Z",
     "start_time": "2019-04-06T14:25:32.332817Z"
    }
   },
   "outputs": [],
   "source": [
    "def plot_coef_weights(coefs_df, feature_names, n_plot=30):\n",
    "    \n",
    "    plt.figure(figsize=(12, 8))\n",
    "    plt.title(\"Top-{0:d} features\".format(n_plot), size=14)\n",
    "    coefs_df.iloc[:n_plot, 0].apply(np.abs).plot(kind='bar', color=color)\n",
    "    \n",
    "    n_features = len(feature_names)\n",
    "    n_weights = len(coefs_df.loc[coefs_df['weight'] != 0])\n",
    "    print('\\n{0:d} features remaining with weight > 0, \\\n",
    "    \\nthis equals a reduction of {1:2.2f}%'.format(\n",
    "            n_weights, (1 - n_weights / n_features)*100))\n",
    " "
   ]
  },
  {
   "cell_type": "code",
   "execution_count": 80,
   "metadata": {
    "ExecuteTime": {
     "end_time": "2019-04-06T14:25:34.420735Z",
     "start_time": "2019-04-06T14:25:33.623393Z"
    }
   },
   "outputs": [
    {
     "name": "stdout",
     "output_type": "stream",
     "text": [
      "\n",
      "101 features remaining with weight > 0,     \n",
      "this equals a reduction of 67.21%\n"
     ]
    },
    {
     "data": {
      "image/png": "[encoded data removed]",
      "text/plain": [
       "<Figure size 864x576 with 1 Axes>"
      ]
     },
     "metadata": {
      "needs_background": "light"
     },
     "output_type": "display_data"
    }
   ],
   "source": [
    "plot_coef_weights(EN_weights, feature_names)"
   ]
  },
  {
   "cell_type": "code",
   "execution_count": null,
   "metadata": {},
   "outputs": [],
   "source": []
  }
 ],
 "metadata": {
  "hide_input": false,
  "kernelspec": {
   "display_name": "Python [conda env:Anaconda3]",
   "language": "python",
   "name": "conda-env-Anaconda3-py"
  },
  "language_info": {
   "codemirror_mode": {
    "name": "ipython",
    "version": 3
   },
   "file_extension": ".py",
   "mimetype": "text/x-python",
   "name": "python",
   "nbconvert_exporter": "python",
   "pygments_lexer": "ipython3",
   "version": "3.6.3"
  },
  "toc": {
   "base_numbering": 1,
   "nav_menu": {},
   "number_sections": true,
   "sideBar": true,
   "skip_h1_title": true,
   "title_cell": "Table of Contents",
   "title_sidebar": "Contents",
   "toc_cell": true,
   "toc_position": {},
   "toc_section_display": true,
   "toc_window_display": false
  },
  "varInspector": {
   "cols": {
    "lenName": 16,
    "lenType": 16,
    "lenVar": 40
   },
   "kernels_config": {
    "python": {
     "delete_cmd_postfix": "",
     "delete_cmd_prefix": "del ",
     "library": "var_list.py",
     "varRefreshCmd": "print(var_dic_list())"
    },
    "r": {
     "delete_cmd_postfix": ") ",
     "delete_cmd_prefix": "rm(",
     "library": "var_list.r",
     "varRefreshCmd": "cat(var_dic_list()) "
    }
   },
   "position": {
    "height": "464.86px",
    "left": "1092.86px",
    "right": "20px",
    "top": "120px",
    "width": "350px"
   },
   "types_to_exclude": [
    "module",
    "function",
    "builtin_function_or_method",
    "instance",
    "_Feature"
   ],
   "window_display": false
  }
 },
 "nbformat": 4,
 "nbformat_minor": 2
}
