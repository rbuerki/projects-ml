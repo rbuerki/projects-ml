{
 "cells": [
  {
   "cell_type": "markdown",
   "metadata": {},
   "source": [
    "# Demonstration of Supervised Classification\n",
    "\n",
    "Predicting survival for individual passengers on titanic dataset.\n",
    "\n",
    "\n",
    "**Data Sources:**\n",
    "\n",
    "- `titanic_full.csv`: Dataset for all 1310 passengers\n",
    "\n",
    "**Project history**\n",
    "\n",
    "- Created Aug 29th 2019, for demo purpose only\n"
   ]
  },
  {
   "cell_type": "markdown",
   "metadata": {
    "toc": true
   },
   "source": [
    "<h1>Table of Contents<span class=\"tocSkip\"></span></h1>\n",
    "<div class=\"toc\"><ul class=\"toc-item\"><li><span><a href=\"#Import-libraries,-load-data\" data-toc-modified-id=\"Import-libraries,-load-data-1\"><span class=\"toc-item-num\">1&nbsp;&nbsp;</span>Import libraries, load data</a></span></li><li><span><a href=\"#Check-data\" data-toc-modified-id=\"Check-data-2\"><span class=\"toc-item-num\">2&nbsp;&nbsp;</span>Check data</a></span></li><li><span><a href=\"#...-but-now-split-into-train-and-test-sets!\" data-toc-modified-id=\"...-but-now-split-into-train-and-test-sets!-3\"><span class=\"toc-item-num\">3&nbsp;&nbsp;</span>... but now split into train and test sets!</a></span></li><li><span><a href=\"#Prepare-data\" data-toc-modified-id=\"Prepare-data-4\"><span class=\"toc-item-num\">4&nbsp;&nbsp;</span>Prepare data</a></span><ul class=\"toc-item\"><li><span><a href=\"#Continue-with-imputation-of-missing-values\" data-toc-modified-id=\"Continue-with-imputation-of-missing-values-4.1\"><span class=\"toc-item-num\">4.1&nbsp;&nbsp;</span>Continue with imputation of missing values</a></span></li><li><span><a href=\"#Encode-categorical-data\" data-toc-modified-id=\"Encode-categorical-data-4.2\"><span class=\"toc-item-num\">4.2&nbsp;&nbsp;</span>Encode categorical data</a></span></li></ul></li><li><span><a href=\"#Before-we-proceed-...-Let's-calculate-a-naive-baseline-model!\" data-toc-modified-id=\"Before-we-proceed-...-Let's-calculate-a-naive-baseline-model!-5\"><span class=\"toc-item-num\">5&nbsp;&nbsp;</span>Before we proceed ... Let's calculate a naive baseline model!</a></span></li><li><span><a href=\"#Train-and-evaluate-a-a-linear-classifier-model-(Logistic-Regression)\" data-toc-modified-id=\"Train-and-evaluate-a-a-linear-classifier-model-(Logistic-Regression)-6\"><span class=\"toc-item-num\">6&nbsp;&nbsp;</span>Train and evaluate a a linear classifier model (Logistic Regression)</a></span></li><li><span><a href=\"#Train-and-evaluate-a-decision-tree-based-model-(Gradient-Boosting)\" data-toc-modified-id=\"Train-and-evaluate-a-decision-tree-based-model-(Gradient-Boosting)-7\"><span class=\"toc-item-num\">7&nbsp;&nbsp;</span>Train and evaluate a decision tree based model (Gradient Boosting)</a></span></li><li><span><a href=\"#Predict-survival-probability-for-a-new-instance\" data-toc-modified-id=\"Predict-survival-probability-for-a-new-instance-8\"><span class=\"toc-item-num\">8&nbsp;&nbsp;</span>Predict survival probability for a new instance</a></span></li></ul></div>"
   ]
  },
  {
   "cell_type": "markdown",
   "metadata": {},
   "source": [
    "---"
   ]
  },
  {
   "cell_type": "markdown",
   "metadata": {},
   "source": [
    "## Import libraries, load data"
   ]
  },
  {
   "cell_type": "code",
   "execution_count": 1,
   "metadata": {
    "ExecuteTime": {
     "end_time": "2019-10-02T08:13:41.429809Z",
     "start_time": "2019-10-02T08:13:37.648287Z"
    }
   },
   "outputs": [
    {
     "name": "stderr",
     "output_type": "stream",
     "text": [
      "C:\\Users\\r2d4\\Anaconda3\\lib\\site-packages\\sklearn\\externals\\joblib\\__init__.py:15: DeprecationWarning: sklearn.externals.joblib is deprecated in 0.21 and will be removed in 0.23. Please import this functionality directly from joblib, which can be installed with: pip install joblib. If this warning is raised when loading pickled models, you may need to re-serialize those models with scikit-learn 0.21+.\n",
      "  warnings.warn(msg, category=DeprecationWarning)\n"
     ]
    }
   ],
   "source": [
    "# Import libraries\n",
    "import numpy as np\n",
    "import pandas as pd\n",
    "from tqdm import tqdm\n",
    "\n",
    "from sklearn.linear_model import LogisticRegression\n",
    "from sklearn.ensemble import RandomForestClassifier, GradientBoostingClassifier\n",
    "\n",
    "from sklearn.model_selection import train_test_split, learning_curve\n",
    "from sklearn.metrics import f1_score, roc_auc_score, roc_curve, \\\n",
    "        precision_score, recall_score, confusion_matrix, classification_report\n",
    "from sklearn.externals import joblib\n",
    "\n",
    "# My functions\n",
    "import EDA_functions as EDA\n",
    "import cleaning_functions as cleaning\n",
    "\n",
    "# Visualization\n",
    "import matplotlib.pyplot as plt\n",
    "import seaborn as sns \n",
    "# sns.set_style('whitegrid')\n",
    "color = 'rebeccapurple'\n",
    "%matplotlib inline\n",
    "\n",
    "# Display settings\n",
    "from IPython.display import display\n",
    "pd.options.display.max_columns = 100\n",
    "\n",
    "import warnings\n",
    "warnings.filterwarnings('ignore')"
   ]
  },
  {
   "cell_type": "code",
   "execution_count": 2,
   "metadata": {
    "ExecuteTime": {
     "end_time": "2019-10-02T08:13:41.467439Z",
     "start_time": "2019-10-02T08:13:41.434549Z"
    },
    "scrolled": true
   },
   "outputs": [],
   "source": [
    "# Load data\n",
    "data_original = pd.read_csv(\"data/titanic_full.csv\", delimiter=';')"
   ]
  },
  {
   "cell_type": "markdown",
   "metadata": {},
   "source": [
    "## Check data "
   ]
  },
  {
   "cell_type": "code",
   "execution_count": 3,
   "metadata": {
    "ExecuteTime": {
     "end_time": "2019-10-02T08:13:41.510383Z",
     "start_time": "2019-10-02T08:13:41.472942Z"
    }
   },
   "outputs": [
    {
     "data": {
      "text/html": [
       "<div>\n",
       "<style scoped>\n",
       "    .dataframe tbody tr th:only-of-type {\n",
       "        vertical-align: middle;\n",
       "    }\n",
       "\n",
       "    .dataframe tbody tr th {\n",
       "        vertical-align: top;\n",
       "    }\n",
       "\n",
       "    .dataframe thead th {\n",
       "        text-align: right;\n",
       "    }\n",
       "</style>\n",
       "<table border=\"1\" class=\"dataframe\">\n",
       "  <thead>\n",
       "    <tr style=\"text-align: right;\">\n",
       "      <th></th>\n",
       "      <th>pclass</th>\n",
       "      <th>survived</th>\n",
       "      <th>name</th>\n",
       "      <th>sex</th>\n",
       "      <th>age</th>\n",
       "      <th>sibsp</th>\n",
       "      <th>parch</th>\n",
       "      <th>ticket</th>\n",
       "      <th>fare</th>\n",
       "      <th>cabin</th>\n",
       "      <th>embarked</th>\n",
       "      <th>home.dest</th>\n",
       "    </tr>\n",
       "  </thead>\n",
       "  <tbody>\n",
       "    <tr>\n",
       "      <td>0</td>\n",
       "      <td>1</td>\n",
       "      <td>1</td>\n",
       "      <td>Allen, Miss. Elisabeth Walton</td>\n",
       "      <td>female</td>\n",
       "      <td>29.00</td>\n",
       "      <td>0</td>\n",
       "      <td>0</td>\n",
       "      <td>24160</td>\n",
       "      <td>211.3375</td>\n",
       "      <td>B5</td>\n",
       "      <td>S</td>\n",
       "      <td>St Louis, MO</td>\n",
       "    </tr>\n",
       "    <tr>\n",
       "      <td>1</td>\n",
       "      <td>1</td>\n",
       "      <td>1</td>\n",
       "      <td>Allison, Master. Hudson Trevor</td>\n",
       "      <td>male</td>\n",
       "      <td>0.92</td>\n",
       "      <td>1</td>\n",
       "      <td>2</td>\n",
       "      <td>113781</td>\n",
       "      <td>151.5500</td>\n",
       "      <td>C22 C26</td>\n",
       "      <td>S</td>\n",
       "      <td>Montreal, PQ / Chesterville, ON</td>\n",
       "    </tr>\n",
       "    <tr>\n",
       "      <td>2</td>\n",
       "      <td>1</td>\n",
       "      <td>0</td>\n",
       "      <td>Allison, Miss. Helen Loraine</td>\n",
       "      <td>female</td>\n",
       "      <td>2.00</td>\n",
       "      <td>1</td>\n",
       "      <td>2</td>\n",
       "      <td>113781</td>\n",
       "      <td>151.5500</td>\n",
       "      <td>C22 C26</td>\n",
       "      <td>S</td>\n",
       "      <td>Montreal, PQ / Chesterville, ON</td>\n",
       "    </tr>\n",
       "    <tr>\n",
       "      <td>3</td>\n",
       "      <td>1</td>\n",
       "      <td>0</td>\n",
       "      <td>Allison, Mr. Hudson Joshua Creighton</td>\n",
       "      <td>male</td>\n",
       "      <td>30.00</td>\n",
       "      <td>1</td>\n",
       "      <td>2</td>\n",
       "      <td>113781</td>\n",
       "      <td>151.5500</td>\n",
       "      <td>C22 C26</td>\n",
       "      <td>S</td>\n",
       "      <td>Montreal, PQ / Chesterville, ON</td>\n",
       "    </tr>\n",
       "    <tr>\n",
       "      <td>4</td>\n",
       "      <td>1</td>\n",
       "      <td>0</td>\n",
       "      <td>Allison, Mrs. Hudson J C (Bessie Waldo Daniels)</td>\n",
       "      <td>female</td>\n",
       "      <td>25.00</td>\n",
       "      <td>1</td>\n",
       "      <td>2</td>\n",
       "      <td>113781</td>\n",
       "      <td>151.5500</td>\n",
       "      <td>C22 C26</td>\n",
       "      <td>S</td>\n",
       "      <td>Montreal, PQ / Chesterville, ON</td>\n",
       "    </tr>\n",
       "  </tbody>\n",
       "</table>\n",
       "</div>"
      ],
      "text/plain": [
       "   pclass  survived                                             name     sex  \\\n",
       "0       1         1                    Allen, Miss. Elisabeth Walton  female   \n",
       "1       1         1                   Allison, Master. Hudson Trevor    male   \n",
       "2       1         0                     Allison, Miss. Helen Loraine  female   \n",
       "3       1         0             Allison, Mr. Hudson Joshua Creighton    male   \n",
       "4       1         0  Allison, Mrs. Hudson J C (Bessie Waldo Daniels)  female   \n",
       "\n",
       "     age  sibsp  parch  ticket      fare    cabin embarked  \\\n",
       "0  29.00      0      0   24160  211.3375       B5        S   \n",
       "1   0.92      1      2  113781  151.5500  C22 C26        S   \n",
       "2   2.00      1      2  113781  151.5500  C22 C26        S   \n",
       "3  30.00      1      2  113781  151.5500  C22 C26        S   \n",
       "4  25.00      1      2  113781  151.5500  C22 C26        S   \n",
       "\n",
       "                         home.dest  \n",
       "0                     St Louis, MO  \n",
       "1  Montreal, PQ / Chesterville, ON  \n",
       "2  Montreal, PQ / Chesterville, ON  \n",
       "3  Montreal, PQ / Chesterville, ON  \n",
       "4  Montreal, PQ / Chesterville, ON  "
      ]
     },
     "execution_count": 3,
     "metadata": {},
     "output_type": "execute_result"
    }
   ],
   "source": [
    "data_original.head()"
   ]
  },
  {
   "cell_type": "markdown",
   "metadata": {},
   "source": [
    "- pclass: Passenger class (1 = 1st; 2 = 2nd; 3 = 3rd)\n",
    "- survival: A Boolean indicating whether the passenger survived or not (0 = No; 1 = Yes); this is our target\n",
    "- name: A field rich in information as it contains title and family names\n",
    "- sex: male/female\n",
    "- age: Age\n",
    "- sibsp: Number of siblings/spouses aboard\n",
    "- parch: Number of parents/children aboard\n",
    "- ticket: Ticket number.\n",
    "- fare: Passenger fare (British Pound).\n",
    "- cabin: Cabin ID\n",
    "- embarked: Port of embarkation (C = Cherbourg; Q = Queenstown; S = Southampton)\n",
    "- home.dest: Home/destination"
   ]
  },
  {
   "cell_type": "code",
   "execution_count": 4,
   "metadata": {
    "ExecuteTime": {
     "end_time": "2019-10-02T08:13:41.985855Z",
     "start_time": "2019-10-02T08:13:41.524318Z"
    }
   },
   "outputs": [
    {
     "data": {
      "image/png": "[encoded data removed]",
      "text/plain": [
       "<Figure size 1152x288 with 1 Axes>"
      ]
     },
     "metadata": {
      "needs_background": "light"
     },
     "output_type": "display_data"
    }
   ],
   "source": [
    "# Check for missing data\n",
    "plt.figure(figsize=(16,4))\n",
    "sns.heatmap(data_original.isnull(),yticklabels=False,cbar=False,cmap='viridis');"
   ]
  },
  {
   "cell_type": "code",
   "execution_count": 5,
   "metadata": {
    "ExecuteTime": {
     "end_time": "2019-10-02T08:13:42.042539Z",
     "start_time": "2019-10-02T08:13:41.991223Z"
    }
   },
   "outputs": [
    {
     "data": {
      "text/html": [
       "<div>\n",
       "<style scoped>\n",
       "    .dataframe tbody tr th:only-of-type {\n",
       "        vertical-align: middle;\n",
       "    }\n",
       "\n",
       "    .dataframe tbody tr th {\n",
       "        vertical-align: top;\n",
       "    }\n",
       "\n",
       "    .dataframe thead th {\n",
       "        text-align: right;\n",
       "    }\n",
       "</style>\n",
       "<table border=\"1\" class=\"dataframe\">\n",
       "  <thead>\n",
       "    <tr style=\"text-align: right;\">\n",
       "      <th></th>\n",
       "      <th>total</th>\n",
       "      <th>percent</th>\n",
       "      <th>dtype</th>\n",
       "    </tr>\n",
       "  </thead>\n",
       "  <tbody>\n",
       "    <tr>\n",
       "      <td>cabin</td>\n",
       "      <td>1014</td>\n",
       "      <td>77.5</td>\n",
       "      <td>object</td>\n",
       "    </tr>\n",
       "    <tr>\n",
       "      <td>home.dest</td>\n",
       "      <td>564</td>\n",
       "      <td>43.1</td>\n",
       "      <td>object</td>\n",
       "    </tr>\n",
       "    <tr>\n",
       "      <td>age</td>\n",
       "      <td>263</td>\n",
       "      <td>20.1</td>\n",
       "      <td>float64</td>\n",
       "    </tr>\n",
       "    <tr>\n",
       "      <td>embarked</td>\n",
       "      <td>2</td>\n",
       "      <td>0.2</td>\n",
       "      <td>object</td>\n",
       "    </tr>\n",
       "    <tr>\n",
       "      <td>fare</td>\n",
       "      <td>1</td>\n",
       "      <td>0.1</td>\n",
       "      <td>float64</td>\n",
       "    </tr>\n",
       "  </tbody>\n",
       "</table>\n",
       "</div>"
      ],
      "text/plain": [
       "           total  percent    dtype\n",
       "cabin       1014     77.5   object\n",
       "home.dest    564     43.1   object\n",
       "age          263     20.1  float64\n",
       "embarked       2      0.2   object\n",
       "fare           1      0.1  float64"
      ]
     },
     "metadata": {},
     "output_type": "display_data"
    }
   ],
   "source": [
    "def list_NaN(df):\n",
    "    \"\"\"Display DataFrame with missing values and their respective percentage\n",
    "    for every column that contains missing values.\n",
    "\n",
    "    Arguments:\n",
    "    ----------\n",
    "    - df: DataFrame\n",
    "\n",
    "    Returns:\n",
    "    --------\n",
    "    - None, display DataFrame\n",
    "    \"\"\"\n",
    "    if df.isnull().sum().sum() > 0:\n",
    "        total = df.isnull().sum()\n",
    "        percent = round(df.isnull().sum() / len(df) * 100, 1)\n",
    "        dtypes = df.dtypes\n",
    "\n",
    "        missing_data = pd.concat([total, percent, dtypes], axis=1,\n",
    "                                 keys=['total', 'percent', 'dtype'])\n",
    "        missing_data = missing_data.loc[missing_data['total'] != 0 \\\n",
    "                ].sort_values(['total'], ascending=False)\n",
    "        display(missing_data)\n",
    "    else:\n",
    "        print(\"No empty cells in DataFrame.\")\n",
    "        \n",
    "list_NaN(data_original)"
   ]
  },
  {
   "cell_type": "markdown",
   "metadata": {},
   "source": [
    "**Decision concerning missing values:** \n",
    "- Drop columns ['cabin', 'home.dest']\n",
    "- Impute mean fare value for respective class\n",
    "- Impute embarked mode\n",
    "- Impute stratified mean age for gender and class\n",
    "\n",
    "**And let's also drop the names and ticket columns for simplicity's sake**"
   ]
  },
  {
   "cell_type": "code",
   "execution_count": 6,
   "metadata": {
    "ExecuteTime": {
     "end_time": "2019-10-02T08:13:42.058059Z",
     "start_time": "2019-10-02T08:13:42.048134Z"
    }
   },
   "outputs": [],
   "source": [
    "# Drop 4 columns\n",
    "data = data_original.drop(['cabin', 'home.dest', 'name', 'ticket'], axis=1)\n",
    "assert data.shape[1] == data_original.shape[1]-4"
   ]
  },
  {
   "cell_type": "markdown",
   "metadata": {},
   "source": [
    "## ... but now split into train and test sets!"
   ]
  },
  {
   "cell_type": "code",
   "execution_count": 7,
   "metadata": {
    "ExecuteTime": {
     "end_time": "2019-10-02T08:13:42.152788Z",
     "start_time": "2019-10-02T08:13:42.064483Z"
    }
   },
   "outputs": [
    {
     "name": "stdout",
     "output_type": "stream",
     "text": [
      "X_train: (1047, 7)\n",
      "y_train: (1047,)\n",
      "X_test: (262, 7)\n",
      "y_test: (262,)\n"
     ]
    }
   ],
   "source": [
    "X_train, X_test, y_train, y_test = train_test_split(data.drop('survived', axis=1), \n",
    "                                                    data['survived'], \n",
    "                                                    test_size=0.20, \n",
    "                                                    random_state=101)\n",
    "\n",
    "print(\"X_train:\", X_train.shape)\n",
    "print(\"y_train:\", y_train.shape)\n",
    "print(\"X_test:\", X_test.shape)\n",
    "print(\"y_test:\", y_test.shape)"
   ]
  },
  {
   "cell_type": "markdown",
   "metadata": {
    "ExecuteTime": {
     "end_time": "2019-08-29T09:30:46.918217Z",
     "start_time": "2019-08-29T09:30:46.905044Z"
    }
   },
   "source": [
    "## Prepare data"
   ]
  },
  {
   "cell_type": "code",
   "execution_count": 8,
   "metadata": {
    "ExecuteTime": {
     "end_time": "2019-10-02T08:13:42.195378Z",
     "start_time": "2019-10-02T08:13:42.156689Z"
    }
   },
   "outputs": [
    {
     "data": {
      "text/html": [
       "<div>\n",
       "<style scoped>\n",
       "    .dataframe tbody tr th:only-of-type {\n",
       "        vertical-align: middle;\n",
       "    }\n",
       "\n",
       "    .dataframe tbody tr th {\n",
       "        vertical-align: top;\n",
       "    }\n",
       "\n",
       "    .dataframe thead th {\n",
       "        text-align: right;\n",
       "    }\n",
       "</style>\n",
       "<table border=\"1\" class=\"dataframe\">\n",
       "  <thead>\n",
       "    <tr style=\"text-align: right;\">\n",
       "      <th></th>\n",
       "      <th>pclass</th>\n",
       "      <th>sex</th>\n",
       "      <th>age</th>\n",
       "      <th>sibsp</th>\n",
       "      <th>parch</th>\n",
       "      <th>fare</th>\n",
       "      <th>embarked</th>\n",
       "    </tr>\n",
       "  </thead>\n",
       "  <tbody>\n",
       "    <tr>\n",
       "      <td>1218</td>\n",
       "      <td>3</td>\n",
       "      <td>male</td>\n",
       "      <td>30.0</td>\n",
       "      <td>0</td>\n",
       "      <td>0</td>\n",
       "      <td>8.0500</td>\n",
       "      <td>S</td>\n",
       "    </tr>\n",
       "    <tr>\n",
       "      <td>1060</td>\n",
       "      <td>3</td>\n",
       "      <td>female</td>\n",
       "      <td>18.0</td>\n",
       "      <td>0</td>\n",
       "      <td>0</td>\n",
       "      <td>7.7750</td>\n",
       "      <td>S</td>\n",
       "    </tr>\n",
       "    <tr>\n",
       "      <td>24</td>\n",
       "      <td>1</td>\n",
       "      <td>female</td>\n",
       "      <td>29.0</td>\n",
       "      <td>0</td>\n",
       "      <td>0</td>\n",
       "      <td>221.7792</td>\n",
       "      <td>S</td>\n",
       "    </tr>\n",
       "    <tr>\n",
       "      <td>840</td>\n",
       "      <td>3</td>\n",
       "      <td>female</td>\n",
       "      <td>24.0</td>\n",
       "      <td>0</td>\n",
       "      <td>0</td>\n",
       "      <td>8.8500</td>\n",
       "      <td>S</td>\n",
       "    </tr>\n",
       "    <tr>\n",
       "      <td>816</td>\n",
       "      <td>3</td>\n",
       "      <td>male</td>\n",
       "      <td>NaN</td>\n",
       "      <td>0</td>\n",
       "      <td>0</td>\n",
       "      <td>7.8958</td>\n",
       "      <td>C</td>\n",
       "    </tr>\n",
       "  </tbody>\n",
       "</table>\n",
       "</div>"
      ],
      "text/plain": [
       "      pclass     sex   age  sibsp  parch      fare embarked\n",
       "1218       3    male  30.0      0      0    8.0500        S\n",
       "1060       3  female  18.0      0      0    7.7750        S\n",
       "24         1  female  29.0      0      0  221.7792        S\n",
       "840        3  female  24.0      0      0    8.8500        S\n",
       "816        3    male   NaN      0      0    7.8958        C"
      ]
     },
     "execution_count": 8,
     "metadata": {},
     "output_type": "execute_result"
    }
   ],
   "source": [
    "X_train.head()"
   ]
  },
  {
   "cell_type": "markdown",
   "metadata": {
    "ExecuteTime": {
     "end_time": "2019-08-29T09:30:46.918217Z",
     "start_time": "2019-08-29T09:30:46.905044Z"
    }
   },
   "source": [
    "### Continue with imputation of missing values"
   ]
  },
  {
   "cell_type": "code",
   "execution_count": 9,
   "metadata": {
    "ExecuteTime": {
     "end_time": "2019-10-02T08:13:42.228176Z",
     "start_time": "2019-10-02T08:13:42.198354Z"
    }
   },
   "outputs": [
    {
     "data": {
      "text/html": [
       "<div>\n",
       "<style scoped>\n",
       "    .dataframe tbody tr th:only-of-type {\n",
       "        vertical-align: middle;\n",
       "    }\n",
       "\n",
       "    .dataframe tbody tr th {\n",
       "        vertical-align: top;\n",
       "    }\n",
       "\n",
       "    .dataframe thead th {\n",
       "        text-align: right;\n",
       "    }\n",
       "</style>\n",
       "<table border=\"1\" class=\"dataframe\">\n",
       "  <thead>\n",
       "    <tr style=\"text-align: right;\">\n",
       "      <th></th>\n",
       "      <th></th>\n",
       "      <th>age</th>\n",
       "    </tr>\n",
       "    <tr>\n",
       "      <th>sex</th>\n",
       "      <th>pclass</th>\n",
       "      <th></th>\n",
       "    </tr>\n",
       "  </thead>\n",
       "  <tbody>\n",
       "    <tr>\n",
       "      <td rowspan=\"3\" valign=\"top\">female</td>\n",
       "      <td>1</td>\n",
       "      <td>37.0</td>\n",
       "    </tr>\n",
       "    <tr>\n",
       "      <td>2</td>\n",
       "      <td>27.0</td>\n",
       "    </tr>\n",
       "    <tr>\n",
       "      <td>3</td>\n",
       "      <td>22.0</td>\n",
       "    </tr>\n",
       "    <tr>\n",
       "      <td rowspan=\"3\" valign=\"top\">male</td>\n",
       "      <td>1</td>\n",
       "      <td>41.0</td>\n",
       "    </tr>\n",
       "    <tr>\n",
       "      <td>2</td>\n",
       "      <td>31.0</td>\n",
       "    </tr>\n",
       "    <tr>\n",
       "      <td>3</td>\n",
       "      <td>26.0</td>\n",
       "    </tr>\n",
       "  </tbody>\n",
       "</table>\n",
       "</div>"
      ],
      "text/plain": [
       "                age\n",
       "sex    pclass      \n",
       "female 1       37.0\n",
       "       2       27.0\n",
       "       3       22.0\n",
       "male   1       41.0\n",
       "       2       31.0\n",
       "       3       26.0"
      ]
     },
     "metadata": {},
     "output_type": "display_data"
    }
   ],
   "source": [
    "# Impute age\n",
    "# Look at mean ages for different passenger groups\n",
    "mean_ages = pd.DataFrame(X_train.groupby(['sex', 'pclass'])['age'].mean().round(0))\n",
    "display(mean_ages)"
   ]
  },
  {
   "cell_type": "code",
   "execution_count": 10,
   "metadata": {
    "ExecuteTime": {
     "end_time": "2019-10-02T08:13:42.433269Z",
     "start_time": "2019-10-02T08:13:42.233256Z"
    }
   },
   "outputs": [],
   "source": [
    "def impute_age(cols):\n",
    "    \"\"\"Das müsste auch etwas eleganter gehen ...\"\"\"\n",
    "    \n",
    "    age = cols[0]\n",
    "    pclass = cols[1]\n",
    "    sex = cols[2]\n",
    "    \n",
    "    if pd.isnull(age):\n",
    "        if pclass == 1:\n",
    "            if sex == 'female':\n",
    "                return mean_ages['age'][0]   \n",
    "            else:\n",
    "                return mean_ages['age'][3]\n",
    "        elif pclass == 2:\n",
    "            if sex == 'female':\n",
    "                return mean_ages['age'][1]\n",
    "            else:\n",
    "                return mean_ages['age'][4]\n",
    "        else:\n",
    "            if sex == 'female':\n",
    "                return mean_ages['age'][2]\n",
    "            else:\n",
    "                return mean_ages['age'][5]\n",
    "    else:\n",
    "        return age\n",
    "    \n",
    "X_train['age'] = X_train[['age','pclass', 'sex']].apply(impute_age,axis=1)\n",
    "assert X_train['age'].isnull().sum() == 0"
   ]
  },
  {
   "cell_type": "code",
   "execution_count": 11,
   "metadata": {
    "ExecuteTime": {
     "end_time": "2019-10-02T08:13:42.469523Z",
     "start_time": "2019-10-02T08:13:42.438280Z"
    }
   },
   "outputs": [],
   "source": [
    "# Impute embarked\n",
    "embarked_mode = X_train['embarked'].value_counts().index[0]\n",
    "X_train['embarked'] = X_train['embarked'].fillna(value=embarked_mode)\n",
    "assert X_train['embarked'].isnull().sum() == 0"
   ]
  },
  {
   "cell_type": "code",
   "execution_count": 12,
   "metadata": {
    "ExecuteTime": {
     "end_time": "2019-10-02T08:13:42.505786Z",
     "start_time": "2019-10-02T08:13:42.472947Z"
    }
   },
   "outputs": [
    {
     "data": {
      "text/html": [
       "<div>\n",
       "<style scoped>\n",
       "    .dataframe tbody tr th:only-of-type {\n",
       "        vertical-align: middle;\n",
       "    }\n",
       "\n",
       "    .dataframe tbody tr th {\n",
       "        vertical-align: top;\n",
       "    }\n",
       "\n",
       "    .dataframe thead th {\n",
       "        text-align: right;\n",
       "    }\n",
       "</style>\n",
       "<table border=\"1\" class=\"dataframe\">\n",
       "  <thead>\n",
       "    <tr style=\"text-align: right;\">\n",
       "      <th></th>\n",
       "      <th>fare</th>\n",
       "    </tr>\n",
       "    <tr>\n",
       "      <th>pclass</th>\n",
       "      <th></th>\n",
       "    </tr>\n",
       "  </thead>\n",
       "  <tbody>\n",
       "    <tr>\n",
       "      <td>1</td>\n",
       "      <td>87.743111</td>\n",
       "    </tr>\n",
       "    <tr>\n",
       "      <td>2</td>\n",
       "      <td>21.152250</td>\n",
       "    </tr>\n",
       "    <tr>\n",
       "      <td>3</td>\n",
       "      <td>13.270321</td>\n",
       "    </tr>\n",
       "  </tbody>\n",
       "</table>\n",
       "</div>"
      ],
      "text/plain": [
       "             fare\n",
       "pclass           \n",
       "1       87.743111\n",
       "2       21.152250\n",
       "3       13.270321"
      ]
     },
     "metadata": {},
     "output_type": "display_data"
    }
   ],
   "source": [
    "# Impute fare\n",
    "mean_fares = pd.DataFrame(X_train.groupby(['pclass'])['fare'].mean())\n",
    "display(mean_fares)"
   ]
  },
  {
   "cell_type": "code",
   "execution_count": 13,
   "metadata": {
    "ExecuteTime": {
     "end_time": "2019-10-02T08:13:42.612694Z",
     "start_time": "2019-10-02T08:13:42.516245Z"
    }
   },
   "outputs": [],
   "source": [
    "def impute_fare(cols):\n",
    "    \"\"\"Das müsste auch etwas eleganter gehen ...\"\"\"\n",
    "    \n",
    "    fare = cols[0]\n",
    "    pclass = cols[1]\n",
    "    \n",
    "    if pd.isnull(fare):\n",
    "        if pclass == 1:\n",
    "            return mean_fares['fare'][0]  \n",
    "        elif pclass == 2:\n",
    "            return mean_fares['fare'][1]\n",
    "        else:\n",
    "            return mean_fares['fare'][2]\n",
    "    else:\n",
    "        return fare\n",
    "    \n",
    "X_train['fare'] = X_train[['fare','pclass']].apply(impute_fare,axis=1)\n",
    "assert X_train['fare'].isnull().sum() == 0"
   ]
  },
  {
   "cell_type": "code",
   "execution_count": 14,
   "metadata": {
    "ExecuteTime": {
     "end_time": "2019-10-02T08:13:42.846387Z",
     "start_time": "2019-10-02T08:13:42.614756Z"
    }
   },
   "outputs": [
    {
     "data": {
      "image/png": "[encoded data removed]",
      "text/plain": [
       "<Figure size 576x288 with 1 Axes>"
      ]
     },
     "metadata": {
      "needs_background": "light"
     },
     "output_type": "display_data"
    }
   ],
   "source": [
    "# Display data, to show that missing values are removed\n",
    "plt.figure(figsize=(8,4))\n",
    "sns.heatmap(X_train.isnull(),yticklabels=False,cbar=False,cmap='viridis');"
   ]
  },
  {
   "cell_type": "markdown",
   "metadata": {
    "ExecuteTime": {
     "end_time": "2019-08-29T10:44:56.046163Z",
     "start_time": "2019-08-29T10:44:56.030685Z"
    }
   },
   "source": [
    "### Encode categorical data \n",
    "\n",
    "Most algorithms cannot handle non-numeric data"
   ]
  },
  {
   "cell_type": "code",
   "execution_count": 15,
   "metadata": {
    "ExecuteTime": {
     "end_time": "2019-10-02T08:13:42.861768Z",
     "start_time": "2019-10-02T08:13:42.849351Z"
    }
   },
   "outputs": [
    {
     "data": {
      "text/html": [
       "<div>\n",
       "<style scoped>\n",
       "    .dataframe tbody tr th:only-of-type {\n",
       "        vertical-align: middle;\n",
       "    }\n",
       "\n",
       "    .dataframe tbody tr th {\n",
       "        vertical-align: top;\n",
       "    }\n",
       "\n",
       "    .dataframe thead th {\n",
       "        text-align: right;\n",
       "    }\n",
       "</style>\n",
       "<table border=\"1\" class=\"dataframe\">\n",
       "  <thead>\n",
       "    <tr style=\"text-align: right;\">\n",
       "      <th></th>\n",
       "      <th>pclass</th>\n",
       "      <th>sex</th>\n",
       "      <th>age</th>\n",
       "      <th>sibsp</th>\n",
       "      <th>parch</th>\n",
       "      <th>fare</th>\n",
       "      <th>embarked</th>\n",
       "    </tr>\n",
       "  </thead>\n",
       "  <tbody>\n",
       "    <tr>\n",
       "      <td>1218</td>\n",
       "      <td>3</td>\n",
       "      <td>male</td>\n",
       "      <td>30.0</td>\n",
       "      <td>0</td>\n",
       "      <td>0</td>\n",
       "      <td>8.0500</td>\n",
       "      <td>S</td>\n",
       "    </tr>\n",
       "    <tr>\n",
       "      <td>1060</td>\n",
       "      <td>3</td>\n",
       "      <td>female</td>\n",
       "      <td>18.0</td>\n",
       "      <td>0</td>\n",
       "      <td>0</td>\n",
       "      <td>7.7750</td>\n",
       "      <td>S</td>\n",
       "    </tr>\n",
       "    <tr>\n",
       "      <td>24</td>\n",
       "      <td>1</td>\n",
       "      <td>female</td>\n",
       "      <td>29.0</td>\n",
       "      <td>0</td>\n",
       "      <td>0</td>\n",
       "      <td>221.7792</td>\n",
       "      <td>S</td>\n",
       "    </tr>\n",
       "    <tr>\n",
       "      <td>840</td>\n",
       "      <td>3</td>\n",
       "      <td>female</td>\n",
       "      <td>24.0</td>\n",
       "      <td>0</td>\n",
       "      <td>0</td>\n",
       "      <td>8.8500</td>\n",
       "      <td>S</td>\n",
       "    </tr>\n",
       "    <tr>\n",
       "      <td>816</td>\n",
       "      <td>3</td>\n",
       "      <td>male</td>\n",
       "      <td>26.0</td>\n",
       "      <td>0</td>\n",
       "      <td>0</td>\n",
       "      <td>7.8958</td>\n",
       "      <td>C</td>\n",
       "    </tr>\n",
       "  </tbody>\n",
       "</table>\n",
       "</div>"
      ],
      "text/plain": [
       "      pclass     sex   age  sibsp  parch      fare embarked\n",
       "1218       3    male  30.0      0      0    8.0500        S\n",
       "1060       3  female  18.0      0      0    7.7750        S\n",
       "24         1  female  29.0      0      0  221.7792        S\n",
       "840        3  female  24.0      0      0    8.8500        S\n",
       "816        3    male  26.0      0      0    7.8958        C"
      ]
     },
     "execution_count": 15,
     "metadata": {},
     "output_type": "execute_result"
    }
   ],
   "source": [
    "X_train.head()"
   ]
  },
  {
   "cell_type": "code",
   "execution_count": 16,
   "metadata": {
    "ExecuteTime": {
     "end_time": "2019-10-02T08:13:42.877404Z",
     "start_time": "2019-10-02T08:13:42.864856Z"
    }
   },
   "outputs": [
    {
     "name": "stdout",
     "output_type": "stream",
     "text": [
      "<class 'pandas.core.frame.DataFrame'>\n",
      "Int64Index: 1047 entries, 1218 to 863\n",
      "Data columns (total 7 columns):\n",
      "pclass      1047 non-null int64\n",
      "sex         1047 non-null object\n",
      "age         1047 non-null float64\n",
      "sibsp       1047 non-null int64\n",
      "parch       1047 non-null int64\n",
      "fare        1047 non-null float64\n",
      "embarked    1047 non-null object\n",
      "dtypes: float64(2), int64(3), object(2)\n",
      "memory usage: 65.4+ KB\n"
     ]
    }
   ],
   "source": [
    "X_train.info()"
   ]
  },
  {
   "cell_type": "code",
   "execution_count": 17,
   "metadata": {
    "ExecuteTime": {
     "end_time": "2019-10-02T08:13:42.906335Z",
     "start_time": "2019-10-02T08:13:42.880862Z"
    }
   },
   "outputs": [],
   "source": [
    "# add pclass to categorical columns (dtype= 'object')\n",
    "X_train['pclass'] = X_train['pclass'].astype('object')"
   ]
  },
  {
   "cell_type": "code",
   "execution_count": 18,
   "metadata": {
    "ExecuteTime": {
     "end_time": "2019-10-02T08:13:43.043303Z",
     "start_time": "2019-10-02T08:13:42.909942Z"
    }
   },
   "outputs": [
    {
     "data": {
      "text/html": [
       "<div>\n",
       "<style scoped>\n",
       "    .dataframe tbody tr th:only-of-type {\n",
       "        vertical-align: middle;\n",
       "    }\n",
       "\n",
       "    .dataframe tbody tr th {\n",
       "        vertical-align: top;\n",
       "    }\n",
       "\n",
       "    .dataframe thead th {\n",
       "        text-align: right;\n",
       "    }\n",
       "</style>\n",
       "<table border=\"1\" class=\"dataframe\">\n",
       "  <thead>\n",
       "    <tr style=\"text-align: right;\">\n",
       "      <th></th>\n",
       "      <th>age</th>\n",
       "      <th>sibsp</th>\n",
       "      <th>parch</th>\n",
       "      <th>fare</th>\n",
       "      <th>pclass_2</th>\n",
       "      <th>pclass_3</th>\n",
       "      <th>sex_male</th>\n",
       "      <th>embarked_Q</th>\n",
       "      <th>embarked_S</th>\n",
       "    </tr>\n",
       "  </thead>\n",
       "  <tbody>\n",
       "    <tr>\n",
       "      <td>1218</td>\n",
       "      <td>30.0</td>\n",
       "      <td>0</td>\n",
       "      <td>0</td>\n",
       "      <td>8.0500</td>\n",
       "      <td>0</td>\n",
       "      <td>1</td>\n",
       "      <td>1</td>\n",
       "      <td>0</td>\n",
       "      <td>1</td>\n",
       "    </tr>\n",
       "    <tr>\n",
       "      <td>1060</td>\n",
       "      <td>18.0</td>\n",
       "      <td>0</td>\n",
       "      <td>0</td>\n",
       "      <td>7.7750</td>\n",
       "      <td>0</td>\n",
       "      <td>1</td>\n",
       "      <td>0</td>\n",
       "      <td>0</td>\n",
       "      <td>1</td>\n",
       "    </tr>\n",
       "    <tr>\n",
       "      <td>24</td>\n",
       "      <td>29.0</td>\n",
       "      <td>0</td>\n",
       "      <td>0</td>\n",
       "      <td>221.7792</td>\n",
       "      <td>0</td>\n",
       "      <td>0</td>\n",
       "      <td>0</td>\n",
       "      <td>0</td>\n",
       "      <td>1</td>\n",
       "    </tr>\n",
       "    <tr>\n",
       "      <td>840</td>\n",
       "      <td>24.0</td>\n",
       "      <td>0</td>\n",
       "      <td>0</td>\n",
       "      <td>8.8500</td>\n",
       "      <td>0</td>\n",
       "      <td>1</td>\n",
       "      <td>0</td>\n",
       "      <td>0</td>\n",
       "      <td>1</td>\n",
       "    </tr>\n",
       "    <tr>\n",
       "      <td>816</td>\n",
       "      <td>26.0</td>\n",
       "      <td>0</td>\n",
       "      <td>0</td>\n",
       "      <td>7.8958</td>\n",
       "      <td>0</td>\n",
       "      <td>1</td>\n",
       "      <td>1</td>\n",
       "      <td>0</td>\n",
       "      <td>0</td>\n",
       "    </tr>\n",
       "  </tbody>\n",
       "</table>\n",
       "</div>"
      ],
      "text/plain": [
       "       age  sibsp  parch      fare  pclass_2  pclass_3  sex_male  embarked_Q  \\\n",
       "1218  30.0      0      0    8.0500         0         1         1           0   \n",
       "1060  18.0      0      0    7.7750         0         1         0           0   \n",
       "24    29.0      0      0  221.7792         0         0         0           0   \n",
       "840   24.0      0      0    8.8500         0         1         0           0   \n",
       "816   26.0      0      0    7.8958         0         1         1           0   \n",
       "\n",
       "      embarked_S  \n",
       "1218           1  \n",
       "1060           1  \n",
       "24             1  \n",
       "840            1  \n",
       "816            0  "
      ]
     },
     "metadata": {},
     "output_type": "display_data"
    }
   ],
   "source": [
    "def encode_cat_cols(df):\n",
    "    df_ohe = df.copy()\n",
    "    for col in df_ohe.select_dtypes(include=['object', 'category']).columns:\n",
    "        df_ohe = pd.concat([df_ohe.drop(col, axis=1), \n",
    "                           pd.get_dummies(df_ohe[col], prefix=col, prefix_sep='_',\n",
    "                                          drop_first=True, dummy_na=False)], \n",
    "                                          axis=1)\n",
    "    return df_ohe\n",
    "\n",
    "X_train = encode_cat_cols(X_train)\n",
    "display(X_train.head())"
   ]
  },
  {
   "cell_type": "code",
   "execution_count": 19,
   "metadata": {
    "ExecuteTime": {
     "end_time": "2019-10-02T08:13:43.111998Z",
     "start_time": "2019-10-02T08:13:43.046422Z"
    }
   },
   "outputs": [],
   "source": [
    "# Apply all pre-processing to X_test too (copy-paste)\n",
    "X_test['age'] = X_test[['age','pclass', 'sex']].apply(impute_age,axis=1)\n",
    "X_test['embarked'] = X_test['embarked'].fillna(value=embarked_mode)\n",
    "X_test['fare'] = X_test[['fare','pclass']].apply(impute_fare,axis=1)\n",
    "X_test['pclass'] = X_test['pclass'].astype('object')\n",
    "X_test = encode_cat_cols(X_test)\n",
    "assert X_test.isnull().sum().sum() == 0\n",
    "assert X_test.shape[1] == X_train.shape[1]"
   ]
  },
  {
   "cell_type": "markdown",
   "metadata": {},
   "source": [
    "## Before we proceed ... Let's calculate a naive baseline model!"
   ]
  },
  {
   "cell_type": "code",
   "execution_count": 20,
   "metadata": {
    "ExecuteTime": {
     "end_time": "2019-10-02T08:13:43.143521Z",
     "start_time": "2019-10-02T08:13:43.114168Z"
    }
   },
   "outputs": [
    {
     "name": "stdout",
     "output_type": "stream",
     "text": [
      "Percentage of positive class in training data is: 0.3754\n",
      "ROC AUC score: 0.5\n"
     ]
    }
   ],
   "source": [
    "np.random.seed(666)\n",
    "naive_guess = np.random.binomial(1, p=np.mean(y_train),\n",
    "                                 size=len(y_test))\n",
    "\n",
    "print(\"Percentage of positive class in training data is:\",\n",
    "      round(np.mean(y_train), 4))\n",
    "\n",
    "# Print ROC-AUC curve\n",
    "print(\"ROC AUC score:\", roc_auc_score(y_test,\n",
    "      np.repeat(np.mean(y_train), len(y_test))))"
   ]
  },
  {
   "cell_type": "code",
   "execution_count": 21,
   "metadata": {
    "ExecuteTime": {
     "end_time": "2019-10-02T08:13:43.861920Z",
     "start_time": "2019-10-02T08:13:43.146692Z"
    }
   },
   "outputs": [
    {
     "data": {
      "image/png": "[encoded data removed]",
      "text/plain": [
       "<Figure size 576x576 with 1 Axes>"
      ]
     },
     "metadata": {
      "needs_background": "light"
     },
     "output_type": "display_data"
    }
   ],
   "source": [
    "def plot_ROC_curve(y_test, test_probs):\n",
    "    \"\"\"Plot area under the ROC-curve (ROC-AUC).\"\"\"\n",
    "\n",
    "    # Calculate AUC-score and ROC-curve\n",
    "    auc = roc_auc_score(y_test, test_probs)\n",
    "    fpr, tpr, thresholds = roc_curve(y_test, test_probs)\n",
    "\n",
    "    # Plot ROC curve\n",
    "    plt.figure(figsize=(8, 8))\n",
    "    plt.plot(fpr, tpr, label=\"{} (area = {:.3f})\".format(\"ROC AUC:\",\n",
    "             auc), color=color)\n",
    "    plt.fill_between(fpr, tpr, alpha=0.2, color=color)\n",
    "    plt.plot([0, 1], [0, 1], 'k--')\n",
    "    plt.xlim([0.0, 1.0])\n",
    "    plt.ylim([0.0, 1.0])\n",
    "    plt.xlabel('False Positive Rate (1 - Specificity)', size=12)\n",
    "    plt.ylabel('True Positive Rate (Sensitivity)', size=12)\n",
    "    plt.title('ROC - Aera under the curve', size=12)\n",
    "    plt.legend(loc='lower right');\n",
    "    \n",
    "plot_ROC_curve(y_test, np.repeat(np.mean(y_train), len(y_test)))"
   ]
  },
  {
   "cell_type": "markdown",
   "metadata": {},
   "source": [
    "## Train and evaluate a a linear classifier model (Logistic Regression)"
   ]
  },
  {
   "cell_type": "code",
   "execution_count": 22,
   "metadata": {
    "ExecuteTime": {
     "end_time": "2019-10-02T08:13:43.893310Z",
     "start_time": "2019-10-02T08:13:43.868001Z"
    }
   },
   "outputs": [],
   "source": [
    "# Instantiate model and fit on train data\n",
    "logmodel = LogisticRegression(solver='liblinear')\n",
    "logmodel.fit(X_train, y_train)\n",
    "\n",
    "# Get predictions and probablities for the predictions\n",
    "predictions_log = logmodel.predict(X_test)\n",
    "probabilities_log_full = logmodel.predict_proba(X_test)\n",
    "probabilities_log = probabilities_log_full[:, 1]"
   ]
  },
  {
   "cell_type": "code",
   "execution_count": 23,
   "metadata": {
    "ExecuteTime": {
     "end_time": "2019-10-02T08:13:44.526955Z",
     "start_time": "2019-10-02T08:13:43.898481Z"
    }
   },
   "outputs": [
    {
     "data": {
      "image/png": "[encoded data removed]",
      "text/plain": [
       "<Figure size 576x576 with 1 Axes>"
      ]
     },
     "metadata": {
      "needs_background": "light"
     },
     "output_type": "display_data"
    }
   ],
   "source": [
    "plot_ROC_curve(y_test, probabilities_log)"
   ]
  },
  {
   "cell_type": "markdown",
   "metadata": {
    "ExecuteTime": {
     "end_time": "2019-08-29T11:27:09.008097Z",
     "start_time": "2019-08-29T11:27:08.992601Z"
    }
   },
   "source": [
    "## Train and evaluate a decision tree based model (Gradient Boosting)"
   ]
  },
  {
   "cell_type": "code",
   "execution_count": 24,
   "metadata": {
    "ExecuteTime": {
     "end_time": "2019-10-02T08:13:44.731059Z",
     "start_time": "2019-10-02T08:13:44.531657Z"
    }
   },
   "outputs": [],
   "source": [
    "# Instantiate model and fit on train data\n",
    "gbcmodel = GradientBoostingClassifier(n_estimators=100)\n",
    "gbcmodel.fit(X_train, y_train)\n",
    "\n",
    "# Get predictions and probablities for the predictions\n",
    "predictions_gbc = gbcmodel.predict(X_test)\n",
    "probabilities_gbc_full = gbcmodel.predict_proba(X_test)\n",
    "probabilities_gbc = probabilities_gbc_full[:, 1]"
   ]
  },
  {
   "cell_type": "code",
   "execution_count": 25,
   "metadata": {
    "ExecuteTime": {
     "end_time": "2019-10-02T08:13:45.579481Z",
     "start_time": "2019-10-02T08:13:44.734355Z"
    }
   },
   "outputs": [
    {
     "data": {
      "image/png": "[encoded data removed]",
      "text/plain": [
       "<Figure size 576x576 with 1 Axes>"
      ]
     },
     "metadata": {
      "needs_background": "light"
     },
     "output_type": "display_data"
    }
   ],
   "source": [
    "plot_ROC_curve(y_test, probabilities_gbc)"
   ]
  },
  {
   "cell_type": "code",
   "execution_count": 26,
   "metadata": {
    "ExecuteTime": {
     "end_time": "2019-10-02T08:13:45.613813Z",
     "start_time": "2019-10-02T08:13:45.583070Z"
    }
   },
   "outputs": [],
   "source": [
    "def plot_confusion_matrix(y_test, test_preds):\n",
    "    \"\"\"Plot confusion matrix and print detailed metrics for evaluated\n",
    "    model.\"\"\"\n",
    "\n",
    "    conf_matrix = confusion_matrix(y_test, test_preds)\n",
    "    tn, fp, fn, tp = conf_matrix.ravel()\n",
    "\n",
    "    label_names = np.sort(y_train.unique())\n",
    "    sns.heatmap(conf_matrix.T, square=True, annot=True, fmt='d',\n",
    "                cbar=False, xticklabels=label_names,\n",
    "                yticklabels=label_names)\n",
    "    plt.ylim([0,2])\n",
    "    plt.xlabel('true label')\n",
    "    plt.ylabel('predicted label')\n",
    "\n",
    "    for value, name in {tp: \"True positives\",\n",
    "                        fp: \"False positives\",\n",
    "                        tn: \"True negatives\",\n",
    "                        fn: \"False negatives\",\n",
    "                        }.items():\n",
    "        print(\"{}: {} ({:.2f}%)\".format(name, value,\n",
    "                                        value / conf_matrix.sum() * 100))\n",
    "    print(\"\\nProportion of misclassified instances in total:\",\n",
    "          round((fp+fn) / (tp+fp+tn+fn), 2))\n",
    "    print(\"Typ I error (Number of items wrongly identified as \" +\n",
    "          \"positive out of total true negatives):\", round(fp/(tn+fp), 2))\n",
    "    print(\"Type II error (Number of items wrongly identified as \" +\n",
    "          \"negative out of total true positives):\", round(fn/(tp+fn), 2))"
   ]
  },
  {
   "cell_type": "code",
   "execution_count": 27,
   "metadata": {
    "ExecuteTime": {
     "end_time": "2019-10-02T08:13:45.930440Z",
     "start_time": "2019-10-02T08:13:45.616171Z"
    }
   },
   "outputs": [
    {
     "name": "stdout",
     "output_type": "stream",
     "text": [
      "True positives: 74 (28.24%)\n",
      "False positives: 17 (6.49%)\n",
      "True negatives: 138 (52.67%)\n",
      "False negatives: 33 (12.60%)\n",
      "\n",
      "Proportion of misclassified instances in total: 0.19\n",
      "Typ I error (Number of items wrongly identified as positive out of total true negatives): 0.11\n",
      "Type II error (Number of items wrongly identified as negative out of total true positives): 0.31\n"
     ]
    },
    {
     "data": {
      "image/png": "[encoded data removed]",
      "text/plain": [
       "<Figure size 432x288 with 1 Axes>"
      ]
     },
     "metadata": {
      "needs_background": "light"
     },
     "output_type": "display_data"
    }
   ],
   "source": [
    "plot_confusion_matrix(y_test, predictions_gbc)"
   ]
  },
  {
   "cell_type": "code",
   "execution_count": 28,
   "metadata": {
    "ExecuteTime": {
     "end_time": "2019-10-02T08:13:46.753584Z",
     "start_time": "2019-10-02T08:13:45.936501Z"
    }
   },
   "outputs": [
    {
     "data": {
      "image/png": "[encoded data removed]",
      "text/plain": [
       "<Figure size 1152x360 with 1 Axes>"
      ]
     },
     "metadata": {
      "needs_background": "light"
     },
     "output_type": "display_data"
    }
   ],
   "source": [
    "def plot_feature_weights(feature_importances, max_cols=None):\n",
    "\n",
    "    weights = feature_importances\n",
    "    weights_named_df = pd.DataFrame(sorted(zip(weights,\n",
    "                                                     X_train.columns),\n",
    "                                          reverse=True))\n",
    "\n",
    "    if max_cols is not None:\n",
    "        weights_named_df = weights_named_df.iloc[:, :max_cols]\n",
    "    else:\n",
    "        plt.figure(figsize=(16, 5))\n",
    "        plt.bar(np.arange(len(weights_named_df)),\n",
    "                weights_named_df[0],\n",
    "                width=0.5,\n",
    "                align=\"center\",\n",
    "                color='yellow',\n",
    "                label=\"Feature Weight\")\n",
    "        plt.bar(np.arange(len(weights_named_df)) - 0.3,\n",
    "                np.cumsum(weights_named_df[0]),\n",
    "                width=0.4,\n",
    "                align=\"center\",\n",
    "                color=color,\n",
    "                label=\"Cumulative Feature Weights\")\n",
    "        plt.title(\"Normalized Weights for Predictive Features / Attributes\")\n",
    "        plt.ylabel(\"Weights\")\n",
    "        plt.xlabel(\"Features / Attributes\")\n",
    "        plt.xticks(np.arange(len(weights_named_df)),\n",
    "                   weights_named_df[1],\n",
    "                   rotation=90)\n",
    "        plt.legend(loc='upper left');\n",
    "        \n",
    "\n",
    "importances_gbc = gbcmodel.feature_importances_\n",
    "plot_feature_weights(importances_gbc)"
   ]
  },
  {
   "cell_type": "code",
   "execution_count": 29,
   "metadata": {
    "ExecuteTime": {
     "end_time": "2019-10-02T08:13:46.801288Z",
     "start_time": "2019-10-02T08:13:46.760912Z"
    }
   },
   "outputs": [
    {
     "name": "stdout",
     "output_type": "stream",
     "text": [
      "Saved model to: gbc_titanic.joblib.dat\n"
     ]
    }
   ],
   "source": [
    "### Save model \n",
    "dump_location = \"gbc_titanic.joblib.dat\"\n",
    "joblib.dump(gbcmodel, dump_location) \n",
    "print(\"Saved model to:\", dump_location)"
   ]
  },
  {
   "cell_type": "markdown",
   "metadata": {
    "ExecuteTime": {
     "end_time": "2019-08-29T18:01:44.830697Z",
     "start_time": "2019-08-29T18:01:44.801859Z"
    }
   },
   "source": [
    "## Predict survival probability for a new instance"
   ]
  },
  {
   "cell_type": "code",
   "execution_count": 30,
   "metadata": {
    "ExecuteTime": {
     "end_time": "2019-10-02T08:13:46.837268Z",
     "start_time": "2019-10-02T08:13:46.804669Z"
    }
   },
   "outputs": [
    {
     "name": "stdout",
     "output_type": "stream",
     "text": [
      "GradientBoostingClassifier(criterion='friedman_mse', init=None,\n",
      "                           learning_rate=0.1, loss='deviance', max_depth=3,\n",
      "                           max_features=None, max_leaf_nodes=None,\n",
      "                           min_impurity_decrease=0.0, min_impurity_split=None,\n",
      "                           min_samples_leaf=1, min_samples_split=2,\n",
      "                           min_weight_fraction_leaf=0.0, n_estimators=100,\n",
      "                           n_iter_no_change=None, presort='auto',\n",
      "                           random_state=None, subsample=1.0, tol=0.0001,\n",
      "                           validation_fraction=0.1, verbose=0,\n",
      "                           warm_start=False)\n"
     ]
    }
   ],
   "source": [
    "# Print model with its hyperparameters\n",
    "print(gbcmodel)"
   ]
  },
  {
   "cell_type": "code",
   "execution_count": 31,
   "metadata": {
    "ExecuteTime": {
     "end_time": "2019-10-02T08:13:46.881308Z",
     "start_time": "2019-10-02T08:13:46.840840Z"
    }
   },
   "outputs": [
    {
     "data": {
      "text/html": [
       "<div>\n",
       "<style scoped>\n",
       "    .dataframe tbody tr th:only-of-type {\n",
       "        vertical-align: middle;\n",
       "    }\n",
       "\n",
       "    .dataframe tbody tr th {\n",
       "        vertical-align: top;\n",
       "    }\n",
       "\n",
       "    .dataframe thead th {\n",
       "        text-align: right;\n",
       "    }\n",
       "</style>\n",
       "<table border=\"1\" class=\"dataframe\">\n",
       "  <thead>\n",
       "    <tr style=\"text-align: right;\">\n",
       "      <th></th>\n",
       "      <th>age</th>\n",
       "      <th>sibsp</th>\n",
       "      <th>parch</th>\n",
       "      <th>fare</th>\n",
       "      <th>pclass_2</th>\n",
       "      <th>pclass_3</th>\n",
       "      <th>sex_male</th>\n",
       "      <th>embarked_Q</th>\n",
       "      <th>embarked_S</th>\n",
       "    </tr>\n",
       "  </thead>\n",
       "  <tbody>\n",
       "    <tr>\n",
       "      <td>1218</td>\n",
       "      <td>30.0</td>\n",
       "      <td>0</td>\n",
       "      <td>0</td>\n",
       "      <td>8.0500</td>\n",
       "      <td>0</td>\n",
       "      <td>1</td>\n",
       "      <td>1</td>\n",
       "      <td>0</td>\n",
       "      <td>1</td>\n",
       "    </tr>\n",
       "    <tr>\n",
       "      <td>1060</td>\n",
       "      <td>18.0</td>\n",
       "      <td>0</td>\n",
       "      <td>0</td>\n",
       "      <td>7.7750</td>\n",
       "      <td>0</td>\n",
       "      <td>1</td>\n",
       "      <td>0</td>\n",
       "      <td>0</td>\n",
       "      <td>1</td>\n",
       "    </tr>\n",
       "    <tr>\n",
       "      <td>24</td>\n",
       "      <td>29.0</td>\n",
       "      <td>0</td>\n",
       "      <td>0</td>\n",
       "      <td>221.7792</td>\n",
       "      <td>0</td>\n",
       "      <td>0</td>\n",
       "      <td>0</td>\n",
       "      <td>0</td>\n",
       "      <td>1</td>\n",
       "    </tr>\n",
       "    <tr>\n",
       "      <td>840</td>\n",
       "      <td>24.0</td>\n",
       "      <td>0</td>\n",
       "      <td>0</td>\n",
       "      <td>8.8500</td>\n",
       "      <td>0</td>\n",
       "      <td>1</td>\n",
       "      <td>0</td>\n",
       "      <td>0</td>\n",
       "      <td>1</td>\n",
       "    </tr>\n",
       "    <tr>\n",
       "      <td>816</td>\n",
       "      <td>26.0</td>\n",
       "      <td>0</td>\n",
       "      <td>0</td>\n",
       "      <td>7.8958</td>\n",
       "      <td>0</td>\n",
       "      <td>1</td>\n",
       "      <td>1</td>\n",
       "      <td>0</td>\n",
       "      <td>0</td>\n",
       "    </tr>\n",
       "  </tbody>\n",
       "</table>\n",
       "</div>"
      ],
      "text/plain": [
       "       age  sibsp  parch      fare  pclass_2  pclass_3  sex_male  embarked_Q  \\\n",
       "1218  30.0      0      0    8.0500         0         1         1           0   \n",
       "1060  18.0      0      0    7.7750         0         1         0           0   \n",
       "24    29.0      0      0  221.7792         0         0         0           0   \n",
       "840   24.0      0      0    8.8500         0         1         0           0   \n",
       "816   26.0      0      0    7.8958         0         1         1           0   \n",
       "\n",
       "      embarked_S  \n",
       "1218           1  \n",
       "1060           1  \n",
       "24             1  \n",
       "840            1  \n",
       "816            0  "
      ]
     },
     "execution_count": 31,
     "metadata": {},
     "output_type": "execute_result"
    }
   ],
   "source": [
    "X_train.head()"
   ]
  },
  {
   "cell_type": "code",
   "execution_count": 32,
   "metadata": {
    "ExecuteTime": {
     "end_time": "2019-10-02T08:13:46.928382Z",
     "start_time": "2019-10-02T08:13:46.884373Z"
    }
   },
   "outputs": [
    {
     "name": "stdout",
     "output_type": "stream",
     "text": [
      "Survival Prediction: [0]\n",
      "Survival Probability: [0.31173907]\n"
     ]
    }
   ],
   "source": [
    "raph_dict = {'age': 41,\n",
    "             'sibsp': 1,\n",
    "             'parch': 2,\n",
    "             'fare': mean_fares['fare'][1],\n",
    "             'pclass_2': 1,\n",
    "             'pclass_3': 0,\n",
    "             'sex_male': 1,\n",
    "             'embarked_Q': 0,\n",
    "             'embarked_S': 0,\n",
    "             }\n",
    "\n",
    "raph = np.array([val for val in raph_dict.values()]).reshape(1, -1)\n",
    "\n",
    "print(\"Survival Prediction:\", gbcmodel.predict(raph))\n",
    "print(\"Survival Probability:\", gbcmodel.predict_proba(raph)[:, 1])"
   ]
  },
  {
   "cell_type": "code",
   "execution_count": 33,
   "metadata": {
    "ExecuteTime": {
     "end_time": "2019-10-02T08:13:46.974633Z",
     "start_time": "2019-10-02T08:13:46.934332Z"
    }
   },
   "outputs": [
    {
     "name": "stdout",
     "output_type": "stream",
     "text": [
      "Survival Prediction: [1]\n",
      "Survival Probability: [0.94514832]\n"
     ]
    }
   ],
   "source": [
    "ismael_dict = {'age': 3, # only change\n",
    "             'sibsp': 1,\n",
    "             'parch': 2,\n",
    "             'fare': mean_fares['fare'][1],\n",
    "             'pclass_2': 1,\n",
    "             'pclass_3': 0,\n",
    "             'sex_male': 1,\n",
    "             'embarked_Q': 0,\n",
    "             'embarked_S': 0,\n",
    "             }\n",
    "\n",
    "ismael = np.array([val for val in ismael_dict.values()]).reshape(1, -1)\n",
    "\n",
    "print(\"Survival Prediction:\", gbcmodel.predict(ismael))\n",
    "print(\"Survival Probability:\", gbcmodel.predict_proba(ismael)[:, 1])"
   ]
  },
  {
   "cell_type": "markdown",
   "metadata": {},
   "source": [
    "---"
   ]
  }
 ],
 "metadata": {
  "hide_input": false,
  "kernelspec": {
   "display_name": "Python 3",
   "language": "python",
   "name": "python3"
  },
  "language_info": {
   "codemirror_mode": {
    "name": "ipython",
    "version": 3
   },
   "file_extension": ".py",
   "mimetype": "text/x-python",
   "name": "python",
   "nbconvert_exporter": "python",
   "pygments_lexer": "ipython3",
   "version": "3.7.4"
  },
  "toc": {
   "base_numbering": 1,
   "nav_menu": {},
   "number_sections": true,
   "sideBar": false,
   "skip_h1_title": true,
   "title_cell": "Table of Contents",
   "title_sidebar": "Contents",
   "toc_cell": true,
   "toc_position": {},
   "toc_section_display": true,
   "toc_window_display": false
  }
 },
 "nbformat": 4,
 "nbformat_minor": 2
}
