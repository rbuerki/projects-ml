{
 "cells": [
  {
   "cell_type": "markdown",
   "metadata": {},
   "source": [
    "# Population / Cohort Survival Curves (Kaplan-Meier)\n",
    "\n",
    "Kaplan-Meier estimator is a powerful non-parametric method to estimate Survival Curves for a Population / Cohort. It is implemented using David Camerons [lifelines package](https://lifelines.readthedocs.io/en/latest/index.html).\n",
    "\n",
    "After a first small demonstration of the KM estimator on tiny dummy data, the estimator is fitted to data of telco customers, first as a whole and then in cohorts. The latter is also very interesting to see which features have importance when it comes to survival duration / churn rates. This will be further explored in the next notebook.\n",
    "\n",
    "- This notebooks owes very much to this [blogpost](https://towardsdatascience.com/survival-analysis-intuition-implementation-in-python-504fde4fcf8e) from Anurag Pandey, that gives some nice additional explanations. \n",
    "- The deep dive section at the end is taken from Lauren Oldja's [repository](https://github.com/loldja/loldja.github.io/blob/master/assets/code/blog/Kaplan%20Meier%20demo.ipynb).\n",
    "\n",
    "\n",
    "### Kaplan-Meier\n",
    "\n",
    "For background, see [Rich et al (2010)](https://www.ncbi.nlm.nih.gov/pmc/articles/PMC3932959/), [Singh et all (2011)](https://www.ncbi.nlm.nih.gov/pmc/articles/PMC3227332/)\n",
    "- Estimates the “survival function” for a cohort of subjects \n",
    "- Does not provide an estimate of the magnitude of the difference in survival for the cohorts being compared \n",
    "- Each observation (case, customer) should have one \"birth\" (activation) and one \"death\" (churn)\n",
    "\n",
    "\n",
    "**Pros**:\n",
    "- Minimal feature set needed. Only needs the time which event occurred (death or censorship) and the lifetime duration between birth and event.\n",
    "- Many time-series analyses are tricky to implement. Kaplan-Meier only needs all of the events to happen within the same time period of interest\n",
    "- Handles class imbalance automatically (any proportion of deaths-to-censored events is okay)\n",
    "- Because it is a non-parametric method, few assumptions are made about the underlying distribution of the data\n",
    "\n",
    "**Cons**:\n",
    "- Cannot estimate the magnitude in difference of the survival-predictor relationship of interest (no hazard ratio or relative risk)\n",
    "- Cannot account for multiple factors simultaneously for each subject in the time to event study, nor control for confounding factors\n",
    "- Assumes independence between censoring and survival, meaning that at time t, those who have been censored should have the same prognosis as those who have not been censored.\n",
    "- Because it is a non-parametric model, it is not as efficient or accurate as competing techniques on problems where the underlying data distribution is known\n",
    "\n",
    "\n",
    "### Data Sources\n",
    "\n",
    "- `data/raw/Telco-Customer-Churn.xlsx`: Data from IBM Watson Analytics, can be downloaded [here](https://www.ibm.com/communities/analytics/watson-analytics-blog/Telco-Customer-Churn/).\n",
    "\n",
    "### Data Output\n",
    "\n",
    "- `'data/interim/telco_customer_churn.csv'`: Cleaned data, will be reused in the second notebook.\n",
    "\n",
    "### Changes\n",
    "\n",
    "- 2019-02-22: Start and terminate notebook"
   ]
  },
  {
   "cell_type": "markdown",
   "metadata": {},
   "source": [
    "---"
   ]
  },
  {
   "cell_type": "markdown",
   "metadata": {},
   "source": [
    "### Import libraries, load data"
   ]
  },
  {
   "cell_type": "code",
   "execution_count": 1,
   "metadata": {},
   "outputs": [],
   "source": [
    "# Import libraries\n",
    "import numpy as np\n",
    "import pandas as pd\n",
    "from tqdm import tqdm\n",
    "\n",
    "from lifelines.plotting import plot_lifetimes\n",
    "from lifelines import KaplanMeierFitter\n",
    "from lifelines.statistics import logrank_test # survival statistical testing\n",
    "\n",
    "# My functions\n",
    "import EDA_functions as EDA\n",
    "import cleaning_functions as cleaning\n",
    "\n",
    "# Visualization\n",
    "import matplotlib.pyplot as plt\n",
    "import seaborn as sns\n",
    "sns.set_style('whitegrid')\n",
    "color = 'rebeccapurple'\n",
    "%matplotlib inline\n",
    "\n",
    "# Display settings\n",
    "from IPython.display import Image # for image towards the end\n",
    "from IPython.display import display\n",
    "pd.options.display.max_columns = 100"
   ]
  },
  {
   "cell_type": "code",
   "execution_count": 2,
   "metadata": {},
   "outputs": [],
   "source": [
    "# Load data \n",
    "data = pd.read_excel('data/raw/Telco-Customer-Churn.xlsx')"
   ]
  },
  {
   "cell_type": "markdown",
   "metadata": {},
   "source": [
    "## 0) Small demo with dummy data\n",
    "\n",
    "The example below shows the data of 6 users of a website. Thy visit the website and leave after few minutes. Thus, event of interest is the time in which a user leaves the website. Time of origin is defined as the time of opening the website by a user and the time scale is in minutes. The study starts at time t=0 and ends at time t=6 minutes.\n",
    "\n",
    "**Censorship:** During the study period, event happened with 4 out of 6 users, while two users continued and the event didn’t happen till the end of the study; such data is called _censored data_. In case of censorship, we don’t know at what time the event will occur, but still we are using that data to estimate the probability of survival. If we did not include the censored data, then it is highly likely that our estimates would be highly biased and under-estimated. _The inclusion of censored data to calculate the estimates, makes the Survival Analysis very powerful, and it stands out as compared to many other statistical techniques._"
   ]
  },
  {
   "cell_type": "code",
   "execution_count": 3,
   "metadata": {},
   "outputs": [
    {
     "data": {
      "image/png": "[encoded data removed]",
      "text/plain": [
       "<Figure size 432x288 with 1 Axes>"
      ]
     },
     "metadata": {
      "needs_background": "light"
     },
     "output_type": "display_data"
    }
   ],
   "source": [
    "# Create example data \n",
    "durations = [5,6,6,2.5,4,4]\n",
    "event_observed = [1, 0, 0, 1, 1, 1]\n",
    "\n",
    "# Create and fit a kmf object\n",
    "kmf = KaplanMeierFitter() \n",
    "kmf.fit(durations, event_observed,label='Kaplan Meier Estimate')\n",
    "\n",
    "## Create an estimate\n",
    "kmf.plot(ci_show=False, ylim=(0,1));  # ci_show is meant for confidence interval, our data set is too tiny"
   ]
  },
  {
   "cell_type": "markdown",
   "metadata": {},
   "source": [
    "## 1) Ananyze Telco Customer Churn \n"
   ]
  },
  {
   "cell_type": "code",
   "execution_count": 4,
   "metadata": {},
   "outputs": [
    {
     "name": "stdout",
     "output_type": "stream",
     "text": [
      "<class 'pandas.core.frame.DataFrame'>\n",
      "RangeIndex: 7043 entries, 0 to 7042\n",
      "Data columns (total 21 columns):\n",
      "customerID          7043 non-null object\n",
      "gender              7043 non-null object\n",
      "SeniorCitizen       7043 non-null int64\n",
      "Partner             7043 non-null object\n",
      "Dependents          7043 non-null object\n",
      "tenure              7043 non-null int64\n",
      "PhoneService        7043 non-null object\n",
      "MultipleLines       7043 non-null object\n",
      "InternetService     7043 non-null object\n",
      "OnlineSecurity      7043 non-null object\n",
      "OnlineBackup        7043 non-null object\n",
      "DeviceProtection    7043 non-null object\n",
      "TechSupport         7043 non-null object\n",
      "StreamingTV         7043 non-null object\n",
      "StreamingMovies     7043 non-null object\n",
      "Contract            7043 non-null object\n",
      "PaperlessBilling    7043 non-null object\n",
      "PaymentMethod       7043 non-null object\n",
      "MonthlyCharges      7043 non-null float64\n",
      "TotalCharges        7043 non-null object\n",
      "Churn               7043 non-null object\n",
      "dtypes: float64(1), int64(2), object(18)\n",
      "memory usage: 1.1+ MB\n"
     ]
    },
    {
     "data": {
      "text/plain": [
       "None"
      ]
     },
     "metadata": {},
     "output_type": "display_data"
    },
    {
     "data": {
      "text/html": [
       "<div>\n",
       "<style scoped>\n",
       "    .dataframe tbody tr th:only-of-type {\n",
       "        vertical-align: middle;\n",
       "    }\n",
       "\n",
       "    .dataframe tbody tr th {\n",
       "        vertical-align: top;\n",
       "    }\n",
       "\n",
       "    .dataframe thead th {\n",
       "        text-align: right;\n",
       "    }\n",
       "</style>\n",
       "<table border=\"1\" class=\"dataframe\">\n",
       "  <thead>\n",
       "    <tr style=\"text-align: right;\">\n",
       "      <th></th>\n",
       "      <th>customerID</th>\n",
       "      <th>gender</th>\n",
       "      <th>SeniorCitizen</th>\n",
       "      <th>Partner</th>\n",
       "      <th>Dependents</th>\n",
       "      <th>tenure</th>\n",
       "      <th>PhoneService</th>\n",
       "      <th>MultipleLines</th>\n",
       "      <th>InternetService</th>\n",
       "      <th>OnlineSecurity</th>\n",
       "      <th>OnlineBackup</th>\n",
       "      <th>DeviceProtection</th>\n",
       "      <th>TechSupport</th>\n",
       "      <th>StreamingTV</th>\n",
       "      <th>StreamingMovies</th>\n",
       "      <th>Contract</th>\n",
       "      <th>PaperlessBilling</th>\n",
       "      <th>PaymentMethod</th>\n",
       "      <th>MonthlyCharges</th>\n",
       "      <th>TotalCharges</th>\n",
       "      <th>Churn</th>\n",
       "    </tr>\n",
       "  </thead>\n",
       "  <tbody>\n",
       "    <tr>\n",
       "      <th>0</th>\n",
       "      <td>7590-VHVEG</td>\n",
       "      <td>Female</td>\n",
       "      <td>0</td>\n",
       "      <td>Yes</td>\n",
       "      <td>No</td>\n",
       "      <td>1</td>\n",
       "      <td>No</td>\n",
       "      <td>No phone service</td>\n",
       "      <td>DSL</td>\n",
       "      <td>No</td>\n",
       "      <td>Yes</td>\n",
       "      <td>No</td>\n",
       "      <td>No</td>\n",
       "      <td>No</td>\n",
       "      <td>No</td>\n",
       "      <td>Month-to-month</td>\n",
       "      <td>Yes</td>\n",
       "      <td>Electronic check</td>\n",
       "      <td>29.85</td>\n",
       "      <td>29.85</td>\n",
       "      <td>No</td>\n",
       "    </tr>\n",
       "    <tr>\n",
       "      <th>1</th>\n",
       "      <td>5575-GNVDE</td>\n",
       "      <td>Male</td>\n",
       "      <td>0</td>\n",
       "      <td>No</td>\n",
       "      <td>No</td>\n",
       "      <td>34</td>\n",
       "      <td>Yes</td>\n",
       "      <td>No</td>\n",
       "      <td>DSL</td>\n",
       "      <td>Yes</td>\n",
       "      <td>No</td>\n",
       "      <td>Yes</td>\n",
       "      <td>No</td>\n",
       "      <td>No</td>\n",
       "      <td>No</td>\n",
       "      <td>One year</td>\n",
       "      <td>No</td>\n",
       "      <td>Mailed check</td>\n",
       "      <td>56.95</td>\n",
       "      <td>1889.5</td>\n",
       "      <td>No</td>\n",
       "    </tr>\n",
       "    <tr>\n",
       "      <th>2</th>\n",
       "      <td>3668-QPYBK</td>\n",
       "      <td>Male</td>\n",
       "      <td>0</td>\n",
       "      <td>No</td>\n",
       "      <td>No</td>\n",
       "      <td>2</td>\n",
       "      <td>Yes</td>\n",
       "      <td>No</td>\n",
       "      <td>DSL</td>\n",
       "      <td>Yes</td>\n",
       "      <td>Yes</td>\n",
       "      <td>No</td>\n",
       "      <td>No</td>\n",
       "      <td>No</td>\n",
       "      <td>No</td>\n",
       "      <td>Month-to-month</td>\n",
       "      <td>Yes</td>\n",
       "      <td>Mailed check</td>\n",
       "      <td>53.85</td>\n",
       "      <td>108.15</td>\n",
       "      <td>Yes</td>\n",
       "    </tr>\n",
       "    <tr>\n",
       "      <th>3</th>\n",
       "      <td>7795-CFOCW</td>\n",
       "      <td>Male</td>\n",
       "      <td>0</td>\n",
       "      <td>No</td>\n",
       "      <td>No</td>\n",
       "      <td>45</td>\n",
       "      <td>No</td>\n",
       "      <td>No phone service</td>\n",
       "      <td>DSL</td>\n",
       "      <td>Yes</td>\n",
       "      <td>No</td>\n",
       "      <td>Yes</td>\n",
       "      <td>Yes</td>\n",
       "      <td>No</td>\n",
       "      <td>No</td>\n",
       "      <td>One year</td>\n",
       "      <td>No</td>\n",
       "      <td>Bank transfer (automatic)</td>\n",
       "      <td>42.30</td>\n",
       "      <td>1840.75</td>\n",
       "      <td>No</td>\n",
       "    </tr>\n",
       "    <tr>\n",
       "      <th>4</th>\n",
       "      <td>9237-HQITU</td>\n",
       "      <td>Female</td>\n",
       "      <td>0</td>\n",
       "      <td>No</td>\n",
       "      <td>No</td>\n",
       "      <td>2</td>\n",
       "      <td>Yes</td>\n",
       "      <td>No</td>\n",
       "      <td>Fiber optic</td>\n",
       "      <td>No</td>\n",
       "      <td>No</td>\n",
       "      <td>No</td>\n",
       "      <td>No</td>\n",
       "      <td>No</td>\n",
       "      <td>No</td>\n",
       "      <td>Month-to-month</td>\n",
       "      <td>Yes</td>\n",
       "      <td>Electronic check</td>\n",
       "      <td>70.70</td>\n",
       "      <td>151.65</td>\n",
       "      <td>Yes</td>\n",
       "    </tr>\n",
       "  </tbody>\n",
       "</table>\n",
       "</div>"
      ],
      "text/plain": [
       "   customerID  gender  SeniorCitizen Partner Dependents  tenure PhoneService  \\\n",
       "0  7590-VHVEG  Female              0     Yes         No       1           No   \n",
       "1  5575-GNVDE    Male              0      No         No      34          Yes   \n",
       "2  3668-QPYBK    Male              0      No         No       2          Yes   \n",
       "3  7795-CFOCW    Male              0      No         No      45           No   \n",
       "4  9237-HQITU  Female              0      No         No       2          Yes   \n",
       "\n",
       "      MultipleLines InternetService OnlineSecurity OnlineBackup  \\\n",
       "0  No phone service             DSL             No          Yes   \n",
       "1                No             DSL            Yes           No   \n",
       "2                No             DSL            Yes          Yes   \n",
       "3  No phone service             DSL            Yes           No   \n",
       "4                No     Fiber optic             No           No   \n",
       "\n",
       "  DeviceProtection TechSupport StreamingTV StreamingMovies        Contract  \\\n",
       "0               No          No          No              No  Month-to-month   \n",
       "1              Yes          No          No              No        One year   \n",
       "2               No          No          No              No  Month-to-month   \n",
       "3              Yes         Yes          No              No        One year   \n",
       "4               No          No          No              No  Month-to-month   \n",
       "\n",
       "  PaperlessBilling              PaymentMethod  MonthlyCharges TotalCharges  \\\n",
       "0              Yes           Electronic check           29.85        29.85   \n",
       "1               No               Mailed check           56.95       1889.5   \n",
       "2              Yes               Mailed check           53.85       108.15   \n",
       "3               No  Bank transfer (automatic)           42.30      1840.75   \n",
       "4              Yes           Electronic check           70.70       151.65   \n",
       "\n",
       "  Churn  \n",
       "0    No  \n",
       "1    No  \n",
       "2   Yes  \n",
       "3    No  \n",
       "4   Yes  "
      ]
     },
     "metadata": {},
     "output_type": "display_data"
    }
   ],
   "source": [
    "display(data.info())\n",
    "display(data.head())"
   ]
  },
  {
   "cell_type": "markdown",
   "metadata": {},
   "source": [
    "### Clean data\n",
    "\n",
    "- Change dtypes\n",
    "- encode churn column (is our 'event')\n",
    "- check TotalCharges column, should be float"
   ]
  },
  {
   "cell_type": "code",
   "execution_count": 5,
   "metadata": {},
   "outputs": [],
   "source": [
    "# Create a list of categorical columns\n",
    "cat_cols= [i  for i in data.columns if data[i].dtype == object]\n",
    "cat_cols.remove('customerID')  ## customerID is unique for all the rows.\n",
    "\n",
    "# Replace empty strings in TotalCharges with NaN\n",
    "data['TotalCharges'].replace(' ', np.NaN, inplace=True)\n",
    "\n",
    "# Convert dtypes\n",
    "data = cleaning.change_dtypes(data, \n",
    "                              cols_to_category=cat_cols, \n",
    "                              cols_to_float=['TotalCharges'])"
   ]
  },
  {
   "cell_type": "code",
   "execution_count": 6,
   "metadata": {},
   "outputs": [
    {
     "name": "stdout",
     "output_type": "stream",
     "text": [
      "List of missing values per column:\n",
      "TotalCharges: 11 (0.16%)\n"
     ]
    }
   ],
   "source": [
    "# Check missing values\n",
    "cleaning.list_NaN(data)"
   ]
  },
  {
   "cell_type": "code",
   "execution_count": 7,
   "metadata": {},
   "outputs": [
    {
     "name": "stdout",
     "output_type": "stream",
     "text": [
      "No empty cells in DataFrame.\n"
     ]
    }
   ],
   "source": [
    "# Impute NaN with the median value\n",
    "data.TotalCharges.fillna(value=data['TotalCharges'].median(),inplace=True)\n",
    "\n",
    "# Check missing values\n",
    "cleaning.list_NaN(data)"
   ]
  },
  {
   "cell_type": "code",
   "execution_count": 8,
   "metadata": {},
   "outputs": [],
   "source": [
    "# Encode Churn\n",
    "data['Churn'] = data['Churn'].map({'Yes': 1, 'No': 0})"
   ]
  },
  {
   "cell_type": "code",
   "execution_count": 9,
   "metadata": {},
   "outputs": [],
   "source": [
    "# Save to disc\n",
    "data.to_csv('data/interim/telco_customer_churn.csv', index=False)"
   ]
  },
  {
   "cell_type": "markdown",
   "metadata": {},
   "source": [
    "### Create overall KaplanMeier curve\n",
    "\n",
    "(Note: If you don't have a tenure column but start and end dates, then there is a transform function in the lifelines package.)"
   ]
  },
  {
   "cell_type": "code",
   "execution_count": 10,
   "metadata": {},
   "outputs": [
    {
     "data": {
      "image/png": "[encoded data removed]",
      "text/plain": [
       "<Figure size 864x576 with 1 Axes>"
      ]
     },
     "metadata": {
      "needs_background": "light"
     },
     "output_type": "display_data"
    }
   ],
   "source": [
    "T = data['tenure']  # Time to event data of censored and event data\n",
    "E = data['Churn']  # It has the churned (1) and censored is (0)\n",
    "\n",
    "km = KaplanMeierFitter() \n",
    "km.fit(T, E, label='Kaplan Meier Estimate')\n",
    "km.plot(figsize=(12,8), c=color, ylim=(0,1));"
   ]
  },
  {
   "cell_type": "markdown",
   "metadata": {},
   "source": [
    "### Create Kaplan Meier Curves for Cohorts\n",
    "\n",
    "#### By contract type"
   ]
  },
  {
   "cell_type": "code",
   "execution_count": 11,
   "metadata": {},
   "outputs": [
    {
     "data": {
      "image/png": "[encoded data removed]",
      "text/plain": [
       "<Figure size 864x576 with 1 Axes>"
      ]
     },
     "metadata": {
      "needs_background": "light"
     },
     "output_type": "display_data"
    }
   ],
   "source": [
    "# Create 3 cohorts from the 'Contract' column - Note: there is also an option with pd.groupby\n",
    "groups = data['Contract']             \n",
    "ix1 = (groups == 'Month-to-month')   \n",
    "ix2 = (groups == 'Two year')         \n",
    "ix3 = (groups == 'One year')         \n",
    "\n",
    "\n",
    "# Fit the data for each cohort\n",
    "kmf.fit(T[ix1], E[ix1], label='Month-to-month')\n",
    "ax = kmf.plot(c=color, figsize=(12,8))\n",
    "kmf.fit(T[ix2], E[ix2], label='Two year')         \n",
    "ax1 = kmf.plot(ax=ax, c='yellow')\n",
    "kmf.fit(T[ix3], E[ix3], label='One year')        \n",
    "kmf.plot(ax=ax1, c='grey', ylim=(0,1));"
   ]
  },
  {
   "cell_type": "markdown",
   "metadata": {},
   "source": [
    "#### By subscription for streaming"
   ]
  },
  {
   "cell_type": "code",
   "execution_count": 12,
   "metadata": {},
   "outputs": [
    {
     "data": {
      "image/png": "[encoded data removed]",
      "text/plain": [
       "<Figure size 864x576 with 1 Axes>"
      ]
     },
     "metadata": {
      "needs_background": "light"
     },
     "output_type": "display_data"
    }
   ],
   "source": [
    "# Create 2 cohorts from the 'StreamingTV' column\n",
    "groups = data['StreamingTV']   \n",
    "i1 = (groups == 'No')     \n",
    "i2 = (groups == 'Yes')\n",
    "\n",
    "# Fit the data for each cohort\n",
    "kmf.fit(T[i1], E[i1], label='Not Subscribed StreamingTV')\n",
    "a1 = kmf.plot(c=color, figsize=(12,8))\n",
    "kmf.fit(T[i2], E[i2], label='Subscribed StreamingTV')\n",
    "kmf.plot(ax=a1, c='yellow', ylim=(0,1));"
   ]
  },
  {
   "cell_type": "markdown",
   "metadata": {},
   "source": [
    "---"
   ]
  },
  {
   "cell_type": "markdown",
   "metadata": {},
   "source": [
    "## 2) Deep dive: Cohort analysis and plot styling\n",
    "\n",
    "By number of lines\n",
    "\n",
    "### Cleaning and EDA"
   ]
  },
  {
   "cell_type": "code",
   "execution_count": 13,
   "metadata": {},
   "outputs": [
    {
     "data": {
      "text/plain": [
       "No                  3390\n",
       "Yes                 2971\n",
       "No phone service     682\n",
       "Name: MultipleLines, dtype: int64"
      ]
     },
     "execution_count": 13,
     "metadata": {},
     "output_type": "execute_result"
    }
   ],
   "source": [
    "# Check group variable\n",
    "data['MultipleLines'].value_counts()"
   ]
  },
  {
   "cell_type": "code",
   "execution_count": 14,
   "metadata": {},
   "outputs": [
    {
     "data": {
      "text/plain": [
       "No                  0.532935\n",
       "Yes                 0.467065\n",
       "No phone service    0.000000\n",
       "Name: MultipleLines, dtype: float64"
      ]
     },
     "execution_count": 14,
     "metadata": {},
     "output_type": "execute_result"
    }
   ],
   "source": [
    "# Drop 'No phone service'\n",
    "data = data.loc[data['MultipleLines'] != 'No phone service']\n",
    "\n",
    "# Check result\n",
    "data['MultipleLines'].value_counts() / len(data)"
   ]
  },
  {
   "cell_type": "code",
   "execution_count": 15,
   "metadata": {},
   "outputs": [],
   "source": [
    "# Recode group variable\n",
    "data[\"MultipleLines\"] = data['MultipleLines'].map({'Yes': 1, 'No': 0})"
   ]
  },
  {
   "cell_type": "code",
   "execution_count": 16,
   "metadata": {},
   "outputs": [
    {
     "data": {
      "text/plain": [
       "count    6361.000000\n",
       "mean       32.439082\n",
       "std        24.595120\n",
       "min         0.000000\n",
       "25%         9.000000\n",
       "50%        29.000000\n",
       "75%        56.000000\n",
       "max        72.000000\n",
       "Name: tenure, dtype: float64"
      ]
     },
     "execution_count": 16,
     "metadata": {},
     "output_type": "execute_result"
    }
   ],
   "source": [
    "# Look at tenure - Note: this is not time series data, \n",
    "# so we will assume all customers start at t = 0 and continue until t = tenure\n",
    "data['tenure'].describe()"
   ]
  },
  {
   "cell_type": "markdown",
   "metadata": {},
   "source": [
    "### Create Kaplan-Meier Curves\n",
    "... with hardcore plot styling ..."
   ]
  },
  {
   "cell_type": "code",
   "execution_count": 17,
   "metadata": {},
   "outputs": [],
   "source": [
    "kmf = KaplanMeierFitter()\n",
    "T = data['tenure'] #duration\n",
    "C = data[\"Churn\"] #censorship - 1 if death/churn is seen, 0 if censored"
   ]
  },
  {
   "cell_type": "code",
   "execution_count": 18,
   "metadata": {},
   "outputs": [
    {
     "data": {
      "image/png": "[encoded data removed]",
      "text/plain": [
       "<Figure size 864x432 with 1 Axes>"
      ]
     },
     "metadata": {},
     "output_type": "display_data"
    }
   ],
   "source": [
    "import matplotlib.patches as mpatches #for custom legends\n",
    "\n",
    "palette = [\"windows blue\", \"amber\"]\n",
    "sns.set_palette(sns.xkcd_palette(palette))\n",
    "sns.set_style('white')\n",
    "\n",
    "# SET UP PLOT\n",
    "ax = plt.subplot(111)\n",
    "plt.title('Kaplan-Meier Estimate of Driver Retention by Multiple Lines')\n",
    "sns.set_context(\"talk\")\n",
    "\n",
    "d={} # to store the models\n",
    "vlines = []\n",
    "i=0\n",
    "\n",
    "# PLOT FITTED GRAPH\n",
    "# loop through segmentation variable, plot on same axes\n",
    "for segment in data['MultipleLines'].unique(): \n",
    "    ix = data['MultipleLines'] == segment\n",
    "    d['kmf{}'.format(i+1)] = kmf.fit(T.loc[ix],C.loc[ix], label=segment)\n",
    "    ax = kmf.plot(ax=ax, figsize=(12,6))\n",
    "\n",
    "    ax.set_xlim([T.min(),T.max()])\n",
    "    ax.set_ylim([0.5,1])\n",
    "    \n",
    "    y_ = kmf.survival_function_[kmf.survival_function_.round(2) ==.75].dropna().index[0]\n",
    "    ymax_ = kmf.survival_function_[kmf.survival_function_.round(2) ==.75].dropna()[i][y_]\n",
    "    \n",
    "    vlines.append([y_, ymax_])\n",
    "    i+=1\n",
    "\n",
    "# PLOT ANNOTATION\n",
    "# For each intercept, plot a horizontal and a vertical line up to the fitted curve\n",
    "xmin_= 0\n",
    "for i, xy in enumerate(vlines):\n",
    "    xmax_ = xy[0]\n",
    "    color=\"xkcd:{}\".format(palette[i])\n",
    "    \n",
    "    plt.axvline(x=xy[0], ymax=.5, alpha=.8, color=color, linestyle='dotted') # axes fractional\n",
    "    plt.hlines(y=.75, xmin=xmin_, xmax=xmax_, alpha=.8, color=color, linestyle='dotted') # axes data coordinates\n",
    "    xmin_ += xmax_ # to avoid overlapping hlines\n",
    "\n",
    "# Position text label\n",
    "difference = vlines[1][0]-vlines[0][0]\n",
    "label_frac_x = (vlines[0][0]+(difference)/2)/T.max()-.07 #midpoint (minus .07 centering factor)\n",
    "label_frac_y = 0.2\n",
    "\n",
    "# Label first line\n",
    "ax.annotate('Difference:\\n{} Months'.format(difference), \n",
    "  xy=(vlines[0][0],.62), xycoords='data', color='white',\n",
    "  xytext=(label_frac_x,label_frac_y), textcoords='axes fraction',\n",
    "  arrowprops=dict(arrowstyle=\"-|>\", #arrows removed for reability\n",
    "                  fc=\"k\", ec=\"k\")\n",
    "           )\n",
    "\n",
    "# label second line    \n",
    "ax.annotate('Difference:\\n{} Months'.format(difference), \n",
    "      xy=(vlines[1][0],.62), xycoords='data', color='black',\n",
    "      xytext=(label_frac_x, label_frac_y), textcoords='axes fraction',\n",
    "      arrowprops=dict(arrowstyle=\"-|>\", #arrows removed for reability\n",
    "                      fc=\"k\", ec='k')\n",
    "           )\n",
    "\n",
    "# LEGEND\n",
    "# Override default legend\n",
    "patches = [ mpatches.Patch(color=\"xkcd:windows blue\", label='Has One Phoneline'),\n",
    "            mpatches.Patch(color=\"xkcd:amber\", label='Has Multiple Phonelines')\n",
    "          ]\n",
    "plt.legend(handles=[patches[0],patches[1]], title=\"User Segmentation\", loc='best');"
   ]
  },
  {
   "cell_type": "markdown",
   "metadata": {},
   "source": [
    "The graph clearly shows that there is a difference in tenure between \"single line\" and \"multiple line\" telco users. Since the confidence interals also appear on the graph, we can see that the difference is statistically significant from t > 0 until approximately t= 52 months, after which the churn rates becomes the same, within the margin of error."
   ]
  },
  {
   "cell_type": "markdown",
   "metadata": {},
   "source": [
    "### Get the hazard ratio - _I cannot really interpret this_\n",
    "\n",
    "Our survival curves do not follow the constant proportionality assumption (they cannot because they cross, and we can also see varying distances between the curves throughout). Conventionally, this would mean that a logrank test is not an appropriate measure for estimating the hazard ratio. This presentation by Stone (2015) makes a compelling argument that hazard ratios on nonproportionality are still readily interpretable. This has, however, been a source of controversy in the biostatistics field. Alternative methods such as time-splitting have been proposed, see: Bouliotis & Billingham (2011)"
   ]
  },
  {
   "cell_type": "code",
   "execution_count": 19,
   "metadata": {},
   "outputs": [
    {
     "data": {
      "text/html": [
       "<img src=\"https://wikimedia.org/api/rest_v1/media/math/render/svg/68750c8d50ac1d055b3ddcc67a05de43b40fdebf\"/>"
      ],
      "text/plain": [
       "<IPython.core.display.Image object>"
      ]
     },
     "execution_count": 19,
     "metadata": {},
     "output_type": "execute_result"
    }
   ],
   "source": [
    "# Image Credit: https://en.wikipedia.org/wiki/Log-rank_test\n",
    "Image(url= \"https://wikimedia.org/api/rest_v1/media/math/render/svg/68750c8d50ac1d055b3ddcc67a05de43b40fdebf\")"
   ]
  },
  {
   "cell_type": "code",
   "execution_count": 20,
   "metadata": {},
   "outputs": [
    {
     "name": "stdout",
     "output_type": "stream",
     "text": [
      "<lifelines.StatisticalResult>\n",
      "               t_0 = -1\n",
      " null_distribution = chi squared\n",
      "degrees_of_freedom = 1\n",
      "             alpha = 0.99\n",
      "\n",
      "---\n",
      " test_statistic      p  -log2(p)\n",
      "          31.26 <0.005     25.40\n"
     ]
    }
   ],
   "source": [
    "# Run logrank test\n",
    "multi = (data[\"MultipleLines\"] == 1)\n",
    "results = logrank_test(T[multi], T[~multi], C[multi], C[~multi], alpha=0.99 ) #at 99% confidence level\n",
    "results.print_summary()"
   ]
  },
  {
   "cell_type": "code",
   "execution_count": 21,
   "metadata": {},
   "outputs": [
    {
     "name": "stdout",
     "output_type": "stream",
     "text": [
      "4.558110268130183\n"
     ]
    }
   ],
   "source": [
    "Z = results.test_statistic\n",
    "D = C.sum() # number of events observed\n",
    "\n",
    "hazard_ratio = np.exp(Z*np.sqrt(4/D))\n",
    "print(hazard_ratio)"
   ]
  },
  {
   "cell_type": "markdown",
   "metadata": {},
   "source": [
    "According to this calculation the risk of churn is 4.5 times higher in users with only one phoneline compared to users with multiple lines."
   ]
  },
  {
   "cell_type": "markdown",
   "metadata": {},
   "source": [
    "---"
   ]
  }
 ],
 "metadata": {
  "kernelspec": {
   "display_name": "Python [conda env:Anaconda3]",
   "language": "python",
   "name": "conda-env-Anaconda3-py"
  },
  "language_info": {
   "codemirror_mode": {
    "name": "ipython",
    "version": 3
   },
   "file_extension": ".py",
   "mimetype": "text/x-python",
   "name": "python",
   "nbconvert_exporter": "python",
   "pygments_lexer": "ipython3",
   "version": "3.6.3"
  }
 },
 "nbformat": 4,
 "nbformat_minor": 2
}
