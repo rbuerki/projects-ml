{
 "cells": [
  {
   "cell_type": "markdown",
   "metadata": {},
   "source": [
    "# Freq / Rec Analysis & CLV Calculation in Non-Contractual Business\n",
    "\n",
    "This notebook is more or less following the quickstart docs of the [Lifetimes](https://github.com/CamDavidsonPilon/lifetimes) package developed by Cameron Davidson-Pilon, but using different data.\n",
    "\n",
    "## Content\n",
    "\n",
    "#### 1. Prepare Data\n",
    "- Assess Data, \n",
    "- Clean Data to bring it into the right format for the specific transformation\n",
    "- Transform with help of lifetimes\n",
    "\n",
    "#### 2. Basic Frequency / Recency Analysis Using the BG / NBD Model\n",
    "- Frequency / Recency Matrix\n",
    "- Probability Alive Matrix\n",
    "- Individual Customer Predictions (number of transactions in next period(s))\n",
    "- Customer History Plots (OPEN ISSUE, see [here](https://github.com/CamDavidsonPilon/lifetimes/issues/231))\n",
    "- Calculation P(Alive) for individual customers **_(conceptual ISSUE, documented)_**\n",
    "- Assess Model Fit\n",
    "- Fit Model with Holdout Set (Best practice, should better be done this way than the initial way)\n",
    "\n",
    "#### 3. Estimate customer lifetime value using the Gamma-Gamma model\n",
    "- Check independence assumption\n",
    "- Estimate CLV\n",
    "- Estimate average transactions"
   ]
  },
  {
   "cell_type": "markdown",
   "metadata": {},
   "source": [
    "---"
   ]
  },
  {
   "cell_type": "markdown",
   "metadata": {},
   "source": [
    "### Import libraries, load data"
   ]
  },
  {
   "cell_type": "code",
   "execution_count": 1,
   "metadata": {},
   "outputs": [],
   "source": [
    "# import libraries\n",
    "import numpy as np\n",
    "import pandas as pd\n",
    "import datetime as dt\n",
    "\n",
    "from lifetimes.plotting import *\n",
    "from lifetimes.utils import *\n",
    "from lifetimes.estimation import *\n",
    "\n",
    "\n",
    "from lifetimes import BetaGeoFitter\n",
    "\n",
    "# visualization\n",
    "import matplotlib.pyplot as plt\n",
    "import seaborn as sns\n",
    "sns.set(), sns.set_style('whitegrid')\n",
    "%matplotlib inline  \n",
    "\n",
    "# special settings for lifetime plots\n",
    "sns.set_palette(\"viridis\")\n",
    "sns.set(rc={'image.cmap': 'viridis'})\n",
    "\n",
    "import cleaning_functions as clean\n",
    "import EDA_functions as EDA\n",
    "\n",
    "# display of all columns in df - check if pd option below isn't better\n",
    "from IPython.display import display\n",
    "pd.options.display.max_columns = None"
   ]
  },
  {
   "cell_type": "code",
   "execution_count": 2,
   "metadata": {},
   "outputs": [],
   "source": [
    "# load data\n",
    "data = pd.read_excel(\"data/raw/OnlineRetail.xlsx\")"
   ]
  },
  {
   "cell_type": "markdown",
   "metadata": {},
   "source": [
    "## 1) Prepare Data\n",
    "\n",
    "### Assess Data"
   ]
  },
  {
   "cell_type": "code",
   "execution_count": 119,
   "metadata": {},
   "outputs": [
    {
     "data": {
      "text/html": [
       "<div>\n",
       "<style scoped>\n",
       "    .dataframe tbody tr th:only-of-type {\n",
       "        vertical-align: middle;\n",
       "    }\n",
       "\n",
       "    .dataframe tbody tr th {\n",
       "        vertical-align: top;\n",
       "    }\n",
       "\n",
       "    .dataframe thead th {\n",
       "        text-align: right;\n",
       "    }\n",
       "</style>\n",
       "<table border=\"1\" class=\"dataframe\">\n",
       "  <thead>\n",
       "    <tr style=\"text-align: right;\">\n",
       "      <th></th>\n",
       "      <th>InvoiceNo</th>\n",
       "      <th>StockCode</th>\n",
       "      <th>Description</th>\n",
       "      <th>Quantity</th>\n",
       "      <th>InvoiceDate</th>\n",
       "      <th>UnitPrice</th>\n",
       "      <th>CustomerID</th>\n",
       "      <th>Country</th>\n",
       "    </tr>\n",
       "  </thead>\n",
       "  <tbody>\n",
       "    <tr>\n",
       "      <th>0</th>\n",
       "      <td>536365</td>\n",
       "      <td>85123A</td>\n",
       "      <td>WHITE HANGING HEART T-LIGHT HOLDER</td>\n",
       "      <td>6</td>\n",
       "      <td>2010-12-01 08:26:00</td>\n",
       "      <td>2.55</td>\n",
       "      <td>17850.0</td>\n",
       "      <td>United Kingdom</td>\n",
       "    </tr>\n",
       "    <tr>\n",
       "      <th>1</th>\n",
       "      <td>536365</td>\n",
       "      <td>71053</td>\n",
       "      <td>WHITE METAL LANTERN</td>\n",
       "      <td>6</td>\n",
       "      <td>2010-12-01 08:26:00</td>\n",
       "      <td>3.39</td>\n",
       "      <td>17850.0</td>\n",
       "      <td>United Kingdom</td>\n",
       "    </tr>\n",
       "    <tr>\n",
       "      <th>2</th>\n",
       "      <td>536365</td>\n",
       "      <td>84406B</td>\n",
       "      <td>CREAM CUPID HEARTS COAT HANGER</td>\n",
       "      <td>8</td>\n",
       "      <td>2010-12-01 08:26:00</td>\n",
       "      <td>2.75</td>\n",
       "      <td>17850.0</td>\n",
       "      <td>United Kingdom</td>\n",
       "    </tr>\n",
       "    <tr>\n",
       "      <th>3</th>\n",
       "      <td>536365</td>\n",
       "      <td>84029G</td>\n",
       "      <td>KNITTED UNION FLAG HOT WATER BOTTLE</td>\n",
       "      <td>6</td>\n",
       "      <td>2010-12-01 08:26:00</td>\n",
       "      <td>3.39</td>\n",
       "      <td>17850.0</td>\n",
       "      <td>United Kingdom</td>\n",
       "    </tr>\n",
       "    <tr>\n",
       "      <th>4</th>\n",
       "      <td>536365</td>\n",
       "      <td>84029E</td>\n",
       "      <td>RED WOOLLY HOTTIE WHITE HEART.</td>\n",
       "      <td>6</td>\n",
       "      <td>2010-12-01 08:26:00</td>\n",
       "      <td>3.39</td>\n",
       "      <td>17850.0</td>\n",
       "      <td>United Kingdom</td>\n",
       "    </tr>\n",
       "  </tbody>\n",
       "</table>\n",
       "</div>"
      ],
      "text/plain": [
       "  InvoiceNo StockCode                          Description  Quantity  \\\n",
       "0    536365    85123A   WHITE HANGING HEART T-LIGHT HOLDER         6   \n",
       "1    536365     71053                  WHITE METAL LANTERN         6   \n",
       "2    536365    84406B       CREAM CUPID HEARTS COAT HANGER         8   \n",
       "3    536365    84029G  KNITTED UNION FLAG HOT WATER BOTTLE         6   \n",
       "4    536365    84029E       RED WOOLLY HOTTIE WHITE HEART.         6   \n",
       "\n",
       "          InvoiceDate  UnitPrice  CustomerID         Country  \n",
       "0 2010-12-01 08:26:00       2.55     17850.0  United Kingdom  \n",
       "1 2010-12-01 08:26:00       3.39     17850.0  United Kingdom  \n",
       "2 2010-12-01 08:26:00       2.75     17850.0  United Kingdom  \n",
       "3 2010-12-01 08:26:00       3.39     17850.0  United Kingdom  \n",
       "4 2010-12-01 08:26:00       3.39     17850.0  United Kingdom  "
      ]
     },
     "execution_count": 119,
     "metadata": {},
     "output_type": "execute_result"
    }
   ],
   "source": [
    "data.head()"
   ]
  },
  {
   "cell_type": "code",
   "execution_count": 120,
   "metadata": {},
   "outputs": [
    {
     "name": "stdout",
     "output_type": "stream",
     "text": [
      "<class 'pandas.core.frame.DataFrame'>\n",
      "RangeIndex: 541909 entries, 0 to 541908\n",
      "Data columns (total 8 columns):\n",
      "InvoiceNo      541909 non-null object\n",
      "StockCode      541909 non-null object\n",
      "Description    540455 non-null object\n",
      "Quantity       541909 non-null int64\n",
      "InvoiceDate    541909 non-null datetime64[ns]\n",
      "UnitPrice      541909 non-null float64\n",
      "CustomerID     406829 non-null float64\n",
      "Country        541909 non-null object\n",
      "dtypes: datetime64[ns](1), float64(2), int64(1), object(4)\n",
      "memory usage: 33.1+ MB\n"
     ]
    }
   ],
   "source": [
    "data.info()"
   ]
  },
  {
   "cell_type": "code",
   "execution_count": 121,
   "metadata": {},
   "outputs": [],
   "source": [
    "# change dtype for customerID to object\n",
    "clv_data = clean.change_dtypes(data.copy(), cols_to_object=['CustomerID'])\n",
    "\n",
    "# normalize InvoiceDate to dates (remove time)\n",
    "clv_data['InvoiceDate'] = clv_data['InvoiceDate'].dt.date"
   ]
  },
  {
   "cell_type": "code",
   "execution_count": 122,
   "metadata": {},
   "outputs": [
    {
     "data": {
      "image/png": "[encoded data removed]",
      "text/plain": [
       "<Figure size 576x288 with 2 Axes>"
      ]
     },
     "metadata": {
      "needs_background": "light"
     },
     "output_type": "display_data"
    }
   ],
   "source": [
    "# check distribution of numerical data\n",
    "EDA.plot_num_hist(clv_data, figsize=(8,4))"
   ]
  },
  {
   "cell_type": "code",
   "execution_count": 123,
   "metadata": {},
   "outputs": [
    {
     "data": {
      "text/html": [
       "<div>\n",
       "<style scoped>\n",
       "    .dataframe tbody tr th:only-of-type {\n",
       "        vertical-align: middle;\n",
       "    }\n",
       "\n",
       "    .dataframe tbody tr th {\n",
       "        vertical-align: top;\n",
       "    }\n",
       "\n",
       "    .dataframe thead th {\n",
       "        text-align: right;\n",
       "    }\n",
       "</style>\n",
       "<table border=\"1\" class=\"dataframe\">\n",
       "  <thead>\n",
       "    <tr style=\"text-align: right;\">\n",
       "      <th></th>\n",
       "      <th>Quantity</th>\n",
       "      <th>UnitPrice</th>\n",
       "    </tr>\n",
       "  </thead>\n",
       "  <tbody>\n",
       "    <tr>\n",
       "      <th>count</th>\n",
       "      <td>541909.000000</td>\n",
       "      <td>541909.000000</td>\n",
       "    </tr>\n",
       "    <tr>\n",
       "      <th>mean</th>\n",
       "      <td>9.552250</td>\n",
       "      <td>4.611114</td>\n",
       "    </tr>\n",
       "    <tr>\n",
       "      <th>std</th>\n",
       "      <td>218.081158</td>\n",
       "      <td>96.759853</td>\n",
       "    </tr>\n",
       "    <tr>\n",
       "      <th>min</th>\n",
       "      <td>-80995.000000</td>\n",
       "      <td>-11062.060000</td>\n",
       "    </tr>\n",
       "    <tr>\n",
       "      <th>25%</th>\n",
       "      <td>1.000000</td>\n",
       "      <td>1.250000</td>\n",
       "    </tr>\n",
       "    <tr>\n",
       "      <th>50%</th>\n",
       "      <td>3.000000</td>\n",
       "      <td>2.080000</td>\n",
       "    </tr>\n",
       "    <tr>\n",
       "      <th>75%</th>\n",
       "      <td>10.000000</td>\n",
       "      <td>4.130000</td>\n",
       "    </tr>\n",
       "    <tr>\n",
       "      <th>max</th>\n",
       "      <td>80995.000000</td>\n",
       "      <td>38970.000000</td>\n",
       "    </tr>\n",
       "  </tbody>\n",
       "</table>\n",
       "</div>"
      ],
      "text/plain": [
       "            Quantity      UnitPrice\n",
       "count  541909.000000  541909.000000\n",
       "mean        9.552250       4.611114\n",
       "std       218.081158      96.759853\n",
       "min    -80995.000000  -11062.060000\n",
       "25%         1.000000       1.250000\n",
       "50%         3.000000       2.080000\n",
       "75%        10.000000       4.130000\n",
       "max     80995.000000   38970.000000"
      ]
     },
     "execution_count": 123,
     "metadata": {},
     "output_type": "execute_result"
    }
   ],
   "source": [
    "# check characteristics of numeric data\n",
    "clv_data.describe()"
   ]
  },
  {
   "cell_type": "code",
   "execution_count": 124,
   "metadata": {},
   "outputs": [
    {
     "name": "stdout",
     "output_type": "stream",
     "text": [
      "neg Quantities:  10624\n",
      "neg unitPrices:  2517\n"
     ]
    }
   ],
   "source": [
    "print(\"neg Quantities: \", len(clv_data.loc[clv_data['Quantity'] <= 0]))\n",
    "print(\"neg unitPrices: \", len(clv_data.loc[clv_data['UnitPrice'] <= 0]))"
   ]
  },
  {
   "cell_type": "code",
   "execution_count": 125,
   "metadata": {},
   "outputs": [
    {
     "data": {
      "text/html": [
       "<div>\n",
       "<style scoped>\n",
       "    .dataframe tbody tr th:only-of-type {\n",
       "        vertical-align: middle;\n",
       "    }\n",
       "\n",
       "    .dataframe tbody tr th {\n",
       "        vertical-align: top;\n",
       "    }\n",
       "\n",
       "    .dataframe thead th {\n",
       "        text-align: right;\n",
       "    }\n",
       "</style>\n",
       "<table border=\"1\" class=\"dataframe\">\n",
       "  <thead>\n",
       "    <tr style=\"text-align: right;\">\n",
       "      <th></th>\n",
       "      <th>InvoiceNo</th>\n",
       "      <th>StockCode</th>\n",
       "      <th>Description</th>\n",
       "      <th>InvoiceDate</th>\n",
       "      <th>CustomerID</th>\n",
       "      <th>Country</th>\n",
       "    </tr>\n",
       "  </thead>\n",
       "  <tbody>\n",
       "    <tr>\n",
       "      <th>count</th>\n",
       "      <td>541909</td>\n",
       "      <td>541909</td>\n",
       "      <td>540455</td>\n",
       "      <td>541909</td>\n",
       "      <td>541909</td>\n",
       "      <td>541909</td>\n",
       "    </tr>\n",
       "    <tr>\n",
       "      <th>unique</th>\n",
       "      <td>25900</td>\n",
       "      <td>4070</td>\n",
       "      <td>4223</td>\n",
       "      <td>305</td>\n",
       "      <td>4373</td>\n",
       "      <td>38</td>\n",
       "    </tr>\n",
       "    <tr>\n",
       "      <th>top</th>\n",
       "      <td>573585</td>\n",
       "      <td>85123A</td>\n",
       "      <td>WHITE HANGING HEART T-LIGHT HOLDER</td>\n",
       "      <td>2011-12-05</td>\n",
       "      <td>nan</td>\n",
       "      <td>United Kingdom</td>\n",
       "    </tr>\n",
       "    <tr>\n",
       "      <th>freq</th>\n",
       "      <td>1114</td>\n",
       "      <td>2313</td>\n",
       "      <td>2369</td>\n",
       "      <td>5331</td>\n",
       "      <td>135080</td>\n",
       "      <td>495478</td>\n",
       "    </tr>\n",
       "  </tbody>\n",
       "</table>\n",
       "</div>"
      ],
      "text/plain": [
       "        InvoiceNo StockCode                         Description InvoiceDate  \\\n",
       "count      541909    541909                              540455      541909   \n",
       "unique      25900      4070                                4223         305   \n",
       "top        573585    85123A  WHITE HANGING HEART T-LIGHT HOLDER  2011-12-05   \n",
       "freq         1114      2313                                2369        5331   \n",
       "\n",
       "       CustomerID         Country  \n",
       "count      541909          541909  \n",
       "unique       4373              38  \n",
       "top           nan  United Kingdom  \n",
       "freq       135080          495478  "
      ]
     },
     "execution_count": 125,
     "metadata": {},
     "output_type": "execute_result"
    }
   ],
   "source": [
    "# check characteristics of object data\n",
    "clv_data.describe(include = 'object')"
   ]
  },
  {
   "cell_type": "markdown",
   "metadata": {},
   "source": [
    "**Note:** For Lifetimes we need an Input Dataframe of transaction data of the form: \n",
    "- customer_id\n",
    "- datetime \n",
    "- [monetary_value] (optional, needed for clv estimations only)\n",
    "\n",
    "\n",
    "\n",
    "**Need for cleaning:**\n",
    "- drop orders with quantities <= 0\n",
    "- drop orders with unit_price <= 0\n",
    "- drop orders with missing customer ID\n",
    "- add new column sales (quant * price)\n",
    "- change ID to dtype str\n",
    "- drop cols we won't need no more: InvoiceNo, Description, Country, StockCode, Quantity, Price"
   ]
  },
  {
   "cell_type": "markdown",
   "metadata": {},
   "source": [
    "### Clean & Transform Data"
   ]
  },
  {
   "cell_type": "code",
   "execution_count": 126,
   "metadata": {},
   "outputs": [],
   "source": [
    "\"\"\"clean according to list\"\"\"\n",
    "\n",
    "clv_data = clv_data.loc[clv_data['CustomerID'] != 'nan']\n",
    "clv_data = clv_data.loc[clv_data['Quantity'] > 0]\n",
    "clv_data = clv_data.loc[clv_data['UnitPrice'] > 0]\n",
    "clv_data['CustomerID'] = clv_data['CustomerID'].astype(str).str.split('.').str.get(0)\n",
    "clv_data['Sales'] = clv_data['Quantity'] * clv_data['UnitPrice']\n",
    "clv_data.drop(['InvoiceNo', 'StockCode', 'Quantity', 'UnitPrice', \n",
    "    'Description', 'Country'], inplace=True, axis=1)\n",
    "\n",
    "assert clv_data.isnull().sum().sum() == 0, \"NaN in the Set\""
   ]
  },
  {
   "cell_type": "code",
   "execution_count": 127,
   "metadata": {},
   "outputs": [
    {
     "name": "stdout",
     "output_type": "stream",
     "text": [
      "(397884, 3)\n"
     ]
    },
    {
     "data": {
      "text/html": [
       "<div>\n",
       "<style scoped>\n",
       "    .dataframe tbody tr th:only-of-type {\n",
       "        vertical-align: middle;\n",
       "    }\n",
       "\n",
       "    .dataframe tbody tr th {\n",
       "        vertical-align: top;\n",
       "    }\n",
       "\n",
       "    .dataframe thead th {\n",
       "        text-align: right;\n",
       "    }\n",
       "</style>\n",
       "<table border=\"1\" class=\"dataframe\">\n",
       "  <thead>\n",
       "    <tr style=\"text-align: right;\">\n",
       "      <th></th>\n",
       "      <th>InvoiceDate</th>\n",
       "      <th>CustomerID</th>\n",
       "      <th>Sales</th>\n",
       "    </tr>\n",
       "  </thead>\n",
       "  <tbody>\n",
       "    <tr>\n",
       "      <th>0</th>\n",
       "      <td>2010-12-01</td>\n",
       "      <td>17850</td>\n",
       "      <td>15.30</td>\n",
       "    </tr>\n",
       "    <tr>\n",
       "      <th>1</th>\n",
       "      <td>2010-12-01</td>\n",
       "      <td>17850</td>\n",
       "      <td>20.34</td>\n",
       "    </tr>\n",
       "    <tr>\n",
       "      <th>2</th>\n",
       "      <td>2010-12-01</td>\n",
       "      <td>17850</td>\n",
       "      <td>22.00</td>\n",
       "    </tr>\n",
       "    <tr>\n",
       "      <th>3</th>\n",
       "      <td>2010-12-01</td>\n",
       "      <td>17850</td>\n",
       "      <td>20.34</td>\n",
       "    </tr>\n",
       "    <tr>\n",
       "      <th>4</th>\n",
       "      <td>2010-12-01</td>\n",
       "      <td>17850</td>\n",
       "      <td>20.34</td>\n",
       "    </tr>\n",
       "  </tbody>\n",
       "</table>\n",
       "</div>"
      ],
      "text/plain": [
       "  InvoiceDate CustomerID  Sales\n",
       "0  2010-12-01      17850  15.30\n",
       "1  2010-12-01      17850  20.34\n",
       "2  2010-12-01      17850  22.00\n",
       "3  2010-12-01      17850  20.34\n",
       "4  2010-12-01      17850  20.34"
      ]
     },
     "metadata": {},
     "output_type": "display_data"
    }
   ],
   "source": [
    "# check results\n",
    "print(clv_data.shape)\n",
    "display(clv_data.head())"
   ]
  },
  {
   "cell_type": "code",
   "execution_count": 128,
   "metadata": {},
   "outputs": [
    {
     "name": "stdout",
     "output_type": "stream",
     "text": [
      "(4338, 4)\n"
     ]
    },
    {
     "data": {
      "text/html": [
       "<div>\n",
       "<style scoped>\n",
       "    .dataframe tbody tr th:only-of-type {\n",
       "        vertical-align: middle;\n",
       "    }\n",
       "\n",
       "    .dataframe tbody tr th {\n",
       "        vertical-align: top;\n",
       "    }\n",
       "\n",
       "    .dataframe thead th {\n",
       "        text-align: right;\n",
       "    }\n",
       "</style>\n",
       "<table border=\"1\" class=\"dataframe\">\n",
       "  <thead>\n",
       "    <tr style=\"text-align: right;\">\n",
       "      <th></th>\n",
       "      <th>frequency</th>\n",
       "      <th>recency</th>\n",
       "      <th>T</th>\n",
       "      <th>monetary_value</th>\n",
       "    </tr>\n",
       "    <tr>\n",
       "      <th>CustomerID</th>\n",
       "      <th></th>\n",
       "      <th></th>\n",
       "      <th></th>\n",
       "      <th></th>\n",
       "    </tr>\n",
       "  </thead>\n",
       "  <tbody>\n",
       "    <tr>\n",
       "      <th>12346</th>\n",
       "      <td>0.0</td>\n",
       "      <td>0.0</td>\n",
       "      <td>325.0</td>\n",
       "      <td>0.000000</td>\n",
       "    </tr>\n",
       "    <tr>\n",
       "      <th>12347</th>\n",
       "      <td>6.0</td>\n",
       "      <td>365.0</td>\n",
       "      <td>367.0</td>\n",
       "      <td>599.701667</td>\n",
       "    </tr>\n",
       "    <tr>\n",
       "      <th>12348</th>\n",
       "      <td>3.0</td>\n",
       "      <td>283.0</td>\n",
       "      <td>358.0</td>\n",
       "      <td>301.480000</td>\n",
       "    </tr>\n",
       "    <tr>\n",
       "      <th>12349</th>\n",
       "      <td>0.0</td>\n",
       "      <td>0.0</td>\n",
       "      <td>18.0</td>\n",
       "      <td>0.000000</td>\n",
       "    </tr>\n",
       "    <tr>\n",
       "      <th>12350</th>\n",
       "      <td>0.0</td>\n",
       "      <td>0.0</td>\n",
       "      <td>310.0</td>\n",
       "      <td>0.000000</td>\n",
       "    </tr>\n",
       "  </tbody>\n",
       "</table>\n",
       "</div>"
      ],
      "text/plain": [
       "            frequency  recency      T  monetary_value\n",
       "CustomerID                                           \n",
       "12346             0.0      0.0  325.0        0.000000\n",
       "12347             6.0    365.0  367.0      599.701667\n",
       "12348             3.0    283.0  358.0      301.480000\n",
       "12349             0.0      0.0   18.0        0.000000\n",
       "12350             0.0      0.0  310.0        0.000000"
      ]
     },
     "execution_count": 128,
     "metadata": {},
     "output_type": "execute_result"
    }
   ],
   "source": [
    "\"\"\"transform dataframe\"\"\"\n",
    "\n",
    "clv = summary_data_from_transaction_data(clv_data, 'CustomerID', 'InvoiceDate', monetary_value_col='Sales')\n",
    "# check results\n",
    "print(clv.shape)\n",
    "clv.head()"
   ]
  },
  {
   "cell_type": "markdown",
   "metadata": {},
   "source": [
    "**Nomenclature for the CLV model:**\n",
    "\n",
    "- _Frequency_: represents the number of repeat purchases the customer has made. This means that it’s one less than the total number of purchases. (Thus if they have made only 1 purchase, the recency is 0.)\n",
    "- _T_: represents the age of the customer in whatever time units chosen (daily, in our dataset). This is equal to the duration between a customer’s first purchase and the end of the period under study.\n",
    "- _Recency_: represents the age of the customer when they made their most recent purchases. This is equal to the duration between a customer’s first purchase and their latest purchase. (Thus if they have made only 1 purchase, the recency is 0.)"
   ]
  },
  {
   "cell_type": "code",
   "execution_count": 129,
   "metadata": {},
   "outputs": [
    {
     "data": {
      "image/png": "[encoded data removed]",
      "text/plain": [
       "<Figure size 1152x576 with 4 Axes>"
      ]
     },
     "metadata": {
      "needs_background": "light"
     },
     "output_type": "display_data"
    }
   ],
   "source": [
    "\"\"\"assess data\"\"\"\n",
    "\n",
    "EDA.plot_num_hist(clv, figsize=(16,8))"
   ]
  },
  {
   "cell_type": "code",
   "execution_count": 130,
   "metadata": {},
   "outputs": [
    {
     "name": "stdout",
     "output_type": "stream",
     "text": [
      "prop of customers without repeat purchase:  0.357\n"
     ]
    }
   ],
   "source": [
    "print(\"prop of customers without repeat purchase: \", round(clv['frequency'].value_counts()[0]/len(clv),3))"
   ]
  },
  {
   "cell_type": "markdown",
   "metadata": {},
   "source": [
    "## 2. Basic Frequency / Recency Analysis Using the BG / NBD Model"
   ]
  },
  {
   "cell_type": "code",
   "execution_count": 131,
   "metadata": {},
   "outputs": [
    {
     "name": "stdout",
     "output_type": "stream",
     "text": [
      "<lifetimes.BetaGeoFitter: fitted with 4338 subjects, a: 0.00, alpha: 68.96, b: 1.83, r: 0.83>\n"
     ]
    }
   ],
   "source": [
    "\"\"\"fit BG model\"\"\" # note: similar API to scikit-learn and lifelines.\n",
    "\n",
    "bgf = BetaGeoFitter(penalizer_coef=0.0)\n",
    "bgf.fit(clv['frequency'], clv['recency'], clv['T'])\n",
    "print(bgf)"
   ]
  },
  {
   "cell_type": "code",
   "execution_count": 132,
   "metadata": {},
   "outputs": [
    {
     "data": {
      "image/png": "[encoded data removed]",
      "text/plain": [
       "<Figure size 864x576 with 2 Axes>"
      ]
     },
     "metadata": {
      "needs_background": "light"
     },
     "output_type": "display_data"
    }
   ],
   "source": [
    "# plot frequency_recency_matrix\n",
    "fig = plt.figure(figsize=(12,8))\n",
    "plot_frequency_recency_matrix(bgf);"
   ]
  },
  {
   "cell_type": "markdown",
   "metadata": {},
   "source": [
    "**Explanation:** Consider a customer bought from you every day for three weeks straight, and we haven’t heard from them in months. What are the chances they are still “alive”? Pretty small. On the other hand, a customer who historically buys from you once a quarter, and bought last quarter, is likely still alive. We can visualize this relationship using the Frequency/Recency matrix, which computes the expected number of transactions a artificial customer is to make in the next time period, given his or her recency (age at last purchase) and frequency (the number of repeat transactions he or she has made).\n",
    "\n",
    "- Our best customer is one that has made 250 purchases, and his latest purchase was when he was approximately 350 days old (bottom-right). Customers who have purchased a lot and purchased recently will likely be the best customers in the future. \n",
    "- Customers who have purchased a lot in the past but we have not heard them for long are the 'coldest', they have probably churned away (top-right corner).\n",
    "- There’s also that beautiful “tail” around (40, 300). That represents the customer who buys infrequently, but we’ve seen him or her recently, so they might buy again - we’re not sure if they are dead or just between purchases."
   ]
  },
  {
   "cell_type": "code",
   "execution_count": 133,
   "metadata": {},
   "outputs": [
    {
     "data": {
      "image/png": "[encoded data removed]",
      "text/plain": [
       "<Figure size 864x576 with 2 Axes>"
      ]
     },
     "metadata": {
      "needs_background": "light"
     },
     "output_type": "display_data"
    }
   ],
   "source": [
    "# plot probability_alive_matrix\n",
    "fig = plt.figure(figsize=(12,8))\n",
    "plot_probability_alive_matrix(bgf);"
   ]
  },
  {
   "cell_type": "markdown",
   "metadata": {},
   "source": [
    "(**Technical Details:** The plot_probability_alive_matrix function computes P(alive) for all theoretical combinations of recency and frequency up to the maxima in your datasets given the parameters computed during the fit step. It assumes customer age, T to be equal to the maximum age of customers in your dataset.)"
   ]
  },
  {
   "cell_type": "markdown",
   "metadata": {},
   "source": [
    "### Ranking customers from best to worst\n",
    "\n",
    "Let’s rank our customers them from “highest expected purchases in the next period” to lowest. Models expose a method that will predict a customer’s expected purchases in the next period using their history."
   ]
  },
  {
   "cell_type": "code",
   "execution_count": 135,
   "metadata": {},
   "outputs": [
    {
     "data": {
      "text/html": [
       "<div>\n",
       "<style scoped>\n",
       "    .dataframe tbody tr th:only-of-type {\n",
       "        vertical-align: middle;\n",
       "    }\n",
       "\n",
       "    .dataframe tbody tr th {\n",
       "        vertical-align: top;\n",
       "    }\n",
       "\n",
       "    .dataframe thead th {\n",
       "        text-align: right;\n",
       "    }\n",
       "</style>\n",
       "<table border=\"1\" class=\"dataframe\">\n",
       "  <thead>\n",
       "    <tr style=\"text-align: right;\">\n",
       "      <th></th>\n",
       "      <th>frequency</th>\n",
       "      <th>recency</th>\n",
       "      <th>T</th>\n",
       "      <th>monetary_value</th>\n",
       "      <th>probability_alive</th>\n",
       "      <th>predicted_purchases</th>\n",
       "    </tr>\n",
       "    <tr>\n",
       "      <th>CustomerID</th>\n",
       "      <th></th>\n",
       "      <th></th>\n",
       "      <th></th>\n",
       "      <th></th>\n",
       "      <th></th>\n",
       "      <th></th>\n",
       "    </tr>\n",
       "  </thead>\n",
       "  <tbody>\n",
       "    <tr>\n",
       "      <th>14606</th>\n",
       "      <td>88.0</td>\n",
       "      <td>372.0</td>\n",
       "      <td>373.0</td>\n",
       "      <td>135.890114</td>\n",
       "      <td>0.999985</td>\n",
       "      <td>0.200980</td>\n",
       "    </tr>\n",
       "    <tr>\n",
       "      <th>15311</th>\n",
       "      <td>89.0</td>\n",
       "      <td>373.0</td>\n",
       "      <td>373.0</td>\n",
       "      <td>677.729438</td>\n",
       "      <td>0.999988</td>\n",
       "      <td>0.203244</td>\n",
       "    </tr>\n",
       "    <tr>\n",
       "      <th>17841</th>\n",
       "      <td>111.0</td>\n",
       "      <td>372.0</td>\n",
       "      <td>373.0</td>\n",
       "      <td>364.452162</td>\n",
       "      <td>0.999988</td>\n",
       "      <td>0.253021</td>\n",
       "    </tr>\n",
       "    <tr>\n",
       "      <th>12748</th>\n",
       "      <td>112.0</td>\n",
       "      <td>373.0</td>\n",
       "      <td>373.0</td>\n",
       "      <td>301.024821</td>\n",
       "      <td>0.999991</td>\n",
       "      <td>0.255284</td>\n",
       "    </tr>\n",
       "    <tr>\n",
       "      <th>14911</th>\n",
       "      <td>131.0</td>\n",
       "      <td>372.0</td>\n",
       "      <td>373.0</td>\n",
       "      <td>1093.661679</td>\n",
       "      <td>0.999989</td>\n",
       "      <td>0.298274</td>\n",
       "    </tr>\n",
       "  </tbody>\n",
       "</table>\n",
       "</div>"
      ],
      "text/plain": [
       "            frequency  recency      T  monetary_value  probability_alive  \\\n",
       "CustomerID                                                                 \n",
       "14606            88.0    372.0  373.0      135.890114           0.999985   \n",
       "15311            89.0    373.0  373.0      677.729438           0.999988   \n",
       "17841           111.0    372.0  373.0      364.452162           0.999988   \n",
       "12748           112.0    373.0  373.0      301.024821           0.999991   \n",
       "14911           131.0    372.0  373.0     1093.661679           0.999989   \n",
       "\n",
       "            predicted_purchases  \n",
       "CustomerID                       \n",
       "14606                  0.200980  \n",
       "15311                  0.203244  \n",
       "17841                  0.253021  \n",
       "12748                  0.255284  \n",
       "14911                  0.298274  "
      ]
     },
     "execution_count": 135,
     "metadata": {},
     "output_type": "execute_result"
    }
   ],
   "source": [
    "t = 1  # setting number of periods for prediction\n",
    "clv['predicted_purchases'] = bgf.conditional_expected_number_of_purchases_up_to_time(t, \n",
    "    clv['frequency'], clv['recency'], clv['T'])\n",
    "\n",
    "#check results\n",
    "clv.sort_values(by='predicted_purchases').tail(5)"
   ]
  },
  {
   "cell_type": "markdown",
   "metadata": {},
   "source": [
    "### Individual Customer Predictions\n",
    "Based on customer history, we can predict what an individuals future purchases might look like."
   ]
  },
  {
   "cell_type": "code",
   "execution_count": 78,
   "metadata": {},
   "outputs": [
    {
     "data": {
      "text/plain": [
       "0.15656764985792032"
      ]
     },
     "execution_count": 78,
     "metadata": {},
     "output_type": "execute_result"
    }
   ],
   "source": [
    "t = 10 # predict purchases in 10 periods\n",
    "individual = clv.loc['12347']\n",
    "# The below function is an alias to `bfg.conditional_expected_number_of_purchases_up_to_time`\n",
    "bgf.predict(t, individual['frequency'], individual['recency'], individual['T'])"
   ]
  },
  {
   "cell_type": "markdown",
   "metadata": {},
   "source": [
    "### Individual Customer Probability Histories\n",
    "\n",
    "Given a customer transaction history, we can calculate their historical probability of being alive, according to our trained model."
   ]
  },
  {
   "cell_type": "code",
   "execution_count": 89,
   "metadata": {},
   "outputs": [
    {
     "data": {
      "image/png": "[encoded data removed]",
      "text/plain": [
       "<Figure size 864x576 with 1 Axes>"
      ]
     },
     "metadata": {
      "needs_background": "light"
     },
     "output_type": "display_data"
    }
   ],
   "source": [
    "fig = plt.figure(figsize=(12,8))\n",
    "id = '14606'\n",
    "days_since_birth = 365\n",
    "sp_trans = clv_data.loc[clv_data['CustomerID'] == id]\n",
    "plot_history_alive(bgf, days_since_birth, sp_trans, 'InvoiceDate');"
   ]
  },
  {
   "cell_type": "code",
   "execution_count": 88,
   "metadata": {},
   "outputs": [
    {
     "data": {
      "image/png": "[encoded data removed]",
      "text/plain": [
       "<Figure size 864x576 with 1 Axes>"
      ]
     },
     "metadata": {
      "needs_background": "light"
     },
     "output_type": "display_data"
    }
   ],
   "source": [
    "fig = plt.figure(figsize=(12,8))\n",
    "id = '14729'\n",
    "days_since_birth = 365\n",
    "sp_trans = clv_data.loc[clv_data['CustomerID'] == id]\n",
    "plot_history_alive(bgf, days_since_birth, sp_trans, 'InvoiceDate');"
   ]
  },
  {
   "cell_type": "markdown",
   "metadata": {},
   "source": [
    "### _Issue: Calculating P(alive) - unsolved_\n",
    "\n",
    "If we calculate P(alive) with the bgf model, the probability score defaults to 1 for users that have no frequency (one-time purchasers). The Bruce Hardie paper that can be found in the `resources` states: _\"We note that P(alive) = 1 for a customer who made no purchases in the interval (0, T]; this follows from the model’s assumptions that death occurs after a purchase and that customers are alive at the beginning of the observation period._\n",
    "\n",
    "class BetaGeoFitter(). This model has the following assumptions:\n",
    "1. Each individual, `i`, has a hidden `lambda_i` and `p_i` parameter\n",
    "2. These come from a population wide Gamma and a Beta distribution respectively.\n",
    "3. Individuals purchases follow a Poisson process with rate `lambda_i*t` .\n",
    "4. After each purchase, an individual has a p_i probability of dieing (never buying again)."
   ]
  },
  {
   "cell_type": "code",
   "execution_count": 150,
   "metadata": {},
   "outputs": [
    {
     "name": "stdout",
     "output_type": "stream",
     "text": [
      "min: 0.82, max 1.0\n"
     ]
    },
    {
     "data": {
      "image/png": "[encoded data removed]",
      "text/plain": [
       "<Figure size 432x288 with 1 Axes>"
      ]
     },
     "metadata": {
      "needs_background": "light"
     },
     "output_type": "display_data"
    }
   ],
   "source": [
    "\"\"\"calculate the probabilities P(alive) for the customers\"\"\"\n",
    "\n",
    "clv[\"probability_alive\"] = bgf.conditional_probability_alive(clv[\"frequency\"], \n",
    "                                                             clv [\"recency\"], clv [\"T\"])\n",
    "\n",
    "# check results\n",
    "print(\"min: {}, max {}\".format(round(np.min(clv[\"probability_alive\"]),2), \\\n",
    "np.max(clv[\"probability_alive\"])))\n",
    "sns.distplot(clv['probability_alive'], color='rebeccapurple');"
   ]
  },
  {
   "cell_type": "markdown",
   "metadata": {},
   "source": [
    "**Not really working solution**\n",
    "\n",
    "The [Modified Beta-Geometric model](https://github.com/CamDavidsonPilon/lifetimes/blob/master/lifetimes/fitters/modified_beta_geo_fitter.py) should help. Details again in the paper and the issue [here](https://github.com/CamDavidsonPilon/lifetimes/issues/165). But it doesn't, at least without tuning.\n",
    "\n",
    "class ModifiedBetaGeoFitter(BetaGeoFitter). This model has the following assumptions:\n",
    "1. Each individual, ``i``, has a hidden ``lambda_i`` and ``p_i`` parameter\n",
    "2. These come from a population wide Gamma and a Beta distribution respectively.\n",
    "3. Individuals purchases follow a Poisson process with rate `\\lambda_i*t` .\n",
    "4. _At the beginning of their lifetime_ and after each purchase, an individual has a p_i probability of dieing (never buying again)."
   ]
  },
  {
   "cell_type": "code",
   "execution_count": 151,
   "metadata": {},
   "outputs": [
    {
     "name": "stdout",
     "output_type": "stream",
     "text": [
      "<lifetimes.ModifiedBetaGeoFitter: fitted with 4338 subjects, a: 0.00, alpha: 69.05, b: 6.68, r: 0.83>\n"
     ]
    }
   ],
   "source": [
    "\"\"\"fit MBG model\"\"\" # note: similar API to scikit-learn and lifelines.\n",
    "\n",
    "mbgf = ModifiedBetaGeoFitter(penalizer_coef=0.0)\n",
    "mbgf.fit(clv['frequency'], clv['recency'], clv['T'])\n",
    "print(mbgf)"
   ]
  },
  {
   "cell_type": "code",
   "execution_count": 154,
   "metadata": {},
   "outputs": [
    {
     "name": "stdout",
     "output_type": "stream",
     "text": [
      "min: 0.9, max 0.9999911055210278\n"
     ]
    },
    {
     "data": {
      "image/png": "[encoded data removed]",
      "text/plain": [
       "<Figure size 432x288 with 1 Axes>"
      ]
     },
     "metadata": {
      "needs_background": "light"
     },
     "output_type": "display_data"
    }
   ],
   "source": [
    "\"\"\"calculate the probabilities P(alive) for the customers\"\"\"\n",
    "\n",
    "clv[\"probability_alive_2\"] = mbgf.conditional_probability_alive(clv[\"frequency\"], \n",
    "                                                             clv [\"recency\"], clv [\"T\"])\n",
    "\n",
    "# check results\n",
    "print(\"min: {}, max {}\".format(round(np.min(clv[\"probability_alive_2\"]),2), \\\n",
    "np.max(clv[\"probability_alive_2\"])))\n",
    "sns.distplot(clv['probability_alive_2'], color='rebeccapurple');"
   ]
  },
  {
   "cell_type": "markdown",
   "metadata": {},
   "source": [
    "**Possible Solution (manually)**\n",
    "\n",
    "Isn't it better to assume the average inter-purchase time as a baseline for assuming the first-time customers' probability of being alive? ..."
   ]
  },
  {
   "cell_type": "markdown",
   "metadata": {},
   "source": [
    "### Assess model fit\n",
    "\n",
    "There are a few ways to assess the model’s correctness. The first is to compare your data versus artificial data simulated with your fitted model’s parameters. We can see that our actual data and our simulated data line up well. This proves that our model doesn’t suck."
   ]
  },
  {
   "cell_type": "code",
   "execution_count": 19,
   "metadata": {},
   "outputs": [
    {
     "data": {
      "image/png": "[encoded data removed]",
      "text/plain": [
       "<Figure size 432x288 with 1 Axes>"
      ]
     },
     "metadata": {
      "needs_background": "light"
     },
     "output_type": "display_data"
    }
   ],
   "source": [
    "plot_period_transactions(bgf, color=['rebeccapurple', 'yellow']);"
   ]
  },
  {
   "cell_type": "markdown",
   "metadata": {},
   "source": [
    "## Fit model with holdout set\n",
    "\n",
    "With transactional data, we can partition the dataset into a calibration period dataset and a holdout dataset. This is important as we want to test how our model performs on data not yet seen (think cross-validation in standard machine learning literature). Lifetimes has a function to partition our dataset like this:"
   ]
  },
  {
   "cell_type": "code",
   "execution_count": 20,
   "metadata": {},
   "outputs": [],
   "source": [
    "\"\"\"fit model with calibration and holdout sets\"\"\"\n",
    "\n",
    "summary_cal_holdout = calibration_and_holdout_data(clv_data, 'CustomerID', 'InvoiceDate', \n",
    "                                                   monetary_value_col='Sales',\n",
    "                                                   calibration_period_end='2011-06-08',\n",
    "                                                   observation_period_end='2011-12-9')   "
   ]
  },
  {
   "cell_type": "code",
   "execution_count": 21,
   "metadata": {},
   "outputs": [
    {
     "name": "stdout",
     "output_type": "stream",
     "text": [
      "            frequency_cal  recency_cal  T_cal  monetary_value_cal  \\\n",
      "CustomerID                                                          \n",
      "12346.0               0.0          0.0  141.0                0.00   \n",
      "12347.0               2.0        121.0  183.0              555.82   \n",
      "12348.0               2.0        110.0  174.0              297.22   \n",
      "12350.0               0.0          0.0  126.0                0.00   \n",
      "12352.0               3.0         34.0  112.0              421.77   \n",
      "\n",
      "            frequency_holdout  monetary_value_holdout  duration_holdout  \n",
      "CustomerID                                                               \n",
      "12346.0                   0.0                0.000000               184  \n",
      "12347.0                   4.0               25.373163               184  \n",
      "12348.0                   1.0              103.333333               184  \n",
      "12350.0                   0.0                0.000000               184  \n",
      "12352.0                   3.0               20.090000               184  \n"
     ]
    }
   ],
   "source": [
    "# check results\n",
    "print(summary_cal_holdout.head())"
   ]
  },
  {
   "cell_type": "code",
   "execution_count": 22,
   "metadata": {},
   "outputs": [
    {
     "data": {
      "text/plain": [
       "<lifetimes.BetaGeoFitter: fitted with 2787 subjects, a: 0.00, alpha: 61.78, b: 3.16, r: 0.74>"
      ]
     },
     "execution_count": 22,
     "metadata": {},
     "output_type": "execute_result"
    }
   ],
   "source": [
    "\"\"\"fit on the _cal columns, and test on the _holdout columns\"\"\"\n",
    "\n",
    "bgf.fit(summary_cal_holdout['frequency_cal'], \n",
    "        summary_cal_holdout['recency_cal'], \n",
    "        summary_cal_holdout['T_cal'])"
   ]
  },
  {
   "cell_type": "code",
   "execution_count": 23,
   "metadata": {},
   "outputs": [
    {
     "data": {
      "image/png": "[encoded data removed]",
      "text/plain": [
       "<Figure size 864x432 with 1 Axes>"
      ]
     },
     "metadata": {
      "needs_background": "light"
     },
     "output_type": "display_data"
    }
   ],
   "source": [
    "# plot results\n",
    "plot_calibration_purchases_vs_holdout_purchases(bgf, summary_cal_holdout, figsize=(12,6),\n",
    "                                                color=['rebeccapurple', 'yellow']);"
   ]
  },
  {
   "cell_type": "markdown",
   "metadata": {},
   "source": [
    "---"
   ]
  },
  {
   "cell_type": "markdown",
   "metadata": {},
   "source": [
    "## 3. Estimate customer lifetime value using the Gamma-Gamma model\n",
    "Up to here we didn’t take into account the economic value of each transaction and focused mainly on transactions’ occurrences. \n",
    "To estimate the CLV we can use the [Gamma-Gamma submodel presented by Dr. Peter Fader and Dr. Bruce Hardie from Wharton](http://www.brucehardie.com/notes/025/gamma_gamma.pdf). For that we need to have summary data from transactional data that also contains economic values for each transaction (i.e. profits or revenues).\n",
    "\n",
    "#### IMPORTANT: Fit only to returning customers (but you can predict for all)\n",
    "_not yet sure if I won't run into the same issue as above with one-timers ..._\n",
    "\n",
    "#### IMPORTANT: The Gamma-Gamma model and the independence assumption\n",
    "The Gamma-Gamma submodelrelies upon an important assumption. _It assumes that there is no relationship between the monetary value and the purchase frequency. In practice we need to check whether the Pearson correlation between the two vectors is close to 0 in order to use this model._"
   ]
  },
  {
   "cell_type": "code",
   "execution_count": 104,
   "metadata": {},
   "outputs": [
    {
     "name": "stdout",
     "output_type": "stream",
     "text": [
      "2790\n"
     ]
    },
    {
     "data": {
      "text/html": [
       "<div>\n",
       "<style scoped>\n",
       "    .dataframe tbody tr th:only-of-type {\n",
       "        vertical-align: middle;\n",
       "    }\n",
       "\n",
       "    .dataframe tbody tr th {\n",
       "        vertical-align: top;\n",
       "    }\n",
       "\n",
       "    .dataframe thead th {\n",
       "        text-align: right;\n",
       "    }\n",
       "</style>\n",
       "<table border=\"1\" class=\"dataframe\">\n",
       "  <thead>\n",
       "    <tr style=\"text-align: right;\">\n",
       "      <th></th>\n",
       "      <th>frequency</th>\n",
       "      <th>recency</th>\n",
       "      <th>T</th>\n",
       "      <th>monetary_value</th>\n",
       "      <th>predicted_purchases</th>\n",
       "    </tr>\n",
       "    <tr>\n",
       "      <th>CustomerID</th>\n",
       "      <th></th>\n",
       "      <th></th>\n",
       "      <th></th>\n",
       "      <th></th>\n",
       "      <th></th>\n",
       "    </tr>\n",
       "  </thead>\n",
       "  <tbody>\n",
       "    <tr>\n",
       "      <th>12347</th>\n",
       "      <td>6.0</td>\n",
       "      <td>365.0</td>\n",
       "      <td>367.0</td>\n",
       "      <td>599.701667</td>\n",
       "      <td>0.015657</td>\n",
       "    </tr>\n",
       "    <tr>\n",
       "      <th>12348</th>\n",
       "      <td>3.0</td>\n",
       "      <td>283.0</td>\n",
       "      <td>358.0</td>\n",
       "      <td>301.480000</td>\n",
       "      <td>0.008958</td>\n",
       "    </tr>\n",
       "    <tr>\n",
       "      <th>12352</th>\n",
       "      <td>6.0</td>\n",
       "      <td>260.0</td>\n",
       "      <td>296.0</td>\n",
       "      <td>368.256667</td>\n",
       "      <td>0.018700</td>\n",
       "    </tr>\n",
       "    <tr>\n",
       "      <th>12356</th>\n",
       "      <td>2.0</td>\n",
       "      <td>303.0</td>\n",
       "      <td>325.0</td>\n",
       "      <td>269.905000</td>\n",
       "      <td>0.007172</td>\n",
       "    </tr>\n",
       "    <tr>\n",
       "      <th>12358</th>\n",
       "      <td>1.0</td>\n",
       "      <td>149.0</td>\n",
       "      <td>150.0</td>\n",
       "      <td>683.200000</td>\n",
       "      <td>0.008339</td>\n",
       "    </tr>\n",
       "  </tbody>\n",
       "</table>\n",
       "</div>"
      ],
      "text/plain": [
       "            frequency  recency      T  monetary_value  predicted_purchases\n",
       "CustomerID                                                                \n",
       "12347             6.0    365.0  367.0      599.701667             0.015657\n",
       "12348             3.0    283.0  358.0      301.480000             0.008958\n",
       "12352             6.0    260.0  296.0      368.256667             0.018700\n",
       "12356             2.0    303.0  325.0      269.905000             0.007172\n",
       "12358             1.0    149.0  150.0      683.200000             0.008339"
      ]
     },
     "metadata": {},
     "output_type": "display_data"
    }
   ],
   "source": [
    "\"\"\"drop all one-time-only customers\"\"\"  # clv can only be calculated for returning customers\n",
    "\n",
    "returning_customers = clv[clv['frequency']>0]\n",
    "\n",
    "print(len(returning_customers))\n",
    "display(returning_customers.head())"
   ]
  },
  {
   "cell_type": "code",
   "execution_count": 105,
   "metadata": {},
   "outputs": [
    {
     "name": "stdout",
     "output_type": "stream",
     "text": [
      "pearson's r:  0.02\n"
     ]
    }
   ],
   "source": [
    "\"\"\"check for independence\"\"\"\n",
    "\n",
    "print(\"pearson's r: \", round(np.corrcoef(returning_customers['monetary_value'], \\\n",
    "                                         returning_customers['frequency'])[0][1], 2))"
   ]
  },
  {
   "cell_type": "code",
   "execution_count": 106,
   "metadata": {},
   "outputs": [
    {
     "name": "stdout",
     "output_type": "stream",
     "text": [
      "<lifetimes.GammaGammaFitter: fitted with 2790 subjects, p: 2.10, q: 3.45, v: 485.89>\n"
     ]
    }
   ],
   "source": [
    "\"\"\"fit model\"\"\"\n",
    "\n",
    "ggf = GammaGammaFitter(penalizer_coef = 0)\n",
    "ggf.fit(returning_customers['frequency'],\n",
    "        returning_customers['monetary_value'])\n",
    "print(ggf)"
   ]
  },
  {
   "cell_type": "markdown",
   "metadata": {},
   "source": [
    "### Estimate CLV\n",
    "This method computes the average lifetime value for a group of one or more customers. It uses [DFC-Method](https://en.wikipedia.org/wiki/Discounted_cash_flow) adjusting for cost of capital and risk."
   ]
  },
  {
   "cell_type": "code",
   "execution_count": 164,
   "metadata": {},
   "outputs": [
    {
     "data": {
      "text/plain": [
       "CustomerID\n",
       "12346     295.356775\n",
       "12347    3011.934600\n",
       "12348    1009.074856\n",
       "12349    1337.166576\n",
       "12350     307.043976\n",
       "Name: clv, dtype: float64"
      ]
     },
     "execution_count": 164,
     "metadata": {},
     "output_type": "execute_result"
    }
   ],
   "source": [
    "\"\"\"estimate CLV\"\"\" # can be predicted for all customers - at least in theory\n",
    "\n",
    "# refit the BG model to the clv dataset (just for security, it is needed in clv function)\n",
    "bgf.fit(clv['frequency'], clv['recency'], clv['T'])\n",
    "\n",
    "clv_estimates = ggf.customer_lifetime_value(\n",
    "    bgf, # the model to use to predict the number of future transactions, see above\n",
    "    clv['frequency'],\n",
    "    clv['recency'],\n",
    "    clv['T'],\n",
    "    clv['monetary_value'],\n",
    "    time=12, # in months\n",
    "    discount_rate=0.01) # monthly discount rate ~ 12.7% annually\n",
    "\n",
    "# check results\n",
    "clv_estimates.head()"
   ]
  },
  {
   "cell_type": "markdown",
   "metadata": {},
   "source": [
    "Parameters:\n",
    "\n",
    "- transaction_prediction_model: model\n",
    "    the model to predict future transactions, literature uses\n",
    "    pareto/ndb but we can also use a different model like bg\n",
    "\n",
    "- frequency: array_like\n",
    "    the frequency vector of customers' purchases\n",
    "    (denoted x in literature).\n",
    "\n",
    "- recency: the recency vector of customers' purchases\n",
    "    (denoted t_x in literature).\n",
    "\n",
    "- T: array_like\n",
    "    customers' age (time units since first purchase)\n",
    "\n",
    "- monetary_value: array_like\n",
    "    the monetary value vector of customer's purchases\n",
    "    (denoted m in literature).\n",
    "\n",
    "- time: float, optional\n",
    "    the lifetime expected for the user in months. Default: 12\n",
    "\n",
    "- discount_rate: float, optional\n",
    "    the monthly adjusted discount rate. Default: 0.01\n",
    "\n",
    "\n",
    "Returns: Serries object with customer ids as index and the estimated customer\n",
    "    lifetime values as values"
   ]
  },
  {
   "cell_type": "markdown",
   "metadata": {},
   "source": [
    "### Estimate average transaction values\n",
    "\n",
    "This method computes the conditional expectation of the average profit per transaction for a group of one or more customers."
   ]
  },
  {
   "cell_type": "code",
   "execution_count": 161,
   "metadata": {},
   "outputs": [
    {
     "data": {
      "text/plain": [
       "CustomerID\n",
       "12346    416.945993\n",
       "12347    569.978843\n",
       "12348    333.784213\n",
       "12349    416.945993\n",
       "12350    416.945993\n",
       "dtype: float64"
      ]
     },
     "execution_count": 161,
     "metadata": {},
     "output_type": "execute_result"
    }
   ],
   "source": [
    "\"\"\"estimate avg monetary value for customers\"\"\" # can  be predicted for all customers - at least in theory\n",
    "\n",
    "avg_value = ggf.conditional_expected_average_profit(clv['frequency'],\n",
    "                                                    clv['monetary_value'])\n",
    "\n",
    "# check resutls\n",
    "avg_value.head()"
   ]
  },
  {
   "cell_type": "code",
   "execution_count": 178,
   "metadata": {},
   "outputs": [
    {
     "name": "stdout",
     "output_type": "stream",
     "text": [
      "Expected conditional average value: 441.15943083233503\n",
      "Observed average value: 477.3803385139518\n"
     ]
    }
   ],
   "source": [
    "print(\"Expected conditional average value:\", avg_value.mean()) # all customers\n",
    "print(\"Observed average value:\", returning_customers['monetary_value'].mean()) # returning only!"
   ]
  },
  {
   "cell_type": "markdown",
   "metadata": {},
   "source": [
    "---"
   ]
  }
 ],
 "metadata": {
  "kernelspec": {
   "display_name": "Python [default]",
   "language": "python",
   "name": "python3"
  },
  "language_info": {
   "codemirror_mode": {
    "name": "ipython",
    "version": 3
   },
   "file_extension": ".py",
   "mimetype": "text/x-python",
   "name": "python",
   "nbconvert_exporter": "python",
   "pygments_lexer": "ipython3",
   "version": "3.6.3"
  }
 },
 "nbformat": 4,
 "nbformat_minor": 2
}
