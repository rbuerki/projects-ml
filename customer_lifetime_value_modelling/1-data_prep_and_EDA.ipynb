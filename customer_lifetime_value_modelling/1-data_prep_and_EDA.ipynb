{
 "cells": [
  {
   "cell_type": "markdown",
   "metadata": {},
   "source": [
    "# Data Preparation & Initial EDA of Online Retail Data\n",
    "\n",
    "This notebook is the first step in a deeper analysis of the [Lifetimes](https://github.com/CamDavidsonPilon/lifetimes) package.\n",
    "The raw data (see below) is cleaned, transformed and used for EDA.\n",
    "\n",
    "#### Data Source\n",
    "- `data/raw/OnlineRetail.xlsx`: A transnational data set which contains all the transactions occurring between 01/12/2010 and 09/12/2011 for a UK-based and registered non-store online retail. Many customers of the company are wholesalers. \n",
    "\n",
    "#### Data Output\n",
    "- `data/interim/clv_data.csv`: Cleaned version of the input data. Will later be as input for CLV calculations in nb 2.\n",
    "- `data/interim/customer_data.csv`: DataFrame with aggregated Customer Data (for EDA and later analysis of CLV results in nb 3).\n",
    "\n",
    "#### Changes\n",
    "- 19-02-12: Start, finish notebook"
   ]
  },
  {
   "cell_type": "markdown",
   "metadata": {},
   "source": [
    "---"
   ]
  },
  {
   "cell_type": "markdown",
   "metadata": {},
   "source": [
    "### Import libraries, load data"
   ]
  },
  {
   "cell_type": "code",
   "execution_count": 1,
   "metadata": {},
   "outputs": [],
   "source": [
    "# import libraries\n",
    "import numpy as np\n",
    "import pandas as pd\n",
    "import datetime as dt\n",
    "\n",
    "# visualization\n",
    "import matplotlib.pyplot as plt\n",
    "import seaborn as sns\n",
    "sns.set(), sns.set_style('whitegrid')\n",
    "color = 'rebeccapurple'\n",
    "%matplotlib inline  \n",
    "\n",
    "import cleaning_functions as clean\n",
    "import EDA_functions as EDA\n",
    "\n",
    "# display of all columns in df\n",
    "from IPython.display import display\n",
    "pd.options.display.max_columns = None"
   ]
  },
  {
   "cell_type": "code",
   "execution_count": 2,
   "metadata": {},
   "outputs": [],
   "source": [
    "# load data\n",
    "data = pd.read_excel(\"data/raw/OnlineRetail.xlsx\")"
   ]
  },
  {
   "cell_type": "markdown",
   "metadata": {},
   "source": [
    "## 1) Prepare Data for EDA\n",
    "\n",
    "### Assess basic data structure"
   ]
  },
  {
   "cell_type": "code",
   "execution_count": 3,
   "metadata": {},
   "outputs": [
    {
     "data": {
      "text/html": [
       "<div>\n",
       "<style scoped>\n",
       "    .dataframe tbody tr th:only-of-type {\n",
       "        vertical-align: middle;\n",
       "    }\n",
       "\n",
       "    .dataframe tbody tr th {\n",
       "        vertical-align: top;\n",
       "    }\n",
       "\n",
       "    .dataframe thead th {\n",
       "        text-align: right;\n",
       "    }\n",
       "</style>\n",
       "<table border=\"1\" class=\"dataframe\">\n",
       "  <thead>\n",
       "    <tr style=\"text-align: right;\">\n",
       "      <th></th>\n",
       "      <th>InvoiceNo</th>\n",
       "      <th>StockCode</th>\n",
       "      <th>Description</th>\n",
       "      <th>Quantity</th>\n",
       "      <th>InvoiceDate</th>\n",
       "      <th>UnitPrice</th>\n",
       "      <th>CustomerID</th>\n",
       "      <th>Country</th>\n",
       "    </tr>\n",
       "  </thead>\n",
       "  <tbody>\n",
       "    <tr>\n",
       "      <th>0</th>\n",
       "      <td>536365</td>\n",
       "      <td>85123A</td>\n",
       "      <td>WHITE HANGING HEART T-LIGHT HOLDER</td>\n",
       "      <td>6</td>\n",
       "      <td>2010-12-01 08:26:00</td>\n",
       "      <td>2.55</td>\n",
       "      <td>17850.0</td>\n",
       "      <td>United Kingdom</td>\n",
       "    </tr>\n",
       "    <tr>\n",
       "      <th>1</th>\n",
       "      <td>536365</td>\n",
       "      <td>71053</td>\n",
       "      <td>WHITE METAL LANTERN</td>\n",
       "      <td>6</td>\n",
       "      <td>2010-12-01 08:26:00</td>\n",
       "      <td>3.39</td>\n",
       "      <td>17850.0</td>\n",
       "      <td>United Kingdom</td>\n",
       "    </tr>\n",
       "    <tr>\n",
       "      <th>2</th>\n",
       "      <td>536365</td>\n",
       "      <td>84406B</td>\n",
       "      <td>CREAM CUPID HEARTS COAT HANGER</td>\n",
       "      <td>8</td>\n",
       "      <td>2010-12-01 08:26:00</td>\n",
       "      <td>2.75</td>\n",
       "      <td>17850.0</td>\n",
       "      <td>United Kingdom</td>\n",
       "    </tr>\n",
       "    <tr>\n",
       "      <th>3</th>\n",
       "      <td>536365</td>\n",
       "      <td>84029G</td>\n",
       "      <td>KNITTED UNION FLAG HOT WATER BOTTLE</td>\n",
       "      <td>6</td>\n",
       "      <td>2010-12-01 08:26:00</td>\n",
       "      <td>3.39</td>\n",
       "      <td>17850.0</td>\n",
       "      <td>United Kingdom</td>\n",
       "    </tr>\n",
       "    <tr>\n",
       "      <th>4</th>\n",
       "      <td>536365</td>\n",
       "      <td>84029E</td>\n",
       "      <td>RED WOOLLY HOTTIE WHITE HEART.</td>\n",
       "      <td>6</td>\n",
       "      <td>2010-12-01 08:26:00</td>\n",
       "      <td>3.39</td>\n",
       "      <td>17850.0</td>\n",
       "      <td>United Kingdom</td>\n",
       "    </tr>\n",
       "  </tbody>\n",
       "</table>\n",
       "</div>"
      ],
      "text/plain": [
       "  InvoiceNo StockCode                          Description  Quantity  \\\n",
       "0    536365    85123A   WHITE HANGING HEART T-LIGHT HOLDER         6   \n",
       "1    536365     71053                  WHITE METAL LANTERN         6   \n",
       "2    536365    84406B       CREAM CUPID HEARTS COAT HANGER         8   \n",
       "3    536365    84029G  KNITTED UNION FLAG HOT WATER BOTTLE         6   \n",
       "4    536365    84029E       RED WOOLLY HOTTIE WHITE HEART.         6   \n",
       "\n",
       "          InvoiceDate  UnitPrice  CustomerID         Country  \n",
       "0 2010-12-01 08:26:00       2.55     17850.0  United Kingdom  \n",
       "1 2010-12-01 08:26:00       3.39     17850.0  United Kingdom  \n",
       "2 2010-12-01 08:26:00       2.75     17850.0  United Kingdom  \n",
       "3 2010-12-01 08:26:00       3.39     17850.0  United Kingdom  \n",
       "4 2010-12-01 08:26:00       3.39     17850.0  United Kingdom  "
      ]
     },
     "execution_count": 3,
     "metadata": {},
     "output_type": "execute_result"
    }
   ],
   "source": [
    "data.head()"
   ]
  },
  {
   "cell_type": "code",
   "execution_count": 4,
   "metadata": {},
   "outputs": [
    {
     "name": "stdout",
     "output_type": "stream",
     "text": [
      "<class 'pandas.core.frame.DataFrame'>\n",
      "RangeIndex: 541909 entries, 0 to 541908\n",
      "Data columns (total 8 columns):\n",
      "InvoiceNo      541909 non-null object\n",
      "StockCode      541909 non-null object\n",
      "Description    540455 non-null object\n",
      "Quantity       541909 non-null int64\n",
      "InvoiceDate    541909 non-null datetime64[ns]\n",
      "UnitPrice      541909 non-null float64\n",
      "CustomerID     406829 non-null float64\n",
      "Country        541909 non-null object\n",
      "dtypes: datetime64[ns](1), float64(2), int64(1), object(4)\n",
      "memory usage: 33.1+ MB\n"
     ]
    }
   ],
   "source": [
    "data.info()"
   ]
  },
  {
   "cell_type": "code",
   "execution_count": 5,
   "metadata": {},
   "outputs": [],
   "source": [
    "# change dtype for customerID to object\n",
    "clv_data = clean.change_dtypes(data.copy(), cols_to_object=['CustomerID'])\n",
    "\n",
    "# normalize InvoiceDate to dates (remove time)\n",
    "clv_data['InvoiceDate'] = clv_data['InvoiceDate'].dt.date"
   ]
  },
  {
   "cell_type": "code",
   "execution_count": 6,
   "metadata": {},
   "outputs": [
    {
     "data": {
      "image/png": "[encoded data removed]",
      "text/plain": [
       "<Figure size 576x288 with 2 Axes>"
      ]
     },
     "metadata": {
      "needs_background": "light"
     },
     "output_type": "display_data"
    }
   ],
   "source": [
    "# check distribution of numerical data\n",
    "EDA.plot_num_hist(clv_data, figsize=(8,4))"
   ]
  },
  {
   "cell_type": "code",
   "execution_count": 7,
   "metadata": {},
   "outputs": [
    {
     "data": {
      "text/html": [
       "<div>\n",
       "<style scoped>\n",
       "    .dataframe tbody tr th:only-of-type {\n",
       "        vertical-align: middle;\n",
       "    }\n",
       "\n",
       "    .dataframe tbody tr th {\n",
       "        vertical-align: top;\n",
       "    }\n",
       "\n",
       "    .dataframe thead th {\n",
       "        text-align: right;\n",
       "    }\n",
       "</style>\n",
       "<table border=\"1\" class=\"dataframe\">\n",
       "  <thead>\n",
       "    <tr style=\"text-align: right;\">\n",
       "      <th></th>\n",
       "      <th>Quantity</th>\n",
       "      <th>UnitPrice</th>\n",
       "    </tr>\n",
       "  </thead>\n",
       "  <tbody>\n",
       "    <tr>\n",
       "      <th>count</th>\n",
       "      <td>541909.000000</td>\n",
       "      <td>541909.000000</td>\n",
       "    </tr>\n",
       "    <tr>\n",
       "      <th>mean</th>\n",
       "      <td>9.552250</td>\n",
       "      <td>4.611114</td>\n",
       "    </tr>\n",
       "    <tr>\n",
       "      <th>std</th>\n",
       "      <td>218.081158</td>\n",
       "      <td>96.759853</td>\n",
       "    </tr>\n",
       "    <tr>\n",
       "      <th>min</th>\n",
       "      <td>-80995.000000</td>\n",
       "      <td>-11062.060000</td>\n",
       "    </tr>\n",
       "    <tr>\n",
       "      <th>25%</th>\n",
       "      <td>1.000000</td>\n",
       "      <td>1.250000</td>\n",
       "    </tr>\n",
       "    <tr>\n",
       "      <th>50%</th>\n",
       "      <td>3.000000</td>\n",
       "      <td>2.080000</td>\n",
       "    </tr>\n",
       "    <tr>\n",
       "      <th>75%</th>\n",
       "      <td>10.000000</td>\n",
       "      <td>4.130000</td>\n",
       "    </tr>\n",
       "    <tr>\n",
       "      <th>max</th>\n",
       "      <td>80995.000000</td>\n",
       "      <td>38970.000000</td>\n",
       "    </tr>\n",
       "  </tbody>\n",
       "</table>\n",
       "</div>"
      ],
      "text/plain": [
       "            Quantity      UnitPrice\n",
       "count  541909.000000  541909.000000\n",
       "mean        9.552250       4.611114\n",
       "std       218.081158      96.759853\n",
       "min    -80995.000000  -11062.060000\n",
       "25%         1.000000       1.250000\n",
       "50%         3.000000       2.080000\n",
       "75%        10.000000       4.130000\n",
       "max     80995.000000   38970.000000"
      ]
     },
     "execution_count": 7,
     "metadata": {},
     "output_type": "execute_result"
    }
   ],
   "source": [
    "# check characteristics of numeric data\n",
    "clv_data.describe()"
   ]
  },
  {
   "cell_type": "code",
   "execution_count": 8,
   "metadata": {},
   "outputs": [
    {
     "name": "stdout",
     "output_type": "stream",
     "text": [
      "neg Quantities:  10624\n",
      "neg unitPrices:  2517\n"
     ]
    }
   ],
   "source": [
    "print(\"neg Quantities: \", len(clv_data.loc[clv_data['Quantity'] <= 0]))\n",
    "print(\"neg unitPrices: \", len(clv_data.loc[clv_data['UnitPrice'] <= 0]))"
   ]
  },
  {
   "cell_type": "markdown",
   "metadata": {},
   "source": [
    "**Decision:** Orders with negative Quantities / UnitPrices will be dropped."
   ]
  },
  {
   "cell_type": "markdown",
   "metadata": {},
   "source": [
    "**Observations:**\n",
    "- 90% of orders from UK\n",
    "- 305 days with orders in period\n",
    "- selling about 4000+ different products\n",
    "- 4373 customers\n",
    "- approx 25% of transactions without customerID\n",
    "    "
   ]
  },
  {
   "cell_type": "markdown",
   "metadata": {},
   "source": [
    "**Need for cleaning:**\n",
    "- drop orders with quantities <= 0\n",
    "- drop orders with unit_price <= 0\n",
    "- drop orders with missing customer ID\n",
    "- add new column sales (quant * price)\n",
    "- re-change ID to dtype str\n",
    "- drop cols we won't need no more: InvoiceNo, Description"
   ]
  },
  {
   "cell_type": "markdown",
   "metadata": {},
   "source": [
    "### Clean Data for EDA"
   ]
  },
  {
   "cell_type": "code",
   "execution_count": 9,
   "metadata": {},
   "outputs": [],
   "source": [
    "\"\"\"clean according to list\"\"\"\n",
    "\n",
    "clv_data = clv_data.loc[clv_data['CustomerID'] != 'nan']\n",
    "clv_data = clv_data.loc[clv_data['Quantity'] > 0]\n",
    "clv_data = clv_data.loc[clv_data['UnitPrice'] > 0]\n",
    "clv_data['CustomerID'] = clv_data['CustomerID'].astype(str).str.split('.').str.get(0)\n",
    "clv_data['Sales'] = clv_data['Quantity'] * clv_data['UnitPrice']\n",
    "clv_data.drop(['InvoiceNo', 'StockCode', 'Description'], inplace=True, axis=1)\n",
    "\n",
    "assert clv_data.isnull().sum().sum() == 0, \"NaN in the Set\""
   ]
  },
  {
   "cell_type": "code",
   "execution_count": 10,
   "metadata": {},
   "outputs": [
    {
     "name": "stdout",
     "output_type": "stream",
     "text": [
      "(397884, 6)\n"
     ]
    },
    {
     "data": {
      "text/html": [
       "<div>\n",
       "<style scoped>\n",
       "    .dataframe tbody tr th:only-of-type {\n",
       "        vertical-align: middle;\n",
       "    }\n",
       "\n",
       "    .dataframe tbody tr th {\n",
       "        vertical-align: top;\n",
       "    }\n",
       "\n",
       "    .dataframe thead th {\n",
       "        text-align: right;\n",
       "    }\n",
       "</style>\n",
       "<table border=\"1\" class=\"dataframe\">\n",
       "  <thead>\n",
       "    <tr style=\"text-align: right;\">\n",
       "      <th></th>\n",
       "      <th>Quantity</th>\n",
       "      <th>InvoiceDate</th>\n",
       "      <th>UnitPrice</th>\n",
       "      <th>CustomerID</th>\n",
       "      <th>Country</th>\n",
       "      <th>Sales</th>\n",
       "    </tr>\n",
       "  </thead>\n",
       "  <tbody>\n",
       "    <tr>\n",
       "      <th>0</th>\n",
       "      <td>6</td>\n",
       "      <td>2010-12-01</td>\n",
       "      <td>2.55</td>\n",
       "      <td>17850</td>\n",
       "      <td>United Kingdom</td>\n",
       "      <td>15.30</td>\n",
       "    </tr>\n",
       "    <tr>\n",
       "      <th>1</th>\n",
       "      <td>6</td>\n",
       "      <td>2010-12-01</td>\n",
       "      <td>3.39</td>\n",
       "      <td>17850</td>\n",
       "      <td>United Kingdom</td>\n",
       "      <td>20.34</td>\n",
       "    </tr>\n",
       "    <tr>\n",
       "      <th>2</th>\n",
       "      <td>8</td>\n",
       "      <td>2010-12-01</td>\n",
       "      <td>2.75</td>\n",
       "      <td>17850</td>\n",
       "      <td>United Kingdom</td>\n",
       "      <td>22.00</td>\n",
       "    </tr>\n",
       "    <tr>\n",
       "      <th>3</th>\n",
       "      <td>6</td>\n",
       "      <td>2010-12-01</td>\n",
       "      <td>3.39</td>\n",
       "      <td>17850</td>\n",
       "      <td>United Kingdom</td>\n",
       "      <td>20.34</td>\n",
       "    </tr>\n",
       "    <tr>\n",
       "      <th>4</th>\n",
       "      <td>6</td>\n",
       "      <td>2010-12-01</td>\n",
       "      <td>3.39</td>\n",
       "      <td>17850</td>\n",
       "      <td>United Kingdom</td>\n",
       "      <td>20.34</td>\n",
       "    </tr>\n",
       "  </tbody>\n",
       "</table>\n",
       "</div>"
      ],
      "text/plain": [
       "   Quantity InvoiceDate  UnitPrice CustomerID         Country  Sales\n",
       "0         6  2010-12-01       2.55      17850  United Kingdom  15.30\n",
       "1         6  2010-12-01       3.39      17850  United Kingdom  20.34\n",
       "2         8  2010-12-01       2.75      17850  United Kingdom  22.00\n",
       "3         6  2010-12-01       3.39      17850  United Kingdom  20.34\n",
       "4         6  2010-12-01       3.39      17850  United Kingdom  20.34"
      ]
     },
     "metadata": {},
     "output_type": "display_data"
    }
   ],
   "source": [
    "# check results\n",
    "print(clv_data.shape)\n",
    "display(clv_data.head())"
   ]
  },
  {
   "cell_type": "code",
   "execution_count": 11,
   "metadata": {},
   "outputs": [],
   "source": [
    "\"\"\"make / load hardcopy\"\"\"\n",
    "\n",
    "# # save a copy of prepared data\n",
    "# clv_data.to_csv('data/interim/clv_data.csv', index=False)\n",
    "\n",
    "# load prepared data\n",
    "clv_data = pd.read_csv('data/interim/clv_data.csv', parse_dates=['InvoiceDate'],\n",
    "                       dtype={'CustomerID' : str, 'Country' : 'category'})"
   ]
  },
  {
   "cell_type": "markdown",
   "metadata": {},
   "source": [
    "### Customers: Create Dataframe with aggregated data"
   ]
  },
  {
   "cell_type": "code",
   "execution_count": 12,
   "metadata": {},
   "outputs": [
    {
     "data": {
      "text/html": [
       "<div>\n",
       "<style scoped>\n",
       "    .dataframe tbody tr th:only-of-type {\n",
       "        vertical-align: middle;\n",
       "    }\n",
       "\n",
       "    .dataframe tbody tr th {\n",
       "        vertical-align: top;\n",
       "    }\n",
       "\n",
       "    .dataframe thead th {\n",
       "        text-align: right;\n",
       "    }\n",
       "</style>\n",
       "<table border=\"1\" class=\"dataframe\">\n",
       "  <thead>\n",
       "    <tr style=\"text-align: right;\">\n",
       "      <th></th>\n",
       "      <th>Quantity</th>\n",
       "      <th>InvoiceDate</th>\n",
       "      <th>UnitPrice</th>\n",
       "      <th>Country</th>\n",
       "      <th>Sales</th>\n",
       "    </tr>\n",
       "    <tr>\n",
       "      <th>CustomerID</th>\n",
       "      <th></th>\n",
       "      <th></th>\n",
       "      <th></th>\n",
       "      <th></th>\n",
       "      <th></th>\n",
       "    </tr>\n",
       "  </thead>\n",
       "  <tbody>\n",
       "    <tr>\n",
       "      <th>17850</th>\n",
       "      <td>6</td>\n",
       "      <td>2010-12-01</td>\n",
       "      <td>2.55</td>\n",
       "      <td>United Kingdom</td>\n",
       "      <td>15.30</td>\n",
       "    </tr>\n",
       "    <tr>\n",
       "      <th>17850</th>\n",
       "      <td>6</td>\n",
       "      <td>2010-12-01</td>\n",
       "      <td>3.39</td>\n",
       "      <td>United Kingdom</td>\n",
       "      <td>20.34</td>\n",
       "    </tr>\n",
       "    <tr>\n",
       "      <th>17850</th>\n",
       "      <td>8</td>\n",
       "      <td>2010-12-01</td>\n",
       "      <td>2.75</td>\n",
       "      <td>United Kingdom</td>\n",
       "      <td>22.00</td>\n",
       "    </tr>\n",
       "    <tr>\n",
       "      <th>17850</th>\n",
       "      <td>6</td>\n",
       "      <td>2010-12-01</td>\n",
       "      <td>3.39</td>\n",
       "      <td>United Kingdom</td>\n",
       "      <td>20.34</td>\n",
       "    </tr>\n",
       "    <tr>\n",
       "      <th>17850</th>\n",
       "      <td>6</td>\n",
       "      <td>2010-12-01</td>\n",
       "      <td>3.39</td>\n",
       "      <td>United Kingdom</td>\n",
       "      <td>20.34</td>\n",
       "    </tr>\n",
       "  </tbody>\n",
       "</table>\n",
       "</div>"
      ],
      "text/plain": [
       "            Quantity InvoiceDate  UnitPrice         Country  Sales\n",
       "CustomerID                                                        \n",
       "17850              6  2010-12-01       2.55  United Kingdom  15.30\n",
       "17850              6  2010-12-01       3.39  United Kingdom  20.34\n",
       "17850              8  2010-12-01       2.75  United Kingdom  22.00\n",
       "17850              6  2010-12-01       3.39  United Kingdom  20.34\n",
       "17850              6  2010-12-01       3.39  United Kingdom  20.34"
      ]
     },
     "execution_count": 12,
     "metadata": {},
     "output_type": "execute_result"
    }
   ],
   "source": [
    "customers = clv_data.copy()\n",
    "customers.set_index('CustomerID', inplace=True)\n",
    "customers.head()"
   ]
  },
  {
   "cell_type": "code",
   "execution_count": 13,
   "metadata": {},
   "outputs": [],
   "source": [
    "\"\"\"add recency / frequency metrics - according to lifetimes\"\"\"\n",
    "\n",
    "# add min and max dates per customer as new columns\n",
    "min_dates = customers.groupby(customers.index)['InvoiceDate'].min()\n",
    "max_dates = customers.groupby(customers.index)['InvoiceDate'].max()\n",
    "customers['first_date'] = min_dates\n",
    "customers['last_date'] = max_dates\n",
    "\n",
    "# add T (age), recency (first to last purchase) and frequency (number of repeat purchases)\n",
    "customers['T'] = (np.datetime64('2011-12-09') - customers['first_date'])\n",
    "customers['frequency'] = customers.groupby(customers.index)['InvoiceDate'].nunique() - 1\n",
    "customers['recency'] = np.where((customers['frequency'] >= 1), \\\n",
    "                                (customers['last_date'] - customers['first_date']), 0)\n",
    "\n",
    "customers['T'] = customers['T'].astype(str).str.split().str.get(0).astype(np.int64)\n",
    "customers['recency'] = customers['recency'].astype(str).str.split().str.get(0).astype(np.int64)"
   ]
  },
  {
   "cell_type": "code",
   "execution_count": 14,
   "metadata": {},
   "outputs": [],
   "source": [
    "# drop cols we don't need no more (NOTE: Sales is not summed, that's why we add it again later)\n",
    "customers_data = pd.DataFrame(customers.groupby(customers.index).max())\n",
    "customers_data.drop(['Quantity', 'InvoiceDate', 'UnitPrice', 'Sales'], axis=1, inplace=True)"
   ]
  },
  {
   "cell_type": "code",
   "execution_count": 15,
   "metadata": {},
   "outputs": [],
   "source": [
    "\"\"\" add some additional metrics - NOTE: these are not according to liftimes \"\"\"\n",
    "\n",
    "# NOTE: lifetimes excludes sales of the first order\n",
    "customers_data['Sales'] = customers.groupby(customers.index)['Sales'].sum() \n",
    "customers_data['avg_freq'] = np.where(customers_data['frequency'] >= 1, \\\n",
    "                (round(customers_data['recency'] / customers_data['frequency'],0)), 0)\n",
    "customers_data['sleeping'] = (np.datetime64('2011-12-09') - customers_data['last_date'])\n",
    "customers_data['sleeping'] = customers_data['sleeping'].astype(str).str.split().str.get(0).astype(np.int64)"
   ]
  },
  {
   "cell_type": "code",
   "execution_count": 16,
   "metadata": {},
   "outputs": [
    {
     "data": {
      "text/html": [
       "<div>\n",
       "<style scoped>\n",
       "    .dataframe tbody tr th:only-of-type {\n",
       "        vertical-align: middle;\n",
       "    }\n",
       "\n",
       "    .dataframe tbody tr th {\n",
       "        vertical-align: top;\n",
       "    }\n",
       "\n",
       "    .dataframe thead th {\n",
       "        text-align: right;\n",
       "    }\n",
       "</style>\n",
       "<table border=\"1\" class=\"dataframe\">\n",
       "  <thead>\n",
       "    <tr style=\"text-align: right;\">\n",
       "      <th></th>\n",
       "      <th>first_date</th>\n",
       "      <th>last_date</th>\n",
       "      <th>T</th>\n",
       "      <th>frequency</th>\n",
       "      <th>recency</th>\n",
       "      <th>Sales</th>\n",
       "      <th>avg_freq</th>\n",
       "      <th>sleeping</th>\n",
       "    </tr>\n",
       "    <tr>\n",
       "      <th>CustomerID</th>\n",
       "      <th></th>\n",
       "      <th></th>\n",
       "      <th></th>\n",
       "      <th></th>\n",
       "      <th></th>\n",
       "      <th></th>\n",
       "      <th></th>\n",
       "      <th></th>\n",
       "    </tr>\n",
       "  </thead>\n",
       "  <tbody>\n",
       "    <tr>\n",
       "      <th>12346</th>\n",
       "      <td>2011-01-18</td>\n",
       "      <td>2011-01-18</td>\n",
       "      <td>325</td>\n",
       "      <td>0</td>\n",
       "      <td>0</td>\n",
       "      <td>77183.60</td>\n",
       "      <td>0.0</td>\n",
       "      <td>325</td>\n",
       "    </tr>\n",
       "    <tr>\n",
       "      <th>12347</th>\n",
       "      <td>2010-12-07</td>\n",
       "      <td>2011-12-07</td>\n",
       "      <td>367</td>\n",
       "      <td>6</td>\n",
       "      <td>365</td>\n",
       "      <td>4310.00</td>\n",
       "      <td>61.0</td>\n",
       "      <td>2</td>\n",
       "    </tr>\n",
       "    <tr>\n",
       "      <th>12348</th>\n",
       "      <td>2010-12-16</td>\n",
       "      <td>2011-09-25</td>\n",
       "      <td>358</td>\n",
       "      <td>3</td>\n",
       "      <td>283</td>\n",
       "      <td>1797.24</td>\n",
       "      <td>94.0</td>\n",
       "      <td>75</td>\n",
       "    </tr>\n",
       "    <tr>\n",
       "      <th>12349</th>\n",
       "      <td>2011-11-21</td>\n",
       "      <td>2011-11-21</td>\n",
       "      <td>18</td>\n",
       "      <td>0</td>\n",
       "      <td>0</td>\n",
       "      <td>1757.55</td>\n",
       "      <td>0.0</td>\n",
       "      <td>18</td>\n",
       "    </tr>\n",
       "    <tr>\n",
       "      <th>12350</th>\n",
       "      <td>2011-02-02</td>\n",
       "      <td>2011-02-02</td>\n",
       "      <td>310</td>\n",
       "      <td>0</td>\n",
       "      <td>0</td>\n",
       "      <td>334.40</td>\n",
       "      <td>0.0</td>\n",
       "      <td>310</td>\n",
       "    </tr>\n",
       "  </tbody>\n",
       "</table>\n",
       "</div>"
      ],
      "text/plain": [
       "           first_date  last_date    T  frequency  recency     Sales  avg_freq  \\\n",
       "CustomerID                                                                      \n",
       "12346      2011-01-18 2011-01-18  325          0        0  77183.60       0.0   \n",
       "12347      2010-12-07 2011-12-07  367          6      365   4310.00      61.0   \n",
       "12348      2010-12-16 2011-09-25  358          3      283   1797.24      94.0   \n",
       "12349      2011-11-21 2011-11-21   18          0        0   1757.55       0.0   \n",
       "12350      2011-02-02 2011-02-02  310          0        0    334.40       0.0   \n",
       "\n",
       "            sleeping  \n",
       "CustomerID            \n",
       "12346            325  \n",
       "12347              2  \n",
       "12348             75  \n",
       "12349             18  \n",
       "12350            310  "
      ]
     },
     "execution_count": 16,
     "metadata": {},
     "output_type": "execute_result"
    }
   ],
   "source": [
    "#check results()\n",
    "customers_data.head()"
   ]
  },
  {
   "cell_type": "code",
   "execution_count": 17,
   "metadata": {},
   "outputs": [],
   "source": [
    "\"\"\"make / load hardcopy\"\"\"\n",
    "\n",
    "# save a copy of cleaned data\n",
    "customers_data.to_csv('data/interim/customers_data.csv')\n",
    "\n",
    "# load cleaned data\n",
    "customers_data = pd.read_csv('data/interim/customers_data.csv', index_col = 0,\n",
    "                       parse_dates=['first_date', 'last_date'])"
   ]
  },
  {
   "cell_type": "markdown",
   "metadata": {},
   "source": [
    "## 2) EDA"
   ]
  },
  {
   "cell_type": "code",
   "execution_count": 18,
   "metadata": {},
   "outputs": [
    {
     "name": "stdout",
     "output_type": "stream",
     "text": [
      "<class 'pandas.core.frame.DataFrame'>\n",
      "RangeIndex: 397884 entries, 0 to 397883\n",
      "Data columns (total 6 columns):\n",
      "Quantity       397884 non-null int64\n",
      "InvoiceDate    397884 non-null datetime64[ns]\n",
      "UnitPrice      397884 non-null float64\n",
      "CustomerID     397884 non-null object\n",
      "Country        397884 non-null category\n",
      "Sales          397884 non-null float64\n",
      "dtypes: category(1), datetime64[ns](1), float64(2), int64(1), object(1)\n",
      "memory usage: 15.6+ MB\n"
     ]
    }
   ],
   "source": [
    "clv_data.info()"
   ]
  },
  {
   "cell_type": "markdown",
   "metadata": {},
   "source": [
    "### Outliers"
   ]
  },
  {
   "cell_type": "code",
   "execution_count": 19,
   "metadata": {},
   "outputs": [
    {
     "data": {
      "image/png": "[encoded data removed]",
      "text/plain": [
       "<Figure size 864x360 with 4 Axes>"
      ]
     },
     "metadata": {
      "needs_background": "light"
     },
     "output_type": "display_data"
    }
   ],
   "source": [
    "\"\"\"look for outliers\"\"\"\n",
    "\n",
    "# re-check distribution of numerical data\n",
    "EDA.plot_num_hist(clv_data, figsize=(12,5))"
   ]
  },
  {
   "cell_type": "code",
   "execution_count": 20,
   "metadata": {
    "scrolled": true
   },
   "outputs": [
    {
     "data": {
      "text/html": [
       "<div>\n",
       "<style scoped>\n",
       "    .dataframe tbody tr th:only-of-type {\n",
       "        vertical-align: middle;\n",
       "    }\n",
       "\n",
       "    .dataframe tbody tr th {\n",
       "        vertical-align: top;\n",
       "    }\n",
       "\n",
       "    .dataframe thead th {\n",
       "        text-align: right;\n",
       "    }\n",
       "</style>\n",
       "<table border=\"1\" class=\"dataframe\">\n",
       "  <thead>\n",
       "    <tr style=\"text-align: right;\">\n",
       "      <th></th>\n",
       "      <th>Quantity</th>\n",
       "      <th>InvoiceDate</th>\n",
       "      <th>UnitPrice</th>\n",
       "      <th>CustomerID</th>\n",
       "      <th>Country</th>\n",
       "      <th>Sales</th>\n",
       "    </tr>\n",
       "  </thead>\n",
       "  <tbody>\n",
       "    <tr>\n",
       "      <th>118341</th>\n",
       "      <td>1</td>\n",
       "      <td>2011-05-03</td>\n",
       "      <td>8142.75</td>\n",
       "      <td>16029</td>\n",
       "      <td>United Kingdom</td>\n",
       "      <td>8142.75</td>\n",
       "    </tr>\n",
       "    <tr>\n",
       "      <th>308796</th>\n",
       "      <td>1</td>\n",
       "      <td>2011-10-27</td>\n",
       "      <td>4161.06</td>\n",
       "      <td>12536</td>\n",
       "      <td>France</td>\n",
       "      <td>4161.06</td>\n",
       "    </tr>\n",
       "    <tr>\n",
       "      <th>308820</th>\n",
       "      <td>1</td>\n",
       "      <td>2011-10-27</td>\n",
       "      <td>4161.06</td>\n",
       "      <td>12536</td>\n",
       "      <td>France</td>\n",
       "      <td>4161.06</td>\n",
       "    </tr>\n",
       "    <tr>\n",
       "      <th>295229</th>\n",
       "      <td>1</td>\n",
       "      <td>2011-10-19</td>\n",
       "      <td>3949.32</td>\n",
       "      <td>12744</td>\n",
       "      <td>Singapore</td>\n",
       "      <td>3949.32</td>\n",
       "    </tr>\n",
       "    <tr>\n",
       "      <th>269568</th>\n",
       "      <td>1</td>\n",
       "      <td>2011-10-03</td>\n",
       "      <td>3155.95</td>\n",
       "      <td>15502</td>\n",
       "      <td>United Kingdom</td>\n",
       "      <td>3155.95</td>\n",
       "    </tr>\n",
       "  </tbody>\n",
       "</table>\n",
       "</div>"
      ],
      "text/plain": [
       "        Quantity InvoiceDate  UnitPrice CustomerID         Country    Sales\n",
       "118341         1  2011-05-03    8142.75      16029  United Kingdom  8142.75\n",
       "308796         1  2011-10-27    4161.06      12536          France  4161.06\n",
       "308820         1  2011-10-27    4161.06      12536          France  4161.06\n",
       "295229         1  2011-10-19    3949.32      12744       Singapore  3949.32\n",
       "269568         1  2011-10-03    3155.95      15502  United Kingdom  3155.95"
      ]
     },
     "execution_count": 20,
     "metadata": {},
     "output_type": "execute_result"
    }
   ],
   "source": [
    "clv_data.sort_values(['UnitPrice'], ascending=False).head()"
   ]
  },
  {
   "cell_type": "code",
   "execution_count": 21,
   "metadata": {},
   "outputs": [
    {
     "data": {
      "text/html": [
       "<div>\n",
       "<style scoped>\n",
       "    .dataframe tbody tr th:only-of-type {\n",
       "        vertical-align: middle;\n",
       "    }\n",
       "\n",
       "    .dataframe tbody tr th {\n",
       "        vertical-align: top;\n",
       "    }\n",
       "\n",
       "    .dataframe thead th {\n",
       "        text-align: right;\n",
       "    }\n",
       "</style>\n",
       "<table border=\"1\" class=\"dataframe\">\n",
       "  <thead>\n",
       "    <tr style=\"text-align: right;\">\n",
       "      <th></th>\n",
       "      <th>Quantity</th>\n",
       "      <th>InvoiceDate</th>\n",
       "      <th>UnitPrice</th>\n",
       "      <th>CustomerID</th>\n",
       "      <th>Country</th>\n",
       "      <th>Sales</th>\n",
       "    </tr>\n",
       "  </thead>\n",
       "  <tbody>\n",
       "    <tr>\n",
       "      <th>397411</th>\n",
       "      <td>80995</td>\n",
       "      <td>2011-12-09</td>\n",
       "      <td>2.08</td>\n",
       "      <td>16446</td>\n",
       "      <td>United Kingdom</td>\n",
       "      <td>168469.60</td>\n",
       "    </tr>\n",
       "    <tr>\n",
       "      <th>37120</th>\n",
       "      <td>74215</td>\n",
       "      <td>2011-01-18</td>\n",
       "      <td>1.04</td>\n",
       "      <td>12346</td>\n",
       "      <td>United Kingdom</td>\n",
       "      <td>77183.60</td>\n",
       "    </tr>\n",
       "    <tr>\n",
       "      <th>308102</th>\n",
       "      <td>4800</td>\n",
       "      <td>2011-10-27</td>\n",
       "      <td>0.21</td>\n",
       "      <td>12901</td>\n",
       "      <td>United Kingdom</td>\n",
       "      <td>1008.00</td>\n",
       "    </tr>\n",
       "    <tr>\n",
       "      <th>143230</th>\n",
       "      <td>4300</td>\n",
       "      <td>2011-05-27</td>\n",
       "      <td>0.72</td>\n",
       "      <td>13135</td>\n",
       "      <td>United Kingdom</td>\n",
       "      <td>3096.00</td>\n",
       "    </tr>\n",
       "    <tr>\n",
       "      <th>61579</th>\n",
       "      <td>3906</td>\n",
       "      <td>2011-02-22</td>\n",
       "      <td>0.82</td>\n",
       "      <td>18087</td>\n",
       "      <td>United Kingdom</td>\n",
       "      <td>3202.92</td>\n",
       "    </tr>\n",
       "  </tbody>\n",
       "</table>\n",
       "</div>"
      ],
      "text/plain": [
       "        Quantity InvoiceDate  UnitPrice CustomerID         Country      Sales\n",
       "397411     80995  2011-12-09       2.08      16446  United Kingdom  168469.60\n",
       "37120      74215  2011-01-18       1.04      12346  United Kingdom   77183.60\n",
       "308102      4800  2011-10-27       0.21      12901  United Kingdom    1008.00\n",
       "143230      4300  2011-05-27       0.72      13135  United Kingdom    3096.00\n",
       "61579       3906  2011-02-22       0.82      18087  United Kingdom    3202.92"
      ]
     },
     "execution_count": 21,
     "metadata": {},
     "output_type": "execute_result"
    }
   ],
   "source": [
    "clv_data.sort_values(['Quantity'], ascending=False).head()"
   ]
  },
  {
   "cell_type": "markdown",
   "metadata": {},
   "source": [
    "**Decision:** Outliers will not (yet) be removed"
   ]
  },
  {
   "cell_type": "markdown",
   "metadata": {},
   "source": [
    "### Period of Observation"
   ]
  },
  {
   "cell_type": "code",
   "execution_count": 22,
   "metadata": {},
   "outputs": [
    {
     "name": "stdout",
     "output_type": "stream",
     "text": [
      "Start date:  2010-12-01\n",
      "End date:  2011-12-09\n"
     ]
    }
   ],
   "source": [
    "print(\"Start date: \", clv_data['InvoiceDate'].dt.date.min())\n",
    "print(\"End date: \", clv_data['InvoiceDate'].dt.date.max())"
   ]
  },
  {
   "cell_type": "code",
   "execution_count": 23,
   "metadata": {},
   "outputs": [
    {
     "data": {
      "image/png": "[encoded data removed]",
      "text/plain": [
       "<Figure size 576x288 with 1 Axes>"
      ]
     },
     "metadata": {
      "needs_background": "light"
     },
     "output_type": "display_data"
    }
   ],
   "source": [
    "plt.figure(figsize=(8,4))\n",
    "clv_data.groupby('InvoiceDate')['Country'].count().plot(color=color)\n",
    "plt.ylabel('total number of transactions');"
   ]
  },
  {
   "cell_type": "markdown",
   "metadata": {},
   "source": [
    "**Observation**: Either the increase from 2011-09 is from added customers, or the model could run into problems with the prediction ..."
   ]
  },
  {
   "cell_type": "markdown",
   "metadata": {},
   "source": [
    "### Customers"
   ]
  },
  {
   "cell_type": "code",
   "execution_count": 24,
   "metadata": {},
   "outputs": [
    {
     "name": "stdout",
     "output_type": "stream",
     "text": [
      "<class 'pandas.core.frame.DataFrame'>\n",
      "Int64Index: 4338 entries, 12346 to 18287\n",
      "Data columns (total 8 columns):\n",
      "first_date    4338 non-null datetime64[ns]\n",
      "last_date     4338 non-null datetime64[ns]\n",
      "T             4338 non-null int64\n",
      "frequency     4338 non-null int64\n",
      "recency       4338 non-null int64\n",
      "Sales         4338 non-null float64\n",
      "avg_freq      4338 non-null float64\n",
      "sleeping      4338 non-null int64\n",
      "dtypes: datetime64[ns](2), float64(2), int64(4)\n",
      "memory usage: 305.0 KB\n"
     ]
    }
   ],
   "source": [
    "customers_data.info()"
   ]
  },
  {
   "cell_type": "code",
   "execution_count": 25,
   "metadata": {},
   "outputs": [
    {
     "data": {
      "image/png": "[encoded data removed]",
      "text/plain": [
       "<Figure size 1152x1152 with 6 Axes>"
      ]
     },
     "metadata": {
      "needs_background": "light"
     },
     "output_type": "display_data"
    }
   ],
   "source": [
    "EDA.plot_num_hist(customers_data)"
   ]
  },
  {
   "cell_type": "code",
   "execution_count": 26,
   "metadata": {},
   "outputs": [
    {
     "name": "stdout",
     "output_type": "stream",
     "text": [
      "prop of customers without repeat purchase:  0.357\n"
     ]
    }
   ],
   "source": [
    "print(\"prop of customers without repeat purchase: \", \\\n",
    "      round(customers_data['frequency'].value_counts()[0]/len(customers_data),3))"
   ]
  },
  {
   "cell_type": "markdown",
   "metadata": {},
   "source": [
    "**Observations:**\n",
    "- T: a steady influx of customers. A peak at the very start of the period (high T), this can also be seen in the period plot.\n",
    "- Frequency: highest share are 1 time buyers (ca. 35% of all)\n",
    "- Recency: a result of the two, lot's of 0 (no repeat), the rest is distributed evenly\n",
    "- avg_Freq: for those who buy repeated it is quite high, somewhere between 20 and 100 maybe\n",
    "- Sleeping: right skewed, so probably the older clients are more often repeat buyer than the younger ones (?)"
   ]
  },
  {
   "cell_type": "code",
   "execution_count": 27,
   "metadata": {},
   "outputs": [
    {
     "data": {
      "text/html": [
       "<div>\n",
       "<style scoped>\n",
       "    .dataframe tbody tr th:only-of-type {\n",
       "        vertical-align: middle;\n",
       "    }\n",
       "\n",
       "    .dataframe tbody tr th {\n",
       "        vertical-align: top;\n",
       "    }\n",
       "\n",
       "    .dataframe thead th {\n",
       "        text-align: right;\n",
       "    }\n",
       "</style>\n",
       "<table border=\"1\" class=\"dataframe\">\n",
       "  <thead>\n",
       "    <tr style=\"text-align: right;\">\n",
       "      <th></th>\n",
       "      <th>T</th>\n",
       "      <th>Sales</th>\n",
       "      <th>avg_freq</th>\n",
       "      <th>sleeping</th>\n",
       "    </tr>\n",
       "  </thead>\n",
       "  <tbody>\n",
       "    <tr>\n",
       "      <th>count</th>\n",
       "      <td>4338.000000</td>\n",
       "      <td>4338.000000</td>\n",
       "      <td>4338.000000</td>\n",
       "      <td>4338.000000</td>\n",
       "    </tr>\n",
       "    <tr>\n",
       "      <th>mean</th>\n",
       "      <td>222.831028</td>\n",
       "      <td>2054.266460</td>\n",
       "      <td>50.444675</td>\n",
       "      <td>92.059474</td>\n",
       "    </tr>\n",
       "    <tr>\n",
       "      <th>std</th>\n",
       "      <td>117.854570</td>\n",
       "      <td>8989.230441</td>\n",
       "      <td>65.241781</td>\n",
       "      <td>100.012264</td>\n",
       "    </tr>\n",
       "    <tr>\n",
       "      <th>min</th>\n",
       "      <td>0.000000</td>\n",
       "      <td>3.750000</td>\n",
       "      <td>0.000000</td>\n",
       "      <td>0.000000</td>\n",
       "    </tr>\n",
       "    <tr>\n",
       "      <th>25%</th>\n",
       "      <td>112.000000</td>\n",
       "      <td>307.415000</td>\n",
       "      <td>0.000000</td>\n",
       "      <td>17.000000</td>\n",
       "    </tr>\n",
       "    <tr>\n",
       "      <th>50%</th>\n",
       "      <td>248.000000</td>\n",
       "      <td>674.485000</td>\n",
       "      <td>31.000000</td>\n",
       "      <td>50.000000</td>\n",
       "    </tr>\n",
       "    <tr>\n",
       "      <th>75%</th>\n",
       "      <td>326.000000</td>\n",
       "      <td>1661.740000</td>\n",
       "      <td>73.000000</td>\n",
       "      <td>141.750000</td>\n",
       "    </tr>\n",
       "    <tr>\n",
       "      <th>max</th>\n",
       "      <td>373.000000</td>\n",
       "      <td>280206.020000</td>\n",
       "      <td>366.000000</td>\n",
       "      <td>373.000000</td>\n",
       "    </tr>\n",
       "  </tbody>\n",
       "</table>\n",
       "</div>"
      ],
      "text/plain": [
       "                 T          Sales     avg_freq     sleeping\n",
       "count  4338.000000    4338.000000  4338.000000  4338.000000\n",
       "mean    222.831028    2054.266460    50.444675    92.059474\n",
       "std     117.854570    8989.230441    65.241781   100.012264\n",
       "min       0.000000       3.750000     0.000000     0.000000\n",
       "25%     112.000000     307.415000     0.000000    17.000000\n",
       "50%     248.000000     674.485000    31.000000    50.000000\n",
       "75%     326.000000    1661.740000    73.000000   141.750000\n",
       "max     373.000000  280206.020000   366.000000   373.000000"
      ]
     },
     "execution_count": 27,
     "metadata": {},
     "output_type": "execute_result"
    }
   ],
   "source": [
    "# stats for all customers\n",
    "customers_data[['T', 'Sales', 'avg_freq', 'sleeping']].describe()"
   ]
  },
  {
   "cell_type": "code",
   "execution_count": 28,
   "metadata": {},
   "outputs": [
    {
     "data": {
      "text/html": [
       "<div>\n",
       "<style scoped>\n",
       "    .dataframe tbody tr th:only-of-type {\n",
       "        vertical-align: middle;\n",
       "    }\n",
       "\n",
       "    .dataframe tbody tr th {\n",
       "        vertical-align: top;\n",
       "    }\n",
       "\n",
       "    .dataframe thead th {\n",
       "        text-align: right;\n",
       "    }\n",
       "</style>\n",
       "<table border=\"1\" class=\"dataframe\">\n",
       "  <thead>\n",
       "    <tr style=\"text-align: right;\">\n",
       "      <th></th>\n",
       "      <th>T</th>\n",
       "      <th>frequency</th>\n",
       "      <th>recency</th>\n",
       "      <th>Sales</th>\n",
       "      <th>avg_freq</th>\n",
       "      <th>sleeping</th>\n",
       "    </tr>\n",
       "  </thead>\n",
       "  <tbody>\n",
       "    <tr>\n",
       "      <th>count</th>\n",
       "      <td>2790.000000</td>\n",
       "      <td>2790.000000</td>\n",
       "      <td>2790.000000</td>\n",
       "      <td>2790.000000</td>\n",
       "      <td>2790.000000</td>\n",
       "      <td>2790.000000</td>\n",
       "    </tr>\n",
       "    <tr>\n",
       "      <th>mean</th>\n",
       "      <td>260.120789</td>\n",
       "      <td>4.453405</td>\n",
       "      <td>203.328674</td>\n",
       "      <td>2941.457449</td>\n",
       "      <td>78.433333</td>\n",
       "      <td>56.792115</td>\n",
       "    </tr>\n",
       "    <tr>\n",
       "      <th>std</th>\n",
       "      <td>101.480175</td>\n",
       "      <td>6.924876</td>\n",
       "      <td>111.459556</td>\n",
       "      <td>10981.338571</td>\n",
       "      <td>66.505423</td>\n",
       "      <td>68.299126</td>\n",
       "    </tr>\n",
       "    <tr>\n",
       "      <th>min</th>\n",
       "      <td>9.000000</td>\n",
       "      <td>1.000000</td>\n",
       "      <td>1.000000</td>\n",
       "      <td>6.900000</td>\n",
       "      <td>1.000000</td>\n",
       "      <td>0.000000</td>\n",
       "    </tr>\n",
       "    <tr>\n",
       "      <th>25%</th>\n",
       "      <td>197.250000</td>\n",
       "      <td>1.000000</td>\n",
       "      <td>106.000000</td>\n",
       "      <td>628.912500</td>\n",
       "      <td>34.000000</td>\n",
       "      <td>10.000000</td>\n",
       "    </tr>\n",
       "    <tr>\n",
       "      <th>50%</th>\n",
       "      <td>284.000000</td>\n",
       "      <td>3.000000</td>\n",
       "      <td>211.000000</td>\n",
       "      <td>1192.930000</td>\n",
       "      <td>59.000000</td>\n",
       "      <td>29.000000</td>\n",
       "    </tr>\n",
       "    <tr>\n",
       "      <th>75%</th>\n",
       "      <td>358.000000</td>\n",
       "      <td>5.000000</td>\n",
       "      <td>301.750000</td>\n",
       "      <td>2474.305000</td>\n",
       "      <td>99.000000</td>\n",
       "      <td>73.000000</td>\n",
       "    </tr>\n",
       "    <tr>\n",
       "      <th>max</th>\n",
       "      <td>373.000000</td>\n",
       "      <td>131.000000</td>\n",
       "      <td>373.000000</td>\n",
       "      <td>280206.020000</td>\n",
       "      <td>366.000000</td>\n",
       "      <td>372.000000</td>\n",
       "    </tr>\n",
       "  </tbody>\n",
       "</table>\n",
       "</div>"
      ],
      "text/plain": [
       "                 T    frequency      recency          Sales     avg_freq  \\\n",
       "count  2790.000000  2790.000000  2790.000000    2790.000000  2790.000000   \n",
       "mean    260.120789     4.453405   203.328674    2941.457449    78.433333   \n",
       "std     101.480175     6.924876   111.459556   10981.338571    66.505423   \n",
       "min       9.000000     1.000000     1.000000       6.900000     1.000000   \n",
       "25%     197.250000     1.000000   106.000000     628.912500    34.000000   \n",
       "50%     284.000000     3.000000   211.000000    1192.930000    59.000000   \n",
       "75%     358.000000     5.000000   301.750000    2474.305000    99.000000   \n",
       "max     373.000000   131.000000   373.000000  280206.020000   366.000000   \n",
       "\n",
       "          sleeping  \n",
       "count  2790.000000  \n",
       "mean     56.792115  \n",
       "std      68.299126  \n",
       "min       0.000000  \n",
       "25%      10.000000  \n",
       "50%      29.000000  \n",
       "75%      73.000000  \n",
       "max     372.000000  "
      ]
     },
     "execution_count": 28,
     "metadata": {},
     "output_type": "execute_result"
    }
   ],
   "source": [
    "# stats for repeat buyers\n",
    "customers_data.loc[customers_data['frequency'] != 0].describe()"
   ]
  },
  {
   "cell_type": "markdown",
   "metadata": {},
   "source": [
    "**Observations (repeat buyers):**\n",
    "- about 4 purchases on average\n",
    "- about 60 days between purchases\n",
    "- about 1200 in sales on median (roughly double to total)\n",
    "- sleeping since 30-50 days on average / median (roughly half of total)"
   ]
  },
  {
   "cell_type": "code",
   "execution_count": 29,
   "metadata": {},
   "outputs": [
    {
     "name": "stdout",
     "output_type": "stream",
     "text": [
      "('first_date', 'rebeccapurple')\n",
      "('last_date', 'yellow')\n"
     ]
    },
    {
     "data": {
      "image/png": "[encoded data removed]",
      "text/plain": [
       "<Figure size 576x288 with 1 Axes>"
      ]
     },
     "metadata": {
      "needs_background": "light"
     },
     "output_type": "display_data"
    }
   ],
   "source": [
    "# visualize first and last events over time\n",
    "customers_dt = customers_data.select_dtypes(include='datetime')\n",
    "colors = [color, 'yellow']\n",
    "leg = zip(customers_dt.columns, colors)\n",
    "plt.figure(figsize=(8,4))\n",
    "\n",
    "for i in leg:\n",
    "    print(i)\n",
    "\n",
    "for n, col in enumerate(customers_dt):\n",
    "    customers_dt_grouped = customers_dt.groupby(col).count()\n",
    "    plt.plot(customers_dt_grouped, color=colors[n]);"
   ]
  },
  {
   "cell_type": "code",
   "execution_count": 30,
   "metadata": {},
   "outputs": [
    {
     "data": {
      "image/png": "[encoded data removed]",
      "text/plain": [
       "<Figure size 720x432 with 2 Axes>"
      ]
     },
     "metadata": {
      "needs_background": "light"
     },
     "output_type": "display_data"
    }
   ],
   "source": [
    "EDA.plot_num_corrMap(customers_data, figsize=(10,6))"
   ]
  },
  {
   "cell_type": "markdown",
   "metadata": {},
   "source": [
    "### Purchases\n",
    "\n",
    "All separate transactions for one customer in one day are considered one purchase."
   ]
  },
  {
   "cell_type": "code",
   "execution_count": 51,
   "metadata": {},
   "outputs": [
    {
     "name": "stdout",
     "output_type": "stream",
     "text": [
      "total number of purchases:  16763\n"
     ]
    },
    {
     "data": {
      "text/html": [
       "<div>\n",
       "<style scoped>\n",
       "    .dataframe tbody tr th:only-of-type {\n",
       "        vertical-align: middle;\n",
       "    }\n",
       "\n",
       "    .dataframe tbody tr th {\n",
       "        vertical-align: top;\n",
       "    }\n",
       "\n",
       "    .dataframe thead th {\n",
       "        text-align: right;\n",
       "    }\n",
       "</style>\n",
       "<table border=\"1\" class=\"dataframe\">\n",
       "  <thead>\n",
       "    <tr style=\"text-align: right;\">\n",
       "      <th></th>\n",
       "      <th></th>\n",
       "      <th>Sales</th>\n",
       "    </tr>\n",
       "    <tr>\n",
       "      <th>CustomerID</th>\n",
       "      <th>InvoiceDate</th>\n",
       "      <th></th>\n",
       "    </tr>\n",
       "  </thead>\n",
       "  <tbody>\n",
       "    <tr>\n",
       "      <th>12346</th>\n",
       "      <th>2011-01-18</th>\n",
       "      <td>77183.60</td>\n",
       "    </tr>\n",
       "    <tr>\n",
       "      <th rowspan=\"4\" valign=\"top\">12347</th>\n",
       "      <th>2010-12-07</th>\n",
       "      <td>711.79</td>\n",
       "    </tr>\n",
       "    <tr>\n",
       "      <th>2011-01-26</th>\n",
       "      <td>475.39</td>\n",
       "    </tr>\n",
       "    <tr>\n",
       "      <th>2011-04-07</th>\n",
       "      <td>636.25</td>\n",
       "    </tr>\n",
       "    <tr>\n",
       "      <th>2011-06-09</th>\n",
       "      <td>382.52</td>\n",
       "    </tr>\n",
       "  </tbody>\n",
       "</table>\n",
       "</div>"
      ],
      "text/plain": [
       "                           Sales\n",
       "CustomerID InvoiceDate          \n",
       "12346      2011-01-18   77183.60\n",
       "12347      2010-12-07     711.79\n",
       "           2011-01-26     475.39\n",
       "           2011-04-07     636.25\n",
       "           2011-06-09     382.52"
      ]
     },
     "metadata": {},
     "output_type": "display_data"
    }
   ],
   "source": [
    "purchases = pd.DataFrame(clv_data.groupby(['CustomerID', 'InvoiceDate']).sum())\n",
    "purchases.drop(['Quantity', 'UnitPrice'], axis=1, inplace=True)\n",
    "\n",
    "#check results\n",
    "print(\"total number of purchases: \", purchases.shape[0])\n",
    "display(purchases.head())"
   ]
  },
  {
   "cell_type": "code",
   "execution_count": 61,
   "metadata": {},
   "outputs": [
    {
     "name": "stdout",
     "output_type": "stream",
     "text": [
      "Mean transaction value:  531.6117582771581\n",
      "Mean transaction value per customer:  458.1451031837687\n"
     ]
    },
    {
     "data": {
      "image/png": "[encoded data removed]",
      "text/plain": [
       "<Figure size 576x864 with 2 Axes>"
      ]
     },
     "metadata": {
      "needs_background": "light"
     },
     "output_type": "display_data"
    }
   ],
   "source": [
    "print(\"Mean transaction value: \",  np.mean(purchases['Sales'].values))\n",
    "print(\"Mean transaction value per customer: \", np.mean(purchases.groupby(['CustomerID'])['Sales'].mean()))\n",
    "\n",
    "\n",
    "plt.figure(figsize=(8,12))\n",
    "plt.subplot(2,1,1)\n",
    "sns.distplot(purchases['Sales'], color=color, bins=2000)\n",
    "plt.xlim(0, 2000)\n",
    "plt.title(\"Transaction values\",  size=12);\n",
    "\n",
    "plt.subplot(2,1,2)\n",
    "sns.distplot(purchases.groupby(['CustomerID'])['Sales'].mean(), \n",
    "             color=color, \n",
    "             bins=2000\n",
    "             )\n",
    "plt.xlim(0, 2000)\n",
    "plt.title(\"Mean transaction values per customer\", size=12);"
   ]
  },
  {
   "cell_type": "code",
   "execution_count": 42,
   "metadata": {},
   "outputs": [
    {
     "data": {
      "text/html": [
       "<div>\n",
       "<style scoped>\n",
       "    .dataframe tbody tr th:only-of-type {\n",
       "        vertical-align: middle;\n",
       "    }\n",
       "\n",
       "    .dataframe tbody tr th {\n",
       "        vertical-align: top;\n",
       "    }\n",
       "\n",
       "    .dataframe thead tr th {\n",
       "        text-align: left;\n",
       "    }\n",
       "\n",
       "    .dataframe thead tr:last-of-type th {\n",
       "        text-align: right;\n",
       "    }\n",
       "</style>\n",
       "<table border=\"1\" class=\"dataframe\">\n",
       "  <thead>\n",
       "    <tr>\n",
       "      <th></th>\n",
       "      <th>amount</th>\n",
       "    </tr>\n",
       "    <tr>\n",
       "      <th>CustomerID</th>\n",
       "      <th></th>\n",
       "    </tr>\n",
       "    <tr>\n",
       "      <th>InvoiceDate</th>\n",
       "      <th></th>\n",
       "    </tr>\n",
       "  </thead>\n",
       "  <tbody>\n",
       "    <tr>\n",
       "      <th>2010-12-01</th>\n",
       "      <td>95</td>\n",
       "    </tr>\n",
       "    <tr>\n",
       "      <th>2010-12-02</th>\n",
       "      <td>99</td>\n",
       "    </tr>\n",
       "    <tr>\n",
       "      <th>2010-12-03</th>\n",
       "      <td>50</td>\n",
       "    </tr>\n",
       "    <tr>\n",
       "      <th>2010-12-05</th>\n",
       "      <td>75</td>\n",
       "    </tr>\n",
       "    <tr>\n",
       "      <th>2010-12-06</th>\n",
       "      <td>82</td>\n",
       "    </tr>\n",
       "  </tbody>\n",
       "</table>\n",
       "</div>"
      ],
      "text/plain": [
       "            amount\n",
       "CustomerID        \n",
       "InvoiceDate       \n",
       "2010-12-01      95\n",
       "2010-12-02      99\n",
       "2010-12-03      50\n",
       "2010-12-05      75\n",
       "2010-12-06      82"
      ]
     },
     "execution_count": 42,
     "metadata": {},
     "output_type": "execute_result"
    }
   ],
   "source": [
    "# count unique orders per day\n",
    "purchases = purchases.unstack(level='CustomerID')\n",
    "purchases['amount'] = purchases.count(axis=1)\n",
    "purchases_day = purchases[['amount']] \n",
    "\n",
    "# check result\n",
    "purchases_day.head()"
   ]
  },
  {
   "cell_type": "code",
   "execution_count": 43,
   "metadata": {},
   "outputs": [
    {
     "data": {
      "image/png": "[encoded data removed]",
      "text/plain": [
       "<Figure size 576x288 with 1 Axes>"
      ]
     },
     "metadata": {
      "needs_background": "light"
     },
     "output_type": "display_data"
    }
   ],
   "source": [
    "plt.figure(figsize=(8,4))\n",
    "sns.lineplot(data=purchases['amount'], color=color)\n",
    "plt.ylabel('total number of purchases');"
   ]
  },
  {
   "cell_type": "markdown",
   "metadata": {},
   "source": [
    "**Observation:** Distribution is more or less the same as for the single transactions."
   ]
  },
  {
   "cell_type": "markdown",
   "metadata": {},
   "source": [
    "---"
   ]
  }
 ],
 "metadata": {
  "kernelspec": {
   "display_name": "Python [default]",
   "language": "python",
   "name": "python3"
  },
  "language_info": {
   "codemirror_mode": {
    "name": "ipython",
    "version": 3
   },
   "file_extension": ".py",
   "mimetype": "text/x-python",
   "name": "python",
   "nbconvert_exporter": "python",
   "pygments_lexer": "ipython3",
   "version": "3.6.3"
  }
 },
 "nbformat": 4,
 "nbformat_minor": 2
}
