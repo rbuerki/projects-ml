{
 "cells": [
  {
   "cell_type": "markdown",
   "metadata": {},
   "source": [
    "# Association Rules Mining with MLxtend_library\n",
    "\n",
    "Association analysis using the apriori algorithm and the MLxtend library on a large real-world dataset. It had to be reduced to approx. 2'900 most frequent products occuring in 142'000 transactions. As can be seen it is a heavy longtail-business.\n",
    "\n",
    "The generation of the frequent itemsets took 2h on my laptop.\n",
    "\n",
    "- [MLxtend documentation example](http://rasbt.github.io/mlxtend/user_guide/frequent_patterns/apriori/) for generation of frequent item sets with Apriori algorithm\n",
    "- [MLxtend documentation example](http://rasbt.github.io/mlxtend/user_guide/frequent_patterns/association_rules/) for Association Rules\n",
    "\n",
    "\n",
    "**Data Sources:**\n",
    "\n",
    "- `data/raw/sales_total.csv`: real transaction dataset for a B2B retailer.\n",
    "\n",
    "**Changes**\n",
    "\n",
    "- 2019-07-07: Start notebook\n",
    "- 2019-07-10: Finish notebook\n"
   ]
  },
  {
   "cell_type": "markdown",
   "metadata": {
    "toc": true
   },
   "source": [
    "<h1>Table of Contents<span class=\"tocSkip\"></span></h1>\n",
    "<div class=\"toc\"><ul class=\"toc-item\"><li><span><a href=\"#Import-libraries,-load-data\" data-toc-modified-id=\"Import-libraries,-load-data-1\"><span class=\"toc-item-num\">1&nbsp;&nbsp;</span>Import libraries, load data</a></span></li><li><span><a href=\"#Prepare-basic-data-structure\" data-toc-modified-id=\"Prepare-basic-data-structure-2\"><span class=\"toc-item-num\">2&nbsp;&nbsp;</span>Prepare basic data structure</a></span></li><li><span><a href=\"#Get-frequent-itemsets-with-Apriori-algorithm\" data-toc-modified-id=\"Get-frequent-itemsets-with-Apriori-algorithm-3\"><span class=\"toc-item-num\">3&nbsp;&nbsp;</span>Get frequent itemsets with Apriori algorithm</a></span></li><li><span><a href=\"#Generate-Association-Rules\" data-toc-modified-id=\"Generate-Association-Rules-4\"><span class=\"toc-item-num\">4&nbsp;&nbsp;</span>Generate Association Rules</a></span></li></ul></div>"
   ]
  },
  {
   "cell_type": "markdown",
   "metadata": {},
   "source": [
    "---"
   ]
  },
  {
   "cell_type": "markdown",
   "metadata": {},
   "source": [
    "## Import libraries, load data"
   ]
  },
  {
   "cell_type": "code",
   "execution_count": 1,
   "metadata": {
    "ExecuteTime": {
     "end_time": "2019-07-10T09:48:00.938701Z",
     "start_time": "2019-07-10T09:47:59.767090Z"
    }
   },
   "outputs": [],
   "source": [
    "# Import libraries\n",
    "import numpy as np\n",
    "import pandas as pd\n",
    "from tqdm import tqdm\n",
    "\n",
    "# Specials\n",
    "from mlxtend.frequent_patterns import apriori\n",
    "from mlxtend.frequent_patterns import association_rules\n",
    "from mlxtend.preprocessing import TransactionEncoder\n",
    "\n",
    "# My functions\n",
    "import EDA_functions as EDA\n",
    "import cleaning_functions as cleaning\n",
    "\n",
    "# Visualization\n",
    "import matplotlib.pyplot as plt\n",
    "import seaborn as sns \n",
    "# sns.set_style('whitegrid')\n",
    "color = 'rebeccapurple'\n",
    "%matplotlib inline\n",
    "\n",
    "# Display settings\n",
    "from IPython.display import display\n",
    "pd.options.display.max_columns = 100\n",
    "pd.options.display.max_rows = 100"
   ]
  },
  {
   "cell_type": "code",
   "execution_count": 2,
   "metadata": {
    "ExecuteTime": {
     "end_time": "2019-07-10T09:48:06.960088Z",
     "start_time": "2019-07-10T09:48:00.938701Z"
    }
   },
   "outputs": [],
   "source": [
    "# Load data\n",
    "transactions_raw = pd.read_csv('data/raw/sales_total.csv', parse_dates=['Fakturadatum'])"
   ]
  },
  {
   "cell_type": "markdown",
   "metadata": {},
   "source": [
    "## Prepare basic data structure\n",
    "\n",
    "**IMPORTANT:** Using MLxtnd this analysis requires that all the data for a transaction be included in 1 row and the items should be 1-hot encoded."
   ]
  },
  {
   "cell_type": "code",
   "execution_count": 3,
   "metadata": {
    "ExecuteTime": {
     "end_time": "2019-07-10T09:48:06.980392Z",
     "start_time": "2019-07-10T09:48:06.960088Z"
    }
   },
   "outputs": [
    {
     "name": "stdout",
     "output_type": "stream",
     "text": [
      "<class 'pandas.core.frame.DataFrame'>\n",
      "RangeIndex: 2835054 entries, 0 to 2835053\n",
      "Data columns (total 12 columns):\n",
      "Kunde           int64\n",
      "Fakturadatum    datetime64[ns]\n",
      "Faktura         int64\n",
      "Pos             int64\n",
      "Artikel         object\n",
      "Unit Price      float64\n",
      "pro             int64\n",
      "ME              object\n",
      "Menge           float64\n",
      "ME.1            object\n",
      "Nettowert       float64\n",
      "Währg           object\n",
      "dtypes: datetime64[ns](1), float64(3), int64(4), object(4)\n",
      "memory usage: 259.6+ MB\n"
     ]
    }
   ],
   "source": [
    "transactions_raw.info()"
   ]
  },
  {
   "cell_type": "code",
   "execution_count": 4,
   "metadata": {
    "ExecuteTime": {
     "end_time": "2019-07-10T09:48:07.205537Z",
     "start_time": "2019-07-10T09:48:06.980392Z"
    }
   },
   "outputs": [
    {
     "data": {
      "text/html": [
       "<div>\n",
       "<style scoped>\n",
       "    .dataframe tbody tr th:only-of-type {\n",
       "        vertical-align: middle;\n",
       "    }\n",
       "\n",
       "    .dataframe tbody tr th {\n",
       "        vertical-align: top;\n",
       "    }\n",
       "\n",
       "    .dataframe thead th {\n",
       "        text-align: right;\n",
       "    }\n",
       "</style>\n",
       "<table border=\"1\" class=\"dataframe\">\n",
       "  <thead>\n",
       "    <tr style=\"text-align: right;\">\n",
       "      <th></th>\n",
       "      <th>Kunde</th>\n",
       "      <th>Fakturadatum</th>\n",
       "      <th>Faktura</th>\n",
       "      <th>Pos</th>\n",
       "      <th>Artikel</th>\n",
       "      <th>Unit Price</th>\n",
       "      <th>pro</th>\n",
       "      <th>ME</th>\n",
       "      <th>Menge</th>\n",
       "      <th>ME.1</th>\n",
       "      <th>Nettowert</th>\n",
       "      <th>Währg</th>\n",
       "    </tr>\n",
       "  </thead>\n",
       "  <tbody>\n",
       "    <tr>\n",
       "      <th>369240</th>\n",
       "      <td>8536051</td>\n",
       "      <td>2017-04-12</td>\n",
       "      <td>91620470</td>\n",
       "      <td>6</td>\n",
       "      <td>9150641</td>\n",
       "      <td>4.65</td>\n",
       "      <td>1</td>\n",
       "      <td>SE</td>\n",
       "      <td>1.0</td>\n",
       "      <td>ST</td>\n",
       "      <td>4.65</td>\n",
       "      <td>CHF</td>\n",
       "    </tr>\n",
       "    <tr>\n",
       "      <th>1418248</th>\n",
       "      <td>8086528</td>\n",
       "      <td>2018-01-15</td>\n",
       "      <td>91930541</td>\n",
       "      <td>3</td>\n",
       "      <td>6710417</td>\n",
       "      <td>41.50</td>\n",
       "      <td>1</td>\n",
       "      <td>ST</td>\n",
       "      <td>7.0</td>\n",
       "      <td>ST</td>\n",
       "      <td>290.50</td>\n",
       "      <td>CHF</td>\n",
       "    </tr>\n",
       "  </tbody>\n",
       "</table>\n",
       "</div>"
      ],
      "text/plain": [
       "           Kunde Fakturadatum   Faktura  Pos  Artikel  Unit Price  pro  ME  \\\n",
       "369240   8536051   2017-04-12  91620470    6  9150641        4.65    1  SE   \n",
       "1418248  8086528   2018-01-15  91930541    3  6710417       41.50    1  ST   \n",
       "\n",
       "         Menge ME.1  Nettowert Währg  \n",
       "369240     1.0   ST       4.65   CHF  \n",
       "1418248    7.0   ST     290.50   CHF  "
      ]
     },
     "execution_count": 4,
     "metadata": {},
     "output_type": "execute_result"
    }
   ],
   "source": [
    "transactions_raw.sample(2)"
   ]
  },
  {
   "cell_type": "code",
   "execution_count": 5,
   "metadata": {
    "ExecuteTime": {
     "end_time": "2019-07-10T09:48:07.804175Z",
     "start_time": "2019-07-10T09:48:07.205537Z"
    }
   },
   "outputs": [
    {
     "name": "stdout",
     "output_type": "stream",
     "text": [
      "Number of positions: 1446429\n",
      "Number of unique products: 74126\n"
     ]
    }
   ],
   "source": [
    "# Subset for 2018 data only\n",
    "transactions_18_full = transactions_raw.loc[transactions_raw['Fakturadatum'].dt.year == 2018]\n",
    "transactions_18_full = transactions_18_full[['Kunde', 'Fakturadatum', 'Artikel', 'Nettowert']]\n",
    "\n",
    "# Check results\n",
    "print(\"Number of positions:\", len(transactions_18_full))\n",
    "print(\"Number of unique products:\", transactions_18_full['Artikel'].nunique())"
   ]
  },
  {
   "cell_type": "code",
   "execution_count": 6,
   "metadata": {
    "ExecuteTime": {
     "end_time": "2019-07-10T09:48:08.377900Z",
     "start_time": "2019-07-10T09:48:07.808073Z"
    }
   },
   "outputs": [
    {
     "data": {
      "text/html": [
       "<div>\n",
       "<style scoped>\n",
       "    .dataframe tbody tr th:only-of-type {\n",
       "        vertical-align: middle;\n",
       "    }\n",
       "\n",
       "    .dataframe tbody tr th {\n",
       "        vertical-align: top;\n",
       "    }\n",
       "\n",
       "    .dataframe thead th {\n",
       "        text-align: right;\n",
       "    }\n",
       "</style>\n",
       "<table border=\"1\" class=\"dataframe\">\n",
       "  <thead>\n",
       "    <tr style=\"text-align: right;\">\n",
       "      <th></th>\n",
       "      <th>Artikel</th>\n",
       "      <th>Count</th>\n",
       "      <th>Nettowert</th>\n",
       "    </tr>\n",
       "  </thead>\n",
       "  <tbody>\n",
       "    <tr>\n",
       "      <th>0</th>\n",
       "      <td>6113401</td>\n",
       "      <td>4865</td>\n",
       "      <td>560214.81</td>\n",
       "    </tr>\n",
       "    <tr>\n",
       "      <th>1</th>\n",
       "      <td>6115230</td>\n",
       "      <td>3146</td>\n",
       "      <td>146084.18</td>\n",
       "    </tr>\n",
       "    <tr>\n",
       "      <th>2</th>\n",
       "      <td>5344305</td>\n",
       "      <td>2752</td>\n",
       "      <td>467518.60</td>\n",
       "    </tr>\n",
       "    <tr>\n",
       "      <th>3</th>\n",
       "      <td>ABLAENG</td>\n",
       "      <td>2749</td>\n",
       "      <td>14969.26</td>\n",
       "    </tr>\n",
       "    <tr>\n",
       "      <th>4</th>\n",
       "      <td>5059001</td>\n",
       "      <td>2190</td>\n",
       "      <td>89111.30</td>\n",
       "    </tr>\n",
       "    <tr>\n",
       "      <th>5</th>\n",
       "      <td>6603161</td>\n",
       "      <td>2181</td>\n",
       "      <td>126751.16</td>\n",
       "    </tr>\n",
       "    <tr>\n",
       "      <th>6</th>\n",
       "      <td>8600103</td>\n",
       "      <td>2048</td>\n",
       "      <td>97509.20</td>\n",
       "    </tr>\n",
       "    <tr>\n",
       "      <th>7</th>\n",
       "      <td>6115231</td>\n",
       "      <td>2029</td>\n",
       "      <td>101843.70</td>\n",
       "    </tr>\n",
       "    <tr>\n",
       "      <th>8</th>\n",
       "      <td>5343715</td>\n",
       "      <td>1901</td>\n",
       "      <td>223060.40</td>\n",
       "    </tr>\n",
       "    <tr>\n",
       "      <th>9</th>\n",
       "      <td>4110013</td>\n",
       "      <td>1840</td>\n",
       "      <td>144665.71</td>\n",
       "    </tr>\n",
       "    <tr>\n",
       "      <th>10</th>\n",
       "      <td>6710404</td>\n",
       "      <td>1816</td>\n",
       "      <td>195212.68</td>\n",
       "    </tr>\n",
       "    <tr>\n",
       "      <th>11</th>\n",
       "      <td>5343970</td>\n",
       "      <td>1730</td>\n",
       "      <td>715140.78</td>\n",
       "    </tr>\n",
       "    <tr>\n",
       "      <th>12</th>\n",
       "      <td>6710403</td>\n",
       "      <td>1701</td>\n",
       "      <td>169906.88</td>\n",
       "    </tr>\n",
       "    <tr>\n",
       "      <th>13</th>\n",
       "      <td>8641501</td>\n",
       "      <td>1676</td>\n",
       "      <td>90579.34</td>\n",
       "    </tr>\n",
       "    <tr>\n",
       "      <th>14</th>\n",
       "      <td>4110124</td>\n",
       "      <td>1605</td>\n",
       "      <td>123428.01</td>\n",
       "    </tr>\n",
       "    <tr>\n",
       "      <th>15</th>\n",
       "      <td>4110123</td>\n",
       "      <td>1595</td>\n",
       "      <td>144178.44</td>\n",
       "    </tr>\n",
       "    <tr>\n",
       "      <th>16</th>\n",
       "      <td>8629301</td>\n",
       "      <td>1593</td>\n",
       "      <td>132999.15</td>\n",
       "    </tr>\n",
       "    <tr>\n",
       "      <th>17</th>\n",
       "      <td>6100632</td>\n",
       "      <td>1586</td>\n",
       "      <td>101856.81</td>\n",
       "    </tr>\n",
       "    <tr>\n",
       "      <th>18</th>\n",
       "      <td>6115020</td>\n",
       "      <td>1527</td>\n",
       "      <td>156795.40</td>\n",
       "    </tr>\n",
       "    <tr>\n",
       "      <th>19</th>\n",
       "      <td>6602001</td>\n",
       "      <td>1500</td>\n",
       "      <td>696628.25</td>\n",
       "    </tr>\n",
       "  </tbody>\n",
       "</table>\n",
       "</div>"
      ],
      "text/plain": [
       "    Artikel  Count  Nettowert\n",
       "0   6113401   4865  560214.81\n",
       "1   6115230   3146  146084.18\n",
       "2   5344305   2752  467518.60\n",
       "3   ABLAENG   2749   14969.26\n",
       "4   5059001   2190   89111.30\n",
       "5   6603161   2181  126751.16\n",
       "6   8600103   2048   97509.20\n",
       "7   6115231   2029  101843.70\n",
       "8   5343715   1901  223060.40\n",
       "9   4110013   1840  144665.71\n",
       "10  6710404   1816  195212.68\n",
       "11  5343970   1730  715140.78\n",
       "12  6710403   1701  169906.88\n",
       "13  8641501   1676   90579.34\n",
       "14  4110124   1605  123428.01\n",
       "15  4110123   1595  144178.44\n",
       "16  8629301   1593  132999.15\n",
       "17  6100632   1586  101856.81\n",
       "18  6115020   1527  156795.40\n",
       "19  6602001   1500  696628.25"
      ]
     },
     "metadata": {},
     "output_type": "display_data"
    },
    {
     "name": "stdout",
     "output_type": "stream",
     "text": [
      "Number of artikel with count of > 100: 2898\n"
     ]
    }
   ],
   "source": [
    "\"\"\"Check distribution of artikel counts\"\"\"\n",
    "\n",
    "artikel_18_agg = pd.DataFrame(transactions_18_full.groupby('Artikel').agg(\n",
    "        {'Kunde' : 'count', 'Nettowert' : 'sum'}\n",
    "        ).sort_values('Kunde', ascending=False).reset_index())\n",
    "\n",
    "artikel_18_agg.columns = ['Artikel', 'Count', 'Nettowert']\n",
    "                              \n",
    "# Check results\n",
    "display(artikel_18_agg.head(20))\n",
    "\n",
    "print(\"Number of artikel with count of > 100:\",\n",
    "      len(artikel_18_agg.loc[artikel_18_agg['Count'] > 100]))"
   ]
  },
  {
   "cell_type": "code",
   "execution_count": 7,
   "metadata": {
    "ExecuteTime": {
     "end_time": "2019-07-10T09:48:08.405853Z",
     "start_time": "2019-07-10T09:48:08.385880Z"
    }
   },
   "outputs": [
    {
     "data": {
      "text/plain": [
       "['6113401', '6115230', '5344305']"
      ]
     },
     "execution_count": 7,
     "metadata": {},
     "output_type": "execute_result"
    }
   ],
   "source": [
    "\"\"\"Subset data with products with count > 100 only\"\"\"\n",
    "\n",
    "top_list = artikel_18_agg.loc[artikel_18_agg['Count'] > 100, ]['Artikel'].to_list()\n",
    "\n",
    "# Check results\n",
    "top_list[:3]"
   ]
  },
  {
   "cell_type": "code",
   "execution_count": 8,
   "metadata": {
    "ExecuteTime": {
     "end_time": "2019-07-10T09:48:08.899771Z",
     "start_time": "2019-07-10T09:48:08.405853Z"
    }
   },
   "outputs": [
    {
     "name": "stdout",
     "output_type": "stream",
     "text": [
      "2898\n"
     ]
    }
   ],
   "source": [
    "transactions_18_top = transactions_18_full.loc[transactions_18_full['Artikel'].isin(top_list)]\n",
    "assert transactions_18_top['Artikel'].nunique() == len(top_list)\n",
    "print(len(top_list))"
   ]
  },
  {
   "cell_type": "code",
   "execution_count": 9,
   "metadata": {
    "ExecuteTime": {
     "end_time": "2019-07-10T09:48:43.923529Z",
     "start_time": "2019-07-10T09:48:08.899771Z"
    }
   },
   "outputs": [
    {
     "name": "stdout",
     "output_type": "stream",
     "text": [
      "Unique artikel before cleaning: 2898\n"
     ]
    },
    {
     "name": "stderr",
     "output_type": "stream",
     "text": [
      "C:\\Users\\r2d4\\Anaconda3\\lib\\site-packages\\ipykernel_launcher.py:5: SettingWithCopyWarning: \n",
      "A value is trying to be set on a copy of a slice from a DataFrame.\n",
      "Try using .loc[row_indexer,col_indexer] = value instead\n",
      "\n",
      "See the caveats in the documentation: http://pandas.pydata.org/pandas-docs/stable/indexing.html#indexing-view-versus-copy\n",
      "  \"\"\"\n",
      "C:\\Users\\r2d4\\Anaconda3\\lib\\site-packages\\pandas\\core\\frame.py:3940: SettingWithCopyWarning: \n",
      "A value is trying to be set on a copy of a slice from a DataFrame\n",
      "\n",
      "See the caveats in the documentation: http://pandas.pydata.org/pandas-docs/stable/indexing.html#indexing-view-versus-copy\n",
      "  errors=errors)\n"
     ]
    },
    {
     "name": "stdout",
     "output_type": "stream",
     "text": [
      "Unique artikel after cleaning: 2871\n",
      "\n",
      "\n",
      "Unique customers before cleaning: 14734\n",
      "Unique customers before cleaning: 14279\n"
     ]
    }
   ],
   "source": [
    "\"\"\"Clean and re-formate data\"\"\"\n",
    "\n",
    "# Kick out all artikel that contain str values in their code\n",
    "print(\"Unique artikel before cleaning:\", transactions_18_top['Artikel'].nunique())\n",
    "transactions_18_top['num'] = pd.to_numeric(transactions_18_top['Artikel'], errors='coerce')\n",
    "transactions_18 = transactions_18_top.dropna(how='any')\n",
    "transactions_18.drop(['num'], axis=1, inplace=True)\n",
    "print(\"Unique artikel after cleaning:\", transactions_18['Artikel'].nunique())\n",
    "print(\"\\n\")\n",
    "\n",
    "# Kick-out special customers\n",
    "transactions_18 = transactions_18.loc[transactions_18['Kunde'] > 700000]\n",
    "print(\"Unique customers before cleaning:\", transactions_18_top['Kunde'].nunique())\n",
    "print(\"Unique customers before cleaning:\", transactions_18['Kunde'].nunique())\n",
    "\n",
    "# Groupby day & customer\n",
    "transactions_18_grouped = pd.DataFrame(transactions_18.groupby(\n",
    "        ['Kunde', 'Fakturadatum'])['Artikel'].unique())\n",
    "transactions = transactions_18_grouped.reset_index(drop=True)"
   ]
  },
  {
   "cell_type": "code",
   "execution_count": 10,
   "metadata": {
    "ExecuteTime": {
     "end_time": "2019-07-10T09:48:43.938095Z",
     "start_time": "2019-07-10T09:48:43.923529Z"
    }
   },
   "outputs": [
    {
     "name": "stdout",
     "output_type": "stream",
     "text": [
      "Number of transactions: 142257\n"
     ]
    },
    {
     "data": {
      "text/html": [
       "<div>\n",
       "<style scoped>\n",
       "    .dataframe tbody tr th:only-of-type {\n",
       "        vertical-align: middle;\n",
       "    }\n",
       "\n",
       "    .dataframe tbody tr th {\n",
       "        vertical-align: top;\n",
       "    }\n",
       "\n",
       "    .dataframe thead th {\n",
       "        text-align: right;\n",
       "    }\n",
       "</style>\n",
       "<table border=\"1\" class=\"dataframe\">\n",
       "  <thead>\n",
       "    <tr style=\"text-align: right;\">\n",
       "      <th></th>\n",
       "      <th>Artikel</th>\n",
       "    </tr>\n",
       "  </thead>\n",
       "  <tbody>\n",
       "    <tr>\n",
       "      <th>0</th>\n",
       "      <td>[4100130, 5074008, 5250501, 2181201, 6436018]</td>\n",
       "    </tr>\n",
       "    <tr>\n",
       "      <th>1</th>\n",
       "      <td>[6436018, 6299907, 6161712]</td>\n",
       "    </tr>\n",
       "    <tr>\n",
       "      <th>2</th>\n",
       "      <td>[4921011, 2550805, 6204426, 6115765, 6216191, ...</td>\n",
       "    </tr>\n",
       "    <tr>\n",
       "      <th>3</th>\n",
       "      <td>[6634351, 8621604, 6115232, 6204326, 6204426, ...</td>\n",
       "    </tr>\n",
       "    <tr>\n",
       "      <th>4</th>\n",
       "      <td>[2119634, 2310306, 6103861, 851403516, 6113401...</td>\n",
       "    </tr>\n",
       "  </tbody>\n",
       "</table>\n",
       "</div>"
      ],
      "text/plain": [
       "                                             Artikel\n",
       "0      [4100130, 5074008, 5250501, 2181201, 6436018]\n",
       "1                        [6436018, 6299907, 6161712]\n",
       "2  [4921011, 2550805, 6204426, 6115765, 6216191, ...\n",
       "3  [6634351, 8621604, 6115232, 6204326, 6204426, ...\n",
       "4  [2119634, 2310306, 6103861, 851403516, 6113401..."
      ]
     },
     "execution_count": 10,
     "metadata": {},
     "output_type": "execute_result"
    }
   ],
   "source": [
    "# Check results\n",
    "print(\"Number of transactions:\", len(transactions))\n",
    "transactions.head()"
   ]
  },
  {
   "cell_type": "code",
   "execution_count": 11,
   "metadata": {
    "ExecuteTime": {
     "end_time": "2019-07-10T09:48:44.224524Z",
     "start_time": "2019-07-10T09:48:43.938095Z"
    }
   },
   "outputs": [
    {
     "name": "stdout",
     "output_type": "stream",
     "text": [
      "1    47461\n",
      "2    25613\n",
      "3    16668\n",
      "4    11612\n",
      "5     8303\n",
      "Name: len, dtype: int64\n"
     ]
    },
    {
     "data": {
      "image/png": "[encoded data removed]",
      "text/plain": [
       "<Figure size 1152x288 with 1 Axes>"
      ]
     },
     "metadata": {
      "needs_background": "light"
     },
     "output_type": "display_data"
    }
   ],
   "source": [
    "\"\"\"Check distribution of number of unique Artikel per transaction\"\"\"\n",
    "\n",
    "transactions['len'] = transactions['Artikel'].apply(len)\n",
    "print(transactions['len'].value_counts().head(5))\n",
    "\n",
    "plt.figure(figsize=(16,4))\n",
    "plt.title(\"Distribution of number of unique Artikel per transaction\", size=14)\n",
    "sns.boxplot(transactions['len'], color=color, orient='h');"
   ]
  },
  {
   "cell_type": "markdown",
   "metadata": {},
   "source": [
    "**Findings:** About a third of transactions consist of only 1 product."
   ]
  },
  {
   "cell_type": "code",
   "execution_count": 12,
   "metadata": {
    "ExecuteTime": {
     "end_time": "2019-07-10T09:48:44.242948Z",
     "start_time": "2019-07-10T09:48:44.224524Z"
    }
   },
   "outputs": [
    {
     "data": {
      "text/html": [
       "<div>\n",
       "<style scoped>\n",
       "    .dataframe tbody tr th:only-of-type {\n",
       "        vertical-align: middle;\n",
       "    }\n",
       "\n",
       "    .dataframe tbody tr th {\n",
       "        vertical-align: top;\n",
       "    }\n",
       "\n",
       "    .dataframe thead th {\n",
       "        text-align: right;\n",
       "    }\n",
       "</style>\n",
       "<table border=\"1\" class=\"dataframe\">\n",
       "  <thead>\n",
       "    <tr style=\"text-align: right;\">\n",
       "      <th></th>\n",
       "      <th>Artikel</th>\n",
       "      <th>len</th>\n",
       "    </tr>\n",
       "  </thead>\n",
       "  <tbody>\n",
       "    <tr>\n",
       "      <th>0</th>\n",
       "      <td>[4100130, 5074008, 5250501, 2181201, 6436018]</td>\n",
       "      <td>5</td>\n",
       "    </tr>\n",
       "    <tr>\n",
       "      <th>1</th>\n",
       "      <td>[6436018, 6299907, 6161712]</td>\n",
       "      <td>3</td>\n",
       "    </tr>\n",
       "    <tr>\n",
       "      <th>2</th>\n",
       "      <td>[4921011, 2550805, 6204426, 6115765, 6216191, ...</td>\n",
       "      <td>7</td>\n",
       "    </tr>\n",
       "    <tr>\n",
       "      <th>3</th>\n",
       "      <td>[6634351, 8621604, 6115232, 6204326, 6204426, ...</td>\n",
       "      <td>12</td>\n",
       "    </tr>\n",
       "    <tr>\n",
       "      <th>4</th>\n",
       "      <td>[2119634, 2310306, 6103861, 851403516, 6113401...</td>\n",
       "      <td>9</td>\n",
       "    </tr>\n",
       "  </tbody>\n",
       "</table>\n",
       "</div>"
      ],
      "text/plain": [
       "                                             Artikel  len\n",
       "0      [4100130, 5074008, 5250501, 2181201, 6436018]    5\n",
       "1                        [6436018, 6299907, 6161712]    3\n",
       "2  [4921011, 2550805, 6204426, 6115765, 6216191, ...    7\n",
       "3  [6634351, 8621604, 6115232, 6204326, 6204426, ...   12\n",
       "4  [2119634, 2310306, 6103861, 851403516, 6113401...    9"
      ]
     },
     "execution_count": 12,
     "metadata": {},
     "output_type": "execute_result"
    }
   ],
   "source": [
    "transactions.head()"
   ]
  },
  {
   "cell_type": "code",
   "execution_count": 13,
   "metadata": {
    "ExecuteTime": {
     "end_time": "2019-07-10T09:48:46.029218Z",
     "start_time": "2019-07-10T09:48:44.246944Z"
    }
   },
   "outputs": [],
   "source": [
    "\"\"\"OHE to sparse format with MLxtnd TransactionEncoder\"\"\"\n",
    "\n",
    "te = TransactionEncoder()\n",
    "products_array = np.array(transactions['Artikel'])\n",
    "products_array_ohe = te.fit(products_array).transform(products_array, sparse=True)\n",
    "transactions_sparse = pd.SparseDataFrame(products_array_ohe, \n",
    "                                        columns=te.columns_, \n",
    "                                        default_fill_value=False)\n",
    "\n",
    "assert transactions_sparse.iloc[1,].sum() == len(transactions.iloc[1,0])"
   ]
  },
  {
   "cell_type": "code",
   "execution_count": 14,
   "metadata": {
    "ExecuteTime": {
     "end_time": "2019-07-10T09:48:48.018534Z",
     "start_time": "2019-07-10T09:48:46.029218Z"
    }
   },
   "outputs": [
    {
     "data": {
      "text/html": [
       "<div>\n",
       "<style scoped>\n",
       "    .dataframe tbody tr th:only-of-type {\n",
       "        vertical-align: middle;\n",
       "    }\n",
       "\n",
       "    .dataframe tbody tr th {\n",
       "        vertical-align: top;\n",
       "    }\n",
       "\n",
       "    .dataframe thead th {\n",
       "        text-align: right;\n",
       "    }\n",
       "</style>\n",
       "<table border=\"1\" class=\"dataframe\">\n",
       "  <thead>\n",
       "    <tr style=\"text-align: right;\">\n",
       "      <th></th>\n",
       "      <th>0010074</th>\n",
       "      <th>0013157</th>\n",
       "      <th>0016048</th>\n",
       "      <th>0020058</th>\n",
       "      <th>0020157</th>\n",
       "      <th>0024832</th>\n",
       "      <th>0025064</th>\n",
       "      <th>0025120</th>\n",
       "      <th>0025122</th>\n",
       "      <th>0025123</th>\n",
       "      <th>0025156</th>\n",
       "      <th>0025204</th>\n",
       "      <th>0030766</th>\n",
       "      <th>0040005</th>\n",
       "      <th>0040721</th>\n",
       "      <th>0041083</th>\n",
       "      <th>0041667</th>\n",
       "      <th>0041669</th>\n",
       "      <th>0044744</th>\n",
       "      <th>0045044</th>\n",
       "      <th>0045045</th>\n",
       "      <th>0045065</th>\n",
       "      <th>0045198</th>\n",
       "      <th>0045287</th>\n",
       "      <th>0045293</th>\n",
       "      <th>0045294</th>\n",
       "      <th>0046080</th>\n",
       "      <th>0047458</th>\n",
       "      <th>0048049</th>\n",
       "      <th>0048410</th>\n",
       "      <th>0050314</th>\n",
       "      <th>0053012</th>\n",
       "      <th>0056614</th>\n",
       "      <th>0061855</th>\n",
       "      <th>0064872</th>\n",
       "      <th>0071836</th>\n",
       "      <th>0071950</th>\n",
       "      <th>0072120</th>\n",
       "      <th>0072134</th>\n",
       "      <th>0073481</th>\n",
       "      <th>0077734</th>\n",
       "      <th>0077736</th>\n",
       "      <th>0077942</th>\n",
       "      <th>0079386</th>\n",
       "      <th>0079389</th>\n",
       "      <th>0079568</th>\n",
       "      <th>1041577</th>\n",
       "      <th>1058347</th>\n",
       "      <th>1058348</th>\n",
       "      <th>2003601</th>\n",
       "      <th>...</th>\n",
       "      <th>9149302</th>\n",
       "      <th>9149312</th>\n",
       "      <th>9150462</th>\n",
       "      <th>9150616</th>\n",
       "      <th>9150618</th>\n",
       "      <th>9150619</th>\n",
       "      <th>9150627</th>\n",
       "      <th>9150641</th>\n",
       "      <th>9150642</th>\n",
       "      <th>9150643</th>\n",
       "      <th>9150652</th>\n",
       "      <th>9150653</th>\n",
       "      <th>9163282</th>\n",
       "      <th>9163322</th>\n",
       "      <th>9163330</th>\n",
       "      <th>9163537</th>\n",
       "      <th>9163538</th>\n",
       "      <th>9164364</th>\n",
       "      <th>9164372</th>\n",
       "      <th>9169548</th>\n",
       "      <th>9181742</th>\n",
       "      <th>9181744</th>\n",
       "      <th>9183533</th>\n",
       "      <th>9194935</th>\n",
       "      <th>9194936</th>\n",
       "      <th>9194937</th>\n",
       "      <th>9194967</th>\n",
       "      <th>9204283</th>\n",
       "      <th>9210848</th>\n",
       "      <th>9236718</th>\n",
       "      <th>9238777</th>\n",
       "      <th>9238778</th>\n",
       "      <th>9240575</th>\n",
       "      <th>9240576</th>\n",
       "      <th>9240871</th>\n",
       "      <th>9240872</th>\n",
       "      <th>9240873</th>\n",
       "      <th>9240874</th>\n",
       "      <th>9240927</th>\n",
       "      <th>9240929</th>\n",
       "      <th>9240930</th>\n",
       "      <th>9240931</th>\n",
       "      <th>9240932</th>\n",
       "      <th>9240936</th>\n",
       "      <th>9241049</th>\n",
       "      <th>9241050</th>\n",
       "      <th>9247144</th>\n",
       "      <th>9247529</th>\n",
       "      <th>9900644</th>\n",
       "      <th>9900646</th>\n",
       "    </tr>\n",
       "  </thead>\n",
       "  <tbody>\n",
       "    <tr>\n",
       "      <th>0</th>\n",
       "      <td>False</td>\n",
       "      <td>False</td>\n",
       "      <td>False</td>\n",
       "      <td>False</td>\n",
       "      <td>False</td>\n",
       "      <td>False</td>\n",
       "      <td>False</td>\n",
       "      <td>False</td>\n",
       "      <td>False</td>\n",
       "      <td>False</td>\n",
       "      <td>False</td>\n",
       "      <td>False</td>\n",
       "      <td>False</td>\n",
       "      <td>False</td>\n",
       "      <td>False</td>\n",
       "      <td>False</td>\n",
       "      <td>False</td>\n",
       "      <td>False</td>\n",
       "      <td>False</td>\n",
       "      <td>False</td>\n",
       "      <td>False</td>\n",
       "      <td>False</td>\n",
       "      <td>False</td>\n",
       "      <td>False</td>\n",
       "      <td>False</td>\n",
       "      <td>False</td>\n",
       "      <td>False</td>\n",
       "      <td>False</td>\n",
       "      <td>False</td>\n",
       "      <td>False</td>\n",
       "      <td>False</td>\n",
       "      <td>False</td>\n",
       "      <td>False</td>\n",
       "      <td>False</td>\n",
       "      <td>False</td>\n",
       "      <td>False</td>\n",
       "      <td>False</td>\n",
       "      <td>False</td>\n",
       "      <td>False</td>\n",
       "      <td>False</td>\n",
       "      <td>False</td>\n",
       "      <td>False</td>\n",
       "      <td>False</td>\n",
       "      <td>False</td>\n",
       "      <td>False</td>\n",
       "      <td>False</td>\n",
       "      <td>False</td>\n",
       "      <td>False</td>\n",
       "      <td>False</td>\n",
       "      <td>False</td>\n",
       "      <td>...</td>\n",
       "      <td>False</td>\n",
       "      <td>False</td>\n",
       "      <td>False</td>\n",
       "      <td>False</td>\n",
       "      <td>False</td>\n",
       "      <td>False</td>\n",
       "      <td>False</td>\n",
       "      <td>False</td>\n",
       "      <td>False</td>\n",
       "      <td>False</td>\n",
       "      <td>False</td>\n",
       "      <td>False</td>\n",
       "      <td>False</td>\n",
       "      <td>False</td>\n",
       "      <td>False</td>\n",
       "      <td>False</td>\n",
       "      <td>False</td>\n",
       "      <td>False</td>\n",
       "      <td>False</td>\n",
       "      <td>False</td>\n",
       "      <td>False</td>\n",
       "      <td>False</td>\n",
       "      <td>False</td>\n",
       "      <td>False</td>\n",
       "      <td>False</td>\n",
       "      <td>False</td>\n",
       "      <td>False</td>\n",
       "      <td>False</td>\n",
       "      <td>False</td>\n",
       "      <td>False</td>\n",
       "      <td>False</td>\n",
       "      <td>False</td>\n",
       "      <td>False</td>\n",
       "      <td>False</td>\n",
       "      <td>False</td>\n",
       "      <td>False</td>\n",
       "      <td>False</td>\n",
       "      <td>False</td>\n",
       "      <td>False</td>\n",
       "      <td>False</td>\n",
       "      <td>False</td>\n",
       "      <td>False</td>\n",
       "      <td>False</td>\n",
       "      <td>False</td>\n",
       "      <td>False</td>\n",
       "      <td>False</td>\n",
       "      <td>False</td>\n",
       "      <td>False</td>\n",
       "      <td>False</td>\n",
       "      <td>False</td>\n",
       "    </tr>\n",
       "    <tr>\n",
       "      <th>1</th>\n",
       "      <td>False</td>\n",
       "      <td>False</td>\n",
       "      <td>False</td>\n",
       "      <td>False</td>\n",
       "      <td>False</td>\n",
       "      <td>False</td>\n",
       "      <td>False</td>\n",
       "      <td>False</td>\n",
       "      <td>False</td>\n",
       "      <td>False</td>\n",
       "      <td>False</td>\n",
       "      <td>False</td>\n",
       "      <td>False</td>\n",
       "      <td>False</td>\n",
       "      <td>False</td>\n",
       "      <td>False</td>\n",
       "      <td>False</td>\n",
       "      <td>False</td>\n",
       "      <td>False</td>\n",
       "      <td>False</td>\n",
       "      <td>False</td>\n",
       "      <td>False</td>\n",
       "      <td>False</td>\n",
       "      <td>False</td>\n",
       "      <td>False</td>\n",
       "      <td>False</td>\n",
       "      <td>False</td>\n",
       "      <td>False</td>\n",
       "      <td>False</td>\n",
       "      <td>False</td>\n",
       "      <td>False</td>\n",
       "      <td>False</td>\n",
       "      <td>False</td>\n",
       "      <td>False</td>\n",
       "      <td>False</td>\n",
       "      <td>False</td>\n",
       "      <td>False</td>\n",
       "      <td>False</td>\n",
       "      <td>False</td>\n",
       "      <td>False</td>\n",
       "      <td>False</td>\n",
       "      <td>False</td>\n",
       "      <td>False</td>\n",
       "      <td>False</td>\n",
       "      <td>False</td>\n",
       "      <td>False</td>\n",
       "      <td>False</td>\n",
       "      <td>False</td>\n",
       "      <td>False</td>\n",
       "      <td>False</td>\n",
       "      <td>...</td>\n",
       "      <td>False</td>\n",
       "      <td>False</td>\n",
       "      <td>False</td>\n",
       "      <td>False</td>\n",
       "      <td>False</td>\n",
       "      <td>False</td>\n",
       "      <td>False</td>\n",
       "      <td>False</td>\n",
       "      <td>False</td>\n",
       "      <td>False</td>\n",
       "      <td>False</td>\n",
       "      <td>False</td>\n",
       "      <td>False</td>\n",
       "      <td>False</td>\n",
       "      <td>False</td>\n",
       "      <td>False</td>\n",
       "      <td>False</td>\n",
       "      <td>False</td>\n",
       "      <td>False</td>\n",
       "      <td>False</td>\n",
       "      <td>False</td>\n",
       "      <td>False</td>\n",
       "      <td>False</td>\n",
       "      <td>False</td>\n",
       "      <td>False</td>\n",
       "      <td>False</td>\n",
       "      <td>False</td>\n",
       "      <td>False</td>\n",
       "      <td>False</td>\n",
       "      <td>False</td>\n",
       "      <td>False</td>\n",
       "      <td>False</td>\n",
       "      <td>False</td>\n",
       "      <td>False</td>\n",
       "      <td>False</td>\n",
       "      <td>False</td>\n",
       "      <td>False</td>\n",
       "      <td>False</td>\n",
       "      <td>False</td>\n",
       "      <td>False</td>\n",
       "      <td>False</td>\n",
       "      <td>False</td>\n",
       "      <td>False</td>\n",
       "      <td>False</td>\n",
       "      <td>False</td>\n",
       "      <td>False</td>\n",
       "      <td>False</td>\n",
       "      <td>False</td>\n",
       "      <td>False</td>\n",
       "      <td>False</td>\n",
       "    </tr>\n",
       "    <tr>\n",
       "      <th>2</th>\n",
       "      <td>False</td>\n",
       "      <td>False</td>\n",
       "      <td>False</td>\n",
       "      <td>False</td>\n",
       "      <td>False</td>\n",
       "      <td>False</td>\n",
       "      <td>False</td>\n",
       "      <td>False</td>\n",
       "      <td>False</td>\n",
       "      <td>False</td>\n",
       "      <td>False</td>\n",
       "      <td>False</td>\n",
       "      <td>False</td>\n",
       "      <td>False</td>\n",
       "      <td>False</td>\n",
       "      <td>False</td>\n",
       "      <td>False</td>\n",
       "      <td>False</td>\n",
       "      <td>False</td>\n",
       "      <td>False</td>\n",
       "      <td>False</td>\n",
       "      <td>False</td>\n",
       "      <td>False</td>\n",
       "      <td>False</td>\n",
       "      <td>False</td>\n",
       "      <td>False</td>\n",
       "      <td>False</td>\n",
       "      <td>False</td>\n",
       "      <td>False</td>\n",
       "      <td>False</td>\n",
       "      <td>False</td>\n",
       "      <td>False</td>\n",
       "      <td>False</td>\n",
       "      <td>False</td>\n",
       "      <td>False</td>\n",
       "      <td>False</td>\n",
       "      <td>False</td>\n",
       "      <td>False</td>\n",
       "      <td>False</td>\n",
       "      <td>False</td>\n",
       "      <td>False</td>\n",
       "      <td>False</td>\n",
       "      <td>False</td>\n",
       "      <td>False</td>\n",
       "      <td>False</td>\n",
       "      <td>False</td>\n",
       "      <td>False</td>\n",
       "      <td>False</td>\n",
       "      <td>False</td>\n",
       "      <td>False</td>\n",
       "      <td>...</td>\n",
       "      <td>False</td>\n",
       "      <td>False</td>\n",
       "      <td>False</td>\n",
       "      <td>False</td>\n",
       "      <td>False</td>\n",
       "      <td>False</td>\n",
       "      <td>False</td>\n",
       "      <td>False</td>\n",
       "      <td>False</td>\n",
       "      <td>False</td>\n",
       "      <td>False</td>\n",
       "      <td>False</td>\n",
       "      <td>False</td>\n",
       "      <td>False</td>\n",
       "      <td>False</td>\n",
       "      <td>False</td>\n",
       "      <td>False</td>\n",
       "      <td>False</td>\n",
       "      <td>False</td>\n",
       "      <td>False</td>\n",
       "      <td>False</td>\n",
       "      <td>False</td>\n",
       "      <td>False</td>\n",
       "      <td>False</td>\n",
       "      <td>False</td>\n",
       "      <td>False</td>\n",
       "      <td>False</td>\n",
       "      <td>False</td>\n",
       "      <td>False</td>\n",
       "      <td>False</td>\n",
       "      <td>False</td>\n",
       "      <td>False</td>\n",
       "      <td>False</td>\n",
       "      <td>False</td>\n",
       "      <td>False</td>\n",
       "      <td>False</td>\n",
       "      <td>False</td>\n",
       "      <td>False</td>\n",
       "      <td>False</td>\n",
       "      <td>False</td>\n",
       "      <td>False</td>\n",
       "      <td>False</td>\n",
       "      <td>False</td>\n",
       "      <td>False</td>\n",
       "      <td>False</td>\n",
       "      <td>False</td>\n",
       "      <td>False</td>\n",
       "      <td>False</td>\n",
       "      <td>False</td>\n",
       "      <td>False</td>\n",
       "    </tr>\n",
       "    <tr>\n",
       "      <th>3</th>\n",
       "      <td>False</td>\n",
       "      <td>False</td>\n",
       "      <td>False</td>\n",
       "      <td>False</td>\n",
       "      <td>False</td>\n",
       "      <td>False</td>\n",
       "      <td>False</td>\n",
       "      <td>False</td>\n",
       "      <td>False</td>\n",
       "      <td>False</td>\n",
       "      <td>False</td>\n",
       "      <td>False</td>\n",
       "      <td>False</td>\n",
       "      <td>False</td>\n",
       "      <td>False</td>\n",
       "      <td>False</td>\n",
       "      <td>False</td>\n",
       "      <td>False</td>\n",
       "      <td>False</td>\n",
       "      <td>False</td>\n",
       "      <td>False</td>\n",
       "      <td>False</td>\n",
       "      <td>False</td>\n",
       "      <td>False</td>\n",
       "      <td>False</td>\n",
       "      <td>False</td>\n",
       "      <td>False</td>\n",
       "      <td>False</td>\n",
       "      <td>False</td>\n",
       "      <td>False</td>\n",
       "      <td>False</td>\n",
       "      <td>False</td>\n",
       "      <td>False</td>\n",
       "      <td>False</td>\n",
       "      <td>False</td>\n",
       "      <td>False</td>\n",
       "      <td>False</td>\n",
       "      <td>False</td>\n",
       "      <td>False</td>\n",
       "      <td>False</td>\n",
       "      <td>False</td>\n",
       "      <td>False</td>\n",
       "      <td>False</td>\n",
       "      <td>False</td>\n",
       "      <td>False</td>\n",
       "      <td>False</td>\n",
       "      <td>False</td>\n",
       "      <td>False</td>\n",
       "      <td>False</td>\n",
       "      <td>False</td>\n",
       "      <td>...</td>\n",
       "      <td>False</td>\n",
       "      <td>False</td>\n",
       "      <td>False</td>\n",
       "      <td>False</td>\n",
       "      <td>False</td>\n",
       "      <td>False</td>\n",
       "      <td>False</td>\n",
       "      <td>False</td>\n",
       "      <td>False</td>\n",
       "      <td>False</td>\n",
       "      <td>False</td>\n",
       "      <td>False</td>\n",
       "      <td>False</td>\n",
       "      <td>False</td>\n",
       "      <td>False</td>\n",
       "      <td>False</td>\n",
       "      <td>False</td>\n",
       "      <td>False</td>\n",
       "      <td>False</td>\n",
       "      <td>False</td>\n",
       "      <td>False</td>\n",
       "      <td>False</td>\n",
       "      <td>False</td>\n",
       "      <td>False</td>\n",
       "      <td>False</td>\n",
       "      <td>False</td>\n",
       "      <td>False</td>\n",
       "      <td>False</td>\n",
       "      <td>False</td>\n",
       "      <td>False</td>\n",
       "      <td>False</td>\n",
       "      <td>False</td>\n",
       "      <td>False</td>\n",
       "      <td>False</td>\n",
       "      <td>False</td>\n",
       "      <td>False</td>\n",
       "      <td>False</td>\n",
       "      <td>False</td>\n",
       "      <td>False</td>\n",
       "      <td>False</td>\n",
       "      <td>False</td>\n",
       "      <td>False</td>\n",
       "      <td>False</td>\n",
       "      <td>False</td>\n",
       "      <td>False</td>\n",
       "      <td>False</td>\n",
       "      <td>False</td>\n",
       "      <td>False</td>\n",
       "      <td>False</td>\n",
       "      <td>False</td>\n",
       "    </tr>\n",
       "    <tr>\n",
       "      <th>4</th>\n",
       "      <td>False</td>\n",
       "      <td>False</td>\n",
       "      <td>False</td>\n",
       "      <td>False</td>\n",
       "      <td>False</td>\n",
       "      <td>False</td>\n",
       "      <td>False</td>\n",
       "      <td>False</td>\n",
       "      <td>False</td>\n",
       "      <td>False</td>\n",
       "      <td>False</td>\n",
       "      <td>False</td>\n",
       "      <td>False</td>\n",
       "      <td>False</td>\n",
       "      <td>False</td>\n",
       "      <td>False</td>\n",
       "      <td>False</td>\n",
       "      <td>False</td>\n",
       "      <td>False</td>\n",
       "      <td>False</td>\n",
       "      <td>False</td>\n",
       "      <td>False</td>\n",
       "      <td>False</td>\n",
       "      <td>False</td>\n",
       "      <td>False</td>\n",
       "      <td>False</td>\n",
       "      <td>False</td>\n",
       "      <td>False</td>\n",
       "      <td>False</td>\n",
       "      <td>False</td>\n",
       "      <td>False</td>\n",
       "      <td>False</td>\n",
       "      <td>False</td>\n",
       "      <td>False</td>\n",
       "      <td>False</td>\n",
       "      <td>False</td>\n",
       "      <td>False</td>\n",
       "      <td>False</td>\n",
       "      <td>False</td>\n",
       "      <td>False</td>\n",
       "      <td>False</td>\n",
       "      <td>False</td>\n",
       "      <td>False</td>\n",
       "      <td>False</td>\n",
       "      <td>False</td>\n",
       "      <td>False</td>\n",
       "      <td>False</td>\n",
       "      <td>False</td>\n",
       "      <td>False</td>\n",
       "      <td>False</td>\n",
       "      <td>...</td>\n",
       "      <td>False</td>\n",
       "      <td>False</td>\n",
       "      <td>False</td>\n",
       "      <td>False</td>\n",
       "      <td>False</td>\n",
       "      <td>False</td>\n",
       "      <td>False</td>\n",
       "      <td>False</td>\n",
       "      <td>False</td>\n",
       "      <td>False</td>\n",
       "      <td>False</td>\n",
       "      <td>False</td>\n",
       "      <td>False</td>\n",
       "      <td>False</td>\n",
       "      <td>False</td>\n",
       "      <td>False</td>\n",
       "      <td>False</td>\n",
       "      <td>False</td>\n",
       "      <td>False</td>\n",
       "      <td>False</td>\n",
       "      <td>False</td>\n",
       "      <td>False</td>\n",
       "      <td>False</td>\n",
       "      <td>False</td>\n",
       "      <td>False</td>\n",
       "      <td>False</td>\n",
       "      <td>False</td>\n",
       "      <td>False</td>\n",
       "      <td>False</td>\n",
       "      <td>False</td>\n",
       "      <td>False</td>\n",
       "      <td>False</td>\n",
       "      <td>False</td>\n",
       "      <td>False</td>\n",
       "      <td>False</td>\n",
       "      <td>False</td>\n",
       "      <td>False</td>\n",
       "      <td>False</td>\n",
       "      <td>False</td>\n",
       "      <td>False</td>\n",
       "      <td>False</td>\n",
       "      <td>False</td>\n",
       "      <td>False</td>\n",
       "      <td>False</td>\n",
       "      <td>False</td>\n",
       "      <td>False</td>\n",
       "      <td>False</td>\n",
       "      <td>False</td>\n",
       "      <td>False</td>\n",
       "      <td>False</td>\n",
       "    </tr>\n",
       "  </tbody>\n",
       "</table>\n",
       "<p>5 rows × 2871 columns</p>\n",
       "</div>"
      ],
      "text/plain": [
       "   0010074  0013157  0016048  0020058  0020157  0024832  0025064  0025120  \\\n",
       "0    False    False    False    False    False    False    False    False   \n",
       "1    False    False    False    False    False    False    False    False   \n",
       "2    False    False    False    False    False    False    False    False   \n",
       "3    False    False    False    False    False    False    False    False   \n",
       "4    False    False    False    False    False    False    False    False   \n",
       "\n",
       "   0025122  0025123  0025156  0025204  0030766  0040005  0040721  0041083  \\\n",
       "0    False    False    False    False    False    False    False    False   \n",
       "1    False    False    False    False    False    False    False    False   \n",
       "2    False    False    False    False    False    False    False    False   \n",
       "3    False    False    False    False    False    False    False    False   \n",
       "4    False    False    False    False    False    False    False    False   \n",
       "\n",
       "   0041667  0041669  0044744  0045044  0045045  0045065  0045198  0045287  \\\n",
       "0    False    False    False    False    False    False    False    False   \n",
       "1    False    False    False    False    False    False    False    False   \n",
       "2    False    False    False    False    False    False    False    False   \n",
       "3    False    False    False    False    False    False    False    False   \n",
       "4    False    False    False    False    False    False    False    False   \n",
       "\n",
       "   0045293  0045294  0046080  0047458  0048049  0048410  0050314  0053012  \\\n",
       "0    False    False    False    False    False    False    False    False   \n",
       "1    False    False    False    False    False    False    False    False   \n",
       "2    False    False    False    False    False    False    False    False   \n",
       "3    False    False    False    False    False    False    False    False   \n",
       "4    False    False    False    False    False    False    False    False   \n",
       "\n",
       "   0056614  0061855  0064872  0071836  0071950  0072120  0072134  0073481  \\\n",
       "0    False    False    False    False    False    False    False    False   \n",
       "1    False    False    False    False    False    False    False    False   \n",
       "2    False    False    False    False    False    False    False    False   \n",
       "3    False    False    False    False    False    False    False    False   \n",
       "4    False    False    False    False    False    False    False    False   \n",
       "\n",
       "   0077734  0077736  0077942  0079386  0079389  0079568  1041577  1058347  \\\n",
       "0    False    False    False    False    False    False    False    False   \n",
       "1    False    False    False    False    False    False    False    False   \n",
       "2    False    False    False    False    False    False    False    False   \n",
       "3    False    False    False    False    False    False    False    False   \n",
       "4    False    False    False    False    False    False    False    False   \n",
       "\n",
       "   1058348  2003601  ...  9149302  9149312  9150462  9150616  9150618  \\\n",
       "0    False    False  ...    False    False    False    False    False   \n",
       "1    False    False  ...    False    False    False    False    False   \n",
       "2    False    False  ...    False    False    False    False    False   \n",
       "3    False    False  ...    False    False    False    False    False   \n",
       "4    False    False  ...    False    False    False    False    False   \n",
       "\n",
       "   9150619  9150627  9150641  9150642  9150643  9150652  9150653  9163282  \\\n",
       "0    False    False    False    False    False    False    False    False   \n",
       "1    False    False    False    False    False    False    False    False   \n",
       "2    False    False    False    False    False    False    False    False   \n",
       "3    False    False    False    False    False    False    False    False   \n",
       "4    False    False    False    False    False    False    False    False   \n",
       "\n",
       "   9163322  9163330  9163537  9163538  9164364  9164372  9169548  9181742  \\\n",
       "0    False    False    False    False    False    False    False    False   \n",
       "1    False    False    False    False    False    False    False    False   \n",
       "2    False    False    False    False    False    False    False    False   \n",
       "3    False    False    False    False    False    False    False    False   \n",
       "4    False    False    False    False    False    False    False    False   \n",
       "\n",
       "   9181744  9183533  9194935  9194936  9194937  9194967  9204283  9210848  \\\n",
       "0    False    False    False    False    False    False    False    False   \n",
       "1    False    False    False    False    False    False    False    False   \n",
       "2    False    False    False    False    False    False    False    False   \n",
       "3    False    False    False    False    False    False    False    False   \n",
       "4    False    False    False    False    False    False    False    False   \n",
       "\n",
       "   9236718  9238777  9238778  9240575  9240576  9240871  9240872  9240873  \\\n",
       "0    False    False    False    False    False    False    False    False   \n",
       "1    False    False    False    False    False    False    False    False   \n",
       "2    False    False    False    False    False    False    False    False   \n",
       "3    False    False    False    False    False    False    False    False   \n",
       "4    False    False    False    False    False    False    False    False   \n",
       "\n",
       "   9240874  9240927  9240929  9240930  9240931  9240932  9240936  9241049  \\\n",
       "0    False    False    False    False    False    False    False    False   \n",
       "1    False    False    False    False    False    False    False    False   \n",
       "2    False    False    False    False    False    False    False    False   \n",
       "3    False    False    False    False    False    False    False    False   \n",
       "4    False    False    False    False    False    False    False    False   \n",
       "\n",
       "   9241050  9247144  9247529  9900644  9900646  \n",
       "0    False    False    False    False    False  \n",
       "1    False    False    False    False    False  \n",
       "2    False    False    False    False    False  \n",
       "3    False    False    False    False    False  \n",
       "4    False    False    False    False    False  \n",
       "\n",
       "[5 rows x 2871 columns]"
      ]
     },
     "execution_count": 14,
     "metadata": {},
     "output_type": "execute_result"
    }
   ],
   "source": [
    "# Check results\n",
    "transactions_sparse.head()"
   ]
  },
  {
   "cell_type": "markdown",
   "metadata": {
    "ExecuteTime": {
     "end_time": "2019-07-07T12:18:59.851501Z",
     "start_time": "2019-07-07T12:18:59.820289Z"
    }
   },
   "source": [
    "## Get frequent itemsets with Apriori algorithm\n",
    "\n",
    "**Note:** Due to current limitations in Pandas, if the SparseDataFrame has integer column names,names, please make sure they either start with `0` or cast them as string column names: `df.columns = [str(i) for i in df.columns`]."
   ]
  },
  {
   "cell_type": "code",
   "execution_count": 16,
   "metadata": {
    "ExecuteTime": {
     "end_time": "2019-07-10T11:48:06.518177Z",
     "start_time": "2019-07-10T09:50:22.588262Z"
    }
   },
   "outputs": [
    {
     "name": "stdout",
     "output_type": "stream",
     "text": [
      "Iteration: 1466886 | Sampling itemset size 5\n"
     ]
    }
   ],
   "source": [
    "# transactions_sparse.columns = [str(i) for i in transactions_sparse.columns]\n",
    "\n",
    "# Set a low min_support to get many sets\n",
    "frequent_itemsets = apriori(transactions_sparse, min_support=0.001, \n",
    "                            use_colnames=True, max_len=None, verbose=1)"
   ]
  },
  {
   "cell_type": "code",
   "execution_count": 17,
   "metadata": {
    "ExecuteTime": {
     "end_time": "2019-07-10T11:49:42.342200Z",
     "start_time": "2019-07-10T11:49:42.295301Z"
    }
   },
   "outputs": [
    {
     "name": "stdout",
     "output_type": "stream",
     "text": [
      "<class 'pandas.core.frame.DataFrame'>\n",
      "RangeIndex: 2143 entries, 0 to 2142\n",
      "Data columns (total 2 columns):\n",
      "support     2143 non-null float64\n",
      "itemsets    2143 non-null object\n",
      "dtypes: float64(1), object(1)\n",
      "memory usage: 33.6+ KB\n"
     ]
    },
    {
     "data": {
      "text/html": [
       "<div>\n",
       "<style scoped>\n",
       "    .dataframe tbody tr th:only-of-type {\n",
       "        vertical-align: middle;\n",
       "    }\n",
       "\n",
       "    .dataframe tbody tr th {\n",
       "        vertical-align: top;\n",
       "    }\n",
       "\n",
       "    .dataframe thead th {\n",
       "        text-align: right;\n",
       "    }\n",
       "</style>\n",
       "<table border=\"1\" class=\"dataframe\">\n",
       "  <thead>\n",
       "    <tr style=\"text-align: right;\">\n",
       "      <th></th>\n",
       "      <th>support</th>\n",
       "      <th>itemsets</th>\n",
       "    </tr>\n",
       "  </thead>\n",
       "  <tbody>\n",
       "    <tr>\n",
       "      <th>0</th>\n",
       "      <td>0.001279</td>\n",
       "      <td>(0013157)</td>\n",
       "    </tr>\n",
       "    <tr>\n",
       "      <th>1</th>\n",
       "      <td>0.002214</td>\n",
       "      <td>(0024832)</td>\n",
       "    </tr>\n",
       "    <tr>\n",
       "      <th>2</th>\n",
       "      <td>0.001568</td>\n",
       "      <td>(0025123)</td>\n",
       "    </tr>\n",
       "    <tr>\n",
       "      <th>3</th>\n",
       "      <td>0.001420</td>\n",
       "      <td>(0030766)</td>\n",
       "    </tr>\n",
       "    <tr>\n",
       "      <th>4</th>\n",
       "      <td>0.001589</td>\n",
       "      <td>(0040721)</td>\n",
       "    </tr>\n",
       "  </tbody>\n",
       "</table>\n",
       "</div>"
      ],
      "text/plain": [
       "    support   itemsets\n",
       "0  0.001279  (0013157)\n",
       "1  0.002214  (0024832)\n",
       "2  0.001568  (0025123)\n",
       "3  0.001420  (0030766)\n",
       "4  0.001589  (0040721)"
      ]
     },
     "metadata": {},
     "output_type": "display_data"
    }
   ],
   "source": [
    "\"\"\"Save / Load itemsets for convencience\"\"\"\n",
    "\n",
    "# frequent_itemsets.to_csv('data/interim/frequent_itemsets.csv', index=False)\n",
    "frequent_itemsets = pd.read_csv('data/interim/frequent_itemsets.csv')\n",
    "\n",
    "# Check results\n",
    "frequent_itemsets.info()\n",
    "display(frequent_itemsets.head())"
   ]
  },
  {
   "cell_type": "markdown",
   "metadata": {
    "ExecuteTime": {
     "end_time": "2019-07-07T14:23:41.742161Z",
     "start_time": "2019-07-07T14:23:41.710955Z"
    }
   },
   "source": [
    "**Note:** There is an issue with the frozenset dtype. After saving and reloading the dataframe it gets returned as object and I don't know (yet) how to convert it correctly back to that format while reading in the dataframe."
   ]
  },
  {
   "cell_type": "code",
   "execution_count": null,
   "metadata": {
    "ExecuteTime": {
     "end_time": "2019-07-10T09:48:48.314868Z",
     "start_time": "2019-07-10T09:47:59.849Z"
    }
   },
   "outputs": [],
   "source": [
    "# Restore dtype frozenset after Re-Loading\n",
    "frequent_itemsets['itemsets'] = frequent_itemsets['itemsets']\\\n",
    "        .str.strip('frozenset({})').str.replace(\"'\", \"\").str.replace(\" \", \"\")\n",
    "frequent_itemsets['itemsets'] = frequent_itemsets['itemsets'].str.split(',')\n",
    "frequent_itemsets['itemsets'] = frequent_itemsets['itemsets'].apply(frozenset)\n",
    "assert type(frequent_itemsets['itemsets'][0]) == frozenset"
   ]
  },
  {
   "cell_type": "code",
   "execution_count": 18,
   "metadata": {
    "ExecuteTime": {
     "end_time": "2019-07-10T11:50:16.116567Z",
     "start_time": "2019-07-10T11:50:16.100948Z"
    }
   },
   "outputs": [],
   "source": [
    "# Add length of individual itemsets (if you later want to filter for length)\n",
    "frequent_itemsets['length'] = frequent_itemsets['itemsets'].apply(lambda x: len(x))"
   ]
  },
  {
   "cell_type": "code",
   "execution_count": 19,
   "metadata": {
    "ExecuteTime": {
     "end_time": "2019-07-10T11:50:17.686054Z",
     "start_time": "2019-07-10T11:50:17.654840Z"
    }
   },
   "outputs": [
    {
     "name": "stdout",
     "output_type": "stream",
     "text": [
      "Number of frequent sets with support > 0.001: 2143\n",
      "Of those, number of sets with more than 1 item: 471\n"
     ]
    },
    {
     "data": {
      "text/html": [
       "<div>\n",
       "<style scoped>\n",
       "    .dataframe tbody tr th:only-of-type {\n",
       "        vertical-align: middle;\n",
       "    }\n",
       "\n",
       "    .dataframe tbody tr th {\n",
       "        vertical-align: top;\n",
       "    }\n",
       "\n",
       "    .dataframe thead th {\n",
       "        text-align: right;\n",
       "    }\n",
       "</style>\n",
       "<table border=\"1\" class=\"dataframe\">\n",
       "  <thead>\n",
       "    <tr style=\"text-align: right;\">\n",
       "      <th></th>\n",
       "      <th>support</th>\n",
       "      <th>itemsets</th>\n",
       "      <th>length</th>\n",
       "    </tr>\n",
       "  </thead>\n",
       "  <tbody>\n",
       "    <tr>\n",
       "      <th>2138</th>\n",
       "      <td>0.001146</td>\n",
       "      <td>(8535213, 8535212, 8535211, 8535215)</td>\n",
       "      <td>4</td>\n",
       "    </tr>\n",
       "    <tr>\n",
       "      <th>2139</th>\n",
       "      <td>0.001104</td>\n",
       "      <td>(8535215, 8535212, 8535211, 8535214)</td>\n",
       "      <td>4</td>\n",
       "    </tr>\n",
       "    <tr>\n",
       "      <th>2140</th>\n",
       "      <td>0.001090</td>\n",
       "      <td>(8535213, 8535215, 8535211, 8535214)</td>\n",
       "      <td>4</td>\n",
       "    </tr>\n",
       "    <tr>\n",
       "      <th>2141</th>\n",
       "      <td>0.001153</td>\n",
       "      <td>(8535215, 8535213, 8535212, 8535214)</td>\n",
       "      <td>4</td>\n",
       "    </tr>\n",
       "    <tr>\n",
       "      <th>2142</th>\n",
       "      <td>0.001076</td>\n",
       "      <td>(8535212, 8535214, 8535215, 8535213, 8535211)</td>\n",
       "      <td>5</td>\n",
       "    </tr>\n",
       "  </tbody>\n",
       "</table>\n",
       "</div>"
      ],
      "text/plain": [
       "       support                                       itemsets  length\n",
       "2138  0.001146           (8535213, 8535212, 8535211, 8535215)       4\n",
       "2139  0.001104           (8535215, 8535212, 8535211, 8535214)       4\n",
       "2140  0.001090           (8535213, 8535215, 8535211, 8535214)       4\n",
       "2141  0.001153           (8535215, 8535213, 8535212, 8535214)       4\n",
       "2142  0.001076  (8535212, 8535214, 8535215, 8535213, 8535211)       5"
      ]
     },
     "metadata": {},
     "output_type": "display_data"
    }
   ],
   "source": [
    "# Check results\n",
    "print(\"Number of frequent sets with support > {}: {}\".format(0.001, len(frequent_itemsets))) \n",
    "print(\"Of those, number of sets with more than 1 item:\", \n",
    "      len(frequent_itemsets.loc[frequent_itemsets['length'] > 1]))\n",
    "\n",
    "display(frequent_itemsets.tail())"
   ]
  },
  {
   "cell_type": "code",
   "execution_count": 20,
   "metadata": {
    "ExecuteTime": {
     "end_time": "2019-07-10T11:50:36.870222Z",
     "start_time": "2019-07-10T11:50:36.490199Z"
    }
   },
   "outputs": [
    {
     "data": {
      "image/png": "[encoded data removed]",
      "text/plain": [
       "<Figure size 1008x432 with 1 Axes>"
      ]
     },
     "metadata": {
      "needs_background": "light"
     },
     "output_type": "display_data"
    }
   ],
   "source": [
    "\"\"\"Plot support for most frequent item sets / items\"\"\"\n",
    "\n",
    "plt.figure(figsize=(14,6))\n",
    "plot_df = frequent_itemsets.sort_values(['support'], ascending=False).head(25).reset_index(drop=True)\n",
    "sns.barplot(y='support', x=\"itemsets\", data=plot_df, palette='rocket')\n",
    "plt.title(\"Support of the 25 most frequent itemsets bought\", size=14)\n",
    "plt.xticks(rotation=90);"
   ]
  },
  {
   "cell_type": "markdown",
   "metadata": {},
   "source": [
    "**Findings:** This bar plot illustrates the item sets / items that are frequently bought at this store, and it is notable that the support of even the most frequent items is relatively low (for example, the most frequent item occurs in only around 3% of transactions). We use these insights to inform the minimum threshold when generating the association rules; for example, we know that in order for the algorithm to return a reasonable number of rules we’ll need to set the support threshold at well below 0.02."
   ]
  },
  {
   "cell_type": "markdown",
   "metadata": {},
   "source": [
    "## Generate Association Rules"
   ]
  },
  {
   "cell_type": "code",
   "execution_count": 40,
   "metadata": {
    "ExecuteTime": {
     "end_time": "2019-07-10T14:58:55.396112Z",
     "start_time": "2019-07-10T14:58:55.364862Z"
    }
   },
   "outputs": [],
   "source": [
    "# Generate rules with min_threshold for lift\n",
    "rules = association_rules(frequent_itemsets, metric='confidence', min_threshold=0.3)"
   ]
  },
  {
   "cell_type": "code",
   "execution_count": 41,
   "metadata": {
    "ExecuteTime": {
     "end_time": "2019-07-10T14:58:56.158884Z",
     "start_time": "2019-07-10T14:58:56.127645Z"
    }
   },
   "outputs": [
    {
     "name": "stdout",
     "output_type": "stream",
     "text": [
      "(972, 9)\n"
     ]
    },
    {
     "data": {
      "text/html": [
       "<div>\n",
       "<style scoped>\n",
       "    .dataframe tbody tr th:only-of-type {\n",
       "        vertical-align: middle;\n",
       "    }\n",
       "\n",
       "    .dataframe tbody tr th {\n",
       "        vertical-align: top;\n",
       "    }\n",
       "\n",
       "    .dataframe thead th {\n",
       "        text-align: right;\n",
       "    }\n",
       "</style>\n",
       "<table border=\"1\" class=\"dataframe\">\n",
       "  <thead>\n",
       "    <tr style=\"text-align: right;\">\n",
       "      <th></th>\n",
       "      <th>antecedents</th>\n",
       "      <th>consequents</th>\n",
       "      <th>antecedent support</th>\n",
       "      <th>consequent support</th>\n",
       "      <th>support</th>\n",
       "      <th>confidence</th>\n",
       "      <th>lift</th>\n",
       "      <th>leverage</th>\n",
       "      <th>conviction</th>\n",
       "    </tr>\n",
       "  </thead>\n",
       "  <tbody>\n",
       "    <tr>\n",
       "      <th>967</th>\n",
       "      <td>(8535212)</td>\n",
       "      <td>(8535213, 8535215, 8535211, 8535214)</td>\n",
       "      <td>0.001828</td>\n",
       "      <td>0.001090</td>\n",
       "      <td>0.001076</td>\n",
       "      <td>0.588462</td>\n",
       "      <td>540.082407</td>\n",
       "      <td>0.001074</td>\n",
       "      <td>2.427259</td>\n",
       "    </tr>\n",
       "    <tr>\n",
       "      <th>968</th>\n",
       "      <td>(8535214)</td>\n",
       "      <td>(8535213, 8535212, 8535211, 8535215)</td>\n",
       "      <td>0.001483</td>\n",
       "      <td>0.001146</td>\n",
       "      <td>0.001076</td>\n",
       "      <td>0.725118</td>\n",
       "      <td>632.841596</td>\n",
       "      <td>0.001074</td>\n",
       "      <td>3.633763</td>\n",
       "    </tr>\n",
       "    <tr>\n",
       "      <th>969</th>\n",
       "      <td>(8535215)</td>\n",
       "      <td>(8535213, 8535212, 8535211, 8535214)</td>\n",
       "      <td>0.001532</td>\n",
       "      <td>0.001160</td>\n",
       "      <td>0.001076</td>\n",
       "      <td>0.701835</td>\n",
       "      <td>605.096497</td>\n",
       "      <td>0.001074</td>\n",
       "      <td>3.349956</td>\n",
       "    </tr>\n",
       "    <tr>\n",
       "      <th>970</th>\n",
       "      <td>(8535213)</td>\n",
       "      <td>(8535215, 8535212, 8535211, 8535214)</td>\n",
       "      <td>0.001638</td>\n",
       "      <td>0.001104</td>\n",
       "      <td>0.001076</td>\n",
       "      <td>0.656652</td>\n",
       "      <td>594.989776</td>\n",
       "      <td>0.001074</td>\n",
       "      <td>2.909286</td>\n",
       "    </tr>\n",
       "    <tr>\n",
       "      <th>971</th>\n",
       "      <td>(8535211)</td>\n",
       "      <td>(8535215, 8535213, 8535212, 8535214)</td>\n",
       "      <td>0.001821</td>\n",
       "      <td>0.001153</td>\n",
       "      <td>0.001076</td>\n",
       "      <td>0.590734</td>\n",
       "      <td>512.414564</td>\n",
       "      <td>0.001073</td>\n",
       "      <td>2.440579</td>\n",
       "    </tr>\n",
       "  </tbody>\n",
       "</table>\n",
       "</div>"
      ],
      "text/plain": [
       "    antecedents                           consequents  antecedent support  \\\n",
       "967   (8535212)  (8535213, 8535215, 8535211, 8535214)            0.001828   \n",
       "968   (8535214)  (8535213, 8535212, 8535211, 8535215)            0.001483   \n",
       "969   (8535215)  (8535213, 8535212, 8535211, 8535214)            0.001532   \n",
       "970   (8535213)  (8535215, 8535212, 8535211, 8535214)            0.001638   \n",
       "971   (8535211)  (8535215, 8535213, 8535212, 8535214)            0.001821   \n",
       "\n",
       "     consequent support   support  confidence        lift  leverage  \\\n",
       "967            0.001090  0.001076    0.588462  540.082407  0.001074   \n",
       "968            0.001146  0.001076    0.725118  632.841596  0.001074   \n",
       "969            0.001160  0.001076    0.701835  605.096497  0.001074   \n",
       "970            0.001104  0.001076    0.656652  594.989776  0.001074   \n",
       "971            0.001153  0.001076    0.590734  512.414564  0.001073   \n",
       "\n",
       "     conviction  \n",
       "967    2.427259  \n",
       "968    3.633763  \n",
       "969    3.349956  \n",
       "970    2.909286  \n",
       "971    2.440579  "
      ]
     },
     "metadata": {},
     "output_type": "display_data"
    }
   ],
   "source": [
    "# Check results\n",
    "print(rules.shape)\n",
    "display(rules.tail())"
   ]
  },
  {
   "cell_type": "markdown",
   "metadata": {},
   "source": [
    "Metrics recap:\n",
    "\n",
    "- **Support**: the percentage of transactions that contain all of the items in an itemset (e.g., pencil, paper and rubber). The higher the support the more frequently the itemset occurs. Rules with a high support are preferred since they are likely to be applicable to a large number of future transactions.(However, there may be instances where a low support is useful if you are trying to find “hidden” relationships.)\n",
    "- **Confidence**: the probability that a transaction that contains antecedents also contains the consequents. The higher the confidence, the greater the likelihood that the item on the right hand side will be purchased or, in other words, the greater the return rate you can expect for a given rule. (But if it is too high there is not much to optimize.)\n",
    "- **Lift**: the ratio of the observed support to that expected if the two rules were independent (see wikipedia). The basic rule of thumb is that a lift value close to 1 means the rules were completely independent. The larger the lift the greater the link between the two products.\n",
    "- **Leverage**: the difference between the observed frequency of antecedents and consequents appearing together and the frequency that would be expected if A and C were independent. An leverage value of 0 indicates independence.\n",
    "- **Conviction**: a metric that indicates wether the consequent is highly depending on the antecedent. For instance, in the case of a perfect confidence score, the denominator becomes 0 (due to 1 - 1) for which the conviction score is defined as 'inf'. Similar to lift, if items are independent, the conviction is 1."
   ]
  },
  {
   "cell_type": "code",
   "execution_count": 42,
   "metadata": {
    "ExecuteTime": {
     "end_time": "2019-07-10T14:58:59.453330Z",
     "start_time": "2019-07-10T14:58:59.152603Z"
    }
   },
   "outputs": [
    {
     "data": {
      "image/png": "[encoded data removed]",
      "text/plain": [
       "<Figure size 864x576 with 1 Axes>"
      ]
     },
     "metadata": {
      "needs_background": "light"
     },
     "output_type": "display_data"
    }
   ],
   "source": [
    "\"\"\"Visualize the distribution of the 3 classic metrics\"\"\"\n",
    "\n",
    "plt.figure(figsize=(12,8))\n",
    "sns.scatterplot('support', 'confidence', data=rules, hue='lift', legend='brief', palette='rocket');"
   ]
  },
  {
   "cell_type": "markdown",
   "metadata": {},
   "source": [
    "**Findings**:This plot illustrates the relationship between the different metrics. The most interesting rules might be those lying on the “support-confidence boundary”. Essentially, these are the rules that lie on the right hand border of the plot where either support, confidence or both are maximised. The lift is generally really high because the different itemsets are so 'sparse'. On the other had support is really low."
   ]
  },
  {
   "cell_type": "code",
   "execution_count": 47,
   "metadata": {
    "ExecuteTime": {
     "end_time": "2019-07-10T15:03:00.078573Z",
     "start_time": "2019-07-10T15:02:58.279029Z"
    }
   },
   "outputs": [
    {
     "data": {
      "image/png": "[encoded data removed]",
      "text/plain": [
       "<Figure size 1152x576 with 6 Axes>"
      ]
     },
     "metadata": {
      "needs_background": "light"
     },
     "output_type": "display_data"
    }
   ],
   "source": [
    "EDA.plot_num_hist(rules.iloc[:,:-1], figsize=(16, 8))"
   ]
  },
  {
   "cell_type": "markdown",
   "metadata": {},
   "source": [
    "---"
   ]
  }
 ],
 "metadata": {
  "hide_input": false,
  "kernelspec": {
   "display_name": "Python 3",
   "language": "python",
   "name": "python3"
  },
  "language_info": {
   "codemirror_mode": {
    "name": "ipython",
    "version": 3
   },
   "file_extension": ".py",
   "mimetype": "text/x-python",
   "name": "python",
   "nbconvert_exporter": "python",
   "pygments_lexer": "ipython3",
   "version": "3.7.3"
  },
  "toc": {
   "base_numbering": 1,
   "nav_menu": {},
   "number_sections": true,
   "sideBar": false,
   "skip_h1_title": true,
   "title_cell": "Table of Contents",
   "title_sidebar": "Contents",
   "toc_cell": true,
   "toc_position": {},
   "toc_section_display": true,
   "toc_window_display": false
  }
 },
 "nbformat": 4,
 "nbformat_minor": 2
}
