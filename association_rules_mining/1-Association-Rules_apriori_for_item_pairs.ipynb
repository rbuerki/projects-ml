{
 "cells": [
  {
   "cell_type": "markdown",
   "metadata": {},
   "source": [
    "# Association Rules Mining For Item Pairs\n",
    "\n",
    "Association analysis using the apriori algorithm to derive rules of the form {A} -> {B}. Using instacarts retail set.\n",
    "\n",
    "Content largely taken from this excellent [blogpost](https://www.datatheque.com/posts/association-analysis/) by Grace Tenorio.\n",
    "\n",
    "\n",
    "**Data Sources:**\n",
    "\n",
    "- `data/instacart/order_products__prior.csv`: 32 Mio. instances of order_id and product_id combinations\n",
    "- `data/instacart/products.csv`: Product info, I need this in the very last part to add the product names only.\n",
    "\n",
    "**Changes**\n",
    "\n",
    "- 2019-07-04: Start and complete notebook\n"
   ]
  },
  {
   "cell_type": "markdown",
   "metadata": {
    "toc": true
   },
   "source": [
    "<h1>Table of Contents<span class=\"tocSkip\"></span></h1>\n",
    "<div class=\"toc\"><ul class=\"toc-item\"><li><span><a href=\"#Import-libraries,-load-data\" data-toc-modified-id=\"Import-libraries,-load-data-1\"><span class=\"toc-item-num\">1&nbsp;&nbsp;</span>Import libraries, load data</a></span></li><li><span><a href=\"#Check-basic-data-structure\" data-toc-modified-id=\"Check-basic-data-structure-2\"><span class=\"toc-item-num\">2&nbsp;&nbsp;</span>Check basic data structure</a></span></li><li><span><a href=\"#Perpare-data\" data-toc-modified-id=\"Perpare-data-3\"><span class=\"toc-item-num\">3&nbsp;&nbsp;</span>Perpare data</a></span></li><li><span><a href=\"#Define-Association-rules-function\" data-toc-modified-id=\"Define-Association-rules-function-4\"><span class=\"toc-item-num\">4&nbsp;&nbsp;</span>Define Association rules function</a></span><ul class=\"toc-item\"><li><span><a href=\"#Helper-functions-to-the-main-association-rules-function\" data-toc-modified-id=\"Helper-functions-to-the-main-association-rules-function-4.1\"><span class=\"toc-item-num\">4.1&nbsp;&nbsp;</span>Helper functions to the main association rules function</a></span></li><li><span><a href=\"#Association-rules-function\" data-toc-modified-id=\"Association-rules-function-4.2\"><span class=\"toc-item-num\">4.2&nbsp;&nbsp;</span>Association rules function</a></span></li></ul></li><li><span><a href=\"#Perform-Association-rules-mining\" data-toc-modified-id=\"Perform-Association-rules-mining-5\"><span class=\"toc-item-num\">5&nbsp;&nbsp;</span>Perform Association rules mining</a></span><ul class=\"toc-item\"><li><span><a href=\"#Replace-Product-IDs-with-Names\" data-toc-modified-id=\"Replace-Product-IDs-with-Names-5.1\"><span class=\"toc-item-num\">5.1&nbsp;&nbsp;</span>Replace Product IDs with Names</a></span></li><li><span><a href=\"#Conclusion\" data-toc-modified-id=\"Conclusion-5.2\"><span class=\"toc-item-num\">5.2&nbsp;&nbsp;</span>Conclusion</a></span></li></ul></li></ul></div>"
   ]
  },
  {
   "cell_type": "markdown",
   "metadata": {},
   "source": [
    "---"
   ]
  },
  {
   "cell_type": "markdown",
   "metadata": {},
   "source": [
    "## Import libraries, load data"
   ]
  },
  {
   "cell_type": "code",
   "execution_count": 1,
   "metadata": {
    "ExecuteTime": {
     "end_time": "2019-07-04T19:20:23.994517Z",
     "start_time": "2019-07-04T19:20:22.026518Z"
    }
   },
   "outputs": [],
   "source": [
    "# Import libraries\n",
    "import numpy as np\n",
    "import pandas as pd\n",
    "from tqdm import tqdm\n",
    "\n",
    "# Specials\n",
    "from itertools import combinations, groupby\n",
    "from collections import Counter\n",
    "\n",
    "# My functions\n",
    "import EDA_functions as EDA\n",
    "import cleaning_functions as cleaning\n",
    "\n",
    "# Visualization\n",
    "import matplotlib.pyplot as plt\n",
    "import seaborn as sns \n",
    "# sns.set_style('whitegrid')\n",
    "color = 'rebeccapurple'\n",
    "%matplotlib inline\n",
    "\n",
    "# Display settings\n",
    "from IPython.display import display\n",
    "pd.options.display.max_columns = 100"
   ]
  },
  {
   "cell_type": "code",
   "execution_count": 12,
   "metadata": {
    "ExecuteTime": {
     "end_time": "2019-07-04T19:27:07.856719Z",
     "start_time": "2019-07-04T19:27:07.778524Z"
    }
   },
   "outputs": [],
   "source": [
    "# Load data\n",
    "orders_df = pd.read_csv('data/instacart/order_products__prior.csv')\n",
    "item_name   = pd.read_csv('data/instacart/products.csv')"
   ]
  },
  {
   "cell_type": "markdown",
   "metadata": {},
   "source": [
    "## Check basic data structure"
   ]
  },
  {
   "cell_type": "code",
   "execution_count": 3,
   "metadata": {
    "ExecuteTime": {
     "end_time": "2019-07-04T19:20:31.852507Z",
     "start_time": "2019-07-04T19:20:31.821261Z"
    }
   },
   "outputs": [
    {
     "name": "stdout",
     "output_type": "stream",
     "text": [
      "<class 'pandas.core.frame.DataFrame'>\n",
      "RangeIndex: 32434489 entries, 0 to 32434488\n",
      "Data columns (total 4 columns):\n",
      "order_id             int64\n",
      "product_id           int64\n",
      "add_to_cart_order    int64\n",
      "reordered            int64\n",
      "dtypes: int64(4)\n",
      "memory usage: 989.8 MB\n"
     ]
    }
   ],
   "source": [
    "orders_df.info()"
   ]
  },
  {
   "cell_type": "code",
   "execution_count": 4,
   "metadata": {
    "ExecuteTime": {
     "end_time": "2019-07-04T19:20:34.367533Z",
     "start_time": "2019-07-04T19:20:31.852507Z"
    }
   },
   "outputs": [
    {
     "data": {
      "text/html": [
       "<div>\n",
       "<style scoped>\n",
       "    .dataframe tbody tr th:only-of-type {\n",
       "        vertical-align: middle;\n",
       "    }\n",
       "\n",
       "    .dataframe tbody tr th {\n",
       "        vertical-align: top;\n",
       "    }\n",
       "\n",
       "    .dataframe thead th {\n",
       "        text-align: right;\n",
       "    }\n",
       "</style>\n",
       "<table border=\"1\" class=\"dataframe\">\n",
       "  <thead>\n",
       "    <tr style=\"text-align: right;\">\n",
       "      <th></th>\n",
       "      <th>order_id</th>\n",
       "      <th>product_id</th>\n",
       "      <th>add_to_cart_order</th>\n",
       "      <th>reordered</th>\n",
       "    </tr>\n",
       "  </thead>\n",
       "  <tbody>\n",
       "    <tr>\n",
       "      <th>21714746</th>\n",
       "      <td>2290485</td>\n",
       "      <td>27937</td>\n",
       "      <td>1</td>\n",
       "      <td>0</td>\n",
       "    </tr>\n",
       "    <tr>\n",
       "      <th>1302103</th>\n",
       "      <td>137360</td>\n",
       "      <td>48765</td>\n",
       "      <td>10</td>\n",
       "      <td>0</td>\n",
       "    </tr>\n",
       "    <tr>\n",
       "      <th>144301</th>\n",
       "      <td>15191</td>\n",
       "      <td>30597</td>\n",
       "      <td>1</td>\n",
       "      <td>1</td>\n",
       "    </tr>\n",
       "    <tr>\n",
       "      <th>17277787</th>\n",
       "      <td>1822511</td>\n",
       "      <td>35042</td>\n",
       "      <td>5</td>\n",
       "      <td>1</td>\n",
       "    </tr>\n",
       "    <tr>\n",
       "      <th>1392741</th>\n",
       "      <td>146899</td>\n",
       "      <td>48189</td>\n",
       "      <td>3</td>\n",
       "      <td>0</td>\n",
       "    </tr>\n",
       "    <tr>\n",
       "      <th>16553251</th>\n",
       "      <td>1746131</td>\n",
       "      <td>37067</td>\n",
       "      <td>13</td>\n",
       "      <td>0</td>\n",
       "    </tr>\n",
       "    <tr>\n",
       "      <th>27250875</th>\n",
       "      <td>2873561</td>\n",
       "      <td>7912</td>\n",
       "      <td>3</td>\n",
       "      <td>0</td>\n",
       "    </tr>\n",
       "    <tr>\n",
       "      <th>29918653</th>\n",
       "      <td>3155663</td>\n",
       "      <td>36107</td>\n",
       "      <td>5</td>\n",
       "      <td>0</td>\n",
       "    </tr>\n",
       "    <tr>\n",
       "      <th>15639026</th>\n",
       "      <td>1650011</td>\n",
       "      <td>44422</td>\n",
       "      <td>1</td>\n",
       "      <td>1</td>\n",
       "    </tr>\n",
       "    <tr>\n",
       "      <th>9213754</th>\n",
       "      <td>972502</td>\n",
       "      <td>42265</td>\n",
       "      <td>2</td>\n",
       "      <td>1</td>\n",
       "    </tr>\n",
       "  </tbody>\n",
       "</table>\n",
       "</div>"
      ],
      "text/plain": [
       "          order_id  product_id  add_to_cart_order  reordered\n",
       "21714746   2290485       27937                  1          0\n",
       "1302103     137360       48765                 10          0\n",
       "144301       15191       30597                  1          1\n",
       "17277787   1822511       35042                  5          1\n",
       "1392741     146899       48189                  3          0\n",
       "16553251   1746131       37067                 13          0\n",
       "27250875   2873561        7912                  3          0\n",
       "29918653   3155663       36107                  5          0\n",
       "15639026   1650011       44422                  1          1\n",
       "9213754     972502       42265                  2          1"
      ]
     },
     "execution_count": 4,
     "metadata": {},
     "output_type": "execute_result"
    }
   ],
   "source": [
    "orders_df.sample(10)"
   ]
  },
  {
   "cell_type": "code",
   "execution_count": 5,
   "metadata": {
    "ExecuteTime": {
     "end_time": "2019-07-04T19:20:35.648480Z",
     "start_time": "2019-07-04T19:20:34.367533Z"
    }
   },
   "outputs": [
    {
     "name": "stdout",
     "output_type": "stream",
     "text": [
      "Number of unique orders:  3214874\n",
      "Number of unique products:  49677\n",
      "Mean number of products per order:  10.0\n"
     ]
    }
   ],
   "source": [
    "print(\"Number of unique orders: \", orders_df['order_id'].nunique())\n",
    "print(\"Number of unique products: \", orders_df['product_id'].nunique())\n",
    "print(\"Mean number of products per order: \", round(len(orders_df) / orders_df['order_id'].nunique(),0))"
   ]
  },
  {
   "cell_type": "code",
   "execution_count": 6,
   "metadata": {
    "ExecuteTime": {
     "end_time": "2019-07-04T19:20:37.913571Z",
     "start_time": "2019-07-04T19:20:35.648480Z"
    }
   },
   "outputs": [
    {
     "data": {
      "image/png": "[encoded data removed]",
      "text/plain": [
       "<Figure size 1152x288 with 1 Axes>"
      ]
     },
     "metadata": {
      "needs_background": "light"
     },
     "output_type": "display_data"
    }
   ],
   "source": [
    "\"\"\"Visualize distribution of number of products per order\"\"\"\n",
    "order_sizes = orders_df.groupby('order_id')['product_id'].count()\n",
    "plt.figure(figsize=(16,4))\n",
    "sns.boxplot(order_sizes, color=color, orient='h');"
   ]
  },
  {
   "cell_type": "markdown",
   "metadata": {},
   "source": [
    "## Perpare data\n",
    "\n",
    "Convert order data into format expected by the association rules function"
   ]
  },
  {
   "cell_type": "code",
   "execution_count": 7,
   "metadata": {
    "ExecuteTime": {
     "end_time": "2019-07-04T19:20:40.085021Z",
     "start_time": "2019-07-04T19:20:37.913571Z"
    }
   },
   "outputs": [
    {
     "data": {
      "text/plain": [
       "order_id\n",
       "2    33120\n",
       "2    28985\n",
       "2     9327\n",
       "2    45918\n",
       "2    30035\n",
       "2    17794\n",
       "2    40141\n",
       "2     1819\n",
       "2    43668\n",
       "3    33754\n",
       "Name: item_id, dtype: int64"
      ]
     },
     "metadata": {},
     "output_type": "display_data"
    },
    {
     "data": {
      "text/plain": [
       "pandas.core.series.Series"
      ]
     },
     "execution_count": 7,
     "metadata": {},
     "output_type": "execute_result"
    }
   ],
   "source": [
    "# Convert from DataFrame to a Series, with order_id as index and item_id as value\n",
    "orders = orders_df.set_index('order_id')['product_id'].rename('item_id')\n",
    "\n",
    "assert orders.index.nunique() == orders_df['order_id'].nunique()\n",
    "assert orders.nunique() == orders_df['product_id'].nunique()\n",
    "\n",
    "# Check results\n",
    "display(orders.head(10))\n",
    "type(orders)"
   ]
  },
  {
   "cell_type": "markdown",
   "metadata": {},
   "source": [
    "## Define Association rules function\n",
    "\n",
    "### Helper functions to the main association rules function"
   ]
  },
  {
   "cell_type": "code",
   "execution_count": 8,
   "metadata": {
    "ExecuteTime": {
     "end_time": "2019-07-04T19:20:40.100645Z",
     "start_time": "2019-07-04T19:20:40.085021Z"
    }
   },
   "outputs": [],
   "source": [
    "def calc_freq(iterable):\n",
    "    \"\"\"Return frequency counts for items and item pairs\"\"\"\n",
    "    \n",
    "    if type(iterable) == pd.core.series.Series:\n",
    "        return iterable.value_counts().rename(\"freq\")\n",
    "    else: \n",
    "        return pd.Series(Counter(iterable)).rename(\"freq\")\n",
    "\n",
    "    \n",
    "    \n",
    "def order_count(order_item):\n",
    "    \"\"\"Return number of unique orders\"\"\"\n",
    "    \n",
    "    return len(set(order_item.index))\n",
    "\n",
    "\n",
    "\n",
    "def get_item_pairs(order_item):\n",
    "    \"\"\"Return generator that yields item pairs, one at a time\"\"\"\n",
    "    \n",
    "    order_item = order_item.reset_index().values()\n",
    "    for order_id, order_object in groupby(order_item, lambda x: x[0]):\n",
    "        item_list = [item[1] for item in order_object]\n",
    "              \n",
    "        for item_pair in combinations(item_list, 2):\n",
    "            yield item_pair\n",
    "            \n",
    "\n",
    "\n",
    "def merge_item_stats(item_pairs, item_stats):\n",
    "    \"\"\"Returns frequency and support associated with item\"\"\"\n",
    "    \n",
    "    return (item_pairs\n",
    "                .merge(item_stats.rename(\n",
    "                    columns={'freq': 'freqA', \n",
    "                             'support': 'supportA'}), left_on='item_A', right_index=True)\n",
    "                .merge(item_stats.rename(\n",
    "                    columns={'freq': 'freqB', \n",
    "                             'support': 'supportB'}), left_on='item_B', right_index=True))\n",
    "\n",
    "\n",
    "\n",
    "def merge_item_name(rules, item_name):\n",
    "    \"\"\"Return name associated with item\"\"\"\n",
    "    \n",
    "    columns = ['itemA','itemB','freqAB','supportAB','freqA','supportA','freqB','supportB', \n",
    "               'confidenceAtoB','confidenceBtoA','lift']\n",
    "    rules = (rules\n",
    "                .merge(item_name.rename(columns={'item_name': 'itemA'}), \n",
    "                       left_on='item_A', right_on='item_id')\n",
    "                .merge(item_name.rename(columns={'item_name': 'itemB'}), \n",
    "                       left_on='item_B', right_on='item_id'))\n",
    "    return rules[columns]               "
   ]
  },
  {
   "cell_type": "markdown",
   "metadata": {},
   "source": [
    "### Association rules function"
   ]
  },
  {
   "cell_type": "code",
   "execution_count": 9,
   "metadata": {
    "ExecuteTime": {
     "end_time": "2019-07-04T19:20:40.116174Z",
     "start_time": "2019-07-04T19:20:40.100645Z"
    }
   },
   "outputs": [],
   "source": [
    "def association_rules(order_item, min_support):\n",
    "\n",
    "    print(\"Starting order_item: {:22d}\".format(len(order_item)))\n",
    "\n",
    "    # Calculate item frequency and support\n",
    "    item_stats = calc_freq(order_item).to_frame(\"freq\")\n",
    "    item_stats['support']  = item_stats['freq'] / order_count(order_item) * 100\n",
    "\n",
    "    # Filter from order_item items below min support \n",
    "    qualifying_items = item_stats[item_stats['support'] >= min_support].index\n",
    "    order_item = order_item[order_item.isin(qualifying_items)]\n",
    "\n",
    "    print(\"Items with support >= {}: {:15d}\".format(min_support, len(qualifying_items)))\n",
    "    print(\"Remaining order_item: {:21d}\".format(len(order_item)))\n",
    "\n",
    "    # Filter from order_item orders with less than 2 items\n",
    "    order_size = calc_freq(order_item.index)\n",
    "    qualifying_orders = order_size[order_size >= 2].index\n",
    "    order_item = order_item[order_item.index.isin(qualifying_orders)]\n",
    "\n",
    "    print(\"Remaining orders with 2+ items: {:11d}\".format(len(qualifying_orders)))\n",
    "    print(\"Remaining order_item: {:21d}\".format(len(order_item)))\n",
    "\n",
    "    # Recalculate item frequency and support\n",
    "    item_stats  = calc_freq(order_item).to_frame(\"freq\")\n",
    "    item_stats['support']  = item_stats['freq'] / order_count(order_item) * 100\n",
    "\n",
    "    # Get item pairs generator\n",
    "    item_pair_gen = get_item_pairs(order_item)\n",
    "\n",
    "    # Calculate item pair frequency and support\n",
    "    item_pairs = calc_freq(item_pair_gen).to_frame(\"freqAB\")\n",
    "    item_pairs['supportAB'] = item_pairs['freqAB'] / len(qualifying_orders) * 100\n",
    "\n",
    "    print(\"Item pairs: {:31d}\".format(len(item_pairs)))\n",
    "\n",
    "    # Filter from item_pairs those below min support\n",
    "    item_pairs = item_pairs[item_pairs['supportAB'] >= min_support]\n",
    "\n",
    "    print(\"Item pairs with support >= {}: {:10d}\\n\".format(min_support, len(item_pairs)))\n",
    "\n",
    "    # Create table of association rules and compute relevant metrics\n",
    "    item_pairs = item_pairs.reset_index().rename(columns={'level_0': 'item_A', 'level_1': 'item_B'})\n",
    "    item_pairs = merge_item_stats(item_pairs, item_stats)\n",
    "    \n",
    "    item_pairs['confidenceAtoB'] = item_pairs['supportAB'] / item_pairs['supportA']\n",
    "    item_pairs['confidenceBtoA'] = item_pairs['supportAB'] / item_pairs['supportB']\n",
    "    item_pairs['lift'] = item_pairs['supportAB'] / (item_pairs['supportA'] * item_pairs['supportB'])\n",
    "\n",
    "    # Return association rules sorted by lift in descending order\n",
    "    return item_pairs.sort_values('lift', ascending=False)"
   ]
  },
  {
   "cell_type": "markdown",
   "metadata": {},
   "source": [
    "## Perform Association rules mining"
   ]
  },
  {
   "cell_type": "code",
   "execution_count": 10,
   "metadata": {
    "ExecuteTime": {
     "end_time": "2019-07-04T19:26:28.613755Z",
     "start_time": "2019-07-04T19:21:37.377042Z"
    }
   },
   "outputs": [
    {
     "name": "stdout",
     "output_type": "stream",
     "text": [
      "Starting order_item:               32434489\n",
      "Items with support >= 0.01:           10906\n",
      "Remaining order_item:              29843570\n",
      "Remaining orders with 2+ items:     3013325\n",
      "Remaining order_item:              29662716\n"
     ]
    },
    {
     "name": "stderr",
     "output_type": "stream",
     "text": [
      "C:\\Users\\r2d4\\Anaconda3\\lib\\site-packages\\ipykernel_launcher.py:21: FutureWarning: Method .as_matrix will be removed in a future version. Use .values instead.\n"
     ]
    },
    {
     "name": "stdout",
     "output_type": "stream",
     "text": [
      "Item pairs:                        30622410\n",
      "Item pairs with support >= 0.01:      48751\n",
      "\n"
     ]
    }
   ],
   "source": [
    "rules = association_rules(orders, 0.01)"
   ]
  },
  {
   "cell_type": "markdown",
   "metadata": {},
   "source": [
    "### Display result"
   ]
  },
  {
   "cell_type": "code",
   "execution_count": 13,
   "metadata": {
    "ExecuteTime": {
     "end_time": "2019-07-04T19:27:14.352229Z",
     "start_time": "2019-07-04T19:27:14.227259Z"
    }
   },
   "outputs": [],
   "source": [
    "# Replace product IDs with names\n",
    "item_name   = item_name.rename(columns={'product_id':'item_id', 'product_name':'item_name'})\n",
    "rules_final = merge_item_name(rules, item_name).sort_values('lift', ascending=False)"
   ]
  },
  {
   "cell_type": "code",
   "execution_count": 15,
   "metadata": {
    "ExecuteTime": {
     "end_time": "2019-07-04T19:28:08.437004Z",
     "start_time": "2019-07-04T19:28:08.390141Z"
    }
   },
   "outputs": [
    {
     "name": "stdout",
     "output_type": "stream",
     "text": [
      "(48751, 11)\n"
     ]
    },
    {
     "data": {
      "text/html": [
       "<div>\n",
       "<style scoped>\n",
       "    .dataframe tbody tr th:only-of-type {\n",
       "        vertical-align: middle;\n",
       "    }\n",
       "\n",
       "    .dataframe tbody tr th {\n",
       "        vertical-align: top;\n",
       "    }\n",
       "\n",
       "    .dataframe thead th {\n",
       "        text-align: right;\n",
       "    }\n",
       "</style>\n",
       "<table border=\"1\" class=\"dataframe\">\n",
       "  <thead>\n",
       "    <tr style=\"text-align: right;\">\n",
       "      <th></th>\n",
       "      <th>itemA</th>\n",
       "      <th>itemB</th>\n",
       "      <th>freqAB</th>\n",
       "      <th>supportAB</th>\n",
       "      <th>freqA</th>\n",
       "      <th>supportA</th>\n",
       "      <th>freqB</th>\n",
       "      <th>supportB</th>\n",
       "      <th>confidenceAtoB</th>\n",
       "      <th>confidenceBtoA</th>\n",
       "      <th>lift</th>\n",
       "    </tr>\n",
       "  </thead>\n",
       "  <tbody>\n",
       "    <tr>\n",
       "      <th>0</th>\n",
       "      <td>Organic Strawberry Chia Lowfat 2% Cottage Cheese</td>\n",
       "      <td>Organic Cottage Cheese Blueberry Acai Chia</td>\n",
       "      <td>306</td>\n",
       "      <td>0.010155</td>\n",
       "      <td>1163</td>\n",
       "      <td>0.038595</td>\n",
       "      <td>839</td>\n",
       "      <td>0.027843</td>\n",
       "      <td>0.263113</td>\n",
       "      <td>0.364720</td>\n",
       "      <td>9.449868</td>\n",
       "    </tr>\n",
       "    <tr>\n",
       "      <th>1</th>\n",
       "      <td>Grain Free Chicken Formula Cat Food</td>\n",
       "      <td>Grain Free Turkey Formula Cat Food</td>\n",
       "      <td>318</td>\n",
       "      <td>0.010553</td>\n",
       "      <td>1809</td>\n",
       "      <td>0.060033</td>\n",
       "      <td>879</td>\n",
       "      <td>0.029170</td>\n",
       "      <td>0.175788</td>\n",
       "      <td>0.361775</td>\n",
       "      <td>6.026229</td>\n",
       "    </tr>\n",
       "    <tr>\n",
       "      <th>3</th>\n",
       "      <td>Organic Fruit Yogurt Smoothie Mixed Berry</td>\n",
       "      <td>Apple Blueberry Fruit Yogurt Smoothie</td>\n",
       "      <td>349</td>\n",
       "      <td>0.011582</td>\n",
       "      <td>1518</td>\n",
       "      <td>0.050376</td>\n",
       "      <td>1249</td>\n",
       "      <td>0.041449</td>\n",
       "      <td>0.229908</td>\n",
       "      <td>0.279424</td>\n",
       "      <td>5.546732</td>\n",
       "    </tr>\n",
       "    <tr>\n",
       "      <th>9</th>\n",
       "      <td>Nonfat Strawberry With Fruit On The Bottom Gre...</td>\n",
       "      <td>0% Greek, Blueberry on the Bottom Yogurt</td>\n",
       "      <td>409</td>\n",
       "      <td>0.013573</td>\n",
       "      <td>1666</td>\n",
       "      <td>0.055288</td>\n",
       "      <td>1391</td>\n",
       "      <td>0.046162</td>\n",
       "      <td>0.245498</td>\n",
       "      <td>0.294033</td>\n",
       "      <td>5.318230</td>\n",
       "    </tr>\n",
       "    <tr>\n",
       "      <th>10</th>\n",
       "      <td>Organic Grapefruit Ginger Sparkling Yerba Mate</td>\n",
       "      <td>Cranberry Pomegranate Sparkling Yerba Mate</td>\n",
       "      <td>351</td>\n",
       "      <td>0.011648</td>\n",
       "      <td>1731</td>\n",
       "      <td>0.057445</td>\n",
       "      <td>1149</td>\n",
       "      <td>0.038131</td>\n",
       "      <td>0.202773</td>\n",
       "      <td>0.305483</td>\n",
       "      <td>5.317849</td>\n",
       "    </tr>\n",
       "    <tr>\n",
       "      <th>11</th>\n",
       "      <td>Baby Food Pouch - Roasted Carrot Spinach &amp; Beans</td>\n",
       "      <td>Baby Food Pouch - Butternut Squash, Carrot &amp; C...</td>\n",
       "      <td>332</td>\n",
       "      <td>0.011018</td>\n",
       "      <td>1503</td>\n",
       "      <td>0.049878</td>\n",
       "      <td>1290</td>\n",
       "      <td>0.042810</td>\n",
       "      <td>0.220892</td>\n",
       "      <td>0.257364</td>\n",
       "      <td>5.159830</td>\n",
       "    </tr>\n",
       "    <tr>\n",
       "      <th>12</th>\n",
       "      <td>Unsweetened Whole Milk Mixed Berry Greek Yogurt</td>\n",
       "      <td>Unsweetened Whole Milk Blueberry Greek Yogurt</td>\n",
       "      <td>438</td>\n",
       "      <td>0.014535</td>\n",
       "      <td>1622</td>\n",
       "      <td>0.053828</td>\n",
       "      <td>1621</td>\n",
       "      <td>0.053794</td>\n",
       "      <td>0.270037</td>\n",
       "      <td>0.270204</td>\n",
       "      <td>5.019798</td>\n",
       "    </tr>\n",
       "    <tr>\n",
       "      <th>23</th>\n",
       "      <td>Uncured Cracked Pepper Beef</td>\n",
       "      <td>Chipotle Beef &amp; Pork Realstick</td>\n",
       "      <td>410</td>\n",
       "      <td>0.013606</td>\n",
       "      <td>1839</td>\n",
       "      <td>0.061029</td>\n",
       "      <td>1370</td>\n",
       "      <td>0.045465</td>\n",
       "      <td>0.222947</td>\n",
       "      <td>0.299270</td>\n",
       "      <td>4.903741</td>\n",
       "    </tr>\n",
       "    <tr>\n",
       "      <th>24</th>\n",
       "      <td>Organic Mango Yogurt</td>\n",
       "      <td>Organic Whole Milk Washington Black Cherry Yogurt</td>\n",
       "      <td>334</td>\n",
       "      <td>0.011084</td>\n",
       "      <td>1675</td>\n",
       "      <td>0.055586</td>\n",
       "      <td>1390</td>\n",
       "      <td>0.046128</td>\n",
       "      <td>0.199403</td>\n",
       "      <td>0.240288</td>\n",
       "      <td>4.322777</td>\n",
       "    </tr>\n",
       "    <tr>\n",
       "      <th>2</th>\n",
       "      <td>Grain Free Chicken Formula Cat Food</td>\n",
       "      <td>Grain Free Turkey &amp; Salmon Formula Cat Food</td>\n",
       "      <td>391</td>\n",
       "      <td>0.012976</td>\n",
       "      <td>1809</td>\n",
       "      <td>0.060033</td>\n",
       "      <td>1553</td>\n",
       "      <td>0.051538</td>\n",
       "      <td>0.216142</td>\n",
       "      <td>0.251771</td>\n",
       "      <td>4.193848</td>\n",
       "    </tr>\n",
       "    <tr>\n",
       "      <th>25</th>\n",
       "      <td>Raspberry Essence Water</td>\n",
       "      <td>Unsweetened Pomegranate Essence Water</td>\n",
       "      <td>366</td>\n",
       "      <td>0.012146</td>\n",
       "      <td>2025</td>\n",
       "      <td>0.067202</td>\n",
       "      <td>1304</td>\n",
       "      <td>0.043274</td>\n",
       "      <td>0.180741</td>\n",
       "      <td>0.280675</td>\n",
       "      <td>4.176615</td>\n",
       "    </tr>\n",
       "    <tr>\n",
       "      <th>13</th>\n",
       "      <td>Unsweetened Whole Milk Strawberry Yogurt</td>\n",
       "      <td>Unsweetened Whole Milk Blueberry Greek Yogurt</td>\n",
       "      <td>440</td>\n",
       "      <td>0.014602</td>\n",
       "      <td>1965</td>\n",
       "      <td>0.065210</td>\n",
       "      <td>1621</td>\n",
       "      <td>0.053794</td>\n",
       "      <td>0.223919</td>\n",
       "      <td>0.271437</td>\n",
       "      <td>4.162489</td>\n",
       "    </tr>\n",
       "    <tr>\n",
       "      <th>14</th>\n",
       "      <td>Unsweetened Whole Milk Peach Greek Yogurt</td>\n",
       "      <td>Unsweetened Whole Milk Blueberry Greek Yogurt</td>\n",
       "      <td>421</td>\n",
       "      <td>0.013971</td>\n",
       "      <td>1922</td>\n",
       "      <td>0.063783</td>\n",
       "      <td>1621</td>\n",
       "      <td>0.053794</td>\n",
       "      <td>0.219043</td>\n",
       "      <td>0.259716</td>\n",
       "      <td>4.071849</td>\n",
       "    </tr>\n",
       "    <tr>\n",
       "      <th>44</th>\n",
       "      <td>Oh My Yog! Pacific Coast Strawberry Trilayer Y...</td>\n",
       "      <td>Oh My Yog! Organic Wild Quebec Blueberry Cream...</td>\n",
       "      <td>860</td>\n",
       "      <td>0.028540</td>\n",
       "      <td>2857</td>\n",
       "      <td>0.094812</td>\n",
       "      <td>2271</td>\n",
       "      <td>0.075365</td>\n",
       "      <td>0.301015</td>\n",
       "      <td>0.378688</td>\n",
       "      <td>3.994083</td>\n",
       "    </tr>\n",
       "    <tr>\n",
       "      <th>55</th>\n",
       "      <td>Mighty 4 Kale, Strawberry, Amaranth &amp; Greek Yo...</td>\n",
       "      <td>Mighty 4 Essential Tots Spinach, Kiwi, Barley ...</td>\n",
       "      <td>390</td>\n",
       "      <td>0.012943</td>\n",
       "      <td>2206</td>\n",
       "      <td>0.073208</td>\n",
       "      <td>1337</td>\n",
       "      <td>0.044370</td>\n",
       "      <td>0.176791</td>\n",
       "      <td>0.291698</td>\n",
       "      <td>3.984498</td>\n",
       "    </tr>\n",
       "    <tr>\n",
       "      <th>20</th>\n",
       "      <td>Unsweetened Whole Milk Peach Greek Yogurt</td>\n",
       "      <td>Unsweetened Whole Milk Strawberry Yogurt</td>\n",
       "      <td>499</td>\n",
       "      <td>0.016560</td>\n",
       "      <td>1922</td>\n",
       "      <td>0.063783</td>\n",
       "      <td>1965</td>\n",
       "      <td>0.065210</td>\n",
       "      <td>0.259625</td>\n",
       "      <td>0.253944</td>\n",
       "      <td>3.981352</td>\n",
       "    </tr>\n",
       "    <tr>\n",
       "      <th>65</th>\n",
       "      <td>0% Greek, Blueberry on the Bottom Yogurt</td>\n",
       "      <td>Nonfat Strawberry With Fruit On The Bottom Gre...</td>\n",
       "      <td>305</td>\n",
       "      <td>0.010122</td>\n",
       "      <td>1391</td>\n",
       "      <td>0.046162</td>\n",
       "      <td>1666</td>\n",
       "      <td>0.055288</td>\n",
       "      <td>0.219267</td>\n",
       "      <td>0.183073</td>\n",
       "      <td>3.965918</td>\n",
       "    </tr>\n",
       "    <tr>\n",
       "      <th>15</th>\n",
       "      <td>Unsweetened Whole Milk Mixed Berry Greek Yogurt</td>\n",
       "      <td>Unsweetened Whole Milk Peach Greek Yogurt</td>\n",
       "      <td>410</td>\n",
       "      <td>0.013606</td>\n",
       "      <td>1622</td>\n",
       "      <td>0.053828</td>\n",
       "      <td>1922</td>\n",
       "      <td>0.063783</td>\n",
       "      <td>0.252774</td>\n",
       "      <td>0.213319</td>\n",
       "      <td>3.963014</td>\n",
       "    </tr>\n",
       "    <tr>\n",
       "      <th>43</th>\n",
       "      <td>Unsweetened Whole Milk Peach Greek Yogurt</td>\n",
       "      <td>Unsweetened Whole Milk Mixed Berry Greek Yogurt</td>\n",
       "      <td>407</td>\n",
       "      <td>0.013507</td>\n",
       "      <td>1922</td>\n",
       "      <td>0.063783</td>\n",
       "      <td>1622</td>\n",
       "      <td>0.053828</td>\n",
       "      <td>0.211759</td>\n",
       "      <td>0.250925</td>\n",
       "      <td>3.934016</td>\n",
       "    </tr>\n",
       "    <tr>\n",
       "      <th>26</th>\n",
       "      <td>Unsweetened Blackberry Water</td>\n",
       "      <td>Unsweetened Pomegranate Essence Water</td>\n",
       "      <td>494</td>\n",
       "      <td>0.016394</td>\n",
       "      <td>3114</td>\n",
       "      <td>0.103341</td>\n",
       "      <td>1304</td>\n",
       "      <td>0.043274</td>\n",
       "      <td>0.158638</td>\n",
       "      <td>0.378834</td>\n",
       "      <td>3.665867</td>\n",
       "    </tr>\n",
       "  </tbody>\n",
       "</table>\n",
       "</div>"
      ],
      "text/plain": [
       "                                                itemA  \\\n",
       "0    Organic Strawberry Chia Lowfat 2% Cottage Cheese   \n",
       "1                 Grain Free Chicken Formula Cat Food   \n",
       "3           Organic Fruit Yogurt Smoothie Mixed Berry   \n",
       "9   Nonfat Strawberry With Fruit On The Bottom Gre...   \n",
       "10     Organic Grapefruit Ginger Sparkling Yerba Mate   \n",
       "11   Baby Food Pouch - Roasted Carrot Spinach & Beans   \n",
       "12    Unsweetened Whole Milk Mixed Berry Greek Yogurt   \n",
       "23                        Uncured Cracked Pepper Beef   \n",
       "24                               Organic Mango Yogurt   \n",
       "2                 Grain Free Chicken Formula Cat Food   \n",
       "25                            Raspberry Essence Water   \n",
       "13           Unsweetened Whole Milk Strawberry Yogurt   \n",
       "14          Unsweetened Whole Milk Peach Greek Yogurt   \n",
       "44  Oh My Yog! Pacific Coast Strawberry Trilayer Y...   \n",
       "55  Mighty 4 Kale, Strawberry, Amaranth & Greek Yo...   \n",
       "20          Unsweetened Whole Milk Peach Greek Yogurt   \n",
       "65           0% Greek, Blueberry on the Bottom Yogurt   \n",
       "15    Unsweetened Whole Milk Mixed Berry Greek Yogurt   \n",
       "43          Unsweetened Whole Milk Peach Greek Yogurt   \n",
       "26                       Unsweetened Blackberry Water   \n",
       "\n",
       "                                                itemB  freqAB  supportAB  \\\n",
       "0          Organic Cottage Cheese Blueberry Acai Chia     306   0.010155   \n",
       "1                  Grain Free Turkey Formula Cat Food     318   0.010553   \n",
       "3               Apple Blueberry Fruit Yogurt Smoothie     349   0.011582   \n",
       "9            0% Greek, Blueberry on the Bottom Yogurt     409   0.013573   \n",
       "10         Cranberry Pomegranate Sparkling Yerba Mate     351   0.011648   \n",
       "11  Baby Food Pouch - Butternut Squash, Carrot & C...     332   0.011018   \n",
       "12      Unsweetened Whole Milk Blueberry Greek Yogurt     438   0.014535   \n",
       "23                     Chipotle Beef & Pork Realstick     410   0.013606   \n",
       "24  Organic Whole Milk Washington Black Cherry Yogurt     334   0.011084   \n",
       "2         Grain Free Turkey & Salmon Formula Cat Food     391   0.012976   \n",
       "25              Unsweetened Pomegranate Essence Water     366   0.012146   \n",
       "13      Unsweetened Whole Milk Blueberry Greek Yogurt     440   0.014602   \n",
       "14      Unsweetened Whole Milk Blueberry Greek Yogurt     421   0.013971   \n",
       "44  Oh My Yog! Organic Wild Quebec Blueberry Cream...     860   0.028540   \n",
       "55  Mighty 4 Essential Tots Spinach, Kiwi, Barley ...     390   0.012943   \n",
       "20           Unsweetened Whole Milk Strawberry Yogurt     499   0.016560   \n",
       "65  Nonfat Strawberry With Fruit On The Bottom Gre...     305   0.010122   \n",
       "15          Unsweetened Whole Milk Peach Greek Yogurt     410   0.013606   \n",
       "43    Unsweetened Whole Milk Mixed Berry Greek Yogurt     407   0.013507   \n",
       "26              Unsweetened Pomegranate Essence Water     494   0.016394   \n",
       "\n",
       "    freqA  supportA  freqB  supportB  confidenceAtoB  confidenceBtoA      lift  \n",
       "0    1163  0.038595    839  0.027843        0.263113        0.364720  9.449868  \n",
       "1    1809  0.060033    879  0.029170        0.175788        0.361775  6.026229  \n",
       "3    1518  0.050376   1249  0.041449        0.229908        0.279424  5.546732  \n",
       "9    1666  0.055288   1391  0.046162        0.245498        0.294033  5.318230  \n",
       "10   1731  0.057445   1149  0.038131        0.202773        0.305483  5.317849  \n",
       "11   1503  0.049878   1290  0.042810        0.220892        0.257364  5.159830  \n",
       "12   1622  0.053828   1621  0.053794        0.270037        0.270204  5.019798  \n",
       "23   1839  0.061029   1370  0.045465        0.222947        0.299270  4.903741  \n",
       "24   1675  0.055586   1390  0.046128        0.199403        0.240288  4.322777  \n",
       "2    1809  0.060033   1553  0.051538        0.216142        0.251771  4.193848  \n",
       "25   2025  0.067202   1304  0.043274        0.180741        0.280675  4.176615  \n",
       "13   1965  0.065210   1621  0.053794        0.223919        0.271437  4.162489  \n",
       "14   1922  0.063783   1621  0.053794        0.219043        0.259716  4.071849  \n",
       "44   2857  0.094812   2271  0.075365        0.301015        0.378688  3.994083  \n",
       "55   2206  0.073208   1337  0.044370        0.176791        0.291698  3.984498  \n",
       "20   1922  0.063783   1965  0.065210        0.259625        0.253944  3.981352  \n",
       "65   1391  0.046162   1666  0.055288        0.219267        0.183073  3.965918  \n",
       "15   1622  0.053828   1922  0.063783        0.252774        0.213319  3.963014  \n",
       "43   1922  0.063783   1622  0.053828        0.211759        0.250925  3.934016  \n",
       "26   3114  0.103341   1304  0.043274        0.158638        0.378834  3.665867  "
      ]
     },
     "metadata": {},
     "output_type": "display_data"
    }
   ],
   "source": [
    "# Check final result\n",
    "print(rules_final.shape)\n",
    "display(rules_final.head(20))"
   ]
  },
  {
   "cell_type": "markdown",
   "metadata": {},
   "source": [
    "### Conclusion\n",
    "From the output above, we see that the top associations are not surprising, with one flavor of an item being purchased with another flavor from the same item family (eg: Strawberry Chia Cottage Cheese with Blueberry Acai Cottage Cheese, Chicken Cat Food with Turkey Cat Food, etc). As mentioned, one common application of association rules mining is in the domain of recommender systems. Once item pairs have been identified as having positive relationship, recommendations can be made to customers in order to increase sales. And hopefully, along the way, also introduce customers to items they never would have tried before or even imagined existed! "
   ]
  },
  {
   "cell_type": "markdown",
   "metadata": {},
   "source": [
    "---"
   ]
  }
 ],
 "metadata": {
  "hide_input": false,
  "kernelspec": {
   "display_name": "Python 3",
   "language": "python",
   "name": "python3"
  },
  "language_info": {
   "codemirror_mode": {
    "name": "ipython",
    "version": 3
   },
   "file_extension": ".py",
   "mimetype": "text/x-python",
   "name": "python",
   "nbconvert_exporter": "python",
   "pygments_lexer": "ipython3",
   "version": "3.7.3"
  },
  "toc": {
   "base_numbering": 1,
   "nav_menu": {},
   "number_sections": true,
   "sideBar": false,
   "skip_h1_title": true,
   "title_cell": "Table of Contents",
   "title_sidebar": "Contents",
   "toc_cell": true,
   "toc_position": {},
   "toc_section_display": true,
   "toc_window_display": false
  }
 },
 "nbformat": 4,
 "nbformat_minor": 2
}
