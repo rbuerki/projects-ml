{
 "cells": [
  {
   "cell_type": "markdown",
   "metadata": {},
   "source": [
    "# Background and Explanations\n",
    "\n",
    "[Free Form Description]\n",
    "\n",
    "\n",
    "**Data Sources:**\n",
    "\n",
    "- `xxx.csv`: blablabla\n",
    "\n",
    "**Data Output:**\n",
    "\n",
    "- `xxx.csv`: blablabla\n",
    "\n",
    "**Changes**\n",
    "\n",
    "- 2019-02-18: Start project\n",
    "\n"
   ]
  },
  {
   "cell_type": "markdown",
   "metadata": {
    "toc": true
   },
   "source": [
    "<h1>Table of Contents<span class=\"tocSkip\"></span></h1>\n",
    "<div class=\"toc\"><ul class=\"toc-item\"><li><span><a href=\"#Explain-Apriori-Algorithm\" data-toc-modified-id=\"Explain-Apriori-Algorithm-1\"><span class=\"toc-item-num\">1&nbsp;&nbsp;</span>Explain Apriori Algorithm</a></span></li><li><span><a href=\"#Explain-Association-Rules-Mining\" data-toc-modified-id=\"Explain-Association-Rules-Mining-2\"><span class=\"toc-item-num\">2&nbsp;&nbsp;</span>Explain Association Rules Mining</a></span></li><li><span><a href=\"#Explain-Python-Generators\" data-toc-modified-id=\"Explain-Python-Generators-3\"><span class=\"toc-item-num\">3&nbsp;&nbsp;</span>Explain Python Generators</a></span></li></ul></div>"
   ]
  },
  {
   "cell_type": "markdown",
   "metadata": {},
   "source": [
    "---"
   ]
  },
  {
   "cell_type": "markdown",
   "metadata": {},
   "source": [
    "## Explain Apriori Algorithm\n",
    "\n",
    "Apriori is an algorithm used to identify frequent item sets (in our special case, item pairs). It does so using a \"bottom up\" approach, first identifying individual items that satisfy a minimum occurence threshold. It then extends the item set, adding one item at a time and checking if the resulting item set still satisfies the specified threshold. The algorithm stops when there are no more items to add that meet the minimum occurrence requirement. \n",
    "\n",
    "Here's a simple **example** of apriori in action, assuming a minimum occurence threshold of 3:\n",
    "\n",
    "\n",
    "- order 1: apple, egg, milk  \n",
    "- order 2: carrot, milk  \n",
    "- order 3: apple, egg, carrot\n",
    "- order 4: apple, egg\n",
    "- order 5: apple, carrot\n",
    "\n",
    "\n",
    "_Iteration 1:_  Count the number of times each item occurs   \n",
    "\n",
    "item set      occurrence count:    \n",
    "- {apple}              4   \n",
    "- {egg}                3   \n",
    "- {milk}               2   \n",
    "- {carrot}             2   \n",
    "\n",
    "{milk} and {carrot} are eliminated because they do not meet the minimum occurrence threshold.\n",
    "\n",
    "\n",
    "_Iteration 2:_ Build item sets of size 2 using the remaining items from Iteration 1 (ie: apple, egg)\n",
    "\n",
    "item set           occurence count:  \n",
    "- {apple, egg} 3  \n",
    "\n",
    "Only {apple, egg} remains and the algorithm stops since there are no more items to add.\n",
    "\n",
    "If we had more orders and items, we can continue to iterate, building item sets consisting of more than 2 elements. For the problem we are trying to solve (ie: finding relationships between pairs of items), it suffices to implement apriori to get to item sets of size 2."
   ]
  },
  {
   "cell_type": "markdown",
   "metadata": {
    "ExecuteTime": {
     "end_time": "2019-06-26T09:25:16.394061Z",
     "start_time": "2019-06-26T09:25:16.369139Z"
    }
   },
   "source": [
    "---"
   ]
  },
  {
   "cell_type": "markdown",
   "metadata": {},
   "source": [
    "## Explain Association Rules Mining\n",
    "\n",
    "Once the item sets have been generated using apriori, we can start mining association rules. Given that we are only looking at item sets of size 2, the association rules we will generate will be of the form {A} -> {B}. \n",
    "\n",
    "Here are 3 key metrics to consider when evaluating association rules:\n",
    "\n",
    "1. **support**\n",
    "This is the percentage of orders that contains the item set. In the example above, there are 5 orders in total and {apple,egg} occurs in 3 of them, so:\n",
    "\n",
    "`support{apple,egg} = 3/5 or 60%`\n",
    "\n",
    "The minimum support threshold required by apriori can be set based on knowledge of your domain. Example: If you have a large dataset containing thousands of distinct items and orders that contain only a small fraction of these items, then it may be reasonable to set a low support threshold, like 0.01%.\n",
    "\n",
    "2. **confidence**\n",
    "Given two items, A and B, confidence measures the percentage of times that item B is purchased, given that item A was purchased. This is expressed as:\n",
    "\n",
    "`confidence{A->B} = support{A,B} / support{A}`\n",
    "\n",
    "Confidence values range from 0 to 1, where 0 indicates that B is never purchased when A is purchased, and 1 indicates that B is always purchased whenever A is purchased. Note that the confidence measure is directional. This means that we can also compute the percentage of times that item A is purchased, given that item B was purchased: \n",
    "\n",
    "`confidence{B->A} = support{A,B} / support{B}`\n",
    "\n",
    "In our example, the respective percentages are:\n",
    "\n",
    "`confidence{apple->egg} = (3/5) / (4/5) = 0.75 or 75%`\n",
    "`confidence{egg->apple} = (3/5) / (3/5) = 1 or 100%`  \n",
    "\n",
    "Here we see that all of the orders that contain egg also contain apple. But, does this mean that there is a relationship between these two items, _or are they occurring together in the same orders simply by chance?_ To answer this question, we look at another measure which takes into account the popularity of both items.\n",
    "\n",
    "3. **lift**\n",
    "Given two items, A and B, lift indicates whether there is a relationship between A and B, or whether the two items are occuring together in the same orders simply by chance (ie: at random). Unlike the confidence metric whose value may vary depending on direction (eg: confidence{A->B} may be different from confidence{B->A}), lift has no direction. This means that the lift{A,B} is always equal to the lift{B,A}:\n",
    "\n",
    "`lift{A,B} = lift{B,A} = support{A,B} / (support{A} * support{B})`\n",
    "\n",
    "In our example, we compute lift as follows:\n",
    "\n",
    "`lift{apple,egg} = (3/5) / (4/5 * 3/5) = 1.25`\n",
    "\n",
    "One way to understand lift is to think of the denominator as the likelihood that A and B will appear in the same order if there was no relationship between them. In the example above, if apple occurred in 80% of the orders and egg occurred in 60% of the orders, then if there was no relationship between them, we would expect both of them to show up together in the same order 48% of the time (ie: 80% * 60%). The numerator, on the other hand, represents how often apple and egg actually appear together in the same order. In this example, that is 60% of the time. Taking the numerator and dividing it by the denominator, we get to how many more times apple and egg actually appear in the same order, compared to if there was no relationship between them (ie: that they are occurring together simply at random).\n",
    "\n",
    "In summary, lift can take on the following values:\n",
    "\n",
    " * lift = 1 implies no relationship between A and B. \n",
    "   (ie: A and B occur together only by chance)\n",
    "\n",
    " * lift > 1 implies that there is a positive relationship between A and B.\n",
    "   (ie:  A and B occur together more often than random)\n",
    "\n",
    " * lift < 1 implies that there is a negative relationship between A and B.\n",
    "   (ie:  A and B occur together less often than random)\n",
    "   \n",
    "_In our example, apple and egg occur together 1.25 times more than random, so we conclude that there exists a positive relationship between them._\n"
   ]
  },
  {
   "cell_type": "markdown",
   "metadata": {
    "ExecuteTime": {
     "end_time": "2019-06-26T09:25:16.394061Z",
     "start_time": "2019-06-26T09:25:16.369139Z"
    }
   },
   "source": [
    "---"
   ]
  },
  {
   "cell_type": "markdown",
   "metadata": {
    "ExecuteTime": {
     "end_time": "2019-06-26T09:23:58.528975Z",
     "start_time": "2019-06-26T09:23:58.509371Z"
    }
   },
   "source": [
    "## Explain Python Generators\n",
    "\n",
    "In a nutshell, a generator is a special type of function that returns an iterable sequence of items. However, unlike regular functions which return all the values at once (eg: returning all the elements of a list), a generator yields one value at a time. To get the next value in the set, we must ask for it - either by explicitly calling the generator's built-in \"next\" method, or implicitly via a for loop. \n",
    "\n",
    "This is a great property of generators because it means that we don't have to store all of the values in memory at once. We can load and process one value at a time, discard when finished and move on to process the next value. This feature makes generators perfect for creating item pairs and counting their frequency of co-occurence. Here's a concrete example of what we're trying to accomplish:\n",
    "\n",
    "Get all possible item pairs for a given order\n",
    "- order 1:  apple, egg, milk    -->  item pairs: {apple, egg}, {apple, milk}, {egg, milk}\n",
    "- order 2:  egg, milk           -->  item pairs: {egg, milk}\n",
    "\n",
    "Count the number of times each item pair appears\n",
    "- {apple, egg}: 1\n",
    "- {apple, milk}: 1\n",
    "- {egg, milk}: 2\n",
    "\n",
    "Here's the generator that implements the above tasks:"
   ]
  },
  {
   "cell_type": "code",
   "execution_count": 3,
   "metadata": {
    "ExecuteTime": {
     "end_time": "2019-06-26T09:29:44.173210Z",
     "start_time": "2019-06-26T09:29:43.257639Z"
    }
   },
   "outputs": [
    {
     "data": {
      "text/plain": [
       "Counter({('apple', 'egg'): 1, ('apple', 'milk'): 1, ('egg', 'milk'): 2})"
      ]
     },
     "execution_count": 3,
     "metadata": {},
     "output_type": "execute_result"
    }
   ],
   "source": [
    "import numpy as np\n",
    "from itertools import combinations, groupby\n",
    "from collections import Counter\n",
    "\n",
    "# Sample data\n",
    "orders = np.array([[1,'apple'], [1,'egg'], [1,'milk'], [2,'egg'], [2,'milk']], dtype=object)\n",
    "\n",
    "# Generator that yields item pairs, one at a time\n",
    "def get_item_pairs(order_item):\n",
    "    \n",
    "    # For each order, generate a list of items in that order\n",
    "    for order_id, order_object in groupby(orders, lambda x: x[0]):\n",
    "        item_list = [item[1] for item in order_object]      \n",
    "    \n",
    "        # For each item list, generate item pairs, one at a time\n",
    "        for item_pair in combinations(item_list, 2):\n",
    "            yield item_pair                                      \n",
    "\n",
    "\n",
    "# Counter iterates through the item pairs returned by our generator and keeps a tally of their occurrence\n",
    "Counter(get_item_pairs(orders))"
   ]
  },
  {
   "cell_type": "markdown",
   "metadata": {
    "ExecuteTime": {
     "end_time": "2019-06-26T09:30:01.407677Z",
     "start_time": "2019-06-26T09:30:01.380042Z"
    }
   },
   "source": [
    "---"
   ]
  }
 ],
 "metadata": {
  "hide_input": false,
  "kernelspec": {
   "display_name": "Python 3",
   "language": "python",
   "name": "python3"
  },
  "language_info": {
   "codemirror_mode": {
    "name": "ipython",
    "version": 3
   },
   "file_extension": ".py",
   "mimetype": "text/x-python",
   "name": "python",
   "nbconvert_exporter": "python",
   "pygments_lexer": "ipython3",
   "version": "3.7.3"
  },
  "toc": {
   "base_numbering": 1,
   "nav_menu": {},
   "number_sections": true,
   "sideBar": false,
   "skip_h1_title": true,
   "title_cell": "Table of Contents",
   "title_sidebar": "Contents",
   "toc_cell": true,
   "toc_position": {},
   "toc_section_display": true,
   "toc_window_display": false
  }
 },
 "nbformat": 4,
 "nbformat_minor": 2
}
